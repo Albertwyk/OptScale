{
 "cells": [
  {
   "cell_type": "markdown",
   "metadata": {},
   "source": [
    "#### Note that in this version of OptScale 1, we no longer use MuSigmaPredictor for MLE starting point. Instead, we set Mu = 0.8 and Sigma = 0.2 for all datasets, making this a simplified but still effective OptScale."
   ]
  },
  {
   "cell_type": "code",
   "execution_count": 1,
   "metadata": {},
   "outputs": [
    {
     "name": "stderr",
     "output_type": "stream",
     "text": [
      "/home/wangyoukang/anaconda3/envs/test_scale/lib/python3.10/site-packages/tqdm/auto.py:21: TqdmWarning: IProgress not found. Please update jupyter and ipywidgets. See https://ipywidgets.readthedocs.io/en/stable/user_install.html\n",
      "  from .autonotebook import tqdm as notebook_tqdm\n"
     ]
    },
    {
     "name": "stdout",
     "output_type": "stream",
     "text": [
      "Using device: cuda:1\n"
     ]
    }
   ],
   "source": [
    "import json\n",
    "import torch\n",
    "import torch.nn as nn\n",
    "from torch.utils.data import Dataset, DataLoader\n",
    "from transformers import AutoModel, AutoTokenizer\n",
    "import numpy as np\n",
    "import matplotlib.pyplot as plt\n",
    "from scipy.stats import norm\n",
    "from scipy.optimize import root\n",
    "from scipy.optimize import minimize\n",
    "from tqdm import tqdm\n",
    "import os \n",
    "\n",
    "from utils import *\n",
    "\n",
    "# Set random seed for reproducibility (same as in train_predictor_initial.py)\n",
    "torch.manual_seed(42)\n",
    "np.random.seed(42)\n",
    "\n",
    "\n",
    "device = torch.device('cuda:1' if torch.cuda.is_available() else 'cpu')\n",
    "print(f\"Using device: {device}\")\n",
    "\n",
    "DATASET = 'AMC23'"
   ]
  },
  {
   "cell_type": "code",
   "execution_count": 2,
   "metadata": {},
   "outputs": [
    {
     "name": "stdout",
     "output_type": "stream",
     "text": [
      "Total dataset size: 40\n",
      "Validation size: 40\n",
      "Predicting mu/sigma parameters using QwenMuSigmaPredictor...\n",
      "Qwen2Model(\n",
      "  (embed_tokens): Embedding(151936, 1536)\n",
      "  (layers): ModuleList(\n",
      "    (0-27): 28 x Qwen2DecoderLayer(\n",
      "      (self_attn): Qwen2Attention(\n",
      "        (q_proj): Linear(in_features=1536, out_features=1536, bias=True)\n",
      "        (k_proj): Linear(in_features=1536, out_features=256, bias=True)\n",
      "        (v_proj): Linear(in_features=1536, out_features=256, bias=True)\n",
      "        (o_proj): Linear(in_features=1536, out_features=1536, bias=False)\n",
      "      )\n",
      "      (mlp): Qwen2MLP(\n",
      "        (gate_proj): Linear(in_features=1536, out_features=8960, bias=False)\n",
      "        (up_proj): Linear(in_features=1536, out_features=8960, bias=False)\n",
      "        (down_proj): Linear(in_features=8960, out_features=1536, bias=False)\n",
      "        (act_fn): SiLU()\n",
      "      )\n",
      "      (input_layernorm): Qwen2RMSNorm((1536,), eps=1e-06)\n",
      "      (post_attention_layernorm): Qwen2RMSNorm((1536,), eps=1e-06)\n",
      "    )\n",
      "  )\n",
      "  (norm): Qwen2RMSNorm((1536,), eps=1e-06)\n",
      "  (rotary_emb): Qwen2RotaryEmbedding()\n",
      ")\n"
     ]
    }
   ],
   "source": [
    "# Initialize tokenizer - same model as in train_predictor_initial.py\n",
    "model_name = \"deepseek-ai/DeepSeek-R1-Distill-Qwen-1.5B\"\n",
    "tokenizer = AutoTokenizer.from_pretrained(model_name, use_fast=True)\n",
    "tokenizer.pad_token = tokenizer.eos_token\n",
    "\n",
    "def load_validation_data(batch_size=16):\n",
    "    with open('../../Data/test_prompts/amc23.json', 'r') as f:\n",
    "        dataset = json.load(f)\n",
    "        \n",
    "    with open('../../Data/all_qwen3_8b/parallel/scored_amc23_qwen3.json', 'r') as f:\n",
    "        completion_data = json.load(f)\n",
    "    \n",
    "    # Prepare data\n",
    "    texts = [item['problem'] for item in dataset]\n",
    "    gt_answers = [item['answer'] for item in dataset]\n",
    "    completions = [item['score']['completions'] for item in completion_data]\n",
    "    completion_tokens = [item['score']['completion_tokens'] for item in completion_data]\n",
    "    scores = [item['score']['scores'] for item in completion_data]\n",
    "    \n",
    "    val_texts = texts\n",
    "    val_gt_answers = gt_answers\n",
    "    val_completions = completions\n",
    "    val_completion_tokens = completion_tokens\n",
    "    val_scores = scores\n",
    "    \n",
    "    print(f\"Total dataset size: {len(texts)}\")\n",
    "    print(f\"Validation size: {len(val_texts)}\")\n",
    "    \n",
    "    # Load or predict mu/sigma parameters\n",
    "    if os.path.exists(f'{DATASET}_train_mu_sigma.json'):\n",
    "        print(\"Loading existing mu/sigma parameters...\")\n",
    "        with open(f'{DATASET}_train_mu_sigma.json', 'r') as f:\n",
    "            val_labels = json.load(f)\n",
    "    else:\n",
    "        print(\"Predicting mu/sigma parameters using QwenMuSigmaPredictor...\")\n",
    "        \n",
    "        # Clear GPU cache before loading model\n",
    "        torch.cuda.empty_cache()\n",
    "        \n",
    "        # Load model on CPU first to avoid GPU memory issues\n",
    "        # print(\"Loading model on CPU first...\")\n",
    "        model = QwenMuSigmaPredictor(model_name).to(device)\n",
    "        \n",
    "        # Load checkpoint on CPU\n",
    "        checkpoint_path = '/home/wangyoukang/Desktop/Test-time Scaling/large-scale_testing/Qwen_Predictor_Training/best_predictor_model_direct_qwen_real.pt'\n",
    "        checkpoint = torch.load(checkpoint_path, map_location='cpu')\n",
    "        model.load_state_dict(checkpoint)\n",
    "        \n",
    "        # # Move model to GPU after loading checkpoint\n",
    "        # print(\"Moving model to GPU...\")\n",
    "        # model = model.to(device)\n",
    "        # model.eval()\n",
    "        \n",
    "        # # Clear CPU cache\n",
    "        # del checkpoint\n",
    "        # torch.cuda.empty_cache()\n",
    "        \n",
    "        # Create dataset and dataloader for prediction\n",
    "        val_dataset = TextDatasetNoLabels(val_texts, tokenizer)\n",
    "        val_loader = DataLoader(val_dataset, batch_size=batch_size)\n",
    "        \n",
    "        # Make predictions\n",
    "        val_labels = []\n",
    "        with torch.no_grad():\n",
    "            for batch in val_loader:\n",
    "                input_ids = batch['input_ids'].to(device)\n",
    "                attention_mask = batch['attention_mask'].to(device)\n",
    "                outputs = model(input_ids, attention_mask)\n",
    "                val_labels.extend(outputs.cpu().numpy().tolist())\n",
    "        \n",
    "        # Save predictions\n",
    "        with open(f'{DATASET}_train_mu_sigma.json', 'w') as f:\n",
    "            json.dump(val_labels, f)\n",
    "            \n",
    "    # Create validation dataset and dataloader\n",
    "    val_dataset = TextDataset(val_texts, val_labels, tokenizer)\n",
    "    val_loader = DataLoader(val_dataset, batch_size=batch_size)\n",
    "    \n",
    "    return val_loader, val_texts, val_gt_answers, val_completions, val_completion_tokens, val_scores, val_labels, tokenizer\n",
    "\n",
    "# Load validation data\n",
    "val_loader, val_texts, val_gt_answers, val_completions, val_completion_tokens, val_scores, val_labels, tokenizer = load_validation_data()\n"
   ]
  },
  {
   "cell_type": "code",
   "execution_count": 3,
   "metadata": {},
   "outputs": [
    {
     "name": "stderr",
     "output_type": "stream",
     "text": [
      "/home/wangyoukang/anaconda3/envs/test_scale/lib/python3.10/site-packages/scipy/optimize/_numdiff.py:596: RuntimeWarning: invalid value encountered in subtract\n",
      "  df = fun(x1) - f0\n"
     ]
    },
    {
     "name": "stdout",
     "output_type": "stream",
     "text": [
      "\n",
      "Comparison of Estimation Methods (first 10 examples):\n",
      "ID   Predictor_μ   Predictor_σ  MLE_μ     MLE_σ     MAP_μ     MAP_σ     GT_μ      GT_σ\n",
      "------------------------------------------------------------------------------------------\n",
      "0         0.5888      0.1438    0.9934    0.0008    0.7846    0.1998    0.9922    0.0050\n",
      "1         0.4565      0.0747    0.9850    0.0021    0.6558    0.2331    0.9860    0.0058\n",
      "2         0.4358      0.0651    0.9820    0.0019    0.6353    0.2375    0.9771    0.0074\n",
      "3         0.4280      0.0684    0.9443    0.0294    0.6278    0.2248    0.9584    0.0262\n",
      "4         0.5449      0.1461    0.9489    0.0207    0.7283    0.2054    0.9009    0.1016\n",
      "5         0.4186      0.0189    0.9227    0.0202    0.6472    0.1954    0.9237    0.1176\n",
      "6         0.6573      0.1089    0.6206    0.0826    0.6278    0.0858    0.7029    0.0685\n",
      "7         0.6261      0.1181    0.6733    0.0504    0.6691    0.0538    0.6548    0.0874\n",
      "8         0.2787      0.0185    0.6652    0.0543    0.5908    0.0846    0.6930    0.0705\n",
      "9         0.5441      0.1487    0.9896    0.0016    0.7239    0.2293    0.9890    0.0050\n",
      "10        0.5938      0.1681    0.9254    0.0191    0.7814    0.1676    0.8563    0.0967\n",
      "11        0.6530      0.1204    0.5636    0.0314    0.5668    0.0332    0.5822    0.0567\n",
      "12        0.5296      0.0930    0.9655    0.1123    0.7332    0.1636    1.1758    0.2108\n",
      "13        0.2844      0.0026    0.7446    0.0293    0.5396    0.1555    0.6901    0.0383\n",
      "14        0.6301      0.1024    0.9393    0.0161    0.9330    0.0612    0.9173    0.0391\n",
      "15        0.5203      0.1140   46.0020    2.6942    0.6641    0.2039    1.0188    0.2194\n",
      "16        0.2971      0.1167    0.9507    0.0283    0.4464    0.3107    0.9569    0.0339\n",
      "17        0.4425      0.1136    0.9757    0.0192    0.6202    0.2538    2.9191    0.2626\n",
      "18        0.6358      0.1159    0.5420    0.0050    0.5351    0.0076    0.5819    0.0822\n",
      "19        0.6854      0.1171    0.9877    0.0041    0.8724    0.1162    0.9882    0.0038\n",
      "20        0.6355      0.1344    0.6532    0.0094    0.6507    0.0099    0.6261    0.0382\n",
      "21        0.4173      0.0735    0.9777    0.0078    0.6088    0.2485    1.3136    0.1551\n",
      "22        0.6556      0.1417    0.9818    0.0051    0.8939    0.1291    0.9811    0.0055\n",
      "23        0.7407      0.1083    0.9613    0.0179    0.9369    0.0288    0.9400    0.0363\n",
      "24        0.6906      0.0796    0.9779    0.0050    0.9624    0.0169    0.9899    0.0615\n",
      "25        0.5334      0.1168    0.9883    0.0009    0.7289    0.2154    0.9987    0.0226\n",
      "26        0.7286      0.0873    0.9643    0.0121    0.9602    0.0149    0.9726    0.0094\n",
      "27        0.4190      0.0828    0.5581    0.0188    0.5401    0.0231    0.5745    0.0793\n",
      "28        0.4632      0.0812    0.7431    0.1608    0.6064    0.1590    0.6906    0.1164\n",
      "29        0.6458      0.1337    1.9233    0.4603    0.7512    0.1721    1.8034    0.2713\n",
      "30        0.6560      0.1068    0.9841    0.0035    0.9221    0.0950    0.9844    0.0074\n",
      "31        0.5765      0.1208    0.6541    0.0736    0.6407    0.0792    0.6138    0.0452\n",
      "32        0.6620      0.0940    0.7630    0.0470    0.7554    0.0495    0.7696    0.0582\n",
      "33        0.7607      0.1361    0.9841    0.0059    0.9861    0.0068    0.9834    0.0071\n",
      "34        0.4495      0.1040    0.9857    0.0016    0.6327    0.2514    0.9844    0.0047\n",
      "35        0.6292      0.1057    0.7336    0.0153    0.7519    0.0301    0.7366    0.1007\n",
      "36        0.5142      0.0696    0.7870    0.0782    0.7214    0.0974    0.7483    0.0962\n",
      "37        0.4586      0.0650    0.6533    0.1009    0.5999    0.1064    0.6356    0.0678\n",
      "38        0.6418      0.1119    0.9624    0.0708    0.8943    0.0720    0.9408    0.0989\n",
      "39        0.5809      0.1207    0.5775    0.0506    0.5809    0.1207    0.5846    0.0766\n",
      "\n",
      "Performance Comparison (MSE against ground truth):\n",
      "Predictor MSE - μ: 0.319919, σ: 0.006766\n",
      "MLE MSE      - μ: 50.686607, σ: 0.157591\n",
      "MAP MSE      - μ: 0.207736, σ: 0.013143\n",
      "\n",
      "Statistics of Different Estimation Methods:\n",
      "Predictor Estimates:\n",
      "Mean μ: 0.5527 ± 0.1225\n",
      "Mean σ: 0.1012 ± 0.0352\n",
      "\n",
      "MLE Estimates (10 samples):\n",
      "Mean μ: 2.0034 ± 7.0491\n",
      "Mean σ: 0.1092 ± 0.4208\n",
      "\n",
      "MAP Estimates (10 samples):\n",
      "Mean μ: 0.7127 ± 0.1374\n",
      "Mean σ: 0.1287 ± 0.0856\n",
      "\n",
      "Ground Truth (100 samples):\n",
      "Mean μ: 0.9334 ± 0.3918\n",
      "Mean σ: 0.0724 ± 0.0684\n"
     ]
    }
   ],
   "source": [
    "# Ground truth parameters (using full data)\n",
    "original_params_compare = []\n",
    "for idx, score in enumerate(val_scores):\n",
    "    data = np.array(score[0][:100])\n",
    "    initial_mu = np.mean(data)\n",
    "    initial_sigma = np.std(data)\n",
    "    result = minimize(lambda params: neg_log_likelihood(params, data), \n",
    "                     [initial_mu, initial_sigma],\n",
    "                     bounds=[(None, None), (1e-6, None)], \n",
    "                     method='L-BFGS-B')\n",
    "    mu_hat, sigma_hat = result.x\n",
    "    original_params_compare.append((mu_hat, sigma_hat))\n",
    "\n",
    "# Estimates using limited data (first 10 samples)\n",
    "mle_estimated_params = []  # Store MLE estimates\n",
    "map_estimated_params = []  # Store MAP estimates\n",
    "predictor_params = []      # Store predictor's estimates\n",
    "\n",
    "print(\"\\nComparison of Estimation Methods (first 10 examples):\")\n",
    "print(\"ID   Predictor_μ   Predictor_σ  MLE_μ     MLE_σ     MAP_μ     MAP_σ     GT_μ      GT_σ\")\n",
    "print(\"-\" * 90)\n",
    "\n",
    "peek_number = 3\n",
    "\n",
    "for i, (score, prediction) in enumerate(zip(val_scores, val_labels)):\n",
    "    peek_data = np.array(score[0][:peek_number])\n",
    "    \n",
    "    # Store predictor's parameters\n",
    "    prior_mu, prior_sigma = prediction\n",
    "    predictor_params.append((prior_mu, prior_sigma))\n",
    "    \n",
    "    # MLE estimation with limited data\n",
    "    initial_mu = np.mean(peek_data)\n",
    "    initial_sigma = np.std(peek_data)\n",
    "    mle_result = minimize(\n",
    "        lambda params: neg_log_likelihood(params, peek_data),\n",
    "        [initial_mu, initial_sigma],\n",
    "        bounds=[(None, None), (1e-6, None)],\n",
    "        method='L-BFGS-B'\n",
    "    )\n",
    "    mle_mu, mle_sigma = mle_result.x\n",
    "    mle_estimated_params.append((mle_mu, mle_sigma))\n",
    "    \n",
    "    # MAP estimation with limited data\n",
    "    map_result = minimize(\n",
    "        lambda params: neg_log_posterior(\n",
    "            params, \n",
    "            peek_data, \n",
    "            prior_mu=prior_mu, \n",
    "            prior_sigma=prior_sigma\n",
    "        ),\n",
    "        [prior_mu, prior_sigma],\n",
    "        bounds=[(None, None), (1e-6, None)],\n",
    "        method='L-BFGS-B'\n",
    "    )\n",
    "    map_mu, map_sigma = map_result.x\n",
    "    map_estimated_params.append((map_mu, map_sigma))\n",
    "    \n",
    "    # Print comparison for first 50 examples\n",
    "    if i < 50:\n",
    "        gt_mu, gt_sigma = original_params_compare[i]\n",
    "        print(f\"{i:<4} {prior_mu:11.4f} {prior_sigma:11.4f} {mle_mu:9.4f} {mle_sigma:9.4f} \"\n",
    "              f\"{map_mu:9.4f} {map_sigma:9.4f} {gt_mu:9.4f} {gt_sigma:9.4f}\")\n",
    "\n",
    "# Call the function to perform the analysis\n",
    "analyze_estimation_performance(predictor_params, mle_estimated_params, map_estimated_params, original_params_compare)\n"
   ]
  },
  {
   "cell_type": "code",
   "execution_count": 4,
   "metadata": {},
   "outputs": [],
   "source": [
    "# Load baseline results\n",
    "with open(f'{DATASET}_BoN_results.json', 'r') as f:\n",
    "    data = json.load(f)\n",
    "\n",
    "# Reconstruct the baseline arrays\n",
    "baseline_accuracy_values = []\n",
    "baseline_average_token_counts = []\n",
    "\n",
    "for item in data:\n",
    "    baseline_accuracy_values.append(item['accuracy'])\n",
    "    baseline_average_token_counts.append(item['token_count'])"
   ]
  },
  {
   "cell_type": "code",
   "execution_count": 5,
   "metadata": {},
   "outputs": [
    {
     "name": "stdout",
     "output_type": "stream",
     "text": [
      "Target Score Panel: [0.75, 0.8, 0.85, 0.9, 0.925, 0.95, 0.975]\n",
      "Percentile Panel: [0.01, 0.02, 0.035, 0.05, 0.075, 0.1]\n",
      "Max N: 8\n",
      "\n",
      "Evaluating MLE Results...\n"
     ]
    },
    {
     "name": "stderr",
     "output_type": "stream",
     "text": [
      "Target Score (MLE):   0%|          | 0/7 [00:00<?, ?it/s]"
     ]
    },
    {
     "name": "stdout",
     "output_type": "stream",
     "text": [
      "MLE Min N Required [3, 3, 3, 3, 3, 3, 8, 8, 8, 3, 3, 8, 3, 8, 3, 3, 3, 3, 8, 3, 8, 3, 3, 3, 3, 3, 3, 8, 8, 4, 3, 8, 5, 3, 3, 8, 5, 8, 3, 8]\n"
     ]
    },
    {
     "name": "stderr",
     "output_type": "stream",
     "text": []
    },
    {
     "name": "stdout",
     "output_type": "stream",
     "text": [
      "MLE - Target Score: 0.75, Percentile: 0.01\n",
      "MLE - Accuracy: 0.9000, Average Token Count: 39554.18\n",
      "MLE Min N Required [3, 3, 3, 3, 3, 3, 8, 8, 8, 3, 3, 8, 3, 8, 3, 3, 3, 3, 8, 3, 8, 3, 3, 3, 3, 3, 3, 8, 7, 3, 3, 8, 5, 3, 3, 8, 4, 8, 3, 8]\n",
      "MLE - Target Score: 0.75, Percentile: 0.02\n",
      "MLE - Accuracy: 0.9000, Average Token Count: 38891.72\n",
      "MLE Min N Required [3, 3, 3, 3, 3, 3, 8, 8, 8, 3, 3, 8, 3, 7, 3, 3, 3, 3, 8, 3, 8, 3, 3, 3, 3, 3, 3, 8, 6, 3, 3, 8, 4, 3, 3, 8, 3, 8, 3, 8]\n"
     ]
    },
    {
     "name": "stderr",
     "output_type": "stream",
     "text": []
    },
    {
     "name": "stdout",
     "output_type": "stream",
     "text": [
      "MLE - Target Score: 0.75, Percentile: 0.035\n",
      "MLE - Accuracy: 0.9000, Average Token Count: 37929.60\n",
      "MLE Min N Required [3, 3, 3, 3, 3, 3, 8, 8, 8, 3, 3, 8, 3, 6, 3, 3, 3, 3, 8, 3, 8, 3, 3, 3, 3, 3, 3, 8, 5, 3, 3, 8, 4, 3, 3, 8, 3, 8, 3, 8]\n",
      "MLE - Target Score: 0.75, Percentile: 0.05\n",
      "MLE - Accuracy: 0.9000, Average Token Count: 37410.05\n"
     ]
    },
    {
     "name": "stderr",
     "output_type": "stream",
     "text": [
      "Target Score (MLE):  14%|█▍        | 1/7 [00:00<00:02,  2.42it/s]"
     ]
    },
    {
     "name": "stdout",
     "output_type": "stream",
     "text": [
      "MLE Min N Required [3, 3, 3, 3, 3, 3, 8, 8, 8, 3, 3, 8, 3, 5, 3, 3, 3, 3, 8, 3, 8, 3, 3, 3, 3, 3, 3, 8, 5, 3, 3, 8, 3, 3, 3, 8, 3, 8, 3, 8]\n",
      "MLE - Target Score: 0.75, Percentile: 0.075\n",
      "MLE - Accuracy: 0.9000, Average Token Count: 36836.28\n",
      "MLE Min N Required [3, 3, 3, 3, 3, 3, 8, 8, 8, 3, 3, 8, 3, 5, 3, 3, 3, 3, 8, 3, 8, 3, 3, 3, 3, 3, 3, 8, 4, 3, 3, 8, 3, 3, 3, 8, 3, 8, 3, 8]\n",
      "MLE - Target Score: 0.75, Percentile: 0.1\n",
      "MLE - Accuracy: 0.9000, Average Token Count: 36617.55\n"
     ]
    },
    {
     "name": "stderr",
     "output_type": "stream",
     "text": [
      "\n"
     ]
    },
    {
     "name": "stdout",
     "output_type": "stream",
     "text": [
      "MLE Min N Required [3, 3, 3, 3, 3, 3, 8, 8, 8, 3, 3, 8, 3, 8, 3, 4, 3, 3, 8, 3, 8, 3, 3, 3, 3, 3, 3, 8, 8, 5, 3, 8, 8, 3, 3, 8, 8, 8, 3, 8]\n",
      "MLE - Target Score: 0.8, Percentile: 0.01\n",
      "MLE - Accuracy: 0.9000, Average Token Count: 41296.05\n",
      "MLE Min N Required [3, 3, 3, 3, 3, 3, 8, 8, 8, 3, 3, 8, 3, 8, 3, 4, 3, 3, 8, 3, 8, 3, 3, 3, 3, 3, 3, 8, 8, 4, 3, 8, 8, 3, 3, 8, 7, 8, 3, 8]\n",
      "MLE - Target Score: 0.8, Percentile: 0.02\n",
      "MLE - Accuracy: 0.9000, Average Token Count: 40962.10\n"
     ]
    },
    {
     "name": "stderr",
     "output_type": "stream",
     "text": [
      "Percentile:  33%|███▎      | 2/6 [00:00<00:00, 16.08it/s]\u001b[A"
     ]
    },
    {
     "name": "stdout",
     "output_type": "stream",
     "text": [
      "MLE Min N Required [3, 3, 3, 3, 3, 3, 8, 8, 8, 3, 3, 8, 3, 8, 3, 3, 3, 3, 8, 3, 8, 3, 3, 3, 3, 3, 3, 8, 8, 3, 3, 8, 8, 3, 3, 8, 6, 8, 3, 8]\n",
      "MLE - Target Score: 0.8, Percentile: 0.035\n",
      "MLE - Accuracy: 0.9000, Average Token Count: 40417.47\n",
      "MLE Min N Required [3, 3, 3, 3, 3, 3, 8, 8, 8, 3, 3, 8, 3, 8, 3, 3, 3, 3, 8, 3, 8, 3, 3, 3, 3, 3, 3, 8, 8, 3, 3, 8, 8, 3, 3, 8, 6, 8, 3, 8]\n"
     ]
    },
    {
     "name": "stderr",
     "output_type": "stream",
     "text": [
      "Target Score (MLE):  29%|██▊       | 2/7 [00:00<00:01,  2.58it/s]"
     ]
    },
    {
     "name": "stdout",
     "output_type": "stream",
     "text": [
      "MLE - Target Score: 0.8, Percentile: 0.05\n",
      "MLE - Accuracy: 0.9000, Average Token Count: 40417.47\n",
      "MLE Min N Required [3, 3, 3, 3, 3, 3, 8, 8, 8, 3, 3, 8, 3, 8, 3, 3, 3, 3, 8, 3, 8, 3, 3, 3, 3, 3, 3, 8, 7, 3, 3, 8, 8, 3, 3, 8, 5, 8, 3, 8]\n",
      "MLE - Target Score: 0.8, Percentile: 0.075\n",
      "MLE - Accuracy: 0.9000, Average Token Count: 39950.60\n",
      "MLE Min N Required [3, 3, 3, 3, 3, 3, 8, 8, 8, 3, 3, 8, 3, 8, 3, 3, 3, 3, 8, 3, 8, 3, 3, 3, 3, 3, 3, 8, 6, 3, 3, 8, 8, 3, 3, 8, 5, 8, 3, 8]\n",
      "MLE - Target Score: 0.8, Percentile: 0.1\n",
      "MLE - Accuracy: 0.9000, Average Token Count: 39794.35\n"
     ]
    },
    {
     "name": "stderr",
     "output_type": "stream",
     "text": []
    },
    {
     "name": "stdout",
     "output_type": "stream",
     "text": [
      "MLE Min N Required [3, 3, 3, 3, 3, 3, 8, 8, 8, 3, 3, 8, 4, 8, 3, 5, 3, 3, 8, 3, 8, 3, 3, 3, 3, 3, 3, 8, 8, 6, 3, 8, 8, 3, 3, 8, 8, 8, 3, 8]\n",
      "MLE - Target Score: 0.85, Percentile: 0.01\n",
      "MLE - Accuracy: 0.9000, Average Token Count: 41718.88\n"
     ]
    },
    {
     "name": "stderr",
     "output_type": "stream",
     "text": []
    },
    {
     "name": "stdout",
     "output_type": "stream",
     "text": [
      "MLE Min N Required [3, 3, 3, 3, 3, 3, 8, 8, 8, 3, 3, 8, 3, 8, 3, 5, 3, 3, 8, 3, 8, 3, 3, 3, 3, 3, 3, 8, 8, 5, 3, 8, 8, 3, 3, 8, 8, 8, 3, 8]\n",
      "MLE - Target Score: 0.85, Percentile: 0.02\n",
      "MLE - Accuracy: 0.9000, Average Token Count: 41415.55\n",
      "MLE Min N Required [3, 3, 3, 3, 3, 3, 8, 8, 8, 3, 3, 8, 3, 8, 3, 4, 3, 3, 8, 3, 8, 3, 3, 3, 3, 3, 3, 8, 8, 5, 3, 8, 8, 3, 3, 8, 8, 8, 3, 8]\n",
      "MLE - Target Score: 0.85, Percentile: 0.035\n",
      "MLE - Accuracy: 0.9000, Average Token Count: 41296.05\n",
      "MLE Min N Required [3, 3, 3, 3, 3, 3, 8, 8, 8, 3, 3, 8, 3, 8, 3, 4, 3, 3, 8, 3, 8, 3, 3, 3, 3, 3, 3, 8, 8, 4, 3, 8, 8, 3, 3, 8, 8, 8, 3, 8]\n"
     ]
    },
    {
     "name": "stderr",
     "output_type": "stream",
     "text": []
    },
    {
     "name": "stdout",
     "output_type": "stream",
     "text": [
      "MLE - Target Score: 0.85, Percentile: 0.05\n",
      "MLE - Accuracy: 0.9000, Average Token Count: 41173.05\n",
      "MLE Min N Required [3, 3, 3, 3, 3, 3, 8, 8, 8, 3, 3, 8, 3, 8, 3, 3, 3, 3, 8, 3, 8, 3, 3, 3, 3, 3, 3, 8, 8, 4, 3, 8, 8, 3, 3, 8, 8, 8, 3, 8]\n",
      "MLE - Target Score: 0.85, Percentile: 0.075\n",
      "MLE - Accuracy: 0.9000, Average Token Count: 41063.97\n"
     ]
    },
    {
     "name": "stderr",
     "output_type": "stream",
     "text": [
      "Target Score (MLE):  43%|████▎     | 3/7 [00:01<00:01,  2.63it/s]"
     ]
    },
    {
     "name": "stdout",
     "output_type": "stream",
     "text": [
      "MLE Min N Required [3, 3, 3, 3, 3, 3, 8, 8, 8, 3, 3, 8, 3, 8, 3, 3, 3, 3, 8, 3, 8, 3, 3, 3, 3, 3, 3, 8, 8, 3, 3, 8, 8, 3, 3, 8, 8, 8, 3, 8]\n",
      "MLE - Target Score: 0.85, Percentile: 0.1\n",
      "MLE - Accuracy: 0.9000, Average Token Count: 40855.53\n"
     ]
    },
    {
     "name": "stderr",
     "output_type": "stream",
     "text": []
    },
    {
     "name": "stdout",
     "output_type": "stream",
     "text": [
      "MLE Min N Required [3, 3, 3, 3, 3, 3, 8, 8, 8, 3, 3, 8, 6, 8, 3, 8, 3, 3, 8, 3, 8, 3, 3, 3, 3, 3, 3, 8, 8, 8, 3, 8, 8, 3, 3, 8, 8, 8, 4, 8]\n",
      "MLE - Target Score: 0.9, Percentile: 0.01\n",
      "MLE - Accuracy: 0.9000, Average Token Count: 42926.35\n"
     ]
    },
    {
     "name": "stderr",
     "output_type": "stream",
     "text": []
    },
    {
     "name": "stdout",
     "output_type": "stream",
     "text": [
      "MLE Min N Required [3, 3, 3, 3, 3, 3, 8, 8, 8, 3, 3, 8, 5, 8, 3, 7, 3, 3, 8, 3, 8, 3, 3, 3, 3, 3, 3, 8, 8, 8, 3, 8, 8, 3, 3, 8, 8, 8, 3, 8]\n",
      "MLE - Target Score: 0.9, Percentile: 0.02\n",
      "MLE - Accuracy: 0.9000, Average Token Count: 42536.40\n",
      "MLE Min N Required [3, 3, 3, 3, 3, 3, 8, 8, 8, 3, 3, 8, 5, 8, 3, 6, 3, 3, 8, 3, 8, 3, 3, 3, 3, 3, 3, 8, 8, 7, 3, 8, 8, 3, 3, 8, 8, 8, 3, 8]\n",
      "MLE - Target Score: 0.9, Percentile: 0.035\n",
      "MLE - Accuracy: 0.9000, Average Token Count: 42241.65\n",
      "MLE Min N Required [3, 3, 3, 3, 3, 3, 8, 8, 8, 3, 3, 8, 4, 8, 3, 5, 3, 3, 8, 3, 8, 3, 3, 3, 3, 3, 3, 8, 8, 6, 3, 8, 8, 3, 3, 8, 8, 8, 3, 8]\n"
     ]
    },
    {
     "name": "stderr",
     "output_type": "stream",
     "text": []
    },
    {
     "name": "stdout",
     "output_type": "stream",
     "text": [
      "MLE - Target Score: 0.9, Percentile: 0.05\n",
      "MLE - Accuracy: 0.9000, Average Token Count: 41718.88\n",
      "MLE Min N Required [3, 3, 3, 3, 3, 3, 8, 8, 8, 3, 3, 8, 4, 8, 3, 5, 3, 3, 8, 3, 8, 3, 3, 3, 3, 3, 3, 8, 8, 5, 3, 8, 8, 3, 3, 8, 8, 8, 3, 8]\n",
      "MLE - Target Score: 0.9, Percentile: 0.075\n",
      "MLE - Accuracy: 0.9000, Average Token Count: 41569.38\n",
      "MLE Min N Required [3, 3, 3, 3, 3, 3, 8, 8, 8, 3, 3, 8, 3, 8, 3, 4, 3, 3, 8, 3, 8, 3, 3, 3, 3, 3, 3, 8, 8, 5, 3, 8, 8, 3, 3, 8, 8, 8, 3, 8]\n"
     ]
    },
    {
     "name": "stderr",
     "output_type": "stream",
     "text": [
      "Target Score (MLE):  57%|█████▋    | 4/7 [00:01<00:01,  2.60it/s]"
     ]
    },
    {
     "name": "stdout",
     "output_type": "stream",
     "text": [
      "MLE - Target Score: 0.9, Percentile: 0.1\n",
      "MLE - Accuracy: 0.9000, Average Token Count: 41296.05\n"
     ]
    },
    {
     "name": "stderr",
     "output_type": "stream",
     "text": []
    },
    {
     "name": "stdout",
     "output_type": "stream",
     "text": [
      "MLE Min N Required [3, 3, 3, 4, 3, 8, 8, 8, 8, 3, 7, 8, 8, 8, 3, 8, 3, 3, 8, 3, 8, 3, 3, 3, 3, 3, 3, 8, 8, 8, 3, 8, 8, 3, 3, 8, 8, 8, 6, 8]\n",
      "MLE - Target Score: 0.925, Percentile: 0.01\n",
      "MLE - Accuracy: 0.9000, Average Token Count: 45359.93\n",
      "MLE Min N Required [3, 3, 3, 3, 3, 7, 8, 8, 8, 3, 6, 8, 8, 8, 3, 8, 3, 3, 8, 3, 8, 3, 3, 3, 3, 3, 3, 8, 8, 8, 3, 8, 8, 3, 3, 8, 8, 8, 5, 8]\n"
     ]
    },
    {
     "name": "stderr",
     "output_type": "stream",
     "text": []
    },
    {
     "name": "stdout",
     "output_type": "stream",
     "text": [
      "MLE - Target Score: 0.925, Percentile: 0.02\n",
      "MLE - Accuracy: 0.9000, Average Token Count: 44721.55\n",
      "MLE Min N Required [3, 3, 3, 3, 3, 6, 8, 8, 8, 3, 5, 8, 7, 8, 3, 8, 3, 3, 8, 3, 8, 3, 3, 3, 3, 3, 3, 8, 8, 8, 3, 8, 8, 3, 3, 8, 8, 8, 4, 8]\n",
      "MLE - Target Score: 0.925, Percentile: 0.035\n",
      "MLE - Accuracy: 0.9000, Average Token Count: 44039.80\n",
      "MLE Min N Required [3, 3, 3, 3, 3, 6, 8, 8, 8, 3, 5, 8, 6, 8, 3, 7, 3, 3, 8, 3, 8, 3, 3, 3, 3, 3, 3, 8, 8, 8, 3, 8, 8, 3, 3, 8, 8, 8, 4, 8]\n"
     ]
    },
    {
     "name": "stderr",
     "output_type": "stream",
     "text": []
    },
    {
     "name": "stdout",
     "output_type": "stream",
     "text": [
      "MLE - Target Score: 0.925, Percentile: 0.05\n",
      "MLE - Accuracy: 0.9000, Average Token Count: 43764.32\n",
      "MLE Min N Required [3, 3, 3, 3, 3, 5, 8, 8, 8, 3, 4, 8, 5, 8, 3, 6, 3, 3, 8, 3, 8, 3, 3, 3, 3, 3, 3, 8, 8, 7, 3, 8, 8, 3, 3, 8, 8, 8, 4, 8]\n",
      "MLE - Target Score: 0.925, Percentile: 0.075\n",
      "MLE - Accuracy: 0.9000, Average Token Count: 42930.12\n"
     ]
    },
    {
     "name": "stderr",
     "output_type": "stream",
     "text": [
      "Target Score (MLE):  71%|███████▏  | 5/7 [00:01<00:00,  2.49it/s]"
     ]
    },
    {
     "name": "stdout",
     "output_type": "stream",
     "text": [
      "MLE Min N Required [3, 3, 3, 3, 3, 4, 8, 8, 8, 3, 4, 8, 5, 8, 3, 5, 3, 3, 8, 3, 8, 3, 3, 3, 3, 3, 3, 8, 8, 6, 3, 8, 8, 3, 3, 8, 8, 8, 3, 8]\n",
      "MLE - Target Score: 0.925, Percentile: 0.1\n",
      "MLE - Accuracy: 0.9000, Average Token Count: 42227.28\n"
     ]
    },
    {
     "name": "stderr",
     "output_type": "stream",
     "text": []
    },
    {
     "name": "stdout",
     "output_type": "stream",
     "text": [
      "MLE Min N Required [3, 3, 3, 8, 8, 8, 8, 8, 8, 3, 8, 8, 8, 8, 8, 8, 7, 3, 8, 3, 8, 3, 3, 4, 3, 3, 3, 8, 8, 8, 3, 8, 8, 3, 3, 8, 8, 8, 8, 8]\n",
      "MLE - Target Score: 0.95, Percentile: 0.01\n",
      "MLE - Accuracy: 0.9000, Average Token Count: 48613.20\n"
     ]
    },
    {
     "name": "stderr",
     "output_type": "stream",
     "text": []
    },
    {
     "name": "stdout",
     "output_type": "stream",
     "text": [
      "MLE Min N Required [3, 3, 3, 8, 7, 8, 8, 8, 8, 3, 8, 8, 8, 8, 8, 8, 6, 3, 8, 3, 8, 3, 3, 4, 3, 3, 3, 8, 8, 8, 3, 8, 8, 3, 3, 8, 8, 8, 8, 8]\n",
      "MLE - Target Score: 0.95, Percentile: 0.02\n",
      "MLE - Accuracy: 0.9000, Average Token Count: 48279.12\n",
      "MLE Min N Required [3, 3, 3, 7, 6, 8, 8, 8, 8, 3, 8, 8, 8, 8, 8, 8, 6, 3, 8, 3, 8, 3, 3, 3, 3, 3, 3, 8, 8, 8, 3, 8, 8, 3, 3, 8, 8, 8, 7, 8]\n",
      "MLE - Target Score: 0.95, Percentile: 0.035\n",
      "MLE - Accuracy: 0.9000, Average Token Count: 47737.95\n"
     ]
    },
    {
     "name": "stderr",
     "output_type": "stream",
     "text": []
    },
    {
     "name": "stdout",
     "output_type": "stream",
     "text": [
      "MLE Min N Required [3, 3, 3, 6, 5, 8, 8, 8, 8, 3, 8, 8, 8, 8, 8, 8, 5, 3, 8, 3, 8, 3, 3, 3, 3, 3, 3, 8, 8, 8, 3, 8, 8, 3, 3, 8, 8, 8, 7, 8]\n",
      "MLE - Target Score: 0.95, Percentile: 0.05\n",
      "MLE - Accuracy: 0.9000, Average Token Count: 47228.10\n",
      "MLE Min N Required [3, 3, 3, 6, 5, 8, 8, 8, 8, 3, 8, 8, 8, 8, 8, 8, 4, 3, 8, 3, 8, 3, 3, 3, 3, 3, 3, 8, 8, 8, 3, 8, 8, 3, 3, 8, 8, 8, 6, 8]\n",
      "MLE - Target Score: 0.95, Percentile: 0.075\n",
      "MLE - Accuracy: 0.9000, Average Token Count: 46975.18\n"
     ]
    },
    {
     "name": "stderr",
     "output_type": "stream",
     "text": [
      "Target Score (MLE):  86%|████████▌ | 6/7 [00:02<00:00,  2.31it/s]"
     ]
    },
    {
     "name": "stdout",
     "output_type": "stream",
     "text": [
      "MLE Min N Required [3, 3, 3, 5, 4, 8, 8, 8, 8, 3, 8, 8, 7, 8, 8, 8, 4, 3, 8, 3, 8, 3, 3, 3, 3, 3, 3, 8, 8, 8, 3, 8, 8, 3, 3, 8, 8, 8, 5, 8]\n",
      "MLE - Target Score: 0.95, Percentile: 0.1\n",
      "MLE - Accuracy: 0.9000, Average Token Count: 46331.90\n"
     ]
    },
    {
     "name": "stderr",
     "output_type": "stream",
     "text": []
    },
    {
     "name": "stdout",
     "output_type": "stream",
     "text": [
      "MLE Min N Required [3, 3, 3, 8, 8, 8, 8, 8, 8, 3, 8, 8, 8, 8, 8, 8, 8, 8, 8, 3, 8, 5, 3, 8, 4, 3, 8, 8, 8, 8, 3, 8, 8, 3, 3, 8, 8, 8, 8, 8]\n",
      "MLE - Target Score: 0.975, Percentile: 0.01\n",
      "MLE - Accuracy: 0.9000, Average Token Count: 50768.18\n",
      "MLE Min N Required [3, 3, 3, 8, 8, 8, 8, 8, 8, 3, 8, 8, 8, 8, 8, 8, 8, 7, 8, 3, 8, 5, 3, 8, 4, 3, 8, 8, 8, 8, 3, 8, 8, 3, 3, 8, 8, 8, 8, 8]\n"
     ]
    },
    {
     "name": "stderr",
     "output_type": "stream",
     "text": []
    },
    {
     "name": "stdout",
     "output_type": "stream",
     "text": [
      "MLE - Target Score: 0.975, Percentile: 0.02\n",
      "MLE - Accuracy: 0.9000, Average Token Count: 50660.75\n",
      "MLE Min N Required [3, 3, 3, 8, 8, 8, 8, 8, 8, 3, 8, 8, 8, 8, 8, 8, 8, 6, 8, 3, 8, 4, 3, 8, 3, 3, 8, 8, 8, 8, 3, 8, 8, 3, 3, 8, 8, 8, 8, 8]\n",
      "MLE - Target Score: 0.975, Percentile: 0.035\n",
      "MLE - Accuracy: 0.9000, Average Token Count: 50330.28\n",
      "MLE Min N Required [3, 3, 3, 8, 8, 8, 8, 8, 8, 3, 8, 8, 8, 8, 8, 8, 8, 5, 8, 3, 8, 4, 3, 8, 3, 3, 8, 8, 8, 8, 3, 8, 8, 3, 3, 8, 8, 8, 8, 8]\n"
     ]
    },
    {
     "name": "stderr",
     "output_type": "stream",
     "text": []
    },
    {
     "name": "stdout",
     "output_type": "stream",
     "text": [
      "MLE - Target Score: 0.975, Percentile: 0.05\n",
      "MLE - Accuracy: 0.9000, Average Token Count: 50226.62\n",
      "MLE Min N Required [3, 3, 3, 8, 8, 8, 8, 8, 8, 3, 8, 8, 8, 8, 8, 8, 8, 5, 8, 3, 8, 3, 3, 8, 3, 3, 8, 8, 8, 8, 3, 8, 8, 3, 3, 8, 8, 8, 8, 8]\n",
      "MLE - Target Score: 0.975, Percentile: 0.075\n",
      "MLE - Accuracy: 0.9000, Average Token Count: 49904.62\n"
     ]
    },
    {
     "name": "stderr",
     "output_type": "stream",
     "text": [
      "Target Score (MLE): 100%|██████████| 7/7 [00:03<00:00,  2.31it/s]\n"
     ]
    },
    {
     "name": "stdout",
     "output_type": "stream",
     "text": [
      "MLE Min N Required [3, 3, 3, 8, 8, 8, 8, 8, 8, 3, 8, 8, 8, 8, 8, 8, 8, 4, 8, 3, 8, 3, 3, 8, 3, 3, 8, 8, 8, 8, 3, 8, 8, 3, 3, 8, 8, 8, 8, 8]\n",
      "MLE - Target Score: 0.975, Percentile: 0.1\n",
      "MLE - Accuracy: 0.9000, Average Token Count: 49792.97\n",
      "\n",
      "Evaluating MAP Results...\n"
     ]
    },
    {
     "name": "stderr",
     "output_type": "stream",
     "text": [
      "Target Score (MAP):   0%|          | 0/7 [00:00<?, ?it/s]"
     ]
    },
    {
     "name": "stdout",
     "output_type": "stream",
     "text": [
      "MAP Min N Required [7, 8, 8, 8, 8, 8, 8, 8, 8, 8, 7, 8, 8, 8, 3, 8, 8, 8, 8, 3, 8, 8, 3, 3, 3, 8, 3, 8, 8, 8, 3, 8, 6, 3, 8, 7, 8, 8, 3, 8]\n",
      "MAP - Target Score: 0.75, Percentile: 0.01\n",
      "MAP - Accuracy: 0.9000, Average Token Count: 49157.25\n",
      "MAP Min N Required [6, 8, 8, 8, 8, 8, 8, 8, 8, 8, 6, 8, 7, 8, 3, 8, 8, 8, 8, 3, 8, 8, 3, 3, 3, 8, 3, 8, 8, 7, 3, 8, 6, 3, 8, 6, 8, 8, 3, 8]\n"
     ]
    },
    {
     "name": "stderr",
     "output_type": "stream",
     "text": []
    },
    {
     "name": "stdout",
     "output_type": "stream",
     "text": [
      "MAP - Target Score: 0.75, Percentile: 0.02\n",
      "MAP - Accuracy: 0.9000, Average Token Count: 48416.05\n",
      "MAP Min N Required [5, 8, 8, 8, 7, 8, 8, 8, 8, 7, 5, 8, 6, 8, 3, 8, 8, 8, 8, 3, 8, 8, 3, 3, 3, 7, 3, 8, 8, 6, 3, 8, 5, 3, 8, 5, 7, 8, 3, 8]\n",
      "MAP - Target Score: 0.75, Percentile: 0.035\n",
      "MAP - Accuracy: 0.9000, Average Token Count: 46840.53\n"
     ]
    },
    {
     "name": "stderr",
     "output_type": "stream",
     "text": []
    },
    {
     "name": "stdout",
     "output_type": "stream",
     "text": [
      "MAP Min N Required [5, 8, 8, 8, 6, 8, 8, 8, 8, 7, 4, 8, 6, 8, 3, 8, 8, 8, 8, 3, 8, 8, 3, 3, 3, 6, 3, 8, 8, 5, 3, 8, 4, 3, 8, 5, 7, 8, 3, 8]\n",
      "MAP - Target Score: 0.75, Percentile: 0.05\n",
      "MAP - Accuracy: 0.9000, Average Token Count: 45921.35\n",
      "MAP Min N Required [4, 8, 8, 8, 6, 8, 8, 8, 8, 6, 4, 8, 5, 8, 3, 8, 8, 8, 8, 3, 8, 8, 3, 3, 3, 6, 3, 8, 8, 5, 3, 8, 4, 3, 8, 4, 6, 8, 3, 8]\n",
      "MAP - Target Score: 0.75, Percentile: 0.075\n",
      "MAP - Accuracy: 0.9000, Average Token Count: 45213.40\n"
     ]
    },
    {
     "name": "stderr",
     "output_type": "stream",
     "text": [
      "Target Score (MAP):  14%|█▍        | 1/7 [00:00<00:03,  1.80it/s]"
     ]
    },
    {
     "name": "stdout",
     "output_type": "stream",
     "text": [
      "MAP Min N Required [4, 7, 8, 8, 5, 8, 8, 8, 8, 5, 4, 8, 5, 8, 3, 7, 8, 8, 8, 3, 8, 8, 3, 3, 3, 5, 3, 8, 8, 4, 3, 8, 3, 3, 8, 4, 5, 8, 3, 8]\n",
      "MAP - Target Score: 0.75, Percentile: 0.1\n",
      "MAP - Accuracy: 0.9000, Average Token Count: 44022.78\n"
     ]
    },
    {
     "name": "stderr",
     "output_type": "stream",
     "text": []
    },
    {
     "name": "stdout",
     "output_type": "stream",
     "text": [
      "MAP Min N Required [8, 8, 8, 8, 8, 8, 8, 8, 8, 8, 8, 8, 8, 8, 3, 8, 8, 8, 8, 4, 8, 8, 4, 3, 3, 8, 3, 8, 8, 8, 3, 8, 8, 3, 8, 8, 8, 8, 3, 8]\n"
     ]
    },
    {
     "name": "stderr",
     "output_type": "stream",
     "text": []
    },
    {
     "name": "stdout",
     "output_type": "stream",
     "text": [
      "MAP - Target Score: 0.8, Percentile: 0.01\n",
      "MAP - Accuracy: 0.9000, Average Token Count: 50238.20\n"
     ]
    },
    {
     "name": "stderr",
     "output_type": "stream",
     "text": []
    },
    {
     "name": "stdout",
     "output_type": "stream",
     "text": [
      "MAP Min N Required [8, 8, 8, 8, 8, 8, 8, 8, 8, 8, 8, 8, 8, 8, 3, 8, 8, 8, 8, 4, 8, 8, 4, 3, 3, 8, 3, 8, 8, 8, 3, 8, 8, 3, 8, 8, 8, 8, 3, 8]\n",
      "MAP - Target Score: 0.8, Percentile: 0.02\n",
      "MAP - Accuracy: 0.9000, Average Token Count: 50238.20\n",
      "MAP Min N Required [7, 8, 8, 8, 8, 8, 8, 8, 8, 8, 7, 8, 8, 8, 3, 8, 8, 8, 8, 3, 8, 8, 3, 3, 3, 8, 3, 8, 8, 8, 3, 8, 8, 3, 8, 8, 8, 8, 3, 8]\n",
      "MAP - Target Score: 0.8, Percentile: 0.035\n",
      "MAP - Accuracy: 0.9000, Average Token Count: 49900.68\n",
      "MAP Min N Required [7, 8, 8, 8, 8, 8, 8, 8, 8, 8, 6, 8, 8, 8, 3, 8, 8, 8, 8, 3, 8, 8, 3, 3, 3, 8, 3, 8, 8, 8, 3, 8, 8, 3, 8, 8, 8, 8, 3, 8]\n"
     ]
    },
    {
     "name": "stderr",
     "output_type": "stream",
     "text": []
    },
    {
     "name": "stdout",
     "output_type": "stream",
     "text": [
      "MAP - Target Score: 0.8, Percentile: 0.05\n",
      "MAP - Accuracy: 0.9000, Average Token Count: 49743.70\n",
      "MAP Min N Required [6, 8, 8, 8, 8, 8, 8, 8, 8, 8, 6, 8, 8, 8, 3, 8, 8, 8, 8, 3, 8, 8, 3, 3, 3, 8, 3, 8, 8, 7, 3, 8, 8, 3, 8, 8, 8, 8, 3, 8]\n",
      "MAP - Target Score: 0.8, Percentile: 0.075\n",
      "MAP - Accuracy: 0.9000, Average Token Count: 49570.57\n",
      "MAP Min N Required [5, 8, 8, 8, 7, 8, 8, 8, 8, 7, 5, 8, 7, 8, 3, 8, 8, 8, 8, 3, 8, 8, 3, 3, 3, 7, 3, 8, 8, 6, 3, 8, 8, 3, 8, 8, 8, 8, 3, 8]\n"
     ]
    },
    {
     "name": "stderr",
     "output_type": "stream",
     "text": [
      "Target Score (MAP):  29%|██▊       | 2/7 [00:01<00:02,  1.74it/s]"
     ]
    },
    {
     "name": "stdout",
     "output_type": "stream",
     "text": [
      "MAP - Target Score: 0.8, Percentile: 0.1\n",
      "MAP - Accuracy: 0.9000, Average Token Count: 48709.65\n"
     ]
    },
    {
     "name": "stderr",
     "output_type": "stream",
     "text": []
    },
    {
     "name": "stdout",
     "output_type": "stream",
     "text": [
      "MAP Min N Required [8, 8, 8, 8, 8, 8, 8, 8, 8, 8, 8, 8, 8, 8, 3, 8, 8, 8, 8, 7, 8, 8, 6, 3, 3, 8, 3, 8, 8, 8, 4, 8, 8, 3, 8, 8, 8, 8, 4, 8]\n",
      "MAP - Target Score: 0.85, Percentile: 0.01\n",
      "MAP - Accuracy: 0.9000, Average Token Count: 50764.45\n",
      "MAP Min N Required [8, 8, 8, 8, 8, 8, 8, 8, 8, 8, 8, 8, 8, 8, 3, 8, 8, 8, 8, 6, 8, 8, 6, 3, 3, 8, 3, 8, 8, 8, 4, 8, 8, 3, 8, 8, 8, 8, 4, 8]\n"
     ]
    },
    {
     "name": "stderr",
     "output_type": "stream",
     "text": []
    },
    {
     "name": "stdout",
     "output_type": "stream",
     "text": [
      "MAP - Target Score: 0.85, Percentile: 0.02\n",
      "MAP - Accuracy: 0.9000, Average Token Count: 50709.85\n"
     ]
    },
    {
     "name": "stderr",
     "output_type": "stream",
     "text": []
    },
    {
     "name": "stdout",
     "output_type": "stream",
     "text": [
      "MAP Min N Required [8, 8, 8, 8, 8, 8, 8, 8, 8, 8, 8, 8, 8, 8, 3, 8, 8, 8, 8, 5, 8, 8, 5, 3, 3, 8, 3, 8, 8, 8, 3, 8, 8, 3, 8, 8, 8, 8, 3, 8]\n",
      "MAP - Target Score: 0.85, Percentile: 0.035\n",
      "MAP - Accuracy: 0.9000, Average Token Count: 50380.55\n",
      "MAP Min N Required [8, 8, 8, 8, 8, 8, 8, 8, 8, 8, 8, 8, 8, 8, 3, 8, 8, 8, 8, 5, 8, 8, 4, 3, 3, 8, 3, 8, 8, 8, 3, 8, 8, 3, 8, 8, 8, 8, 3, 8]\n"
     ]
    },
    {
     "name": "stderr",
     "output_type": "stream",
     "text": []
    },
    {
     "name": "stdout",
     "output_type": "stream",
     "text": [
      "MAP - Target Score: 0.85, Percentile: 0.05\n",
      "MAP - Accuracy: 0.9000, Average Token Count: 50306.35\n"
     ]
    },
    {
     "name": "stderr",
     "output_type": "stream",
     "text": []
    },
    {
     "name": "stdout",
     "output_type": "stream",
     "text": [
      "MAP Min N Required [8, 8, 8, 8, 8, 8, 8, 8, 8, 8, 8, 8, 8, 8, 3, 8, 8, 8, 8, 4, 8, 8, 4, 3, 3, 8, 3, 8, 8, 8, 3, 8, 8, 3, 8, 8, 8, 8, 3, 8]\n",
      "MAP - Target Score: 0.85, Percentile: 0.075\n",
      "MAP - Accuracy: 0.9000, Average Token Count: 50238.20\n"
     ]
    },
    {
     "name": "stderr",
     "output_type": "stream",
     "text": [
      "Target Score (MAP):  43%|████▎     | 3/7 [00:01<00:02,  1.60it/s]"
     ]
    },
    {
     "name": "stdout",
     "output_type": "stream",
     "text": [
      "MAP Min N Required [8, 8, 8, 8, 8, 8, 8, 8, 8, 8, 8, 8, 8, 8, 3, 8, 8, 8, 8, 4, 8, 8, 3, 3, 3, 8, 3, 8, 8, 8, 3, 8, 8, 3, 8, 8, 8, 8, 3, 8]\n",
      "MAP - Target Score: 0.85, Percentile: 0.1\n",
      "MAP - Accuracy: 0.9000, Average Token Count: 50178.40\n"
     ]
    },
    {
     "name": "stderr",
     "output_type": "stream",
     "text": []
    },
    {
     "name": "stdout",
     "output_type": "stream",
     "text": [
      "MAP Min N Required [8, 8, 8, 8, 8, 8, 8, 8, 8, 8, 8, 8, 8, 8, 5, 8, 8, 8, 8, 8, 8, 8, 8, 3, 3, 8, 3, 8, 8, 8, 7, 8, 8, 3, 8, 8, 8, 8, 8, 8]\n",
      "MAP - Target Score: 0.9, Percentile: 0.01\n",
      "MAP - Accuracy: 0.9000, Average Token Count: 51978.68\n"
     ]
    },
    {
     "name": "stderr",
     "output_type": "stream",
     "text": []
    },
    {
     "name": "stdout",
     "output_type": "stream",
     "text": [
      "MAP Min N Required [8, 8, 8, 8, 8, 8, 8, 8, 8, 8, 8, 8, 8, 8, 4, 8, 8, 8, 8, 8, 8, 8, 8, 3, 3, 8, 3, 8, 8, 8, 6, 8, 8, 3, 8, 8, 8, 8, 8, 8]\n",
      "MAP - Target Score: 0.9, Percentile: 0.02\n",
      "MAP - Accuracy: 0.9000, Average Token Count: 51762.28\n"
     ]
    },
    {
     "name": "stderr",
     "output_type": "stream",
     "text": []
    },
    {
     "name": "stdout",
     "output_type": "stream",
     "text": [
      "MAP Min N Required [8, 8, 8, 8, 8, 8, 8, 8, 8, 8, 8, 8, 8, 8, 4, 8, 8, 8, 8, 8, 8, 8, 8, 3, 3, 8, 3, 8, 8, 8, 6, 8, 8, 3, 8, 8, 8, 8, 7, 8]\n",
      "MAP - Target Score: 0.9, Percentile: 0.035\n",
      "MAP - Accuracy: 0.9000, Average Token Count: 51641.15\n"
     ]
    },
    {
     "name": "stderr",
     "output_type": "stream",
     "text": []
    },
    {
     "name": "stdout",
     "output_type": "stream",
     "text": [
      "MAP Min N Required [8, 8, 8, 8, 8, 8, 8, 8, 8, 8, 8, 8, 8, 8, 3, 8, 8, 8, 8, 8, 8, 8, 8, 3, 3, 8, 3, 8, 8, 8, 5, 8, 8, 3, 8, 8, 8, 8, 6, 8]\n",
      "MAP - Target Score: 0.9, Percentile: 0.05\n",
      "MAP - Accuracy: 0.9000, Average Token Count: 51286.07\n"
     ]
    },
    {
     "name": "stderr",
     "output_type": "stream",
     "text": []
    },
    {
     "name": "stdout",
     "output_type": "stream",
     "text": [
      "MAP Min N Required [8, 8, 8, 8, 8, 8, 8, 8, 8, 8, 8, 8, 8, 8, 3, 8, 8, 8, 8, 7, 8, 8, 7, 3, 3, 8, 3, 8, 8, 8, 4, 8, 8, 3, 8, 8, 8, 8, 5, 8]\n",
      "MAP - Target Score: 0.9, Percentile: 0.075\n",
      "MAP - Accuracy: 0.9000, Average Token Count: 50957.35\n"
     ]
    },
    {
     "name": "stderr",
     "output_type": "stream",
     "text": [
      "Target Score (MAP):  57%|█████▋    | 4/7 [00:02<00:01,  1.57it/s]"
     ]
    },
    {
     "name": "stdout",
     "output_type": "stream",
     "text": [
      "MAP Min N Required [8, 8, 8, 8, 8, 8, 8, 8, 8, 8, 8, 8, 8, 8, 3, 8, 8, 8, 8, 7, 8, 8, 6, 3, 3, 8, 3, 8, 8, 8, 4, 8, 8, 3, 8, 8, 8, 8, 5, 8]\n",
      "MAP - Target Score: 0.9, Percentile: 0.1\n",
      "MAP - Accuracy: 0.9000, Average Token Count: 50904.95\n"
     ]
    },
    {
     "name": "stderr",
     "output_type": "stream",
     "text": []
    },
    {
     "name": "stdout",
     "output_type": "stream",
     "text": [
      "MAP Min N Required [8, 8, 8, 8, 8, 8, 8, 8, 8, 8, 8, 8, 8, 8, 8, 8, 8, 8, 8, 8, 8, 8, 8, 5, 3, 8, 3, 8, 8, 8, 8, 8, 8, 3, 8, 8, 8, 8, 8, 8]\n",
      "MAP - Target Score: 0.925, Percentile: 0.01\n",
      "MAP - Accuracy: 0.9000, Average Token Count: 52773.18\n"
     ]
    },
    {
     "name": "stderr",
     "output_type": "stream",
     "text": []
    },
    {
     "name": "stdout",
     "output_type": "stream",
     "text": [
      "MAP Min N Required [8, 8, 8, 8, 8, 8, 8, 8, 8, 8, 8, 8, 8, 8, 6, 8, 8, 8, 8, 8, 8, 8, 8, 4, 3, 8, 3, 8, 8, 8, 8, 8, 8, 3, 8, 8, 8, 8, 8, 8]\n",
      "MAP - Target Score: 0.925, Percentile: 0.02\n",
      "MAP - Accuracy: 0.9000, Average Token Count: 52330.07\n"
     ]
    },
    {
     "name": "stderr",
     "output_type": "stream",
     "text": []
    },
    {
     "name": "stdout",
     "output_type": "stream",
     "text": [
      "MAP Min N Required [8, 8, 8, 8, 8, 8, 8, 8, 8, 8, 8, 8, 8, 8, 6, 8, 8, 8, 8, 8, 8, 8, 8, 4, 3, 8, 3, 8, 8, 8, 8, 8, 8, 3, 8, 8, 8, 8, 8, 8]\n",
      "MAP - Target Score: 0.925, Percentile: 0.035\n",
      "MAP - Accuracy: 0.9000, Average Token Count: 52330.07\n"
     ]
    },
    {
     "name": "stderr",
     "output_type": "stream",
     "text": []
    },
    {
     "name": "stdout",
     "output_type": "stream",
     "text": [
      "MAP Min N Required [8, 8, 8, 8, 8, 8, 8, 8, 8, 8, 8, 8, 8, 8, 5, 8, 8, 8, 8, 8, 8, 8, 8, 3, 3, 8, 3, 8, 8, 8, 7, 8, 8, 3, 8, 8, 8, 8, 8, 8]\n",
      "MAP - Target Score: 0.925, Percentile: 0.05\n",
      "MAP - Accuracy: 0.9000, Average Token Count: 51978.68\n"
     ]
    },
    {
     "name": "stderr",
     "output_type": "stream",
     "text": []
    },
    {
     "name": "stdout",
     "output_type": "stream",
     "text": [
      "MAP Min N Required [8, 8, 8, 8, 8, 8, 8, 8, 8, 8, 8, 8, 8, 8, 4, 8, 8, 8, 8, 8, 8, 8, 8, 3, 3, 8, 3, 8, 8, 8, 6, 8, 8, 3, 8, 8, 8, 8, 8, 8]\n",
      "MAP - Target Score: 0.925, Percentile: 0.075\n",
      "MAP - Accuracy: 0.9000, Average Token Count: 51762.28\n"
     ]
    },
    {
     "name": "stderr",
     "output_type": "stream",
     "text": [
      "Target Score (MAP):  71%|███████▏  | 5/7 [00:03<00:01,  1.55it/s]"
     ]
    },
    {
     "name": "stdout",
     "output_type": "stream",
     "text": [
      "MAP Min N Required [8, 8, 8, 8, 8, 8, 8, 8, 8, 8, 8, 8, 8, 8, 4, 8, 8, 8, 8, 8, 8, 8, 8, 3, 3, 8, 3, 8, 8, 8, 6, 8, 8, 3, 8, 8, 8, 8, 7, 8]\n",
      "MAP - Target Score: 0.925, Percentile: 0.1\n",
      "MAP - Accuracy: 0.9000, Average Token Count: 51641.15\n"
     ]
    },
    {
     "name": "stderr",
     "output_type": "stream",
     "text": []
    },
    {
     "name": "stdout",
     "output_type": "stream",
     "text": [
      "MAP Min N Required [8, 8, 8, 8, 8, 8, 8, 8, 8, 8, 8, 8, 8, 8, 8, 8, 8, 8, 8, 8, 8, 8, 8, 8, 4, 8, 4, 8, 8, 8, 8, 8, 8, 3, 8, 8, 8, 8, 8, 8]\n",
      "MAP - Target Score: 0.95, Percentile: 0.01\n",
      "MAP - Accuracy: 0.9000, Average Token Count: 53375.00\n"
     ]
    },
    {
     "name": "stderr",
     "output_type": "stream",
     "text": []
    },
    {
     "name": "stdout",
     "output_type": "stream",
     "text": [
      "MAP Min N Required [8, 8, 8, 8, 8, 8, 8, 8, 8, 8, 8, 8, 8, 8, 8, 8, 8, 8, 8, 8, 8, 8, 8, 8, 3, 8, 3, 8, 8, 8, 8, 8, 8, 3, 8, 8, 8, 8, 8, 8]\n",
      "MAP - Target Score: 0.95, Percentile: 0.02\n",
      "MAP - Accuracy: 0.9000, Average Token Count: 53156.28\n"
     ]
    },
    {
     "name": "stderr",
     "output_type": "stream",
     "text": []
    },
    {
     "name": "stdout",
     "output_type": "stream",
     "text": [
      "MAP Min N Required [8, 8, 8, 8, 8, 8, 8, 8, 8, 8, 8, 8, 8, 8, 8, 8, 8, 8, 8, 8, 8, 8, 8, 8, 3, 8, 3, 8, 8, 8, 8, 8, 8, 3, 8, 8, 8, 8, 8, 8]\n",
      "MAP - Target Score: 0.95, Percentile: 0.035\n",
      "MAP - Accuracy: 0.9000, Average Token Count: 53156.28\n"
     ]
    },
    {
     "name": "stderr",
     "output_type": "stream",
     "text": []
    },
    {
     "name": "stdout",
     "output_type": "stream",
     "text": [
      "MAP Min N Required [8, 8, 8, 8, 8, 8, 8, 8, 8, 8, 8, 8, 8, 8, 8, 8, 8, 8, 8, 8, 8, 8, 8, 8, 3, 8, 3, 8, 8, 8, 8, 8, 8, 3, 8, 8, 8, 8, 8, 8]\n",
      "MAP - Target Score: 0.95, Percentile: 0.05\n",
      "MAP - Accuracy: 0.9000, Average Token Count: 53156.28\n"
     ]
    },
    {
     "name": "stderr",
     "output_type": "stream",
     "text": []
    },
    {
     "name": "stdout",
     "output_type": "stream",
     "text": [
      "MAP Min N Required [8, 8, 8, 8, 8, 8, 8, 8, 8, 8, 8, 8, 8, 8, 8, 8, 8, 8, 8, 8, 8, 8, 8, 7, 3, 8, 3, 8, 8, 8, 8, 8, 8, 3, 8, 8, 8, 8, 8, 8]\n",
      "MAP - Target Score: 0.95, Percentile: 0.075\n",
      "MAP - Accuracy: 0.9000, Average Token Count: 53031.97\n"
     ]
    },
    {
     "name": "stderr",
     "output_type": "stream",
     "text": [
      "Target Score (MAP):  86%|████████▌ | 6/7 [00:03<00:00,  1.53it/s]"
     ]
    },
    {
     "name": "stdout",
     "output_type": "stream",
     "text": [
      "MAP Min N Required [8, 8, 8, 8, 8, 8, 8, 8, 8, 8, 8, 8, 8, 8, 7, 8, 8, 8, 8, 8, 8, 8, 8, 7, 3, 8, 3, 8, 8, 8, 8, 8, 8, 3, 8, 8, 8, 8, 8, 8]\n",
      "MAP - Target Score: 0.95, Percentile: 0.1\n",
      "MAP - Accuracy: 0.9000, Average Token Count: 52884.30\n"
     ]
    },
    {
     "name": "stderr",
     "output_type": "stream",
     "text": []
    },
    {
     "name": "stdout",
     "output_type": "stream",
     "text": [
      "MAP Min N Required [8, 8, 8, 8, 8, 8, 8, 8, 8, 8, 8, 8, 8, 8, 8, 8, 8, 8, 8, 8, 8, 8, 8, 8, 8, 8, 8, 8, 8, 8, 8, 8, 8, 3, 8, 8, 8, 8, 8, 8]\n",
      "MAP - Target Score: 0.975, Percentile: 0.01\n",
      "MAP - Accuracy: 0.9000, Average Token Count: 54164.40\n"
     ]
    },
    {
     "name": "stderr",
     "output_type": "stream",
     "text": []
    },
    {
     "name": "stdout",
     "output_type": "stream",
     "text": [
      "MAP Min N Required [8, 8, 8, 8, 8, 8, 8, 8, 8, 8, 8, 8, 8, 8, 8, 8, 8, 8, 8, 8, 8, 8, 8, 8, 8, 8, 8, 8, 8, 8, 8, 8, 8, 3, 8, 8, 8, 8, 8, 8]\n",
      "MAP - Target Score: 0.975, Percentile: 0.02\n",
      "MAP - Accuracy: 0.9000, Average Token Count: 54164.40\n"
     ]
    },
    {
     "name": "stderr",
     "output_type": "stream",
     "text": []
    },
    {
     "name": "stdout",
     "output_type": "stream",
     "text": [
      "MAP Min N Required [8, 8, 8, 8, 8, 8, 8, 8, 8, 8, 8, 8, 8, 8, 8, 8, 8, 8, 8, 8, 8, 8, 8, 8, 8, 8, 8, 8, 8, 8, 8, 8, 8, 3, 8, 8, 8, 8, 8, 8]\n",
      "MAP - Target Score: 0.975, Percentile: 0.035\n",
      "MAP - Accuracy: 0.9000, Average Token Count: 54164.40\n"
     ]
    },
    {
     "name": "stderr",
     "output_type": "stream",
     "text": []
    },
    {
     "name": "stdout",
     "output_type": "stream",
     "text": [
      "MAP Min N Required [8, 8, 8, 8, 8, 8, 8, 8, 8, 8, 8, 8, 8, 8, 8, 8, 8, 8, 8, 8, 8, 8, 8, 8, 8, 8, 8, 8, 8, 8, 8, 8, 8, 3, 8, 8, 8, 8, 8, 8]\n",
      "MAP - Target Score: 0.975, Percentile: 0.05\n",
      "MAP - Accuracy: 0.9000, Average Token Count: 54164.40\n"
     ]
    },
    {
     "name": "stderr",
     "output_type": "stream",
     "text": []
    },
    {
     "name": "stdout",
     "output_type": "stream",
     "text": [
      "MAP Min N Required [8, 8, 8, 8, 8, 8, 8, 8, 8, 8, 8, 8, 8, 8, 8, 8, 8, 8, 8, 8, 8, 8, 8, 8, 8, 8, 8, 8, 8, 8, 8, 8, 8, 3, 8, 8, 8, 8, 8, 8]\n",
      "MAP - Target Score: 0.975, Percentile: 0.075\n",
      "MAP - Accuracy: 0.9000, Average Token Count: 54164.40\n"
     ]
    },
    {
     "name": "stderr",
     "output_type": "stream",
     "text": [
      "Target Score (MAP): 100%|██████████| 7/7 [00:04<00:00,  1.53it/s]"
     ]
    },
    {
     "name": "stdout",
     "output_type": "stream",
     "text": [
      "MAP Min N Required [8, 8, 8, 8, 8, 8, 8, 8, 8, 8, 8, 8, 8, 8, 8, 8, 8, 8, 8, 8, 8, 8, 8, 8, 8, 8, 8, 8, 8, 8, 8, 8, 8, 3, 8, 8, 8, 8, 8, 8]\n",
      "MAP - Target Score: 0.975, Percentile: 0.1\n",
      "MAP - Accuracy: 0.9000, Average Token Count: 54164.40\n"
     ]
    },
    {
     "name": "stderr",
     "output_type": "stream",
     "text": [
      "\n"
     ]
    },
    {
     "data": {
      "image/png": "[encoded data removed]",
      "text/plain": [
       "<Figure size 1200x800 with 1 Axes>"
      ]
     },
     "metadata": {},
     "output_type": "display_data"
    },
    {
     "name": "stdout",
     "output_type": "stream",
     "text": [
      "\n",
      "MLE Pareto-optimal configurations:\n",
      "Target Score: 0.75, Percentile: 0.1, Accuracy: 0.9000, Avg Token Count: 36617.55\n",
      "\n",
      "MAP Pareto-optimal configurations:\n",
      "Target Score: 0.75, Percentile: 0.1, Accuracy: 0.9000, Avg Token Count: 44022.78\n"
     ]
    }
   ],
   "source": [
    "# Setting Panels\n",
    "target_score_panel_values = [0.75, 0.8, 0.85, 0.9, 0.925, 0.95, 0.975]\n",
    "percentile_panel_values = [0.01, 0.02, 0.035, 0.05, 0.075, 0.1]\n",
    "max_N_panel = 8\n",
    "print(\"Target Score Panel:\", target_score_panel_values)\n",
    "print(\"Percentile Panel:\", percentile_panel_values)\n",
    "print(\"Max N:\", max_N_panel)\n",
    "\n",
    "# Evaluate MLE results\n",
    "print(\"\\nEvaluating MLE Results...\")\n",
    "truncated_normal_params_all = mle_estimated_params\n",
    "mle_grid_search_results = []\n",
    "\n",
    "for target_score in tqdm(target_score_panel_values, desc=\"Target Score (MLE)\"):\n",
    "    for percentile in tqdm(percentile_panel_values, desc=\"Percentile\", leave=False):\n",
    "        min_N_required = []\n",
    "        for i, (mu, sigma) in enumerate(truncated_normal_params_all):\n",
    "            min_N = find_min_N_for_threshold(mu, sigma, target_score=target_score, \n",
    "                                        percentile=percentile, max_N=max_N_panel)\n",
    "            if min_N < peek_number:\n",
    "                min_N = peek_number\n",
    "            min_N_required.append(min_N)\n",
    "        print(\"MLE Min N Required\", min_N_required)\n",
    "        \n",
    "        # Evaluate model performance with these parameters\n",
    "        correct = 0\n",
    "        entire_token_count = 0\n",
    "\n",
    "        for idx, item in enumerate(val_texts):\n",
    "            N = min_N_required[idx]\n",
    "            completions = val_completions[idx][0][:N]\n",
    "            scores = val_scores[idx][0][:N]\n",
    "            completion_tokens = val_completion_tokens[idx][0][:N]\n",
    "            total_tokens = sum(completion_tokens)\n",
    "\n",
    "            highest_scores_idx = scores.index(max(scores))\n",
    "\n",
    "            while completions[highest_scores_idx] == \"\":\n",
    "                scores[highest_scores_idx] = 0 \n",
    "                if max(scores) == 0: \n",
    "                    break\n",
    "                highest_scores_idx = scores.index(max(scores))\n",
    "\n",
    "            output = completions[highest_scores_idx]\n",
    "            answer = get_answer(output)\n",
    "\n",
    "            if verify_extracted_answer(val_gt_answers[idx], answer):\n",
    "                correct += 1\n",
    "            entire_token_count += total_tokens\n",
    "\n",
    "        accuracy = correct / len(val_texts)\n",
    "        average_token_count = entire_token_count / len(val_texts)\n",
    "        \n",
    "        print(f\"MLE - Target Score: {target_score}, Percentile: {percentile}\")\n",
    "        print(f\"MLE - Accuracy: {accuracy:.4f}, Average Token Count: {average_token_count:.2f}\")\n",
    "        \n",
    "        mle_grid_search_results.append({\n",
    "            'target_score': target_score,\n",
    "            'percentile': percentile,\n",
    "            'accuracy': accuracy,\n",
    "            'average_token_count': average_token_count\n",
    "        })\n",
    "        \n",
    "with open(f'{DATASET}_OptScale_MLE_results_{max_N_panel}.json', 'w') as f:\n",
    "    json.dump(mle_grid_search_results, f)\n",
    "\n",
    "\n",
    "# Evaluate MAP results\n",
    "print(\"\\nEvaluating MAP Results...\")\n",
    "truncated_normal_params_all = map_estimated_params\n",
    "map_grid_search_results = []\n",
    "\n",
    "for target_score in tqdm(target_score_panel_values, desc=\"Target Score (MAP)\"):\n",
    "    for percentile in tqdm(percentile_panel_values, desc=\"Percentile\", leave=False):\n",
    "        min_N_required = []\n",
    "        for i, (mu, sigma) in enumerate(truncated_normal_params_all):\n",
    "            min_N = find_min_N_for_threshold(mu, sigma, target_score=target_score, \n",
    "                                        percentile=percentile, max_N=max_N_panel)\n",
    "            if min_N < peek_number:\n",
    "                min_N = peek_number\n",
    "            min_N_required.append(min_N)\n",
    "        print(\"MAP Min N Required\", min_N_required)\n",
    "        \n",
    "        # Evaluate model performance with these parameters\n",
    "        correct = 0\n",
    "        entire_token_count = 0\n",
    "\n",
    "        for idx, item in enumerate(val_texts):\n",
    "            N = min_N_required[idx]\n",
    "            completions = val_completions[idx][0][:N]\n",
    "            scores = val_scores[idx][0][:N]\n",
    "            completion_tokens = val_completion_tokens[idx][0][:N]\n",
    "            total_tokens = sum(completion_tokens)\n",
    "\n",
    "            highest_scores_idx = scores.index(max(scores))\n",
    "\n",
    "            while completions[highest_scores_idx] == \"\":\n",
    "                scores[highest_scores_idx] = 0 \n",
    "                if max(scores) == 0: \n",
    "                    break\n",
    "                highest_scores_idx = scores.index(max(scores))\n",
    "\n",
    "            output = completions[highest_scores_idx]\n",
    "            answer = get_answer(output)\n",
    "\n",
    "            if verify_extracted_answer(val_gt_answers[idx], answer):\n",
    "                correct += 1\n",
    "            entire_token_count += total_tokens\n",
    "\n",
    "        accuracy = correct / len(val_texts)\n",
    "        average_token_count = entire_token_count / len(val_texts)\n",
    "        \n",
    "        print(f\"MAP - Target Score: {target_score}, Percentile: {percentile}\")\n",
    "        print(f\"MAP - Accuracy: {accuracy:.4f}, Average Token Count: {average_token_count:.2f}\")\n",
    "        \n",
    "        map_grid_search_results.append({\n",
    "            'target_score': target_score,\n",
    "            'percentile': percentile,\n",
    "            'accuracy': accuracy,\n",
    "            'average_token_count': average_token_count\n",
    "        })\n",
    "        \n",
    "with open(f'{DATASET}_OptScale_MAP_results_{max_N_panel}.json', 'w') as f:\n",
    "    json.dump(map_grid_search_results, f)\n",
    "\n",
    "plot_mle_map_optscale(mle_grid_search_results, map_grid_search_results, baseline_average_token_counts, baseline_accuracy_values, max_N_panel)"
   ]
  },
  {
   "cell_type": "code",
   "execution_count": 6,
   "metadata": {},
   "outputs": [
    {
     "name": "stdout",
     "output_type": "stream",
     "text": [
      "0         0.5888      0.1438    0.9934    0.0015    0.9214    0.1125    0.9922    0.0050\n",
      "1         0.4565      0.0747    0.9867    0.0026    0.9054    0.1105    0.9860    0.0058\n",
      "2         0.4358      0.0651    0.9824    0.0042    0.9082    0.1036    0.9771    0.0074\n",
      "3         0.4280      0.0684    0.9560    0.0278    0.9162    0.0663    0.9584    0.0262\n",
      "4         0.5449      0.1461    0.9430    0.0279    0.9384    0.0799    0.9009    0.1016\n",
      "5         0.4186      0.0189    0.9080    0.0265    0.8009    0.1371    0.9237    0.1176\n",
      "6         0.6573      0.1089    0.6561    0.0850    0.6562    0.0867    0.7029    0.0685\n",
      "7         0.6261      0.1181    0.6555    0.0672    0.6529    0.0696    0.6548    0.0874\n",
      "8         0.2787      0.0185    0.6811    0.0464    0.5349    0.1157    0.6930    0.0705\n",
      "9         0.5441      0.1487    0.9899    0.0033    0.8608    0.1500    0.9890    0.0050\n",
      "10        0.5938      0.1681    0.8818    0.0962    0.8198    0.1085    0.8563    0.0967\n",
      "11        0.6530      0.1204    0.5595    0.0494    0.5642    0.0515    0.5822    0.0567\n",
      "12        0.5296      0.0930    1.1121    0.1392    0.8821    0.0883    1.1758    0.2108\n",
      "13        0.2844      0.0026    0.7105    0.0502    0.5029    0.1627    0.6901    0.0383\n",
      "14        0.6301      0.1024    0.9339    0.0172    0.9255    0.0198    0.9173    0.0391\n",
      "15        0.5203      0.1140   87.8998    3.1490    0.7547    0.1891    1.0188    0.2194\n",
      "16        0.2971      0.1167    0.9585    0.0248    0.5138    0.3215    0.9569    0.0339\n",
      "17        0.4425      0.1136    0.9718    0.0139    0.7489    0.2091    2.9191    0.2626\n",
      "18        0.6358      0.1159    0.5790    0.0541    0.5824    0.0561    0.5819    0.0822\n",
      "19        0.6854      0.1171    0.9879    0.0039    0.8504    0.1500    0.9882    0.0038\n",
      "20        0.6355      0.1344    0.6561    0.0106    0.6561    0.0108    0.6261    0.0382\n",
      "21        0.4173      0.0735  110.8199    2.9776    0.6958    0.2149    1.3136    0.1551\n",
      "22        0.6556      0.1417    0.9814    0.0040    0.9520    0.0227    0.9811    0.0055\n",
      "23        0.7407      0.1083    0.9477    0.0254    0.9584    0.0328    0.9400    0.0363\n",
      "24        0.6906      0.0796    0.9925    0.0375    0.8374    0.2126    0.9899    0.0615\n",
      "25        0.5334      0.1168    0.9860    0.0059    0.9784    0.0817    0.9987    0.0226\n",
      "26        0.7286      0.0873    0.9714    0.0134    0.9436    0.0282    0.9726    0.0094\n",
      "27        0.4190      0.0828    0.5716    0.0262    0.5507    0.0306    0.5745    0.0793\n",
      "28        0.4632      0.0812    0.7308    0.1258    0.6601    0.1307    0.6906    0.1164\n",
      "29        0.6458      0.1337    1.5958    0.3649    0.8014    0.1578    1.8034    0.2713\n",
      "30        0.6560      0.1068    0.9840    0.0030    0.8174    0.1813    0.9844    0.0074\n",
      "31        0.5765      0.1208    0.6308    0.0719    0.6253    0.0747    0.6138    0.0452\n",
      "32        0.6620      0.0940    0.7366    0.0494    0.7330    0.0507    0.7696    0.0582\n",
      "33        0.7607      0.1361    0.9788    0.0101    0.9637    0.0280    0.9834    0.0071\n",
      "34        0.4495      0.1040    0.9843    0.0021    0.7723    0.2008    0.9844    0.0047\n",
      "35        0.6292      0.1057    0.7170    0.0320    0.7151    0.0329    0.7366    0.1007\n",
      "36        0.5142      0.0696    0.7376    0.0877    0.7055    0.0912    0.7483    0.0962\n",
      "37        0.4586      0.0650    0.6443    0.0818    0.6215    0.0836    0.6356    0.0678\n",
      "38        0.6418      0.1119    0.9538    0.0520    0.8017    0.1466    0.9408    0.0989\n",
      "39        0.5809      0.1207    0.5899    0.0424    0.5895    0.0439    0.5846    0.0766\n",
      "\n",
      "Performance Comparison (MSE against ground truth):\n",
      "Predictor MSE - μ: 0.319919, σ: 0.006766\n",
      "MLE MSE      - μ: 488.594164, σ: 0.416383\n",
      "MAP MSE      - μ: 0.167668, σ: 0.008064\n",
      "\n",
      "Statistics of Different Estimation Methods:\n",
      "Predictor Estimates:\n",
      "Mean μ: 0.5527 ± 0.1225\n",
      "Mean σ: 0.1012 ± 0.0352\n",
      "\n",
      "MLE Estimates (10 samples):\n",
      "Mean μ: 5.7889 ± 21.6199\n",
      "Mean σ: 0.1979 ± 0.6605\n",
      "\n",
      "MAP Estimates (10 samples):\n",
      "Mean μ: 0.7655 ± 0.1425\n",
      "Mean σ: 0.1061 ± 0.0682\n",
      "\n",
      "Ground Truth (100 samples):\n",
      "Mean μ: 0.9334 ± 0.3918\n",
      "Mean σ: 0.0724 ± 0.0684\n"
     ]
    }
   ],
   "source": [
    "peek_number = 5\n",
    "\n",
    "mle_estimated_params = []  # Store MLE estimates\n",
    "map_estimated_params = []  # Store MAP estimates\n",
    "predictor_params = []      # Store predictor's estimates\n",
    "\n",
    "for i, (score, prediction) in enumerate(zip(val_scores, val_labels)):\n",
    "    peek_data = np.array(score[0][:peek_number])\n",
    "    \n",
    "    # Store predictor's parameters\n",
    "    prior_mu, prior_sigma = prediction\n",
    "    predictor_params.append((prior_mu, prior_sigma))\n",
    "    \n",
    "    # MLE estimation with limited data\n",
    "    initial_mu = np.mean(peek_data)\n",
    "    initial_sigma = np.std(peek_data)\n",
    "    mle_result = minimize(\n",
    "        lambda params: neg_log_likelihood(params, peek_data),\n",
    "        [initial_mu, initial_sigma],\n",
    "        bounds=[(None, None), (1e-6, None)],\n",
    "        method='L-BFGS-B'\n",
    "    )\n",
    "    mle_mu, mle_sigma = mle_result.x\n",
    "    mle_estimated_params.append((mle_mu, mle_sigma))\n",
    "    \n",
    "    # MAP estimation with limited data\n",
    "    map_result = minimize(\n",
    "        lambda params: neg_log_posterior(\n",
    "            params, \n",
    "            peek_data, \n",
    "            prior_mu=prior_mu, \n",
    "            prior_sigma=prior_sigma\n",
    "        ),\n",
    "        [prior_mu, prior_sigma],\n",
    "        bounds=[(None, None), (1e-6, None)],\n",
    "        method='L-BFGS-B'\n",
    "    )\n",
    "    map_mu, map_sigma = map_result.x\n",
    "    map_estimated_params.append((map_mu, map_sigma))\n",
    "    \n",
    "    # Print comparison for first 50 examples\n",
    "    if i < 50:\n",
    "        gt_mu, gt_sigma = original_params_compare[i]\n",
    "        print(f\"{i:<4} {prior_mu:11.4f} {prior_sigma:11.4f} {mle_mu:9.4f} {mle_sigma:9.4f} \"\n",
    "              f\"{map_mu:9.4f} {map_sigma:9.4f} {gt_mu:9.4f} {gt_sigma:9.4f}\")\n",
    "\n",
    "# Call the function to perform the analysis\n",
    "analyze_estimation_performance(predictor_params, mle_estimated_params, map_estimated_params, original_params_compare)\n"
   ]
  },
  {
   "cell_type": "code",
   "execution_count": 7,
   "metadata": {},
   "outputs": [
    {
     "name": "stdout",
     "output_type": "stream",
     "text": [
      "Target Score Panel: [0.75, 0.8, 0.85, 0.9, 0.925, 0.95, 0.975]\n",
      "Percentile Panel: [0.01, 0.02, 0.035, 0.05, 0.075, 0.1]\n",
      "Max N: 16\n",
      "\n",
      "Evaluating MLE Results...\n"
     ]
    },
    {
     "name": "stderr",
     "output_type": "stream",
     "text": [
      "Target Score (MLE):   0%|          | 0/7 [00:00<?, ?it/s]"
     ]
    },
    {
     "name": "stdout",
     "output_type": "stream",
     "text": [
      "MLE Min N Required [5, 5, 5, 5, 5, 5, 16, 16, 16, 5, 5, 16, 5, 16, 5, 5, 5, 5, 16, 5, 16, 5, 5, 5, 5, 5, 5, 16, 9, 5, 5, 16, 10, 5, 5, 16, 8, 16, 5, 16]\n",
      "MLE - Target Score: 0.75, Percentile: 0.01\n",
      "MLE - Accuracy: 0.9000, Average Token Count: 74868.05\n",
      "MLE Min N Required [5, 5, 5, 5, 5, 5, 16, 16, 16, 5, 5, 16, 5, 16, 5, 5, 5, 5, 16, 5, 16, 5, 5, 5, 5, 5, 5, 16, 7, 5, 5, 16, 8, 5, 5, 16, 7, 16, 5, 16]\n",
      "MLE - Target Score: 0.75, Percentile: 0.02\n",
      "MLE - Accuracy: 0.9000, Average Token Count: 73845.88\n",
      "MLE Min N Required [5, 5, 5, 5, 5, 5, 16, 16, 16, 5, 5, 16, 5, 14, 5, 5, 5, 5, 16, 5, 16, 5, 5, 5, 5, 5, 5, 16, 6, 5, 5, 16, 7, 5, 5, 16, 6, 16, 5, 16]\n"
     ]
    },
    {
     "name": "stderr",
     "output_type": "stream",
     "text": []
    },
    {
     "name": "stdout",
     "output_type": "stream",
     "text": [
      "MLE - Target Score: 0.75, Percentile: 0.035\n",
      "MLE - Accuracy: 0.9000, Average Token Count: 72546.12\n",
      "MLE Min N Required [5, 5, 5, 5, 5, 5, 16, 16, 16, 5, 5, 16, 5, 13, 5, 5, 5, 5, 16, 5, 16, 5, 5, 5, 5, 5, 5, 16, 6, 5, 5, 16, 7, 5, 5, 16, 6, 16, 5, 16]\n",
      "MLE - Target Score: 0.75, Percentile: 0.05\n",
      "MLE - Accuracy: 0.9000, Average Token Count: 72223.32\n"
     ]
    },
    {
     "name": "stderr",
     "output_type": "stream",
     "text": []
    },
    {
     "name": "stdout",
     "output_type": "stream",
     "text": [
      "MLE Min N Required [5, 5, 5, 5, 5, 5, 16, 16, 16, 5, 5, 16, 5, 11, 5, 5, 5, 5, 16, 5, 16, 5, 5, 5, 5, 5, 5, 16, 5, 5, 5, 16, 6, 5, 5, 16, 5, 16, 5, 16]\n",
      "MLE - Target Score: 0.75, Percentile: 0.075\n",
      "MLE - Accuracy: 0.9000, Average Token Count: 70898.45\n"
     ]
    },
    {
     "name": "stderr",
     "output_type": "stream",
     "text": [
      "Target Score (MLE):  14%|█▍        | 1/7 [00:00<00:03,  1.73it/s]"
     ]
    },
    {
     "name": "stdout",
     "output_type": "stream",
     "text": [
      "MLE Min N Required [5, 5, 5, 5, 5, 5, 16, 16, 16, 5, 5, 16, 5, 10, 5, 5, 5, 5, 16, 5, 16, 5, 5, 5, 5, 5, 5, 16, 5, 5, 5, 16, 5, 5, 5, 15, 5, 16, 5, 16]\n",
      "MLE - Target Score: 0.75, Percentile: 0.1\n",
      "MLE - Accuracy: 0.9000, Average Token Count: 69936.38\n"
     ]
    },
    {
     "name": "stderr",
     "output_type": "stream",
     "text": []
    },
    {
     "name": "stdout",
     "output_type": "stream",
     "text": [
      "MLE Min N Required [5, 5, 5, 5, 5, 5, 16, 16, 16, 5, 5, 16, 5, 16, 5, 5, 5, 5, 16, 5, 16, 5, 5, 5, 5, 5, 5, 16, 15, 5, 5, 16, 16, 5, 5, 16, 16, 16, 5, 16]\n"
     ]
    },
    {
     "name": "stderr",
     "output_type": "stream",
     "text": []
    },
    {
     "name": "stdout",
     "output_type": "stream",
     "text": [
      "MLE - Target Score: 0.8, Percentile: 0.01\n",
      "MLE - Accuracy: 0.9000, Average Token Count: 79435.85\n"
     ]
    },
    {
     "name": "stderr",
     "output_type": "stream",
     "text": []
    },
    {
     "name": "stdout",
     "output_type": "stream",
     "text": [
      "MLE Min N Required [5, 5, 5, 5, 5, 5, 16, 16, 16, 5, 5, 16, 5, 16, 5, 5, 5, 5, 16, 5, 16, 5, 5, 5, 5, 5, 5, 16, 12, 5, 5, 16, 16, 5, 5, 16, 15, 16, 5, 16]\n",
      "MLE - Target Score: 0.8, Percentile: 0.02\n",
      "MLE - Accuracy: 0.9000, Average Token Count: 78403.18\n",
      "MLE Min N Required [5, 5, 5, 5, 5, 5, 16, 16, 16, 5, 5, 16, 5, 16, 5, 5, 5, 5, 16, 5, 16, 5, 5, 5, 5, 5, 5, 16, 11, 5, 5, 16, 16, 5, 5, 16, 13, 16, 5, 16]\n"
     ]
    },
    {
     "name": "stderr",
     "output_type": "stream",
     "text": []
    },
    {
     "name": "stdout",
     "output_type": "stream",
     "text": [
      "MLE - Target Score: 0.8, Percentile: 0.035\n",
      "MLE - Accuracy: 0.9000, Average Token Count: 77887.62\n"
     ]
    },
    {
     "name": "stderr",
     "output_type": "stream",
     "text": []
    },
    {
     "name": "stdout",
     "output_type": "stream",
     "text": [
      "MLE Min N Required [5, 5, 5, 5, 5, 5, 16, 16, 16, 5, 5, 16, 5, 16, 5, 5, 5, 5, 16, 5, 16, 5, 5, 5, 5, 5, 5, 16, 10, 5, 5, 16, 16, 5, 5, 16, 12, 16, 5, 16]\n",
      "MLE - Target Score: 0.8, Percentile: 0.05\n",
      "MLE - Accuracy: 0.9000, Average Token Count: 77451.45\n",
      "MLE Min N Required [5, 5, 5, 5, 5, 5, 16, 16, 16, 5, 5, 16, 5, 16, 5, 5, 5, 5, 16, 5, 16, 5, 5, 5, 5, 5, 5, 16, 8, 5, 5, 16, 16, 5, 5, 16, 10, 16, 5, 16]\n"
     ]
    },
    {
     "name": "stderr",
     "output_type": "stream",
     "text": []
    },
    {
     "name": "stdout",
     "output_type": "stream",
     "text": [
      "MLE - Target Score: 0.8, Percentile: 0.075\n",
      "MLE - Accuracy: 0.9000, Average Token Count: 76595.48\n",
      "MLE Min N Required [5, 5, 5, 5, 5, 5, 16, 16, 16, 5, 5, 16, 5, 16, 5, 5, 5, 5, 16, 5, 16, 5, 5, 5, 5, 5, 5, 16, 8, 5, 5, 16, 16, 5, 5, 16, 9, 16, 5, 16]\n"
     ]
    },
    {
     "name": "stderr",
     "output_type": "stream",
     "text": [
      "Target Score (MLE):  29%|██▊       | 2/7 [00:01<00:03,  1.66it/s]"
     ]
    },
    {
     "name": "stdout",
     "output_type": "stream",
     "text": [
      "MLE - Target Score: 0.8, Percentile: 0.1\n",
      "MLE - Accuracy: 0.9000, Average Token Count: 76399.20\n"
     ]
    },
    {
     "name": "stderr",
     "output_type": "stream",
     "text": []
    },
    {
     "name": "stdout",
     "output_type": "stream",
     "text": [
      "MLE Min N Required [5, 5, 5, 5, 5, 5, 16, 16, 16, 5, 6, 16, 5, 16, 5, 5, 5, 5, 16, 5, 16, 5, 5, 5, 5, 5, 5, 16, 16, 6, 5, 16, 16, 5, 5, 16, 16, 16, 5, 16]\n"
     ]
    },
    {
     "name": "stderr",
     "output_type": "stream",
     "text": []
    },
    {
     "name": "stdout",
     "output_type": "stream",
     "text": [
      "MLE - Target Score: 0.85, Percentile: 0.01\n",
      "MLE - Accuracy: 0.9000, Average Token Count: 79939.57\n"
     ]
    },
    {
     "name": "stderr",
     "output_type": "stream",
     "text": []
    },
    {
     "name": "stdout",
     "output_type": "stream",
     "text": [
      "MLE Min N Required [5, 5, 5, 5, 5, 5, 16, 16, 16, 5, 5, 16, 5, 16, 5, 5, 5, 5, 16, 5, 16, 5, 5, 5, 5, 5, 5, 16, 16, 5, 5, 16, 16, 5, 5, 16, 16, 16, 5, 16]\n",
      "MLE - Target Score: 0.85, Percentile: 0.02\n",
      "MLE - Accuracy: 0.9000, Average Token Count: 79660.93\n",
      "MLE Min N Required [5, 5, 5, 5, 5, 5, 16, 16, 16, 5, 5, 16, 5, 16, 5, 5, 5, 5, 16, 5, 16, 5, 5, 5, 5, 5, 5, 16, 16, 5, 5, 16, 16, 5, 5, 16, 16, 16, 5, 16]\n"
     ]
    },
    {
     "name": "stderr",
     "output_type": "stream",
     "text": []
    },
    {
     "name": "stdout",
     "output_type": "stream",
     "text": [
      "MLE - Target Score: 0.85, Percentile: 0.035\n",
      "MLE - Accuracy: 0.9000, Average Token Count: 79660.93\n"
     ]
    },
    {
     "name": "stderr",
     "output_type": "stream",
     "text": []
    },
    {
     "name": "stdout",
     "output_type": "stream",
     "text": [
      "MLE Min N Required [5, 5, 5, 5, 5, 5, 16, 16, 16, 5, 5, 16, 5, 16, 5, 5, 5, 5, 16, 5, 16, 5, 5, 5, 5, 5, 5, 16, 16, 5, 5, 16, 16, 5, 5, 16, 16, 16, 5, 16]\n",
      "MLE - Target Score: 0.85, Percentile: 0.05\n",
      "MLE - Accuracy: 0.9000, Average Token Count: 79660.93\n",
      "MLE Min N Required [5, 5, 5, 5, 5, 5, 16, 16, 16, 5, 5, 16, 5, 16, 5, 5, 5, 5, 16, 5, 16, 5, 5, 5, 5, 5, 5, 16, 16, 5, 5, 16, 16, 5, 5, 16, 16, 16, 5, 16]\n"
     ]
    },
    {
     "name": "stderr",
     "output_type": "stream",
     "text": []
    },
    {
     "name": "stdout",
     "output_type": "stream",
     "text": [
      "MLE - Target Score: 0.85, Percentile: 0.075\n",
      "MLE - Accuracy: 0.9000, Average Token Count: 79660.93\n"
     ]
    },
    {
     "name": "stderr",
     "output_type": "stream",
     "text": [
      "Target Score (MLE):  43%|████▎     | 3/7 [00:01<00:02,  1.59it/s]"
     ]
    },
    {
     "name": "stdout",
     "output_type": "stream",
     "text": [
      "MLE Min N Required [5, 5, 5, 5, 5, 5, 16, 16, 16, 5, 5, 16, 5, 16, 5, 5, 5, 5, 16, 5, 16, 5, 5, 5, 5, 5, 5, 16, 14, 5, 5, 16, 16, 5, 5, 16, 16, 16, 5, 16]\n",
      "MLE - Target Score: 0.85, Percentile: 0.1\n",
      "MLE - Accuracy: 0.9000, Average Token Count: 79224.57\n"
     ]
    },
    {
     "name": "stderr",
     "output_type": "stream",
     "text": []
    },
    {
     "name": "stdout",
     "output_type": "stream",
     "text": [
      "MLE Min N Required [5, 5, 5, 5, 5, 5, 16, 16, 16, 5, 11, 16, 5, 16, 5, 6, 5, 5, 16, 5, 16, 5, 5, 5, 5, 5, 5, 16, 16, 8, 5, 16, 16, 5, 5, 16, 16, 16, 5, 16]\n",
      "MLE - Target Score: 0.9, Percentile: 0.01\n",
      "MLE - Accuracy: 0.9000, Average Token Count: 81259.62\n"
     ]
    },
    {
     "name": "stderr",
     "output_type": "stream",
     "text": []
    },
    {
     "name": "stdout",
     "output_type": "stream",
     "text": [
      "MLE Min N Required [5, 5, 5, 5, 5, 5, 16, 16, 16, 5, 9, 16, 5, 16, 5, 5, 5, 5, 16, 5, 16, 5, 5, 5, 5, 5, 5, 16, 16, 7, 5, 16, 16, 5, 5, 16, 16, 16, 5, 16]\n",
      "MLE - Target Score: 0.9, Percentile: 0.02\n",
      "MLE - Accuracy: 0.9000, Average Token Count: 80514.30\n"
     ]
    },
    {
     "name": "stderr",
     "output_type": "stream",
     "text": []
    },
    {
     "name": "stdout",
     "output_type": "stream",
     "text": [
      "MLE Min N Required [5, 5, 5, 5, 5, 5, 16, 16, 16, 5, 8, 16, 5, 16, 5, 5, 5, 5, 16, 5, 16, 5, 5, 5, 5, 5, 5, 16, 16, 6, 5, 16, 16, 5, 5, 16, 16, 16, 5, 16]\n",
      "MLE - Target Score: 0.9, Percentile: 0.035\n",
      "MLE - Accuracy: 0.9000, Average Token Count: 80276.12\n"
     ]
    },
    {
     "name": "stderr",
     "output_type": "stream",
     "text": []
    },
    {
     "name": "stdout",
     "output_type": "stream",
     "text": [
      "MLE Min N Required [5, 5, 5, 5, 5, 5, 16, 16, 16, 5, 7, 16, 5, 16, 5, 5, 5, 5, 16, 5, 16, 5, 5, 5, 5, 5, 5, 16, 16, 6, 5, 16, 16, 5, 5, 16, 16, 16, 5, 16]\n",
      "MLE - Target Score: 0.9, Percentile: 0.05\n",
      "MLE - Accuracy: 0.9000, Average Token Count: 80096.55\n"
     ]
    },
    {
     "name": "stderr",
     "output_type": "stream",
     "text": []
    },
    {
     "name": "stdout",
     "output_type": "stream",
     "text": [
      "MLE Min N Required [5, 5, 5, 5, 5, 5, 16, 16, 16, 5, 6, 16, 5, 16, 5, 5, 5, 5, 16, 5, 16, 5, 5, 5, 5, 5, 5, 16, 16, 5, 5, 16, 16, 5, 5, 16, 16, 16, 5, 16]\n",
      "MLE - Target Score: 0.9, Percentile: 0.075\n",
      "MLE - Accuracy: 0.9000, Average Token Count: 79790.07\n"
     ]
    },
    {
     "name": "stderr",
     "output_type": "stream",
     "text": [
      "Target Score (MLE):  57%|█████▋    | 4/7 [00:02<00:01,  1.52it/s]"
     ]
    },
    {
     "name": "stdout",
     "output_type": "stream",
     "text": [
      "MLE Min N Required [5, 5, 5, 5, 5, 5, 16, 16, 16, 5, 6, 16, 5, 16, 5, 5, 5, 5, 16, 5, 16, 5, 5, 5, 5, 5, 5, 16, 16, 5, 5, 16, 16, 5, 5, 16, 16, 16, 5, 16]\n",
      "MLE - Target Score: 0.9, Percentile: 0.1\n",
      "MLE - Accuracy: 0.9000, Average Token Count: 79790.07\n"
     ]
    },
    {
     "name": "stderr",
     "output_type": "stream",
     "text": []
    },
    {
     "name": "stdout",
     "output_type": "stream",
     "text": [
      "MLE Min N Required [5, 5, 5, 5, 5, 16, 16, 16, 16, 5, 16, 16, 6, 16, 5, 7, 5, 5, 16, 5, 16, 5, 5, 5, 5, 5, 5, 16, 16, 11, 5, 16, 16, 5, 5, 16, 16, 16, 5, 16]\n",
      "MLE - Target Score: 0.925, Percentile: 0.01\n",
      "MLE - Accuracy: 0.9000, Average Token Count: 84675.77\n"
     ]
    },
    {
     "name": "stderr",
     "output_type": "stream",
     "text": []
    },
    {
     "name": "stdout",
     "output_type": "stream",
     "text": [
      "MLE Min N Required [5, 5, 5, 5, 5, 14, 16, 16, 16, 5, 15, 16, 5, 16, 5, 6, 5, 5, 16, 5, 16, 5, 5, 5, 5, 5, 5, 16, 16, 9, 5, 16, 16, 5, 5, 16, 16, 16, 5, 16]\n",
      "MLE - Target Score: 0.925, Percentile: 0.02\n",
      "MLE - Accuracy: 0.9000, Average Token Count: 83689.15\n"
     ]
    },
    {
     "name": "stderr",
     "output_type": "stream",
     "text": []
    },
    {
     "name": "stdout",
     "output_type": "stream",
     "text": [
      "MLE Min N Required [5, 5, 5, 5, 5, 12, 16, 16, 16, 5, 13, 16, 5, 16, 5, 6, 5, 5, 16, 5, 16, 5, 5, 5, 5, 5, 5, 16, 16, 8, 5, 16, 16, 5, 5, 16, 16, 16, 5, 16]\n",
      "MLE - Target Score: 0.925, Percentile: 0.035\n",
      "MLE - Accuracy: 0.9000, Average Token Count: 82978.65\n"
     ]
    },
    {
     "name": "stderr",
     "output_type": "stream",
     "text": []
    },
    {
     "name": "stdout",
     "output_type": "stream",
     "text": [
      "MLE Min N Required [5, 5, 5, 5, 5, 11, 16, 16, 16, 5, 11, 16, 5, 16, 5, 5, 5, 5, 16, 5, 16, 5, 5, 5, 5, 5, 5, 16, 16, 7, 5, 16, 16, 5, 5, 16, 16, 16, 5, 16]\n",
      "MLE - Target Score: 0.925, Percentile: 0.05\n",
      "MLE - Accuracy: 0.9000, Average Token Count: 82107.05\n"
     ]
    },
    {
     "name": "stderr",
     "output_type": "stream",
     "text": []
    },
    {
     "name": "stdout",
     "output_type": "stream",
     "text": [
      "MLE Min N Required [5, 5, 5, 5, 5, 9, 16, 16, 16, 5, 10, 16, 5, 16, 5, 5, 5, 5, 16, 5, 16, 5, 5, 5, 5, 5, 5, 16, 16, 6, 5, 16, 16, 5, 5, 16, 16, 16, 5, 16]\n",
      "MLE - Target Score: 0.925, Percentile: 0.075\n",
      "MLE - Accuracy: 0.9000, Average Token Count: 81352.00\n"
     ]
    },
    {
     "name": "stderr",
     "output_type": "stream",
     "text": [
      "Target Score (MLE):  71%|███████▏  | 5/7 [00:03<00:01,  1.45it/s]"
     ]
    },
    {
     "name": "stdout",
     "output_type": "stream",
     "text": [
      "MLE Min N Required [5, 5, 5, 5, 5, 8, 16, 16, 16, 5, 9, 16, 5, 16, 5, 5, 5, 5, 16, 5, 16, 5, 5, 5, 5, 5, 5, 16, 16, 6, 5, 16, 16, 5, 5, 16, 16, 16, 5, 16]\n",
      "MLE - Target Score: 0.925, Percentile: 0.1\n",
      "MLE - Accuracy: 0.9000, Average Token Count: 81016.25\n"
     ]
    },
    {
     "name": "stderr",
     "output_type": "stream",
     "text": []
    },
    {
     "name": "stdout",
     "output_type": "stream",
     "text": [
      "MLE Min N Required [5, 5, 5, 6, 10, 16, 16, 16, 16, 5, 16, 16, 9, 16, 16, 11, 5, 5, 16, 5, 16, 8, 5, 8, 5, 5, 5, 16, 16, 16, 5, 16, 16, 5, 5, 16, 16, 16, 9, 16]\n",
      "MLE - Target Score: 0.95, Percentile: 0.01\n",
      "MLE - Accuracy: 0.9000, Average Token Count: 90481.88\n"
     ]
    },
    {
     "name": "stderr",
     "output_type": "stream",
     "text": []
    },
    {
     "name": "stdout",
     "output_type": "stream",
     "text": [
      "MLE Min N Required [5, 5, 5, 5, 9, 16, 16, 16, 16, 5, 16, 16, 8, 16, 16, 9, 5, 5, 16, 5, 16, 7, 5, 7, 5, 5, 5, 16, 16, 14, 5, 16, 16, 5, 5, 16, 16, 16, 8, 16]\n",
      "MLE - Target Score: 0.95, Percentile: 0.02\n",
      "MLE - Accuracy: 0.9000, Average Token Count: 88935.12\n"
     ]
    },
    {
     "name": "stderr",
     "output_type": "stream",
     "text": []
    },
    {
     "name": "stdout",
     "output_type": "stream",
     "text": [
      "MLE Min N Required [5, 5, 5, 5, 7, 16, 16, 16, 16, 5, 16, 16, 7, 16, 16, 8, 5, 5, 16, 5, 16, 6, 5, 6, 5, 5, 5, 16, 16, 12, 5, 16, 16, 5, 5, 16, 16, 16, 7, 16]\n",
      "MLE - Target Score: 0.95, Percentile: 0.035\n",
      "MLE - Accuracy: 0.9000, Average Token Count: 87639.88\n"
     ]
    },
    {
     "name": "stderr",
     "output_type": "stream",
     "text": []
    },
    {
     "name": "stdout",
     "output_type": "stream",
     "text": [
      "MLE Min N Required [5, 5, 5, 5, 7, 16, 16, 16, 16, 5, 16, 16, 6, 16, 16, 7, 5, 5, 16, 5, 16, 5, 5, 6, 5, 5, 5, 16, 16, 11, 5, 16, 16, 5, 5, 16, 16, 16, 6, 16]\n",
      "MLE - Target Score: 0.95, Percentile: 0.05\n",
      "MLE - Accuracy: 0.9000, Average Token Count: 87028.40\n"
     ]
    },
    {
     "name": "stderr",
     "output_type": "stream",
     "text": []
    },
    {
     "name": "stdout",
     "output_type": "stream",
     "text": [
      "MLE Min N Required [5, 5, 5, 5, 6, 16, 16, 16, 16, 5, 16, 16, 5, 16, 15, 6, 5, 5, 16, 5, 16, 5, 5, 5, 5, 5, 5, 16, 16, 9, 5, 16, 16, 5, 5, 16, 16, 16, 5, 16]\n",
      "MLE - Target Score: 0.95, Percentile: 0.075\n",
      "MLE - Accuracy: 0.9000, Average Token Count: 85880.05\n"
     ]
    },
    {
     "name": "stderr",
     "output_type": "stream",
     "text": [
      "Target Score (MLE):  86%|████████▌ | 6/7 [00:04<00:00,  1.36it/s]"
     ]
    },
    {
     "name": "stdout",
     "output_type": "stream",
     "text": [
      "MLE Min N Required [5, 5, 5, 5, 5, 16, 16, 16, 16, 5, 15, 16, 5, 16, 13, 6, 5, 5, 16, 5, 16, 5, 5, 5, 5, 5, 5, 16, 16, 8, 5, 16, 16, 5, 5, 16, 16, 16, 5, 16]\n",
      "MLE - Target Score: 0.95, Percentile: 0.1\n",
      "MLE - Accuracy: 0.9000, Average Token Count: 85046.77\n"
     ]
    },
    {
     "name": "stderr",
     "output_type": "stream",
     "text": []
    },
    {
     "name": "stdout",
     "output_type": "stream",
     "text": [
      "MLE Min N Required [5, 5, 5, 16, 16, 16, 16, 16, 16, 5, 16, 16, 16, 16, 16, 16, 16, 10, 16, 5, 16, 15, 5, 16, 8, 5, 10, 16, 16, 16, 5, 16, 16, 5, 5, 16, 16, 16, 16, 16]\n",
      "MLE - Target Score: 0.975, Percentile: 0.01\n",
      "MLE - Accuracy: 0.9000, Average Token Count: 100927.82\n"
     ]
    },
    {
     "name": "stderr",
     "output_type": "stream",
     "text": []
    },
    {
     "name": "stdout",
     "output_type": "stream",
     "text": [
      "MLE Min N Required [5, 5, 5, 16, 16, 16, 16, 16, 16, 5, 16, 16, 16, 16, 16, 16, 16, 9, 16, 5, 16, 13, 5, 16, 7, 5, 9, 16, 16, 16, 5, 16, 16, 5, 5, 16, 16, 16, 16, 16]\n",
      "MLE - Target Score: 0.975, Percentile: 0.02\n",
      "MLE - Accuracy: 0.9000, Average Token Count: 100528.27\n",
      "MLE Min N Required [5, 5, 5, 16, 16, 16, 16, 16, 16, 5, 16, 16, 13, 16, 16, 16, 15, 7, 16, 5, 16, 11, 5, 16, 6, 5, 8, 16, 16, 16, 5, 16, 16, 5, 5, 16, 16, 16, 16, 16]\n"
     ]
    },
    {
     "name": "stderr",
     "output_type": "stream",
     "text": []
    },
    {
     "name": "stdout",
     "output_type": "stream",
     "text": [
      "MLE - Target Score: 0.975, Percentile: 0.035\n",
      "MLE - Accuracy: 0.9000, Average Token Count: 99288.00\n",
      "MLE Min N Required [5, 5, 5, 14, 16, 16, 16, 16, 16, 5, 16, 16, 12, 16, 16, 14, 13, 7, 16, 5, 16, 10, 5, 16, 6, 5, 7, 16, 16, 16, 5, 16, 16, 5, 5, 16, 16, 16, 15, 16]\n"
     ]
    },
    {
     "name": "stderr",
     "output_type": "stream",
     "text": []
    },
    {
     "name": "stdout",
     "output_type": "stream",
     "text": [
      "MLE - Target Score: 0.975, Percentile: 0.05\n",
      "MLE - Accuracy: 0.9000, Average Token Count: 98012.95\n"
     ]
    },
    {
     "name": "stderr",
     "output_type": "stream",
     "text": []
    },
    {
     "name": "stdout",
     "output_type": "stream",
     "text": [
      "MLE Min N Required [5, 5, 5, 12, 16, 16, 16, 16, 16, 5, 16, 16, 11, 16, 16, 12, 11, 6, 16, 5, 16, 9, 5, 16, 5, 5, 6, 16, 16, 16, 5, 16, 16, 5, 5, 16, 16, 16, 13, 16]\n",
      "MLE - Target Score: 0.975, Percentile: 0.075\n",
      "MLE - Accuracy: 0.9000, Average Token Count: 96100.90\n"
     ]
    },
    {
     "name": "stderr",
     "output_type": "stream",
     "text": [
      "Target Score (MLE): 100%|██████████| 7/7 [00:05<00:00,  1.35it/s]\n"
     ]
    },
    {
     "name": "stdout",
     "output_type": "stream",
     "text": [
      "MLE Min N Required [5, 5, 5, 11, 16, 16, 16, 16, 16, 5, 16, 16, 9, 16, 16, 11, 10, 5, 16, 5, 16, 8, 5, 16, 5, 5, 5, 16, 16, 16, 5, 16, 16, 5, 5, 16, 16, 16, 12, 16]\n",
      "MLE - Target Score: 0.975, Percentile: 0.1\n",
      "MLE - Accuracy: 0.9000, Average Token Count: 94859.62\n",
      "\n",
      "Evaluating MAP Results...\n"
     ]
    },
    {
     "name": "stderr",
     "output_type": "stream",
     "text": [
      "Target Score (MAP):   0%|          | 0/7 [00:00<?, ?it/s]"
     ]
    },
    {
     "name": "stdout",
     "output_type": "stream",
     "text": [
      "MAP Min N Required [5, 5, 5, 5, 5, 5, 16, 16, 16, 5, 5, 16, 5, 16, 5, 8, 16, 9, 16, 5, 16, 11, 5, 5, 6, 5, 5, 16, 16, 6, 6, 16, 11, 5, 8, 16, 13, 16, 5, 16]\n",
      "MAP - Target Score: 0.75, Percentile: 0.01\n",
      "MAP - Accuracy: 0.9000, Average Token Count: 81184.15\n"
     ]
    },
    {
     "name": "stderr",
     "output_type": "stream",
     "text": []
    },
    {
     "name": "stdout",
     "output_type": "stream",
     "text": [
      "MAP Min N Required [5, 5, 5, 5, 5, 5, 16, 16, 16, 5, 5, 16, 5, 16, 5, 7, 16, 7, 16, 5, 16, 10, 5, 5, 5, 5, 5, 16, 15, 5, 5, 16, 9, 5, 7, 16, 11, 16, 5, 16]\n",
      "MAP - Target Score: 0.75, Percentile: 0.02\n",
      "MAP - Accuracy: 0.9000, Average Token Count: 79300.00\n"
     ]
    },
    {
     "name": "stderr",
     "output_type": "stream",
     "text": []
    },
    {
     "name": "stdout",
     "output_type": "stream",
     "text": [
      "MAP Min N Required [5, 5, 5, 5, 5, 5, 16, 16, 16, 5, 5, 16, 5, 16, 5, 6, 16, 6, 16, 5, 16, 8, 5, 5, 5, 5, 5, 16, 13, 5, 5, 16, 8, 5, 6, 16, 9, 16, 5, 16]\n",
      "MAP - Target Score: 0.75, Percentile: 0.035\n",
      "MAP - Accuracy: 0.9000, Average Token Count: 77503.23\n"
     ]
    },
    {
     "name": "stderr",
     "output_type": "stream",
     "text": []
    },
    {
     "name": "stdout",
     "output_type": "stream",
     "text": [
      "MAP Min N Required [5, 5, 5, 5, 5, 5, 16, 16, 16, 5, 5, 16, 5, 16, 5, 5, 15, 6, 16, 5, 16, 7, 5, 5, 5, 5, 5, 16, 11, 5, 5, 16, 7, 5, 5, 16, 9, 16, 5, 16]\n",
      "MAP - Target Score: 0.75, Percentile: 0.05\n",
      "MAP - Accuracy: 0.9000, Average Token Count: 76300.57\n"
     ]
    },
    {
     "name": "stderr",
     "output_type": "stream",
     "text": []
    },
    {
     "name": "stdout",
     "output_type": "stream",
     "text": [
      "MAP Min N Required [5, 5, 5, 5, 5, 5, 16, 16, 16, 5, 5, 16, 5, 16, 5, 5, 13, 5, 16, 5, 16, 7, 5, 5, 5, 5, 5, 16, 10, 5, 5, 16, 6, 5, 5, 16, 7, 16, 5, 16]\n",
      "MAP - Target Score: 0.75, Percentile: 0.075\n",
      "MAP - Accuracy: 0.9000, Average Token Count: 75092.02\n"
     ]
    },
    {
     "name": "stderr",
     "output_type": "stream",
     "text": [
      "Target Score (MAP):  14%|█▍        | 1/7 [00:00<00:04,  1.39it/s]"
     ]
    },
    {
     "name": "stdout",
     "output_type": "stream",
     "text": [
      "MAP Min N Required [5, 5, 5, 5, 5, 5, 16, 16, 16, 5, 5, 16, 5, 16, 5, 5, 12, 5, 16, 5, 16, 6, 5, 5, 5, 5, 5, 16, 9, 5, 5, 16, 6, 5, 5, 15, 7, 16, 5, 16]\n",
      "MAP - Target Score: 0.75, Percentile: 0.1\n",
      "MAP - Accuracy: 0.9000, Average Token Count: 74377.43\n"
     ]
    },
    {
     "name": "stderr",
     "output_type": "stream",
     "text": []
    },
    {
     "name": "stdout",
     "output_type": "stream",
     "text": [
      "MAP Min N Required [5, 5, 5, 5, 5, 8, 16, 16, 16, 6, 6, 16, 5, 16, 5, 12, 16, 12, 16, 6, 16, 16, 5, 5, 8, 5, 5, 16, 16, 8, 8, 16, 16, 5, 11, 16, 16, 16, 8, 16]\n",
      "MAP - Target Score: 0.8, Percentile: 0.01\n",
      "MAP - Accuracy: 0.9000, Average Token Count: 86502.12\n"
     ]
    },
    {
     "name": "stderr",
     "output_type": "stream",
     "text": []
    },
    {
     "name": "stdout",
     "output_type": "stream",
     "text": [
      "MAP Min N Required [5, 5, 5, 5, 5, 7, 16, 16, 16, 5, 5, 16, 5, 16, 5, 10, 16, 10, 16, 5, 16, 14, 5, 5, 7, 5, 5, 16, 16, 7, 7, 16, 16, 5, 9, 16, 16, 16, 7, 16]\n",
      "MAP - Target Score: 0.8, Percentile: 0.02\n",
      "MAP - Accuracy: 0.9000, Average Token Count: 84808.82\n"
     ]
    },
    {
     "name": "stderr",
     "output_type": "stream",
     "text": []
    },
    {
     "name": "stdout",
     "output_type": "stream",
     "text": [
      "MAP Min N Required [5, 5, 5, 5, 5, 6, 16, 16, 16, 5, 5, 16, 5, 16, 5, 9, 16, 9, 16, 5, 16, 12, 5, 5, 6, 5, 5, 16, 16, 6, 6, 16, 16, 5, 8, 16, 16, 16, 6, 16]\n",
      "MAP - Target Score: 0.8, Percentile: 0.035\n",
      "MAP - Accuracy: 0.9000, Average Token Count: 83597.77\n"
     ]
    },
    {
     "name": "stderr",
     "output_type": "stream",
     "text": []
    },
    {
     "name": "stdout",
     "output_type": "stream",
     "text": [
      "MAP Min N Required [5, 5, 5, 5, 5, 5, 16, 16, 16, 5, 5, 16, 5, 16, 5, 8, 16, 8, 16, 5, 16, 11, 5, 5, 6, 5, 5, 16, 16, 6, 5, 16, 16, 5, 7, 16, 16, 16, 5, 16]\n",
      "MAP - Target Score: 0.8, Percentile: 0.05\n",
      "MAP - Accuracy: 0.9000, Average Token Count: 82837.25\n"
     ]
    },
    {
     "name": "stderr",
     "output_type": "stream",
     "text": []
    },
    {
     "name": "stdout",
     "output_type": "stream",
     "text": [
      "MAP Min N Required [5, 5, 5, 5, 5, 5, 16, 16, 16, 5, 5, 16, 5, 16, 5, 7, 16, 7, 16, 5, 16, 9, 5, 5, 5, 5, 5, 16, 16, 5, 5, 16, 16, 5, 6, 16, 16, 16, 5, 16]\n",
      "MAP - Target Score: 0.8, Percentile: 0.075\n",
      "MAP - Accuracy: 0.9000, Average Token Count: 82128.20\n"
     ]
    },
    {
     "name": "stderr",
     "output_type": "stream",
     "text": [
      "Target Score (MAP):  29%|██▊       | 2/7 [00:01<00:03,  1.32it/s]"
     ]
    },
    {
     "name": "stdout",
     "output_type": "stream",
     "text": [
      "MAP Min N Required [5, 5, 5, 5, 5, 5, 16, 16, 16, 5, 5, 16, 5, 16, 5, 6, 16, 6, 16, 5, 16, 8, 5, 5, 5, 5, 5, 16, 16, 5, 5, 16, 16, 5, 6, 16, 15, 16, 5, 16]\n",
      "MAP - Target Score: 0.8, Percentile: 0.1\n",
      "MAP - Accuracy: 0.9000, Average Token Count: 81427.25\n"
     ]
    },
    {
     "name": "stderr",
     "output_type": "stream",
     "text": []
    },
    {
     "name": "stdout",
     "output_type": "stream",
     "text": [
      "MAP Min N Required [5, 5, 5, 5, 5, 13, 16, 16, 16, 9, 11, 16, 5, 16, 5, 16, 16, 16, 16, 9, 16, 16, 5, 5, 12, 5, 5, 16, 16, 13, 12, 16, 16, 5, 16, 16, 16, 16, 13, 16]\n",
      "MAP - Target Score: 0.85, Percentile: 0.01\n",
      "MAP - Accuracy: 0.9000, Average Token Count: 92107.60\n"
     ]
    },
    {
     "name": "stderr",
     "output_type": "stream",
     "text": []
    },
    {
     "name": "stdout",
     "output_type": "stream",
     "text": [
      "MAP Min N Required [5, 5, 5, 5, 5, 11, 16, 16, 16, 8, 9, 16, 5, 16, 5, 15, 16, 16, 16, 8, 16, 16, 5, 5, 10, 5, 5, 16, 16, 11, 11, 16, 16, 5, 14, 16, 16, 16, 11, 16]\n",
      "MAP - Target Score: 0.85, Percentile: 0.02\n",
      "MAP - Accuracy: 0.9000, Average Token Count: 90230.48\n"
     ]
    },
    {
     "name": "stderr",
     "output_type": "stream",
     "text": []
    },
    {
     "name": "stdout",
     "output_type": "stream",
     "text": [
      "MAP Min N Required [5, 5, 5, 5, 5, 10, 16, 16, 16, 7, 8, 16, 5, 16, 5, 13, 16, 14, 16, 7, 16, 16, 5, 5, 9, 5, 5, 16, 16, 10, 9, 16, 16, 5, 12, 16, 16, 16, 10, 16]\n",
      "MAP - Target Score: 0.85, Percentile: 0.035\n",
      "MAP - Accuracy: 0.9000, Average Token Count: 88525.50\n"
     ]
    },
    {
     "name": "stderr",
     "output_type": "stream",
     "text": []
    },
    {
     "name": "stdout",
     "output_type": "stream",
     "text": [
      "MAP Min N Required [5, 5, 5, 5, 5, 9, 16, 16, 16, 6, 7, 16, 5, 16, 5, 12, 16, 12, 16, 6, 16, 16, 5, 5, 8, 5, 5, 16, 16, 9, 8, 16, 16, 5, 11, 16, 16, 16, 9, 16]\n",
      "MAP - Target Score: 0.85, Percentile: 0.05\n",
      "MAP - Accuracy: 0.9000, Average Token Count: 87121.65\n"
     ]
    },
    {
     "name": "stderr",
     "output_type": "stream",
     "text": []
    },
    {
     "name": "stdout",
     "output_type": "stream",
     "text": [
      "MAP Min N Required [5, 5, 5, 5, 5, 8, 16, 16, 16, 5, 6, 16, 5, 16, 5, 10, 16, 11, 16, 5, 16, 14, 5, 5, 7, 5, 5, 16, 16, 8, 7, 16, 16, 5, 9, 16, 16, 16, 7, 16]\n",
      "MAP - Target Score: 0.85, Percentile: 0.075\n",
      "MAP - Accuracy: 0.9000, Average Token Count: 85408.70\n"
     ]
    },
    {
     "name": "stderr",
     "output_type": "stream",
     "text": [
      "Target Score (MAP):  43%|████▎     | 3/7 [00:02<00:03,  1.23it/s]"
     ]
    },
    {
     "name": "stdout",
     "output_type": "stream",
     "text": [
      "MAP Min N Required [5, 5, 5, 5, 5, 7, 16, 16, 16, 5, 6, 16, 5, 16, 5, 9, 16, 10, 16, 5, 16, 13, 5, 5, 6, 5, 5, 16, 16, 7, 6, 16, 16, 5, 8, 16, 16, 16, 7, 16]\n",
      "MAP - Target Score: 0.85, Percentile: 0.1\n",
      "MAP - Accuracy: 0.9000, Average Token Count: 84315.05\n"
     ]
    },
    {
     "name": "stderr",
     "output_type": "stream",
     "text": []
    },
    {
     "name": "stdout",
     "output_type": "stream",
     "text": [
      "MAP Min N Required [8, 9, 9, 6, 6, 16, 16, 16, 16, 15, 16, 16, 11, 16, 5, 16, 16, 16, 16, 16, 16, 16, 5, 5, 16, 5, 5, 16, 16, 16, 16, 16, 16, 5, 16, 16, 16, 16, 16, 16]\n"
     ]
    },
    {
     "name": "stderr",
     "output_type": "stream",
     "text": []
    },
    {
     "name": "stdout",
     "output_type": "stream",
     "text": [
      "MAP - Target Score: 0.9, Percentile: 0.01\n",
      "MAP - Accuracy: 0.9000, Average Token Count: 97513.45\n",
      "MAP Min N Required [7, 8, 8, 5, 5, 16, 16, 16, 16, 13, 16, 16, 9, 16, 5, 16, 16, 16, 16, 14, 16, 16, 5, 5, 16, 5, 5, 16, 16, 16, 16, 16, 16, 5, 16, 16, 16, 16, 16, 16]\n",
      "MAP - Target Score: 0.9, Percentile: 0.02\n",
      "MAP - Accuracy: 0.9000, Average Token Count: 96438.68\n"
     ]
    },
    {
     "name": "stderr",
     "output_type": "stream",
     "text": []
    },
    {
     "name": "stdout",
     "output_type": "stream",
     "text": [
      "MAP Min N Required [6, 7, 7, 5, 5, 16, 16, 16, 16, 11, 16, 16, 8, 16, 5, 16, 16, 16, 16, 12, 16, 16, 5, 5, 15, 5, 5, 16, 16, 16, 16, 16, 16, 5, 16, 16, 16, 16, 16, 16]\n",
      "MAP - Target Score: 0.9, Percentile: 0.035\n",
      "MAP - Accuracy: 0.9000, Average Token Count: 95710.25\n",
      "MAP Min N Required [6, 6, 6, 5, 5, 16, 16, 16, 16, 10, 15, 16, 7, 16, 5, 16, 16, 16, 16, 11, 16, 16, 5, 5, 13, 5, 5, 16, 16, 16, 14, 16, 16, 5, 16, 16, 16, 16, 16, 16]\n",
      "MAP - Target Score: 0.9, Percentile: 0.05\n",
      "MAP - Accuracy: 0.9000, Average Token Count: 94754.40\n"
     ]
    },
    {
     "name": "stderr",
     "output_type": "stream",
     "text": [
      "Target Score (MAP):  57%|█████▋    | 4/7 [00:03<00:02,  1.11it/s]"
     ]
    },
    {
     "name": "stdout",
     "output_type": "stream",
     "text": [
      "MAP Min N Required [5, 6, 5, 5, 5, 14, 16, 16, 16, 9, 13, 16, 6, 16, 5, 16, 16, 16, 16, 9, 16, 16, 5, 5, 12, 5, 5, 16, 16, 14, 12, 16, 16, 5, 16, 16, 16, 16, 14, 16]\n",
      "MAP - Target Score: 0.9, Percentile: 0.075\n",
      "MAP - Accuracy: 0.9000, Average Token Count: 93053.35\n",
      "MAP Min N Required [5, 5, 5, 5, 5, 13, 16, 16, 16, 8, 11, 16, 6, 16, 5, 16, 16, 16, 16, 8, 16, 16, 5, 5, 10, 5, 5, 16, 16, 12, 11, 16, 16, 5, 14, 16, 16, 16, 12, 16]\n",
      "MAP - Target Score: 0.9, Percentile: 0.1\n",
      "MAP - Accuracy: 0.9000, Average Token Count: 91456.90\n"
     ]
    },
    {
     "name": "stderr",
     "output_type": "stream",
     "text": []
    },
    {
     "name": "stdout",
     "output_type": "stream",
     "text": [
      "MAP Min N Required [12, 14, 13, 10, 8, 16, 16, 16, 16, 16, 16, 16, 16, 16, 7, 16, 16, 16, 16, 16, 16, 16, 5, 5, 16, 6, 5, 16, 16, 16, 16, 16, 16, 5, 16, 16, 16, 16, 16, 16]\n",
      "MAP - Target Score: 0.925, Percentile: 0.01\n",
      "MAP - Accuracy: 0.9000, Average Token Count: 100469.43\n",
      "MAP Min N Required [11, 12, 11, 9, 7, 16, 16, 16, 16, 16, 16, 16, 14, 16, 6, 16, 16, 16, 16, 16, 16, 16, 5, 5, 16, 5, 5, 16, 16, 16, 16, 16, 16, 5, 16, 16, 16, 16, 16, 16]\n"
     ]
    },
    {
     "name": "stderr",
     "output_type": "stream",
     "text": []
    },
    {
     "name": "stdout",
     "output_type": "stream",
     "text": [
      "MAP - Target Score: 0.925, Percentile: 0.02\n",
      "MAP - Accuracy: 0.9000, Average Token Count: 99301.95\n",
      "MAP Min N Required [9, 10, 10, 7, 6, 16, 16, 16, 16, 16, 16, 16, 12, 16, 5, 16, 16, 16, 16, 16, 16, 16, 5, 5, 16, 5, 5, 16, 16, 16, 16, 16, 16, 5, 16, 16, 16, 16, 16, 16]\n",
      "MAP - Target Score: 0.925, Percentile: 0.035\n",
      "MAP - Accuracy: 0.9000, Average Token Count: 98119.75\n"
     ]
    },
    {
     "name": "stderr",
     "output_type": "stream",
     "text": [
      "\n"
     ]
    },
    {
     "name": "stdout",
     "output_type": "stream",
     "text": [
      "MAP Min N Required [8, 9, 9, 7, 6, 16, 16, 16, 16, 15, 16, 16, 11, 16, 5, 16, 16, 16, 16, 16, 16, 16, 5, 5, 16, 5, 5, 16, 16, 16, 16, 16, 16, 5, 16, 16, 16, 16, 16, 16]\n",
      "MAP - Target Score: 0.925, Percentile: 0.05\n",
      "MAP - Accuracy: 0.9000, Average Token Count: 97646.62\n",
      "MAP Min N Required [7, 8, 8, 6, 5, 16, 16, 16, 16, 13, 16, 16, 10, 16, 5, 16, 16, 16, 16, 14, 16, 16, 5, 5, 16, 5, 5, 16, 16, 16, 16, 16, 16, 5, 16, 16, 16, 16, 16, 16]\n",
      "MAP - Target Score: 0.925, Percentile: 0.075\n",
      "MAP - Accuracy: 0.9000, Average Token Count: 96701.02\n"
     ]
    },
    {
     "name": "stderr",
     "output_type": "stream",
     "text": [
      "Target Score (MAP):  71%|███████▏  | 5/7 [00:04<00:01,  1.02it/s]"
     ]
    },
    {
     "name": "stdout",
     "output_type": "stream",
     "text": [
      "MAP Min N Required [6, 7, 7, 5, 5, 16, 16, 16, 16, 11, 16, 16, 9, 16, 5, 16, 16, 16, 16, 12, 16, 16, 5, 5, 15, 5, 5, 16, 16, 16, 16, 16, 16, 5, 16, 16, 16, 16, 16, 16]\n",
      "MAP - Target Score: 0.925, Percentile: 0.1\n",
      "MAP - Accuracy: 0.9000, Average Token Count: 95913.95\n"
     ]
    },
    {
     "name": "stderr",
     "output_type": "stream",
     "text": []
    },
    {
     "name": "stdout",
     "output_type": "stream",
     "text": [
      "MAP Min N Required [16, 16, 16, 16, 14, 16, 16, 16, 16, 16, 16, 16, 16, 16, 16, 16, 16, 16, 16, 16, 16, 16, 7, 6, 16, 10, 10, 16, 16, 16, 16, 16, 16, 5, 16, 16, 16, 16, 16, 16]\n",
      "MAP - Target Score: 0.95, Percentile: 0.01\n",
      "MAP - Accuracy: 0.9000, Average Token Count: 105570.88\n"
     ]
    },
    {
     "name": "stderr",
     "output_type": "stream",
     "text": []
    },
    {
     "name": "stdout",
     "output_type": "stream",
     "text": [
      "MAP Min N Required [16, 16, 16, 16, 12, 16, 16, 16, 16, 16, 16, 16, 16, 16, 16, 16, 16, 16, 16, 16, 16, 16, 6, 5, 16, 8, 8, 16, 16, 16, 16, 16, 16, 5, 16, 16, 16, 16, 16, 16]\n",
      "MAP - Target Score: 0.95, Percentile: 0.02\n",
      "MAP - Accuracy: 0.9000, Average Token Count: 104625.57\n"
     ]
    },
    {
     "name": "stderr",
     "output_type": "stream",
     "text": []
    },
    {
     "name": "stdout",
     "output_type": "stream",
     "text": [
      "MAP Min N Required [15, 16, 16, 14, 11, 16, 16, 16, 16, 16, 16, 16, 16, 16, 16, 16, 16, 16, 16, 16, 16, 16, 5, 5, 16, 7, 7, 16, 16, 16, 16, 16, 16, 5, 16, 16, 16, 16, 16, 16]\n",
      "MAP - Target Score: 0.95, Percentile: 0.035\n",
      "MAP - Accuracy: 0.9000, Average Token Count: 103658.88\n"
     ]
    },
    {
     "name": "stderr",
     "output_type": "stream",
     "text": []
    },
    {
     "name": "stdout",
     "output_type": "stream",
     "text": [
      "MAP Min N Required [13, 15, 15, 12, 9, 16, 16, 16, 16, 16, 16, 16, 16, 16, 16, 16, 16, 16, 16, 16, 16, 16, 5, 5, 16, 6, 7, 16, 16, 16, 16, 16, 16, 5, 16, 16, 16, 16, 16, 16]\n",
      "MAP - Target Score: 0.95, Percentile: 0.05\n",
      "MAP - Accuracy: 0.9000, Average Token Count: 102677.12\n"
     ]
    },
    {
     "name": "stderr",
     "output_type": "stream",
     "text": []
    },
    {
     "name": "stdout",
     "output_type": "stream",
     "text": [
      "MAP Min N Required [12, 13, 13, 11, 8, 16, 16, 16, 16, 16, 16, 16, 16, 16, 16, 16, 16, 16, 16, 16, 16, 16, 5, 5, 16, 6, 6, 16, 16, 16, 16, 16, 16, 5, 16, 16, 16, 16, 16, 16]\n",
      "MAP - Target Score: 0.95, Percentile: 0.075\n",
      "MAP - Accuracy: 0.9000, Average Token Count: 102009.98\n"
     ]
    },
    {
     "name": "stderr",
     "output_type": "stream",
     "text": [
      "Target Score (MAP):  86%|████████▌ | 6/7 [00:05<00:01,  1.07s/it]"
     ]
    },
    {
     "name": "stdout",
     "output_type": "stream",
     "text": [
      "MAP Min N Required [10, 12, 11, 10, 7, 16, 16, 16, 16, 16, 16, 16, 15, 16, 16, 16, 16, 16, 16, 16, 16, 16, 5, 5, 16, 5, 5, 16, 16, 16, 16, 16, 16, 5, 16, 16, 16, 16, 16, 16]\n",
      "MAP - Target Score: 0.95, Percentile: 0.1\n",
      "MAP - Accuracy: 0.9000, Average Token Count: 101128.75\n"
     ]
    },
    {
     "name": "stderr",
     "output_type": "stream",
     "text": []
    },
    {
     "name": "stdout",
     "output_type": "stream",
     "text": [
      "MAP Min N Required [16, 16, 16, 16, 16, 16, 16, 16, 16, 16, 16, 16, 16, 16, 16, 16, 16, 16, 16, 16, 16, 16, 16, 16, 16, 16, 16, 16, 16, 16, 16, 16, 16, 15, 16, 16, 16, 16, 16, 16]\n",
      "MAP - Target Score: 0.975, Percentile: 0.01\n",
      "MAP - Accuracy: 0.9000, Average Token Count: 109636.00\n"
     ]
    },
    {
     "name": "stderr",
     "output_type": "stream",
     "text": []
    },
    {
     "name": "stdout",
     "output_type": "stream",
     "text": [
      "MAP Min N Required [16, 16, 16, 16, 16, 16, 16, 16, 16, 16, 16, 16, 16, 16, 16, 16, 16, 16, 16, 16, 16, 16, 16, 16, 16, 16, 16, 16, 16, 16, 16, 16, 16, 13, 16, 16, 16, 16, 16, 16]\n",
      "MAP - Target Score: 0.975, Percentile: 0.02\n",
      "MAP - Accuracy: 0.9000, Average Token Count: 109535.62\n"
     ]
    },
    {
     "name": "stderr",
     "output_type": "stream",
     "text": []
    },
    {
     "name": "stdout",
     "output_type": "stream",
     "text": [
      "MAP Min N Required [16, 16, 16, 16, 16, 16, 16, 16, 16, 16, 16, 16, 16, 16, 16, 16, 16, 16, 16, 16, 16, 16, 16, 14, 16, 16, 16, 16, 16, 16, 16, 16, 16, 11, 16, 16, 16, 16, 16, 16]\n",
      "MAP - Target Score: 0.975, Percentile: 0.035\n",
      "MAP - Accuracy: 0.9000, Average Token Count: 109140.27\n"
     ]
    },
    {
     "name": "stderr",
     "output_type": "stream",
     "text": []
    },
    {
     "name": "stdout",
     "output_type": "stream",
     "text": [
      "MAP Min N Required [16, 16, 16, 16, 16, 16, 16, 16, 16, 16, 16, 16, 16, 16, 16, 16, 16, 16, 16, 16, 16, 16, 16, 12, 16, 14, 16, 16, 16, 16, 16, 16, 16, 10, 16, 16, 16, 16, 16, 16]\n",
      "MAP - Target Score: 0.975, Percentile: 0.05\n",
      "MAP - Accuracy: 0.9000, Average Token Count: 108561.80\n"
     ]
    },
    {
     "name": "stderr",
     "output_type": "stream",
     "text": []
    },
    {
     "name": "stdout",
     "output_type": "stream",
     "text": [
      "MAP Min N Required [16, 16, 16, 16, 16, 16, 16, 16, 16, 16, 16, 16, 16, 16, 16, 16, 16, 16, 16, 16, 16, 16, 16, 11, 16, 12, 16, 16, 16, 16, 16, 16, 16, 9, 16, 16, 16, 16, 16, 16]\n",
      "MAP - Target Score: 0.975, Percentile: 0.075\n",
      "MAP - Accuracy: 0.9000, Average Token Count: 108158.85\n"
     ]
    },
    {
     "name": "stderr",
     "output_type": "stream",
     "text": [
      "Target Score (MAP): 100%|██████████| 7/7 [00:07<00:00,  1.02s/it]"
     ]
    },
    {
     "name": "stdout",
     "output_type": "stream",
     "text": [
      "MAP Min N Required [16, 16, 16, 16, 16, 16, 16, 16, 16, 16, 16, 16, 16, 16, 16, 16, 16, 16, 16, 16, 16, 16, 16, 10, 16, 11, 16, 16, 16, 16, 16, 16, 16, 8, 16, 16, 16, 16, 16, 16]\n",
      "MAP - Target Score: 0.975, Percentile: 0.1\n",
      "MAP - Accuracy: 0.9000, Average Token Count: 107846.07\n"
     ]
    },
    {
     "name": "stderr",
     "output_type": "stream",
     "text": [
      "\n"
     ]
    },
    {
     "data": {
      "image/png": "[encoded data removed]",
      "text/plain": [
       "<Figure size 1200x800 with 1 Axes>"
      ]
     },
     "metadata": {},
     "output_type": "display_data"
    },
    {
     "name": "stdout",
     "output_type": "stream",
     "text": [
      "\n",
      "MLE Pareto-optimal configurations:\n",
      "Target Score: 0.75, Percentile: 0.1, Accuracy: 0.9000, Avg Token Count: 69936.38\n",
      "\n",
      "MAP Pareto-optimal configurations:\n",
      "Target Score: 0.75, Percentile: 0.1, Accuracy: 0.9000, Avg Token Count: 74377.43\n"
     ]
    }
   ],
   "source": [
    "max_N_panel = 16\n",
    "print(\"Target Score Panel:\", target_score_panel_values)\n",
    "print(\"Percentile Panel:\", percentile_panel_values)\n",
    "print(\"Max N:\", max_N_panel)\n",
    "\n",
    "# Evaluate MLE results\n",
    "print(\"\\nEvaluating MLE Results...\")\n",
    "truncated_normal_params_all = mle_estimated_params\n",
    "mle_grid_search_results = []\n",
    "\n",
    "for target_score in tqdm(target_score_panel_values, desc=\"Target Score (MLE)\"):\n",
    "    for percentile in tqdm(percentile_panel_values, desc=\"Percentile\", leave=False):\n",
    "        min_N_required = []\n",
    "        for i, (mu, sigma) in enumerate(truncated_normal_params_all):\n",
    "            min_N = find_min_N_for_threshold(mu, sigma, target_score=target_score, \n",
    "                                        percentile=percentile, max_N=max_N_panel)\n",
    "            if min_N < peek_number:\n",
    "                min_N = peek_number\n",
    "            min_N_required.append(min_N)\n",
    "        print(\"MLE Min N Required\", min_N_required)\n",
    "        \n",
    "        # Evaluate model performance with these parameters\n",
    "        correct = 0\n",
    "        entire_token_count = 0\n",
    "\n",
    "        for idx, item in enumerate(val_texts):\n",
    "            N = min_N_required[idx]\n",
    "            completions = val_completions[idx][0][:N]\n",
    "            scores = val_scores[idx][0][:N]\n",
    "            completion_tokens = val_completion_tokens[idx][0][:N]\n",
    "            total_tokens = sum(completion_tokens)\n",
    "\n",
    "            highest_scores_idx = scores.index(max(scores))\n",
    "\n",
    "            while completions[highest_scores_idx] == \"\":\n",
    "                scores[highest_scores_idx] = 0 \n",
    "                if max(scores) == 0: \n",
    "                    break\n",
    "                highest_scores_idx = scores.index(max(scores))\n",
    "\n",
    "            output = completions[highest_scores_idx]\n",
    "            answer = get_answer(output)\n",
    "\n",
    "            if verify_extracted_answer(val_gt_answers[idx], answer):\n",
    "                correct += 1\n",
    "            entire_token_count += total_tokens\n",
    "\n",
    "        accuracy = correct / len(val_texts)\n",
    "        average_token_count = entire_token_count / len(val_texts)\n",
    "        \n",
    "        print(f\"MLE - Target Score: {target_score}, Percentile: {percentile}\")\n",
    "        print(f\"MLE - Accuracy: {accuracy:.4f}, Average Token Count: {average_token_count:.2f}\")\n",
    "        \n",
    "        mle_grid_search_results.append({\n",
    "            'target_score': target_score,\n",
    "            'percentile': percentile,\n",
    "            'accuracy': accuracy,\n",
    "            'average_token_count': average_token_count\n",
    "        })\n",
    "        \n",
    "with open(f'{DATASET}_OptScale_MLE_results_{max_N_panel}.json', 'w') as f:\n",
    "    json.dump(mle_grid_search_results, f)\n",
    "\n",
    "\n",
    "# Evaluate MAP results\n",
    "print(\"\\nEvaluating MAP Results...\")\n",
    "truncated_normal_params_all = map_estimated_params\n",
    "map_grid_search_results = []\n",
    "\n",
    "for target_score in tqdm(target_score_panel_values, desc=\"Target Score (MAP)\"):\n",
    "    for percentile in tqdm(percentile_panel_values, desc=\"Percentile\", leave=False):\n",
    "        min_N_required = []\n",
    "        for i, (mu, sigma) in enumerate(truncated_normal_params_all):\n",
    "            min_N = find_min_N_for_threshold(mu, sigma, target_score=target_score, \n",
    "                                        percentile=percentile, max_N=max_N_panel)\n",
    "            if min_N < peek_number:\n",
    "                min_N = peek_number\n",
    "            min_N_required.append(min_N)\n",
    "        print(\"MAP Min N Required\", min_N_required)\n",
    "        \n",
    "        # Evaluate model performance with these parameters\n",
    "        correct = 0\n",
    "        entire_token_count = 0\n",
    "\n",
    "        for idx, item in enumerate(val_texts):\n",
    "            N = min_N_required[idx]\n",
    "            completions = val_completions[idx][0][:N]\n",
    "            scores = val_scores[idx][0][:N]\n",
    "            completion_tokens = val_completion_tokens[idx][0][:N]\n",
    "            total_tokens = sum(completion_tokens)\n",
    "\n",
    "            highest_scores_idx = scores.index(max(scores))\n",
    "\n",
    "            while completions[highest_scores_idx] == \"\":\n",
    "                scores[highest_scores_idx] = 0 \n",
    "                if max(scores) == 0: \n",
    "                    break\n",
    "                highest_scores_idx = scores.index(max(scores))\n",
    "\n",
    "            output = completions[highest_scores_idx]\n",
    "            answer = get_answer(output)\n",
    "\n",
    "            if verify_extracted_answer(val_gt_answers[idx], answer):\n",
    "                correct += 1\n",
    "            entire_token_count += total_tokens\n",
    "\n",
    "        accuracy = correct / len(val_texts)\n",
    "        average_token_count = entire_token_count / len(val_texts)\n",
    "        \n",
    "        print(f\"MAP - Target Score: {target_score}, Percentile: {percentile}\")\n",
    "        print(f\"MAP - Accuracy: {accuracy:.4f}, Average Token Count: {average_token_count:.2f}\")\n",
    "        \n",
    "        map_grid_search_results.append({\n",
    "            'target_score': target_score,\n",
    "            'percentile': percentile,\n",
    "            'accuracy': accuracy,\n",
    "            'average_token_count': average_token_count\n",
    "        })\n",
    "        \n",
    "with open(f'{DATASET}_OptScale_MAP_results_{max_N_panel}.json', 'w') as f:\n",
    "    json.dump(map_grid_search_results, f)\n",
    "\n",
    "plot_mle_map_optscale(mle_grid_search_results, map_grid_search_results, baseline_average_token_counts, baseline_accuracy_values, max_N_panel)"
   ]
  },
  {
   "cell_type": "code",
   "execution_count": 8,
   "metadata": {},
   "outputs": [
    {
     "name": "stdout",
     "output_type": "stream",
     "text": [
      "0         0.5888      0.1438    0.9940    0.0059    0.8779    0.1197    0.9922    0.0050\n",
      "1         0.4565      0.0747    0.9854    0.0075    0.8558    0.1857    0.9860    0.0058\n",
      "2         0.4358      0.0651    0.9809    0.0041    0.8412    0.1213    0.9771    0.0074\n",
      "3         0.4280      0.0684    0.9541    0.0291    0.8835    0.0552    0.9584    0.0262\n",
      "4         0.5449      0.1461    0.9408    0.1034    0.7443    0.2058    0.9009    0.1016\n",
      "5         0.4186      0.0189    0.8743    0.0509    0.6867    0.1813    0.9237    0.1176\n",
      "6         0.6573      0.1089    0.6768    0.0754    0.6757    0.0764    0.7029    0.0685\n",
      "7         0.6261      0.1181    0.7031    0.0895    0.6972    0.0908    0.6548    0.0874\n",
      "8         0.2787      0.0185    0.6748    0.0392    0.4506    0.2168    0.6930    0.0705\n",
      "9         0.5441      0.1487    0.9874    0.0068    0.8027    0.1967    0.9890    0.0050\n",
      "10        0.5938      0.1681    0.8810    0.0686    0.8129    0.0846    0.8563    0.0967\n",
      "11        0.6530      0.1204    0.5944    0.0535    0.5961    0.0545    0.5822    0.0567\n",
      "12        0.5296      0.0930    1.1348    0.1651    0.8535    0.1045    1.1758    0.2108\n",
      "13        0.2844      0.0026    0.6832    0.0497    0.6615    0.0498    0.6901    0.0383\n",
      "14        0.6301      0.1024    0.9325    0.0142    0.9054    0.0289    0.9173    0.0391\n",
      "15        0.5203      0.1140    3.0287    0.6366    0.7838    0.1875    1.0188    0.2194\n",
      "16        0.2971      0.1167    0.9499    0.0284    0.8061    0.2204    0.9569    0.0339\n",
      "17        0.4425      0.1136    0.9737    0.0108    0.8416    0.1184    2.9191    0.2626\n",
      "18        0.6358      0.1159    0.5712    0.0739    0.5747    0.0752    0.5819    0.0822\n",
      "19        0.6854      0.1171    0.9884    0.0029    0.9766    0.0113    0.9882    0.0038\n",
      "20        0.6355      0.1344    0.6413    0.0270    0.6413    0.0274    0.6261    0.0382\n",
      "21        0.4173      0.0735   60.8231    1.8470    0.8399    0.1166    1.3136    0.1551\n",
      "22        0.6556      0.1417    0.9797    0.0061    0.9371    0.0385    0.9811    0.0055\n",
      "23        0.7407      0.1083    0.9505    0.0331    0.9251    0.0373    0.9400    0.0363\n",
      "24        0.6906      0.0796   20.3081    0.9026    0.8438    0.1970    0.9899    0.0615\n",
      "25        0.5334      0.1168    1.0065    0.0306    0.7632    0.2614    0.9987    0.0226\n",
      "26        0.7286      0.0873    0.9733    0.0107    0.9075    0.0894    0.9726    0.0094\n",
      "27        0.4190      0.0828    0.5831    0.0627    0.5768    0.0634    0.5745    0.0793\n",
      "28        0.4632      0.0812    0.7314    0.1107    0.7008    0.1112    0.6906    0.1164\n",
      "29        0.6458      0.1337    7.3554    0.8474    0.8962    0.1285    1.8034    0.2713\n",
      "30        0.6560      0.1068    0.9819    0.0085    0.8165    0.2364    0.9844    0.0074\n",
      "31        0.5765      0.1208    0.6224    0.0654    0.6205    0.0666    0.6138    0.0452\n",
      "32        0.6620      0.0940    0.7620    0.0621    0.7582    0.0628    0.7696    0.0582\n",
      "33        0.7607      0.1361    0.9803    0.0079    0.9763    0.0179    0.9834    0.0071\n",
      "34        0.4495      0.1040    0.9834    0.0045    0.8344    0.1255    0.9844    0.0047\n",
      "35        0.6292      0.1057    0.7371    0.0918    0.7285    0.0926    0.7366    0.1007\n",
      "36        0.5142      0.0696    0.7447    0.0846    0.6702    0.1221    0.7483    0.0962\n",
      "37        0.4586      0.0650    0.6281    0.0627    0.5742    0.0796    0.6356    0.0678\n",
      "38        0.6418      0.1119    0.9367    0.0485    0.9052    0.0495    0.9408    0.0989\n",
      "39        0.5809      0.1207    0.6024    0.0652    0.6014    0.0664    0.5846    0.0766\n",
      "\n",
      "Performance Comparison (MSE against ground truth):\n",
      "Predictor MSE - μ: 0.319919, σ: 0.006766\n",
      "MLE MSE      - μ: 98.830856, σ: 0.103809\n",
      "MAP MSE      - μ: 0.148127, σ: 0.009428\n",
      "\n",
      "Statistics of Different Estimation Methods:\n",
      "Predictor Estimates:\n",
      "Mean μ: 0.5527 ± 0.1225\n",
      "Mean σ: 0.1012 ± 0.0352\n",
      "\n",
      "MLE Estimates (10 samples):\n",
      "Mean μ: 3.0460 ± 9.7858\n",
      "Mean σ: 0.1474 ± 0.3394\n",
      "\n",
      "MAP Estimates (10 samples):\n",
      "Mean μ: 0.7711 ± 0.1267\n",
      "Mean σ: 0.1094 ± 0.0658\n",
      "\n",
      "Ground Truth (100 samples):\n",
      "Mean μ: 0.9334 ± 0.3918\n",
      "Mean σ: 0.0724 ± 0.0684\n"
     ]
    }
   ],
   "source": [
    "peek_number = 10\n",
    "\n",
    "mle_estimated_params = []  # Store MLE estimates\n",
    "map_estimated_params = []  # Store MAP estimates\n",
    "predictor_params = []      # Store predictor's estimates\n",
    "\n",
    "for i, (score, prediction) in enumerate(zip(val_scores, val_labels)):\n",
    "    peek_data = np.array(score[0][:peek_number])\n",
    "    \n",
    "    # Store predictor's parameters\n",
    "    prior_mu, prior_sigma = prediction\n",
    "    predictor_params.append((prior_mu, prior_sigma))\n",
    "    \n",
    "    # MLE estimation with limited data\n",
    "    initial_mu = np.mean(peek_data)\n",
    "    initial_sigma = np.std(peek_data)\n",
    "    mle_result = minimize(\n",
    "        lambda params: neg_log_likelihood(params, peek_data),\n",
    "        [initial_mu, initial_sigma],\n",
    "        bounds=[(None, None), (1e-6, None)],\n",
    "        method='L-BFGS-B'\n",
    "    )\n",
    "    mle_mu, mle_sigma = mle_result.x\n",
    "    mle_estimated_params.append((mle_mu, mle_sigma))\n",
    "    \n",
    "    # MAP estimation with limited data\n",
    "    map_result = minimize(\n",
    "        lambda params: neg_log_posterior(\n",
    "            params, \n",
    "            peek_data, \n",
    "            prior_mu=prior_mu, \n",
    "            prior_sigma=prior_sigma\n",
    "        ),\n",
    "        [prior_mu, prior_sigma],\n",
    "        bounds=[(None, None), (1e-6, None)],\n",
    "        method='L-BFGS-B'\n",
    "    )\n",
    "    map_mu, map_sigma = map_result.x\n",
    "    map_estimated_params.append((map_mu, map_sigma))\n",
    "    \n",
    "    # Print comparison for first 50 examples\n",
    "    if i < 50:\n",
    "        gt_mu, gt_sigma = original_params_compare[i]\n",
    "        print(f\"{i:<4} {prior_mu:11.4f} {prior_sigma:11.4f} {mle_mu:9.4f} {mle_sigma:9.4f} \"\n",
    "              f\"{map_mu:9.4f} {map_sigma:9.4f} {gt_mu:9.4f} {gt_sigma:9.4f}\")\n",
    "\n",
    "# Call the function to perform the analysis\n",
    "analyze_estimation_performance(predictor_params, mle_estimated_params, map_estimated_params, original_params_compare)\n"
   ]
  },
  {
   "cell_type": "code",
   "execution_count": 9,
   "metadata": {},
   "outputs": [
    {
     "name": "stdout",
     "output_type": "stream",
     "text": [
      "Target Score Panel: [0.75, 0.8, 0.85, 0.9, 0.925, 0.95, 0.975]\n",
      "Percentile Panel: [0.01, 0.02, 0.035, 0.05, 0.075, 0.1]\n",
      "Max N: 32\n",
      "\n",
      "Evaluating MLE Results...\n"
     ]
    },
    {
     "name": "stderr",
     "output_type": "stream",
     "text": [
      "Target Score (MLE):   0%|          | 0/7 [00:00<?, ?it/s]"
     ]
    },
    {
     "name": "stdout",
     "output_type": "stream",
     "text": [
      "MLE Min N Required [10, 10, 10, 10, 10, 10, 26, 13, 32, 10, 10, 32, 10, 32, 10, 10, 10, 10, 32, 10, 32, 10, 10, 10, 10, 10, 10, 32, 10, 10, 10, 32, 10, 10, 10, 10, 10, 32, 10, 32]\n",
      "MLE - Target Score: 0.75, Percentile: 0.01\n",
      "MLE - Accuracy: 0.9000, Average Token Count: 131889.33\n"
     ]
    },
    {
     "name": "stderr",
     "output_type": "stream",
     "text": []
    },
    {
     "name": "stdout",
     "output_type": "stream",
     "text": [
      "MLE Min N Required [10, 10, 10, 10, 10, 10, 22, 12, 32, 10, 10, 32, 10, 32, 10, 10, 10, 10, 32, 10, 32, 10, 10, 10, 10, 10, 10, 32, 10, 10, 10, 32, 10, 10, 10, 10, 10, 32, 10, 32]\n",
      "MLE - Target Score: 0.75, Percentile: 0.02\n",
      "MLE - Accuracy: 0.9000, Average Token Count: 130611.10\n"
     ]
    },
    {
     "name": "stderr",
     "output_type": "stream",
     "text": []
    },
    {
     "name": "stdout",
     "output_type": "stream",
     "text": [
      "MLE Min N Required [10, 10, 10, 10, 10, 10, 19, 10, 32, 10, 10, 32, 10, 32, 10, 10, 10, 10, 32, 10, 32, 10, 10, 10, 10, 10, 10, 32, 10, 10, 10, 32, 10, 10, 10, 10, 10, 32, 10, 32]\n",
      "MLE - Target Score: 0.75, Percentile: 0.035\n",
      "MLE - Accuracy: 0.9000, Average Token Count: 129293.32\n"
     ]
    },
    {
     "name": "stderr",
     "output_type": "stream",
     "text": []
    },
    {
     "name": "stdout",
     "output_type": "stream",
     "text": [
      "MLE Min N Required [10, 10, 10, 10, 10, 10, 17, 10, 32, 10, 10, 32, 10, 32, 10, 10, 10, 10, 32, 10, 32, 10, 10, 10, 10, 10, 10, 32, 10, 10, 10, 32, 10, 10, 10, 10, 10, 32, 10, 32]\n",
      "MLE - Target Score: 0.75, Percentile: 0.05\n",
      "MLE - Accuracy: 0.9000, Average Token Count: 128733.88\n"
     ]
    },
    {
     "name": "stderr",
     "output_type": "stream",
     "text": []
    },
    {
     "name": "stdout",
     "output_type": "stream",
     "text": [
      "MLE Min N Required [10, 10, 10, 10, 10, 10, 15, 10, 32, 10, 10, 32, 10, 28, 10, 10, 10, 10, 32, 10, 32, 10, 10, 10, 10, 10, 10, 32, 10, 10, 10, 32, 10, 10, 10, 10, 10, 32, 10, 32]\n",
      "MLE - Target Score: 0.75, Percentile: 0.075\n",
      "MLE - Accuracy: 0.9000, Average Token Count: 126991.73\n"
     ]
    },
    {
     "name": "stderr",
     "output_type": "stream",
     "text": [
      "Target Score (MLE):  14%|█▍        | 1/7 [00:00<00:05,  1.14it/s]"
     ]
    },
    {
     "name": "stdout",
     "output_type": "stream",
     "text": [
      "MLE Min N Required [10, 10, 10, 10, 10, 10, 13, 10, 32, 10, 10, 32, 10, 25, 10, 10, 10, 10, 32, 10, 32, 10, 10, 10, 10, 10, 10, 32, 10, 10, 10, 32, 10, 10, 10, 10, 10, 32, 10, 32]\n",
      "MLE - Target Score: 0.75, Percentile: 0.1\n",
      "MLE - Accuracy: 0.9000, Average Token Count: 125426.93\n"
     ]
    },
    {
     "name": "stderr",
     "output_type": "stream",
     "text": []
    },
    {
     "name": "stdout",
     "output_type": "stream",
     "text": [
      "MLE Min N Required [10, 10, 10, 10, 10, 10, 32, 31, 32, 10, 10, 32, 10, 32, 10, 10, 10, 10, 32, 10, 32, 10, 10, 10, 10, 10, 10, 32, 16, 10, 10, 32, 15, 10, 10, 17, 16, 32, 10, 32]\n",
      "MLE - Target Score: 0.8, Percentile: 0.01\n",
      "MLE - Accuracy: 0.9000, Average Token Count: 144221.02\n"
     ]
    },
    {
     "name": "stderr",
     "output_type": "stream",
     "text": []
    },
    {
     "name": "stdout",
     "output_type": "stream",
     "text": [
      "MLE Min N Required [10, 10, 10, 10, 10, 10, 32, 27, 32, 10, 10, 32, 10, 32, 10, 10, 10, 10, 32, 10, 32, 10, 10, 10, 10, 10, 10, 32, 13, 10, 10, 32, 13, 10, 10, 14, 14, 32, 10, 32]\n",
      "MLE - Target Score: 0.8, Percentile: 0.02\n",
      "MLE - Accuracy: 0.9000, Average Token Count: 140742.92\n"
     ]
    },
    {
     "name": "stderr",
     "output_type": "stream",
     "text": []
    },
    {
     "name": "stdout",
     "output_type": "stream",
     "text": [
      "MLE Min N Required [10, 10, 10, 10, 10, 10, 32, 23, 32, 10, 10, 32, 10, 32, 10, 10, 10, 10, 32, 10, 32, 10, 10, 10, 10, 10, 10, 32, 12, 10, 10, 32, 11, 10, 10, 12, 12, 32, 10, 32]\n",
      "MLE - Target Score: 0.8, Percentile: 0.035\n",
      "MLE - Accuracy: 0.9000, Average Token Count: 138004.55\n"
     ]
    },
    {
     "name": "stderr",
     "output_type": "stream",
     "text": []
    },
    {
     "name": "stdout",
     "output_type": "stream",
     "text": [
      "MLE Min N Required [10, 10, 10, 10, 10, 10, 32, 21, 32, 10, 10, 32, 10, 32, 10, 10, 10, 10, 32, 10, 32, 10, 10, 10, 10, 10, 10, 32, 10, 10, 10, 32, 10, 10, 10, 11, 11, 32, 10, 32]\n",
      "MLE - Target Score: 0.8, Percentile: 0.05\n",
      "MLE - Accuracy: 0.9000, Average Token Count: 136506.38\n"
     ]
    },
    {
     "name": "stderr",
     "output_type": "stream",
     "text": []
    },
    {
     "name": "stdout",
     "output_type": "stream",
     "text": [
      "MLE Min N Required [10, 10, 10, 10, 10, 10, 32, 18, 32, 10, 10, 32, 10, 32, 10, 10, 10, 10, 32, 10, 32, 10, 10, 10, 10, 10, 10, 32, 10, 10, 10, 32, 10, 10, 10, 10, 10, 32, 10, 32]\n",
      "MLE - Target Score: 0.8, Percentile: 0.075\n",
      "MLE - Accuracy: 0.9000, Average Token Count: 135189.90\n"
     ]
    },
    {
     "name": "stderr",
     "output_type": "stream",
     "text": [
      "Target Score (MLE):  29%|██▊       | 2/7 [00:01<00:04,  1.08it/s]"
     ]
    },
    {
     "name": "stdout",
     "output_type": "stream",
     "text": [
      "MLE Min N Required [10, 10, 10, 10, 10, 10, 32, 16, 32, 10, 10, 32, 10, 32, 10, 10, 10, 10, 32, 10, 32, 10, 10, 10, 10, 10, 10, 32, 10, 10, 10, 32, 10, 10, 10, 10, 10, 32, 10, 32]\n",
      "MLE - Target Score: 0.8, Percentile: 0.1\n",
      "MLE - Accuracy: 0.9000, Average Token Count: 134598.67\n"
     ]
    },
    {
     "name": "stderr",
     "output_type": "stream",
     "text": []
    },
    {
     "name": "stdout",
     "output_type": "stream",
     "text": [
      "MLE Min N Required [10, 10, 10, 10, 10, 10, 32, 32, 32, 10, 10, 32, 10, 32, 10, 10, 10, 10, 32, 10, 32, 10, 10, 10, 10, 10, 10, 32, 32, 10, 10, 32, 32, 10, 10, 32, 32, 32, 10, 32]\n"
     ]
    },
    {
     "name": "stderr",
     "output_type": "stream",
     "text": []
    },
    {
     "name": "stdout",
     "output_type": "stream",
     "text": [
      "MLE - Target Score: 0.85, Percentile: 0.01\n",
      "MLE - Accuracy: 0.9000, Average Token Count: 159704.48\n",
      "MLE Min N Required [10, 10, 10, 10, 10, 10, 32, 32, 32, 10, 10, 32, 10, 32, 10, 10, 10, 10, 32, 10, 32, 10, 10, 10, 10, 10, 10, 32, 28, 10, 10, 32, 32, 10, 10, 32, 32, 32, 10, 32]\n"
     ]
    },
    {
     "name": "stderr",
     "output_type": "stream",
     "text": []
    },
    {
     "name": "stdout",
     "output_type": "stream",
     "text": [
      "MLE - Target Score: 0.85, Percentile: 0.02\n",
      "MLE - Accuracy: 0.9000, Average Token Count: 158707.58\n"
     ]
    },
    {
     "name": "stderr",
     "output_type": "stream",
     "text": []
    },
    {
     "name": "stdout",
     "output_type": "stream",
     "text": [
      "MLE Min N Required [10, 10, 10, 10, 10, 10, 32, 32, 32, 10, 10, 32, 10, 32, 10, 10, 10, 10, 32, 10, 32, 10, 10, 10, 10, 10, 10, 32, 24, 10, 10, 32, 32, 10, 10, 30, 31, 32, 10, 32]\n",
      "MLE - Target Score: 0.85, Percentile: 0.035\n",
      "MLE - Accuracy: 0.9000, Average Token Count: 157157.08\n"
     ]
    },
    {
     "name": "stderr",
     "output_type": "stream",
     "text": []
    },
    {
     "name": "stdout",
     "output_type": "stream",
     "text": [
      "MLE Min N Required [10, 10, 10, 10, 10, 10, 32, 32, 32, 10, 10, 32, 10, 32, 10, 10, 10, 10, 32, 10, 32, 10, 10, 10, 10, 10, 10, 32, 21, 10, 10, 32, 32, 10, 10, 27, 28, 32, 10, 32]\n",
      "MLE - Target Score: 0.85, Percentile: 0.05\n",
      "MLE - Accuracy: 0.9000, Average Token Count: 155184.42\n"
     ]
    },
    {
     "name": "stderr",
     "output_type": "stream",
     "text": []
    },
    {
     "name": "stdout",
     "output_type": "stream",
     "text": [
      "MLE Min N Required [10, 10, 10, 10, 10, 10, 32, 32, 32, 10, 10, 32, 10, 32, 10, 10, 10, 10, 32, 10, 32, 10, 10, 10, 10, 10, 10, 32, 18, 10, 10, 32, 32, 10, 10, 23, 24, 32, 10, 32]\n",
      "MLE - Target Score: 0.85, Percentile: 0.075\n",
      "MLE - Accuracy: 0.9000, Average Token Count: 152599.33\n"
     ]
    },
    {
     "name": "stderr",
     "output_type": "stream",
     "text": [
      "Target Score (MLE):  43%|████▎     | 3/7 [00:02<00:03,  1.00it/s]"
     ]
    },
    {
     "name": "stdout",
     "output_type": "stream",
     "text": [
      "MLE Min N Required [10, 10, 10, 10, 10, 10, 32, 32, 32, 10, 10, 32, 10, 32, 10, 10, 10, 10, 32, 10, 32, 10, 10, 10, 10, 10, 10, 32, 16, 10, 10, 32, 29, 10, 10, 21, 21, 32, 10, 32]\n",
      "MLE - Target Score: 0.85, Percentile: 0.1\n",
      "MLE - Accuracy: 0.9000, Average Token Count: 150144.15\n"
     ]
    },
    {
     "name": "stderr",
     "output_type": "stream",
     "text": []
    },
    {
     "name": "stdout",
     "output_type": "stream",
     "text": [
      "MLE Min N Required [10, 10, 10, 10, 10, 13, 32, 32, 32, 10, 11, 32, 10, 32, 10, 10, 10, 10, 32, 10, 32, 10, 10, 10, 10, 10, 10, 32, 32, 10, 10, 32, 32, 10, 10, 32, 32, 32, 10, 32]\n",
      "MLE - Target Score: 0.9, Percentile: 0.01\n",
      "MLE - Accuracy: 0.9000, Average Token Count: 160488.60\n",
      "MLE Min N Required [10, 10, 10, 10, 10, 11, 32, 32, 32, 10, 10, 32, 10, 32, 10, 10, 10, 10, 32, 10, 32, 10, 10, 10, 10, 10, 10, 32, 32, 10, 10, 32, 32, 10, 10, 32, 32, 32, 10, 32]\n"
     ]
    },
    {
     "name": "stderr",
     "output_type": "stream",
     "text": []
    },
    {
     "name": "stdout",
     "output_type": "stream",
     "text": [
      "MLE - Target Score: 0.9, Percentile: 0.02\n",
      "MLE - Accuracy: 0.9000, Average Token Count: 160027.33\n",
      "MLE Min N Required [10, 10, 10, 10, 10, 10, 32, 32, 32, 10, 10, 32, 10, 32, 10, 10, 10, 10, 32, 10, 32, 10, 10, 10, 10, 10, 10, 32, 32, 10, 10, 32, 32, 10, 10, 32, 32, 32, 10, 32]\n",
      "MLE - Target Score: 0.9, Percentile: 0.035\n",
      "MLE - Accuracy: 0.9000, Average Token Count: 159704.48\n"
     ]
    },
    {
     "name": "stderr",
     "output_type": "stream",
     "text": []
    },
    {
     "name": "stdout",
     "output_type": "stream",
     "text": [
      "MLE Min N Required [10, 10, 10, 10, 10, 10, 32, 32, 32, 10, 10, 32, 10, 32, 10, 10, 10, 10, 32, 10, 32, 10, 10, 10, 10, 10, 10, 32, 32, 10, 10, 32, 32, 10, 10, 32, 32, 32, 10, 32]\n",
      "MLE - Target Score: 0.9, Percentile: 0.05\n",
      "MLE - Accuracy: 0.9000, Average Token Count: 159704.48\n",
      "MLE Min N Required [10, 10, 10, 10, 10, 10, 32, 32, 32, 10, 10, 32, 10, 32, 10, 10, 10, 10, 32, 10, 32, 10, 10, 10, 10, 10, 10, 32, 32, 10, 10, 32, 32, 10, 10, 32, 32, 32, 10, 32]\n"
     ]
    },
    {
     "name": "stderr",
     "output_type": "stream",
     "text": [
      "Target Score (MLE):  57%|█████▋    | 4/7 [00:04<00:03,  1.07s/it]"
     ]
    },
    {
     "name": "stdout",
     "output_type": "stream",
     "text": [
      "MLE - Target Score: 0.9, Percentile: 0.075\n",
      "MLE - Accuracy: 0.9000, Average Token Count: 159704.48\n",
      "MLE Min N Required [10, 10, 10, 10, 10, 10, 32, 32, 32, 10, 10, 32, 10, 32, 10, 10, 10, 10, 32, 10, 32, 10, 10, 10, 10, 10, 10, 32, 32, 10, 10, 32, 32, 10, 10, 32, 32, 32, 10, 32]\n",
      "MLE - Target Score: 0.9, Percentile: 0.1\n",
      "MLE - Accuracy: 0.9000, Average Token Count: 159704.48\n"
     ]
    },
    {
     "name": "stderr",
     "output_type": "stream",
     "text": []
    },
    {
     "name": "stdout",
     "output_type": "stream",
     "text": [
      "MLE Min N Required [10, 10, 10, 10, 10, 28, 32, 32, 32, 10, 18, 32, 10, 32, 10, 12, 10, 10, 32, 10, 32, 10, 10, 10, 10, 10, 10, 32, 32, 10, 10, 32, 32, 10, 10, 32, 32, 32, 10, 32]\n",
      "MLE - Target Score: 0.925, Percentile: 0.01\n",
      "MLE - Accuracy: 0.9000, Average Token Count: 164629.62\n"
     ]
    },
    {
     "name": "stderr",
     "output_type": "stream",
     "text": []
    },
    {
     "name": "stdout",
     "output_type": "stream",
     "text": [
      "MLE Min N Required [10, 10, 10, 10, 10, 24, 32, 32, 32, 10, 16, 32, 10, 32, 10, 10, 10, 10, 32, 10, 32, 10, 10, 10, 10, 10, 10, 32, 32, 10, 10, 32, 32, 10, 10, 32, 32, 32, 10, 32]\n",
      "MLE - Target Score: 0.925, Percentile: 0.02\n",
      "MLE - Accuracy: 0.9000, Average Token Count: 163083.30\n"
     ]
    },
    {
     "name": "stderr",
     "output_type": "stream",
     "text": []
    },
    {
     "name": "stdout",
     "output_type": "stream",
     "text": [
      "MLE Min N Required [10, 10, 10, 10, 10, 21, 32, 32, 32, 10, 14, 32, 10, 32, 10, 10, 10, 10, 32, 10, 32, 10, 10, 10, 10, 10, 10, 32, 32, 10, 10, 32, 32, 10, 10, 32, 32, 32, 10, 32]\n",
      "MLE - Target Score: 0.925, Percentile: 0.035\n",
      "MLE - Accuracy: 0.9000, Average Token Count: 162217.73\n"
     ]
    },
    {
     "name": "stderr",
     "output_type": "stream",
     "text": []
    },
    {
     "name": "stdout",
     "output_type": "stream",
     "text": [
      "MLE Min N Required [10, 10, 10, 10, 10, 19, 32, 32, 32, 10, 12, 32, 10, 32, 10, 10, 10, 10, 32, 10, 32, 10, 10, 10, 10, 10, 10, 32, 32, 10, 10, 32, 32, 10, 10, 32, 32, 32, 10, 32]\n",
      "MLE - Target Score: 0.925, Percentile: 0.05\n",
      "MLE - Accuracy: 0.9000, Average Token Count: 161636.92\n",
      "MLE Min N Required [10, 10, 10, 10, 10, 16, 32, 32, 32, 10, 11, 32, 10, 32, 10, 10, 10, 10, 32, 10, 32, 10, 10, 10, 10, 10, 10, 32, 32, 10, 10, 32, 32, 10, 10, 32, 32, 32, 10, 32]\n"
     ]
    },
    {
     "name": "stderr",
     "output_type": "stream",
     "text": []
    },
    {
     "name": "stdout",
     "output_type": "stream",
     "text": [
      "MLE - Target Score: 0.925, Percentile: 0.075\n",
      "MLE - Accuracy: 0.9000, Average Token Count: 160892.52\n",
      "MLE Min N Required [10, 10, 10, 10, 10, 14, 32, 32, 32, 10, 10, 32, 10, 32, 10, 10, 10, 10, 32, 10, 32, 10, 10, 10, 10, 10, 10, 32, 32, 10, 10, 32, 32, 10, 10, 32, 32, 32, 10, 32]\n"
     ]
    },
    {
     "name": "stderr",
     "output_type": "stream",
     "text": [
      "Target Score (MLE):  71%|███████▏  | 5/7 [00:05<00:02,  1.14s/it]"
     ]
    },
    {
     "name": "stdout",
     "output_type": "stream",
     "text": [
      "MLE - Target Score: 0.925, Percentile: 0.1\n",
      "MLE - Accuracy: 0.9000, Average Token Count: 160462.35\n"
     ]
    },
    {
     "name": "stderr",
     "output_type": "stream",
     "text": []
    },
    {
     "name": "stdout",
     "output_type": "stream",
     "text": [
      "MLE Min N Required [10, 10, 10, 10, 16, 32, 32, 32, 32, 10, 32, 32, 11, 32, 32, 17, 10, 10, 32, 10, 32, 10, 10, 10, 10, 10, 10, 32, 32, 11, 10, 32, 32, 10, 10, 32, 32, 32, 12, 32]\n",
      "MLE - Target Score: 0.95, Percentile: 0.01\n",
      "MLE - Accuracy: 0.9000, Average Token Count: 174188.27\n"
     ]
    },
    {
     "name": "stderr",
     "output_type": "stream",
     "text": []
    },
    {
     "name": "stdout",
     "output_type": "stream",
     "text": [
      "MLE Min N Required [10, 10, 10, 10, 14, 32, 32, 32, 32, 10, 31, 32, 10, 32, 32, 15, 10, 10, 32, 10, 32, 10, 10, 10, 10, 10, 10, 32, 32, 10, 10, 32, 32, 10, 10, 32, 32, 32, 10, 32]\n",
      "MLE - Target Score: 0.95, Percentile: 0.02\n",
      "MLE - Accuracy: 0.9000, Average Token Count: 172728.98\n"
     ]
    },
    {
     "name": "stderr",
     "output_type": "stream",
     "text": []
    },
    {
     "name": "stdout",
     "output_type": "stream",
     "text": [
      "MLE Min N Required [10, 10, 10, 10, 12, 32, 32, 32, 32, 10, 27, 32, 10, 32, 31, 13, 10, 10, 32, 10, 32, 10, 10, 10, 10, 10, 10, 32, 32, 10, 10, 32, 32, 10, 10, 32, 32, 32, 10, 32]\n",
      "MLE - Target Score: 0.95, Percentile: 0.035\n",
      "MLE - Accuracy: 0.9000, Average Token Count: 171157.67\n"
     ]
    },
    {
     "name": "stderr",
     "output_type": "stream",
     "text": []
    },
    {
     "name": "stdout",
     "output_type": "stream",
     "text": [
      "MLE Min N Required [10, 10, 10, 10, 11, 32, 32, 32, 32, 10, 24, 32, 10, 32, 28, 11, 10, 10, 32, 10, 32, 10, 10, 10, 10, 10, 10, 32, 32, 10, 10, 32, 32, 10, 10, 32, 32, 32, 10, 32]\n",
      "MLE - Target Score: 0.95, Percentile: 0.05\n",
      "MLE - Accuracy: 0.9000, Average Token Count: 169421.77\n"
     ]
    },
    {
     "name": "stderr",
     "output_type": "stream",
     "text": []
    },
    {
     "name": "stdout",
     "output_type": "stream",
     "text": [
      "MLE Min N Required [10, 10, 10, 10, 10, 32, 32, 32, 32, 10, 21, 32, 10, 32, 24, 10, 10, 10, 32, 10, 32, 10, 10, 10, 10, 10, 10, 32, 32, 10, 10, 32, 32, 10, 10, 32, 32, 32, 10, 32]\n",
      "MLE - Target Score: 0.95, Percentile: 0.075\n",
      "MLE - Accuracy: 0.9000, Average Token Count: 167800.85\n"
     ]
    },
    {
     "name": "stderr",
     "output_type": "stream",
     "text": [
      "Target Score (MLE):  86%|████████▌ | 6/7 [00:06<00:01,  1.23s/it]"
     ]
    },
    {
     "name": "stdout",
     "output_type": "stream",
     "text": [
      "MLE Min N Required [10, 10, 10, 10, 10, 32, 32, 32, 32, 10, 19, 32, 10, 32, 22, 10, 10, 10, 32, 10, 32, 10, 10, 10, 10, 10, 10, 32, 32, 10, 10, 32, 32, 10, 10, 32, 32, 32, 10, 32]\n",
      "MLE - Target Score: 0.95, Percentile: 0.1\n",
      "MLE - Accuracy: 0.9000, Average Token Count: 167081.25\n"
     ]
    },
    {
     "name": "stderr",
     "output_type": "stream",
     "text": []
    },
    {
     "name": "stdout",
     "output_type": "stream",
     "text": [
      "MLE Min N Required [10, 10, 10, 23, 32, 32, 32, 32, 32, 10, 32, 32, 22, 32, 32, 32, 28, 10, 32, 10, 32, 11, 10, 25, 10, 10, 10, 32, 32, 21, 10, 32, 32, 10, 10, 32, 32, 32, 32, 32]\n",
      "MLE - Target Score: 0.975, Percentile: 0.01\n",
      "MLE - Accuracy: 0.9000, Average Token Count: 192586.15\n"
     ]
    },
    {
     "name": "stderr",
     "output_type": "stream",
     "text": []
    },
    {
     "name": "stdout",
     "output_type": "stream",
     "text": [
      "MLE Min N Required [10, 10, 10, 20, 31, 32, 32, 32, 32, 10, 32, 32, 18, 32, 32, 29, 24, 10, 32, 10, 32, 10, 10, 21, 10, 10, 10, 32, 32, 18, 10, 32, 32, 10, 10, 32, 32, 32, 29, 32]\n",
      "MLE - Target Score: 0.975, Percentile: 0.02\n",
      "MLE - Accuracy: 0.9000, Average Token Count: 188747.58\n"
     ]
    },
    {
     "name": "stderr",
     "output_type": "stream",
     "text": []
    },
    {
     "name": "stdout",
     "output_type": "stream",
     "text": [
      "MLE Min N Required [10, 10, 10, 17, 27, 32, 32, 32, 32, 10, 32, 32, 16, 32, 32, 25, 21, 10, 32, 10, 32, 10, 10, 18, 10, 10, 10, 32, 32, 15, 10, 32, 32, 10, 10, 32, 32, 32, 25, 32]\n",
      "MLE - Target Score: 0.975, Percentile: 0.035\n",
      "MLE - Accuracy: 0.9000, Average Token Count: 184683.38\n"
     ]
    },
    {
     "name": "stderr",
     "output_type": "stream",
     "text": []
    },
    {
     "name": "stdout",
     "output_type": "stream",
     "text": [
      "MLE Min N Required [10, 10, 10, 15, 24, 32, 32, 32, 32, 10, 32, 32, 14, 32, 32, 22, 19, 10, 32, 10, 32, 10, 10, 16, 10, 10, 10, 32, 32, 14, 10, 32, 32, 10, 10, 32, 32, 32, 22, 32]\n",
      "MLE - Target Score: 0.975, Percentile: 0.05\n",
      "MLE - Accuracy: 0.9000, Average Token Count: 181972.35\n"
     ]
    },
    {
     "name": "stderr",
     "output_type": "stream",
     "text": []
    },
    {
     "name": "stdout",
     "output_type": "stream",
     "text": [
      "MLE Min N Required [10, 10, 10, 13, 21, 32, 32, 32, 32, 10, 32, 32, 12, 32, 32, 19, 16, 10, 32, 10, 32, 10, 10, 14, 10, 10, 10, 32, 32, 12, 10, 32, 32, 10, 10, 32, 32, 32, 19, 32]\n",
      "MLE - Target Score: 0.975, Percentile: 0.075\n",
      "MLE - Accuracy: 0.9000, Average Token Count: 178825.67\n"
     ]
    },
    {
     "name": "stderr",
     "output_type": "stream",
     "text": [
      "Target Score (MLE): 100%|██████████| 7/7 [00:08<00:00,  1.21s/it]\n"
     ]
    },
    {
     "name": "stdout",
     "output_type": "stream",
     "text": [
      "MLE Min N Required [10, 10, 10, 12, 18, 32, 32, 32, 32, 10, 32, 32, 11, 32, 32, 17, 14, 10, 32, 10, 32, 10, 10, 13, 10, 10, 10, 32, 32, 11, 10, 32, 32, 10, 10, 32, 32, 32, 17, 32]\n",
      "MLE - Target Score: 0.975, Percentile: 0.1\n",
      "MLE - Accuracy: 0.9000, Average Token Count: 176692.00\n",
      "\n",
      "Evaluating MAP Results...\n"
     ]
    },
    {
     "name": "stderr",
     "output_type": "stream",
     "text": [
      "Target Score (MAP):   0%|          | 0/7 [00:00<?, ?it/s]"
     ]
    },
    {
     "name": "stdout",
     "output_type": "stream",
     "text": [
      "MAP Min N Required [10, 10, 10, 10, 10, 12, 26, 15, 32, 10, 10, 32, 10, 32, 10, 10, 10, 10, 32, 10, 32, 10, 10, 10, 10, 10, 10, 32, 12, 10, 10, 32, 10, 10, 10, 10, 16, 32, 10, 32]\n",
      "MAP - Target Score: 0.75, Percentile: 0.01\n",
      "MAP - Accuracy: 0.9000, Average Token Count: 134553.70\n"
     ]
    },
    {
     "name": "stderr",
     "output_type": "stream",
     "text": []
    },
    {
     "name": "stdout",
     "output_type": "stream",
     "text": [
      "MAP Min N Required [10, 10, 10, 10, 10, 10, 22, 12, 32, 10, 10, 32, 10, 32, 10, 10, 10, 10, 32, 10, 32, 10, 10, 10, 10, 10, 10, 32, 10, 10, 10, 32, 10, 10, 10, 10, 14, 32, 10, 32]\n",
      "MAP - Target Score: 0.75, Percentile: 0.02\n",
      "MAP - Accuracy: 0.9000, Average Token Count: 131461.58\n"
     ]
    },
    {
     "name": "stderr",
     "output_type": "stream",
     "text": []
    },
    {
     "name": "stdout",
     "output_type": "stream",
     "text": [
      "MAP Min N Required [10, 10, 10, 10, 10, 10, 19, 11, 32, 10, 10, 32, 10, 32, 10, 10, 10, 10, 32, 10, 32, 10, 10, 10, 10, 10, 10, 32, 10, 10, 10, 32, 10, 10, 10, 10, 12, 32, 10, 32]\n",
      "MAP - Target Score: 0.75, Percentile: 0.035\n",
      "MAP - Accuracy: 0.9000, Average Token Count: 130004.65\n"
     ]
    },
    {
     "name": "stderr",
     "output_type": "stream",
     "text": []
    },
    {
     "name": "stdout",
     "output_type": "stream",
     "text": [
      "MAP Min N Required [10, 10, 10, 10, 10, 10, 17, 10, 32, 10, 10, 32, 10, 32, 10, 10, 10, 10, 32, 10, 32, 10, 10, 10, 10, 10, 10, 32, 10, 10, 10, 32, 10, 10, 10, 10, 11, 32, 10, 32]\n",
      "MAP - Target Score: 0.75, Percentile: 0.05\n",
      "MAP - Accuracy: 0.9000, Average Token Count: 128987.90\n"
     ]
    },
    {
     "name": "stderr",
     "output_type": "stream",
     "text": []
    },
    {
     "name": "stdout",
     "output_type": "stream",
     "text": [
      "MAP Min N Required [10, 10, 10, 10, 10, 10, 15, 10, 32, 10, 10, 32, 10, 32, 10, 10, 10, 10, 32, 10, 32, 10, 10, 10, 10, 10, 10, 32, 10, 10, 10, 32, 10, 10, 10, 10, 10, 32, 10, 32]\n",
      "MAP - Target Score: 0.75, Percentile: 0.075\n",
      "MAP - Accuracy: 0.9000, Average Token Count: 128244.02\n"
     ]
    },
    {
     "name": "stderr",
     "output_type": "stream",
     "text": [
      "Target Score (MAP):  14%|█▍        | 1/7 [00:00<00:05,  1.05it/s]"
     ]
    },
    {
     "name": "stdout",
     "output_type": "stream",
     "text": [
      "MAP Min N Required [10, 10, 10, 10, 10, 10, 13, 10, 28, 10, 10, 32, 10, 32, 10, 10, 10, 10, 32, 10, 32, 10, 10, 10, 10, 10, 10, 32, 10, 10, 10, 32, 10, 10, 10, 10, 10, 32, 10, 32]\n",
      "MAP - Target Score: 0.75, Percentile: 0.1\n",
      "MAP - Accuracy: 0.9000, Average Token Count: 126604.50\n"
     ]
    },
    {
     "name": "stderr",
     "output_type": "stream",
     "text": []
    },
    {
     "name": "stdout",
     "output_type": "stream",
     "text": [
      "MAP Min N Required [10, 10, 10, 10, 12, 18, 32, 32, 32, 10, 10, 32, 10, 32, 10, 10, 10, 10, 32, 10, 32, 10, 10, 10, 10, 12, 10, 32, 23, 10, 10, 32, 16, 10, 10, 19, 31, 32, 10, 32]\n",
      "MAP - Target Score: 0.8, Percentile: 0.01\n",
      "MAP - Accuracy: 0.9000, Average Token Count: 152691.10\n"
     ]
    },
    {
     "name": "stderr",
     "output_type": "stream",
     "text": []
    },
    {
     "name": "stdout",
     "output_type": "stream",
     "text": [
      "MAP Min N Required [10, 10, 10, 10, 11, 15, 32, 29, 32, 10, 10, 32, 10, 32, 10, 10, 10, 10, 32, 10, 32, 10, 10, 10, 10, 11, 10, 32, 20, 10, 10, 32, 14, 10, 10, 16, 26, 32, 10, 32]\n",
      "MAP - Target Score: 0.8, Percentile: 0.02\n",
      "MAP - Accuracy: 0.9000, Average Token Count: 148044.10\n",
      "MAP Min N Required [10, 10, 10, 10, 10, 13, 32, 25, 32, 10, 10, 32, 10, 32, 10, 10, 10, 10, 32, 10, 32, 10, 10, 10, 10, 10, 10, 32, 17, 10, 10, 32, 12, 10, 10, 14, 23, 32, 10, 32]\n"
     ]
    },
    {
     "name": "stderr",
     "output_type": "stream",
     "text": []
    },
    {
     "name": "stdout",
     "output_type": "stream",
     "text": [
      "MAP - Target Score: 0.8, Percentile: 0.035\n",
      "MAP - Accuracy: 0.9000, Average Token Count: 143909.25\n",
      "MAP Min N Required [10, 10, 10, 10, 10, 12, 32, 22, 32, 10, 10, 32, 10, 32, 10, 10, 10, 10, 32, 10, 32, 10, 10, 10, 10, 10, 10, 32, 15, 10, 10, 32, 11, 10, 10, 13, 20, 32, 10, 32]\n"
     ]
    },
    {
     "name": "stderr",
     "output_type": "stream",
     "text": []
    },
    {
     "name": "stdout",
     "output_type": "stream",
     "text": [
      "MAP - Target Score: 0.8, Percentile: 0.05\n",
      "MAP - Accuracy: 0.9000, Average Token Count: 141144.98\n",
      "MAP Min N Required [10, 10, 10, 10, 10, 10, 32, 19, 32, 10, 10, 32, 10, 32, 10, 10, 10, 10, 32, 10, 32, 10, 10, 10, 10, 10, 10, 32, 13, 10, 10, 32, 10, 10, 10, 11, 18, 32, 10, 32]\n",
      "MAP - Target Score: 0.8, Percentile: 0.075\n",
      "MAP - Accuracy: 0.9000, Average Token Count: 138092.30\n"
     ]
    },
    {
     "name": "stderr",
     "output_type": "stream",
     "text": [
      "Target Score (MAP):  29%|██▊       | 2/7 [00:02<00:05,  1.08s/it]"
     ]
    },
    {
     "name": "stdout",
     "output_type": "stream",
     "text": [
      "MAP Min N Required [10, 10, 10, 10, 10, 10, 32, 17, 32, 10, 10, 32, 10, 32, 10, 10, 10, 10, 32, 10, 32, 10, 10, 10, 10, 10, 10, 32, 12, 10, 10, 32, 10, 10, 10, 10, 16, 32, 10, 32]\n",
      "MAP - Target Score: 0.8, Percentile: 0.1\n",
      "MAP - Accuracy: 0.9000, Average Token Count: 136519.42\n"
     ]
    },
    {
     "name": "stderr",
     "output_type": "stream",
     "text": []
    },
    {
     "name": "stdout",
     "output_type": "stream",
     "text": [
      "MAP Min N Required [10, 10, 10, 10, 19, 29, 32, 32, 32, 14, 12, 32, 10, 32, 10, 15, 14, 10, 32, 10, 32, 10, 10, 10, 11, 18, 10, 32, 32, 10, 14, 32, 32, 10, 10, 32, 32, 32, 10, 32]\n",
      "MAP - Target Score: 0.85, Percentile: 0.01\n",
      "MAP - Accuracy: 0.9000, Average Token Count: 168306.00\n"
     ]
    },
    {
     "name": "stderr",
     "output_type": "stream",
     "text": []
    },
    {
     "name": "stdout",
     "output_type": "stream",
     "text": [
      "MAP Min N Required [10, 10, 10, 10, 16, 25, 32, 32, 32, 12, 11, 32, 10, 32, 10, 13, 12, 10, 32, 10, 32, 10, 10, 10, 10, 15, 10, 32, 32, 10, 12, 32, 32, 10, 10, 32, 32, 32, 10, 32]\n",
      "MAP - Target Score: 0.85, Percentile: 0.02\n",
      "MAP - Accuracy: 0.9000, Average Token Count: 165662.95\n"
     ]
    },
    {
     "name": "stderr",
     "output_type": "stream",
     "text": []
    },
    {
     "name": "stdout",
     "output_type": "stream",
     "text": [
      "MAP Min N Required [10, 10, 10, 10, 14, 21, 32, 32, 32, 10, 10, 32, 10, 32, 10, 11, 10, 10, 32, 10, 32, 10, 10, 10, 10, 13, 10, 32, 32, 10, 10, 32, 32, 10, 10, 32, 32, 32, 10, 32]\n",
      "MAP - Target Score: 0.85, Percentile: 0.035\n",
      "MAP - Accuracy: 0.9000, Average Token Count: 163077.85\n"
     ]
    },
    {
     "name": "stderr",
     "output_type": "stream",
     "text": []
    },
    {
     "name": "stdout",
     "output_type": "stream",
     "text": [
      "MAP Min N Required [10, 10, 10, 10, 13, 19, 32, 32, 32, 10, 10, 32, 10, 32, 10, 10, 10, 10, 32, 10, 32, 10, 10, 10, 10, 12, 10, 32, 32, 10, 10, 32, 32, 10, 10, 31, 32, 32, 10, 32]\n",
      "MAP - Target Score: 0.85, Percentile: 0.05\n",
      "MAP - Accuracy: 0.9000, Average Token Count: 162037.92\n"
     ]
    },
    {
     "name": "stderr",
     "output_type": "stream",
     "text": []
    },
    {
     "name": "stdout",
     "output_type": "stream",
     "text": [
      "MAP Min N Required [10, 10, 10, 10, 11, 17, 32, 32, 32, 10, 10, 32, 10, 32, 10, 10, 10, 10, 32, 10, 32, 10, 10, 10, 10, 10, 10, 32, 29, 10, 10, 32, 32, 10, 10, 27, 32, 32, 10, 32]\n",
      "MAP - Target Score: 0.85, Percentile: 0.075\n",
      "MAP - Accuracy: 0.9000, Average Token Count: 159255.40\n"
     ]
    },
    {
     "name": "stderr",
     "output_type": "stream",
     "text": [
      "Target Score (MAP):  43%|████▎     | 3/7 [00:03<00:04,  1.23s/it]"
     ]
    },
    {
     "name": "stdout",
     "output_type": "stream",
     "text": [
      "MAP Min N Required [10, 10, 10, 10, 10, 15, 32, 32, 32, 10, 10, 32, 10, 32, 10, 10, 10, 10, 32, 10, 32, 10, 10, 10, 10, 10, 10, 32, 26, 10, 10, 32, 32, 10, 10, 24, 32, 32, 10, 32]\n",
      "MAP - Target Score: 0.85, Percentile: 0.1\n",
      "MAP - Accuracy: 0.9000, Average Token Count: 157329.80\n"
     ]
    },
    {
     "name": "stderr",
     "output_type": "stream",
     "text": []
    },
    {
     "name": "stdout",
     "output_type": "stream",
     "text": [
      "MAP Min N Required [12, 17, 17, 10, 32, 32, 32, 32, 32, 24, 31, 32, 15, 32, 10, 26, 24, 17, 32, 10, 32, 17, 10, 10, 19, 30, 10, 32, 32, 11, 23, 32, 32, 10, 18, 32, 32, 32, 10, 32]\n",
      "MAP - Target Score: 0.9, Percentile: 0.01\n",
      "MAP - Accuracy: 0.9000, Average Token Count: 184402.52\n"
     ]
    },
    {
     "name": "stderr",
     "output_type": "stream",
     "text": []
    },
    {
     "name": "stdout",
     "output_type": "stream",
     "text": [
      "MAP Min N Required [11, 15, 15, 10, 28, 32, 32, 32, 32, 20, 27, 32, 13, 32, 10, 22, 20, 15, 32, 10, 32, 15, 10, 10, 16, 26, 10, 32, 32, 10, 20, 32, 32, 10, 16, 32, 32, 32, 10, 32]\n",
      "MAP - Target Score: 0.9, Percentile: 0.02\n",
      "MAP - Accuracy: 0.9000, Average Token Count: 179434.23\n"
     ]
    },
    {
     "name": "stderr",
     "output_type": "stream",
     "text": []
    },
    {
     "name": "stdout",
     "output_type": "stream",
     "text": [
      "MAP Min N Required [10, 13, 13, 10, 24, 32, 32, 32, 32, 17, 23, 32, 11, 32, 10, 19, 17, 13, 32, 10, 32, 13, 10, 10, 14, 22, 10, 32, 32, 10, 17, 32, 32, 10, 13, 32, 32, 32, 10, 32]\n",
      "MAP - Target Score: 0.9, Percentile: 0.035\n",
      "MAP - Accuracy: 0.9000, Average Token Count: 175010.90\n"
     ]
    },
    {
     "name": "stderr",
     "output_type": "stream",
     "text": []
    },
    {
     "name": "stdout",
     "output_type": "stream",
     "text": [
      "MAP Min N Required [10, 11, 11, 10, 22, 32, 32, 32, 32, 16, 21, 32, 10, 32, 10, 17, 16, 11, 32, 10, 32, 12, 10, 10, 13, 20, 10, 32, 32, 10, 15, 32, 32, 10, 12, 32, 32, 32, 10, 32]\n",
      "MAP - Target Score: 0.9, Percentile: 0.05\n",
      "MAP - Accuracy: 0.9000, Average Token Count: 172568.45\n"
     ]
    },
    {
     "name": "stderr",
     "output_type": "stream",
     "text": []
    },
    {
     "name": "stdout",
     "output_type": "stream",
     "text": [
      "MAP Min N Required [10, 10, 10, 10, 19, 31, 32, 32, 32, 13, 18, 32, 10, 32, 10, 15, 14, 10, 32, 10, 32, 10, 10, 10, 11, 17, 10, 32, 32, 10, 13, 32, 32, 10, 11, 32, 32, 32, 10, 32]\n",
      "MAP - Target Score: 0.9, Percentile: 0.075\n",
      "MAP - Accuracy: 0.9000, Average Token Count: 169509.60\n"
     ]
    },
    {
     "name": "stderr",
     "output_type": "stream",
     "text": [
      "Target Score (MAP):  57%|█████▋    | 4/7 [00:05<00:04,  1.40s/it]"
     ]
    },
    {
     "name": "stdout",
     "output_type": "stream",
     "text": [
      "MAP Min N Required [10, 10, 10, 10, 17, 28, 32, 32, 32, 12, 16, 32, 10, 32, 10, 13, 12, 10, 32, 10, 32, 10, 10, 10, 10, 15, 10, 32, 32, 10, 12, 32, 32, 10, 10, 32, 32, 32, 10, 32]\n",
      "MAP - Target Score: 0.9, Percentile: 0.1\n",
      "MAP - Accuracy: 0.9000, Average Token Count: 167054.60\n"
     ]
    },
    {
     "name": "stderr",
     "output_type": "stream",
     "text": []
    },
    {
     "name": "stdout",
     "output_type": "stream",
     "text": [
      "MAP Min N Required [18, 25, 26, 20, 32, 32, 32, 32, 32, 32, 32, 32, 24, 32, 17, 32, 32, 26, 32, 10, 32, 27, 10, 10, 27, 32, 12, 32, 32, 16, 32, 32, 32, 10, 28, 32, 32, 32, 12, 32]\n",
      "MAP - Target Score: 0.925, Percentile: 0.01\n",
      "MAP - Accuracy: 0.9000, Average Token Count: 198060.52\n"
     ]
    },
    {
     "name": "stderr",
     "output_type": "stream",
     "text": []
    },
    {
     "name": "stdout",
     "output_type": "stream",
     "text": [
      "MAP Min N Required [16, 21, 22, 17, 32, 32, 32, 32, 32, 29, 32, 32, 20, 32, 15, 32, 29, 22, 32, 10, 32, 23, 10, 10, 23, 32, 11, 32, 32, 14, 28, 32, 32, 10, 24, 32, 32, 32, 11, 32]\n",
      "MAP - Target Score: 0.925, Percentile: 0.02\n",
      "MAP - Accuracy: 0.9000, Average Token Count: 192931.95\n"
     ]
    },
    {
     "name": "stderr",
     "output_type": "stream",
     "text": []
    },
    {
     "name": "stdout",
     "output_type": "stream",
     "text": [
      "MAP Min N Required [13, 18, 19, 15, 32, 32, 32, 32, 32, 25, 32, 32, 17, 32, 13, 28, 25, 19, 32, 10, 32, 20, 10, 10, 20, 31, 10, 32, 32, 12, 24, 32, 32, 10, 20, 32, 32, 32, 10, 32]\n",
      "MAP - Target Score: 0.925, Percentile: 0.035\n",
      "MAP - Accuracy: 0.9000, Average Token Count: 187938.70\n"
     ]
    },
    {
     "name": "stderr",
     "output_type": "stream",
     "text": []
    },
    {
     "name": "stdout",
     "output_type": "stream",
     "text": [
      "MAP Min N Required [12, 16, 17, 13, 31, 32, 32, 32, 32, 22, 32, 32, 16, 32, 11, 25, 22, 17, 32, 10, 32, 18, 10, 10, 18, 28, 10, 32, 32, 11, 21, 32, 32, 10, 18, 32, 32, 32, 10, 32]\n",
      "MAP - Target Score: 0.925, Percentile: 0.05\n",
      "MAP - Accuracy: 0.9000, Average Token Count: 184145.35\n"
     ]
    },
    {
     "name": "stderr",
     "output_type": "stream",
     "text": []
    },
    {
     "name": "stdout",
     "output_type": "stream",
     "text": [
      "MAP Min N Required [11, 14, 15, 11, 27, 32, 32, 32, 32, 19, 32, 32, 14, 32, 10, 22, 19, 15, 32, 10, 32, 15, 10, 10, 15, 24, 10, 32, 32, 10, 19, 32, 32, 10, 16, 32, 32, 32, 10, 32]\n",
      "MAP - Target Score: 0.925, Percentile: 0.075\n",
      "MAP - Accuracy: 0.9000, Average Token Count: 179792.05\n"
     ]
    },
    {
     "name": "stderr",
     "output_type": "stream",
     "text": [
      "Target Score (MAP):  71%|███████▏  | 5/7 [00:07<00:03,  1.62s/it]"
     ]
    },
    {
     "name": "stdout",
     "output_type": "stream",
     "text": [
      "MAP Min N Required [10, 13, 13, 10, 24, 32, 32, 32, 32, 17, 28, 32, 12, 32, 10, 19, 17, 13, 32, 10, 32, 14, 10, 10, 14, 21, 10, 32, 32, 10, 17, 32, 32, 10, 14, 32, 32, 32, 10, 32]\n",
      "MAP - Target Score: 0.925, Percentile: 0.1\n",
      "MAP - Accuracy: 0.9000, Average Token Count: 176122.23\n"
     ]
    },
    {
     "name": "stderr",
     "output_type": "stream",
     "text": []
    },
    {
     "name": "stdout",
     "output_type": "stream",
     "text": [
      "MAP Min N Required [31, 32, 32, 32, 32, 32, 32, 32, 32, 32, 32, 32, 32, 32, 32, 32, 32, 32, 32, 10, 32, 32, 12, 18, 32, 32, 22, 32, 32, 27, 32, 32, 32, 10, 32, 32, 32, 32, 27, 32]\n",
      "MAP - Target Score: 0.95, Percentile: 0.01\n",
      "MAP - Accuracy: 0.9000, Average Token Count: 212764.48\n"
     ]
    },
    {
     "name": "stderr",
     "output_type": "stream",
     "text": []
    },
    {
     "name": "stdout",
     "output_type": "stream",
     "text": [
      "MAP Min N Required [26, 32, 32, 32, 32, 32, 32, 32, 32, 32, 32, 32, 32, 32, 32, 32, 32, 32, 32, 10, 32, 32, 10, 15, 32, 32, 18, 32, 32, 23, 32, 32, 32, 10, 32, 32, 32, 32, 23, 32]\n",
      "MAP - Target Score: 0.95, Percentile: 0.02\n",
      "MAP - Accuracy: 0.9000, Average Token Count: 210391.35\n"
     ]
    },
    {
     "name": "stderr",
     "output_type": "stream",
     "text": []
    },
    {
     "name": "stdout",
     "output_type": "stream",
     "text": [
      "MAP Min N Required [23, 29, 32, 32, 32, 32, 32, 32, 32, 32, 32, 32, 31, 32, 32, 32, 32, 32, 32, 10, 32, 32, 10, 13, 31, 32, 16, 32, 32, 20, 32, 32, 32, 10, 32, 32, 32, 32, 20, 32]\n",
      "MAP - Target Score: 0.95, Percentile: 0.035\n",
      "MAP - Accuracy: 0.9000, Average Token Count: 208369.98\n"
     ]
    },
    {
     "name": "stderr",
     "output_type": "stream",
     "text": []
    },
    {
     "name": "stdout",
     "output_type": "stream",
     "text": [
      "MAP Min N Required [20, 26, 29, 30, 32, 32, 32, 32, 32, 32, 32, 32, 27, 32, 32, 32, 32, 30, 32, 10, 32, 30, 10, 12, 28, 32, 14, 32, 32, 17, 32, 32, 32, 10, 31, 32, 32, 32, 18, 32]\n",
      "MAP - Target Score: 0.95, Percentile: 0.05\n",
      "MAP - Accuracy: 0.9000, Average Token Count: 205092.67\n"
     ]
    },
    {
     "name": "stderr",
     "output_type": "stream",
     "text": []
    },
    {
     "name": "stdout",
     "output_type": "stream",
     "text": [
      "MAP Min N Required [18, 22, 25, 26, 32, 32, 32, 32, 32, 31, 32, 32, 24, 32, 32, 32, 30, 26, 32, 10, 32, 26, 10, 10, 24, 32, 12, 32, 32, 15, 29, 32, 32, 10, 27, 32, 32, 32, 16, 32]\n",
      "MAP - Target Score: 0.95, Percentile: 0.075\n",
      "MAP - Accuracy: 0.9000, Average Token Count: 200285.00\n"
     ]
    },
    {
     "name": "stderr",
     "output_type": "stream",
     "text": [
      "Target Score (MAP):  86%|████████▌ | 6/7 [00:09<00:01,  1.87s/it]"
     ]
    },
    {
     "name": "stdout",
     "output_type": "stream",
     "text": [
      "MAP Min N Required [16, 20, 23, 23, 32, 32, 32, 32, 32, 27, 32, 32, 21, 32, 32, 31, 27, 23, 32, 10, 32, 23, 10, 10, 22, 32, 11, 32, 32, 14, 26, 32, 32, 10, 24, 32, 32, 32, 14, 32]\n",
      "MAP - Target Score: 0.95, Percentile: 0.1\n",
      "MAP - Accuracy: 0.9000, Average Token Count: 196623.23\n"
     ]
    },
    {
     "name": "stderr",
     "output_type": "stream",
     "text": []
    },
    {
     "name": "stdout",
     "output_type": "stream",
     "text": [
      "MAP Min N Required [32, 32, 32, 32, 32, 32, 32, 32, 32, 32, 32, 32, 32, 32, 32, 32, 32, 32, 32, 10, 32, 32, 32, 32, 32, 32, 32, 32, 32, 32, 32, 32, 32, 10, 32, 32, 32, 32, 32, 32]\n",
      "MAP - Target Score: 0.975, Percentile: 0.01\n",
      "MAP - Accuracy: 0.9000, Average Token Count: 218223.17\n"
     ]
    },
    {
     "name": "stderr",
     "output_type": "stream",
     "text": []
    },
    {
     "name": "stdout",
     "output_type": "stream",
     "text": [
      "MAP Min N Required [32, 32, 32, 32, 32, 32, 32, 32, 32, 32, 32, 32, 32, 32, 32, 32, 32, 32, 32, 10, 32, 32, 32, 32, 32, 32, 32, 32, 32, 32, 32, 32, 32, 10, 32, 32, 32, 32, 32, 32]\n",
      "MAP - Target Score: 0.975, Percentile: 0.02\n",
      "MAP - Accuracy: 0.9000, Average Token Count: 218223.17\n"
     ]
    },
    {
     "name": "stderr",
     "output_type": "stream",
     "text": []
    },
    {
     "name": "stdout",
     "output_type": "stream",
     "text": [
      "MAP Min N Required [32, 32, 32, 32, 32, 32, 32, 32, 32, 32, 32, 32, 32, 32, 32, 32, 32, 32, 32, 10, 32, 32, 28, 32, 32, 32, 32, 32, 32, 32, 32, 32, 32, 10, 32, 32, 32, 32, 32, 32]\n",
      "MAP - Target Score: 0.975, Percentile: 0.035\n",
      "MAP - Accuracy: 0.9000, Average Token Count: 217959.17\n"
     ]
    },
    {
     "name": "stderr",
     "output_type": "stream",
     "text": []
    },
    {
     "name": "stdout",
     "output_type": "stream",
     "text": [
      "MAP Min N Required [32, 32, 32, 32, 32, 32, 32, 32, 32, 32, 32, 32, 32, 32, 32, 32, 32, 32, 32, 10, 32, 32, 25, 32, 32, 32, 32, 32, 32, 32, 32, 32, 32, 10, 32, 32, 32, 32, 32, 32]\n",
      "MAP - Target Score: 0.975, Percentile: 0.05\n",
      "MAP - Accuracy: 0.9000, Average Token Count: 217781.08\n"
     ]
    },
    {
     "name": "stderr",
     "output_type": "stream",
     "text": []
    },
    {
     "name": "stdout",
     "output_type": "stream",
     "text": [
      "MAP Min N Required [32, 32, 32, 32, 32, 32, 32, 32, 32, 32, 32, 32, 32, 32, 32, 32, 32, 32, 32, 10, 32, 32, 22, 32, 32, 32, 29, 32, 32, 32, 32, 32, 32, 10, 32, 32, 32, 32, 32, 32]\n",
      "MAP - Target Score: 0.975, Percentile: 0.075\n",
      "MAP - Accuracy: 0.9000, Average Token Count: 217341.10\n"
     ]
    },
    {
     "name": "stderr",
     "output_type": "stream",
     "text": [
      "Target Score (MAP): 100%|██████████| 7/7 [00:12<00:00,  1.73s/it]"
     ]
    },
    {
     "name": "stdout",
     "output_type": "stream",
     "text": [
      "MAP Min N Required [32, 32, 32, 32, 32, 32, 32, 32, 32, 32, 32, 32, 32, 32, 32, 32, 32, 32, 32, 10, 32, 32, 19, 32, 32, 32, 26, 32, 32, 30, 32, 32, 32, 10, 32, 32, 32, 32, 32, 32]\n",
      "MAP - Target Score: 0.975, Percentile: 0.1\n",
      "MAP - Accuracy: 0.9000, Average Token Count: 216631.95\n"
     ]
    },
    {
     "name": "stderr",
     "output_type": "stream",
     "text": [
      "\n"
     ]
    },
    {
     "data": {
      "image/png": "[encoded data removed]",
      "text/plain": [
       "<Figure size 1200x800 with 1 Axes>"
      ]
     },
     "metadata": {},
     "output_type": "display_data"
    },
    {
     "name": "stdout",
     "output_type": "stream",
     "text": [
      "\n",
      "MLE Pareto-optimal configurations:\n",
      "Target Score: 0.75, Percentile: 0.1, Accuracy: 0.9000, Avg Token Count: 125426.93\n",
      "\n",
      "MAP Pareto-optimal configurations:\n",
      "Target Score: 0.75, Percentile: 0.1, Accuracy: 0.9000, Avg Token Count: 126604.50\n"
     ]
    }
   ],
   "source": [
    "max_N_panel = 32\n",
    "print(\"Target Score Panel:\", target_score_panel_values)\n",
    "print(\"Percentile Panel:\", percentile_panel_values)\n",
    "print(\"Max N:\", max_N_panel)\n",
    "\n",
    "# Evaluate MLE results\n",
    "print(\"\\nEvaluating MLE Results...\")\n",
    "truncated_normal_params_all = mle_estimated_params\n",
    "mle_grid_search_results = []\n",
    "\n",
    "for target_score in tqdm(target_score_panel_values, desc=\"Target Score (MLE)\"):\n",
    "    for percentile in tqdm(percentile_panel_values, desc=\"Percentile\", leave=False):\n",
    "        min_N_required = []\n",
    "        for i, (mu, sigma) in enumerate(truncated_normal_params_all):\n",
    "            min_N = find_min_N_for_threshold(mu, sigma, target_score=target_score, \n",
    "                                        percentile=percentile, max_N=max_N_panel)\n",
    "            if min_N < peek_number:\n",
    "                min_N = peek_number\n",
    "            min_N_required.append(min_N)\n",
    "        print(\"MLE Min N Required\", min_N_required)\n",
    "        \n",
    "        # Evaluate model performance with these parameters\n",
    "        correct = 0\n",
    "        entire_token_count = 0\n",
    "\n",
    "        for idx, item in enumerate(val_texts):\n",
    "            N = min_N_required[idx]\n",
    "            completions = val_completions[idx][0][:N]\n",
    "            scores = val_scores[idx][0][:N]\n",
    "            completion_tokens = val_completion_tokens[idx][0][:N]\n",
    "            total_tokens = sum(completion_tokens)\n",
    "\n",
    "            highest_scores_idx = scores.index(max(scores))\n",
    "\n",
    "            while completions[highest_scores_idx] == \"\":\n",
    "                scores[highest_scores_idx] = 0 \n",
    "                if max(scores) == 0: \n",
    "                    break\n",
    "                highest_scores_idx = scores.index(max(scores))\n",
    "\n",
    "            output = completions[highest_scores_idx]\n",
    "            answer = get_answer(output)\n",
    "\n",
    "            if verify_extracted_answer(val_gt_answers[idx], answer):\n",
    "                correct += 1\n",
    "            entire_token_count += total_tokens\n",
    "\n",
    "        accuracy = correct / len(val_texts)\n",
    "        average_token_count = entire_token_count / len(val_texts)\n",
    "        \n",
    "        print(f\"MLE - Target Score: {target_score}, Percentile: {percentile}\")\n",
    "        print(f\"MLE - Accuracy: {accuracy:.4f}, Average Token Count: {average_token_count:.2f}\")\n",
    "        \n",
    "        mle_grid_search_results.append({\n",
    "            'target_score': target_score,\n",
    "            'percentile': percentile,\n",
    "            'accuracy': accuracy,\n",
    "            'average_token_count': average_token_count\n",
    "        })\n",
    "        \n",
    "with open(f'{DATASET}_OptScale_MLE_results_{max_N_panel}.json', 'w') as f:\n",
    "    json.dump(mle_grid_search_results, f)\n",
    "\n",
    "\n",
    "# Evaluate MAP results\n",
    "print(\"\\nEvaluating MAP Results...\")\n",
    "truncated_normal_params_all = map_estimated_params\n",
    "map_grid_search_results = []\n",
    "\n",
    "for target_score in tqdm(target_score_panel_values, desc=\"Target Score (MAP)\"):\n",
    "    for percentile in tqdm(percentile_panel_values, desc=\"Percentile\", leave=False):\n",
    "        min_N_required = []\n",
    "        for i, (mu, sigma) in enumerate(truncated_normal_params_all):\n",
    "            min_N = find_min_N_for_threshold(mu, sigma, target_score=target_score, \n",
    "                                        percentile=percentile, max_N=max_N_panel)\n",
    "            if min_N < peek_number:\n",
    "                min_N = peek_number\n",
    "            min_N_required.append(min_N)\n",
    "        print(\"MAP Min N Required\", min_N_required)\n",
    "        \n",
    "        # Evaluate model performance with these parameters\n",
    "        correct = 0\n",
    "        entire_token_count = 0\n",
    "\n",
    "        for idx, item in enumerate(val_texts):\n",
    "            N = min_N_required[idx]\n",
    "            completions = val_completions[idx][0][:N]\n",
    "            scores = val_scores[idx][0][:N]\n",
    "            completion_tokens = val_completion_tokens[idx][0][:N]\n",
    "            total_tokens = sum(completion_tokens)\n",
    "\n",
    "            highest_scores_idx = scores.index(max(scores))\n",
    "\n",
    "            while completions[highest_scores_idx] == \"\":\n",
    "                scores[highest_scores_idx] = 0 \n",
    "                if max(scores) == 0: \n",
    "                    break\n",
    "                highest_scores_idx = scores.index(max(scores))\n",
    "\n",
    "            output = completions[highest_scores_idx]\n",
    "            answer = get_answer(output)\n",
    "\n",
    "            if verify_extracted_answer(val_gt_answers[idx], answer):\n",
    "                correct += 1\n",
    "            entire_token_count += total_tokens\n",
    "\n",
    "        accuracy = correct / len(val_texts)\n",
    "        average_token_count = entire_token_count / len(val_texts)\n",
    "        \n",
    "        print(f\"MAP - Target Score: {target_score}, Percentile: {percentile}\")\n",
    "        print(f\"MAP - Accuracy: {accuracy:.4f}, Average Token Count: {average_token_count:.2f}\")\n",
    "        \n",
    "        map_grid_search_results.append({\n",
    "            'target_score': target_score,\n",
    "            'percentile': percentile,\n",
    "            'accuracy': accuracy,\n",
    "            'average_token_count': average_token_count\n",
    "        })\n",
    "        \n",
    "with open(f'{DATASET}_OptScale_MAP_results_{max_N_panel}.json', 'w') as f:\n",
    "    json.dump(map_grid_search_results, f)\n",
    "\n",
    "plot_mle_map_optscale(mle_grid_search_results, map_grid_search_results, baseline_average_token_counts, baseline_accuracy_values, max_N_panel)"
   ]
  },
  {
   "cell_type": "code",
   "execution_count": 10,
   "metadata": {},
   "outputs": [
    {
     "data": {
      "image/png": "[encoded data removed]",
      "text/plain": [
       "<Figure size 1200x800 with 2 Axes>"
      ]
     },
     "metadata": {},
     "output_type": "display_data"
    },
    {
     "data": {
      "image/png": "[encoded data removed]",
      "text/plain": [
       "<Figure size 1200x800 with 2 Axes>"
      ]
     },
     "metadata": {},
     "output_type": "display_data"
    }
   ],
   "source": [
    "plot_optscale_start(mle_grid_search_results, baseline_average_token_counts, baseline_accuracy_values, max_N_panel, 17)\n",
    "plot_optscale_start(map_grid_search_results, baseline_average_token_counts, baseline_accuracy_values, max_N_panel, 17)"
   ]
  },
  {
   "cell_type": "code",
   "execution_count": 11,
   "metadata": {},
   "outputs": [
    {
     "name": "stdout",
     "output_type": "stream",
     "text": [
      "0         0.5888      0.1438    0.9935    0.0057    0.8849    0.1370    0.9922    0.0050\n",
      "1         0.4565      0.0747    0.9860    0.0060    0.9581    0.0176    0.9860    0.0058\n",
      "2         0.4358      0.0651    0.9783    0.0073    0.9211    0.0406    0.9771    0.0074\n",
      "3         0.4280      0.0684    0.9557    0.0238    0.8846    0.0587    0.9584    0.0262\n",
      "4         0.5449      0.1461    0.8718    0.1011    0.8002    0.1084    0.9009    0.1016\n",
      "5         0.4186      0.0189    1.0283    0.1724    0.8326    0.1150    0.9237    0.1176\n",
      "6         0.6573      0.1089    0.7002    0.0651    0.6993    0.0656    0.7029    0.0685\n",
      "7         0.6261      0.1181    0.6707    0.0864    0.6691    0.0870    0.6548    0.0874\n",
      "8         0.2787      0.0185    0.6656    0.0526    0.5722    0.0806    0.6930    0.0705\n",
      "9         0.5441      0.1487    0.9891    0.0062    0.8020    0.4656    0.9890    0.0050\n",
      "10        0.5938      0.1681    0.9069    0.1119    0.8737    0.1015    0.8563    0.0967\n",
      "11        0.6530      0.1204    0.5956    0.0518    0.5964    0.0523    0.5822    0.0567\n",
      "12        0.5296      0.0930    1.1204    0.1901    0.8496    0.1282    1.1758    0.2108\n",
      "13        0.2844      0.0026    0.6809    0.0387    0.6780    0.0387    0.6901    0.0383\n",
      "14        0.6301      0.1024    0.9204    0.0449    0.8984    0.4800    0.9173    0.0391\n",
      "15        0.5203      0.1140    2.6263    0.5608    0.8463    0.1728    1.0188    0.2194\n",
      "16        0.2971      0.1167    0.9531    0.0451    0.8265    0.1004    0.9569    0.0339\n",
      "17        0.4425      0.1136    1.2798    0.1065    0.8432    0.1239    2.9191    0.2626\n",
      "18        0.6358      0.1159    0.5725    0.0866    0.5748    0.0872    0.5819    0.0822\n",
      "19        0.6854      0.1171    0.9887    0.0029    1.0213    0.0582    0.9882    0.0038\n",
      "20        0.6355      0.1344    0.6295    0.0366    0.6295    0.0369    0.6261    0.0382\n",
      "21        0.4173      0.0735   42.6663    1.1929    0.8671    0.1030    1.3136    0.1551\n",
      "22        0.6556      0.1417    0.9804    0.0065    1.0489    0.0404    0.9811    0.0055\n",
      "23        0.7407      0.1083    0.9417    0.0385    1.0074    0.1010    0.9400    0.0363\n",
      "24        0.6906      0.0796    1.1171    0.0998    0.9533    0.5646    0.9899    0.0615\n",
      "25        0.5334      0.1168    1.0402    0.0447    0.9923    0.0293    0.9987    0.0226\n",
      "26        0.7286      0.0873    0.9728    0.0092    1.0234    0.7366    0.9726    0.0094\n",
      "27        0.4190      0.0828    0.5944    0.0697    0.5543    0.0646    0.5745    0.0793\n",
      "28        0.4632      0.0812    0.6891    0.1162    0.6746    0.1153    0.6906    0.1164\n",
      "29        0.6458      0.1337   42.2368    1.7718    0.9230    0.1052    1.8034    0.2713\n",
      "30        0.6560      0.1068    0.9844    0.0067    0.9280    0.5133    0.9844    0.0074\n",
      "31        0.5765      0.1208    0.6265    0.0542    0.6258    0.0547    0.6138    0.0452\n",
      "32        0.6620      0.0940    0.7656    0.0596    0.7637    0.0600    0.7696    0.0582\n",
      "33        0.7607      0.1361    0.9832    0.0068    0.9803    0.0071    0.9834    0.0071\n",
      "34        0.4495      0.1040    0.9850    0.0044    0.8590    0.1235    0.9844    0.0047\n",
      "35        0.6292      0.1057    0.7293    0.0856    0.7258    0.0860    0.7366    0.1007\n",
      "36        0.5142      0.0696    0.7502    0.0843    0.7420    0.0842    0.7483    0.0962\n",
      "37        0.4586      0.0650    0.6361    0.0639    0.6326    0.0640    0.6356    0.0678\n",
      "38        0.6418      0.1119    1.0056    0.1089    0.9356    0.0814    0.9408    0.0989\n",
      "39        0.5809      0.1207    0.5733    0.0784    0.5735    0.0790    0.5846    0.0766\n",
      "\n",
      "Performance Comparison (MSE against ground truth):\n",
      "Predictor MSE - μ: 0.319919, σ: 0.006766\n",
      "MLE MSE      - μ: 83.755408, σ: 0.086905\n",
      "MAP MSE      - μ: 0.139039, σ: 0.038770\n",
      "\n",
      "Statistics of Different Estimation Methods:\n",
      "Predictor Estimates:\n",
      "Mean μ: 0.5527 ± 0.1225\n",
      "Mean σ: 0.1012 ± 0.0352\n",
      "\n",
      "MLE Estimates (10 samples):\n",
      "Mean μ: 2.9848 ± 9.0603\n",
      "Mean σ: 0.1426 ± 0.3267\n",
      "\n",
      "MAP Estimates (10 samples):\n",
      "Mean μ: 0.8118 ± 0.1447\n",
      "Mean σ: 0.1392 ± 0.1634\n",
      "\n",
      "Ground Truth (100 samples):\n",
      "Mean μ: 0.9334 ± 0.3918\n",
      "Mean σ: 0.0724 ± 0.0684\n"
     ]
    }
   ],
   "source": [
    "peek_number = 20\n",
    "\n",
    "mle_estimated_params = []  # Store MLE estimates\n",
    "map_estimated_params = []  # Store MAP estimates\n",
    "predictor_params = []      # Store predictor's estimates\n",
    "\n",
    "for i, (score, prediction) in enumerate(zip(val_scores, val_labels)):\n",
    "    peek_data = np.array(score[0][:peek_number])\n",
    "    \n",
    "    # Store predictor's parameters\n",
    "    prior_mu, prior_sigma = prediction\n",
    "    predictor_params.append((prior_mu, prior_sigma))\n",
    "    \n",
    "    # MLE estimation with limited data\n",
    "    initial_mu = np.mean(peek_data)\n",
    "    initial_sigma = np.std(peek_data)\n",
    "    mle_result = minimize(\n",
    "        lambda params: neg_log_likelihood(params, peek_data),\n",
    "        [initial_mu, initial_sigma],\n",
    "        bounds=[(None, None), (1e-6, None)],\n",
    "        method='L-BFGS-B'\n",
    "    )\n",
    "    mle_mu, mle_sigma = mle_result.x\n",
    "    mle_estimated_params.append((mle_mu, mle_sigma))\n",
    "    \n",
    "    # MAP estimation with limited data\n",
    "    map_result = minimize(\n",
    "        lambda params: neg_log_posterior(\n",
    "            params, \n",
    "            peek_data, \n",
    "            prior_mu=prior_mu, \n",
    "            prior_sigma=prior_sigma\n",
    "        ),\n",
    "        [prior_mu, prior_sigma],\n",
    "        bounds=[(None, None), (1e-6, None)],\n",
    "        method='L-BFGS-B'\n",
    "    )\n",
    "    map_mu, map_sigma = map_result.x\n",
    "    map_estimated_params.append((map_mu, map_sigma))\n",
    "    \n",
    "    # Print comparison for first 50 examples\n",
    "    if i < 50:\n",
    "        gt_mu, gt_sigma = original_params_compare[i]\n",
    "        print(f\"{i:<4} {prior_mu:11.4f} {prior_sigma:11.4f} {mle_mu:9.4f} {mle_sigma:9.4f} \"\n",
    "              f\"{map_mu:9.4f} {map_sigma:9.4f} {gt_mu:9.4f} {gt_sigma:9.4f}\")\n",
    "\n",
    "# Call the function to perform the analysis\n",
    "analyze_estimation_performance(predictor_params, mle_estimated_params, map_estimated_params, original_params_compare)\n"
   ]
  },
  {
   "cell_type": "code",
   "execution_count": 12,
   "metadata": {},
   "outputs": [
    {
     "name": "stdout",
     "output_type": "stream",
     "text": [
      "Target Score Panel: [0.75, 0.8, 0.85, 0.9, 0.925, 0.95, 0.975]\n",
      "Percentile Panel: [0.01, 0.02, 0.035, 0.05, 0.075, 0.1]\n",
      "Max N: 64\n",
      "\n",
      "Evaluating MLE Results...\n"
     ]
    },
    {
     "name": "stderr",
     "output_type": "stream",
     "text": [
      "Target Score (MLE):   0%|          | 0/7 [00:00<?, ?it/s]"
     ]
    },
    {
     "name": "stdout",
     "output_type": "stream",
     "text": [
      "MLE Min N Required [20, 20, 20, 20, 20, 20, 20, 24, 64, 20, 20, 64, 20, 64, 20, 20, 20, 20, 64, 20, 64, 20, 20, 20, 20, 20, 20, 64, 20, 20, 20, 64, 20, 20, 20, 20, 20, 64, 20, 64]\n",
      "MLE - Target Score: 0.75, Percentile: 0.01\n",
      "MLE - Accuracy: 0.9000, Average Token Count: 254034.05\n"
     ]
    },
    {
     "name": "stderr",
     "output_type": "stream",
     "text": []
    },
    {
     "name": "stdout",
     "output_type": "stream",
     "text": [
      "MLE Min N Required [20, 20, 20, 20, 20, 20, 20, 20, 64, 20, 20, 64, 20, 64, 20, 20, 20, 20, 64, 20, 64, 20, 20, 20, 20, 20, 20, 64, 20, 20, 20, 64, 20, 20, 20, 20, 20, 64, 20, 64]\n",
      "MLE - Target Score: 0.75, Percentile: 0.02\n",
      "MLE - Accuracy: 0.9000, Average Token Count: 252928.38\n"
     ]
    },
    {
     "name": "stderr",
     "output_type": "stream",
     "text": []
    },
    {
     "name": "stdout",
     "output_type": "stream",
     "text": [
      "MLE Min N Required [20, 20, 20, 20, 20, 20, 20, 20, 61, 20, 20, 64, 20, 64, 20, 20, 20, 20, 64, 20, 64, 20, 20, 20, 20, 20, 20, 64, 20, 20, 20, 64, 20, 20, 20, 20, 20, 64, 20, 64]\n",
      "MLE - Target Score: 0.75, Percentile: 0.035\n",
      "MLE - Accuracy: 0.9000, Average Token Count: 251960.90\n"
     ]
    },
    {
     "name": "stderr",
     "output_type": "stream",
     "text": []
    },
    {
     "name": "stdout",
     "output_type": "stream",
     "text": [
      "MLE Min N Required [20, 20, 20, 20, 20, 20, 20, 20, 55, 20, 20, 64, 20, 64, 20, 20, 20, 20, 64, 20, 64, 20, 20, 20, 20, 20, 20, 64, 20, 20, 20, 64, 20, 20, 20, 20, 20, 64, 20, 64]\n",
      "MLE - Target Score: 0.75, Percentile: 0.05\n",
      "MLE - Accuracy: 0.9000, Average Token Count: 250405.40\n"
     ]
    },
    {
     "name": "stderr",
     "output_type": "stream",
     "text": []
    },
    {
     "name": "stdout",
     "output_type": "stream",
     "text": [
      "MLE Min N Required [20, 20, 20, 20, 20, 20, 20, 20, 47, 20, 20, 64, 20, 64, 20, 20, 20, 20, 64, 20, 64, 20, 20, 20, 20, 20, 20, 64, 20, 20, 20, 64, 20, 20, 20, 20, 20, 64, 20, 64]\n",
      "MLE - Target Score: 0.75, Percentile: 0.075\n",
      "MLE - Accuracy: 0.9000, Average Token Count: 248114.35\n"
     ]
    },
    {
     "name": "stderr",
     "output_type": "stream",
     "text": [
      "Target Score (MLE):  14%|█▍        | 1/7 [00:01<00:09,  1.55s/it]"
     ]
    },
    {
     "name": "stdout",
     "output_type": "stream",
     "text": [
      "MLE Min N Required [20, 20, 20, 20, 20, 20, 20, 20, 42, 20, 20, 64, 20, 62, 20, 20, 20, 20, 64, 20, 64, 20, 20, 20, 20, 20, 20, 64, 20, 20, 20, 64, 20, 20, 20, 20, 20, 62, 20, 64]\n",
      "MLE - Target Score: 0.75, Percentile: 0.1\n",
      "MLE - Accuracy: 0.9000, Average Token Count: 245864.17\n"
     ]
    },
    {
     "name": "stderr",
     "output_type": "stream",
     "text": []
    },
    {
     "name": "stdout",
     "output_type": "stream",
     "text": [
      "MLE Min N Required [20, 20, 20, 20, 20, 20, 64, 64, 64, 20, 20, 64, 20, 64, 20, 20, 20, 20, 64, 20, 64, 20, 20, 20, 20, 20, 20, 64, 26, 20, 20, 64, 20, 20, 20, 21, 20, 64, 20, 64]\n",
      "MLE - Target Score: 0.8, Percentile: 0.01\n",
      "MLE - Accuracy: 0.8750, Average Token Count: 278384.47\n"
     ]
    },
    {
     "name": "stderr",
     "output_type": "stream",
     "text": []
    },
    {
     "name": "stdout",
     "output_type": "stream",
     "text": [
      "MLE Min N Required [20, 20, 20, 20, 20, 20, 61, 57, 64, 20, 20, 64, 20, 64, 20, 20, 20, 20, 64, 20, 64, 20, 20, 20, 20, 20, 20, 64, 22, 20, 20, 64, 20, 20, 20, 20, 20, 64, 20, 64]\n",
      "MLE - Target Score: 0.8, Percentile: 0.02\n",
      "MLE - Accuracy: 0.8750, Average Token Count: 274673.62\n"
     ]
    },
    {
     "name": "stderr",
     "output_type": "stream",
     "text": []
    },
    {
     "name": "stdout",
     "output_type": "stream",
     "text": [
      "MLE Min N Required [20, 20, 20, 20, 20, 20, 53, 49, 64, 20, 20, 64, 20, 64, 20, 20, 20, 20, 64, 20, 64, 20, 20, 20, 20, 20, 20, 64, 20, 20, 20, 64, 20, 20, 20, 20, 20, 64, 20, 64]\n",
      "MLE - Target Score: 0.8, Percentile: 0.035\n",
      "MLE - Accuracy: 0.8750, Average Token Count: 270156.75\n"
     ]
    },
    {
     "name": "stderr",
     "output_type": "stream",
     "text": []
    },
    {
     "name": "stdout",
     "output_type": "stream",
     "text": [
      "MLE Min N Required [20, 20, 20, 20, 20, 20, 47, 44, 64, 20, 20, 64, 20, 64, 20, 20, 20, 20, 64, 20, 64, 20, 20, 20, 20, 20, 20, 64, 20, 20, 20, 64, 20, 20, 20, 20, 20, 64, 20, 64]\n",
      "MLE - Target Score: 0.8, Percentile: 0.05\n",
      "MLE - Accuracy: 0.8750, Average Token Count: 266911.47\n"
     ]
    },
    {
     "name": "stderr",
     "output_type": "stream",
     "text": []
    },
    {
     "name": "stdout",
     "output_type": "stream",
     "text": [
      "MLE Min N Required [20, 20, 20, 20, 20, 20, 41, 38, 64, 20, 20, 64, 20, 64, 20, 20, 20, 20, 64, 20, 64, 20, 20, 20, 20, 20, 20, 64, 20, 20, 20, 64, 20, 20, 20, 20, 20, 64, 20, 64]\n",
      "MLE - Target Score: 0.8, Percentile: 0.075\n",
      "MLE - Accuracy: 0.9000, Average Token Count: 263739.42\n"
     ]
    },
    {
     "name": "stderr",
     "output_type": "stream",
     "text": [
      "Target Score (MLE):  29%|██▊       | 2/7 [00:03<00:08,  1.63s/it]"
     ]
    },
    {
     "name": "stdout",
     "output_type": "stream",
     "text": [
      "MLE Min N Required [20, 20, 20, 20, 20, 20, 36, 34, 64, 20, 20, 64, 20, 64, 20, 20, 20, 20, 64, 20, 64, 20, 20, 20, 20, 20, 20, 64, 20, 20, 20, 64, 20, 20, 20, 20, 20, 64, 20, 64]\n",
      "MLE - Target Score: 0.8, Percentile: 0.1\n",
      "MLE - Accuracy: 0.9000, Average Token Count: 261318.88\n"
     ]
    },
    {
     "name": "stderr",
     "output_type": "stream",
     "text": []
    },
    {
     "name": "stdout",
     "output_type": "stream",
     "text": [
      "MLE Min N Required [20, 20, 20, 20, 20, 20, 64, 64, 64, 20, 20, 64, 20, 64, 20, 20, 20, 20, 64, 20, 64, 20, 20, 20, 20, 20, 20, 64, 56, 20, 20, 64, 58, 20, 20, 57, 38, 64, 20, 64]\n",
      "MLE - Target Score: 0.85, Percentile: 0.01\n",
      "MLE - Accuracy: 0.8750, Average Token Count: 306950.30\n"
     ]
    },
    {
     "name": "stderr",
     "output_type": "stream",
     "text": []
    },
    {
     "name": "stdout",
     "output_type": "stream",
     "text": [
      "MLE Min N Required [20, 20, 20, 20, 20, 20, 64, 64, 64, 20, 20, 64, 20, 64, 20, 20, 20, 20, 64, 20, 64, 20, 20, 20, 20, 20, 20, 64, 48, 20, 20, 64, 49, 20, 20, 49, 32, 64, 20, 64]\n",
      "MLE - Target Score: 0.85, Percentile: 0.02\n",
      "MLE - Accuracy: 0.8750, Average Token Count: 299546.90\n"
     ]
    },
    {
     "name": "stderr",
     "output_type": "stream",
     "text": []
    },
    {
     "name": "stdout",
     "output_type": "stream",
     "text": [
      "MLE Min N Required [20, 20, 20, 20, 20, 20, 64, 64, 64, 20, 20, 64, 20, 64, 20, 20, 20, 20, 64, 20, 64, 20, 20, 20, 20, 20, 20, 64, 41, 20, 20, 64, 42, 20, 20, 42, 28, 64, 20, 64]\n",
      "MLE - Target Score: 0.85, Percentile: 0.035\n",
      "MLE - Accuracy: 0.8750, Average Token Count: 293960.47\n"
     ]
    },
    {
     "name": "stderr",
     "output_type": "stream",
     "text": []
    },
    {
     "name": "stdout",
     "output_type": "stream",
     "text": [
      "MLE Min N Required [20, 20, 20, 20, 20, 20, 64, 64, 64, 20, 20, 64, 20, 64, 20, 20, 20, 20, 64, 20, 64, 20, 20, 20, 20, 20, 20, 64, 37, 20, 20, 64, 38, 20, 20, 37, 25, 64, 20, 64]\n",
      "MLE - Target Score: 0.85, Percentile: 0.05\n",
      "MLE - Accuracy: 0.8750, Average Token Count: 290310.10\n"
     ]
    },
    {
     "name": "stderr",
     "output_type": "stream",
     "text": []
    },
    {
     "name": "stdout",
     "output_type": "stream",
     "text": [
      "MLE Min N Required [20, 20, 20, 20, 20, 20, 64, 64, 64, 20, 20, 64, 20, 64, 20, 20, 20, 20, 64, 20, 64, 20, 20, 20, 20, 20, 20, 64, 32, 20, 20, 64, 33, 20, 20, 32, 21, 64, 20, 64]\n",
      "MLE - Target Score: 0.85, Percentile: 0.075\n",
      "MLE - Accuracy: 0.8750, Average Token Count: 285753.47\n"
     ]
    },
    {
     "name": "stderr",
     "output_type": "stream",
     "text": [
      "Target Score (MLE):  43%|████▎     | 3/7 [00:05<00:07,  1.77s/it]"
     ]
    },
    {
     "name": "stdout",
     "output_type": "stream",
     "text": [
      "MLE Min N Required [20, 20, 20, 20, 20, 20, 64, 64, 64, 20, 20, 64, 20, 64, 20, 20, 20, 20, 64, 20, 64, 20, 20, 20, 20, 20, 20, 64, 28, 20, 20, 64, 29, 20, 20, 29, 20, 64, 20, 64]\n",
      "MLE - Target Score: 0.85, Percentile: 0.1\n",
      "MLE - Accuracy: 0.8750, Average Token Count: 282914.45\n"
     ]
    },
    {
     "name": "stderr",
     "output_type": "stream",
     "text": []
    },
    {
     "name": "stdout",
     "output_type": "stream",
     "text": [
      "MLE Min N Required [20, 20, 20, 20, 20, 20, 64, 64, 64, 20, 20, 64, 20, 64, 20, 20, 20, 20, 64, 20, 64, 20, 20, 20, 20, 20, 20, 64, 64, 20, 20, 64, 64, 20, 20, 64, 64, 64, 20, 64]\n",
      "MLE - Target Score: 0.9, Percentile: 0.01\n",
      "MLE - Accuracy: 0.8750, Average Token Count: 317613.62\n"
     ]
    },
    {
     "name": "stderr",
     "output_type": "stream",
     "text": []
    },
    {
     "name": "stdout",
     "output_type": "stream",
     "text": [
      "MLE Min N Required [20, 20, 20, 20, 20, 20, 64, 64, 64, 20, 20, 64, 20, 64, 20, 20, 20, 20, 64, 20, 64, 20, 20, 20, 20, 20, 20, 64, 64, 20, 20, 64, 64, 20, 20, 64, 64, 64, 20, 64]\n",
      "MLE - Target Score: 0.9, Percentile: 0.02\n",
      "MLE - Accuracy: 0.8750, Average Token Count: 317613.62\n"
     ]
    },
    {
     "name": "stderr",
     "output_type": "stream",
     "text": []
    },
    {
     "name": "stdout",
     "output_type": "stream",
     "text": [
      "MLE Min N Required [20, 20, 20, 20, 20, 20, 64, 64, 64, 20, 20, 64, 20, 64, 20, 20, 20, 20, 64, 20, 64, 20, 20, 20, 20, 20, 20, 64, 64, 20, 20, 64, 64, 20, 20, 64, 64, 64, 20, 64]\n",
      "MLE - Target Score: 0.9, Percentile: 0.035\n",
      "MLE - Accuracy: 0.8750, Average Token Count: 317613.62\n"
     ]
    },
    {
     "name": "stderr",
     "output_type": "stream",
     "text": []
    },
    {
     "name": "stdout",
     "output_type": "stream",
     "text": [
      "MLE Min N Required [20, 20, 20, 20, 20, 20, 64, 64, 64, 20, 20, 64, 20, 64, 20, 20, 20, 20, 64, 20, 64, 20, 20, 20, 20, 20, 20, 64, 64, 20, 20, 64, 64, 20, 20, 64, 64, 64, 20, 64]\n",
      "MLE - Target Score: 0.9, Percentile: 0.05\n",
      "MLE - Accuracy: 0.8750, Average Token Count: 317613.62\n"
     ]
    },
    {
     "name": "stderr",
     "output_type": "stream",
     "text": []
    },
    {
     "name": "stdout",
     "output_type": "stream",
     "text": [
      "MLE Min N Required [20, 20, 20, 20, 20, 20, 64, 64, 64, 20, 20, 64, 20, 64, 20, 20, 20, 20, 64, 20, 64, 20, 20, 20, 20, 20, 20, 64, 64, 20, 20, 64, 64, 20, 20, 64, 64, 64, 20, 64]\n",
      "MLE - Target Score: 0.9, Percentile: 0.075\n",
      "MLE - Accuracy: 0.8750, Average Token Count: 317613.62\n"
     ]
    },
    {
     "name": "stderr",
     "output_type": "stream",
     "text": [
      "Target Score (MLE):  57%|█████▋    | 4/7 [00:07<00:05,  1.97s/it]"
     ]
    },
    {
     "name": "stdout",
     "output_type": "stream",
     "text": [
      "MLE Min N Required [20, 20, 20, 20, 20, 20, 64, 64, 64, 20, 20, 64, 20, 64, 20, 20, 20, 20, 64, 20, 64, 20, 20, 20, 20, 20, 20, 64, 64, 20, 20, 64, 64, 20, 20, 64, 63, 64, 20, 64]\n",
      "MLE - Target Score: 0.9, Percentile: 0.1\n",
      "MLE - Accuracy: 0.8750, Average Token Count: 317393.95\n"
     ]
    },
    {
     "name": "stderr",
     "output_type": "stream",
     "text": []
    },
    {
     "name": "stdout",
     "output_type": "stream",
     "text": [
      "MLE Min N Required [20, 20, 20, 20, 20, 20, 64, 64, 64, 20, 20, 64, 20, 64, 20, 20, 20, 20, 64, 20, 64, 20, 20, 20, 20, 20, 20, 64, 64, 20, 20, 64, 64, 20, 20, 64, 64, 64, 20, 64]\n",
      "MLE - Target Score: 0.925, Percentile: 0.01\n",
      "MLE - Accuracy: 0.8750, Average Token Count: 317613.62\n"
     ]
    },
    {
     "name": "stderr",
     "output_type": "stream",
     "text": []
    },
    {
     "name": "stdout",
     "output_type": "stream",
     "text": [
      "MLE Min N Required [20, 20, 20, 20, 20, 20, 64, 64, 64, 20, 20, 64, 20, 64, 20, 20, 20, 20, 64, 20, 64, 20, 20, 20, 20, 20, 20, 64, 64, 20, 20, 64, 64, 20, 20, 64, 64, 64, 20, 64]\n",
      "MLE - Target Score: 0.925, Percentile: 0.02\n",
      "MLE - Accuracy: 0.8750, Average Token Count: 317613.62\n"
     ]
    },
    {
     "name": "stderr",
     "output_type": "stream",
     "text": []
    },
    {
     "name": "stdout",
     "output_type": "stream",
     "text": [
      "MLE Min N Required [20, 20, 20, 20, 20, 20, 64, 64, 64, 20, 20, 64, 20, 64, 20, 20, 20, 20, 64, 20, 64, 20, 20, 20, 20, 20, 20, 64, 64, 20, 20, 64, 64, 20, 20, 64, 64, 64, 20, 64]\n",
      "MLE - Target Score: 0.925, Percentile: 0.035\n",
      "MLE - Accuracy: 0.8750, Average Token Count: 317613.62\n"
     ]
    },
    {
     "name": "stderr",
     "output_type": "stream",
     "text": []
    },
    {
     "name": "stdout",
     "output_type": "stream",
     "text": [
      "MLE Min N Required [20, 20, 20, 20, 20, 20, 64, 64, 64, 20, 20, 64, 20, 64, 20, 20, 20, 20, 64, 20, 64, 20, 20, 20, 20, 20, 20, 64, 64, 20, 20, 64, 64, 20, 20, 64, 64, 64, 20, 64]\n",
      "MLE - Target Score: 0.925, Percentile: 0.05\n",
      "MLE - Accuracy: 0.8750, Average Token Count: 317613.62\n"
     ]
    },
    {
     "name": "stderr",
     "output_type": "stream",
     "text": []
    },
    {
     "name": "stdout",
     "output_type": "stream",
     "text": [
      "MLE Min N Required [20, 20, 20, 20, 20, 20, 64, 64, 64, 20, 20, 64, 20, 64, 20, 20, 20, 20, 64, 20, 64, 20, 20, 20, 20, 20, 20, 64, 64, 20, 20, 64, 64, 20, 20, 64, 64, 64, 20, 64]\n",
      "MLE - Target Score: 0.925, Percentile: 0.075\n",
      "MLE - Accuracy: 0.8750, Average Token Count: 317613.62\n"
     ]
    },
    {
     "name": "stderr",
     "output_type": "stream",
     "text": [
      "Target Score (MLE):  71%|███████▏  | 5/7 [00:09<00:04,  2.06s/it]"
     ]
    },
    {
     "name": "stdout",
     "output_type": "stream",
     "text": [
      "MLE Min N Required [20, 20, 20, 20, 20, 20, 64, 64, 64, 20, 20, 64, 20, 64, 20, 20, 20, 20, 64, 20, 64, 20, 20, 20, 20, 20, 20, 64, 64, 20, 20, 64, 64, 20, 20, 64, 64, 64, 20, 64]\n",
      "MLE - Target Score: 0.925, Percentile: 0.1\n",
      "MLE - Accuracy: 0.8750, Average Token Count: 317613.62\n"
     ]
    },
    {
     "name": "stderr",
     "output_type": "stream",
     "text": []
    },
    {
     "name": "stdout",
     "output_type": "stream",
     "text": [
      "MLE Min N Required [20, 20, 20, 20, 34, 20, 64, 64, 64, 20, 23, 64, 20, 64, 20, 20, 20, 20, 64, 20, 64, 20, 20, 20, 20, 20, 20, 64, 64, 20, 20, 64, 64, 20, 20, 64, 64, 64, 20, 64]\n",
      "MLE - Target Score: 0.95, Percentile: 0.01\n",
      "MLE - Accuracy: 0.8750, Average Token Count: 320919.78\n"
     ]
    },
    {
     "name": "stderr",
     "output_type": "stream",
     "text": []
    },
    {
     "name": "stdout",
     "output_type": "stream",
     "text": [
      "MLE Min N Required [20, 20, 20, 20, 29, 20, 64, 64, 64, 20, 20, 64, 20, 64, 20, 20, 20, 20, 64, 20, 64, 20, 20, 20, 20, 20, 20, 64, 64, 20, 20, 64, 64, 20, 20, 64, 64, 64, 20, 64]\n",
      "MLE - Target Score: 0.95, Percentile: 0.02\n",
      "MLE - Accuracy: 0.8750, Average Token Count: 319271.08\n"
     ]
    },
    {
     "name": "stderr",
     "output_type": "stream",
     "text": []
    },
    {
     "name": "stdout",
     "output_type": "stream",
     "text": [
      "MLE Min N Required [20, 20, 20, 20, 25, 20, 64, 64, 64, 20, 20, 64, 20, 64, 20, 20, 20, 20, 64, 20, 64, 20, 20, 20, 20, 20, 20, 64, 64, 20, 20, 64, 64, 20, 20, 64, 64, 64, 20, 64]\n",
      "MLE - Target Score: 0.95, Percentile: 0.035\n",
      "MLE - Accuracy: 0.8750, Average Token Count: 318628.00\n"
     ]
    },
    {
     "name": "stderr",
     "output_type": "stream",
     "text": []
    },
    {
     "name": "stdout",
     "output_type": "stream",
     "text": [
      "MLE Min N Required [20, 20, 20, 20, 22, 20, 64, 64, 64, 20, 20, 64, 20, 64, 20, 20, 20, 20, 64, 20, 64, 20, 20, 20, 20, 20, 20, 64, 64, 20, 20, 64, 64, 20, 20, 64, 64, 64, 20, 64]\n",
      "MLE - Target Score: 0.95, Percentile: 0.05\n",
      "MLE - Accuracy: 0.8750, Average Token Count: 317992.40\n"
     ]
    },
    {
     "name": "stderr",
     "output_type": "stream",
     "text": []
    },
    {
     "name": "stdout",
     "output_type": "stream",
     "text": [
      "MLE Min N Required [20, 20, 20, 20, 20, 20, 64, 64, 64, 20, 20, 64, 20, 64, 20, 20, 20, 20, 64, 20, 64, 20, 20, 20, 20, 20, 20, 64, 64, 20, 20, 64, 64, 20, 20, 64, 64, 64, 20, 64]\n",
      "MLE - Target Score: 0.95, Percentile: 0.075\n",
      "MLE - Accuracy: 0.8750, Average Token Count: 317613.62\n"
     ]
    },
    {
     "name": "stderr",
     "output_type": "stream",
     "text": [
      "Target Score (MLE):  86%|████████▌ | 6/7 [00:11<00:02,  2.15s/it]"
     ]
    },
    {
     "name": "stdout",
     "output_type": "stream",
     "text": [
      "MLE Min N Required [20, 20, 20, 20, 20, 20, 64, 64, 64, 20, 20, 64, 20, 64, 20, 20, 20, 20, 64, 20, 64, 20, 20, 20, 20, 20, 20, 64, 64, 20, 20, 64, 64, 20, 20, 64, 64, 64, 20, 64]\n",
      "MLE - Target Score: 0.95, Percentile: 0.1\n",
      "MLE - Accuracy: 0.8750, Average Token Count: 317613.62\n"
     ]
    },
    {
     "name": "stderr",
     "output_type": "stream",
     "text": []
    },
    {
     "name": "stdout",
     "output_type": "stream",
     "text": [
      "MLE Min N Required [20, 20, 20, 24, 64, 34, 64, 64, 64, 20, 52, 64, 28, 64, 59, 33, 22, 20, 64, 20, 64, 20, 20, 32, 20, 20, 20, 64, 64, 20, 20, 64, 64, 20, 20, 64, 64, 64, 23, 64]\n",
      "MLE - Target Score: 0.975, Percentile: 0.01\n",
      "MLE - Accuracy: 0.8750, Average Token Count: 346661.72\n"
     ]
    },
    {
     "name": "stderr",
     "output_type": "stream",
     "text": []
    },
    {
     "name": "stdout",
     "output_type": "stream",
     "text": [
      "MLE Min N Required [20, 20, 20, 20, 64, 29, 64, 64, 64, 20, 44, 64, 24, 64, 50, 28, 20, 20, 64, 20, 64, 20, 20, 27, 20, 20, 20, 64, 64, 20, 20, 64, 64, 20, 20, 64, 64, 64, 20, 64]\n",
      "MLE - Target Score: 0.975, Percentile: 0.02\n",
      "MLE - Accuracy: 0.8750, Average Token Count: 339500.58\n"
     ]
    },
    {
     "name": "stderr",
     "output_type": "stream",
     "text": []
    },
    {
     "name": "stdout",
     "output_type": "stream",
     "text": [
      "MLE Min N Required [20, 20, 20, 20, 58, 25, 64, 64, 64, 20, 38, 64, 20, 64, 43, 24, 20, 20, 64, 20, 64, 20, 20, 24, 20, 20, 20, 64, 64, 20, 20, 64, 64, 20, 20, 64, 64, 64, 20, 64]\n",
      "MLE - Target Score: 0.975, Percentile: 0.035\n",
      "MLE - Accuracy: 0.8750, Average Token Count: 333780.60\n"
     ]
    },
    {
     "name": "stderr",
     "output_type": "stream",
     "text": []
    },
    {
     "name": "stdout",
     "output_type": "stream",
     "text": [
      "MLE Min N Required [20, 20, 20, 20, 52, 22, 64, 64, 64, 20, 34, 64, 20, 64, 39, 21, 20, 20, 64, 20, 64, 20, 20, 21, 20, 20, 20, 64, 64, 20, 20, 64, 64, 20, 20, 64, 64, 64, 20, 64]\n",
      "MLE - Target Score: 0.975, Percentile: 0.05\n",
      "MLE - Accuracy: 0.8750, Average Token Count: 329871.67\n"
     ]
    },
    {
     "name": "stderr",
     "output_type": "stream",
     "text": []
    },
    {
     "name": "stdout",
     "output_type": "stream",
     "text": [
      "MLE Min N Required [20, 20, 20, 20, 45, 20, 64, 64, 64, 20, 29, 64, 20, 64, 33, 20, 20, 20, 64, 20, 64, 20, 20, 20, 20, 20, 20, 64, 64, 20, 20, 64, 64, 20, 20, 64, 64, 64, 20, 64]\n",
      "MLE - Target Score: 0.975, Percentile: 0.075\n",
      "MLE - Accuracy: 0.8750, Average Token Count: 326040.50\n"
     ]
    },
    {
     "name": "stderr",
     "output_type": "stream",
     "text": [
      "Target Score (MLE): 100%|██████████| 7/7 [00:14<00:00,  2.11s/it]\n"
     ]
    },
    {
     "name": "stdout",
     "output_type": "stream",
     "text": [
      "MLE Min N Required [20, 20, 20, 20, 40, 20, 64, 64, 64, 20, 26, 64, 20, 64, 30, 20, 20, 20, 64, 20, 64, 20, 20, 20, 20, 20, 20, 64, 64, 20, 20, 64, 64, 20, 20, 64, 64, 64, 20, 64]\n",
      "MLE - Target Score: 0.975, Percentile: 0.1\n",
      "MLE - Accuracy: 0.8750, Average Token Count: 324153.45\n",
      "\n",
      "Evaluating MAP Results...\n"
     ]
    },
    {
     "name": "stderr",
     "output_type": "stream",
     "text": [
      "Target Score (MAP):   0%|          | 0/7 [00:00<?, ?it/s]"
     ]
    },
    {
     "name": "stdout",
     "output_type": "stream",
     "text": [
      "MAP Min N Required [20, 20, 20, 20, 20, 20, 20, 24, 64, 20, 20, 64, 20, 64, 20, 20, 20, 20, 64, 20, 64, 20, 20, 20, 20, 20, 20, 64, 20, 20, 20, 64, 20, 20, 20, 20, 20, 64, 20, 64]\n",
      "MAP - Target Score: 0.75, Percentile: 0.01\n",
      "MAP - Accuracy: 0.9000, Average Token Count: 254034.05\n"
     ]
    },
    {
     "name": "stderr",
     "output_type": "stream",
     "text": []
    },
    {
     "name": "stdout",
     "output_type": "stream",
     "text": [
      "MAP Min N Required [20, 20, 20, 20, 20, 20, 20, 21, 64, 20, 20, 64, 20, 64, 20, 20, 20, 20, 64, 20, 64, 20, 20, 20, 20, 20, 20, 64, 20, 20, 20, 64, 20, 20, 20, 20, 20, 64, 20, 64]\n",
      "MAP - Target Score: 0.75, Percentile: 0.02\n",
      "MAP - Accuracy: 0.9000, Average Token Count: 253249.92\n"
     ]
    },
    {
     "name": "stderr",
     "output_type": "stream",
     "text": []
    },
    {
     "name": "stdout",
     "output_type": "stream",
     "text": [
      "MAP Min N Required [20, 20, 20, 20, 20, 20, 20, 20, 64, 20, 20, 64, 20, 64, 20, 20, 20, 20, 64, 20, 64, 20, 20, 20, 20, 20, 20, 64, 20, 20, 20, 64, 20, 20, 20, 20, 20, 64, 20, 64]\n",
      "MAP - Target Score: 0.75, Percentile: 0.035\n",
      "MAP - Accuracy: 0.9000, Average Token Count: 252928.38\n"
     ]
    },
    {
     "name": "stderr",
     "output_type": "stream",
     "text": []
    },
    {
     "name": "stdout",
     "output_type": "stream",
     "text": [
      "MAP Min N Required [20, 20, 20, 20, 20, 20, 20, 20, 64, 20, 20, 64, 20, 64, 20, 20, 20, 20, 64, 20, 64, 20, 20, 20, 20, 20, 20, 64, 20, 20, 20, 64, 20, 20, 20, 20, 20, 64, 20, 64]\n",
      "MAP - Target Score: 0.75, Percentile: 0.05\n",
      "MAP - Accuracy: 0.9000, Average Token Count: 252928.38\n"
     ]
    },
    {
     "name": "stderr",
     "output_type": "stream",
     "text": []
    },
    {
     "name": "stdout",
     "output_type": "stream",
     "text": [
      "MAP Min N Required [20, 20, 20, 20, 20, 20, 20, 20, 64, 20, 20, 64, 20, 64, 20, 20, 20, 20, 64, 20, 64, 20, 20, 20, 20, 20, 20, 64, 20, 20, 20, 64, 20, 20, 20, 20, 20, 64, 20, 64]\n",
      "MAP - Target Score: 0.75, Percentile: 0.075\n",
      "MAP - Accuracy: 0.9000, Average Token Count: 252928.38\n"
     ]
    },
    {
     "name": "stderr",
     "output_type": "stream",
     "text": [
      "Target Score (MAP):  14%|█▍        | 1/7 [00:01<00:09,  1.58s/it]"
     ]
    },
    {
     "name": "stdout",
     "output_type": "stream",
     "text": [
      "MAP Min N Required [20, 20, 20, 20, 20, 20, 20, 20, 64, 20, 20, 64, 20, 64, 20, 20, 20, 20, 64, 20, 64, 20, 20, 20, 20, 20, 20, 64, 20, 20, 20, 64, 20, 20, 20, 20, 20, 64, 20, 64]\n",
      "MAP - Target Score: 0.75, Percentile: 0.1\n",
      "MAP - Accuracy: 0.9000, Average Token Count: 252928.38\n"
     ]
    },
    {
     "name": "stderr",
     "output_type": "stream",
     "text": []
    },
    {
     "name": "stdout",
     "output_type": "stream",
     "text": [
      "MAP Min N Required [20, 20, 20, 20, 20, 20, 64, 64, 64, 20, 20, 64, 20, 64, 20, 20, 20, 20, 64, 20, 64, 20, 20, 20, 20, 20, 20, 64, 32, 20, 20, 64, 20, 20, 20, 22, 20, 64, 20, 64]\n",
      "MAP - Target Score: 0.8, Percentile: 0.01\n",
      "MAP - Accuracy: 0.8750, Average Token Count: 280021.25\n"
     ]
    },
    {
     "name": "stderr",
     "output_type": "stream",
     "text": []
    },
    {
     "name": "stdout",
     "output_type": "stream",
     "text": [
      "MAP Min N Required [20, 20, 20, 20, 20, 20, 62, 58, 64, 20, 20, 64, 20, 64, 20, 20, 20, 20, 64, 20, 64, 20, 20, 20, 20, 20, 20, 64, 27, 20, 20, 64, 20, 20, 20, 20, 20, 64, 20, 64]\n",
      "MAP - Target Score: 0.8, Percentile: 0.02\n",
      "MAP - Accuracy: 0.8750, Average Token Count: 276318.28\n"
     ]
    },
    {
     "name": "stderr",
     "output_type": "stream",
     "text": []
    },
    {
     "name": "stdout",
     "output_type": "stream",
     "text": [
      "MAP Min N Required [20, 20, 20, 20, 20, 20, 53, 50, 64, 20, 20, 64, 20, 64, 20, 20, 20, 20, 64, 20, 64, 20, 20, 20, 20, 20, 20, 64, 23, 20, 20, 64, 20, 20, 20, 20, 20, 64, 20, 64]\n",
      "MAP - Target Score: 0.8, Percentile: 0.035\n",
      "MAP - Accuracy: 0.8750, Average Token Count: 271201.83\n"
     ]
    },
    {
     "name": "stderr",
     "output_type": "stream",
     "text": []
    },
    {
     "name": "stdout",
     "output_type": "stream",
     "text": [
      "MAP Min N Required [20, 20, 20, 20, 20, 20, 47, 45, 64, 20, 20, 64, 20, 64, 20, 20, 20, 20, 64, 20, 64, 20, 20, 20, 20, 20, 20, 64, 21, 20, 20, 64, 20, 20, 20, 20, 20, 64, 20, 64]\n",
      "MAP - Target Score: 0.8, Percentile: 0.05\n",
      "MAP - Accuracy: 0.8750, Average Token Count: 267483.62\n"
     ]
    },
    {
     "name": "stderr",
     "output_type": "stream",
     "text": []
    },
    {
     "name": "stdout",
     "output_type": "stream",
     "text": [
      "MAP Min N Required [20, 20, 20, 20, 20, 20, 41, 39, 64, 20, 20, 64, 20, 64, 20, 20, 20, 20, 64, 20, 64, 20, 20, 20, 20, 20, 20, 64, 20, 20, 20, 64, 20, 20, 20, 20, 20, 64, 20, 64]\n",
      "MAP - Target Score: 0.8, Percentile: 0.075\n",
      "MAP - Accuracy: 0.9000, Average Token Count: 264060.97\n"
     ]
    },
    {
     "name": "stderr",
     "output_type": "stream",
     "text": [
      "Target Score (MAP):  29%|██▊       | 2/7 [00:03<00:08,  1.70s/it]"
     ]
    },
    {
     "name": "stdout",
     "output_type": "stream",
     "text": [
      "MAP Min N Required [20, 20, 20, 20, 20, 20, 37, 34, 64, 20, 20, 64, 20, 64, 20, 20, 20, 20, 64, 20, 64, 20, 20, 20, 20, 20, 20, 64, 20, 20, 20, 64, 20, 20, 20, 20, 20, 64, 20, 64]\n",
      "MAP - Target Score: 0.8, Percentile: 0.1\n",
      "MAP - Accuracy: 0.9000, Average Token Count: 261550.02\n"
     ]
    },
    {
     "name": "stderr",
     "output_type": "stream",
     "text": []
    },
    {
     "name": "stdout",
     "output_type": "stream",
     "text": [
      "MAP Min N Required [20, 20, 20, 20, 20, 20, 64, 64, 64, 21, 20, 64, 20, 64, 20, 20, 20, 20, 64, 20, 64, 20, 20, 20, 20, 20, 21, 64, 64, 20, 20, 64, 60, 20, 20, 61, 45, 64, 20, 64]\n",
      "MAP - Target Score: 0.85, Percentile: 0.01\n",
      "MAP - Accuracy: 0.8750, Average Token Count: 311921.85\n"
     ]
    },
    {
     "name": "stderr",
     "output_type": "stream",
     "text": []
    },
    {
     "name": "stdout",
     "output_type": "stream",
     "text": [
      "MAP Min N Required [20, 20, 20, 20, 20, 20, 64, 64, 64, 20, 20, 64, 20, 64, 20, 20, 20, 20, 64, 20, 64, 20, 20, 20, 20, 20, 20, 64, 62, 20, 20, 64, 51, 20, 20, 52, 38, 64, 20, 64]\n",
      "MAP - Target Score: 0.85, Percentile: 0.02\n",
      "MAP - Accuracy: 0.8750, Average Token Count: 305204.45\n"
     ]
    },
    {
     "name": "stderr",
     "output_type": "stream",
     "text": []
    },
    {
     "name": "stdout",
     "output_type": "stream",
     "text": [
      "MAP Min N Required [20, 20, 20, 20, 20, 20, 64, 64, 64, 20, 20, 64, 20, 64, 20, 20, 20, 20, 64, 20, 64, 20, 20, 20, 20, 20, 20, 64, 53, 20, 20, 64, 44, 20, 20, 45, 33, 64, 20, 64]\n",
      "MAP - Target Score: 0.85, Percentile: 0.035\n",
      "MAP - Accuracy: 0.8750, Average Token Count: 298620.03\n"
     ]
    },
    {
     "name": "stderr",
     "output_type": "stream",
     "text": []
    },
    {
     "name": "stdout",
     "output_type": "stream",
     "text": [
      "MAP Min N Required [20, 20, 20, 20, 20, 20, 64, 64, 64, 20, 20, 64, 20, 64, 20, 20, 20, 20, 64, 20, 64, 20, 20, 20, 20, 20, 20, 64, 48, 20, 20, 64, 39, 20, 20, 40, 29, 64, 20, 64]\n",
      "MAP - Target Score: 0.85, Percentile: 0.05\n",
      "MAP - Accuracy: 0.8750, Average Token Count: 294295.45\n"
     ]
    },
    {
     "name": "stderr",
     "output_type": "stream",
     "text": []
    },
    {
     "name": "stdout",
     "output_type": "stream",
     "text": [
      "MAP Min N Required [20, 20, 20, 20, 20, 20, 64, 64, 64, 20, 20, 64, 20, 64, 20, 20, 20, 20, 64, 20, 64, 20, 20, 20, 20, 20, 20, 64, 41, 20, 20, 64, 34, 20, 20, 35, 26, 64, 20, 64]\n",
      "MAP - Target Score: 0.85, Percentile: 0.075\n",
      "MAP - Accuracy: 0.8750, Average Token Count: 289994.35\n"
     ]
    },
    {
     "name": "stderr",
     "output_type": "stream",
     "text": [
      "Target Score (MAP):  43%|████▎     | 3/7 [00:05<00:07,  1.91s/it]"
     ]
    },
    {
     "name": "stdout",
     "output_type": "stream",
     "text": [
      "MAP Min N Required [20, 20, 20, 20, 20, 20, 64, 64, 64, 20, 20, 64, 20, 64, 20, 20, 20, 20, 64, 20, 64, 20, 20, 20, 20, 20, 20, 64, 37, 20, 20, 64, 30, 20, 20, 31, 23, 64, 20, 64]\n",
      "MAP - Target Score: 0.85, Percentile: 0.1\n",
      "MAP - Accuracy: 0.8750, Average Token Count: 286580.85\n"
     ]
    },
    {
     "name": "stderr",
     "output_type": "stream",
     "text": []
    },
    {
     "name": "stdout",
     "output_type": "stream",
     "text": [
      "MAP Min N Required [20, 20, 20, 20, 29, 20, 64, 64, 64, 33, 20, 64, 20, 64, 29, 20, 21, 20, 64, 20, 64, 20, 20, 20, 30, 20, 33, 64, 64, 20, 29, 64, 64, 20, 20, 64, 64, 64, 20, 64]\n",
      "MAP - Target Score: 0.9, Percentile: 0.01\n",
      "MAP - Accuracy: 0.8750, Average Token Count: 324481.08\n"
     ]
    },
    {
     "name": "stderr",
     "output_type": "stream",
     "text": []
    },
    {
     "name": "stdout",
     "output_type": "stream",
     "text": [
      "MAP Min N Required [20, 20, 20, 20, 25, 20, 64, 64, 64, 28, 20, 64, 20, 64, 25, 20, 20, 20, 64, 20, 64, 20, 20, 20, 26, 20, 28, 64, 64, 20, 25, 64, 64, 20, 20, 64, 64, 64, 20, 64]\n",
      "MAP - Target Score: 0.9, Percentile: 0.02\n",
      "MAP - Accuracy: 0.8750, Average Token Count: 321644.75\n"
     ]
    },
    {
     "name": "stderr",
     "output_type": "stream",
     "text": []
    },
    {
     "name": "stdout",
     "output_type": "stream",
     "text": [
      "MAP Min N Required [20, 20, 20, 20, 21, 20, 64, 64, 64, 24, 20, 64, 20, 64, 21, 20, 20, 20, 64, 20, 64, 20, 20, 20, 22, 20, 24, 64, 64, 20, 21, 64, 64, 20, 20, 64, 64, 64, 20, 64]\n",
      "MAP - Target Score: 0.9, Percentile: 0.035\n",
      "MAP - Accuracy: 0.8750, Average Token Count: 318900.12\n"
     ]
    },
    {
     "name": "stderr",
     "output_type": "stream",
     "text": []
    },
    {
     "name": "stdout",
     "output_type": "stream",
     "text": [
      "MAP Min N Required [20, 20, 20, 20, 20, 20, 64, 64, 64, 22, 20, 64, 20, 64, 20, 20, 20, 20, 64, 20, 64, 20, 20, 20, 20, 20, 21, 64, 64, 20, 20, 64, 64, 20, 20, 64, 64, 64, 20, 64]\n",
      "MAP - Target Score: 0.9, Percentile: 0.05\n",
      "MAP - Accuracy: 0.8750, Average Token Count: 317821.28\n"
     ]
    },
    {
     "name": "stderr",
     "output_type": "stream",
     "text": []
    },
    {
     "name": "stdout",
     "output_type": "stream",
     "text": [
      "MAP Min N Required [20, 20, 20, 20, 20, 20, 64, 64, 64, 20, 20, 64, 20, 64, 20, 20, 20, 20, 64, 20, 64, 20, 20, 20, 20, 20, 20, 64, 64, 20, 20, 64, 64, 20, 20, 64, 64, 64, 20, 64]\n",
      "MAP - Target Score: 0.9, Percentile: 0.075\n",
      "MAP - Accuracy: 0.8750, Average Token Count: 317613.62\n"
     ]
    },
    {
     "name": "stderr",
     "output_type": "stream",
     "text": [
      "Target Score (MAP):  57%|█████▋    | 4/7 [00:08<00:06,  2.16s/it]"
     ]
    },
    {
     "name": "stdout",
     "output_type": "stream",
     "text": [
      "MAP Min N Required [20, 20, 20, 20, 20, 20, 64, 64, 64, 20, 20, 64, 20, 64, 20, 20, 20, 20, 64, 20, 64, 20, 20, 20, 20, 20, 20, 64, 64, 20, 20, 64, 64, 20, 20, 64, 64, 64, 20, 64]\n",
      "MAP - Target Score: 0.9, Percentile: 0.1\n",
      "MAP - Accuracy: 0.8750, Average Token Count: 317613.62\n"
     ]
    },
    {
     "name": "stderr",
     "output_type": "stream",
     "text": []
    },
    {
     "name": "stdout",
     "output_type": "stream",
     "text": [
      "MAP Min N Required [20, 20, 20, 20, 47, 29, 64, 64, 64, 46, 20, 64, 24, 64, 39, 25, 35, 25, 64, 20, 64, 20, 20, 20, 41, 20, 44, 64, 64, 20, 39, 64, 64, 20, 22, 64, 64, 64, 20, 64]\n",
      "MAP - Target Score: 0.925, Percentile: 0.01\n",
      "MAP - Accuracy: 0.8750, Average Token Count: 338717.42\n"
     ]
    },
    {
     "name": "stderr",
     "output_type": "stream",
     "text": []
    },
    {
     "name": "stdout",
     "output_type": "stream",
     "text": [
      "MAP Min N Required [20, 20, 20, 20, 40, 25, 64, 64, 64, 39, 20, 64, 20, 64, 34, 22, 30, 22, 64, 20, 64, 20, 20, 20, 35, 20, 38, 64, 64, 20, 34, 64, 64, 20, 20, 64, 64, 64, 20, 64]\n",
      "MAP - Target Score: 0.925, Percentile: 0.02\n",
      "MAP - Accuracy: 0.8750, Average Token Count: 331577.38\n"
     ]
    },
    {
     "name": "stderr",
     "output_type": "stream",
     "text": []
    },
    {
     "name": "stdout",
     "output_type": "stream",
     "text": [
      "MAP Min N Required [20, 20, 20, 20, 34, 21, 64, 64, 64, 33, 20, 64, 20, 64, 29, 20, 25, 20, 64, 20, 64, 20, 20, 20, 30, 20, 32, 64, 64, 20, 29, 64, 64, 20, 20, 64, 64, 64, 20, 64]\n",
      "MAP - Target Score: 0.925, Percentile: 0.035\n",
      "MAP - Accuracy: 0.8750, Average Token Count: 325949.67\n"
     ]
    },
    {
     "name": "stderr",
     "output_type": "stream",
     "text": []
    },
    {
     "name": "stdout",
     "output_type": "stream",
     "text": [
      "MAP Min N Required [20, 20, 20, 20, 31, 20, 64, 64, 64, 30, 20, 64, 20, 64, 26, 20, 23, 20, 64, 20, 64, 20, 20, 20, 27, 20, 29, 64, 64, 20, 26, 64, 64, 20, 20, 64, 64, 64, 20, 64]\n",
      "MAP - Target Score: 0.925, Percentile: 0.05\n",
      "MAP - Accuracy: 0.8750, Average Token Count: 323703.30\n"
     ]
    },
    {
     "name": "stderr",
     "output_type": "stream",
     "text": []
    },
    {
     "name": "stdout",
     "output_type": "stream",
     "text": [
      "MAP Min N Required [20, 20, 20, 20, 27, 20, 64, 64, 64, 26, 20, 64, 20, 64, 22, 20, 20, 20, 64, 20, 64, 20, 20, 20, 23, 20, 25, 64, 64, 20, 22, 64, 64, 20, 20, 64, 64, 64, 20, 64]\n",
      "MAP - Target Score: 0.925, Percentile: 0.075\n",
      "MAP - Accuracy: 0.8750, Average Token Count: 320532.08\n"
     ]
    },
    {
     "name": "stderr",
     "output_type": "stream",
     "text": [
      "Target Score (MAP):  71%|███████▏  | 5/7 [00:10<00:04,  2.43s/it]"
     ]
    },
    {
     "name": "stdout",
     "output_type": "stream",
     "text": [
      "MAP Min N Required [20, 20, 20, 20, 24, 20, 64, 64, 64, 23, 20, 64, 20, 64, 20, 20, 20, 20, 64, 20, 64, 20, 20, 20, 21, 20, 22, 64, 64, 20, 20, 64, 64, 20, 20, 64, 64, 64, 20, 64]\n",
      "MAP - Target Score: 0.925, Percentile: 0.1\n",
      "MAP - Accuracy: 0.8750, Average Token Count: 318851.72\n"
     ]
    },
    {
     "name": "stderr",
     "output_type": "stream",
     "text": []
    },
    {
     "name": "stdout",
     "output_type": "stream",
     "text": [
      "MAP Min N Required [30, 20, 20, 40, 64, 51, 64, 64, 64, 64, 33, 64, 40, 64, 60, 41, 64, 43, 64, 20, 64, 35, 20, 20, 62, 20, 64, 64, 64, 20, 60, 64, 64, 20, 37, 64, 64, 64, 20, 64]\n",
      "MAP - Target Score: 0.95, Percentile: 0.01\n",
      "MAP - Accuracy: 0.8750, Average Token Count: 374109.53\n"
     ]
    },
    {
     "name": "stderr",
     "output_type": "stream",
     "text": []
    },
    {
     "name": "stdout",
     "output_type": "stream",
     "text": [
      "MAP Min N Required [25, 20, 20, 34, 64, 44, 64, 64, 64, 59, 28, 64, 34, 64, 51, 35, 55, 37, 64, 20, 64, 30, 20, 20, 53, 20, 57, 64, 64, 20, 51, 64, 64, 20, 32, 64, 64, 64, 20, 64]\n",
      "MAP - Target Score: 0.95, Percentile: 0.02\n",
      "MAP - Accuracy: 0.8750, Average Token Count: 362978.30\n"
     ]
    },
    {
     "name": "stderr",
     "output_type": "stream",
     "text": []
    },
    {
     "name": "stdout",
     "output_type": "stream",
     "text": [
      "MAP Min N Required [22, 20, 20, 29, 63, 37, 64, 64, 64, 51, 24, 64, 29, 64, 44, 30, 47, 32, 64, 20, 64, 26, 20, 20, 45, 20, 49, 64, 64, 20, 44, 64, 64, 20, 27, 64, 64, 64, 20, 64]\n",
      "MAP - Target Score: 0.95, Percentile: 0.035\n",
      "MAP - Accuracy: 0.8750, Average Token Count: 352294.25\n"
     ]
    },
    {
     "name": "stderr",
     "output_type": "stream",
     "text": []
    },
    {
     "name": "stdout",
     "output_type": "stream",
     "text": [
      "MAP Min N Required [20, 20, 20, 26, 56, 33, 64, 64, 64, 46, 21, 64, 26, 64, 39, 27, 42, 28, 64, 20, 64, 23, 20, 20, 40, 20, 44, 64, 64, 20, 39, 64, 64, 20, 24, 64, 64, 64, 20, 64]\n",
      "MAP - Target Score: 0.95, Percentile: 0.05\n",
      "MAP - Accuracy: 0.8750, Average Token Count: 344536.00\n"
     ]
    },
    {
     "name": "stderr",
     "output_type": "stream",
     "text": []
    },
    {
     "name": "stdout",
     "output_type": "stream",
     "text": [
      "MAP Min N Required [20, 20, 20, 23, 49, 29, 64, 64, 64, 40, 20, 64, 23, 64, 34, 23, 36, 25, 64, 20, 64, 20, 20, 20, 35, 20, 38, 64, 64, 20, 34, 64, 64, 20, 21, 64, 64, 64, 20, 64]\n",
      "MAP - Target Score: 0.95, Percentile: 0.075\n",
      "MAP - Accuracy: 0.8750, Average Token Count: 336340.78\n"
     ]
    },
    {
     "name": "stderr",
     "output_type": "stream",
     "text": [
      "Target Score (MAP):  86%|████████▌ | 6/7 [00:14<00:02,  2.73s/it]"
     ]
    },
    {
     "name": "stdout",
     "output_type": "stream",
     "text": [
      "MAP Min N Required [20, 20, 20, 20, 43, 26, 64, 64, 64, 35, 20, 64, 20, 64, 30, 21, 32, 22, 64, 20, 64, 20, 20, 20, 31, 20, 34, 64, 64, 20, 30, 64, 64, 20, 20, 64, 64, 64, 20, 64]\n",
      "MAP - Target Score: 0.95, Percentile: 0.1\n",
      "MAP - Accuracy: 0.8750, Average Token Count: 330381.83\n"
     ]
    },
    {
     "name": "stderr",
     "output_type": "stream",
     "text": []
    },
    {
     "name": "stdout",
     "output_type": "stream",
     "text": [
      "MAP Min N Required [64, 28, 64, 64, 64, 64, 64, 64, 64, 64, 64, 64, 64, 64, 64, 64, 64, 64, 64, 20, 64, 64, 20, 21, 64, 20, 64, 64, 64, 43, 64, 64, 64, 20, 64, 64, 64, 64, 35, 64]\n",
      "MAP - Target Score: 0.975, Percentile: 0.01\n",
      "MAP - Accuracy: 0.8750, Average Token Count: 410907.30\n"
     ]
    },
    {
     "name": "stderr",
     "output_type": "stream",
     "text": []
    },
    {
     "name": "stdout",
     "output_type": "stream",
     "text": [
      "MAP Min N Required [56, 24, 57, 64, 64, 64, 64, 64, 64, 64, 64, 64, 64, 64, 64, 64, 64, 64, 64, 20, 64, 64, 20, 20, 64, 20, 64, 64, 64, 37, 64, 64, 64, 20, 64, 64, 64, 64, 29, 64]\n",
      "MAP - Target Score: 0.975, Percentile: 0.02\n",
      "MAP - Accuracy: 0.8750, Average Token Count: 407988.28\n"
     ]
    },
    {
     "name": "stderr",
     "output_type": "stream",
     "text": []
    },
    {
     "name": "stdout",
     "output_type": "stream",
     "text": [
      "MAP Min N Required [48, 20, 49, 64, 64, 64, 64, 64, 64, 64, 56, 64, 64, 64, 64, 64, 64, 64, 64, 20, 64, 61, 20, 20, 64, 20, 64, 64, 64, 32, 64, 64, 64, 20, 61, 64, 64, 64, 25, 64]\n",
      "MAP - Target Score: 0.975, Percentile: 0.035\n",
      "MAP - Accuracy: 0.8750, Average Token Count: 403834.70\n"
     ]
    },
    {
     "name": "stderr",
     "output_type": "stream",
     "text": []
    },
    {
     "name": "stdout",
     "output_type": "stream",
     "text": [
      "MAP Min N Required [43, 20, 44, 64, 64, 64, 64, 64, 64, 64, 50, 64, 60, 64, 64, 58, 64, 64, 64, 20, 64, 54, 20, 20, 64, 20, 64, 64, 64, 28, 64, 64, 64, 20, 55, 64, 64, 64, 23, 64]\n",
      "MAP - Target Score: 0.975, Percentile: 0.05\n",
      "MAP - Accuracy: 0.8750, Average Token Count: 398482.47\n"
     ]
    },
    {
     "name": "stderr",
     "output_type": "stream",
     "text": []
    },
    {
     "name": "stdout",
     "output_type": "stream",
     "text": [
      "MAP Min N Required [37, 20, 38, 64, 64, 64, 64, 64, 64, 64, 44, 64, 52, 64, 64, 50, 64, 56, 64, 20, 64, 47, 20, 20, 64, 20, 64, 64, 64, 25, 64, 64, 64, 20, 48, 64, 64, 64, 20, 64]\n",
      "MAP - Target Score: 0.975, Percentile: 0.075\n",
      "MAP - Accuracy: 0.8750, Average Token Count: 391391.78\n"
     ]
    },
    {
     "name": "stderr",
     "output_type": "stream",
     "text": [
      "Target Score (MAP): 100%|██████████| 7/7 [00:18<00:00,  2.66s/it]"
     ]
    },
    {
     "name": "stdout",
     "output_type": "stream",
     "text": [
      "MAP Min N Required [33, 20, 34, 61, 64, 61, 64, 64, 64, 64, 39, 64, 46, 64, 62, 45, 64, 50, 64, 20, 64, 42, 20, 20, 63, 20, 64, 64, 64, 22, 61, 64, 64, 20, 42, 64, 64, 64, 20, 64]\n",
      "MAP - Target Score: 0.975, Percentile: 0.1\n",
      "MAP - Accuracy: 0.8750, Average Token Count: 384594.05\n"
     ]
    },
    {
     "name": "stderr",
     "output_type": "stream",
     "text": [
      "\n"
     ]
    },
    {
     "data": {
      "image/png": "[encoded data removed]",
      "text/plain": [
       "<Figure size 1200x800 with 1 Axes>"
      ]
     },
     "metadata": {},
     "output_type": "display_data"
    },
    {
     "name": "stdout",
     "output_type": "stream",
     "text": [
      "\n",
      "MLE Pareto-optimal configurations:\n",
      "Target Score: 0.75, Percentile: 0.1, Accuracy: 0.9000, Avg Token Count: 245864.17\n",
      "\n",
      "MAP Pareto-optimal configurations:\n",
      "Target Score: 0.75, Percentile: 0.035, Accuracy: 0.9000, Avg Token Count: 252928.38\n"
     ]
    }
   ],
   "source": [
    "max_N_panel = 64\n",
    "print(\"Target Score Panel:\", target_score_panel_values)\n",
    "print(\"Percentile Panel:\", percentile_panel_values)\n",
    "print(\"Max N:\", max_N_panel)\n",
    "\n",
    "# Evaluate MLE results\n",
    "print(\"\\nEvaluating MLE Results...\")\n",
    "truncated_normal_params_all = mle_estimated_params\n",
    "mle_grid_search_results = []\n",
    "\n",
    "for target_score in tqdm(target_score_panel_values, desc=\"Target Score (MLE)\"):\n",
    "    for percentile in tqdm(percentile_panel_values, desc=\"Percentile\", leave=False):\n",
    "        min_N_required = []\n",
    "        for i, (mu, sigma) in enumerate(truncated_normal_params_all):\n",
    "            min_N = find_min_N_for_threshold(mu, sigma, target_score=target_score, \n",
    "                                        percentile=percentile, max_N=max_N_panel)\n",
    "            if min_N < peek_number:\n",
    "                min_N = peek_number\n",
    "            min_N_required.append(min_N)\n",
    "        print(\"MLE Min N Required\", min_N_required)\n",
    "        \n",
    "        # Evaluate model performance with these parameters\n",
    "        correct = 0\n",
    "        entire_token_count = 0\n",
    "\n",
    "        for idx, item in enumerate(val_texts):\n",
    "            N = min_N_required[idx]\n",
    "            completions = val_completions[idx][0][:N]\n",
    "            scores = val_scores[idx][0][:N]\n",
    "            completion_tokens = val_completion_tokens[idx][0][:N]\n",
    "            total_tokens = sum(completion_tokens)\n",
    "\n",
    "            highest_scores_idx = scores.index(max(scores))\n",
    "\n",
    "            while completions[highest_scores_idx] == \"\":\n",
    "                scores[highest_scores_idx] = 0 \n",
    "                if max(scores) == 0: \n",
    "                    break\n",
    "                highest_scores_idx = scores.index(max(scores))\n",
    "\n",
    "            output = completions[highest_scores_idx]\n",
    "            answer = get_answer(output)\n",
    "\n",
    "            if verify_extracted_answer(val_gt_answers[idx], answer):\n",
    "                correct += 1\n",
    "            entire_token_count += total_tokens\n",
    "\n",
    "        accuracy = correct / len(val_texts)\n",
    "        average_token_count = entire_token_count / len(val_texts)\n",
    "        \n",
    "        print(f\"MLE - Target Score: {target_score}, Percentile: {percentile}\")\n",
    "        print(f\"MLE - Accuracy: {accuracy:.4f}, Average Token Count: {average_token_count:.2f}\")\n",
    "        \n",
    "        mle_grid_search_results.append({\n",
    "            'target_score': target_score,\n",
    "            'percentile': percentile,\n",
    "            'accuracy': accuracy,\n",
    "            'average_token_count': average_token_count\n",
    "        })\n",
    "        \n",
    "with open(f'{DATASET}_OptScale_MLE_results_{max_N_panel}.json', 'w') as f:\n",
    "    json.dump(mle_grid_search_results, f)\n",
    "\n",
    "\n",
    "# Evaluate MAP results\n",
    "print(\"\\nEvaluating MAP Results...\")\n",
    "truncated_normal_params_all = map_estimated_params\n",
    "map_grid_search_results = []\n",
    "\n",
    "for target_score in tqdm(target_score_panel_values, desc=\"Target Score (MAP)\"):\n",
    "    for percentile in tqdm(percentile_panel_values, desc=\"Percentile\", leave=False):\n",
    "        min_N_required = []\n",
    "        for i, (mu, sigma) in enumerate(truncated_normal_params_all):\n",
    "            min_N = find_min_N_for_threshold(mu, sigma, target_score=target_score, \n",
    "                                        percentile=percentile, max_N=max_N_panel)\n",
    "            if min_N < peek_number:\n",
    "                min_N = peek_number\n",
    "            min_N_required.append(min_N)\n",
    "        print(\"MAP Min N Required\", min_N_required)\n",
    "        \n",
    "        # Evaluate model performance with these parameters\n",
    "        correct = 0\n",
    "        entire_token_count = 0\n",
    "\n",
    "        for idx, item in enumerate(val_texts):\n",
    "            N = min_N_required[idx]\n",
    "            completions = val_completions[idx][0][:N]\n",
    "            scores = val_scores[idx][0][:N]\n",
    "            completion_tokens = val_completion_tokens[idx][0][:N]\n",
    "            total_tokens = sum(completion_tokens)\n",
    "\n",
    "            highest_scores_idx = scores.index(max(scores))\n",
    "\n",
    "            while completions[highest_scores_idx] == \"\":\n",
    "                scores[highest_scores_idx] = 0 \n",
    "                if max(scores) == 0: \n",
    "                    break\n",
    "                highest_scores_idx = scores.index(max(scores))\n",
    "\n",
    "            output = completions[highest_scores_idx]\n",
    "            answer = get_answer(output)\n",
    "\n",
    "            if verify_extracted_answer(val_gt_answers[idx], answer):\n",
    "                correct += 1\n",
    "            entire_token_count += total_tokens\n",
    "\n",
    "        accuracy = correct / len(val_texts)\n",
    "        average_token_count = entire_token_count / len(val_texts)\n",
    "        \n",
    "        print(f\"MAP - Target Score: {target_score}, Percentile: {percentile}\")\n",
    "        print(f\"MAP - Accuracy: {accuracy:.4f}, Average Token Count: {average_token_count:.2f}\")\n",
    "        \n",
    "        map_grid_search_results.append({\n",
    "            'target_score': target_score,\n",
    "            'percentile': percentile,\n",
    "            'accuracy': accuracy,\n",
    "            'average_token_count': average_token_count\n",
    "        })\n",
    "        \n",
    "with open(f'{DATASET}_OptScale_MAP_results_{max_N_panel}.json', 'w') as f:\n",
    "    json.dump(map_grid_search_results, f)\n",
    "\n",
    "plot_mle_map_optscale(mle_grid_search_results, map_grid_search_results, baseline_average_token_counts, baseline_accuracy_values, max_N_panel)"
   ]
  },
  {
   "cell_type": "code",
   "execution_count": null,
   "metadata": {},
   "outputs": [],
   "source": []
  }
 ],
 "metadata": {
  "kernelspec": {
   "display_name": "test_scale",
   "language": "python",
   "name": "python3"
  },
  "language_info": {
   "codemirror_mode": {
    "name": "ipython",
    "version": 3
   },
   "file_extension": ".py",
   "mimetype": "text/x-python",
   "name": "python",
   "nbconvert_exporter": "python",
   "pygments_lexer": "ipython3",
   "version": "3.10.18"
  }
 },
 "nbformat": 4,
 "nbformat_minor": 2
}
