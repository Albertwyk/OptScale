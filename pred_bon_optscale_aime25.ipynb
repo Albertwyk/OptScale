{
 "cells": [
  {
   "cell_type": "markdown",
   "metadata": {},
   "source": [
    "#### Note that in this version of OptScale 1, we no longer use MuSigmaPredictor for MLE starting point. Instead, we set Mu = 0.8 and Sigma = 0.2 for all datasets, making this a simplified but still effective OptScale."
   ]
  },
  {
   "cell_type": "code",
   "execution_count": 1,
   "metadata": {},
   "outputs": [
    {
     "name": "stderr",
     "output_type": "stream",
     "text": [
      "/home/wangyoukang/anaconda3/envs/test_scale/lib/python3.10/site-packages/tqdm/auto.py:21: TqdmWarning: IProgress not found. Please update jupyter and ipywidgets. See https://ipywidgets.readthedocs.io/en/stable/user_install.html\n",
      "  from .autonotebook import tqdm as notebook_tqdm\n"
     ]
    },
    {
     "name": "stdout",
     "output_type": "stream",
     "text": [
      "Using device: cuda:1\n"
     ]
    }
   ],
   "source": [
    "import json\n",
    "import torch\n",
    "import torch.nn as nn\n",
    "from torch.utils.data import Dataset, DataLoader\n",
    "from transformers import AutoModel, AutoTokenizer\n",
    "import numpy as np\n",
    "import matplotlib.pyplot as plt\n",
    "from scipy.stats import norm\n",
    "from scipy.optimize import root\n",
    "from scipy.optimize import minimize\n",
    "from tqdm import tqdm\n",
    "import os \n",
    "\n",
    "from utils import *\n",
    "\n",
    "# Set random seed for reproducibility (same as in train_predictor_initial.py)\n",
    "torch.manual_seed(42)\n",
    "np.random.seed(42)\n",
    "\n",
    "\n",
    "device = torch.device('cuda:1' if torch.cuda.is_available() else 'cpu')\n",
    "print(f\"Using device: {device}\")\n",
    "\n",
    "DATASET = 'AIME25'"
   ]
  },
  {
   "cell_type": "code",
   "execution_count": 2,
   "metadata": {},
   "outputs": [
    {
     "name": "stdout",
     "output_type": "stream",
     "text": [
      "Total dataset size: 30\n",
      "Validation size: 30\n",
      "Predicting mu/sigma parameters using QwenMuSigmaPredictor...\n",
      "Qwen2Model(\n",
      "  (embed_tokens): Embedding(151936, 1536)\n",
      "  (layers): ModuleList(\n",
      "    (0-27): 28 x Qwen2DecoderLayer(\n",
      "      (self_attn): Qwen2Attention(\n",
      "        (q_proj): Linear(in_features=1536, out_features=1536, bias=True)\n",
      "        (k_proj): Linear(in_features=1536, out_features=256, bias=True)\n",
      "        (v_proj): Linear(in_features=1536, out_features=256, bias=True)\n",
      "        (o_proj): Linear(in_features=1536, out_features=1536, bias=False)\n",
      "      )\n",
      "      (mlp): Qwen2MLP(\n",
      "        (gate_proj): Linear(in_features=1536, out_features=8960, bias=False)\n",
      "        (up_proj): Linear(in_features=1536, out_features=8960, bias=False)\n",
      "        (down_proj): Linear(in_features=8960, out_features=1536, bias=False)\n",
      "        (act_fn): SiLU()\n",
      "      )\n",
      "      (input_layernorm): Qwen2RMSNorm((1536,), eps=1e-06)\n",
      "      (post_attention_layernorm): Qwen2RMSNorm((1536,), eps=1e-06)\n",
      "    )\n",
      "  )\n",
      "  (norm): Qwen2RMSNorm((1536,), eps=1e-06)\n",
      "  (rotary_emb): Qwen2RotaryEmbedding()\n",
      ")\n"
     ]
    }
   ],
   "source": [
    "# Initialize tokenizer - same model as in train_predictor_initial.py\n",
    "model_name = \"deepseek-ai/DeepSeek-R1-Distill-Qwen-1.5B\"\n",
    "tokenizer = AutoTokenizer.from_pretrained(model_name, use_fast=True)\n",
    "tokenizer.pad_token = tokenizer.eos_token\n",
    "\n",
    "def load_validation_data(batch_size=16):\n",
    "    with open('../../Data/test_prompts/aime25.json', 'r') as f:\n",
    "        dataset = json.load(f)\n",
    "        \n",
    "    with open('../../Data/all_qwen3_8b/parallel/scored_aime25_qwen3.json', 'r') as f:\n",
    "        completion_data = json.load(f)\n",
    "    \n",
    "    # Prepare data\n",
    "    texts = [item['question'] for item in dataset]\n",
    "    gt_answers = [item['answer'] for item in dataset]\n",
    "    completions = [item['score']['completions'] for item in completion_data]\n",
    "    completion_tokens = [item['score']['completion_tokens'] for item in completion_data]\n",
    "    scores = [item['score']['scores'] for item in completion_data]\n",
    "    \n",
    "    val_texts = texts\n",
    "    val_gt_answers = gt_answers\n",
    "    val_completions = completions\n",
    "    val_completion_tokens = completion_tokens\n",
    "    val_scores = scores\n",
    "    \n",
    "    print(f\"Total dataset size: {len(texts)}\")\n",
    "    print(f\"Validation size: {len(val_texts)}\")\n",
    "    \n",
    "    # Load or predict mu/sigma parameters\n",
    "    if os.path.exists(f'{DATASET}_train_mu_sigma.json'):\n",
    "        print(\"Loading existing mu/sigma parameters...\")\n",
    "        with open(f'{DATASET}_train_mu_sigma.json', 'r') as f:\n",
    "            val_labels = json.load(f)\n",
    "    else:\n",
    "        print(\"Predicting mu/sigma parameters using QwenMuSigmaPredictor...\")\n",
    "        \n",
    "        # Clear GPU cache before loading model\n",
    "        torch.cuda.empty_cache()\n",
    "        \n",
    "        # Load model on CPU first to avoid GPU memory issues\n",
    "        # print(\"Loading model on CPU first...\")\n",
    "        model = QwenMuSigmaPredictor(model_name).to(device)\n",
    "        \n",
    "        # Load checkpoint on CPU\n",
    "        checkpoint_path = '/home/wangyoukang/Desktop/Test-time Scaling/large-scale_testing/Qwen_Predictor_Training/best_predictor_model_direct_qwen_real.pt'\n",
    "        checkpoint = torch.load(checkpoint_path, map_location='cpu')\n",
    "        model.load_state_dict(checkpoint)\n",
    "        \n",
    "        # # Move model to GPU after loading checkpoint\n",
    "        # print(\"Moving model to GPU...\")\n",
    "        # model = model.to(device)\n",
    "        # model.eval()\n",
    "        \n",
    "        # # Clear CPU cache\n",
    "        # del checkpoint\n",
    "        # torch.cuda.empty_cache()\n",
    "        \n",
    "        # Create dataset and dataloader for prediction\n",
    "        val_dataset = TextDatasetNoLabels(val_texts, tokenizer)\n",
    "        val_loader = DataLoader(val_dataset, batch_size=batch_size)\n",
    "        \n",
    "        # Make predictions\n",
    "        val_labels = []\n",
    "        with torch.no_grad():\n",
    "            for batch in val_loader:\n",
    "                input_ids = batch['input_ids'].to(device)\n",
    "                attention_mask = batch['attention_mask'].to(device)\n",
    "                outputs = model(input_ids, attention_mask)\n",
    "                val_labels.extend(outputs.cpu().numpy().tolist())\n",
    "        \n",
    "        # Save predictions\n",
    "        with open(f'{DATASET}_train_mu_sigma.json', 'w') as f:\n",
    "            json.dump(val_labels, f)\n",
    "            \n",
    "    # Create validation dataset and dataloader\n",
    "    val_dataset = TextDataset(val_texts, val_labels, tokenizer)\n",
    "    val_loader = DataLoader(val_dataset, batch_size=batch_size)\n",
    "    \n",
    "    return val_loader, val_texts, val_gt_answers, val_completions, val_completion_tokens, val_scores, val_labels, tokenizer\n",
    "\n",
    "# Load validation data\n",
    "val_loader, val_texts, val_gt_answers, val_completions, val_completion_tokens, val_scores, val_labels, tokenizer = load_validation_data()\n"
   ]
  },
  {
   "cell_type": "code",
   "execution_count": 3,
   "metadata": {},
   "outputs": [
    {
     "name": "stdout",
     "output_type": "stream",
     "text": [
      "\n",
      "Comparison of Estimation Methods (first 10 examples):\n",
      "ID   Predictor_μ   Predictor_σ  MLE_μ     MLE_σ     MAP_μ     MAP_σ     GT_μ      GT_σ\n",
      "------------------------------------------------------------------------------------------\n",
      "0         0.5997      0.1059    0.9813    0.0018    1.0028    0.0267    0.9801    0.0211\n",
      "1         0.7376      0.1213    0.6295    0.0746    0.6491    0.0817    0.6037    0.0535\n",
      "2         0.5715      0.1018    0.6933    0.0273    0.6901    0.0285    0.7135    0.0874\n",
      "3         0.5357      0.0756    0.7237    0.0231    0.7201    0.0239    0.6907    0.0764\n",
      "4         0.5198      0.1314    0.6000    0.0383    0.5957    0.0412    0.6291    0.0796\n",
      "5         0.6532      0.0969    0.9718    0.0106    0.9924    0.0547    0.9797    0.0094\n",
      "6         0.6889      0.1328    0.4653    0.0222    0.5396    0.0700    0.4544    0.0792\n",
      "7         0.6979      0.1068    0.9284    0.0189    0.9255    0.0197    3.8541    0.5998\n",
      "8         0.5785      0.0865    0.4876    0.0316    0.4908    0.0327    0.5131    0.0671\n",
      "9         0.6922      0.1633    0.3204    0.0344    0.5371    0.2030    0.3717    0.0420\n",
      "10        0.6509      0.1193    0.3172    0.0471    0.3693    0.0745    0.3286    0.0399\n",
      "11        0.6163      0.1217    0.5685    0.0639    0.5750    0.0685    0.5291    0.0580\n",
      "12        0.7201      0.0871    0.4356    0.0250    0.4422    0.0266    0.4272    0.0375\n",
      "13        0.7495      0.1252    0.4463    0.0308    0.4581    0.0348    0.4439    0.0249\n",
      "14        0.4176      0.0512    0.3753    0.0059    0.4176    0.0512    0.3955    0.0332\n",
      "15        0.6432      0.1218    0.9560    0.0038    0.8957    0.0855    0.9685    0.0287\n",
      "16        0.4786      0.0956    0.8895    0.0320    0.6853    0.1787    0.8774    0.0926\n",
      "17        0.6420      0.1010    0.4344    0.0441    0.4645    0.0739    0.4327    0.0470\n",
      "18        0.6636      0.1143    0.7216    0.0291    0.7199    0.0305    0.7182    0.0956\n",
      "19        0.7491      0.1112    0.4727    0.0828    0.5625    0.1201    0.4856    0.0441\n",
      "20        0.7925      0.0884    0.5310    0.0487    0.5562    0.0565    0.4269    0.0646\n",
      "21        0.6538      0.0702    0.6111    0.1039    0.6217    0.0996    0.5953    0.0794\n",
      "22        0.7403      0.1377    0.4189    0.0891    0.5808    0.1727    0.4415    0.0669\n",
      "23        0.7223      0.0959    0.4951    0.1256    0.5868    0.1419    0.4913    0.1059\n",
      "24        0.6375      0.0628    0.5392    0.0084    0.5394    0.0085    0.5135    0.0686\n",
      "25        0.6262      0.1118    0.3874    0.0611    0.4256    0.0756    0.3794    0.0528\n",
      "26        0.7778      0.1061    0.6710    0.1053    0.7023    0.1102    0.6600    0.1398\n",
      "27        0.6402      0.1144    0.4196    0.0091    0.4459    0.0208    0.3922    0.0440\n",
      "28        0.6544      0.1343    0.4730    0.0767    0.5136    0.0929    0.4997    0.0838\n",
      "29        0.5893      0.1102    0.3560    0.0270    0.4005    0.0414    0.3918    0.0376\n",
      "\n",
      "Performance Comparison (MSE against ground truth):\n",
      "Predictor MSE - μ: 0.387183, σ: 0.011539\n",
      "MLE MSE      - μ: 0.286140, σ: 0.012340\n",
      "MAP MSE      - μ: 0.290836, σ: 0.013871\n",
      "\n",
      "Statistics of Different Estimation Methods:\n",
      "Predictor Estimates:\n",
      "Mean μ: 0.6480 ± 0.0858\n",
      "Mean σ: 0.1068 ± 0.0234\n",
      "\n",
      "MLE Estimates (10 samples):\n",
      "Mean μ: 0.5774 ± 0.1976\n",
      "Mean σ: 0.0434 ± 0.0326\n",
      "\n",
      "MAP Estimates (10 samples):\n",
      "Mean μ: 0.6035 ± 0.1679\n",
      "Mean σ: 0.0716 ± 0.0497\n",
      "\n",
      "Ground Truth (100 samples):\n",
      "Mean μ: 0.6729 ± 0.6188\n",
      "Mean σ: 0.0787 ± 0.1007\n"
     ]
    },
    {
     "name": "stderr",
     "output_type": "stream",
     "text": [
      "/home/wangyoukang/anaconda3/envs/test_scale/lib/python3.10/site-packages/scipy/optimize/_numdiff.py:596: RuntimeWarning: invalid value encountered in subtract\n",
      "  df = fun(x1) - f0\n"
     ]
    }
   ],
   "source": [
    "# Ground truth parameters (using full data)\n",
    "original_params_compare = []\n",
    "for idx, score in enumerate(val_scores):\n",
    "    data = np.array(score[0][:100])\n",
    "    initial_mu = np.mean(data)\n",
    "    initial_sigma = np.std(data)\n",
    "    result = minimize(lambda params: neg_log_likelihood(params, data), \n",
    "                     [initial_mu, initial_sigma],\n",
    "                     bounds=[(None, None), (1e-6, None)], \n",
    "                     method='L-BFGS-B')\n",
    "    mu_hat, sigma_hat = result.x\n",
    "    original_params_compare.append((mu_hat, sigma_hat))\n",
    "\n",
    "# Estimates using limited data (first 10 samples)\n",
    "mle_estimated_params = []  # Store MLE estimates\n",
    "map_estimated_params = []  # Store MAP estimates\n",
    "predictor_params = []      # Store predictor's estimates\n",
    "\n",
    "print(\"\\nComparison of Estimation Methods (first 10 examples):\")\n",
    "print(\"ID   Predictor_μ   Predictor_σ  MLE_μ     MLE_σ     MAP_μ     MAP_σ     GT_μ      GT_σ\")\n",
    "print(\"-\" * 90)\n",
    "\n",
    "peek_number = 3\n",
    "\n",
    "for i, (score, prediction) in enumerate(zip(val_scores, val_labels)):\n",
    "    peek_data = np.array(score[0][:peek_number])\n",
    "    \n",
    "    # Store predictor's parameters\n",
    "    prior_mu, prior_sigma = prediction\n",
    "    predictor_params.append((prior_mu, prior_sigma))\n",
    "    \n",
    "    # MLE estimation with limited data\n",
    "    initial_mu = np.mean(peek_data)\n",
    "    initial_sigma = np.std(peek_data)\n",
    "    mle_result = minimize(\n",
    "        lambda params: neg_log_likelihood(params, peek_data),\n",
    "        [initial_mu, initial_sigma],\n",
    "        bounds=[(None, None), (1e-6, None)],\n",
    "        method='L-BFGS-B'\n",
    "    )\n",
    "    mle_mu, mle_sigma = mle_result.x\n",
    "    mle_estimated_params.append((mle_mu, mle_sigma))\n",
    "    \n",
    "    # MAP estimation with limited data\n",
    "    map_result = minimize(\n",
    "        lambda params: neg_log_posterior(\n",
    "            params, \n",
    "            peek_data, \n",
    "            prior_mu=prior_mu, \n",
    "            prior_sigma=prior_sigma\n",
    "        ),\n",
    "        [prior_mu, prior_sigma],\n",
    "        bounds=[(None, None), (1e-6, None)],\n",
    "        method='L-BFGS-B'\n",
    "    )\n",
    "    map_mu, map_sigma = map_result.x\n",
    "    map_estimated_params.append((map_mu, map_sigma))\n",
    "    \n",
    "    # Print comparison for first 50 examples\n",
    "    if i < 50:\n",
    "        gt_mu, gt_sigma = original_params_compare[i]\n",
    "        print(f\"{i:<4} {prior_mu:11.4f} {prior_sigma:11.4f} {mle_mu:9.4f} {mle_sigma:9.4f} \"\n",
    "              f\"{map_mu:9.4f} {map_sigma:9.4f} {gt_mu:9.4f} {gt_sigma:9.4f}\")\n",
    "\n",
    "# Call the function to perform the analysis\n",
    "analyze_estimation_performance(predictor_params, mle_estimated_params, map_estimated_params, original_params_compare)\n"
   ]
  },
  {
   "cell_type": "code",
   "execution_count": 4,
   "metadata": {},
   "outputs": [],
   "source": [
    "# Load baseline results\n",
    "with open(f'{DATASET}_BoN_results.json', 'r') as f:\n",
    "    data = json.load(f)\n",
    "\n",
    "# Reconstruct the baseline arrays\n",
    "baseline_accuracy_values = []\n",
    "baseline_average_token_counts = []\n",
    "\n",
    "for item in data:\n",
    "    baseline_accuracy_values.append(item['accuracy'])\n",
    "    baseline_average_token_counts.append(item['token_count'])"
   ]
  },
  {
   "cell_type": "code",
   "execution_count": 5,
   "metadata": {},
   "outputs": [
    {
     "name": "stdout",
     "output_type": "stream",
     "text": [
      "Target Score Panel: [0.7, 0.75, 0.8, 0.85, 0.9, 0.925, 0.95, 0.975]\n",
      "Percentile Panel: [0.01, 0.02, 0.035, 0.05, 0.075, 0.1]\n",
      "Max N: 8\n",
      "\n",
      "Evaluating MLE Results...\n"
     ]
    },
    {
     "name": "stderr",
     "output_type": "stream",
     "text": [
      "Target Score (MLE):   0%|          | 0/8 [00:00<?, ?it/s]"
     ]
    },
    {
     "name": "stdout",
     "output_type": "stream",
     "text": [
      "MLE Min N Required [3, 8, 8, 3, 8, 3, 8, 3, 8, 8, 8, 8, 8, 8, 8, 3, 3, 8, 4, 8, 8, 8, 8, 8, 8, 8, 8, 8, 8, 8]\n"
     ]
    },
    {
     "name": "stderr",
     "output_type": "stream",
     "text": []
    },
    {
     "name": "stdout",
     "output_type": "stream",
     "text": [
      "MLE - Target Score: 0.7, Percentile: 0.01\n",
      "MLE - Accuracy: 0.7000, Average Token Count: 118307.13\n",
      "MLE Min N Required [3, 8, 8, 3, 8, 3, 8, 3, 8, 8, 8, 8, 8, 8, 8, 3, 3, 8, 3, 8, 8, 8, 8, 8, 8, 8, 8, 8, 8, 8]\n",
      "MLE - Target Score: 0.7, Percentile: 0.02\n",
      "MLE - Accuracy: 0.7000, Average Token Count: 118004.37\n",
      "MLE Min N Required [3, 8, 7, 3, 8, 3, 8, 3, 8, 8, 8, 8, 8, 8, 8, 3, 3, 8, 3, 8, 8, 8, 8, 8, 8, 8, 7, 8, 8, 8]\n",
      "MLE - Target Score: 0.7, Percentile: 0.035\n",
      "MLE - Accuracy: 0.7000, Average Token Count: 117372.20\n"
     ]
    },
    {
     "name": "stderr",
     "output_type": "stream",
     "text": [
      "Target Score (MLE):  12%|█▎        | 1/8 [00:00<00:04,  1.41it/s]"
     ]
    },
    {
     "name": "stdout",
     "output_type": "stream",
     "text": [
      "MLE Min N Required [3, 8, 6, 3, 8, 3, 8, 3, 8, 8, 8, 8, 8, 8, 8, 3, 3, 8, 3, 8, 8, 8, 8, 8, 8, 8, 7, 8, 8, 8]\n",
      "MLE - Target Score: 0.7, Percentile: 0.05\n",
      "MLE - Accuracy: 0.7000, Average Token Count: 117131.60\n",
      "MLE Min N Required [3, 8, 6, 3, 8, 3, 8, 3, 8, 8, 8, 8, 8, 8, 8, 3, 3, 8, 3, 8, 8, 8, 8, 8, 8, 8, 6, 8, 8, 8]\n",
      "MLE - Target Score: 0.7, Percentile: 0.075\n",
      "MLE - Accuracy: 0.7000, Average Token Count: 116836.50\n",
      "MLE Min N Required [3, 8, 5, 3, 8, 3, 8, 3, 8, 8, 8, 8, 8, 8, 8, 3, 3, 8, 3, 8, 8, 8, 8, 8, 8, 8, 5, 8, 8, 8]\n",
      "MLE - Target Score: 0.7, Percentile: 0.1\n",
      "MLE - Accuracy: 0.7000, Average Token Count: 116109.47\n"
     ]
    },
    {
     "name": "stderr",
     "output_type": "stream",
     "text": []
    },
    {
     "name": "stdout",
     "output_type": "stream",
     "text": [
      "MLE Min N Required [3, 8, 8, 8, 8, 3, 8, 3, 8, 8, 8, 8, 8, 8, 8, 3, 3, 8, 8, 8, 8, 8, 8, 8, 8, 8, 8, 8, 8, 8]\n",
      "MLE - Target Score: 0.75, Percentile: 0.01\n",
      "MLE - Accuracy: 0.7000, Average Token Count: 120963.23\n",
      "MLE Min N Required [3, 8, 8, 8, 8, 3, 8, 3, 8, 8, 8, 8, 8, 8, 8, 3, 3, 8, 8, 8, 8, 8, 8, 8, 8, 8, 8, 8, 8, 8]\n",
      "MLE - Target Score: 0.75, Percentile: 0.02\n",
      "MLE - Accuracy: 0.7000, Average Token Count: 120963.23\n",
      "MLE Min N Required [3, 8, 8, 8, 8, 3, 8, 3, 8, 8, 8, 8, 8, 8, 8, 3, 3, 8, 8, 8, 8, 8, 8, 8, 8, 8, 8, 8, 8, 8]\n",
      "MLE - Target Score: 0.75, Percentile: 0.035\n",
      "MLE - Accuracy: 0.7000, Average Token Count: 120963.23\n"
     ]
    },
    {
     "name": "stderr",
     "output_type": "stream",
     "text": [
      "Target Score (MLE):  25%|██▌       | 2/8 [00:01<00:03,  1.68it/s]"
     ]
    },
    {
     "name": "stdout",
     "output_type": "stream",
     "text": [
      "MLE Min N Required [3, 8, 8, 8, 8, 3, 8, 3, 8, 8, 8, 8, 8, 8, 8, 3, 3, 8, 8, 8, 8, 8, 8, 8, 8, 8, 8, 8, 8, 8]\n",
      "MLE - Target Score: 0.75, Percentile: 0.05\n",
      "MLE - Accuracy: 0.7000, Average Token Count: 120963.23\n",
      "MLE Min N Required [3, 8, 8, 8, 8, 3, 8, 3, 8, 8, 8, 8, 8, 8, 8, 3, 3, 8, 8, 8, 8, 8, 8, 8, 8, 8, 8, 8, 8, 8]\n",
      "MLE - Target Score: 0.75, Percentile: 0.075\n",
      "MLE - Accuracy: 0.7000, Average Token Count: 120963.23\n",
      "MLE Min N Required [3, 8, 8, 8, 8, 3, 8, 3, 8, 8, 8, 8, 8, 8, 8, 3, 3, 8, 8, 8, 8, 8, 8, 8, 8, 8, 8, 8, 8, 8]\n",
      "MLE - Target Score: 0.75, Percentile: 0.1\n",
      "MLE - Accuracy: 0.7000, Average Token Count: 120963.23\n"
     ]
    },
    {
     "name": "stderr",
     "output_type": "stream",
     "text": []
    },
    {
     "name": "stdout",
     "output_type": "stream",
     "text": [
      "MLE Min N Required [3, 8, 8, 8, 8, 3, 8, 3, 8, 8, 8, 8, 8, 8, 8, 3, 3, 8, 8, 8, 8, 8, 8, 8, 8, 8, 8, 8, 8, 8]\n",
      "MLE - Target Score: 0.8, Percentile: 0.01\n",
      "MLE - Accuracy: 0.7000, Average Token Count: 120963.23\n",
      "MLE Min N Required [3, 8, 8, 8, 8, 3, 8, 3, 8, 8, 8, 8, 8, 8, 8, 3, 3, 8, 8, 8, 8, 8, 8, 8, 8, 8, 8, 8, 8, 8]\n",
      "MLE - Target Score: 0.8, Percentile: 0.02\n",
      "MLE - Accuracy: 0.7000, Average Token Count: 120963.23\n",
      "MLE Min N Required [3, 8, 8, 8, 8, 3, 8, 3, 8, 8, 8, 8, 8, 8, 8, 3, 3, 8, 8, 8, 8, 8, 8, 8, 8, 8, 8, 8, 8, 8]\n",
      "MLE - Target Score: 0.8, Percentile: 0.035\n",
      "MLE - Accuracy: 0.7000, Average Token Count: 120963.23\n"
     ]
    },
    {
     "name": "stderr",
     "output_type": "stream",
     "text": []
    },
    {
     "name": "stdout",
     "output_type": "stream",
     "text": [
      "MLE Min N Required [3, 8, 8, 8, 8, 3, 8, 3, 8, 8, 8, 8, 8, 8, 8, 3, 3, 8, 8, 8, 8, 8, 8, 8, 8, 8, 8, 8, 8, 8]\n",
      "MLE - Target Score: 0.8, Percentile: 0.05\n",
      "MLE - Accuracy: 0.7000, Average Token Count: 120963.23\n",
      "MLE Min N Required [3, 8, 8, 8, 8, 3, 8, 3, 8, 8, 8, 8, 8, 8, 8, 3, 3, 8, 8, 8, 8, 8, 8, 8, 8, 8, 8, 8, 8, 8]\n",
      "MLE - Target Score: 0.8, Percentile: 0.075\n",
      "MLE - Accuracy: 0.7000, Average Token Count: 120963.23\n",
      "MLE Min N Required [3, 8, 8, 8, 8, 3, 8, 3, 8, 8, 8, 8, 8, 8, 8, 3, 3, 8, 8, 8, 8, 8, 8, 8, 8, 8, 8, 8, 8, 8]\n"
     ]
    },
    {
     "name": "stderr",
     "output_type": "stream",
     "text": [
      "Target Score (MLE):  38%|███▊      | 3/8 [00:01<00:02,  1.77it/s]"
     ]
    },
    {
     "name": "stdout",
     "output_type": "stream",
     "text": [
      "MLE - Target Score: 0.8, Percentile: 0.1\n",
      "MLE - Accuracy: 0.7000, Average Token Count: 120963.23\n"
     ]
    },
    {
     "name": "stderr",
     "output_type": "stream",
     "text": []
    },
    {
     "name": "stdout",
     "output_type": "stream",
     "text": [
      "MLE Min N Required [3, 8, 8, 8, 8, 3, 8, 3, 8, 8, 8, 8, 8, 8, 8, 3, 3, 8, 8, 8, 8, 8, 8, 8, 8, 8, 8, 8, 8, 8]\n",
      "MLE - Target Score: 0.85, Percentile: 0.01\n",
      "MLE - Accuracy: 0.7000, Average Token Count: 120963.23\n",
      "MLE Min N Required [3, 8, 8, 8, 8, 3, 8, 3, 8, 8, 8, 8, 8, 8, 8, 3, 3, 8, 8, 8, 8, 8, 8, 8, 8, 8, 8, 8, 8, 8]\n",
      "MLE - Target Score: 0.85, Percentile: 0.02\n",
      "MLE - Accuracy: 0.7000, Average Token Count: 120963.23\n",
      "MLE Min N Required [3, 8, 8, 8, 8, 3, 8, 3, 8, 8, 8, 8, 8, 8, 8, 3, 3, 8, 8, 8, 8, 8, 8, 8, 8, 8, 8, 8, 8, 8]\n"
     ]
    },
    {
     "name": "stderr",
     "output_type": "stream",
     "text": []
    },
    {
     "name": "stdout",
     "output_type": "stream",
     "text": [
      "MLE - Target Score: 0.85, Percentile: 0.035\n",
      "MLE - Accuracy: 0.7000, Average Token Count: 120963.23\n",
      "MLE Min N Required [3, 8, 8, 8, 8, 3, 8, 3, 8, 8, 8, 8, 8, 8, 8, 3, 3, 8, 8, 8, 8, 8, 8, 8, 8, 8, 8, 8, 8, 8]\n",
      "MLE - Target Score: 0.85, Percentile: 0.05\n",
      "MLE - Accuracy: 0.7000, Average Token Count: 120963.23\n",
      "MLE Min N Required [3, 8, 8, 8, 8, 3, 8, 3, 8, 8, 8, 8, 8, 8, 8, 3, 3, 8, 8, 8, 8, 8, 8, 8, 8, 8, 8, 8, 8, 8]\n",
      "MLE - Target Score: 0.85, Percentile: 0.075\n",
      "MLE - Accuracy: 0.7000, Average Token Count: 120963.23\n"
     ]
    },
    {
     "name": "stderr",
     "output_type": "stream",
     "text": [
      "Target Score (MLE):  50%|█████     | 4/8 [00:02<00:02,  1.78it/s]"
     ]
    },
    {
     "name": "stdout",
     "output_type": "stream",
     "text": [
      "MLE Min N Required [3, 8, 8, 8, 8, 3, 8, 3, 8, 8, 8, 8, 8, 8, 8, 3, 3, 8, 8, 8, 8, 8, 8, 8, 8, 8, 8, 8, 8, 8]\n",
      "MLE - Target Score: 0.85, Percentile: 0.1\n",
      "MLE - Accuracy: 0.7000, Average Token Count: 120963.23\n"
     ]
    },
    {
     "name": "stderr",
     "output_type": "stream",
     "text": []
    },
    {
     "name": "stdout",
     "output_type": "stream",
     "text": [
      "MLE Min N Required [3, 8, 8, 8, 8, 3, 8, 3, 8, 8, 8, 8, 8, 8, 8, 3, 8, 8, 8, 8, 8, 8, 8, 8, 8, 8, 8, 8, 8, 8]\n",
      "MLE - Target Score: 0.9, Percentile: 0.01\n",
      "MLE - Accuracy: 0.7000, Average Token Count: 121972.17\n"
     ]
    },
    {
     "name": "stderr",
     "output_type": "stream",
     "text": [
      "\n"
     ]
    },
    {
     "name": "stdout",
     "output_type": "stream",
     "text": [
      "MLE Min N Required [3, 8, 8, 8, 8, 3, 8, 3, 8, 8, 8, 8, 8, 8, 8, 3, 8, 8, 8, 8, 8, 8, 8, 8, 8, 8, 8, 8, 8, 8]\n",
      "MLE - Target Score: 0.9, Percentile: 0.02\n",
      "MLE - Accuracy: 0.7000, Average Token Count: 121972.17\n"
     ]
    },
    {
     "name": "stderr",
     "output_type": "stream",
     "text": [
      "Percentile:  33%|███▎      | 2/6 [00:00<00:00, 11.38it/s]\u001b[A"
     ]
    },
    {
     "name": "stdout",
     "output_type": "stream",
     "text": [
      "MLE Min N Required [3, 8, 8, 8, 8, 3, 8, 3, 8, 8, 8, 8, 8, 8, 8, 3, 8, 8, 8, 8, 8, 8, 8, 8, 8, 8, 8, 8, 8, 8]\n",
      "MLE - Target Score: 0.9, Percentile: 0.035\n",
      "MLE - Accuracy: 0.7000, Average Token Count: 121972.17\n"
     ]
    },
    {
     "name": "stderr",
     "output_type": "stream",
     "text": []
    },
    {
     "name": "stdout",
     "output_type": "stream",
     "text": [
      "MLE Min N Required [3, 8, 8, 8, 8, 3, 8, 3, 8, 8, 8, 8, 8, 8, 8, 3, 7, 8, 8, 8, 8, 8, 8, 8, 8, 8, 8, 8, 8, 8]\n",
      "MLE - Target Score: 0.9, Percentile: 0.05\n",
      "MLE - Accuracy: 0.7000, Average Token Count: 121770.47\n",
      "MLE Min N Required [3, 8, 8, 8, 8, 3, 8, 3, 8, 8, 8, 8, 8, 8, 8, 3, 6, 8, 8, 8, 8, 8, 8, 8, 8, 8, 8, 8, 8, 8]\n",
      "MLE - Target Score: 0.9, Percentile: 0.075\n",
      "MLE - Accuracy: 0.7000, Average Token Count: 121566.13\n"
     ]
    },
    {
     "name": "stderr",
     "output_type": "stream",
     "text": [
      "Target Score (MLE):  62%|██████▎   | 5/8 [00:02<00:01,  1.82it/s]"
     ]
    },
    {
     "name": "stdout",
     "output_type": "stream",
     "text": [
      "MLE Min N Required [3, 8, 8, 8, 8, 3, 8, 3, 8, 8, 8, 8, 8, 8, 8, 3, 6, 8, 8, 8, 8, 8, 8, 8, 8, 8, 8, 8, 8, 8]\n",
      "MLE - Target Score: 0.9, Percentile: 0.1\n",
      "MLE - Accuracy: 0.7000, Average Token Count: 121566.13\n"
     ]
    },
    {
     "name": "stderr",
     "output_type": "stream",
     "text": []
    },
    {
     "name": "stdout",
     "output_type": "stream",
     "text": [
      "MLE Min N Required [3, 8, 8, 8, 8, 3, 8, 6, 8, 8, 8, 8, 8, 8, 8, 3, 8, 8, 8, 8, 8, 8, 8, 8, 8, 8, 8, 8, 8, 8]\n",
      "MLE - Target Score: 0.925, Percentile: 0.01\n",
      "MLE - Accuracy: 0.7000, Average Token Count: 122552.57\n"
     ]
    },
    {
     "name": "stderr",
     "output_type": "stream",
     "text": [
      "\n"
     ]
    },
    {
     "name": "stdout",
     "output_type": "stream",
     "text": [
      "MLE Min N Required [3, 8, 8, 8, 8, 3, 8, 5, 8, 8, 8, 8, 8, 8, 8, 3, 8, 8, 8, 8, 8, 8, 8, 8, 8, 8, 8, 8, 8, 8]\n",
      "MLE - Target Score: 0.925, Percentile: 0.02\n",
      "MLE - Accuracy: 0.7000, Average Token Count: 122337.57\n"
     ]
    },
    {
     "name": "stderr",
     "output_type": "stream",
     "text": [
      "Percentile:  33%|███▎      | 2/6 [00:00<00:00, 11.26it/s]\u001b[A"
     ]
    },
    {
     "name": "stdout",
     "output_type": "stream",
     "text": [
      "MLE Min N Required [3, 8, 8, 8, 8, 3, 8, 5, 8, 8, 8, 8, 8, 8, 8, 3, 8, 8, 8, 8, 8, 8, 8, 8, 8, 8, 8, 8, 8, 8]\n",
      "MLE - Target Score: 0.925, Percentile: 0.035\n",
      "MLE - Accuracy: 0.7000, Average Token Count: 122337.57\n"
     ]
    },
    {
     "name": "stderr",
     "output_type": "stream",
     "text": []
    },
    {
     "name": "stdout",
     "output_type": "stream",
     "text": [
      "MLE Min N Required [3, 8, 8, 8, 8, 3, 8, 4, 8, 8, 8, 8, 8, 8, 8, 3, 8, 8, 8, 8, 8, 8, 8, 8, 8, 8, 8, 8, 8, 8]\n",
      "MLE - Target Score: 0.925, Percentile: 0.05\n",
      "MLE - Accuracy: 0.7000, Average Token Count: 122161.87\n",
      "MLE Min N Required [3, 8, 8, 8, 8, 3, 8, 4, 8, 8, 8, 8, 8, 8, 8, 3, 8, 8, 8, 8, 8, 8, 8, 8, 8, 8, 8, 8, 8, 8]\n",
      "MLE - Target Score: 0.925, Percentile: 0.075\n",
      "MLE - Accuracy: 0.7000, Average Token Count: 122161.87\n"
     ]
    },
    {
     "name": "stderr",
     "output_type": "stream",
     "text": [
      "Target Score (MLE):  75%|███████▌  | 6/8 [00:03<00:01,  1.83it/s]"
     ]
    },
    {
     "name": "stdout",
     "output_type": "stream",
     "text": [
      "MLE Min N Required [3, 8, 8, 8, 8, 3, 8, 3, 8, 8, 8, 8, 8, 8, 8, 3, 8, 8, 8, 8, 8, 8, 8, 8, 8, 8, 8, 8, 8, 8]\n",
      "MLE - Target Score: 0.925, Percentile: 0.1\n",
      "MLE - Accuracy: 0.7000, Average Token Count: 121972.17\n"
     ]
    },
    {
     "name": "stderr",
     "output_type": "stream",
     "text": []
    },
    {
     "name": "stdout",
     "output_type": "stream",
     "text": [
      "MLE Min N Required [3, 8, 8, 8, 8, 3, 8, 8, 8, 8, 8, 8, 8, 8, 8, 3, 8, 8, 8, 8, 8, 8, 8, 8, 8, 8, 8, 8, 8, 8]\n",
      "MLE - Target Score: 0.95, Percentile: 0.01\n",
      "MLE - Accuracy: 0.7000, Average Token Count: 123432.17\n",
      "MLE Min N Required [3, 8, 8, 8, 8, 3, 8, 8, 8, 8, 8, 8, 8, 8, 8, 3, 8, 8, 8, 8, 8, 8, 8, 8, 8, 8, 8, 8, 8, 8]\n"
     ]
    },
    {
     "name": "stderr",
     "output_type": "stream",
     "text": []
    },
    {
     "name": "stdout",
     "output_type": "stream",
     "text": [
      "MLE - Target Score: 0.95, Percentile: 0.02\n",
      "MLE - Accuracy: 0.7000, Average Token Count: 123432.17\n",
      "MLE Min N Required [3, 8, 8, 8, 8, 3, 8, 8, 8, 8, 8, 8, 8, 8, 8, 3, 8, 8, 8, 8, 8, 8, 8, 8, 8, 8, 8, 8, 8, 8]\n",
      "MLE - Target Score: 0.95, Percentile: 0.035\n",
      "MLE - Accuracy: 0.7000, Average Token Count: 123432.17\n"
     ]
    },
    {
     "name": "stderr",
     "output_type": "stream",
     "text": []
    },
    {
     "name": "stdout",
     "output_type": "stream",
     "text": [
      "MLE Min N Required [3, 8, 8, 8, 8, 3, 8, 8, 8, 8, 8, 8, 8, 8, 8, 3, 8, 8, 8, 8, 8, 8, 8, 8, 8, 8, 8, 8, 8, 8]\n",
      "MLE - Target Score: 0.95, Percentile: 0.05\n",
      "MLE - Accuracy: 0.7000, Average Token Count: 123432.17\n",
      "MLE Min N Required [3, 8, 8, 8, 8, 3, 8, 8, 8, 8, 8, 8, 8, 8, 8, 3, 8, 8, 8, 8, 8, 8, 8, 8, 8, 8, 8, 8, 8, 8]\n",
      "MLE - Target Score: 0.95, Percentile: 0.075\n",
      "MLE - Accuracy: 0.7000, Average Token Count: 123432.17\n",
      "MLE Min N Required [3, 8, 8, 8, 8, 3, 8, 8, 8, 8, 8, 8, 8, 8, 8, 3, 8, 8, 8, 8, 8, 8, 8, 8, 8, 8, 8, 8, 8, 8]\n"
     ]
    },
    {
     "name": "stderr",
     "output_type": "stream",
     "text": [
      "Target Score (MLE):  88%|████████▊ | 7/8 [00:03<00:00,  1.82it/s]"
     ]
    },
    {
     "name": "stdout",
     "output_type": "stream",
     "text": [
      "MLE - Target Score: 0.95, Percentile: 0.1\n",
      "MLE - Accuracy: 0.7000, Average Token Count: 123432.17\n"
     ]
    },
    {
     "name": "stderr",
     "output_type": "stream",
     "text": []
    },
    {
     "name": "stdout",
     "output_type": "stream",
     "text": [
      "MLE Min N Required [3, 8, 8, 8, 8, 8, 8, 8, 8, 8, 8, 8, 8, 8, 8, 8, 8, 8, 8, 8, 8, 8, 8, 8, 8, 8, 8, 8, 8, 8]\n"
     ]
    },
    {
     "name": "stderr",
     "output_type": "stream",
     "text": []
    },
    {
     "name": "stdout",
     "output_type": "stream",
     "text": [
      "MLE - Target Score: 0.975, Percentile: 0.01\n",
      "MLE - Accuracy: 0.7000, Average Token Count: 125029.37\n",
      "MLE Min N Required [3, 8, 8, 8, 8, 8, 8, 8, 8, 8, 8, 8, 8, 8, 8, 8, 8, 8, 8, 8, 8, 8, 8, 8, 8, 8, 8, 8, 8, 8]\n",
      "MLE - Target Score: 0.975, Percentile: 0.02\n",
      "MLE - Accuracy: 0.7000, Average Token Count: 125029.37\n",
      "MLE Min N Required [3, 8, 8, 8, 8, 8, 8, 8, 8, 8, 8, 8, 8, 8, 8, 8, 8, 8, 8, 8, 8, 8, 8, 8, 8, 8, 8, 8, 8, 8]\n"
     ]
    },
    {
     "name": "stderr",
     "output_type": "stream",
     "text": []
    },
    {
     "name": "stdout",
     "output_type": "stream",
     "text": [
      "MLE - Target Score: 0.975, Percentile: 0.035\n",
      "MLE - Accuracy: 0.7000, Average Token Count: 125029.37\n",
      "MLE Min N Required [3, 8, 8, 8, 8, 7, 8, 8, 8, 8, 8, 8, 8, 8, 8, 8, 8, 8, 8, 8, 8, 8, 8, 8, 8, 8, 8, 8, 8, 8]\n",
      "MLE - Target Score: 0.975, Percentile: 0.05\n",
      "MLE - Accuracy: 0.7000, Average Token Count: 124883.83\n",
      "MLE Min N Required [3, 8, 8, 8, 8, 6, 8, 8, 8, 8, 8, 8, 8, 8, 8, 8, 8, 8, 8, 8, 8, 8, 8, 8, 8, 8, 8, 8, 8, 8]\n"
     ]
    },
    {
     "name": "stderr",
     "output_type": "stream",
     "text": []
    },
    {
     "name": "stdout",
     "output_type": "stream",
     "text": [
      "MLE - Target Score: 0.975, Percentile: 0.075\n",
      "MLE - Accuracy: 0.7000, Average Token Count: 124741.43\n",
      "MLE Min N Required [3, 8, 8, 8, 8, 6, 8, 8, 8, 8, 8, 8, 8, 8, 8, 8, 8, 8, 8, 8, 8, 8, 8, 8, 8, 8, 8, 8, 8, 8]\n"
     ]
    },
    {
     "name": "stderr",
     "output_type": "stream",
     "text": [
      "Target Score (MLE): 100%|██████████| 8/8 [00:04<00:00,  1.77it/s]\n"
     ]
    },
    {
     "name": "stdout",
     "output_type": "stream",
     "text": [
      "MLE - Target Score: 0.975, Percentile: 0.1\n",
      "MLE - Accuracy: 0.7000, Average Token Count: 124741.43\n",
      "\n",
      "Evaluating MAP Results...\n"
     ]
    },
    {
     "name": "stderr",
     "output_type": "stream",
     "text": [
      "Target Score (MAP):   0%|          | 0/8 [00:00<?, ?it/s]"
     ]
    },
    {
     "name": "stdout",
     "output_type": "stream",
     "text": [
      "MAP Min N Required [3, 8, 8, 3, 8, 3, 8, 3, 8, 8, 8, 8, 8, 8, 8, 3, 8, 8, 4, 8, 8, 8, 8, 8, 8, 8, 7, 8, 8, 8]\n",
      "MAP - Target Score: 0.7, Percentile: 0.01\n",
      "MAP - Accuracy: 0.7000, Average Token Count: 119002.03\n"
     ]
    },
    {
     "name": "stderr",
     "output_type": "stream",
     "text": [
      "\n"
     ]
    },
    {
     "name": "stdout",
     "output_type": "stream",
     "text": [
      "MAP Min N Required [3, 8, 8, 3, 8, 3, 8, 3, 8, 8, 8, 8, 8, 8, 8, 3, 7, 8, 3, 8, 8, 8, 8, 8, 8, 8, 6, 8, 8, 8]\n",
      "MAP - Target Score: 0.7, Percentile: 0.02\n",
      "MAP - Accuracy: 0.7000, Average Token Count: 118202.47\n"
     ]
    },
    {
     "name": "stderr",
     "output_type": "stream",
     "text": [
      "Percentile:  33%|███▎      | 2/6 [00:00<00:00, 11.41it/s]\u001b[A"
     ]
    },
    {
     "name": "stdout",
     "output_type": "stream",
     "text": [
      "MAP Min N Required [3, 8, 8, 3, 8, 3, 8, 3, 8, 8, 8, 8, 8, 8, 8, 3, 6, 8, 3, 8, 8, 8, 8, 8, 8, 8, 5, 8, 8, 8]\n",
      "MAP - Target Score: 0.7, Percentile: 0.035\n",
      "MAP - Accuracy: 0.7000, Average Token Count: 117700.13\n"
     ]
    },
    {
     "name": "stderr",
     "output_type": "stream",
     "text": []
    },
    {
     "name": "stdout",
     "output_type": "stream",
     "text": [
      "MAP Min N Required [3, 8, 7, 3, 8, 3, 8, 3, 8, 8, 8, 8, 8, 8, 8, 3, 6, 8, 3, 8, 8, 8, 8, 8, 8, 8, 5, 8, 8, 8]\n",
      "MAP - Target Score: 0.7, Percentile: 0.05\n",
      "MAP - Accuracy: 0.7000, Average Token Count: 117382.00\n",
      "MAP Min N Required [3, 8, 6, 3, 8, 3, 8, 3, 8, 8, 8, 8, 8, 8, 8, 3, 5, 8, 3, 8, 8, 8, 8, 8, 8, 8, 4, 8, 8, 8]\n",
      "MAP - Target Score: 0.7, Percentile: 0.075\n",
      "MAP - Accuracy: 0.7000, Average Token Count: 116627.20\n"
     ]
    },
    {
     "name": "stderr",
     "output_type": "stream",
     "text": [
      "Target Score (MAP):  12%|█▎        | 1/8 [00:00<00:03,  1.99it/s]"
     ]
    },
    {
     "name": "stdout",
     "output_type": "stream",
     "text": [
      "MAP Min N Required [3, 8, 6, 3, 8, 3, 8, 3, 8, 8, 8, 8, 8, 8, 8, 3, 4, 8, 3, 8, 8, 8, 8, 8, 8, 8, 4, 8, 8, 8]\n",
      "MAP - Target Score: 0.7, Percentile: 0.1\n",
      "MAP - Accuracy: 0.7000, Average Token Count: 116412.90\n"
     ]
    },
    {
     "name": "stderr",
     "output_type": "stream",
     "text": []
    },
    {
     "name": "stdout",
     "output_type": "stream",
     "text": [
      "MAP Min N Required [3, 8, 8, 8, 8, 3, 8, 3, 8, 8, 8, 8, 8, 8, 8, 3, 8, 8, 8, 8, 8, 8, 8, 8, 8, 8, 8, 8, 8, 8]\n",
      "MAP - Target Score: 0.75, Percentile: 0.01\n",
      "MAP - Accuracy: 0.7000, Average Token Count: 121972.17\n",
      "MAP Min N Required [3, 8, 8, 8, 8, 3, 8, 3, 8, 8, 8, 8, 8, 8, 8, 3, 8, 8, 8, 8, 8, 8, 8, 8, 8, 8, 8, 8, 8, 8]\n"
     ]
    },
    {
     "name": "stderr",
     "output_type": "stream",
     "text": []
    },
    {
     "name": "stdout",
     "output_type": "stream",
     "text": [
      "MAP - Target Score: 0.75, Percentile: 0.02\n",
      "MAP - Accuracy: 0.7000, Average Token Count: 121972.17\n",
      "MAP Min N Required [3, 8, 8, 8, 8, 3, 8, 3, 8, 8, 8, 8, 8, 8, 8, 3, 8, 8, 8, 8, 8, 8, 8, 8, 8, 8, 8, 8, 8, 8]\n"
     ]
    },
    {
     "name": "stderr",
     "output_type": "stream",
     "text": []
    },
    {
     "name": "stdout",
     "output_type": "stream",
     "text": [
      "MAP - Target Score: 0.75, Percentile: 0.035\n",
      "MAP - Accuracy: 0.7000, Average Token Count: 121972.17\n",
      "MAP Min N Required [3, 8, 8, 8, 8, 3, 8, 3, 8, 8, 8, 8, 8, 8, 8, 3, 8, 8, 8, 8, 8, 8, 8, 8, 8, 8, 8, 8, 8, 8]\n",
      "MAP - Target Score: 0.75, Percentile: 0.05\n",
      "MAP - Accuracy: 0.7000, Average Token Count: 121972.17\n",
      "MAP Min N Required [3, 8, 8, 8, 8, 3, 8, 3, 8, 8, 8, 8, 8, 8, 8, 3, 7, 8, 8, 8, 8, 8, 8, 8, 8, 8, 7, 8, 8, 8]\n",
      "MAP - Target Score: 0.75, Percentile: 0.075\n",
      "MAP - Accuracy: 0.7000, Average Token Count: 121456.43\n"
     ]
    },
    {
     "name": "stderr",
     "output_type": "stream",
     "text": [
      "Target Score (MAP):  25%|██▌       | 2/8 [00:01<00:03,  1.92it/s]"
     ]
    },
    {
     "name": "stdout",
     "output_type": "stream",
     "text": [
      "MAP Min N Required [3, 8, 8, 8, 8, 3, 8, 3, 8, 8, 8, 8, 8, 8, 8, 3, 6, 8, 8, 8, 8, 8, 8, 8, 8, 8, 6, 8, 8, 8]\n",
      "MAP - Target Score: 0.75, Percentile: 0.1\n",
      "MAP - Accuracy: 0.7000, Average Token Count: 120957.00\n"
     ]
    },
    {
     "name": "stderr",
     "output_type": "stream",
     "text": []
    },
    {
     "name": "stdout",
     "output_type": "stream",
     "text": [
      "MAP Min N Required [3, 8, 8, 8, 8, 3, 8, 3, 8, 8, 8, 8, 8, 8, 8, 3, 8, 8, 8, 8, 8, 8, 8, 8, 8, 8, 8, 8, 8, 8]\n",
      "MAP - Target Score: 0.8, Percentile: 0.01\n",
      "MAP - Accuracy: 0.7000, Average Token Count: 121972.17\n",
      "MAP Min N Required [3, 8, 8, 8, 8, 3, 8, 3, 8, 8, 8, 8, 8, 8, 8, 3, 8, 8, 8, 8, 8, 8, 8, 8, 8, 8, 8, 8, 8, 8]\n"
     ]
    },
    {
     "name": "stderr",
     "output_type": "stream",
     "text": []
    },
    {
     "name": "stdout",
     "output_type": "stream",
     "text": [
      "MAP - Target Score: 0.8, Percentile: 0.02\n",
      "MAP - Accuracy: 0.7000, Average Token Count: 121972.17\n",
      "MAP Min N Required [3, 8, 8, 8, 8, 3, 8, 3, 8, 8, 8, 8, 8, 8, 8, 3, 8, 8, 8, 8, 8, 8, 8, 8, 8, 8, 8, 8, 8, 8]\n",
      "MAP - Target Score: 0.8, Percentile: 0.035\n",
      "MAP - Accuracy: 0.7000, Average Token Count: 121972.17\n"
     ]
    },
    {
     "name": "stderr",
     "output_type": "stream",
     "text": []
    },
    {
     "name": "stdout",
     "output_type": "stream",
     "text": [
      "MAP Min N Required [3, 8, 8, 8, 8, 3, 8, 3, 8, 8, 8, 8, 8, 8, 8, 3, 8, 8, 8, 8, 8, 8, 8, 8, 8, 8, 8, 8, 8, 8]\n",
      "MAP - Target Score: 0.8, Percentile: 0.05\n",
      "MAP - Accuracy: 0.7000, Average Token Count: 121972.17\n",
      "MAP Min N Required [3, 8, 8, 8, 8, 3, 8, 3, 8, 8, 8, 8, 8, 8, 8, 3, 8, 8, 8, 8, 8, 8, 8, 8, 8, 8, 8, 8, 8, 8]\n",
      "MAP - Target Score: 0.8, Percentile: 0.075\n",
      "MAP - Accuracy: 0.7000, Average Token Count: 121972.17\n",
      "MAP Min N Required [3, 8, 8, 8, 8, 3, 8, 3, 8, 8, 8, 8, 8, 8, 8, 3, 8, 8, 8, 8, 8, 8, 8, 8, 8, 8, 8, 8, 8, 8]\n"
     ]
    },
    {
     "name": "stderr",
     "output_type": "stream",
     "text": [
      "Target Score (MAP):  38%|███▊      | 3/8 [00:01<00:02,  1.87it/s]"
     ]
    },
    {
     "name": "stdout",
     "output_type": "stream",
     "text": [
      "MAP - Target Score: 0.8, Percentile: 0.1\n",
      "MAP - Accuracy: 0.7000, Average Token Count: 121972.17\n"
     ]
    },
    {
     "name": "stderr",
     "output_type": "stream",
     "text": []
    },
    {
     "name": "stdout",
     "output_type": "stream",
     "text": [
      "MAP Min N Required [3, 8, 8, 8, 8, 3, 8, 3, 8, 8, 8, 8, 8, 8, 8, 5, 8, 8, 8, 8, 8, 8, 8, 8, 8, 8, 8, 8, 8, 8]\n"
     ]
    },
    {
     "name": "stderr",
     "output_type": "stream",
     "text": []
    },
    {
     "name": "stdout",
     "output_type": "stream",
     "text": [
      "MAP - Target Score: 0.85, Percentile: 0.01\n",
      "MAP - Accuracy: 0.7000, Average Token Count: 122278.10\n",
      "MAP Min N Required [3, 8, 8, 8, 8, 3, 8, 3, 8, 8, 8, 8, 8, 8, 8, 4, 8, 8, 8, 8, 8, 8, 8, 8, 8, 8, 8, 8, 8, 8]\n",
      "MAP - Target Score: 0.85, Percentile: 0.02\n",
      "MAP - Accuracy: 0.7000, Average Token Count: 122151.70\n",
      "MAP Min N Required [3, 8, 8, 8, 8, 3, 8, 3, 8, 8, 8, 8, 8, 8, 8, 4, 8, 8, 8, 8, 8, 8, 8, 8, 8, 8, 8, 8, 8, 8]\n",
      "MAP - Target Score: 0.85, Percentile: 0.035\n",
      "MAP - Accuracy: 0.7000, Average Token Count: 122151.70\n"
     ]
    },
    {
     "name": "stderr",
     "output_type": "stream",
     "text": []
    },
    {
     "name": "stdout",
     "output_type": "stream",
     "text": [
      "MAP Min N Required [3, 8, 8, 8, 8, 3, 8, 3, 8, 8, 8, 8, 8, 8, 8, 3, 8, 8, 8, 8, 8, 8, 8, 8, 8, 8, 8, 8, 8, 8]\n",
      "MAP - Target Score: 0.85, Percentile: 0.05\n",
      "MAP - Accuracy: 0.7000, Average Token Count: 121972.17\n",
      "MAP Min N Required [3, 8, 8, 8, 8, 3, 8, 3, 8, 8, 8, 8, 8, 8, 8, 3, 8, 8, 8, 8, 8, 8, 8, 8, 8, 8, 8, 8, 8, 8]\n",
      "MAP - Target Score: 0.85, Percentile: 0.075\n",
      "MAP - Accuracy: 0.7000, Average Token Count: 121972.17\n",
      "MAP Min N Required [3, 8, 8, 8, 8, 3, 8, 3, 8, 8, 8, 8, 8, 8, 8, 3, 8, 8, 8, 8, 8, 8, 8, 8, 8, 8, 8, 8, 8, 8]\n"
     ]
    },
    {
     "name": "stderr",
     "output_type": "stream",
     "text": [
      "Target Score (MAP):  50%|█████     | 4/8 [00:02<00:02,  1.85it/s]"
     ]
    },
    {
     "name": "stdout",
     "output_type": "stream",
     "text": [
      "MAP - Target Score: 0.85, Percentile: 0.1\n",
      "MAP - Accuracy: 0.7000, Average Token Count: 121972.17\n"
     ]
    },
    {
     "name": "stderr",
     "output_type": "stream",
     "text": []
    },
    {
     "name": "stdout",
     "output_type": "stream",
     "text": [
      "MAP Min N Required [3, 8, 8, 8, 8, 3, 8, 3, 8, 8, 8, 8, 8, 8, 8, 8, 8, 8, 8, 8, 8, 8, 8, 8, 8, 8, 8, 8, 8, 8]\n",
      "MAP - Target Score: 0.9, Percentile: 0.01\n",
      "MAP - Accuracy: 0.7000, Average Token Count: 122843.63\n",
      "MAP Min N Required [3, 8, 8, 8, 8, 3, 8, 3, 8, 8, 8, 8, 8, 8, 8, 8, 8, 8, 8, 8, 8, 8, 8, 8, 8, 8, 8, 8, 8, 8]\n"
     ]
    },
    {
     "name": "stderr",
     "output_type": "stream",
     "text": []
    },
    {
     "name": "stdout",
     "output_type": "stream",
     "text": [
      "MAP - Target Score: 0.9, Percentile: 0.02\n",
      "MAP - Accuracy: 0.7000, Average Token Count: 122843.63\n",
      "MAP Min N Required [3, 8, 8, 8, 8, 3, 8, 3, 8, 8, 8, 8, 8, 8, 8, 7, 8, 8, 8, 8, 8, 8, 8, 8, 8, 8, 8, 8, 8, 8]\n"
     ]
    },
    {
     "name": "stderr",
     "output_type": "stream",
     "text": [
      "\n"
     ]
    },
    {
     "name": "stdout",
     "output_type": "stream",
     "text": [
      "MAP - Target Score: 0.9, Percentile: 0.035\n",
      "MAP - Accuracy: 0.7000, Average Token Count: 122649.83\n",
      "MAP Min N Required [3, 8, 8, 8, 8, 3, 8, 3, 8, 8, 8, 8, 8, 8, 8, 6, 8, 8, 8, 8, 8, 8, 8, 8, 8, 8, 8, 8, 8, 8]\n",
      "MAP - Target Score: 0.9, Percentile: 0.05\n",
      "MAP - Accuracy: 0.7000, Average Token Count: 122483.83\n"
     ]
    },
    {
     "name": "stderr",
     "output_type": "stream",
     "text": [
      "Percentile:  67%|██████▋   | 4/6 [00:00<00:00, 11.08it/s]\u001b[A"
     ]
    },
    {
     "name": "stdout",
     "output_type": "stream",
     "text": [
      "MAP Min N Required [3, 8, 8, 8, 8, 3, 8, 3, 8, 8, 8, 8, 8, 8, 8, 5, 8, 8, 8, 8, 8, 8, 8, 8, 8, 8, 8, 8, 8, 8]\n",
      "MAP - Target Score: 0.9, Percentile: 0.075\n",
      "MAP - Accuracy: 0.7000, Average Token Count: 122278.10\n"
     ]
    },
    {
     "name": "stderr",
     "output_type": "stream",
     "text": [
      "Target Score (MAP):  62%|██████▎   | 5/8 [00:02<00:01,  1.84it/s]"
     ]
    },
    {
     "name": "stdout",
     "output_type": "stream",
     "text": [
      "MAP Min N Required [3, 8, 8, 8, 8, 3, 8, 3, 8, 8, 8, 8, 8, 8, 8, 5, 8, 8, 8, 8, 8, 8, 8, 8, 8, 8, 8, 8, 8, 8]\n",
      "MAP - Target Score: 0.9, Percentile: 0.1\n",
      "MAP - Accuracy: 0.7000, Average Token Count: 122278.10\n"
     ]
    },
    {
     "name": "stderr",
     "output_type": "stream",
     "text": []
    },
    {
     "name": "stdout",
     "output_type": "stream",
     "text": [
      "MAP Min N Required [3, 8, 8, 8, 8, 3, 8, 7, 8, 8, 8, 8, 8, 8, 8, 8, 8, 8, 8, 8, 8, 8, 8, 8, 8, 8, 8, 8, 8, 8]\n",
      "MAP - Target Score: 0.925, Percentile: 0.01\n",
      "MAP - Accuracy: 0.7000, Average Token Count: 124161.27\n",
      "MAP Min N Required [3, 8, 8, 8, 8, 3, 8, 6, 8, 8, 8, 8, 8, 8, 8, 8, 8, 8, 8, 8, 8, 8, 8, 8, 8, 8, 8, 8, 8, 8]\n"
     ]
    },
    {
     "name": "stderr",
     "output_type": "stream",
     "text": []
    },
    {
     "name": "stdout",
     "output_type": "stream",
     "text": [
      "MAP - Target Score: 0.925, Percentile: 0.02\n",
      "MAP - Accuracy: 0.7000, Average Token Count: 123424.03\n",
      "MAP Min N Required [3, 8, 8, 8, 8, 3, 8, 5, 8, 8, 8, 8, 8, 8, 8, 8, 8, 8, 8, 8, 8, 8, 8, 8, 8, 8, 8, 8, 8, 8]\n",
      "MAP - Target Score: 0.925, Percentile: 0.035\n",
      "MAP - Accuracy: 0.7000, Average Token Count: 123209.03\n"
     ]
    },
    {
     "name": "stderr",
     "output_type": "stream",
     "text": []
    },
    {
     "name": "stdout",
     "output_type": "stream",
     "text": [
      "MAP Min N Required [3, 8, 8, 8, 8, 3, 8, 5, 8, 8, 8, 8, 8, 8, 8, 8, 8, 8, 8, 8, 8, 8, 8, 8, 8, 8, 8, 8, 8, 8]\n",
      "MAP - Target Score: 0.925, Percentile: 0.05\n",
      "MAP - Accuracy: 0.7000, Average Token Count: 123209.03\n",
      "MAP Min N Required [3, 8, 8, 8, 8, 3, 8, 4, 8, 8, 8, 8, 8, 8, 8, 8, 8, 8, 8, 8, 8, 8, 8, 8, 8, 8, 8, 8, 8, 8]\n",
      "MAP - Target Score: 0.925, Percentile: 0.075\n",
      "MAP - Accuracy: 0.7000, Average Token Count: 123033.33\n",
      "MAP Min N Required [3, 8, 8, 8, 8, 3, 8, 4, 8, 8, 8, 8, 8, 8, 8, 7, 8, 8, 8, 8, 8, 8, 8, 8, 8, 8, 8, 8, 8, 8]\n"
     ]
    },
    {
     "name": "stderr",
     "output_type": "stream",
     "text": [
      "Target Score (MAP):  75%|███████▌  | 6/8 [00:03<00:01,  1.82it/s]"
     ]
    },
    {
     "name": "stdout",
     "output_type": "stream",
     "text": [
      "MAP - Target Score: 0.925, Percentile: 0.1\n",
      "MAP - Accuracy: 0.7000, Average Token Count: 122839.53\n"
     ]
    },
    {
     "name": "stderr",
     "output_type": "stream",
     "text": []
    },
    {
     "name": "stdout",
     "output_type": "stream",
     "text": [
      "MAP Min N Required [3, 8, 8, 8, 8, 5, 8, 8, 8, 8, 8, 8, 8, 8, 8, 8, 8, 8, 8, 8, 8, 8, 8, 8, 8, 8, 8, 8, 8, 8]\n",
      "MAP - Target Score: 0.95, Percentile: 0.01\n",
      "MAP - Accuracy: 0.7000, Average Token Count: 124594.47\n",
      "MAP Min N Required [3, 8, 8, 8, 8, 5, 8, 8, 8, 8, 8, 8, 8, 8, 8, 8, 8, 8, 8, 8, 8, 8, 8, 8, 8, 8, 8, 8, 8, 8]\n"
     ]
    },
    {
     "name": "stderr",
     "output_type": "stream",
     "text": []
    },
    {
     "name": "stdout",
     "output_type": "stream",
     "text": [
      "MAP - Target Score: 0.95, Percentile: 0.02\n",
      "MAP - Accuracy: 0.7000, Average Token Count: 124594.47\n",
      "MAP Min N Required [3, 8, 8, 8, 8, 4, 8, 8, 8, 8, 8, 8, 8, 8, 8, 8, 8, 8, 8, 8, 8, 8, 8, 8, 8, 8, 8, 8, 8, 8]\n",
      "MAP - Target Score: 0.95, Percentile: 0.035\n",
      "MAP - Accuracy: 0.7000, Average Token Count: 124448.90\n"
     ]
    },
    {
     "name": "stderr",
     "output_type": "stream",
     "text": []
    },
    {
     "name": "stdout",
     "output_type": "stream",
     "text": [
      "MAP Min N Required [3, 8, 8, 8, 8, 4, 8, 8, 8, 8, 8, 8, 8, 8, 8, 8, 8, 8, 8, 8, 8, 8, 8, 8, 8, 8, 8, 8, 8, 8]\n",
      "MAP - Target Score: 0.95, Percentile: 0.05\n",
      "MAP - Accuracy: 0.7000, Average Token Count: 124448.90\n",
      "MAP Min N Required [3, 8, 8, 8, 8, 3, 8, 8, 8, 8, 8, 8, 8, 8, 8, 8, 8, 8, 8, 8, 8, 8, 8, 8, 8, 8, 8, 8, 8, 8]\n",
      "MAP - Target Score: 0.95, Percentile: 0.075\n",
      "MAP - Accuracy: 0.7000, Average Token Count: 124303.63\n"
     ]
    },
    {
     "name": "stderr",
     "output_type": "stream",
     "text": [
      "\n"
     ]
    },
    {
     "name": "stdout",
     "output_type": "stream",
     "text": [
      "MAP Min N Required [3, 8, 8, 8, 8, 3, 8, 8, 8, 8, 8, 8, 8, 8, 8, 8, 8, 8, 8, 8, 8, 8, 8, 8, 8, 8, 8, 8, 8, 8]\n",
      "MAP - Target Score: 0.95, Percentile: 0.1\n",
      "MAP - Accuracy: 0.7000, Average Token Count: 124303.63\n"
     ]
    },
    {
     "name": "stderr",
     "output_type": "stream",
     "text": [
      "Target Score (MAP):  88%|████████▊ | 7/8 [00:03<00:00,  1.80it/s]"
     ]
    },
    {
     "name": "stdout",
     "output_type": "stream",
     "text": [
      "MAP Min N Required [5, 8, 8, 8, 8, 8, 8, 8, 8, 8, 8, 8, 8, 8, 8, 8, 8, 8, 8, 8, 8, 8, 8, 8, 8, 8, 8, 8, 8, 8]\n",
      "MAP - Target Score: 0.975, Percentile: 0.01\n",
      "MAP - Accuracy: 0.7000, Average Token Count: 125354.63\n",
      "MAP Min N Required [4, 8, 8, 8, 8, 8, 8, 8, 8, 8, 8, 8, 8, 8, 8, 8, 8, 8, 8, 8, 8, 8, 8, 8, 8, 8, 8, 8, 8, 8]\n"
     ]
    },
    {
     "name": "stderr",
     "output_type": "stream",
     "text": []
    },
    {
     "name": "stdout",
     "output_type": "stream",
     "text": [
      "MAP - Target Score: 0.975, Percentile: 0.02\n",
      "MAP - Accuracy: 0.7000, Average Token Count: 125181.23\n",
      "MAP Min N Required [4, 8, 8, 8, 8, 8, 8, 8, 8, 8, 8, 8, 8, 8, 8, 8, 8, 8, 8, 8, 8, 8, 8, 8, 8, 8, 8, 8, 8, 8]\n",
      "MAP - Target Score: 0.975, Percentile: 0.035\n",
      "MAP - Accuracy: 0.7000, Average Token Count: 125181.23\n",
      "MAP Min N Required [3, 8, 8, 8, 8, 8, 8, 8, 8, 8, 8, 8, 8, 8, 8, 8, 8, 8, 8, 8, 8, 8, 8, 8, 8, 8, 8, 8, 8, 8]\n"
     ]
    },
    {
     "name": "stderr",
     "output_type": "stream",
     "text": []
    },
    {
     "name": "stdout",
     "output_type": "stream",
     "text": [
      "MAP - Target Score: 0.975, Percentile: 0.05\n",
      "MAP - Accuracy: 0.7000, Average Token Count: 125029.37\n",
      "MAP Min N Required [3, 8, 8, 8, 8, 7, 8, 8, 8, 8, 8, 8, 8, 8, 8, 8, 8, 8, 8, 8, 8, 8, 8, 8, 8, 8, 8, 8, 8, 8]\n",
      "MAP - Target Score: 0.975, Percentile: 0.075\n",
      "MAP - Accuracy: 0.7000, Average Token Count: 124883.83\n",
      "MAP Min N Required [3, 8, 8, 8, 8, 6, 8, 8, 8, 8, 8, 8, 8, 8, 8, 8, 8, 8, 8, 8, 8, 8, 8, 8, 8, 8, 8, 8, 8, 8]\n"
     ]
    },
    {
     "name": "stderr",
     "output_type": "stream",
     "text": [
      "Target Score (MAP): 100%|██████████| 8/8 [00:04<00:00,  1.83it/s]"
     ]
    },
    {
     "name": "stdout",
     "output_type": "stream",
     "text": [
      "MAP - Target Score: 0.975, Percentile: 0.1\n",
      "MAP - Accuracy: 0.7000, Average Token Count: 124741.43\n"
     ]
    },
    {
     "name": "stderr",
     "output_type": "stream",
     "text": [
      "\n"
     ]
    },
    {
     "data": {
      "image/png": "[encoded data removed]",
      "text/plain": [
       "<Figure size 1200x800 with 1 Axes>"
      ]
     },
     "metadata": {},
     "output_type": "display_data"
    },
    {
     "name": "stdout",
     "output_type": "stream",
     "text": [
      "\n",
      "MLE Pareto-optimal configurations:\n",
      "Target Score: 0.7, Percentile: 0.1, Accuracy: 0.7000, Avg Token Count: 116109.47\n",
      "\n",
      "MAP Pareto-optimal configurations:\n",
      "Target Score: 0.7, Percentile: 0.1, Accuracy: 0.7000, Avg Token Count: 116412.90\n"
     ]
    }
   ],
   "source": [
    "# Setting Panels\n",
    "target_score_panel_values = [0.7, 0.75, 0.8, 0.85, 0.9, 0.925, 0.95, 0.975]\n",
    "percentile_panel_values = [0.01, 0.02, 0.035, 0.05, 0.075, 0.1]\n",
    "max_N_panel = 8\n",
    "print(\"Target Score Panel:\", target_score_panel_values)\n",
    "print(\"Percentile Panel:\", percentile_panel_values)\n",
    "print(\"Max N:\", max_N_panel)\n",
    "\n",
    "# Evaluate MLE results\n",
    "print(\"\\nEvaluating MLE Results...\")\n",
    "truncated_normal_params_all = mle_estimated_params\n",
    "mle_grid_search_results = []\n",
    "\n",
    "for target_score in tqdm(target_score_panel_values, desc=\"Target Score (MLE)\"):\n",
    "    for percentile in tqdm(percentile_panel_values, desc=\"Percentile\", leave=False):\n",
    "        min_N_required = []\n",
    "        for i, (mu, sigma) in enumerate(truncated_normal_params_all):\n",
    "            min_N = find_min_N_for_threshold(mu, sigma, target_score=target_score, \n",
    "                                        percentile=percentile, max_N=max_N_panel)\n",
    "            if min_N < peek_number:\n",
    "                min_N = peek_number\n",
    "            min_N_required.append(min_N)\n",
    "        print(\"MLE Min N Required\", min_N_required)\n",
    "        \n",
    "        # Evaluate model performance with these parameters\n",
    "        correct = 0\n",
    "        entire_token_count = 0\n",
    "\n",
    "        for idx, item in enumerate(val_texts):\n",
    "            N = min_N_required[idx]\n",
    "            completions = val_completions[idx][0][:N]\n",
    "            scores = val_scores[idx][0][:N]\n",
    "            completion_tokens = val_completion_tokens[idx][0][:N]\n",
    "            total_tokens = sum(completion_tokens)\n",
    "\n",
    "            highest_scores_idx = scores.index(max(scores))\n",
    "\n",
    "            while completions[highest_scores_idx] == \"\":\n",
    "                scores[highest_scores_idx] = 0 \n",
    "                if max(scores) == 0: \n",
    "                    break\n",
    "                highest_scores_idx = scores.index(max(scores))\n",
    "\n",
    "            output = completions[highest_scores_idx]\n",
    "            answer = get_answer(output)\n",
    "\n",
    "            if verify_extracted_answer(val_gt_answers[idx], answer):\n",
    "                correct += 1\n",
    "            entire_token_count += total_tokens\n",
    "\n",
    "        accuracy = correct / len(val_texts)\n",
    "        average_token_count = entire_token_count / len(val_texts)\n",
    "        \n",
    "        print(f\"MLE - Target Score: {target_score}, Percentile: {percentile}\")\n",
    "        print(f\"MLE - Accuracy: {accuracy:.4f}, Average Token Count: {average_token_count:.2f}\")\n",
    "        \n",
    "        mle_grid_search_results.append({\n",
    "            'target_score': target_score,\n",
    "            'percentile': percentile,\n",
    "            'accuracy': accuracy,\n",
    "            'average_token_count': average_token_count\n",
    "        })\n",
    "        \n",
    "with open(f'{DATASET}_OptScale_MLE_results_{max_N_panel}.json', 'w') as f:\n",
    "    json.dump(mle_grid_search_results, f)\n",
    "\n",
    "\n",
    "# Evaluate MAP results\n",
    "print(\"\\nEvaluating MAP Results...\")\n",
    "truncated_normal_params_all = map_estimated_params\n",
    "map_grid_search_results = []\n",
    "\n",
    "for target_score in tqdm(target_score_panel_values, desc=\"Target Score (MAP)\"):\n",
    "    for percentile in tqdm(percentile_panel_values, desc=\"Percentile\", leave=False):\n",
    "        min_N_required = []\n",
    "        for i, (mu, sigma) in enumerate(truncated_normal_params_all):\n",
    "            min_N = find_min_N_for_threshold(mu, sigma, target_score=target_score, \n",
    "                                        percentile=percentile, max_N=max_N_panel)\n",
    "            if min_N < peek_number:\n",
    "                min_N = peek_number\n",
    "            min_N_required.append(min_N)\n",
    "        print(\"MAP Min N Required\", min_N_required)\n",
    "        \n",
    "        # Evaluate model performance with these parameters\n",
    "        correct = 0\n",
    "        entire_token_count = 0\n",
    "\n",
    "        for idx, item in enumerate(val_texts):\n",
    "            N = min_N_required[idx]\n",
    "            completions = val_completions[idx][0][:N]\n",
    "            scores = val_scores[idx][0][:N]\n",
    "            completion_tokens = val_completion_tokens[idx][0][:N]\n",
    "            total_tokens = sum(completion_tokens)\n",
    "\n",
    "            highest_scores_idx = scores.index(max(scores))\n",
    "\n",
    "            while completions[highest_scores_idx] == \"\":\n",
    "                scores[highest_scores_idx] = 0 \n",
    "                if max(scores) == 0: \n",
    "                    break\n",
    "                highest_scores_idx = scores.index(max(scores))\n",
    "\n",
    "            output = completions[highest_scores_idx]\n",
    "            answer = get_answer(output)\n",
    "\n",
    "            if verify_extracted_answer(val_gt_answers[idx], answer):\n",
    "                correct += 1\n",
    "            entire_token_count += total_tokens\n",
    "\n",
    "        accuracy = correct / len(val_texts)\n",
    "        average_token_count = entire_token_count / len(val_texts)\n",
    "        \n",
    "        print(f\"MAP - Target Score: {target_score}, Percentile: {percentile}\")\n",
    "        print(f\"MAP - Accuracy: {accuracy:.4f}, Average Token Count: {average_token_count:.2f}\")\n",
    "        \n",
    "        map_grid_search_results.append({\n",
    "            'target_score': target_score,\n",
    "            'percentile': percentile,\n",
    "            'accuracy': accuracy,\n",
    "            'average_token_count': average_token_count\n",
    "        })\n",
    "        \n",
    "with open(f'{DATASET}_OptScale_MAP_results_{max_N_panel}.json', 'w') as f:\n",
    "    json.dump(map_grid_search_results, f)\n",
    "\n",
    "plot_mle_map_optscale(mle_grid_search_results, map_grid_search_results, baseline_average_token_counts, baseline_accuracy_values, max_N_panel)"
   ]
  },
  {
   "cell_type": "code",
   "execution_count": 6,
   "metadata": {},
   "outputs": [
    {
     "name": "stdout",
     "output_type": "stream",
     "text": [
      "0         0.5997      0.1059    0.9756    0.0140    0.9991    0.0416    0.9801    0.0211\n",
      "1         0.7376      0.1213    0.6227    0.0589    0.6309    0.0617    0.6037    0.0535\n",
      "2         0.5715      0.1018    0.7070    0.0359    0.7034    0.0369    0.7135    0.0874\n",
      "3         0.5357      0.0756    0.7193    0.0387    0.6610    0.0750    0.6907    0.0764\n",
      "4         0.5198      0.1314    0.5836    0.0628    0.5785    0.0659    0.6291    0.0796\n",
      "5         0.6532      0.0969    0.9769    0.0105    0.9721    0.0235    0.9797    0.0094\n",
      "6         0.6889      0.1328    0.4319    0.0520    0.4475    0.0568    0.4544    0.0792\n",
      "7         0.6979      0.1068    0.9305    0.0149    0.8847    0.0409    3.8541    0.5998\n",
      "8         0.5785      0.0865    0.4870    0.0408    0.4901    0.0417    0.5131    0.0671\n",
      "9         0.6922      0.1633    0.3418    0.0462    0.3605    0.0531    0.3717    0.0420\n",
      "10        0.6509      0.1193    0.3113    0.0381    0.3223    0.0410    0.3286    0.0399\n",
      "11        0.6163      0.1217    0.5422    0.0591    0.5474    0.0617    0.5291    0.0580\n",
      "12        0.7201      0.0871    0.4426    0.0259    0.5772    0.1348    0.4272    0.0375\n",
      "13        0.7495      0.1252    0.4465    0.0245    0.4976    0.0434    0.4439    0.0249\n",
      "14        0.4176      0.0512    0.3825    0.0111    0.4176    0.0512    0.3955    0.0332\n",
      "15        0.6432      0.1218    0.9653    0.0140    0.8450    0.1028    0.9685    0.0287\n",
      "16        0.4786      0.0956    0.9003    0.0430    0.8820    0.0471    0.8774    0.0926\n",
      "17        0.6420      0.1010    0.4171    0.0419    0.4254    0.0438    0.4327    0.0470\n",
      "18        0.6636      0.1143    0.6966    0.0407    0.6955    0.0420    0.7182    0.0956\n",
      "19        0.7491      0.1112    0.4680    0.0650    0.5331    0.0976    0.4856    0.0441\n",
      "20        0.7925      0.0884    0.4834    0.0747    0.5219    0.0843    0.4269    0.0646\n",
      "21        0.6538      0.0702    0.5798    0.1085    0.5932    0.1055    0.5953    0.0794\n",
      "22        0.7403      0.1377    0.4571    0.0851    0.5058    0.1018    0.4415    0.0669\n",
      "23        0.7223      0.0959    0.4621    0.1055    0.5177    0.1165    0.4913    0.1059\n",
      "24        0.6375      0.0628    0.5156    0.0296    0.5211    0.0416    0.5135    0.0686\n",
      "25        0.6262      0.1118    0.3891    0.0477    0.4007    0.0507    0.3794    0.0528\n",
      "26        0.7778      0.1061    0.7319    0.1141    0.7420    0.1144    0.6600    0.1398\n",
      "27        0.6402      0.1144    0.3773    0.0565    0.4241    0.0886    0.3922    0.0440\n",
      "28        0.6544      0.1343    0.4566    0.0635    0.4738    0.0690    0.4997    0.0838\n",
      "29        0.5893      0.1102    0.3564    0.0305    0.3609    0.0316    0.3918    0.0376\n",
      "\n",
      "Performance Comparison (MSE against ground truth):\n",
      "Predictor MSE - μ: 0.387183, σ: 0.011539\n",
      "MLE MSE      - μ: 0.285627, σ: 0.011963\n",
      "MAP MSE      - μ: 0.296377, σ: 0.011550\n",
      "\n",
      "Statistics of Different Estimation Methods:\n",
      "Predictor Estimates:\n",
      "Mean μ: 0.6480 ± 0.0858\n",
      "Mean σ: 0.1068 ± 0.0234\n",
      "\n",
      "MLE Estimates (10 samples):\n",
      "Mean μ: 0.5719 ± 0.2017\n",
      "Mean σ: 0.0485 ± 0.0276\n",
      "\n",
      "MAP Estimates (10 samples):\n",
      "Mean μ: 0.5844 ± 0.1807\n",
      "Mean σ: 0.0655 ± 0.0290\n",
      "\n",
      "Ground Truth (100 samples):\n",
      "Mean μ: 0.6729 ± 0.6188\n",
      "Mean σ: 0.0787 ± 0.1007\n"
     ]
    }
   ],
   "source": [
    "peek_number = 5\n",
    "\n",
    "mle_estimated_params = []  # Store MLE estimates\n",
    "map_estimated_params = []  # Store MAP estimates\n",
    "predictor_params = []      # Store predictor's estimates\n",
    "\n",
    "for i, (score, prediction) in enumerate(zip(val_scores, val_labels)):\n",
    "    peek_data = np.array(score[0][:peek_number])\n",
    "    \n",
    "    # Store predictor's parameters\n",
    "    prior_mu, prior_sigma = prediction\n",
    "    predictor_params.append((prior_mu, prior_sigma))\n",
    "    \n",
    "    # MLE estimation with limited data\n",
    "    initial_mu = np.mean(peek_data)\n",
    "    initial_sigma = np.std(peek_data)\n",
    "    mle_result = minimize(\n",
    "        lambda params: neg_log_likelihood(params, peek_data),\n",
    "        [initial_mu, initial_sigma],\n",
    "        bounds=[(None, None), (1e-6, None)],\n",
    "        method='L-BFGS-B'\n",
    "    )\n",
    "    mle_mu, mle_sigma = mle_result.x\n",
    "    mle_estimated_params.append((mle_mu, mle_sigma))\n",
    "    \n",
    "    # MAP estimation with limited data\n",
    "    map_result = minimize(\n",
    "        lambda params: neg_log_posterior(\n",
    "            params, \n",
    "            peek_data, \n",
    "            prior_mu=prior_mu, \n",
    "            prior_sigma=prior_sigma\n",
    "        ),\n",
    "        [prior_mu, prior_sigma],\n",
    "        bounds=[(None, None), (1e-6, None)],\n",
    "        method='L-BFGS-B'\n",
    "    )\n",
    "    map_mu, map_sigma = map_result.x\n",
    "    map_estimated_params.append((map_mu, map_sigma))\n",
    "    \n",
    "    # Print comparison for first 50 examples\n",
    "    if i < 50:\n",
    "        gt_mu, gt_sigma = original_params_compare[i]\n",
    "        print(f\"{i:<4} {prior_mu:11.4f} {prior_sigma:11.4f} {mle_mu:9.4f} {mle_sigma:9.4f} \"\n",
    "              f\"{map_mu:9.4f} {map_sigma:9.4f} {gt_mu:9.4f} {gt_sigma:9.4f}\")\n",
    "\n",
    "# Call the function to perform the analysis\n",
    "analyze_estimation_performance(predictor_params, mle_estimated_params, map_estimated_params, original_params_compare)\n"
   ]
  },
  {
   "cell_type": "code",
   "execution_count": 7,
   "metadata": {},
   "outputs": [
    {
     "name": "stdout",
     "output_type": "stream",
     "text": [
      "Target Score Panel: [0.7, 0.75, 0.8, 0.85, 0.9, 0.925, 0.95, 0.975]\n",
      "Percentile Panel: [0.01, 0.02, 0.035, 0.05, 0.075, 0.1]\n",
      "Max N: 16\n",
      "\n",
      "Evaluating MLE Results...\n"
     ]
    },
    {
     "name": "stderr",
     "output_type": "stream",
     "text": [
      "Target Score (MLE):   0%|          | 0/8 [00:00<?, ?it/s]"
     ]
    },
    {
     "name": "stdout",
     "output_type": "stream",
     "text": [
      "MLE Min N Required [5, 16, 6, 5, 16, 5, 16, 5, 16, 16, 16, 16, 16, 16, 16, 5, 5, 16, 8, 16, 16, 16, 16, 16, 16, 16, 5, 16, 16, 16]\n",
      "MLE - Target Score: 0.7, Percentile: 0.01\n",
      "MLE - Accuracy: 0.7000, Average Token Count: 227200.93\n"
     ]
    },
    {
     "name": "stderr",
     "output_type": "stream",
     "text": []
    },
    {
     "name": "stdout",
     "output_type": "stream",
     "text": [
      "MLE Min N Required [5, 16, 5, 5, 16, 5, 16, 5, 16, 16, 16, 16, 16, 16, 16, 5, 5, 16, 7, 16, 16, 16, 16, 16, 16, 16, 5, 16, 16, 16]\n",
      "MLE - Target Score: 0.7, Percentile: 0.02\n",
      "MLE - Accuracy: 0.7000, Average Token Count: 226530.20\n"
     ]
    },
    {
     "name": "stderr",
     "output_type": "stream",
     "text": []
    },
    {
     "name": "stdout",
     "output_type": "stream",
     "text": [
      "MLE Min N Required [5, 16, 5, 5, 16, 5, 16, 5, 16, 16, 16, 16, 16, 16, 16, 5, 5, 16, 6, 16, 16, 16, 16, 16, 16, 16, 5, 16, 16, 16]\n",
      "MLE - Target Score: 0.7, Percentile: 0.035\n",
      "MLE - Accuracy: 0.7000, Average Token Count: 226351.13\n"
     ]
    },
    {
     "name": "stderr",
     "output_type": "stream",
     "text": []
    },
    {
     "name": "stdout",
     "output_type": "stream",
     "text": [
      "MLE Min N Required [5, 16, 5, 5, 16, 5, 16, 5, 16, 16, 16, 16, 16, 16, 16, 5, 5, 16, 5, 16, 16, 16, 16, 16, 16, 16, 5, 16, 16, 16]\n",
      "MLE - Target Score: 0.7, Percentile: 0.05\n",
      "MLE - Accuracy: 0.7000, Average Token Count: 226057.53\n"
     ]
    },
    {
     "name": "stderr",
     "output_type": "stream",
     "text": []
    },
    {
     "name": "stdout",
     "output_type": "stream",
     "text": [
      "MLE Min N Required [5, 16, 5, 5, 16, 5, 16, 5, 16, 16, 16, 16, 16, 16, 16, 5, 5, 16, 5, 16, 16, 16, 16, 16, 16, 16, 5, 16, 16, 16]\n",
      "MLE - Target Score: 0.7, Percentile: 0.075\n",
      "MLE - Accuracy: 0.7000, Average Token Count: 226057.53\n"
     ]
    },
    {
     "name": "stderr",
     "output_type": "stream",
     "text": [
      "Target Score (MLE):  12%|█▎        | 1/8 [00:00<00:06,  1.16it/s]"
     ]
    },
    {
     "name": "stdout",
     "output_type": "stream",
     "text": [
      "MLE Min N Required [5, 16, 5, 5, 16, 5, 16, 5, 16, 16, 16, 16, 16, 16, 16, 5, 5, 16, 5, 16, 16, 16, 16, 16, 16, 16, 5, 16, 16, 16]\n",
      "MLE - Target Score: 0.7, Percentile: 0.1\n",
      "MLE - Accuracy: 0.7000, Average Token Count: 226057.53\n"
     ]
    },
    {
     "name": "stderr",
     "output_type": "stream",
     "text": []
    },
    {
     "name": "stdout",
     "output_type": "stream",
     "text": [
      "MLE Min N Required [5, 16, 16, 16, 16, 5, 16, 5, 16, 16, 16, 16, 16, 16, 16, 5, 5, 16, 16, 16, 16, 16, 16, 16, 16, 16, 9, 16, 16, 16]\n",
      "MLE - Target Score: 0.75, Percentile: 0.01\n",
      "MLE - Accuracy: 0.7000, Average Token Count: 237699.90\n"
     ]
    },
    {
     "name": "stderr",
     "output_type": "stream",
     "text": []
    },
    {
     "name": "stdout",
     "output_type": "stream",
     "text": [
      "MLE Min N Required [5, 16, 16, 16, 16, 5, 16, 5, 16, 16, 16, 16, 16, 16, 16, 5, 5, 16, 16, 16, 16, 16, 16, 16, 16, 16, 7, 16, 16, 16]\n",
      "MLE - Target Score: 0.75, Percentile: 0.02\n",
      "MLE - Accuracy: 0.7000, Average Token Count: 237061.10\n"
     ]
    },
    {
     "name": "stderr",
     "output_type": "stream",
     "text": []
    },
    {
     "name": "stdout",
     "output_type": "stream",
     "text": [
      "MLE Min N Required [5, 16, 16, 15, 16, 5, 16, 5, 16, 16, 16, 16, 16, 16, 16, 5, 5, 16, 16, 16, 16, 16, 16, 16, 16, 16, 6, 16, 16, 16]\n",
      "MLE - Target Score: 0.75, Percentile: 0.035\n",
      "MLE - Accuracy: 0.7000, Average Token Count: 236430.43\n"
     ]
    },
    {
     "name": "stderr",
     "output_type": "stream",
     "text": []
    },
    {
     "name": "stdout",
     "output_type": "stream",
     "text": [
      "MLE Min N Required [5, 16, 16, 13, 16, 5, 16, 5, 16, 16, 16, 16, 16, 16, 16, 5, 5, 16, 16, 16, 16, 16, 16, 16, 16, 16, 6, 16, 16, 16]\n",
      "MLE - Target Score: 0.75, Percentile: 0.05\n",
      "MLE - Accuracy: 0.7000, Average Token Count: 235843.77\n"
     ]
    },
    {
     "name": "stderr",
     "output_type": "stream",
     "text": []
    },
    {
     "name": "stdout",
     "output_type": "stream",
     "text": [
      "MLE Min N Required [5, 16, 16, 11, 16, 5, 16, 5, 16, 16, 16, 16, 16, 16, 16, 5, 5, 16, 16, 16, 16, 16, 16, 16, 16, 16, 5, 16, 16, 16]\n",
      "MLE - Target Score: 0.75, Percentile: 0.075\n",
      "MLE - Accuracy: 0.7000, Average Token Count: 234854.97\n"
     ]
    },
    {
     "name": "stderr",
     "output_type": "stream",
     "text": [
      "Target Score (MLE):  25%|██▌       | 2/8 [00:01<00:05,  1.12it/s]"
     ]
    },
    {
     "name": "stdout",
     "output_type": "stream",
     "text": [
      "MLE Min N Required [5, 16, 16, 10, 16, 5, 16, 5, 16, 16, 16, 16, 16, 16, 16, 5, 5, 16, 16, 16, 16, 16, 16, 16, 16, 16, 5, 16, 16, 16]\n",
      "MLE - Target Score: 0.75, Percentile: 0.1\n",
      "MLE - Accuracy: 0.7000, Average Token Count: 234530.63\n"
     ]
    },
    {
     "name": "stderr",
     "output_type": "stream",
     "text": []
    },
    {
     "name": "stdout",
     "output_type": "stream",
     "text": [
      "MLE Min N Required [5, 16, 16, 16, 16, 5, 16, 5, 16, 16, 16, 16, 16, 16, 16, 5, 5, 16, 16, 16, 16, 16, 16, 16, 16, 16, 15, 16, 16, 16]\n",
      "MLE - Target Score: 0.8, Percentile: 0.01\n",
      "MLE - Accuracy: 0.7000, Average Token Count: 240633.60\n"
     ]
    },
    {
     "name": "stderr",
     "output_type": "stream",
     "text": []
    },
    {
     "name": "stdout",
     "output_type": "stream",
     "text": [
      "MLE Min N Required [5, 16, 16, 16, 16, 5, 16, 5, 16, 16, 16, 16, 16, 16, 16, 5, 5, 16, 16, 16, 16, 16, 16, 16, 16, 16, 13, 16, 16, 16]\n",
      "MLE - Target Score: 0.8, Percentile: 0.02\n",
      "MLE - Accuracy: 0.7000, Average Token Count: 239423.13\n"
     ]
    },
    {
     "name": "stderr",
     "output_type": "stream",
     "text": []
    },
    {
     "name": "stdout",
     "output_type": "stream",
     "text": [
      "MLE Min N Required [5, 16, 16, 16, 16, 5, 16, 5, 16, 16, 16, 16, 16, 16, 16, 5, 5, 16, 16, 16, 16, 16, 16, 16, 16, 16, 11, 16, 16, 16]\n",
      "MLE - Target Score: 0.8, Percentile: 0.035\n",
      "MLE - Accuracy: 0.7000, Average Token Count: 238350.07\n"
     ]
    },
    {
     "name": "stderr",
     "output_type": "stream",
     "text": []
    },
    {
     "name": "stdout",
     "output_type": "stream",
     "text": [
      "MLE Min N Required [5, 16, 16, 16, 16, 5, 16, 5, 16, 16, 16, 16, 16, 16, 16, 5, 5, 16, 16, 16, 16, 16, 16, 16, 16, 16, 10, 16, 16, 16]\n",
      "MLE - Target Score: 0.8, Percentile: 0.05\n",
      "MLE - Accuracy: 0.7000, Average Token Count: 237994.50\n"
     ]
    },
    {
     "name": "stderr",
     "output_type": "stream",
     "text": []
    },
    {
     "name": "stdout",
     "output_type": "stream",
     "text": [
      "MLE Min N Required [5, 16, 16, 16, 16, 5, 16, 5, 16, 16, 16, 16, 16, 16, 16, 5, 5, 16, 16, 16, 16, 16, 16, 16, 16, 16, 9, 16, 16, 16]\n",
      "MLE - Target Score: 0.8, Percentile: 0.075\n",
      "MLE - Accuracy: 0.7000, Average Token Count: 237699.90\n"
     ]
    },
    {
     "name": "stderr",
     "output_type": "stream",
     "text": [
      "Target Score (MLE):  38%|███▊      | 3/8 [00:02<00:04,  1.09it/s]"
     ]
    },
    {
     "name": "stdout",
     "output_type": "stream",
     "text": [
      "MLE Min N Required [5, 16, 16, 16, 16, 5, 16, 5, 16, 16, 16, 16, 16, 16, 16, 5, 5, 16, 16, 16, 16, 16, 16, 16, 16, 16, 8, 16, 16, 16]\n",
      "MLE - Target Score: 0.8, Percentile: 0.1\n",
      "MLE - Accuracy: 0.7000, Average Token Count: 237375.13\n"
     ]
    },
    {
     "name": "stderr",
     "output_type": "stream",
     "text": []
    },
    {
     "name": "stdout",
     "output_type": "stream",
     "text": [
      "MLE Min N Required [5, 16, 16, 16, 16, 5, 16, 5, 16, 16, 16, 16, 16, 16, 16, 5, 5, 16, 16, 16, 16, 16, 16, 16, 16, 16, 16, 16, 16, 16]\n",
      "MLE - Target Score: 0.85, Percentile: 0.01\n",
      "MLE - Accuracy: 0.7000, Average Token Count: 240890.87\n"
     ]
    },
    {
     "name": "stderr",
     "output_type": "stream",
     "text": []
    },
    {
     "name": "stdout",
     "output_type": "stream",
     "text": [
      "MLE Min N Required [5, 16, 16, 16, 16, 5, 16, 5, 16, 16, 16, 16, 16, 16, 16, 5, 5, 16, 16, 16, 16, 16, 16, 16, 16, 16, 16, 16, 16, 16]\n",
      "MLE - Target Score: 0.85, Percentile: 0.02\n",
      "MLE - Accuracy: 0.7000, Average Token Count: 240890.87\n"
     ]
    },
    {
     "name": "stderr",
     "output_type": "stream",
     "text": []
    },
    {
     "name": "stdout",
     "output_type": "stream",
     "text": [
      "MLE Min N Required [5, 16, 16, 16, 16, 5, 16, 5, 16, 16, 16, 16, 16, 16, 16, 5, 5, 16, 16, 16, 16, 16, 16, 16, 16, 16, 16, 16, 16, 16]\n",
      "MLE - Target Score: 0.85, Percentile: 0.035\n",
      "MLE - Accuracy: 0.7000, Average Token Count: 240890.87\n"
     ]
    },
    {
     "name": "stderr",
     "output_type": "stream",
     "text": []
    },
    {
     "name": "stdout",
     "output_type": "stream",
     "text": [
      "MLE Min N Required [5, 16, 16, 16, 16, 5, 16, 5, 16, 16, 16, 16, 16, 16, 16, 5, 5, 16, 16, 16, 16, 16, 16, 16, 16, 16, 16, 16, 16, 16]\n",
      "MLE - Target Score: 0.85, Percentile: 0.05\n",
      "MLE - Accuracy: 0.7000, Average Token Count: 240890.87\n"
     ]
    },
    {
     "name": "stderr",
     "output_type": "stream",
     "text": []
    },
    {
     "name": "stdout",
     "output_type": "stream",
     "text": [
      "MLE Min N Required [5, 16, 16, 16, 16, 5, 16, 5, 16, 16, 16, 16, 16, 16, 16, 5, 5, 16, 16, 16, 16, 16, 16, 16, 16, 16, 16, 16, 16, 16]\n",
      "MLE - Target Score: 0.85, Percentile: 0.075\n",
      "MLE - Accuracy: 0.7000, Average Token Count: 240890.87\n"
     ]
    },
    {
     "name": "stderr",
     "output_type": "stream",
     "text": [
      "Target Score (MLE):  50%|█████     | 4/8 [00:03<00:03,  1.08it/s]"
     ]
    },
    {
     "name": "stdout",
     "output_type": "stream",
     "text": [
      "MLE Min N Required [5, 16, 16, 16, 16, 5, 16, 5, 16, 16, 16, 16, 16, 16, 16, 5, 5, 16, 16, 16, 16, 16, 16, 16, 16, 16, 16, 16, 16, 16]\n",
      "MLE - Target Score: 0.85, Percentile: 0.1\n",
      "MLE - Accuracy: 0.7000, Average Token Count: 240890.87\n"
     ]
    },
    {
     "name": "stderr",
     "output_type": "stream",
     "text": []
    },
    {
     "name": "stdout",
     "output_type": "stream",
     "text": [
      "MLE Min N Required [5, 16, 16, 16, 16, 5, 16, 5, 16, 16, 16, 16, 16, 16, 16, 5, 7, 16, 16, 16, 16, 16, 16, 16, 16, 16, 16, 16, 16, 16]\n",
      "MLE - Target Score: 0.9, Percentile: 0.01\n",
      "MLE - Accuracy: 0.7000, Average Token Count: 241328.57\n"
     ]
    },
    {
     "name": "stderr",
     "output_type": "stream",
     "text": []
    },
    {
     "name": "stdout",
     "output_type": "stream",
     "text": [
      "MLE Min N Required [5, 16, 16, 16, 16, 5, 16, 5, 16, 16, 16, 16, 16, 16, 16, 5, 6, 16, 16, 16, 16, 16, 16, 16, 16, 16, 16, 16, 16, 16]\n",
      "MLE - Target Score: 0.9, Percentile: 0.02\n",
      "MLE - Accuracy: 0.7000, Average Token Count: 241124.23\n"
     ]
    },
    {
     "name": "stderr",
     "output_type": "stream",
     "text": []
    },
    {
     "name": "stdout",
     "output_type": "stream",
     "text": [
      "MLE Min N Required [5, 16, 16, 16, 16, 5, 16, 5, 16, 16, 16, 16, 16, 16, 16, 5, 5, 16, 16, 16, 16, 16, 16, 16, 16, 16, 16, 16, 16, 16]\n",
      "MLE - Target Score: 0.9, Percentile: 0.035\n",
      "MLE - Accuracy: 0.7000, Average Token Count: 240890.87\n"
     ]
    },
    {
     "name": "stderr",
     "output_type": "stream",
     "text": []
    },
    {
     "name": "stdout",
     "output_type": "stream",
     "text": [
      "MLE Min N Required [5, 16, 16, 16, 16, 5, 16, 5, 16, 16, 16, 16, 16, 16, 16, 5, 5, 16, 16, 16, 16, 16, 16, 16, 16, 16, 16, 16, 16, 16]\n",
      "MLE - Target Score: 0.9, Percentile: 0.05\n",
      "MLE - Accuracy: 0.7000, Average Token Count: 240890.87\n"
     ]
    },
    {
     "name": "stderr",
     "output_type": "stream",
     "text": []
    },
    {
     "name": "stdout",
     "output_type": "stream",
     "text": [
      "MLE Min N Required [5, 16, 16, 16, 16, 5, 16, 5, 16, 16, 16, 16, 16, 16, 16, 5, 5, 16, 16, 16, 16, 16, 16, 16, 16, 16, 16, 16, 16, 16]\n",
      "MLE - Target Score: 0.9, Percentile: 0.075\n",
      "MLE - Accuracy: 0.7000, Average Token Count: 240890.87\n"
     ]
    },
    {
     "name": "stderr",
     "output_type": "stream",
     "text": [
      "Target Score (MLE):  62%|██████▎   | 5/8 [00:04<00:02,  1.05it/s]"
     ]
    },
    {
     "name": "stdout",
     "output_type": "stream",
     "text": [
      "MLE Min N Required [5, 16, 16, 16, 16, 5, 16, 5, 16, 16, 16, 16, 16, 16, 16, 5, 5, 16, 16, 16, 16, 16, 16, 16, 16, 16, 16, 16, 16, 16]\n",
      "MLE - Target Score: 0.9, Percentile: 0.1\n",
      "MLE - Accuracy: 0.7000, Average Token Count: 240890.87\n"
     ]
    },
    {
     "name": "stderr",
     "output_type": "stream",
     "text": []
    },
    {
     "name": "stdout",
     "output_type": "stream",
     "text": [
      "MLE Min N Required [5, 16, 16, 16, 16, 5, 16, 5, 16, 16, 16, 16, 16, 16, 16, 5, 15, 16, 16, 16, 16, 16, 16, 16, 16, 16, 16, 16, 16, 16]\n",
      "MLE - Target Score: 0.925, Percentile: 0.01\n",
      "MLE - Accuracy: 0.7000, Average Token Count: 242918.07\n"
     ]
    },
    {
     "name": "stderr",
     "output_type": "stream",
     "text": []
    },
    {
     "name": "stdout",
     "output_type": "stream",
     "text": [
      "MLE Min N Required [5, 16, 16, 16, 16, 5, 16, 5, 16, 16, 16, 16, 16, 16, 16, 5, 13, 16, 16, 16, 16, 16, 16, 16, 16, 16, 16, 16, 16, 16]\n",
      "MLE - Target Score: 0.925, Percentile: 0.02\n",
      "MLE - Accuracy: 0.7000, Average Token Count: 242551.90\n"
     ]
    },
    {
     "name": "stderr",
     "output_type": "stream",
     "text": []
    },
    {
     "name": "stdout",
     "output_type": "stream",
     "text": [
      "MLE Min N Required [5, 16, 16, 16, 16, 5, 16, 5, 16, 16, 16, 16, 16, 16, 16, 5, 11, 16, 16, 16, 16, 16, 16, 16, 16, 16, 16, 16, 16, 16]\n",
      "MLE - Target Score: 0.925, Percentile: 0.035\n",
      "MLE - Accuracy: 0.7000, Average Token Count: 242157.93\n"
     ]
    },
    {
     "name": "stderr",
     "output_type": "stream",
     "text": []
    },
    {
     "name": "stdout",
     "output_type": "stream",
     "text": [
      "MLE Min N Required [5, 16, 16, 16, 16, 5, 16, 5, 16, 16, 16, 16, 16, 16, 16, 5, 10, 16, 16, 16, 16, 16, 16, 16, 16, 16, 16, 16, 16, 16]\n",
      "MLE - Target Score: 0.925, Percentile: 0.05\n",
      "MLE - Accuracy: 0.7000, Average Token Count: 241967.23\n"
     ]
    },
    {
     "name": "stderr",
     "output_type": "stream",
     "text": []
    },
    {
     "name": "stdout",
     "output_type": "stream",
     "text": [
      "MLE Min N Required [5, 16, 16, 16, 16, 5, 16, 5, 16, 16, 16, 16, 16, 16, 16, 5, 9, 16, 16, 16, 16, 16, 16, 16, 16, 16, 16, 16, 16, 16]\n",
      "MLE - Target Score: 0.925, Percentile: 0.075\n",
      "MLE - Accuracy: 0.7000, Average Token Count: 241750.37\n"
     ]
    },
    {
     "name": "stderr",
     "output_type": "stream",
     "text": [
      "Target Score (MLE):  75%|███████▌  | 6/8 [00:05<00:01,  1.04it/s]"
     ]
    },
    {
     "name": "stdout",
     "output_type": "stream",
     "text": [
      "MLE Min N Required [5, 16, 16, 16, 16, 5, 16, 5, 16, 16, 16, 16, 16, 16, 16, 5, 8, 16, 16, 16, 16, 16, 16, 16, 16, 16, 16, 16, 16, 16]\n",
      "MLE - Target Score: 0.925, Percentile: 0.1\n",
      "MLE - Accuracy: 0.7000, Average Token Count: 241530.27\n"
     ]
    },
    {
     "name": "stderr",
     "output_type": "stream",
     "text": []
    },
    {
     "name": "stdout",
     "output_type": "stream",
     "text": [
      "MLE Min N Required [5, 16, 16, 16, 16, 5, 16, 16, 16, 16, 16, 16, 16, 16, 16, 5, 16, 16, 16, 16, 16, 16, 16, 16, 16, 16, 16, 16, 16, 16]\n",
      "MLE - Target Score: 0.95, Percentile: 0.01\n",
      "MLE - Accuracy: 0.7000, Average Token Count: 246096.43\n"
     ]
    },
    {
     "name": "stderr",
     "output_type": "stream",
     "text": []
    },
    {
     "name": "stdout",
     "output_type": "stream",
     "text": [
      "MLE Min N Required [5, 16, 16, 16, 16, 5, 16, 16, 16, 16, 16, 16, 16, 16, 16, 5, 16, 16, 16, 16, 16, 16, 16, 16, 16, 16, 16, 16, 16, 16]\n",
      "MLE - Target Score: 0.95, Percentile: 0.02\n",
      "MLE - Accuracy: 0.7000, Average Token Count: 246096.43\n"
     ]
    },
    {
     "name": "stderr",
     "output_type": "stream",
     "text": []
    },
    {
     "name": "stdout",
     "output_type": "stream",
     "text": [
      "MLE Min N Required [5, 16, 16, 16, 16, 5, 16, 16, 16, 16, 16, 16, 16, 16, 16, 5, 16, 16, 16, 16, 16, 16, 16, 16, 16, 16, 16, 16, 16, 16]\n",
      "MLE - Target Score: 0.95, Percentile: 0.035\n",
      "MLE - Accuracy: 0.7000, Average Token Count: 246096.43\n"
     ]
    },
    {
     "name": "stderr",
     "output_type": "stream",
     "text": []
    },
    {
     "name": "stdout",
     "output_type": "stream",
     "text": [
      "MLE Min N Required [5, 16, 16, 16, 16, 5, 16, 16, 16, 16, 16, 16, 16, 16, 16, 5, 16, 16, 16, 16, 16, 16, 16, 16, 16, 16, 16, 16, 16, 16]\n",
      "MLE - Target Score: 0.95, Percentile: 0.05\n",
      "MLE - Accuracy: 0.7000, Average Token Count: 246096.43\n"
     ]
    },
    {
     "name": "stderr",
     "output_type": "stream",
     "text": []
    },
    {
     "name": "stdout",
     "output_type": "stream",
     "text": [
      "MLE Min N Required [5, 16, 16, 16, 16, 5, 16, 16, 16, 16, 16, 16, 16, 16, 16, 5, 16, 16, 16, 16, 16, 16, 16, 16, 16, 16, 16, 16, 16, 16]\n",
      "MLE - Target Score: 0.95, Percentile: 0.075\n",
      "MLE - Accuracy: 0.7000, Average Token Count: 246096.43\n",
      "MLE Min N Required [5, 16, 16, 16, 16, 5, 16, 16, 16, 16, 16, 16, 16, 16, 16, 5, 16, 16, 16, 16, 16, 16, 16, 16, 16, 16, 16, 16, 16, 16]\n"
     ]
    },
    {
     "name": "stderr",
     "output_type": "stream",
     "text": [
      "Target Score (MLE):  88%|████████▊ | 7/8 [00:06<00:00,  1.02it/s]"
     ]
    },
    {
     "name": "stdout",
     "output_type": "stream",
     "text": [
      "MLE - Target Score: 0.95, Percentile: 0.1\n",
      "MLE - Accuracy: 0.7000, Average Token Count: 246096.43\n"
     ]
    },
    {
     "name": "stderr",
     "output_type": "stream",
     "text": []
    },
    {
     "name": "stdout",
     "output_type": "stream",
     "text": [
      "MLE Min N Required [7, 16, 16, 16, 16, 6, 16, 16, 16, 16, 16, 16, 16, 16, 16, 16, 16, 16, 16, 16, 16, 16, 16, 16, 16, 16, 16, 16, 16, 16]\n"
     ]
    },
    {
     "name": "stderr",
     "output_type": "stream",
     "text": []
    },
    {
     "name": "stdout",
     "output_type": "stream",
     "text": [
      "MLE - Target Score: 0.975, Percentile: 0.01\n",
      "MLE - Accuracy: 0.7000, Average Token Count: 248591.67\n",
      "MLE Min N Required [6, 16, 16, 16, 16, 5, 16, 16, 16, 16, 16, 16, 16, 16, 16, 15, 16, 16, 16, 16, 16, 16, 16, 16, 16, 16, 16, 16, 16, 16]\n"
     ]
    },
    {
     "name": "stderr",
     "output_type": "stream",
     "text": []
    },
    {
     "name": "stdout",
     "output_type": "stream",
     "text": [
      "MLE - Target Score: 0.975, Percentile: 0.02\n",
      "MLE - Accuracy: 0.7000, Average Token Count: 248097.13\n"
     ]
    },
    {
     "name": "stderr",
     "output_type": "stream",
     "text": []
    },
    {
     "name": "stdout",
     "output_type": "stream",
     "text": [
      "MLE Min N Required [6, 16, 16, 16, 16, 5, 16, 16, 16, 16, 16, 16, 16, 16, 16, 13, 16, 16, 16, 16, 16, 16, 16, 16, 16, 16, 16, 16, 16, 16]\n",
      "MLE - Target Score: 0.975, Percentile: 0.035\n",
      "MLE - Accuracy: 0.7000, Average Token Count: 247685.13\n"
     ]
    },
    {
     "name": "stderr",
     "output_type": "stream",
     "text": []
    },
    {
     "name": "stdout",
     "output_type": "stream",
     "text": [
      "MLE Min N Required [5, 16, 16, 16, 16, 5, 16, 16, 16, 16, 16, 16, 16, 16, 16, 12, 16, 16, 16, 16, 16, 16, 16, 16, 16, 16, 16, 16, 16, 16]\n",
      "MLE - Target Score: 0.975, Percentile: 0.05\n",
      "MLE - Accuracy: 0.7000, Average Token Count: 247381.40\n"
     ]
    },
    {
     "name": "stderr",
     "output_type": "stream",
     "text": []
    },
    {
     "name": "stdout",
     "output_type": "stream",
     "text": [
      "MLE Min N Required [5, 16, 16, 16, 16, 5, 16, 16, 16, 16, 16, 16, 16, 16, 16, 10, 16, 16, 16, 16, 16, 16, 16, 16, 16, 16, 16, 16, 16, 16]\n",
      "MLE - Target Score: 0.975, Percentile: 0.075\n",
      "MLE - Accuracy: 0.7000, Average Token Count: 247027.23\n"
     ]
    },
    {
     "name": "stderr",
     "output_type": "stream",
     "text": [
      "Target Score (MLE): 100%|██████████| 8/8 [00:07<00:00,  1.04it/s]\n"
     ]
    },
    {
     "name": "stdout",
     "output_type": "stream",
     "text": [
      "MLE Min N Required [5, 16, 16, 16, 16, 5, 16, 16, 16, 16, 16, 16, 16, 16, 16, 9, 16, 16, 16, 16, 16, 16, 16, 16, 16, 16, 16, 16, 16, 16]\n",
      "MLE - Target Score: 0.975, Percentile: 0.1\n",
      "MLE - Accuracy: 0.7000, Average Token Count: 246851.93\n",
      "\n",
      "Evaluating MAP Results...\n"
     ]
    },
    {
     "name": "stderr",
     "output_type": "stream",
     "text": [
      "Target Score (MAP):   0%|          | 0/8 [00:00<?, ?it/s]"
     ]
    },
    {
     "name": "stdout",
     "output_type": "stream",
     "text": [
      "MAP Min N Required [5, 16, 7, 13, 16, 5, 16, 5, 16, 16, 16, 16, 16, 16, 16, 5, 5, 16, 8, 16, 16, 16, 16, 16, 16, 16, 5, 16, 16, 16]\n",
      "MAP - Target Score: 0.7, Percentile: 0.01\n",
      "MAP - Accuracy: 0.7000, Average Token Count: 230267.90\n"
     ]
    },
    {
     "name": "stderr",
     "output_type": "stream",
     "text": []
    },
    {
     "name": "stdout",
     "output_type": "stream",
     "text": [
      "MAP Min N Required [5, 16, 6, 11, 16, 5, 16, 5, 16, 16, 16, 16, 16, 16, 16, 5, 5, 16, 7, 16, 16, 16, 16, 16, 16, 16, 5, 16, 16, 16]\n",
      "MAP - Target Score: 0.7, Percentile: 0.02\n",
      "MAP - Accuracy: 0.7000, Average Token Count: 229094.80\n"
     ]
    },
    {
     "name": "stderr",
     "output_type": "stream",
     "text": []
    },
    {
     "name": "stdout",
     "output_type": "stream",
     "text": [
      "MAP Min N Required [5, 16, 5, 10, 16, 5, 16, 5, 16, 16, 16, 16, 16, 16, 16, 5, 5, 16, 6, 16, 16, 16, 16, 16, 16, 16, 5, 16, 16, 16]\n",
      "MAP - Target Score: 0.7, Percentile: 0.035\n",
      "MAP - Accuracy: 0.7000, Average Token Count: 228162.37\n"
     ]
    },
    {
     "name": "stderr",
     "output_type": "stream",
     "text": []
    },
    {
     "name": "stdout",
     "output_type": "stream",
     "text": [
      "MAP Min N Required [5, 16, 5, 9, 16, 5, 16, 5, 16, 16, 16, 16, 16, 16, 16, 5, 5, 16, 5, 16, 16, 16, 16, 16, 16, 16, 5, 16, 16, 16]\n",
      "MAP - Target Score: 0.7, Percentile: 0.05\n",
      "MAP - Accuracy: 0.7000, Average Token Count: 227465.57\n"
     ]
    },
    {
     "name": "stderr",
     "output_type": "stream",
     "text": []
    },
    {
     "name": "stdout",
     "output_type": "stream",
     "text": [
      "MAP Min N Required [5, 16, 5, 8, 16, 5, 16, 5, 16, 16, 16, 16, 14, 16, 16, 5, 5, 16, 5, 16, 16, 16, 16, 16, 16, 16, 5, 16, 16, 16]\n",
      "MAP - Target Score: 0.7, Percentile: 0.075\n",
      "MAP - Accuracy: 0.7000, Average Token Count: 225416.23\n"
     ]
    },
    {
     "name": "stderr",
     "output_type": "stream",
     "text": [
      "Target Score (MAP):  12%|█▎        | 1/8 [00:00<00:05,  1.18it/s]"
     ]
    },
    {
     "name": "stdout",
     "output_type": "stream",
     "text": [
      "MAP Min N Required [5, 16, 5, 7, 16, 5, 16, 5, 16, 16, 16, 16, 12, 16, 16, 5, 5, 16, 5, 16, 16, 14, 16, 16, 16, 16, 5, 16, 16, 16]\n",
      "MAP - Target Score: 0.7, Percentile: 0.1\n",
      "MAP - Accuracy: 0.7000, Average Token Count: 222996.67\n"
     ]
    },
    {
     "name": "stderr",
     "output_type": "stream",
     "text": []
    },
    {
     "name": "stdout",
     "output_type": "stream",
     "text": [
      "MAP Min N Required [5, 16, 16, 16, 16, 5, 16, 5, 16, 16, 16, 16, 16, 16, 16, 5, 5, 16, 16, 16, 16, 16, 16, 16, 16, 16, 8, 16, 16, 16]\n",
      "MAP - Target Score: 0.75, Percentile: 0.01\n",
      "MAP - Accuracy: 0.7000, Average Token Count: 237375.13\n"
     ]
    },
    {
     "name": "stderr",
     "output_type": "stream",
     "text": []
    },
    {
     "name": "stdout",
     "output_type": "stream",
     "text": [
      "MAP Min N Required [5, 16, 16, 16, 16, 5, 16, 5, 16, 16, 16, 16, 16, 16, 16, 5, 5, 16, 16, 16, 16, 16, 16, 16, 16, 16, 7, 16, 16, 16]\n",
      "MAP - Target Score: 0.75, Percentile: 0.02\n",
      "MAP - Accuracy: 0.7000, Average Token Count: 237061.10\n"
     ]
    },
    {
     "name": "stderr",
     "output_type": "stream",
     "text": []
    },
    {
     "name": "stdout",
     "output_type": "stream",
     "text": [
      "MAP Min N Required [5, 16, 16, 16, 16, 5, 16, 5, 16, 16, 16, 16, 16, 16, 16, 5, 5, 16, 16, 16, 16, 16, 16, 16, 16, 16, 6, 16, 16, 16]\n",
      "MAP - Target Score: 0.75, Percentile: 0.035\n",
      "MAP - Accuracy: 0.7000, Average Token Count: 236766.00\n"
     ]
    },
    {
     "name": "stderr",
     "output_type": "stream",
     "text": []
    },
    {
     "name": "stdout",
     "output_type": "stream",
     "text": [
      "MAP Min N Required [5, 16, 16, 16, 16, 5, 16, 5, 16, 16, 16, 16, 16, 16, 16, 5, 5, 16, 16, 16, 16, 16, 16, 16, 16, 16, 5, 16, 16, 16]\n",
      "MAP - Target Score: 0.75, Percentile: 0.05\n",
      "MAP - Accuracy: 0.7000, Average Token Count: 236468.00\n"
     ]
    },
    {
     "name": "stderr",
     "output_type": "stream",
     "text": []
    },
    {
     "name": "stdout",
     "output_type": "stream",
     "text": [
      "MAP Min N Required [5, 16, 16, 16, 16, 5, 16, 5, 16, 16, 16, 16, 16, 16, 16, 5, 5, 16, 16, 16, 16, 16, 16, 16, 16, 16, 5, 16, 16, 16]\n",
      "MAP - Target Score: 0.75, Percentile: 0.075\n",
      "MAP - Accuracy: 0.7000, Average Token Count: 236468.00\n"
     ]
    },
    {
     "name": "stderr",
     "output_type": "stream",
     "text": [
      "Target Score (MAP):  25%|██▌       | 2/8 [00:01<00:05,  1.13it/s]"
     ]
    },
    {
     "name": "stdout",
     "output_type": "stream",
     "text": [
      "MAP Min N Required [5, 16, 16, 16, 16, 5, 16, 5, 16, 16, 16, 16, 16, 16, 16, 5, 5, 16, 16, 16, 16, 16, 16, 16, 16, 16, 5, 16, 16, 16]\n",
      "MAP - Target Score: 0.75, Percentile: 0.1\n",
      "MAP - Accuracy: 0.7000, Average Token Count: 236468.00\n"
     ]
    },
    {
     "name": "stderr",
     "output_type": "stream",
     "text": []
    },
    {
     "name": "stdout",
     "output_type": "stream",
     "text": [
      "MAP Min N Required [5, 16, 16, 16, 16, 5, 16, 5, 16, 16, 16, 16, 16, 16, 16, 5, 5, 16, 16, 16, 16, 16, 16, 16, 16, 16, 14, 16, 16, 16]\n",
      "MAP - Target Score: 0.8, Percentile: 0.01\n",
      "MAP - Accuracy: 0.7000, Average Token Count: 239833.60\n"
     ]
    },
    {
     "name": "stderr",
     "output_type": "stream",
     "text": []
    },
    {
     "name": "stdout",
     "output_type": "stream",
     "text": [
      "MAP Min N Required [5, 16, 16, 16, 16, 5, 16, 5, 16, 16, 16, 16, 16, 16, 16, 5, 5, 16, 16, 16, 16, 16, 16, 16, 16, 16, 12, 16, 16, 16]\n",
      "MAP - Target Score: 0.8, Percentile: 0.02\n",
      "MAP - Accuracy: 0.7000, Average Token Count: 238623.13\n"
     ]
    },
    {
     "name": "stderr",
     "output_type": "stream",
     "text": []
    },
    {
     "name": "stdout",
     "output_type": "stream",
     "text": [
      "MAP Min N Required [5, 16, 16, 16, 16, 5, 16, 5, 16, 16, 16, 16, 16, 16, 16, 5, 5, 16, 16, 16, 16, 16, 16, 16, 16, 16, 10, 16, 16, 16]\n",
      "MAP - Target Score: 0.8, Percentile: 0.035\n",
      "MAP - Accuracy: 0.7000, Average Token Count: 237994.50\n"
     ]
    },
    {
     "name": "stderr",
     "output_type": "stream",
     "text": []
    },
    {
     "name": "stdout",
     "output_type": "stream",
     "text": [
      "MAP Min N Required [5, 16, 16, 16, 16, 5, 16, 5, 16, 16, 16, 16, 16, 16, 16, 5, 5, 16, 16, 16, 16, 16, 16, 16, 16, 16, 9, 16, 16, 16]\n",
      "MAP - Target Score: 0.8, Percentile: 0.05\n",
      "MAP - Accuracy: 0.7000, Average Token Count: 237699.90\n"
     ]
    },
    {
     "name": "stderr",
     "output_type": "stream",
     "text": []
    },
    {
     "name": "stdout",
     "output_type": "stream",
     "text": [
      "MAP Min N Required [5, 16, 16, 16, 16, 5, 16, 5, 16, 16, 16, 16, 16, 16, 16, 5, 5, 16, 16, 16, 16, 16, 16, 16, 16, 16, 8, 16, 16, 16]\n",
      "MAP - Target Score: 0.8, Percentile: 0.075\n",
      "MAP - Accuracy: 0.7000, Average Token Count: 237375.13\n"
     ]
    },
    {
     "name": "stderr",
     "output_type": "stream",
     "text": [
      "Target Score (MAP):  38%|███▊      | 3/8 [00:02<00:04,  1.09it/s]"
     ]
    },
    {
     "name": "stdout",
     "output_type": "stream",
     "text": [
      "MAP Min N Required [5, 16, 16, 16, 16, 5, 16, 5, 16, 16, 16, 16, 16, 16, 16, 5, 5, 16, 16, 16, 16, 16, 16, 16, 16, 16, 7, 16, 16, 16]\n",
      "MAP - Target Score: 0.8, Percentile: 0.1\n",
      "MAP - Accuracy: 0.7000, Average Token Count: 237061.10\n"
     ]
    },
    {
     "name": "stderr",
     "output_type": "stream",
     "text": []
    },
    {
     "name": "stdout",
     "output_type": "stream",
     "text": [
      "MAP Min N Required [5, 16, 16, 16, 16, 5, 16, 5, 16, 16, 16, 16, 16, 16, 16, 8, 5, 16, 16, 16, 16, 16, 16, 16, 16, 16, 16, 16, 16, 16]\n",
      "MAP - Target Score: 0.85, Percentile: 0.01\n",
      "MAP - Accuracy: 0.7000, Average Token Count: 241456.40\n"
     ]
    },
    {
     "name": "stderr",
     "output_type": "stream",
     "text": []
    },
    {
     "name": "stdout",
     "output_type": "stream",
     "text": [
      "MAP Min N Required [5, 16, 16, 16, 16, 5, 16, 5, 16, 16, 16, 16, 16, 16, 16, 7, 5, 16, 16, 16, 16, 16, 16, 16, 16, 16, 16, 16, 16, 16]\n",
      "MAP - Target Score: 0.85, Percentile: 0.02\n",
      "MAP - Accuracy: 0.7000, Average Token Count: 241262.60\n"
     ]
    },
    {
     "name": "stderr",
     "output_type": "stream",
     "text": []
    },
    {
     "name": "stdout",
     "output_type": "stream",
     "text": [
      "MAP Min N Required [5, 16, 16, 16, 16, 5, 16, 5, 16, 16, 16, 16, 16, 16, 16, 6, 5, 16, 16, 16, 16, 16, 16, 16, 16, 16, 16, 16, 16, 16]\n",
      "MAP - Target Score: 0.85, Percentile: 0.035\n",
      "MAP - Accuracy: 0.7000, Average Token Count: 241096.60\n"
     ]
    },
    {
     "name": "stderr",
     "output_type": "stream",
     "text": []
    },
    {
     "name": "stdout",
     "output_type": "stream",
     "text": [
      "MAP Min N Required [5, 16, 16, 16, 16, 5, 16, 5, 16, 16, 16, 16, 16, 16, 16, 6, 5, 16, 16, 16, 16, 16, 16, 16, 16, 16, 16, 16, 16, 16]\n",
      "MAP - Target Score: 0.85, Percentile: 0.05\n",
      "MAP - Accuracy: 0.7000, Average Token Count: 241096.60\n"
     ]
    },
    {
     "name": "stderr",
     "output_type": "stream",
     "text": []
    },
    {
     "name": "stdout",
     "output_type": "stream",
     "text": [
      "MAP Min N Required [5, 16, 16, 16, 16, 5, 16, 5, 16, 16, 16, 16, 16, 16, 16, 5, 5, 16, 16, 16, 16, 16, 16, 16, 16, 16, 15, 16, 16, 16]\n",
      "MAP - Target Score: 0.85, Percentile: 0.075\n",
      "MAP - Accuracy: 0.7000, Average Token Count: 240633.60\n"
     ]
    },
    {
     "name": "stderr",
     "output_type": "stream",
     "text": [
      "Target Score (MAP):  50%|█████     | 4/8 [00:03<00:03,  1.06it/s]"
     ]
    },
    {
     "name": "stdout",
     "output_type": "stream",
     "text": [
      "MAP Min N Required [5, 16, 16, 16, 16, 5, 16, 5, 16, 16, 16, 16, 16, 16, 16, 5, 5, 16, 16, 16, 16, 16, 16, 16, 16, 16, 14, 16, 16, 16]\n",
      "MAP - Target Score: 0.85, Percentile: 0.1\n",
      "MAP - Accuracy: 0.7000, Average Token Count: 239833.60\n"
     ]
    },
    {
     "name": "stderr",
     "output_type": "stream",
     "text": []
    },
    {
     "name": "stdout",
     "output_type": "stream",
     "text": [
      "MAP Min N Required [5, 16, 16, 16, 16, 5, 16, 11, 16, 16, 16, 16, 16, 16, 16, 16, 11, 16, 16, 16, 16, 16, 16, 16, 16, 16, 16, 16, 16, 16]\n"
     ]
    },
    {
     "name": "stderr",
     "output_type": "stream",
     "text": []
    },
    {
     "name": "stdout",
     "output_type": "stream",
     "text": [
      "MAP - Target Score: 0.9, Percentile: 0.01\n",
      "MAP - Accuracy: 0.7000, Average Token Count: 246248.37\n",
      "MAP Min N Required [5, 16, 16, 16, 16, 5, 16, 10, 16, 16, 16, 16, 16, 16, 16, 14, 10, 16, 16, 16, 16, 16, 16, 16, 16, 16, 16, 16, 16, 16]\n",
      "MAP - Target Score: 0.9, Percentile: 0.02\n",
      "MAP - Accuracy: 0.7000, Average Token Count: 245509.13\n"
     ]
    },
    {
     "name": "stderr",
     "output_type": "stream",
     "text": []
    },
    {
     "name": "stdout",
     "output_type": "stream",
     "text": [
      "MAP Min N Required [5, 16, 16, 16, 16, 5, 16, 8, 16, 16, 16, 16, 16, 16, 16, 12, 8, 16, 16, 16, 16, 16, 16, 16, 16, 16, 16, 16, 16, 16]\n",
      "MAP - Target Score: 0.9, Percentile: 0.035\n",
      "MAP - Accuracy: 0.7000, Average Token Count: 243909.83\n",
      "MAP Min N Required [5, 16, 16, 16, 16, 5, 16, 7, 16, 16, 16, 16, 16, 16, 16, 11, 8, 16, 16, 16, 16, 16, 16, 16, 16, 16, 16, 16, 16, 16]\n",
      "MAP - Target Score: 0.9, Percentile: 0.05\n",
      "MAP - Accuracy: 0.7000, Average Token Count: 243590.90\n"
     ]
    },
    {
     "name": "stderr",
     "output_type": "stream",
     "text": [
      "Target Score (MAP):  62%|██████▎   | 5/8 [00:04<00:02,  1.03it/s]"
     ]
    },
    {
     "name": "stdout",
     "output_type": "stream",
     "text": [
      "MAP Min N Required [5, 16, 16, 16, 16, 5, 16, 7, 16, 16, 16, 16, 16, 16, 16, 10, 7, 16, 16, 16, 16, 16, 16, 16, 16, 16, 16, 16, 16, 16]\n",
      "MAP - Target Score: 0.9, Percentile: 0.075\n",
      "MAP - Accuracy: 0.7000, Average Token Count: 243211.60\n",
      "MAP Min N Required [5, 16, 16, 16, 16, 5, 16, 6, 16, 16, 16, 16, 16, 16, 16, 9, 6, 16, 16, 16, 16, 16, 16, 16, 16, 16, 16, 16, 16, 16]\n",
      "MAP - Target Score: 0.9, Percentile: 0.1\n",
      "MAP - Accuracy: 0.7000, Average Token Count: 242094.73\n"
     ]
    },
    {
     "name": "stderr",
     "output_type": "stream",
     "text": []
    },
    {
     "name": "stdout",
     "output_type": "stream",
     "text": [
      "MAP Min N Required [5, 16, 16, 16, 16, 5, 16, 16, 16, 16, 16, 16, 16, 16, 16, 16, 16, 16, 16, 16, 16, 16, 16, 16, 16, 16, 16, 16, 16, 16]\n",
      "MAP - Target Score: 0.925, Percentile: 0.01\n",
      "MAP - Accuracy: 0.7000, Average Token Count: 248145.17\n",
      "MAP Min N Required [5, 16, 16, 16, 16, 5, 16, 16, 16, 16, 16, 16, 16, 16, 16, 16, 16, 16, 16, 16, 16, 16, 16, 16, 16, 16, 16, 16, 16, 16]\n",
      "MAP - Target Score: 0.925, Percentile: 0.02\n",
      "MAP - Accuracy: 0.7000, Average Token Count: 248145.17\n"
     ]
    },
    {
     "name": "stderr",
     "output_type": "stream",
     "text": []
    },
    {
     "name": "stdout",
     "output_type": "stream",
     "text": [
      "MAP Min N Required [5, 16, 16, 16, 16, 5, 16, 16, 16, 16, 16, 16, 16, 16, 16, 16, 16, 16, 16, 16, 16, 16, 16, 16, 16, 16, 16, 16, 16, 16]\n",
      "MAP - Target Score: 0.925, Percentile: 0.035\n",
      "MAP - Accuracy: 0.7000, Average Token Count: 248145.17\n",
      "MAP Min N Required [5, 16, 16, 16, 16, 5, 16, 16, 16, 16, 16, 16, 16, 16, 16, 16, 16, 16, 16, 16, 16, 16, 16, 16, 16, 16, 16, 16, 16, 16]\n",
      "MAP - Target Score: 0.925, Percentile: 0.05\n",
      "MAP - Accuracy: 0.7000, Average Token Count: 248145.17\n"
     ]
    },
    {
     "name": "stderr",
     "output_type": "stream",
     "text": [
      "Target Score (MAP):  75%|███████▌  | 6/8 [00:05<00:01,  1.01it/s]"
     ]
    },
    {
     "name": "stdout",
     "output_type": "stream",
     "text": [
      "MAP Min N Required [5, 16, 16, 16, 16, 5, 16, 16, 16, 16, 16, 16, 16, 16, 16, 15, 14, 16, 16, 16, 16, 16, 16, 16, 16, 16, 16, 16, 16, 16]\n",
      "MAP - Target Score: 0.925, Percentile: 0.075\n",
      "MAP - Accuracy: 0.7000, Average Token Count: 247606.13\n",
      "MAP Min N Required [5, 16, 16, 16, 16, 5, 16, 14, 16, 16, 16, 16, 16, 16, 16, 13, 13, 16, 16, 16, 16, 16, 16, 16, 16, 16, 16, 16, 16, 16]\n",
      "MAP - Target Score: 0.925, Percentile: 0.1\n",
      "MAP - Accuracy: 0.7000, Average Token Count: 246621.33\n"
     ]
    },
    {
     "name": "stderr",
     "output_type": "stream",
     "text": []
    },
    {
     "name": "stdout",
     "output_type": "stream",
     "text": [
      "MAP Min N Required [5, 16, 16, 16, 16, 5, 16, 16, 16, 16, 16, 16, 16, 16, 16, 16, 16, 16, 16, 16, 16, 16, 16, 16, 16, 16, 16, 16, 16, 16]\n",
      "MAP - Target Score: 0.95, Percentile: 0.01\n",
      "MAP - Accuracy: 0.7000, Average Token Count: 248145.17\n",
      "MAP Min N Required [5, 16, 16, 16, 16, 5, 16, 16, 16, 16, 16, 16, 16, 16, 16, 16, 16, 16, 16, 16, 16, 16, 16, 16, 16, 16, 16, 16, 16, 16]\n",
      "MAP - Target Score: 0.95, Percentile: 0.02\n",
      "MAP - Accuracy: 0.7000, Average Token Count: 248145.17\n"
     ]
    },
    {
     "name": "stderr",
     "output_type": "stream",
     "text": []
    },
    {
     "name": "stdout",
     "output_type": "stream",
     "text": [
      "MAP Min N Required [5, 16, 16, 16, 16, 5, 16, 16, 16, 16, 16, 16, 16, 16, 16, 16, 16, 16, 16, 16, 16, 16, 16, 16, 16, 16, 16, 16, 16, 16]\n",
      "MAP - Target Score: 0.95, Percentile: 0.035\n",
      "MAP - Accuracy: 0.7000, Average Token Count: 248145.17\n",
      "MAP Min N Required [5, 16, 16, 16, 16, 5, 16, 16, 16, 16, 16, 16, 16, 16, 16, 16, 16, 16, 16, 16, 16, 16, 16, 16, 16, 16, 16, 16, 16, 16]\n",
      "MAP - Target Score: 0.95, Percentile: 0.05\n",
      "MAP - Accuracy: 0.7000, Average Token Count: 248145.17\n"
     ]
    },
    {
     "name": "stderr",
     "output_type": "stream",
     "text": [
      "Target Score (MAP):  88%|████████▊ | 7/8 [00:06<00:01,  1.00s/it]"
     ]
    },
    {
     "name": "stdout",
     "output_type": "stream",
     "text": [
      "MAP Min N Required [5, 16, 16, 16, 16, 5, 16, 16, 16, 16, 16, 16, 16, 16, 16, 16, 16, 16, 16, 16, 16, 16, 16, 16, 16, 16, 16, 16, 16, 16]\n",
      "MAP - Target Score: 0.95, Percentile: 0.075\n",
      "MAP - Accuracy: 0.7000, Average Token Count: 248145.17\n",
      "MAP Min N Required [5, 16, 16, 16, 16, 5, 16, 16, 16, 16, 16, 16, 16, 16, 16, 16, 16, 16, 16, 16, 16, 16, 16, 16, 16, 16, 16, 16, 16, 16]\n",
      "MAP - Target Score: 0.95, Percentile: 0.1\n",
      "MAP - Accuracy: 0.7000, Average Token Count: 248145.17\n"
     ]
    },
    {
     "name": "stderr",
     "output_type": "stream",
     "text": []
    },
    {
     "name": "stdout",
     "output_type": "stream",
     "text": [
      "MAP Min N Required [8, 16, 16, 16, 16, 10, 16, 16, 16, 16, 16, 16, 16, 16, 16, 16, 16, 16, 16, 16, 16, 16, 16, 16, 16, 16, 16, 16, 16, 16]\n",
      "MAP - Target Score: 0.975, Percentile: 0.01\n",
      "MAP - Accuracy: 0.7000, Average Token Count: 249276.13\n",
      "MAP Min N Required [7, 16, 16, 16, 16, 9, 16, 16, 16, 16, 16, 16, 16, 16, 16, 16, 16, 16, 16, 16, 16, 16, 16, 16, 16, 16, 16, 16, 16, 16]\n",
      "MAP - Target Score: 0.975, Percentile: 0.02\n",
      "MAP - Accuracy: 0.7000, Average Token Count: 248990.47\n"
     ]
    },
    {
     "name": "stderr",
     "output_type": "stream",
     "text": []
    },
    {
     "name": "stdout",
     "output_type": "stream",
     "text": [
      "MAP Min N Required [6, 16, 16, 16, 16, 8, 16, 16, 16, 16, 16, 16, 16, 16, 16, 16, 16, 16, 16, 16, 16, 16, 16, 16, 16, 16, 16, 16, 16, 16]\n",
      "MAP - Target Score: 0.975, Percentile: 0.035\n",
      "MAP - Accuracy: 0.7000, Average Token Count: 248715.43\n",
      "MAP Min N Required [6, 16, 16, 16, 16, 7, 16, 16, 16, 16, 16, 16, 16, 16, 16, 16, 16, 16, 16, 16, 16, 16, 16, 16, 16, 16, 16, 16, 16, 16]\n"
     ]
    },
    {
     "name": "stderr",
     "output_type": "stream",
     "text": []
    },
    {
     "name": "stdout",
     "output_type": "stream",
     "text": [
      "MAP - Target Score: 0.975, Percentile: 0.05\n",
      "MAP - Accuracy: 0.7000, Average Token Count: 248569.90\n",
      "MAP Min N Required [5, 16, 16, 16, 16, 6, 16, 16, 16, 16, 16, 16, 16, 16, 16, 16, 16, 16, 16, 16, 16, 16, 16, 16, 16, 16, 16, 16, 16, 16]\n",
      "MAP - Target Score: 0.975, Percentile: 0.075\n",
      "MAP - Accuracy: 0.7000, Average Token Count: 248292.13\n"
     ]
    },
    {
     "name": "stderr",
     "output_type": "stream",
     "text": [
      "Target Score (MAP): 100%|██████████| 8/8 [00:07<00:00,  1.02it/s]\n"
     ]
    },
    {
     "name": "stdout",
     "output_type": "stream",
     "text": [
      "MAP Min N Required [5, 16, 16, 16, 16, 5, 16, 16, 16, 16, 16, 16, 16, 16, 16, 16, 16, 16, 16, 16, 16, 16, 16, 16, 16, 16, 16, 16, 16, 16]\n",
      "MAP - Target Score: 0.975, Percentile: 0.1\n",
      "MAP - Accuracy: 0.7000, Average Token Count: 248145.17\n"
     ]
    },
    {
     "data": {
      "image/png": "[encoded data removed]",
      "text/plain": [
       "<Figure size 1200x800 with 1 Axes>"
      ]
     },
     "metadata": {},
     "output_type": "display_data"
    },
    {
     "name": "stdout",
     "output_type": "stream",
     "text": [
      "\n",
      "MLE Pareto-optimal configurations:\n",
      "Target Score: 0.7, Percentile: 0.05, Accuracy: 0.7000, Avg Token Count: 226057.53\n",
      "\n",
      "MAP Pareto-optimal configurations:\n",
      "Target Score: 0.7, Percentile: 0.1, Accuracy: 0.7000, Avg Token Count: 222996.67\n"
     ]
    }
   ],
   "source": [
    "max_N_panel = 16\n",
    "print(\"Target Score Panel:\", target_score_panel_values)\n",
    "print(\"Percentile Panel:\", percentile_panel_values)\n",
    "print(\"Max N:\", max_N_panel)\n",
    "\n",
    "# Evaluate MLE results\n",
    "print(\"\\nEvaluating MLE Results...\")\n",
    "truncated_normal_params_all = mle_estimated_params\n",
    "mle_grid_search_results = []\n",
    "\n",
    "for target_score in tqdm(target_score_panel_values, desc=\"Target Score (MLE)\"):\n",
    "    for percentile in tqdm(percentile_panel_values, desc=\"Percentile\", leave=False):\n",
    "        min_N_required = []\n",
    "        for i, (mu, sigma) in enumerate(truncated_normal_params_all):\n",
    "            min_N = find_min_N_for_threshold(mu, sigma, target_score=target_score, \n",
    "                                        percentile=percentile, max_N=max_N_panel)\n",
    "            if min_N < peek_number:\n",
    "                min_N = peek_number\n",
    "            min_N_required.append(min_N)\n",
    "        print(\"MLE Min N Required\", min_N_required)\n",
    "        \n",
    "        # Evaluate model performance with these parameters\n",
    "        correct = 0\n",
    "        entire_token_count = 0\n",
    "\n",
    "        for idx, item in enumerate(val_texts):\n",
    "            N = min_N_required[idx]\n",
    "            completions = val_completions[idx][0][:N]\n",
    "            scores = val_scores[idx][0][:N]\n",
    "            completion_tokens = val_completion_tokens[idx][0][:N]\n",
    "            total_tokens = sum(completion_tokens)\n",
    "\n",
    "            highest_scores_idx = scores.index(max(scores))\n",
    "\n",
    "            while completions[highest_scores_idx] == \"\":\n",
    "                scores[highest_scores_idx] = 0 \n",
    "                if max(scores) == 0: \n",
    "                    break\n",
    "                highest_scores_idx = scores.index(max(scores))\n",
    "\n",
    "            output = completions[highest_scores_idx]\n",
    "            answer = get_answer(output)\n",
    "\n",
    "            if verify_extracted_answer(val_gt_answers[idx], answer):\n",
    "                correct += 1\n",
    "            entire_token_count += total_tokens\n",
    "\n",
    "        accuracy = correct / len(val_texts)\n",
    "        average_token_count = entire_token_count / len(val_texts)\n",
    "        \n",
    "        print(f\"MLE - Target Score: {target_score}, Percentile: {percentile}\")\n",
    "        print(f\"MLE - Accuracy: {accuracy:.4f}, Average Token Count: {average_token_count:.2f}\")\n",
    "        \n",
    "        mle_grid_search_results.append({\n",
    "            'target_score': target_score,\n",
    "            'percentile': percentile,\n",
    "            'accuracy': accuracy,\n",
    "            'average_token_count': average_token_count\n",
    "        })\n",
    "        \n",
    "with open(f'{DATASET}_OptScale_MLE_results_{max_N_panel}.json', 'w') as f:\n",
    "    json.dump(mle_grid_search_results, f)\n",
    "\n",
    "\n",
    "# Evaluate MAP results\n",
    "print(\"\\nEvaluating MAP Results...\")\n",
    "truncated_normal_params_all = map_estimated_params\n",
    "map_grid_search_results = []\n",
    "\n",
    "for target_score in tqdm(target_score_panel_values, desc=\"Target Score (MAP)\"):\n",
    "    for percentile in tqdm(percentile_panel_values, desc=\"Percentile\", leave=False):\n",
    "        min_N_required = []\n",
    "        for i, (mu, sigma) in enumerate(truncated_normal_params_all):\n",
    "            min_N = find_min_N_for_threshold(mu, sigma, target_score=target_score, \n",
    "                                        percentile=percentile, max_N=max_N_panel)\n",
    "            if min_N < peek_number:\n",
    "                min_N = peek_number\n",
    "            min_N_required.append(min_N)\n",
    "        print(\"MAP Min N Required\", min_N_required)\n",
    "        \n",
    "        # Evaluate model performance with these parameters\n",
    "        correct = 0\n",
    "        entire_token_count = 0\n",
    "\n",
    "        for idx, item in enumerate(val_texts):\n",
    "            N = min_N_required[idx]\n",
    "            completions = val_completions[idx][0][:N]\n",
    "            scores = val_scores[idx][0][:N]\n",
    "            completion_tokens = val_completion_tokens[idx][0][:N]\n",
    "            total_tokens = sum(completion_tokens)\n",
    "\n",
    "            highest_scores_idx = scores.index(max(scores))\n",
    "\n",
    "            while completions[highest_scores_idx] == \"\":\n",
    "                scores[highest_scores_idx] = 0 \n",
    "                if max(scores) == 0: \n",
    "                    break\n",
    "                highest_scores_idx = scores.index(max(scores))\n",
    "\n",
    "            output = completions[highest_scores_idx]\n",
    "            answer = get_answer(output)\n",
    "\n",
    "            if verify_extracted_answer(val_gt_answers[idx], answer):\n",
    "                correct += 1\n",
    "            entire_token_count += total_tokens\n",
    "\n",
    "        accuracy = correct / len(val_texts)\n",
    "        average_token_count = entire_token_count / len(val_texts)\n",
    "        \n",
    "        print(f\"MAP - Target Score: {target_score}, Percentile: {percentile}\")\n",
    "        print(f\"MAP - Accuracy: {accuracy:.4f}, Average Token Count: {average_token_count:.2f}\")\n",
    "        \n",
    "        map_grid_search_results.append({\n",
    "            'target_score': target_score,\n",
    "            'percentile': percentile,\n",
    "            'accuracy': accuracy,\n",
    "            'average_token_count': average_token_count\n",
    "        })\n",
    "        \n",
    "with open(f'{DATASET}_OptScale_MAP_results_{max_N_panel}.json', 'w') as f:\n",
    "    json.dump(map_grid_search_results, f)\n",
    "\n",
    "plot_mle_map_optscale(mle_grid_search_results, map_grid_search_results, baseline_average_token_counts, baseline_accuracy_values, max_N_panel)"
   ]
  },
  {
   "cell_type": "code",
   "execution_count": 8,
   "metadata": {},
   "outputs": [
    {
     "name": "stdout",
     "output_type": "stream",
     "text": [
      "0         0.5997      0.1059    0.9780    0.0131    0.7658    0.2303    0.9801    0.0211\n",
      "1         0.7376      0.1213    0.6070    0.0565    0.6112    0.0577    0.6037    0.0535\n",
      "2         0.5715      0.1018    0.6941    0.0833    0.6859    0.0843    0.7135    0.0874\n",
      "3         0.5357      0.0756    0.7017    0.0657    0.6947    0.0663    0.6907    0.0764\n",
      "4         0.5198      0.1314    0.5773    0.0598    0.5752    0.0612    0.6291    0.0796\n",
      "5         0.6532      0.0969    0.9791    0.0079    0.8228    0.1877    0.9797    0.0094\n",
      "6         0.6889      0.1328    0.4352    0.0601    0.4446    0.0622    0.4544    0.0792\n",
      "7         0.6979      0.1068    3.6928    0.6599    0.8747    0.1742    3.8541    0.5998\n",
      "8         0.5785      0.0865    0.5169    0.0576    0.5189    0.0581    0.5131    0.0671\n",
      "9         0.6922      0.1633    0.3541    0.0499    0.3767    0.0758    0.3717    0.0420\n",
      "10        0.6509      0.1193    0.3120    0.0419    0.3306    0.0571    0.3286    0.0399\n",
      "11        0.6163      0.1217    0.5248    0.0559    0.5277    0.0570    0.5291    0.0580\n",
      "12        0.7201      0.0871    0.4132    0.0404    0.4100    0.0459    0.4272    0.0375\n",
      "13        0.7495      0.1252    0.4449    0.0245    0.4507    0.0229    0.4439    0.0249\n",
      "14        0.4176      0.0512    0.3917    0.0153    0.4176    0.0512    0.3955    0.0332\n",
      "15        0.6432      0.1218    0.9627    0.0141    0.9338    0.0351    0.9685    0.0287\n",
      "16        0.4786      0.0956    0.8756    0.0458    0.8161    0.0698    0.8774    0.0926\n",
      "17        0.6420      0.1010    0.4285    0.0446    0.4532    0.0717    0.4327    0.0470\n",
      "18        0.6636      0.1143    0.7281    0.0738    0.7246    0.0750    0.7182    0.0956\n",
      "19        0.7491      0.1112    0.4684    0.0503    0.4642    0.0460    0.4856    0.0441\n",
      "20        0.7925      0.0884    0.4532    0.0803    0.4753    0.0834    0.4269    0.0646\n",
      "21        0.6538      0.0702    0.5820    0.0992    0.5883    0.0981    0.5953    0.0794\n",
      "22        0.7403      0.1377    0.4615    0.0875    0.4962    0.1228    0.4415    0.0669\n",
      "23        0.7223      0.0959    0.4520    0.1006    0.5587    0.1546    0.4913    0.1059\n",
      "24        0.6375      0.0628    0.5046    0.0585    0.5091    0.0588    0.5135    0.0686\n",
      "25        0.6262      0.1118    0.3681    0.0484    0.4875    0.1531    0.3794    0.0528\n",
      "26        0.7778      0.1061    0.7126    0.0858    0.7172    0.0868    0.6600    0.1398\n",
      "27        0.6402      0.1144    0.4112    0.0627    0.4365    0.0612    0.3922    0.0440\n",
      "28        0.6544      0.1343    0.4506    0.0545    0.4569    0.0561    0.4997    0.0838\n",
      "29        0.5893      0.1102    0.3776    0.0344    0.4699    0.0873    0.3918    0.0376\n",
      "\n",
      "Performance Comparison (MSE against ground truth):\n",
      "Predictor MSE - μ: 0.387183, σ: 0.011539\n",
      "MLE MSE      - μ: 0.001321, σ: 0.000444\n",
      "MAP MSE      - μ: 0.299762, σ: 0.009453\n",
      "\n",
      "Statistics of Different Estimation Methods:\n",
      "Predictor Estimates:\n",
      "Mean μ: 0.6480 ± 0.0858\n",
      "Mean σ: 0.1068 ± 0.0234\n",
      "\n",
      "MLE Estimates (10 samples):\n",
      "Mean μ: 0.6620 ± 0.5933\n",
      "Mean σ: 0.0744 ± 0.1113\n",
      "\n",
      "MAP Estimates (10 samples):\n",
      "Mean μ: 0.5698 ± 0.1563\n",
      "Mean σ: 0.0851 ± 0.0477\n",
      "\n",
      "Ground Truth (100 samples):\n",
      "Mean μ: 0.6729 ± 0.6188\n",
      "Mean σ: 0.0787 ± 0.1007\n"
     ]
    }
   ],
   "source": [
    "peek_number = 10\n",
    "\n",
    "mle_estimated_params = []  # Store MLE estimates\n",
    "map_estimated_params = []  # Store MAP estimates\n",
    "predictor_params = []      # Store predictor's estimates\n",
    "\n",
    "for i, (score, prediction) in enumerate(zip(val_scores, val_labels)):\n",
    "    peek_data = np.array(score[0][:peek_number])\n",
    "    \n",
    "    # Store predictor's parameters\n",
    "    prior_mu, prior_sigma = prediction\n",
    "    predictor_params.append((prior_mu, prior_sigma))\n",
    "    \n",
    "    # MLE estimation with limited data\n",
    "    initial_mu = np.mean(peek_data)\n",
    "    initial_sigma = np.std(peek_data)\n",
    "    mle_result = minimize(\n",
    "        lambda params: neg_log_likelihood(params, peek_data),\n",
    "        [initial_mu, initial_sigma],\n",
    "        bounds=[(None, None), (1e-6, None)],\n",
    "        method='L-BFGS-B'\n",
    "    )\n",
    "    mle_mu, mle_sigma = mle_result.x\n",
    "    mle_estimated_params.append((mle_mu, mle_sigma))\n",
    "    \n",
    "    # MAP estimation with limited data\n",
    "    map_result = minimize(\n",
    "        lambda params: neg_log_posterior(\n",
    "            params, \n",
    "            peek_data, \n",
    "            prior_mu=prior_mu, \n",
    "            prior_sigma=prior_sigma\n",
    "        ),\n",
    "        [prior_mu, prior_sigma],\n",
    "        bounds=[(None, None), (1e-6, None)],\n",
    "        method='L-BFGS-B'\n",
    "    )\n",
    "    map_mu, map_sigma = map_result.x\n",
    "    map_estimated_params.append((map_mu, map_sigma))\n",
    "    \n",
    "    # Print comparison for first 50 examples\n",
    "    if i < 50:\n",
    "        gt_mu, gt_sigma = original_params_compare[i]\n",
    "        print(f\"{i:<4} {prior_mu:11.4f} {prior_sigma:11.4f} {mle_mu:9.4f} {mle_sigma:9.4f} \"\n",
    "              f\"{map_mu:9.4f} {map_sigma:9.4f} {gt_mu:9.4f} {gt_sigma:9.4f}\")\n",
    "\n",
    "# Call the function to perform the analysis\n",
    "analyze_estimation_performance(predictor_params, mle_estimated_params, map_estimated_params, original_params_compare)\n"
   ]
  },
  {
   "cell_type": "code",
   "execution_count": 9,
   "metadata": {},
   "outputs": [
    {
     "name": "stdout",
     "output_type": "stream",
     "text": [
      "Target Score Panel: [0.7, 0.75, 0.8, 0.85, 0.9, 0.925, 0.95, 0.975]\n",
      "Percentile Panel: [0.01, 0.02, 0.035, 0.05, 0.075, 0.1]\n",
      "Max N: 32\n",
      "\n",
      "Evaluating MLE Results...\n"
     ]
    },
    {
     "name": "stderr",
     "output_type": "stream",
     "text": [
      "Target Score (MLE):   0%|          | 0/8 [00:00<?, ?it/s]"
     ]
    },
    {
     "name": "stdout",
     "output_type": "stream",
     "text": [
      "MLE Min N Required [10, 32, 10, 10, 32, 10, 32, 10, 32, 32, 32, 32, 32, 32, 32, 10, 10, 32, 10, 32, 32, 32, 32, 32, 32, 32, 10, 32, 32, 32]\n",
      "MLE - Target Score: 0.7, Percentile: 0.01\n",
      "MLE - Accuracy: 0.6667, Average Token Count: 451549.07\n"
     ]
    },
    {
     "name": "stderr",
     "output_type": "stream",
     "text": []
    },
    {
     "name": "stdout",
     "output_type": "stream",
     "text": [
      "MLE Min N Required [10, 32, 10, 10, 32, 10, 32, 10, 32, 32, 32, 32, 32, 32, 32, 10, 10, 32, 10, 32, 32, 32, 32, 32, 32, 32, 10, 32, 32, 32]\n",
      "MLE - Target Score: 0.7, Percentile: 0.02\n",
      "MLE - Accuracy: 0.6667, Average Token Count: 451549.07\n"
     ]
    },
    {
     "name": "stderr",
     "output_type": "stream",
     "text": []
    },
    {
     "name": "stdout",
     "output_type": "stream",
     "text": [
      "MLE Min N Required [10, 32, 10, 10, 32, 10, 32, 10, 32, 32, 32, 32, 32, 32, 32, 10, 10, 32, 10, 32, 32, 27, 32, 32, 32, 32, 10, 32, 32, 32]\n",
      "MLE - Target Score: 0.7, Percentile: 0.035\n",
      "MLE - Accuracy: 0.6667, Average Token Count: 449473.33\n"
     ]
    },
    {
     "name": "stderr",
     "output_type": "stream",
     "text": []
    },
    {
     "name": "stdout",
     "output_type": "stream",
     "text": [
      "MLE Min N Required [10, 32, 10, 10, 32, 10, 32, 10, 32, 32, 32, 32, 32, 32, 32, 10, 10, 32, 10, 32, 32, 25, 32, 32, 32, 32, 10, 32, 32, 32]\n",
      "MLE - Target Score: 0.7, Percentile: 0.05\n",
      "MLE - Accuracy: 0.6667, Average Token Count: 448694.00\n"
     ]
    },
    {
     "name": "stderr",
     "output_type": "stream",
     "text": []
    },
    {
     "name": "stdout",
     "output_type": "stream",
     "text": [
      "MLE Min N Required [10, 32, 10, 10, 32, 10, 32, 10, 32, 32, 32, 32, 32, 32, 32, 10, 10, 32, 10, 32, 32, 21, 32, 32, 32, 32, 10, 32, 32, 32]\n",
      "MLE - Target Score: 0.7, Percentile: 0.075\n",
      "MLE - Accuracy: 0.6667, Average Token Count: 446843.87\n"
     ]
    },
    {
     "name": "stderr",
     "output_type": "stream",
     "text": [
      "Target Score (MLE):  12%|█▎        | 1/8 [00:01<00:10,  1.52s/it]"
     ]
    },
    {
     "name": "stdout",
     "output_type": "stream",
     "text": [
      "MLE Min N Required [10, 32, 10, 10, 32, 10, 32, 10, 32, 32, 32, 32, 32, 32, 32, 10, 10, 32, 10, 32, 32, 19, 32, 32, 32, 32, 10, 32, 32, 32]\n",
      "MLE - Target Score: 0.7, Percentile: 0.1\n",
      "MLE - Accuracy: 0.6667, Average Token Count: 446103.17\n"
     ]
    },
    {
     "name": "stderr",
     "output_type": "stream",
     "text": []
    },
    {
     "name": "stdout",
     "output_type": "stream",
     "text": [
      "MLE Min N Required [10, 32, 17, 18, 32, 10, 32, 10, 32, 32, 32, 32, 32, 32, 32, 10, 10, 32, 10, 32, 32, 32, 32, 32, 32, 32, 12, 32, 32, 32]\n",
      "MLE - Target Score: 0.75, Percentile: 0.01\n",
      "MLE - Accuracy: 0.6667, Average Token Count: 456935.63\n"
     ]
    },
    {
     "name": "stderr",
     "output_type": "stream",
     "text": []
    },
    {
     "name": "stdout",
     "output_type": "stream",
     "text": [
      "MLE Min N Required [10, 32, 14, 15, 32, 10, 32, 10, 32, 32, 32, 32, 32, 32, 32, 10, 10, 32, 10, 32, 32, 32, 32, 32, 32, 32, 10, 32, 32, 32]\n",
      "MLE - Target Score: 0.75, Percentile: 0.02\n",
      "MLE - Accuracy: 0.6667, Average Token Count: 454382.70\n"
     ]
    },
    {
     "name": "stderr",
     "output_type": "stream",
     "text": []
    },
    {
     "name": "stdout",
     "output_type": "stream",
     "text": [
      "MLE Min N Required [10, 32, 12, 13, 32, 10, 32, 10, 32, 32, 32, 32, 32, 32, 32, 10, 10, 32, 10, 32, 32, 32, 32, 32, 32, 32, 10, 32, 32, 32]\n",
      "MLE - Target Score: 0.75, Percentile: 0.035\n",
      "MLE - Accuracy: 0.6667, Average Token Count: 453158.67\n"
     ]
    },
    {
     "name": "stderr",
     "output_type": "stream",
     "text": []
    },
    {
     "name": "stdout",
     "output_type": "stream",
     "text": [
      "MLE Min N Required [10, 32, 11, 12, 32, 10, 32, 10, 32, 32, 32, 32, 32, 32, 32, 10, 10, 32, 10, 32, 32, 32, 32, 32, 32, 32, 10, 32, 32, 32]\n",
      "MLE - Target Score: 0.75, Percentile: 0.05\n",
      "MLE - Accuracy: 0.6667, Average Token Count: 452606.80\n"
     ]
    },
    {
     "name": "stderr",
     "output_type": "stream",
     "text": []
    },
    {
     "name": "stdout",
     "output_type": "stream",
     "text": [
      "MLE Min N Required [10, 32, 10, 10, 32, 10, 32, 10, 32, 32, 32, 32, 32, 32, 32, 10, 10, 32, 10, 32, 32, 32, 32, 32, 32, 32, 10, 32, 32, 32]\n",
      "MLE - Target Score: 0.75, Percentile: 0.075\n",
      "MLE - Accuracy: 0.6667, Average Token Count: 451549.07\n"
     ]
    },
    {
     "name": "stderr",
     "output_type": "stream",
     "text": [
      "Target Score (MLE):  25%|██▌       | 2/8 [00:03<00:09,  1.55s/it]"
     ]
    },
    {
     "name": "stdout",
     "output_type": "stream",
     "text": [
      "MLE Min N Required [10, 32, 10, 10, 32, 10, 32, 10, 32, 32, 32, 32, 32, 32, 32, 10, 10, 32, 10, 32, 32, 32, 32, 32, 32, 32, 10, 32, 32, 32]\n",
      "MLE - Target Score: 0.75, Percentile: 0.1\n",
      "MLE - Accuracy: 0.6667, Average Token Count: 451549.07\n"
     ]
    },
    {
     "name": "stderr",
     "output_type": "stream",
     "text": []
    },
    {
     "name": "stdout",
     "output_type": "stream",
     "text": [
      "MLE Min N Required [10, 32, 32, 32, 32, 10, 32, 10, 32, 32, 32, 32, 32, 32, 32, 10, 10, 32, 26, 32, 32, 32, 32, 32, 32, 32, 28, 32, 32, 32]\n",
      "MLE - Target Score: 0.8, Percentile: 0.01\n",
      "MLE - Accuracy: 0.6667, Average Token Count: 478089.77\n"
     ]
    },
    {
     "name": "stderr",
     "output_type": "stream",
     "text": []
    },
    {
     "name": "stdout",
     "output_type": "stream",
     "text": [
      "MLE Min N Required [10, 32, 32, 32, 32, 10, 32, 10, 32, 32, 32, 32, 32, 32, 32, 10, 10, 32, 22, 32, 32, 32, 32, 32, 32, 32, 24, 32, 32, 32]\n",
      "MLE - Target Score: 0.8, Percentile: 0.02\n",
      "MLE - Accuracy: 0.6667, Average Token Count: 475404.13\n"
     ]
    },
    {
     "name": "stderr",
     "output_type": "stream",
     "text": []
    },
    {
     "name": "stdout",
     "output_type": "stream",
     "text": [
      "MLE Min N Required [10, 32, 32, 32, 32, 10, 32, 10, 32, 32, 32, 32, 32, 32, 32, 10, 10, 32, 19, 32, 32, 32, 32, 32, 32, 32, 21, 32, 32, 32]\n",
      "MLE - Target Score: 0.8, Percentile: 0.035\n",
      "MLE - Accuracy: 0.6667, Average Token Count: 473568.73\n"
     ]
    },
    {
     "name": "stderr",
     "output_type": "stream",
     "text": []
    },
    {
     "name": "stdout",
     "output_type": "stream",
     "text": [
      "MLE Min N Required [10, 32, 29, 32, 32, 10, 32, 10, 32, 32, 32, 32, 32, 32, 32, 10, 10, 32, 17, 32, 32, 32, 32, 32, 32, 32, 19, 32, 32, 32]\n",
      "MLE - Target Score: 0.8, Percentile: 0.05\n",
      "MLE - Accuracy: 0.6667, Average Token Count: 471357.43\n"
     ]
    },
    {
     "name": "stderr",
     "output_type": "stream",
     "text": []
    },
    {
     "name": "stdout",
     "output_type": "stream",
     "text": [
      "MLE Min N Required [10, 32, 25, 32, 32, 10, 32, 10, 32, 32, 32, 32, 32, 32, 32, 10, 10, 32, 15, 32, 32, 32, 32, 32, 32, 32, 16, 32, 32, 32]\n",
      "MLE - Target Score: 0.8, Percentile: 0.075\n",
      "MLE - Accuracy: 0.6667, Average Token Count: 468240.17\n"
     ]
    },
    {
     "name": "stderr",
     "output_type": "stream",
     "text": [
      "Target Score (MLE):  38%|███▊      | 3/8 [00:04<00:08,  1.62s/it]"
     ]
    },
    {
     "name": "stdout",
     "output_type": "stream",
     "text": [
      "MLE Min N Required [10, 32, 22, 32, 32, 10, 32, 10, 32, 32, 32, 32, 32, 32, 32, 10, 10, 32, 13, 32, 32, 32, 32, 32, 32, 32, 14, 32, 32, 32]\n",
      "MLE - Target Score: 0.8, Percentile: 0.1\n",
      "MLE - Accuracy: 0.6667, Average Token Count: 465852.30\n"
     ]
    },
    {
     "name": "stderr",
     "output_type": "stream",
     "text": []
    },
    {
     "name": "stdout",
     "output_type": "stream",
     "text": [
      "MLE Min N Required [10, 32, 32, 32, 32, 10, 32, 10, 32, 32, 32, 32, 32, 32, 32, 10, 10, 32, 32, 32, 32, 32, 32, 32, 32, 32, 32, 32, 32, 32]\n",
      "MLE - Target Score: 0.85, Percentile: 0.01\n",
      "MLE - Accuracy: 0.6667, Average Token Count: 481390.67\n"
     ]
    },
    {
     "name": "stderr",
     "output_type": "stream",
     "text": []
    },
    {
     "name": "stdout",
     "output_type": "stream",
     "text": [
      "MLE Min N Required [10, 32, 32, 32, 32, 10, 32, 10, 32, 32, 32, 32, 32, 32, 32, 10, 10, 32, 32, 32, 32, 32, 32, 32, 32, 32, 32, 32, 32, 32]\n",
      "MLE - Target Score: 0.85, Percentile: 0.02\n",
      "MLE - Accuracy: 0.6667, Average Token Count: 481390.67\n"
     ]
    },
    {
     "name": "stderr",
     "output_type": "stream",
     "text": []
    },
    {
     "name": "stdout",
     "output_type": "stream",
     "text": [
      "MLE Min N Required [10, 32, 32, 32, 32, 10, 32, 10, 32, 32, 32, 32, 32, 32, 32, 10, 10, 32, 32, 32, 32, 32, 32, 32, 32, 32, 32, 32, 32, 32]\n",
      "MLE - Target Score: 0.85, Percentile: 0.035\n",
      "MLE - Accuracy: 0.6667, Average Token Count: 481390.67\n"
     ]
    },
    {
     "name": "stderr",
     "output_type": "stream",
     "text": []
    },
    {
     "name": "stdout",
     "output_type": "stream",
     "text": [
      "MLE Min N Required [10, 32, 32, 32, 32, 10, 32, 10, 32, 32, 32, 32, 32, 32, 32, 10, 10, 32, 32, 32, 32, 32, 32, 32, 32, 32, 32, 32, 32, 32]\n",
      "MLE - Target Score: 0.85, Percentile: 0.05\n",
      "MLE - Accuracy: 0.6667, Average Token Count: 481390.67\n"
     ]
    },
    {
     "name": "stderr",
     "output_type": "stream",
     "text": []
    },
    {
     "name": "stdout",
     "output_type": "stream",
     "text": [
      "MLE Min N Required [10, 32, 32, 32, 32, 10, 32, 10, 32, 32, 32, 32, 32, 32, 32, 10, 10, 32, 32, 32, 32, 32, 32, 32, 32, 32, 32, 32, 32, 32]\n",
      "MLE - Target Score: 0.85, Percentile: 0.075\n",
      "MLE - Accuracy: 0.6667, Average Token Count: 481390.67\n"
     ]
    },
    {
     "name": "stderr",
     "output_type": "stream",
     "text": [
      "Target Score (MLE):  50%|█████     | 4/8 [00:06<00:06,  1.68s/it]"
     ]
    },
    {
     "name": "stdout",
     "output_type": "stream",
     "text": [
      "MLE Min N Required [10, 32, 32, 32, 32, 10, 32, 10, 32, 32, 32, 32, 32, 32, 32, 10, 10, 32, 32, 32, 32, 32, 32, 32, 32, 32, 32, 32, 32, 32]\n",
      "MLE - Target Score: 0.85, Percentile: 0.1\n",
      "MLE - Accuracy: 0.6667, Average Token Count: 481390.67\n"
     ]
    },
    {
     "name": "stderr",
     "output_type": "stream",
     "text": []
    },
    {
     "name": "stdout",
     "output_type": "stream",
     "text": [
      "MLE Min N Required [10, 32, 32, 32, 32, 10, 32, 10, 32, 32, 32, 32, 32, 32, 32, 10, 14, 32, 32, 32, 32, 32, 32, 32, 32, 32, 32, 32, 32, 32]\n",
      "MLE - Target Score: 0.9, Percentile: 0.01\n",
      "MLE - Accuracy: 0.6667, Average Token Count: 482172.27\n"
     ]
    },
    {
     "name": "stderr",
     "output_type": "stream",
     "text": []
    },
    {
     "name": "stdout",
     "output_type": "stream",
     "text": [
      "MLE Min N Required [10, 32, 32, 32, 32, 10, 32, 10, 32, 32, 32, 32, 32, 32, 32, 10, 12, 32, 32, 32, 32, 32, 32, 32, 32, 32, 32, 32, 32, 32]\n",
      "MLE - Target Score: 0.9, Percentile: 0.02\n",
      "MLE - Accuracy: 0.6667, Average Token Count: 481788.37\n"
     ]
    },
    {
     "name": "stderr",
     "output_type": "stream",
     "text": []
    },
    {
     "name": "stdout",
     "output_type": "stream",
     "text": [
      "MLE Min N Required [10, 32, 32, 32, 32, 10, 32, 10, 32, 32, 32, 32, 32, 32, 32, 10, 10, 32, 32, 32, 32, 32, 32, 32, 32, 32, 32, 32, 32, 32]\n",
      "MLE - Target Score: 0.9, Percentile: 0.035\n",
      "MLE - Accuracy: 0.6667, Average Token Count: 481390.67\n"
     ]
    },
    {
     "name": "stderr",
     "output_type": "stream",
     "text": []
    },
    {
     "name": "stdout",
     "output_type": "stream",
     "text": [
      "MLE Min N Required [10, 32, 32, 32, 32, 10, 32, 10, 32, 32, 32, 32, 32, 32, 32, 10, 10, 32, 32, 32, 32, 32, 32, 32, 32, 32, 32, 32, 32, 32]\n",
      "MLE - Target Score: 0.9, Percentile: 0.05\n",
      "MLE - Accuracy: 0.6667, Average Token Count: 481390.67\n"
     ]
    },
    {
     "name": "stderr",
     "output_type": "stream",
     "text": []
    },
    {
     "name": "stdout",
     "output_type": "stream",
     "text": [
      "MLE Min N Required [10, 32, 32, 32, 32, 10, 32, 10, 32, 32, 32, 32, 32, 32, 32, 10, 10, 32, 32, 32, 32, 32, 32, 32, 32, 32, 32, 32, 32, 32]\n",
      "MLE - Target Score: 0.9, Percentile: 0.075\n",
      "MLE - Accuracy: 0.6667, Average Token Count: 481390.67\n"
     ]
    },
    {
     "name": "stderr",
     "output_type": "stream",
     "text": [
      "Target Score (MLE):  62%|██████▎   | 5/8 [00:08<00:05,  1.73s/it]"
     ]
    },
    {
     "name": "stdout",
     "output_type": "stream",
     "text": [
      "MLE Min N Required [10, 32, 32, 32, 32, 10, 32, 10, 32, 32, 32, 32, 32, 32, 32, 10, 10, 32, 32, 32, 32, 32, 32, 32, 32, 32, 32, 32, 32, 32]\n",
      "MLE - Target Score: 0.9, Percentile: 0.1\n",
      "MLE - Accuracy: 0.6667, Average Token Count: 481390.67\n"
     ]
    },
    {
     "name": "stderr",
     "output_type": "stream",
     "text": []
    },
    {
     "name": "stdout",
     "output_type": "stream",
     "text": [
      "MLE Min N Required [10, 32, 32, 32, 32, 10, 32, 10, 32, 32, 32, 32, 32, 32, 32, 10, 32, 32, 32, 32, 32, 32, 32, 32, 32, 32, 32, 32, 32, 32]\n",
      "MLE - Target Score: 0.925, Percentile: 0.01\n",
      "MLE - Accuracy: 0.6667, Average Token Count: 485815.40\n"
     ]
    },
    {
     "name": "stderr",
     "output_type": "stream",
     "text": []
    },
    {
     "name": "stdout",
     "output_type": "stream",
     "text": [
      "MLE Min N Required [10, 32, 32, 32, 32, 10, 32, 10, 32, 32, 32, 32, 32, 32, 32, 10, 27, 32, 32, 32, 32, 32, 32, 32, 32, 32, 32, 32, 32, 32]\n",
      "MLE - Target Score: 0.925, Percentile: 0.02\n",
      "MLE - Accuracy: 0.6667, Average Token Count: 484834.77\n"
     ]
    },
    {
     "name": "stderr",
     "output_type": "stream",
     "text": []
    },
    {
     "name": "stdout",
     "output_type": "stream",
     "text": [
      "MLE Min N Required [10, 32, 32, 32, 32, 10, 32, 10, 32, 32, 32, 32, 32, 32, 32, 10, 24, 32, 32, 32, 32, 32, 32, 32, 32, 32, 32, 32, 32, 32]\n",
      "MLE - Target Score: 0.925, Percentile: 0.035\n",
      "MLE - Accuracy: 0.6667, Average Token Count: 484239.70\n"
     ]
    },
    {
     "name": "stderr",
     "output_type": "stream",
     "text": []
    },
    {
     "name": "stdout",
     "output_type": "stream",
     "text": [
      "MLE Min N Required [10, 32, 32, 32, 32, 10, 32, 10, 32, 32, 32, 32, 32, 32, 32, 10, 21, 32, 32, 32, 32, 32, 32, 32, 32, 32, 32, 32, 32, 32]\n",
      "MLE - Target Score: 0.925, Percentile: 0.05\n",
      "MLE - Accuracy: 0.6667, Average Token Count: 483627.23\n"
     ]
    },
    {
     "name": "stderr",
     "output_type": "stream",
     "text": []
    },
    {
     "name": "stdout",
     "output_type": "stream",
     "text": [
      "MLE Min N Required [10, 32, 32, 32, 32, 10, 32, 10, 32, 32, 32, 32, 32, 32, 32, 10, 18, 32, 32, 32, 32, 32, 32, 32, 32, 32, 32, 32, 32, 32]\n",
      "MLE - Target Score: 0.925, Percentile: 0.075\n",
      "MLE - Accuracy: 0.6667, Average Token Count: 482898.50\n"
     ]
    },
    {
     "name": "stderr",
     "output_type": "stream",
     "text": [
      "Target Score (MLE):  75%|███████▌  | 6/8 [00:10<00:03,  1.77s/it]"
     ]
    },
    {
     "name": "stdout",
     "output_type": "stream",
     "text": [
      "MLE Min N Required [10, 32, 32, 32, 32, 10, 32, 10, 32, 32, 32, 32, 32, 32, 32, 10, 16, 32, 32, 32, 32, 32, 32, 32, 32, 32, 32, 32, 32, 32]\n",
      "MLE - Target Score: 0.925, Percentile: 0.1\n",
      "MLE - Accuracy: 0.6667, Average Token Count: 482527.90\n"
     ]
    },
    {
     "name": "stderr",
     "output_type": "stream",
     "text": []
    },
    {
     "name": "stdout",
     "output_type": "stream",
     "text": [
      "MLE Min N Required [10, 32, 32, 32, 32, 10, 32, 14, 32, 32, 32, 32, 32, 32, 32, 10, 32, 32, 32, 32, 32, 32, 32, 32, 32, 32, 32, 32, 32, 32]\n",
      "MLE - Target Score: 0.95, Percentile: 0.01\n",
      "MLE - Accuracy: 0.6667, Average Token Count: 486574.70\n"
     ]
    },
    {
     "name": "stderr",
     "output_type": "stream",
     "text": []
    },
    {
     "name": "stdout",
     "output_type": "stream",
     "text": [
      "MLE Min N Required [10, 32, 32, 32, 32, 10, 32, 12, 32, 32, 32, 32, 32, 32, 32, 10, 32, 32, 32, 32, 32, 32, 32, 32, 32, 32, 32, 32, 32, 32]\n",
      "MLE - Target Score: 0.95, Percentile: 0.02\n",
      "MLE - Accuracy: 0.6667, Average Token Count: 486202.37\n"
     ]
    },
    {
     "name": "stderr",
     "output_type": "stream",
     "text": []
    },
    {
     "name": "stdout",
     "output_type": "stream",
     "text": [
      "MLE Min N Required [10, 32, 32, 32, 32, 10, 32, 11, 32, 32, 32, 32, 32, 32, 32, 10, 32, 32, 32, 32, 32, 32, 32, 32, 32, 32, 32, 32, 32, 32]\n",
      "MLE - Target Score: 0.95, Percentile: 0.035\n",
      "MLE - Accuracy: 0.6667, Average Token Count: 486000.30\n"
     ]
    },
    {
     "name": "stderr",
     "output_type": "stream",
     "text": []
    },
    {
     "name": "stdout",
     "output_type": "stream",
     "text": [
      "MLE Min N Required [10, 32, 32, 32, 32, 10, 32, 10, 32, 32, 32, 32, 32, 32, 32, 10, 32, 32, 32, 32, 32, 32, 32, 32, 32, 32, 32, 32, 32, 32]\n",
      "MLE - Target Score: 0.95, Percentile: 0.05\n",
      "MLE - Accuracy: 0.6667, Average Token Count: 485815.40\n"
     ]
    },
    {
     "name": "stderr",
     "output_type": "stream",
     "text": []
    },
    {
     "name": "stdout",
     "output_type": "stream",
     "text": [
      "MLE Min N Required [10, 32, 32, 32, 32, 10, 32, 10, 32, 32, 32, 32, 32, 32, 32, 10, 32, 32, 32, 32, 32, 32, 32, 32, 32, 32, 32, 32, 32, 32]\n",
      "MLE - Target Score: 0.95, Percentile: 0.075\n",
      "MLE - Accuracy: 0.6667, Average Token Count: 485815.40\n"
     ]
    },
    {
     "name": "stderr",
     "output_type": "stream",
     "text": [
      "Target Score (MLE):  88%|████████▊ | 7/8 [00:12<00:01,  1.83s/it]"
     ]
    },
    {
     "name": "stdout",
     "output_type": "stream",
     "text": [
      "MLE Min N Required [10, 32, 32, 32, 32, 10, 32, 10, 32, 32, 32, 32, 32, 32, 32, 10, 32, 32, 32, 32, 32, 32, 32, 32, 32, 32, 32, 32, 32, 32]\n",
      "MLE - Target Score: 0.95, Percentile: 0.1\n",
      "MLE - Accuracy: 0.6667, Average Token Count: 485815.40\n"
     ]
    },
    {
     "name": "stderr",
     "output_type": "stream",
     "text": []
    },
    {
     "name": "stdout",
     "output_type": "stream",
     "text": [
      "MLE Min N Required [10, 32, 32, 32, 32, 10, 32, 29, 32, 32, 32, 32, 32, 32, 32, 24, 32, 32, 32, 32, 32, 32, 32, 32, 32, 32, 32, 32, 32, 32]\n",
      "MLE - Target Score: 0.975, Percentile: 0.01\n",
      "MLE - Accuracy: 0.6667, Average Token Count: 492468.47\n"
     ]
    },
    {
     "name": "stderr",
     "output_type": "stream",
     "text": []
    },
    {
     "name": "stdout",
     "output_type": "stream",
     "text": [
      "MLE Min N Required [10, 32, 32, 32, 32, 10, 32, 24, 32, 32, 32, 32, 32, 32, 32, 20, 32, 32, 32, 32, 32, 32, 32, 32, 32, 32, 32, 32, 32, 32]\n",
      "MLE - Target Score: 0.975, Percentile: 0.02\n",
      "MLE - Accuracy: 0.6667, Average Token Count: 490863.27\n"
     ]
    },
    {
     "name": "stderr",
     "output_type": "stream",
     "text": []
    },
    {
     "name": "stdout",
     "output_type": "stream",
     "text": [
      "MLE Min N Required [10, 32, 32, 32, 32, 10, 32, 21, 32, 32, 32, 32, 32, 32, 32, 17, 32, 32, 32, 32, 32, 32, 32, 32, 32, 32, 32, 32, 32, 32]\n",
      "MLE - Target Score: 0.975, Percentile: 0.035\n",
      "MLE - Accuracy: 0.6667, Average Token Count: 489822.50\n"
     ]
    },
    {
     "name": "stderr",
     "output_type": "stream",
     "text": []
    },
    {
     "name": "stdout",
     "output_type": "stream",
     "text": [
      "MLE Min N Required [10, 32, 32, 32, 32, 10, 32, 19, 32, 32, 32, 32, 32, 32, 32, 16, 32, 32, 32, 32, 32, 32, 32, 32, 32, 32, 32, 32, 32, 32]\n",
      "MLE - Target Score: 0.975, Percentile: 0.05\n",
      "MLE - Accuracy: 0.6667, Average Token Count: 488729.00\n"
     ]
    },
    {
     "name": "stderr",
     "output_type": "stream",
     "text": []
    },
    {
     "name": "stdout",
     "output_type": "stream",
     "text": [
      "MLE Min N Required [10, 32, 32, 32, 32, 10, 32, 16, 32, 32, 32, 32, 32, 32, 32, 14, 32, 32, 32, 32, 32, 32, 32, 32, 32, 32, 32, 32, 32, 32]\n",
      "MLE - Target Score: 0.975, Percentile: 0.075\n",
      "MLE - Accuracy: 0.6667, Average Token Count: 487704.87\n"
     ]
    },
    {
     "name": "stderr",
     "output_type": "stream",
     "text": [
      "Target Score (MLE): 100%|██████████| 8/8 [00:14<00:00,  1.76s/it]\n"
     ]
    },
    {
     "name": "stdout",
     "output_type": "stream",
     "text": [
      "MLE Min N Required [10, 32, 32, 32, 32, 10, 32, 15, 32, 32, 32, 32, 32, 32, 32, 12, 32, 32, 32, 32, 32, 32, 32, 32, 32, 32, 32, 32, 32, 32]\n",
      "MLE - Target Score: 0.975, Percentile: 0.1\n",
      "MLE - Accuracy: 0.6667, Average Token Count: 487110.33\n",
      "\n",
      "Evaluating MAP Results...\n"
     ]
    },
    {
     "name": "stderr",
     "output_type": "stream",
     "text": [
      "Target Score (MAP):   0%|          | 0/8 [00:00<?, ?it/s]"
     ]
    },
    {
     "name": "stdout",
     "output_type": "stream",
     "text": [
      "MAP Min N Required [10, 32, 10, 10, 32, 10, 32, 10, 32, 32, 32, 32, 32, 32, 32, 10, 10, 32, 10, 32, 32, 32, 32, 24, 32, 32, 10, 32, 32, 32]\n",
      "MAP - Target Score: 0.7, Percentile: 0.01\n",
      "MAP - Accuracy: 0.6667, Average Token Count: 448088.77\n"
     ]
    },
    {
     "name": "stderr",
     "output_type": "stream",
     "text": []
    },
    {
     "name": "stdout",
     "output_type": "stream",
     "text": [
      "MAP Min N Required [10, 32, 10, 10, 32, 10, 32, 10, 32, 32, 32, 32, 32, 32, 32, 10, 10, 32, 10, 32, 32, 29, 32, 20, 32, 32, 10, 32, 32, 32]\n",
      "MAP - Target Score: 0.7, Percentile: 0.02\n",
      "MAP - Accuracy: 0.6667, Average Token Count: 445378.87\n"
     ]
    },
    {
     "name": "stderr",
     "output_type": "stream",
     "text": []
    },
    {
     "name": "stdout",
     "output_type": "stream",
     "text": [
      "MAP Min N Required [10, 32, 10, 10, 32, 10, 32, 10, 32, 32, 32, 32, 32, 32, 32, 10, 10, 32, 10, 32, 32, 25, 32, 18, 32, 32, 10, 32, 32, 32]\n",
      "MAP - Target Score: 0.7, Percentile: 0.035\n",
      "MAP - Accuracy: 0.6667, Average Token Count: 442831.47\n"
     ]
    },
    {
     "name": "stderr",
     "output_type": "stream",
     "text": []
    },
    {
     "name": "stdout",
     "output_type": "stream",
     "text": [
      "MAP Min N Required [10, 32, 10, 10, 32, 10, 32, 10, 32, 32, 32, 32, 32, 32, 32, 10, 10, 32, 10, 32, 32, 23, 32, 16, 32, 32, 10, 32, 32, 32]\n",
      "MAP - Target Score: 0.7, Percentile: 0.05\n",
      "MAP - Accuracy: 0.6667, Average Token Count: 441306.00\n"
     ]
    },
    {
     "name": "stderr",
     "output_type": "stream",
     "text": []
    },
    {
     "name": "stdout",
     "output_type": "stream",
     "text": [
      "MAP Min N Required [10, 32, 10, 10, 32, 10, 32, 10, 32, 32, 32, 32, 32, 32, 32, 10, 10, 32, 10, 32, 32, 20, 32, 14, 32, 31, 10, 32, 32, 32]\n",
      "MAP - Target Score: 0.7, Percentile: 0.075\n",
      "MAP - Accuracy: 0.6667, Average Token Count: 438361.23\n"
     ]
    },
    {
     "name": "stderr",
     "output_type": "stream",
     "text": [
      "Target Score (MAP):  12%|█▎        | 1/8 [00:01<00:10,  1.48s/it]"
     ]
    },
    {
     "name": "stdout",
     "output_type": "stream",
     "text": [
      "MAP Min N Required [10, 32, 10, 10, 32, 10, 32, 10, 32, 32, 32, 32, 32, 32, 32, 10, 10, 32, 10, 32, 32, 17, 32, 12, 32, 27, 10, 32, 32, 32]\n",
      "MAP - Target Score: 0.7, Percentile: 0.1\n",
      "MAP - Accuracy: 0.6667, Average Token Count: 433290.90\n"
     ]
    },
    {
     "name": "stderr",
     "output_type": "stream",
     "text": []
    },
    {
     "name": "stdout",
     "output_type": "stream",
     "text": [
      "MAP Min N Required [10, 32, 19, 21, 32, 10, 32, 10, 32, 32, 32, 32, 32, 32, 32, 10, 10, 32, 11, 32, 32, 32, 32, 32, 32, 32, 11, 32, 32, 32]\n",
      "MAP - Target Score: 0.75, Percentile: 0.01\n",
      "MAP - Accuracy: 0.6667, Average Token Count: 458606.07\n"
     ]
    },
    {
     "name": "stderr",
     "output_type": "stream",
     "text": []
    },
    {
     "name": "stdout",
     "output_type": "stream",
     "text": [
      "MAP Min N Required [10, 32, 16, 18, 32, 10, 32, 10, 32, 32, 32, 32, 32, 32, 32, 10, 10, 32, 10, 32, 32, 32, 32, 32, 32, 32, 10, 32, 32, 32]\n",
      "MAP - Target Score: 0.75, Percentile: 0.02\n",
      "MAP - Accuracy: 0.6667, Average Token Count: 456036.00\n"
     ]
    },
    {
     "name": "stderr",
     "output_type": "stream",
     "text": []
    },
    {
     "name": "stdout",
     "output_type": "stream",
     "text": [
      "MAP Min N Required [10, 32, 14, 15, 32, 10, 32, 10, 32, 32, 32, 32, 32, 32, 32, 10, 10, 32, 10, 32, 32, 32, 32, 30, 32, 32, 10, 32, 32, 32]\n",
      "MAP - Target Score: 0.75, Percentile: 0.035\n",
      "MAP - Accuracy: 0.6667, Average Token Count: 453682.50\n"
     ]
    },
    {
     "name": "stderr",
     "output_type": "stream",
     "text": []
    },
    {
     "name": "stdout",
     "output_type": "stream",
     "text": [
      "MAP Min N Required [10, 32, 12, 14, 32, 10, 32, 10, 32, 32, 32, 32, 32, 32, 32, 10, 10, 32, 10, 32, 32, 32, 32, 27, 32, 32, 10, 32, 32, 32]\n",
      "MAP - Target Score: 0.75, Percentile: 0.05\n",
      "MAP - Accuracy: 0.6667, Average Token Count: 451328.90\n"
     ]
    },
    {
     "name": "stderr",
     "output_type": "stream",
     "text": []
    },
    {
     "name": "stdout",
     "output_type": "stream",
     "text": [
      "MAP Min N Required [10, 32, 11, 12, 32, 10, 32, 10, 32, 32, 32, 32, 32, 32, 32, 10, 10, 32, 10, 32, 32, 32, 32, 24, 32, 32, 10, 32, 32, 32]\n",
      "MAP - Target Score: 0.75, Percentile: 0.075\n",
      "MAP - Accuracy: 0.6667, Average Token Count: 449146.50\n"
     ]
    },
    {
     "name": "stderr",
     "output_type": "stream",
     "text": [
      "Target Score (MAP):  25%|██▌       | 2/8 [00:03<00:09,  1.54s/it]"
     ]
    },
    {
     "name": "stdout",
     "output_type": "stream",
     "text": [
      "MAP Min N Required [10, 32, 10, 11, 32, 10, 32, 10, 32, 32, 32, 32, 32, 32, 32, 10, 10, 32, 10, 32, 32, 32, 32, 21, 32, 32, 10, 32, 32, 32]\n",
      "MAP - Target Score: 0.75, Percentile: 0.1\n",
      "MAP - Accuracy: 0.6667, Average Token Count: 447210.37\n"
     ]
    },
    {
     "name": "stderr",
     "output_type": "stream",
     "text": []
    },
    {
     "name": "stdout",
     "output_type": "stream",
     "text": [
      "MAP Min N Required [12, 32, 32, 32, 32, 10, 32, 10, 32, 32, 32, 32, 32, 32, 32, 10, 10, 32, 28, 32, 32, 32, 32, 32, 32, 32, 25, 32, 32, 32]\n",
      "MAP - Target Score: 0.8, Percentile: 0.01\n",
      "MAP - Accuracy: 0.6667, Average Token Count: 477893.57\n"
     ]
    },
    {
     "name": "stderr",
     "output_type": "stream",
     "text": []
    },
    {
     "name": "stdout",
     "output_type": "stream",
     "text": [
      "MAP Min N Required [10, 32, 32, 32, 32, 10, 32, 10, 32, 32, 32, 32, 32, 32, 32, 10, 10, 32, 24, 32, 32, 32, 32, 32, 32, 32, 22, 32, 32, 32]\n",
      "MAP - Target Score: 0.8, Percentile: 0.02\n",
      "MAP - Accuracy: 0.6667, Average Token Count: 475354.27\n"
     ]
    },
    {
     "name": "stderr",
     "output_type": "stream",
     "text": []
    },
    {
     "name": "stdout",
     "output_type": "stream",
     "text": [
      "MAP Min N Required [10, 32, 32, 32, 32, 10, 32, 10, 32, 32, 32, 32, 32, 32, 32, 10, 10, 32, 20, 32, 32, 32, 32, 32, 32, 32, 19, 32, 32, 32]\n",
      "MAP - Target Score: 0.8, Percentile: 0.035\n",
      "MAP - Accuracy: 0.6667, Average Token Count: 473166.87\n"
     ]
    },
    {
     "name": "stderr",
     "output_type": "stream",
     "text": []
    },
    {
     "name": "stdout",
     "output_type": "stream",
     "text": [
      "MAP Min N Required [10, 32, 32, 32, 32, 10, 32, 10, 32, 32, 32, 32, 32, 32, 32, 10, 10, 32, 18, 32, 32, 32, 32, 32, 32, 32, 17, 32, 32, 32]\n",
      "MAP - Target Score: 0.8, Percentile: 0.05\n",
      "MAP - Accuracy: 0.6667, Average Token Count: 471745.23\n"
     ]
    },
    {
     "name": "stderr",
     "output_type": "stream",
     "text": []
    },
    {
     "name": "stdout",
     "output_type": "stream",
     "text": [
      "MAP Min N Required [10, 32, 29, 32, 32, 10, 32, 10, 32, 32, 32, 32, 32, 32, 32, 10, 10, 32, 16, 32, 32, 32, 32, 32, 32, 32, 15, 32, 32, 32]\n",
      "MAP - Target Score: 0.8, Percentile: 0.075\n",
      "MAP - Accuracy: 0.6667, Average Token Count: 469643.90\n"
     ]
    },
    {
     "name": "stderr",
     "output_type": "stream",
     "text": [
      "Target Score (MAP):  38%|███▊      | 3/8 [00:04<00:08,  1.63s/it]"
     ]
    },
    {
     "name": "stdout",
     "output_type": "stream",
     "text": [
      "MAP Min N Required [10, 32, 26, 32, 32, 10, 32, 10, 32, 32, 32, 32, 32, 32, 32, 10, 10, 32, 14, 32, 32, 32, 32, 32, 32, 32, 13, 32, 32, 32]\n",
      "MAP - Target Score: 0.8, Percentile: 0.1\n",
      "MAP - Accuracy: 0.6667, Average Token Count: 466857.00\n"
     ]
    },
    {
     "name": "stderr",
     "output_type": "stream",
     "text": []
    },
    {
     "name": "stdout",
     "output_type": "stream",
     "text": [
      "MAP Min N Required [17, 32, 32, 32, 32, 12, 32, 10, 32, 32, 32, 32, 32, 32, 32, 10, 13, 32, 32, 32, 32, 32, 32, 32, 32, 32, 32, 32, 32, 32]\n",
      "MAP - Target Score: 0.85, Percentile: 0.01\n",
      "MAP - Accuracy: 0.6667, Average Token Count: 483265.17\n"
     ]
    },
    {
     "name": "stderr",
     "output_type": "stream",
     "text": []
    },
    {
     "name": "stdout",
     "output_type": "stream",
     "text": [
      "MAP Min N Required [15, 32, 32, 32, 32, 10, 32, 10, 32, 32, 32, 32, 32, 32, 32, 10, 11, 32, 32, 32, 32, 32, 32, 32, 32, 32, 32, 32, 32, 32]\n",
      "MAP - Target Score: 0.85, Percentile: 0.02\n",
      "MAP - Accuracy: 0.6667, Average Token Count: 482263.37\n"
     ]
    },
    {
     "name": "stderr",
     "output_type": "stream",
     "text": []
    },
    {
     "name": "stdout",
     "output_type": "stream",
     "text": [
      "MAP Min N Required [13, 32, 32, 32, 32, 10, 32, 10, 32, 32, 32, 32, 32, 32, 32, 10, 10, 32, 32, 32, 32, 32, 32, 32, 32, 32, 32, 32, 32, 32]\n",
      "MAP - Target Score: 0.85, Percentile: 0.035\n",
      "MAP - Accuracy: 0.6667, Average Token Count: 481826.90\n"
     ]
    },
    {
     "name": "stderr",
     "output_type": "stream",
     "text": []
    },
    {
     "name": "stdout",
     "output_type": "stream",
     "text": [
      "MAP Min N Required [11, 32, 32, 32, 32, 10, 32, 10, 32, 32, 32, 32, 32, 32, 32, 10, 10, 32, 32, 32, 32, 32, 32, 32, 32, 32, 32, 32, 32, 32]\n",
      "MAP - Target Score: 0.85, Percentile: 0.05\n",
      "MAP - Accuracy: 0.6667, Average Token Count: 481556.47\n"
     ]
    },
    {
     "name": "stderr",
     "output_type": "stream",
     "text": []
    },
    {
     "name": "stdout",
     "output_type": "stream",
     "text": [
      "MAP Min N Required [10, 32, 32, 32, 32, 10, 32, 10, 32, 32, 32, 32, 32, 32, 32, 10, 10, 32, 32, 32, 32, 32, 32, 32, 32, 32, 32, 32, 32, 32]\n",
      "MAP - Target Score: 0.85, Percentile: 0.075\n",
      "MAP - Accuracy: 0.6667, Average Token Count: 481390.67\n"
     ]
    },
    {
     "name": "stderr",
     "output_type": "stream",
     "text": [
      "Target Score (MAP):  50%|█████     | 4/8 [00:06<00:06,  1.70s/it]"
     ]
    },
    {
     "name": "stdout",
     "output_type": "stream",
     "text": [
      "MAP Min N Required [10, 32, 32, 32, 32, 10, 32, 10, 32, 32, 32, 32, 32, 32, 32, 10, 10, 32, 32, 32, 32, 32, 32, 32, 32, 32, 32, 32, 32, 32]\n",
      "MAP - Target Score: 0.85, Percentile: 0.1\n",
      "MAP - Accuracy: 0.6667, Average Token Count: 481390.67\n"
     ]
    },
    {
     "name": "stderr",
     "output_type": "stream",
     "text": []
    },
    {
     "name": "stdout",
     "output_type": "stream",
     "text": [
      "MAP Min N Required [29, 32, 32, 32, 32, 21, 32, 15, 32, 32, 32, 32, 32, 32, 32, 10, 32, 32, 32, 32, 32, 32, 32, 32, 32, 32, 32, 32, 32, 32]\n",
      "MAP - Target Score: 0.9, Percentile: 0.01\n",
      "MAP - Accuracy: 0.6667, Average Token Count: 490894.60\n"
     ]
    },
    {
     "name": "stderr",
     "output_type": "stream",
     "text": []
    },
    {
     "name": "stdout",
     "output_type": "stream",
     "text": [
      "MAP Min N Required [25, 32, 32, 32, 32, 18, 32, 13, 32, 32, 32, 32, 32, 32, 32, 10, 32, 32, 32, 32, 32, 32, 32, 32, 32, 32, 32, 32, 32, 32]\n",
      "MAP - Target Score: 0.9, Percentile: 0.02\n",
      "MAP - Accuracy: 0.6667, Average Token Count: 489663.40\n"
     ]
    },
    {
     "name": "stderr",
     "output_type": "stream",
     "text": []
    },
    {
     "name": "stdout",
     "output_type": "stream",
     "text": [
      "MAP Min N Required [21, 32, 32, 32, 32, 15, 32, 11, 32, 32, 32, 32, 32, 32, 32, 10, 29, 32, 32, 32, 32, 32, 32, 32, 32, 32, 32, 32, 32, 32]\n",
      "MAP - Target Score: 0.9, Percentile: 0.035\n",
      "MAP - Accuracy: 0.6667, Average Token Count: 487726.80\n"
     ]
    },
    {
     "name": "stderr",
     "output_type": "stream",
     "text": []
    },
    {
     "name": "stdout",
     "output_type": "stream",
     "text": [
      "MAP Min N Required [19, 32, 32, 32, 32, 14, 32, 10, 32, 32, 32, 32, 32, 32, 32, 10, 26, 32, 32, 32, 32, 32, 32, 32, 32, 32, 32, 32, 32, 32]\n",
      "MAP - Target Score: 0.9, Percentile: 0.05\n",
      "MAP - Accuracy: 0.6667, Average Token Count: 486477.77\n"
     ]
    },
    {
     "name": "stderr",
     "output_type": "stream",
     "text": []
    },
    {
     "name": "stdout",
     "output_type": "stream",
     "text": [
      "MAP Min N Required [17, 32, 32, 32, 32, 12, 32, 10, 32, 32, 32, 32, 32, 32, 32, 10, 23, 32, 32, 32, 32, 32, 32, 32, 32, 32, 32, 32, 32, 32]\n",
      "MAP - Target Score: 0.9, Percentile: 0.075\n",
      "MAP - Accuracy: 0.6667, Average Token Count: 485256.57\n"
     ]
    },
    {
     "name": "stderr",
     "output_type": "stream",
     "text": [
      "Target Score (MAP):  62%|██████▎   | 5/8 [00:08<00:05,  1.81s/it]"
     ]
    },
    {
     "name": "stdout",
     "output_type": "stream",
     "text": [
      "MAP Min N Required [15, 32, 32, 32, 32, 11, 32, 10, 32, 32, 32, 32, 32, 32, 32, 10, 20, 32, 32, 32, 32, 32, 32, 32, 32, 32, 32, 32, 32, 32]\n",
      "MAP - Target Score: 0.9, Percentile: 0.1\n",
      "MAP - Accuracy: 0.6667, Average Token Count: 484167.70\n"
     ]
    },
    {
     "name": "stderr",
     "output_type": "stream",
     "text": []
    },
    {
     "name": "stdout",
     "output_type": "stream",
     "text": [
      "MAP Min N Required [32, 32, 32, 32, 32, 30, 32, 22, 32, 32, 32, 32, 32, 32, 32, 10, 32, 32, 32, 32, 32, 32, 32, 32, 32, 32, 32, 32, 32, 32]\n",
      "MAP - Target Score: 0.925, Percentile: 0.01\n",
      "MAP - Accuracy: 0.6667, Average Token Count: 494520.80\n"
     ]
    },
    {
     "name": "stderr",
     "output_type": "stream",
     "text": []
    },
    {
     "name": "stdout",
     "output_type": "stream",
     "text": [
      "MAP Min N Required [32, 32, 32, 32, 32, 25, 32, 18, 32, 32, 32, 32, 32, 32, 32, 10, 32, 32, 32, 32, 32, 32, 32, 32, 32, 32, 32, 32, 32, 32]\n",
      "MAP - Target Score: 0.925, Percentile: 0.02\n",
      "MAP - Accuracy: 0.6667, Average Token Count: 492543.03\n"
     ]
    },
    {
     "name": "stderr",
     "output_type": "stream",
     "text": []
    },
    {
     "name": "stdout",
     "output_type": "stream",
     "text": [
      "MAP Min N Required [30, 32, 32, 32, 32, 22, 32, 16, 32, 32, 32, 32, 32, 32, 32, 10, 32, 32, 32, 32, 32, 32, 32, 32, 32, 32, 32, 32, 32, 32]\n",
      "MAP - Target Score: 0.925, Percentile: 0.035\n",
      "MAP - Accuracy: 0.6667, Average Token Count: 491416.20\n"
     ]
    },
    {
     "name": "stderr",
     "output_type": "stream",
     "text": []
    },
    {
     "name": "stdout",
     "output_type": "stream",
     "text": [
      "MAP Min N Required [27, 32, 32, 32, 32, 20, 32, 14, 32, 32, 32, 32, 32, 32, 32, 10, 32, 32, 32, 32, 32, 32, 32, 32, 32, 32, 32, 32, 32, 32]\n",
      "MAP - Target Score: 0.925, Percentile: 0.05\n",
      "MAP - Accuracy: 0.6667, Average Token Count: 490330.97\n"
     ]
    },
    {
     "name": "stderr",
     "output_type": "stream",
     "text": []
    },
    {
     "name": "stdout",
     "output_type": "stream",
     "text": [
      "MAP Min N Required [24, 32, 32, 32, 32, 17, 32, 12, 32, 32, 32, 32, 32, 32, 32, 10, 32, 32, 32, 32, 32, 32, 32, 32, 32, 32, 32, 32, 32, 32]\n",
      "MAP - Target Score: 0.925, Percentile: 0.075\n",
      "MAP - Accuracy: 0.6667, Average Token Count: 489155.17\n"
     ]
    },
    {
     "name": "stderr",
     "output_type": "stream",
     "text": [
      "Target Score (MAP):  75%|███████▌  | 6/8 [00:10<00:03,  1.88s/it]"
     ]
    },
    {
     "name": "stdout",
     "output_type": "stream",
     "text": [
      "MAP Min N Required [21, 32, 32, 32, 32, 15, 32, 11, 32, 32, 32, 32, 32, 32, 32, 10, 32, 32, 32, 32, 32, 32, 32, 32, 32, 32, 32, 32, 32, 32]\n",
      "MAP - Target Score: 0.925, Percentile: 0.1\n",
      "MAP - Accuracy: 0.6667, Average Token Count: 488315.90\n"
     ]
    },
    {
     "name": "stderr",
     "output_type": "stream",
     "text": []
    },
    {
     "name": "stdout",
     "output_type": "stream",
     "text": [
      "MAP Min N Required [32, 32, 32, 32, 32, 32, 32, 32, 32, 32, 32, 32, 32, 32, 32, 14, 32, 32, 32, 32, 32, 32, 32, 32, 32, 32, 32, 32, 32, 32]\n",
      "MAP - Target Score: 0.95, Percentile: 0.01\n",
      "MAP - Accuracy: 0.6667, Average Token Count: 497355.47\n"
     ]
    },
    {
     "name": "stderr",
     "output_type": "stream",
     "text": []
    },
    {
     "name": "stdout",
     "output_type": "stream",
     "text": [
      "MAP Min N Required [32, 32, 32, 32, 32, 32, 32, 29, 32, 32, 32, 32, 32, 32, 32, 12, 32, 32, 32, 32, 32, 32, 32, 32, 32, 32, 32, 32, 32, 32]\n",
      "MAP - Target Score: 0.95, Percentile: 0.02\n",
      "MAP - Accuracy: 0.6667, Average Token Count: 496413.43\n"
     ]
    },
    {
     "name": "stderr",
     "output_type": "stream",
     "text": []
    },
    {
     "name": "stdout",
     "output_type": "stream",
     "text": [
      "MAP Min N Required [32, 32, 32, 32, 32, 32, 32, 25, 32, 32, 32, 32, 32, 32, 32, 10, 32, 32, 32, 32, 32, 32, 32, 32, 32, 32, 32, 32, 32, 32]\n",
      "MAP - Target Score: 0.95, Percentile: 0.035\n",
      "MAP - Accuracy: 0.6667, Average Token Count: 495274.23\n"
     ]
    },
    {
     "name": "stderr",
     "output_type": "stream",
     "text": []
    },
    {
     "name": "stdout",
     "output_type": "stream",
     "text": [
      "MAP Min N Required [32, 32, 32, 32, 32, 31, 32, 23, 32, 32, 32, 32, 32, 32, 32, 10, 32, 32, 32, 32, 32, 32, 32, 32, 32, 32, 32, 32, 32, 32]\n",
      "MAP - Target Score: 0.95, Percentile: 0.05\n",
      "MAP - Accuracy: 0.6667, Average Token Count: 494837.17\n"
     ]
    },
    {
     "name": "stderr",
     "output_type": "stream",
     "text": []
    },
    {
     "name": "stdout",
     "output_type": "stream",
     "text": [
      "MAP Min N Required [32, 32, 32, 32, 32, 27, 32, 20, 32, 32, 32, 32, 32, 32, 32, 10, 32, 32, 32, 32, 32, 32, 32, 32, 32, 32, 32, 32, 32, 32]\n",
      "MAP - Target Score: 0.95, Percentile: 0.075\n",
      "MAP - Accuracy: 0.6667, Average Token Count: 493703.50\n"
     ]
    },
    {
     "name": "stderr",
     "output_type": "stream",
     "text": [
      "Target Score (MAP):  88%|████████▊ | 7/8 [00:12<00:01,  1.99s/it]"
     ]
    },
    {
     "name": "stdout",
     "output_type": "stream",
     "text": [
      "MAP Min N Required [32, 32, 32, 32, 32, 24, 32, 18, 32, 32, 32, 32, 32, 32, 32, 10, 32, 32, 32, 32, 32, 32, 32, 32, 32, 32, 32, 32, 32, 32]\n",
      "MAP - Target Score: 0.95, Percentile: 0.1\n",
      "MAP - Accuracy: 0.6667, Average Token Count: 492412.10\n"
     ]
    },
    {
     "name": "stderr",
     "output_type": "stream",
     "text": []
    },
    {
     "name": "stdout",
     "output_type": "stream",
     "text": [
      "MAP Min N Required [32, 32, 32, 32, 32, 32, 32, 32, 32, 32, 32, 32, 32, 32, 32, 32, 32, 32, 32, 32, 32, 32, 32, 32, 32, 32, 32, 32, 32, 32]\n",
      "MAP - Target Score: 0.975, Percentile: 0.01\n",
      "MAP - Accuracy: 0.6667, Average Token Count: 500502.67\n"
     ]
    },
    {
     "name": "stderr",
     "output_type": "stream",
     "text": []
    },
    {
     "name": "stdout",
     "output_type": "stream",
     "text": [
      "MAP Min N Required [32, 32, 32, 32, 32, 32, 32, 32, 32, 32, 32, 32, 32, 32, 32, 32, 32, 32, 32, 32, 32, 32, 32, 32, 32, 32, 32, 32, 32, 32]\n",
      "MAP - Target Score: 0.975, Percentile: 0.02\n",
      "MAP - Accuracy: 0.6667, Average Token Count: 500502.67\n"
     ]
    },
    {
     "name": "stderr",
     "output_type": "stream",
     "text": []
    },
    {
     "name": "stdout",
     "output_type": "stream",
     "text": [
      "MAP Min N Required [32, 32, 32, 32, 32, 32, 32, 32, 32, 32, 32, 32, 32, 32, 32, 32, 32, 32, 32, 32, 32, 32, 32, 32, 32, 32, 32, 32, 32, 32]\n",
      "MAP - Target Score: 0.975, Percentile: 0.035\n",
      "MAP - Accuracy: 0.6667, Average Token Count: 500502.67\n"
     ]
    },
    {
     "name": "stderr",
     "output_type": "stream",
     "text": []
    },
    {
     "name": "stdout",
     "output_type": "stream",
     "text": [
      "MAP Min N Required [32, 32, 32, 32, 32, 32, 32, 32, 32, 32, 32, 32, 32, 32, 32, 32, 32, 32, 32, 32, 32, 32, 32, 32, 32, 32, 32, 32, 32, 32]\n",
      "MAP - Target Score: 0.975, Percentile: 0.05\n",
      "MAP - Accuracy: 0.6667, Average Token Count: 500502.67\n"
     ]
    },
    {
     "name": "stderr",
     "output_type": "stream",
     "text": []
    },
    {
     "name": "stdout",
     "output_type": "stream",
     "text": [
      "MAP Min N Required [32, 32, 32, 32, 32, 32, 32, 32, 32, 32, 32, 32, 32, 32, 32, 27, 32, 32, 32, 32, 32, 32, 32, 32, 32, 32, 32, 32, 32, 32]\n",
      "MAP - Target Score: 0.975, Percentile: 0.075\n",
      "MAP - Accuracy: 0.6667, Average Token Count: 499616.90\n"
     ]
    },
    {
     "name": "stderr",
     "output_type": "stream",
     "text": [
      "Target Score (MAP): 100%|██████████| 8/8 [00:15<00:00,  1.88s/it]"
     ]
    },
    {
     "name": "stdout",
     "output_type": "stream",
     "text": [
      "MAP Min N Required [32, 32, 32, 32, 32, 32, 32, 32, 32, 32, 32, 32, 32, 32, 32, 24, 32, 32, 32, 32, 32, 32, 32, 32, 32, 32, 32, 32, 32, 32]\n",
      "MAP - Target Score: 0.975, Percentile: 0.1\n",
      "MAP - Accuracy: 0.6667, Average Token Count: 499141.07\n"
     ]
    },
    {
     "name": "stderr",
     "output_type": "stream",
     "text": [
      "\n"
     ]
    },
    {
     "data": {
      "image/png": "[encoded data removed]",
      "text/plain": [
       "<Figure size 1200x800 with 1 Axes>"
      ]
     },
     "metadata": {},
     "output_type": "display_data"
    },
    {
     "name": "stdout",
     "output_type": "stream",
     "text": [
      "\n",
      "MLE Pareto-optimal configurations:\n",
      "Target Score: 0.7, Percentile: 0.1, Accuracy: 0.6667, Avg Token Count: 446103.17\n",
      "\n",
      "MAP Pareto-optimal configurations:\n",
      "Target Score: 0.7, Percentile: 0.1, Accuracy: 0.6667, Avg Token Count: 433290.90\n"
     ]
    }
   ],
   "source": [
    "max_N_panel = 32\n",
    "print(\"Target Score Panel:\", target_score_panel_values)\n",
    "print(\"Percentile Panel:\", percentile_panel_values)\n",
    "print(\"Max N:\", max_N_panel)\n",
    "\n",
    "# Evaluate MLE results\n",
    "print(\"\\nEvaluating MLE Results...\")\n",
    "truncated_normal_params_all = mle_estimated_params\n",
    "mle_grid_search_results = []\n",
    "\n",
    "for target_score in tqdm(target_score_panel_values, desc=\"Target Score (MLE)\"):\n",
    "    for percentile in tqdm(percentile_panel_values, desc=\"Percentile\", leave=False):\n",
    "        min_N_required = []\n",
    "        for i, (mu, sigma) in enumerate(truncated_normal_params_all):\n",
    "            min_N = find_min_N_for_threshold(mu, sigma, target_score=target_score, \n",
    "                                        percentile=percentile, max_N=max_N_panel)\n",
    "            if min_N < peek_number:\n",
    "                min_N = peek_number\n",
    "            min_N_required.append(min_N)\n",
    "        print(\"MLE Min N Required\", min_N_required)\n",
    "        \n",
    "        # Evaluate model performance with these parameters\n",
    "        correct = 0\n",
    "        entire_token_count = 0\n",
    "\n",
    "        for idx, item in enumerate(val_texts):\n",
    "            N = min_N_required[idx]\n",
    "            completions = val_completions[idx][0][:N]\n",
    "            scores = val_scores[idx][0][:N]\n",
    "            completion_tokens = val_completion_tokens[idx][0][:N]\n",
    "            total_tokens = sum(completion_tokens)\n",
    "\n",
    "            highest_scores_idx = scores.index(max(scores))\n",
    "\n",
    "            while completions[highest_scores_idx] == \"\":\n",
    "                scores[highest_scores_idx] = 0 \n",
    "                if max(scores) == 0: \n",
    "                    break\n",
    "                highest_scores_idx = scores.index(max(scores))\n",
    "\n",
    "            output = completions[highest_scores_idx]\n",
    "            answer = get_answer(output)\n",
    "\n",
    "            if verify_extracted_answer(val_gt_answers[idx], answer):\n",
    "                correct += 1\n",
    "            entire_token_count += total_tokens\n",
    "\n",
    "        accuracy = correct / len(val_texts)\n",
    "        average_token_count = entire_token_count / len(val_texts)\n",
    "        \n",
    "        print(f\"MLE - Target Score: {target_score}, Percentile: {percentile}\")\n",
    "        print(f\"MLE - Accuracy: {accuracy:.4f}, Average Token Count: {average_token_count:.2f}\")\n",
    "        \n",
    "        mle_grid_search_results.append({\n",
    "            'target_score': target_score,\n",
    "            'percentile': percentile,\n",
    "            'accuracy': accuracy,\n",
    "            'average_token_count': average_token_count\n",
    "        })\n",
    "        \n",
    "with open(f'{DATASET}_OptScale_MLE_results_{max_N_panel}.json', 'w') as f:\n",
    "    json.dump(mle_grid_search_results, f)\n",
    "\n",
    "\n",
    "# Evaluate MAP results\n",
    "print(\"\\nEvaluating MAP Results...\")\n",
    "truncated_normal_params_all = map_estimated_params\n",
    "map_grid_search_results = []\n",
    "\n",
    "for target_score in tqdm(target_score_panel_values, desc=\"Target Score (MAP)\"):\n",
    "    for percentile in tqdm(percentile_panel_values, desc=\"Percentile\", leave=False):\n",
    "        min_N_required = []\n",
    "        for i, (mu, sigma) in enumerate(truncated_normal_params_all):\n",
    "            min_N = find_min_N_for_threshold(mu, sigma, target_score=target_score, \n",
    "                                        percentile=percentile, max_N=max_N_panel)\n",
    "            if min_N < peek_number:\n",
    "                min_N = peek_number\n",
    "            min_N_required.append(min_N)\n",
    "        print(\"MAP Min N Required\", min_N_required)\n",
    "        \n",
    "        # Evaluate model performance with these parameters\n",
    "        correct = 0\n",
    "        entire_token_count = 0\n",
    "\n",
    "        for idx, item in enumerate(val_texts):\n",
    "            N = min_N_required[idx]\n",
    "            completions = val_completions[idx][0][:N]\n",
    "            scores = val_scores[idx][0][:N]\n",
    "            completion_tokens = val_completion_tokens[idx][0][:N]\n",
    "            total_tokens = sum(completion_tokens)\n",
    "\n",
    "            highest_scores_idx = scores.index(max(scores))\n",
    "\n",
    "            while completions[highest_scores_idx] == \"\":\n",
    "                scores[highest_scores_idx] = 0 \n",
    "                if max(scores) == 0: \n",
    "                    break\n",
    "                highest_scores_idx = scores.index(max(scores))\n",
    "\n",
    "            output = completions[highest_scores_idx]\n",
    "            answer = get_answer(output)\n",
    "\n",
    "            if verify_extracted_answer(val_gt_answers[idx], answer):\n",
    "                correct += 1\n",
    "            entire_token_count += total_tokens\n",
    "\n",
    "        accuracy = correct / len(val_texts)\n",
    "        average_token_count = entire_token_count / len(val_texts)\n",
    "        \n",
    "        print(f\"MAP - Target Score: {target_score}, Percentile: {percentile}\")\n",
    "        print(f\"MAP - Accuracy: {accuracy:.4f}, Average Token Count: {average_token_count:.2f}\")\n",
    "        \n",
    "        map_grid_search_results.append({\n",
    "            'target_score': target_score,\n",
    "            'percentile': percentile,\n",
    "            'accuracy': accuracy,\n",
    "            'average_token_count': average_token_count\n",
    "        })\n",
    "        \n",
    "with open(f'{DATASET}_OptScale_MAP_results_{max_N_panel}.json', 'w') as f:\n",
    "    json.dump(map_grid_search_results, f)\n",
    "\n",
    "plot_mle_map_optscale(mle_grid_search_results, map_grid_search_results, baseline_average_token_counts, baseline_accuracy_values, max_N_panel)"
   ]
  },
  {
   "cell_type": "code",
   "execution_count": 10,
   "metadata": {},
   "outputs": [
    {
     "data": {
      "image/png": "[encoded data removed]",
      "text/plain": [
       "<Figure size 1200x800 with 2 Axes>"
      ]
     },
     "metadata": {},
     "output_type": "display_data"
    },
    {
     "data": {
      "image/png": "[encoded data removed]",
      "text/plain": [
       "<Figure size 1200x800 with 2 Axes>"
      ]
     },
     "metadata": {},
     "output_type": "display_data"
    }
   ],
   "source": [
    "plot_optscale_start(mle_grid_search_results, baseline_average_token_counts, baseline_accuracy_values, max_N_panel, 17)\n",
    "plot_optscale_start(map_grid_search_results, baseline_average_token_counts, baseline_accuracy_values, max_N_panel, 17)"
   ]
  },
  {
   "cell_type": "code",
   "execution_count": 11,
   "metadata": {},
   "outputs": [
    {
     "name": "stdout",
     "output_type": "stream",
     "text": [
      "0         0.5997      0.1059    0.9761    0.0106    0.8533    0.5706    0.9801    0.0211\n",
      "1         0.7376      0.1213    0.5915    0.0566    0.5938    0.0572    0.6037    0.0535\n",
      "2         0.5715      0.1018    0.7042    0.0845    0.6996    0.0849    0.7135    0.0874\n",
      "3         0.5357      0.0756    0.6911    0.0714    0.6872    0.0715    0.6907    0.0764\n",
      "4         0.5198      0.1314    0.6009    0.0588    0.5995    0.0594    0.6291    0.0796\n",
      "5         0.6532      0.0969    0.9794    0.0076    0.9154    0.5572    0.9797    0.0094\n",
      "6         0.6889      0.1328    0.4359    0.0539    0.4396    0.0546    0.4544    0.0792\n",
      "7         0.6979      0.1068    3.1984    0.5950    0.9208    0.1770    3.8541    0.5998\n",
      "8         0.5785      0.0865    0.5042    0.0635    0.5056    0.0638    0.5131    0.0671\n",
      "9         0.6922      0.1633    0.3665    0.0427    0.3582    0.0439    0.3717    0.0420\n",
      "10        0.6509      0.1193    0.3185    0.0380    0.3931    0.0844    0.3286    0.0399\n",
      "11        0.6163      0.1217    0.5332    0.0559    0.5345    0.0564    0.5291    0.0580\n",
      "12        0.7201      0.0871    0.4328    0.0381    0.4418    0.0678    0.4272    0.0375\n",
      "13        0.7495      0.1252    0.4409    0.0292    0.4502    0.0229    0.4439    0.0249\n",
      "14        0.4176      0.0512    0.3950    0.0211    0.4176    0.0512    0.3955    0.0332\n",
      "15        0.6432      0.1218    0.9635    0.0232    0.9623    0.0230    0.9685    0.0287\n",
      "16        0.4786      0.0956    0.8662    0.0489    0.8095    0.0652    0.8774    0.0926\n",
      "17        0.6420      0.1010    0.4301    0.0472    0.4325    0.0476    0.4327    0.0470\n",
      "18        0.6636      0.1143    0.7257    0.0975    0.7228    0.0979    0.7182    0.0956\n",
      "19        0.7491      0.1112    0.4826    0.0434    0.5166    0.0425    0.4856    0.0441\n",
      "20        0.7925      0.0884    0.4438    0.0710    0.5730    0.1343    0.4269    0.0646\n",
      "21        0.6538      0.0702    0.5891    0.0875    0.5914    0.0872    0.5953    0.0794\n",
      "22        0.7403      0.1377    0.4454    0.0792    0.4878    0.0767    0.4415    0.0669\n",
      "23        0.7223      0.0959    0.4670    0.0974    0.4787    0.0980    0.4913    0.1059\n",
      "24        0.6375      0.0628    0.4807    0.0540    0.4829    0.0541    0.5135    0.0686\n",
      "25        0.6262      0.1118    0.3786    0.0452    0.4666    0.0825    0.3794    0.0528\n",
      "26        0.7778      0.1061    0.6562    0.1519    0.6694    0.1510    0.6600    0.1398\n",
      "27        0.6402      0.1144    0.3976    0.0491    0.4005    0.0496    0.3922    0.0440\n",
      "28        0.6544      0.1343    0.4659    0.0672    0.4702    0.0681    0.4997    0.0838\n",
      "29        0.5893      0.1102    0.3821    0.0399    0.4514    0.0814    0.3918    0.0376\n",
      "\n",
      "Performance Comparison (MSE against ground truth):\n",
      "Predictor MSE - μ: 0.387183, σ: 0.011539\n",
      "MLE MSE      - μ: 0.014506, σ: 0.000148\n",
      "MAP MSE      - μ: 0.289126, σ: 0.026476\n",
      "\n",
      "Statistics of Different Estimation Methods:\n",
      "Predictor Estimates:\n",
      "Mean μ: 0.6480 ± 0.0858\n",
      "Mean σ: 0.1068 ± 0.0234\n",
      "\n",
      "MLE Estimates (10 samples):\n",
      "Mean μ: 0.6448 ± 0.5088\n",
      "Mean σ: 0.0743 ± 0.1008\n",
      "\n",
      "MAP Estimates (10 samples):\n",
      "Mean μ: 0.5775 ± 0.1691\n",
      "Mean σ: 0.1061 ± 0.1267\n",
      "\n",
      "Ground Truth (100 samples):\n",
      "Mean μ: 0.6729 ± 0.6188\n",
      "Mean σ: 0.0787 ± 0.1007\n"
     ]
    }
   ],
   "source": [
    "peek_number = 20\n",
    "\n",
    "mle_estimated_params = []  # Store MLE estimates\n",
    "map_estimated_params = []  # Store MAP estimates\n",
    "predictor_params = []      # Store predictor's estimates\n",
    "\n",
    "for i, (score, prediction) in enumerate(zip(val_scores, val_labels)):\n",
    "    peek_data = np.array(score[0][:peek_number])\n",
    "    \n",
    "    # Store predictor's parameters\n",
    "    prior_mu, prior_sigma = prediction\n",
    "    predictor_params.append((prior_mu, prior_sigma))\n",
    "    \n",
    "    # MLE estimation with limited data\n",
    "    initial_mu = np.mean(peek_data)\n",
    "    initial_sigma = np.std(peek_data)\n",
    "    mle_result = minimize(\n",
    "        lambda params: neg_log_likelihood(params, peek_data),\n",
    "        [initial_mu, initial_sigma],\n",
    "        bounds=[(None, None), (1e-6, None)],\n",
    "        method='L-BFGS-B'\n",
    "    )\n",
    "    mle_mu, mle_sigma = mle_result.x\n",
    "    mle_estimated_params.append((mle_mu, mle_sigma))\n",
    "    \n",
    "    # MAP estimation with limited data\n",
    "    map_result = minimize(\n",
    "        lambda params: neg_log_posterior(\n",
    "            params, \n",
    "            peek_data, \n",
    "            prior_mu=prior_mu, \n",
    "            prior_sigma=prior_sigma\n",
    "        ),\n",
    "        [prior_mu, prior_sigma],\n",
    "        bounds=[(None, None), (1e-6, None)],\n",
    "        method='L-BFGS-B'\n",
    "    )\n",
    "    map_mu, map_sigma = map_result.x\n",
    "    map_estimated_params.append((map_mu, map_sigma))\n",
    "    \n",
    "    # Print comparison for first 50 examples\n",
    "    if i < 50:\n",
    "        gt_mu, gt_sigma = original_params_compare[i]\n",
    "        print(f\"{i:<4} {prior_mu:11.4f} {prior_sigma:11.4f} {mle_mu:9.4f} {mle_sigma:9.4f} \"\n",
    "              f\"{map_mu:9.4f} {map_sigma:9.4f} {gt_mu:9.4f} {gt_sigma:9.4f}\")\n",
    "\n",
    "# Call the function to perform the analysis\n",
    "analyze_estimation_performance(predictor_params, mle_estimated_params, map_estimated_params, original_params_compare)\n"
   ]
  },
  {
   "cell_type": "code",
   "execution_count": 12,
   "metadata": {},
   "outputs": [
    {
     "name": "stdout",
     "output_type": "stream",
     "text": [
      "Target Score Panel: [0.7, 0.75, 0.8, 0.85, 0.9, 0.925, 0.95, 0.975]\n",
      "Percentile Panel: [0.01, 0.02, 0.035, 0.05, 0.075, 0.1]\n",
      "Max N: 64\n",
      "\n",
      "Evaluating MLE Results...\n"
     ]
    },
    {
     "name": "stderr",
     "output_type": "stream",
     "text": [
      "Target Score (MLE):   0%|          | 0/8 [00:00<?, ?it/s]"
     ]
    },
    {
     "name": "stdout",
     "output_type": "stream",
     "text": [
      "MLE Min N Required [20, 64, 20, 20, 64, 20, 64, 20, 64, 64, 64, 64, 64, 64, 64, 20, 20, 64, 20, 64, 64, 43, 64, 64, 64, 64, 20, 64, 64, 64]\n",
      "MLE - Target Score: 0.7, Percentile: 0.01\n",
      "MLE - Accuracy: 0.6000, Average Token Count: 891581.57\n"
     ]
    },
    {
     "name": "stderr",
     "output_type": "stream",
     "text": []
    },
    {
     "name": "stdout",
     "output_type": "stream",
     "text": [
      "MLE Min N Required [20, 64, 20, 20, 64, 20, 64, 20, 64, 64, 64, 64, 64, 64, 64, 20, 20, 64, 20, 64, 64, 37, 64, 64, 64, 64, 20, 64, 64, 64]\n",
      "MLE - Target Score: 0.7, Percentile: 0.02\n",
      "MLE - Accuracy: 0.6000, Average Token Count: 889179.03\n"
     ]
    },
    {
     "name": "stderr",
     "output_type": "stream",
     "text": []
    },
    {
     "name": "stdout",
     "output_type": "stream",
     "text": [
      "MLE Min N Required [20, 64, 20, 20, 64, 20, 64, 20, 64, 64, 64, 64, 64, 64, 64, 20, 20, 64, 20, 64, 64, 32, 64, 64, 64, 64, 20, 64, 64, 64]\n",
      "MLE - Target Score: 0.7, Percentile: 0.035\n",
      "MLE - Accuracy: 0.6000, Average Token Count: 887179.03\n"
     ]
    },
    {
     "name": "stderr",
     "output_type": "stream",
     "text": []
    },
    {
     "name": "stdout",
     "output_type": "stream",
     "text": [
      "MLE Min N Required [20, 64, 20, 20, 64, 20, 64, 20, 64, 64, 64, 64, 64, 64, 64, 20, 20, 64, 20, 64, 64, 28, 64, 64, 64, 64, 20, 64, 64, 64]\n",
      "MLE - Target Score: 0.7, Percentile: 0.05\n",
      "MLE - Accuracy: 0.6000, Average Token Count: 885612.37\n"
     ]
    },
    {
     "name": "stderr",
     "output_type": "stream",
     "text": []
    },
    {
     "name": "stdout",
     "output_type": "stream",
     "text": [
      "MLE Min N Required [20, 64, 20, 20, 56, 20, 64, 20, 64, 64, 64, 64, 64, 64, 64, 20, 20, 64, 20, 64, 64, 25, 64, 64, 64, 64, 20, 64, 64, 64]\n",
      "MLE - Target Score: 0.7, Percentile: 0.075\n",
      "MLE - Accuracy: 0.6000, Average Token Count: 881232.57\n"
     ]
    },
    {
     "name": "stderr",
     "output_type": "stream",
     "text": [
      "Target Score (MLE):  12%|█▎        | 1/8 [00:02<00:20,  2.90s/it]"
     ]
    },
    {
     "name": "stdout",
     "output_type": "stream",
     "text": [
      "MLE Min N Required [20, 64, 20, 20, 50, 20, 64, 20, 64, 64, 64, 64, 64, 64, 64, 20, 20, 64, 20, 64, 64, 22, 64, 64, 64, 64, 20, 64, 64, 64]\n",
      "MLE - Target Score: 0.7, Percentile: 0.1\n",
      "MLE - Accuracy: 0.6000, Average Token Count: 878066.60\n"
     ]
    },
    {
     "name": "stderr",
     "output_type": "stream",
     "text": []
    },
    {
     "name": "stdout",
     "output_type": "stream",
     "text": [
      "MLE Min N Required [20, 64, 20, 21, 64, 20, 64, 20, 64, 64, 64, 64, 64, 64, 64, 20, 20, 64, 20, 64, 64, 64, 64, 64, 64, 64, 20, 64, 64, 64]\n",
      "MLE - Target Score: 0.75, Percentile: 0.01\n",
      "MLE - Accuracy: 0.6333, Average Token Count: 899743.67\n"
     ]
    },
    {
     "name": "stderr",
     "output_type": "stream",
     "text": []
    },
    {
     "name": "stdout",
     "output_type": "stream",
     "text": [
      "MLE Min N Required [20, 64, 20, 20, 64, 20, 64, 20, 64, 64, 64, 64, 64, 64, 64, 20, 20, 64, 20, 64, 64, 64, 64, 64, 64, 64, 20, 64, 64, 64]\n",
      "MLE - Target Score: 0.75, Percentile: 0.02\n",
      "MLE - Accuracy: 0.6333, Average Token Count: 899392.03\n"
     ]
    },
    {
     "name": "stderr",
     "output_type": "stream",
     "text": []
    },
    {
     "name": "stdout",
     "output_type": "stream",
     "text": [
      "MLE Min N Required [20, 64, 20, 20, 64, 20, 64, 20, 64, 64, 64, 64, 64, 64, 64, 20, 20, 64, 20, 64, 64, 64, 64, 64, 64, 64, 20, 64, 64, 64]\n",
      "MLE - Target Score: 0.75, Percentile: 0.035\n",
      "MLE - Accuracy: 0.6333, Average Token Count: 899392.03\n"
     ]
    },
    {
     "name": "stderr",
     "output_type": "stream",
     "text": []
    },
    {
     "name": "stdout",
     "output_type": "stream",
     "text": [
      "MLE Min N Required [20, 64, 20, 20, 64, 20, 64, 20, 64, 64, 64, 64, 64, 64, 64, 20, 20, 64, 20, 64, 64, 64, 64, 64, 64, 64, 20, 64, 64, 64]\n",
      "MLE - Target Score: 0.75, Percentile: 0.05\n",
      "MLE - Accuracy: 0.6333, Average Token Count: 899392.03\n"
     ]
    },
    {
     "name": "stderr",
     "output_type": "stream",
     "text": []
    },
    {
     "name": "stdout",
     "output_type": "stream",
     "text": [
      "MLE Min N Required [20, 64, 20, 20, 64, 20, 64, 20, 64, 64, 64, 64, 64, 64, 64, 20, 20, 64, 20, 64, 64, 64, 64, 64, 64, 64, 20, 64, 64, 64]\n",
      "MLE - Target Score: 0.75, Percentile: 0.075\n",
      "MLE - Accuracy: 0.6333, Average Token Count: 899392.03\n"
     ]
    },
    {
     "name": "stderr",
     "output_type": "stream",
     "text": [
      "Target Score (MLE):  25%|██▌       | 2/8 [00:05<00:17,  2.96s/it]"
     ]
    },
    {
     "name": "stdout",
     "output_type": "stream",
     "text": [
      "MLE Min N Required [20, 64, 20, 20, 64, 20, 64, 20, 64, 64, 64, 64, 64, 64, 64, 20, 20, 64, 20, 64, 64, 64, 64, 64, 64, 64, 20, 64, 64, 64]\n",
      "MLE - Target Score: 0.75, Percentile: 0.1\n",
      "MLE - Accuracy: 0.6333, Average Token Count: 899392.03\n"
     ]
    },
    {
     "name": "stderr",
     "output_type": "stream",
     "text": []
    },
    {
     "name": "stdout",
     "output_type": "stream",
     "text": [
      "MLE Min N Required [20, 64, 34, 64, 64, 20, 64, 20, 64, 64, 64, 64, 64, 64, 64, 20, 20, 64, 20, 64, 64, 64, 64, 64, 64, 64, 27, 64, 64, 64]\n",
      "MLE - Target Score: 0.8, Percentile: 0.01\n",
      "MLE - Accuracy: 0.6333, Average Token Count: 920938.40\n"
     ]
    },
    {
     "name": "stderr",
     "output_type": "stream",
     "text": []
    },
    {
     "name": "stdout",
     "output_type": "stream",
     "text": [
      "MLE Min N Required [20, 64, 29, 61, 64, 20, 64, 20, 64, 64, 64, 64, 64, 64, 64, 20, 20, 64, 20, 64, 64, 64, 64, 64, 64, 64, 23, 64, 64, 64]\n",
      "MLE - Target Score: 0.8, Percentile: 0.02\n",
      "MLE - Accuracy: 0.6333, Average Token Count: 916947.10\n"
     ]
    },
    {
     "name": "stderr",
     "output_type": "stream",
     "text": []
    },
    {
     "name": "stdout",
     "output_type": "stream",
     "text": [
      "MLE Min N Required [20, 64, 25, 52, 64, 20, 64, 20, 64, 64, 64, 64, 64, 64, 64, 20, 20, 64, 20, 64, 64, 64, 64, 64, 64, 64, 20, 64, 64, 64]\n",
      "MLE - Target Score: 0.8, Percentile: 0.035\n",
      "MLE - Accuracy: 0.6333, Average Token Count: 911478.10\n"
     ]
    },
    {
     "name": "stderr",
     "output_type": "stream",
     "text": []
    },
    {
     "name": "stdout",
     "output_type": "stream",
     "text": [
      "MLE Min N Required [20, 64, 22, 47, 64, 20, 64, 20, 64, 64, 64, 64, 64, 64, 64, 20, 20, 64, 20, 64, 64, 64, 64, 64, 64, 64, 20, 64, 64, 64]\n",
      "MLE - Target Score: 0.8, Percentile: 0.05\n",
      "MLE - Accuracy: 0.6333, Average Token Count: 908970.73\n"
     ]
    },
    {
     "name": "stderr",
     "output_type": "stream",
     "text": []
    },
    {
     "name": "stdout",
     "output_type": "stream",
     "text": [
      "MLE Min N Required [20, 64, 20, 40, 64, 20, 64, 20, 64, 64, 64, 64, 64, 64, 64, 20, 20, 64, 20, 64, 64, 64, 64, 64, 64, 64, 20, 64, 64, 64]\n",
      "MLE - Target Score: 0.8, Percentile: 0.075\n",
      "MLE - Accuracy: 0.6333, Average Token Count: 906166.03\n"
     ]
    },
    {
     "name": "stderr",
     "output_type": "stream",
     "text": [
      "Target Score (MLE):  38%|███▊      | 3/8 [00:08<00:15,  3.01s/it]"
     ]
    },
    {
     "name": "stdout",
     "output_type": "stream",
     "text": [
      "MLE Min N Required [20, 64, 20, 36, 64, 20, 64, 20, 64, 64, 64, 64, 64, 64, 64, 20, 20, 64, 20, 64, 64, 64, 64, 64, 64, 64, 20, 64, 64, 64]\n",
      "MLE - Target Score: 0.8, Percentile: 0.1\n",
      "MLE - Accuracy: 0.6333, Average Token Count: 904829.10\n"
     ]
    },
    {
     "name": "stderr",
     "output_type": "stream",
     "text": []
    },
    {
     "name": "stdout",
     "output_type": "stream",
     "text": [
      "MLE Min N Required [20, 64, 64, 64, 64, 20, 64, 20, 64, 64, 64, 64, 64, 64, 64, 20, 20, 64, 45, 64, 64, 64, 64, 64, 64, 64, 49, 64, 64, 64]\n",
      "MLE - Target Score: 0.85, Percentile: 0.01\n",
      "MLE - Accuracy: 0.6000, Average Token Count: 946747.83\n"
     ]
    },
    {
     "name": "stderr",
     "output_type": "stream",
     "text": []
    },
    {
     "name": "stdout",
     "output_type": "stream",
     "text": [
      "MLE Min N Required [20, 64, 64, 64, 64, 20, 64, 20, 64, 64, 64, 64, 64, 64, 64, 20, 20, 64, 38, 64, 64, 64, 64, 64, 64, 64, 42, 64, 64, 64]\n",
      "MLE - Target Score: 0.85, Percentile: 0.02\n",
      "MLE - Accuracy: 0.6000, Average Token Count: 942405.47\n"
     ]
    },
    {
     "name": "stderr",
     "output_type": "stream",
     "text": []
    },
    {
     "name": "stdout",
     "output_type": "stream",
     "text": [
      "MLE Min N Required [20, 64, 64, 64, 64, 20, 64, 20, 64, 64, 64, 64, 64, 64, 64, 20, 20, 64, 33, 64, 64, 64, 64, 64, 64, 64, 36, 64, 64, 64]\n",
      "MLE - Target Score: 0.85, Percentile: 0.035\n",
      "MLE - Accuracy: 0.6000, Average Token Count: 939130.23\n"
     ]
    },
    {
     "name": "stderr",
     "output_type": "stream",
     "text": []
    },
    {
     "name": "stdout",
     "output_type": "stream",
     "text": [
      "MLE Min N Required [20, 64, 64, 64, 64, 20, 64, 20, 64, 64, 64, 64, 64, 64, 64, 20, 20, 64, 29, 64, 64, 64, 64, 64, 64, 64, 32, 64, 64, 64]\n",
      "MLE - Target Score: 0.85, Percentile: 0.05\n",
      "MLE - Accuracy: 0.6000, Average Token Count: 936760.23\n"
     ]
    },
    {
     "name": "stderr",
     "output_type": "stream",
     "text": []
    },
    {
     "name": "stdout",
     "output_type": "stream",
     "text": [
      "MLE Min N Required [20, 64, 61, 64, 64, 20, 64, 20, 64, 64, 64, 64, 64, 64, 64, 20, 20, 64, 26, 64, 64, 64, 64, 64, 64, 64, 28, 64, 64, 64]\n",
      "MLE - Target Score: 0.85, Percentile: 0.075\n",
      "MLE - Accuracy: 0.6000, Average Token Count: 932984.83\n"
     ]
    },
    {
     "name": "stderr",
     "output_type": "stream",
     "text": [
      "Target Score (MLE):  50%|█████     | 4/8 [00:12<00:12,  3.13s/it]"
     ]
    },
    {
     "name": "stdout",
     "output_type": "stream",
     "text": [
      "MLE Min N Required [20, 64, 55, 64, 64, 20, 64, 20, 64, 64, 64, 64, 64, 64, 64, 20, 20, 64, 23, 64, 64, 64, 64, 64, 64, 64, 25, 64, 64, 64]\n",
      "MLE - Target Score: 0.85, Percentile: 0.1\n",
      "MLE - Accuracy: 0.6000, Average Token Count: 929037.47\n"
     ]
    },
    {
     "name": "stderr",
     "output_type": "stream",
     "text": []
    },
    {
     "name": "stdout",
     "output_type": "stream",
     "text": [
      "MLE Min N Required [20, 64, 64, 64, 64, 20, 64, 20, 64, 64, 64, 64, 64, 64, 64, 20, 20, 64, 64, 64, 64, 64, 64, 64, 64, 64, 64, 64, 64, 64]\n",
      "MLE - Target Score: 0.9, Percentile: 0.01\n",
      "MLE - Accuracy: 0.6000, Average Token Count: 957724.63\n"
     ]
    },
    {
     "name": "stderr",
     "output_type": "stream",
     "text": []
    },
    {
     "name": "stdout",
     "output_type": "stream",
     "text": [
      "MLE Min N Required [20, 64, 64, 64, 64, 20, 64, 20, 64, 64, 64, 64, 64, 64, 64, 20, 20, 64, 64, 64, 64, 64, 64, 64, 64, 64, 64, 64, 64, 64]\n",
      "MLE - Target Score: 0.9, Percentile: 0.02\n",
      "MLE - Accuracy: 0.6000, Average Token Count: 957724.63\n"
     ]
    },
    {
     "name": "stderr",
     "output_type": "stream",
     "text": []
    },
    {
     "name": "stdout",
     "output_type": "stream",
     "text": [
      "MLE Min N Required [20, 64, 64, 64, 64, 20, 64, 20, 64, 64, 64, 64, 64, 64, 64, 20, 20, 64, 64, 64, 64, 64, 64, 64, 64, 64, 64, 64, 64, 64]\n",
      "MLE - Target Score: 0.9, Percentile: 0.035\n",
      "MLE - Accuracy: 0.6000, Average Token Count: 957724.63\n"
     ]
    },
    {
     "name": "stderr",
     "output_type": "stream",
     "text": []
    },
    {
     "name": "stdout",
     "output_type": "stream",
     "text": [
      "MLE Min N Required [20, 64, 64, 64, 64, 20, 64, 20, 64, 64, 64, 64, 64, 64, 64, 20, 20, 64, 64, 64, 64, 64, 64, 64, 64, 64, 64, 64, 64, 64]\n",
      "MLE - Target Score: 0.9, Percentile: 0.05\n",
      "MLE - Accuracy: 0.6000, Average Token Count: 957724.63\n"
     ]
    },
    {
     "name": "stderr",
     "output_type": "stream",
     "text": []
    },
    {
     "name": "stdout",
     "output_type": "stream",
     "text": [
      "MLE Min N Required [20, 64, 64, 64, 64, 20, 64, 20, 64, 64, 64, 64, 64, 64, 64, 20, 20, 64, 64, 64, 64, 64, 64, 64, 64, 64, 60, 64, 64, 64]\n",
      "MLE - Target Score: 0.9, Percentile: 0.075\n",
      "MLE - Accuracy: 0.6000, Average Token Count: 956330.17\n"
     ]
    },
    {
     "name": "stderr",
     "output_type": "stream",
     "text": [
      "Target Score (MLE):  62%|██████▎   | 5/8 [00:15<00:09,  3.28s/it]"
     ]
    },
    {
     "name": "stdout",
     "output_type": "stream",
     "text": [
      "MLE Min N Required [20, 64, 64, 64, 64, 20, 64, 20, 64, 64, 64, 64, 64, 64, 64, 20, 20, 64, 64, 64, 64, 64, 64, 64, 64, 64, 53, 64, 64, 64]\n",
      "MLE - Target Score: 0.9, Percentile: 0.1\n",
      "MLE - Accuracy: 0.6000, Average Token Count: 953715.57\n"
     ]
    },
    {
     "name": "stderr",
     "output_type": "stream",
     "text": []
    },
    {
     "name": "stdout",
     "output_type": "stream",
     "text": [
      "MLE Min N Required [20, 64, 64, 64, 64, 20, 64, 20, 64, 64, 64, 64, 64, 64, 64, 20, 40, 64, 64, 64, 64, 64, 64, 64, 64, 64, 64, 64, 64, 64]\n",
      "MLE - Target Score: 0.925, Percentile: 0.01\n",
      "MLE - Accuracy: 0.6000, Average Token Count: 961776.27\n"
     ]
    },
    {
     "name": "stderr",
     "output_type": "stream",
     "text": []
    },
    {
     "name": "stdout",
     "output_type": "stream",
     "text": [
      "MLE Min N Required [20, 64, 64, 64, 64, 20, 64, 20, 64, 64, 64, 64, 64, 64, 64, 20, 34, 64, 64, 64, 64, 64, 64, 64, 64, 64, 64, 64, 64, 64]\n",
      "MLE - Target Score: 0.925, Percentile: 0.02\n",
      "MLE - Accuracy: 0.6000, Average Token Count: 960554.93\n"
     ]
    },
    {
     "name": "stderr",
     "output_type": "stream",
     "text": []
    },
    {
     "name": "stdout",
     "output_type": "stream",
     "text": [
      "MLE Min N Required [20, 64, 64, 64, 64, 20, 64, 20, 64, 64, 64, 64, 64, 64, 64, 20, 29, 64, 64, 64, 64, 64, 64, 64, 64, 64, 64, 64, 64, 64]\n",
      "MLE - Target Score: 0.925, Percentile: 0.035\n",
      "MLE - Accuracy: 0.6000, Average Token Count: 959630.37\n"
     ]
    },
    {
     "name": "stderr",
     "output_type": "stream",
     "text": []
    },
    {
     "name": "stdout",
     "output_type": "stream",
     "text": [
      "MLE Min N Required [20, 64, 64, 64, 64, 20, 64, 20, 64, 64, 64, 64, 64, 64, 64, 20, 26, 64, 64, 64, 64, 64, 64, 64, 64, 64, 64, 64, 64, 64]\n",
      "MLE - Target Score: 0.925, Percentile: 0.05\n",
      "MLE - Accuracy: 0.6000, Average Token Count: 959026.60\n"
     ]
    },
    {
     "name": "stderr",
     "output_type": "stream",
     "text": []
    },
    {
     "name": "stdout",
     "output_type": "stream",
     "text": [
      "MLE Min N Required [20, 64, 64, 64, 64, 20, 64, 20, 64, 64, 64, 64, 64, 64, 64, 20, 23, 64, 64, 64, 64, 64, 64, 64, 64, 64, 64, 64, 64, 64]\n",
      "MLE - Target Score: 0.925, Percentile: 0.075\n",
      "MLE - Accuracy: 0.6000, Average Token Count: 958370.80\n"
     ]
    },
    {
     "name": "stderr",
     "output_type": "stream",
     "text": [
      "Target Score (MLE):  75%|███████▌  | 6/8 [00:19<00:06,  3.35s/it]"
     ]
    },
    {
     "name": "stdout",
     "output_type": "stream",
     "text": [
      "MLE Min N Required [20, 64, 64, 64, 64, 20, 64, 20, 64, 64, 64, 64, 64, 64, 64, 20, 20, 64, 64, 64, 64, 64, 64, 64, 64, 64, 64, 64, 64, 64]\n",
      "MLE - Target Score: 0.925, Percentile: 0.1\n",
      "MLE - Accuracy: 0.6000, Average Token Count: 957724.63\n"
     ]
    },
    {
     "name": "stderr",
     "output_type": "stream",
     "text": []
    },
    {
     "name": "stdout",
     "output_type": "stream",
     "text": [
      "MLE Min N Required [20, 64, 64, 64, 64, 20, 64, 20, 64, 64, 64, 64, 64, 64, 64, 20, 64, 64, 64, 64, 64, 64, 64, 64, 64, 64, 64, 64, 64, 64]\n",
      "MLE - Target Score: 0.95, Percentile: 0.01\n",
      "MLE - Accuracy: 0.6000, Average Token Count: 966580.93\n"
     ]
    },
    {
     "name": "stderr",
     "output_type": "stream",
     "text": []
    },
    {
     "name": "stdout",
     "output_type": "stream",
     "text": [
      "MLE Min N Required [20, 64, 64, 64, 64, 20, 64, 20, 64, 64, 64, 64, 64, 64, 64, 20, 64, 64, 64, 64, 64, 64, 64, 64, 64, 64, 64, 64, 64, 64]\n",
      "MLE - Target Score: 0.95, Percentile: 0.02\n",
      "MLE - Accuracy: 0.6000, Average Token Count: 966580.93\n"
     ]
    },
    {
     "name": "stderr",
     "output_type": "stream",
     "text": []
    },
    {
     "name": "stdout",
     "output_type": "stream",
     "text": [
      "MLE Min N Required [20, 64, 64, 64, 64, 20, 64, 20, 64, 64, 64, 64, 64, 64, 64, 20, 64, 64, 64, 64, 64, 64, 64, 64, 64, 64, 64, 64, 64, 64]\n",
      "MLE - Target Score: 0.95, Percentile: 0.035\n",
      "MLE - Accuracy: 0.6000, Average Token Count: 966580.93\n"
     ]
    },
    {
     "name": "stderr",
     "output_type": "stream",
     "text": []
    },
    {
     "name": "stdout",
     "output_type": "stream",
     "text": [
      "MLE Min N Required [20, 64, 64, 64, 64, 20, 64, 20, 64, 64, 64, 64, 64, 64, 64, 20, 64, 64, 64, 64, 64, 64, 64, 64, 64, 64, 64, 64, 64, 64]\n",
      "MLE - Target Score: 0.95, Percentile: 0.05\n",
      "MLE - Accuracy: 0.6000, Average Token Count: 966580.93\n"
     ]
    },
    {
     "name": "stderr",
     "output_type": "stream",
     "text": []
    },
    {
     "name": "stdout",
     "output_type": "stream",
     "text": [
      "MLE Min N Required [20, 64, 64, 64, 64, 20, 64, 20, 64, 64, 64, 64, 64, 64, 64, 20, 64, 64, 64, 64, 64, 64, 64, 64, 64, 64, 64, 64, 64, 64]\n",
      "MLE - Target Score: 0.95, Percentile: 0.075\n",
      "MLE - Accuracy: 0.6000, Average Token Count: 966580.93\n"
     ]
    },
    {
     "name": "stderr",
     "output_type": "stream",
     "text": [
      "Target Score (MLE):  88%|████████▊ | 7/8 [00:22<00:03,  3.44s/it]"
     ]
    },
    {
     "name": "stdout",
     "output_type": "stream",
     "text": [
      "MLE Min N Required [20, 64, 64, 64, 64, 20, 64, 20, 64, 64, 64, 64, 64, 64, 64, 20, 58, 64, 64, 64, 64, 64, 64, 64, 64, 64, 64, 64, 64, 64]\n",
      "MLE - Target Score: 0.95, Percentile: 0.1\n",
      "MLE - Accuracy: 0.6000, Average Token Count: 965499.53\n"
     ]
    },
    {
     "name": "stderr",
     "output_type": "stream",
     "text": []
    },
    {
     "name": "stdout",
     "output_type": "stream",
     "text": [
      "MLE Min N Required [20, 64, 64, 64, 64, 20, 64, 28, 64, 64, 64, 64, 64, 64, 64, 20, 64, 64, 64, 64, 64, 64, 64, 64, 64, 64, 64, 64, 64, 64]\n",
      "MLE - Target Score: 0.975, Percentile: 0.01\n",
      "MLE - Accuracy: 0.6000, Average Token Count: 968021.20\n"
     ]
    },
    {
     "name": "stderr",
     "output_type": "stream",
     "text": []
    },
    {
     "name": "stdout",
     "output_type": "stream",
     "text": [
      "MLE Min N Required [20, 64, 64, 64, 64, 20, 64, 24, 64, 64, 64, 64, 64, 64, 64, 20, 64, 64, 64, 64, 64, 64, 64, 64, 64, 64, 64, 64, 64, 64]\n",
      "MLE - Target Score: 0.975, Percentile: 0.02\n",
      "MLE - Accuracy: 0.6000, Average Token Count: 967261.47\n"
     ]
    },
    {
     "name": "stderr",
     "output_type": "stream",
     "text": []
    },
    {
     "name": "stdout",
     "output_type": "stream",
     "text": [
      "MLE Min N Required [20, 64, 64, 64, 64, 20, 64, 21, 64, 64, 64, 64, 64, 64, 64, 20, 64, 64, 64, 64, 64, 64, 64, 64, 64, 64, 64, 64, 64, 64]\n",
      "MLE - Target Score: 0.975, Percentile: 0.035\n",
      "MLE - Accuracy: 0.6000, Average Token Count: 966768.77\n"
     ]
    },
    {
     "name": "stderr",
     "output_type": "stream",
     "text": []
    },
    {
     "name": "stdout",
     "output_type": "stream",
     "text": [
      "MLE Min N Required [20, 64, 64, 64, 64, 20, 64, 20, 64, 64, 64, 64, 64, 64, 64, 20, 64, 64, 64, 64, 64, 64, 64, 64, 64, 64, 64, 64, 64, 64]\n",
      "MLE - Target Score: 0.975, Percentile: 0.05\n",
      "MLE - Accuracy: 0.6000, Average Token Count: 966580.93\n"
     ]
    },
    {
     "name": "stderr",
     "output_type": "stream",
     "text": []
    },
    {
     "name": "stdout",
     "output_type": "stream",
     "text": [
      "MLE Min N Required [20, 64, 64, 64, 64, 20, 64, 20, 64, 64, 64, 64, 64, 64, 64, 20, 64, 64, 64, 64, 64, 64, 64, 64, 64, 64, 64, 64, 64, 64]\n",
      "MLE - Target Score: 0.975, Percentile: 0.075\n",
      "MLE - Accuracy: 0.6000, Average Token Count: 966580.93\n"
     ]
    },
    {
     "name": "stderr",
     "output_type": "stream",
     "text": [
      "Target Score (MLE): 100%|██████████| 8/8 [00:26<00:00,  3.33s/it]\n"
     ]
    },
    {
     "name": "stdout",
     "output_type": "stream",
     "text": [
      "MLE Min N Required [20, 64, 64, 64, 64, 20, 64, 20, 64, 64, 64, 64, 64, 64, 64, 20, 64, 64, 64, 64, 64, 64, 64, 64, 64, 64, 64, 64, 64, 64]\n",
      "MLE - Target Score: 0.975, Percentile: 0.1\n",
      "MLE - Accuracy: 0.6000, Average Token Count: 966580.93\n",
      "\n",
      "Evaluating MAP Results...\n"
     ]
    },
    {
     "name": "stderr",
     "output_type": "stream",
     "text": [
      "Target Score (MAP):   0%|          | 0/8 [00:00<?, ?it/s]"
     ]
    },
    {
     "name": "stdout",
     "output_type": "stream",
     "text": [
      "MAP Min N Required [20, 64, 20, 20, 64, 20, 64, 20, 64, 64, 64, 64, 64, 64, 64, 20, 20, 64, 20, 64, 25, 42, 64, 64, 64, 64, 20, 64, 64, 64]\n",
      "MAP - Target Score: 0.7, Percentile: 0.01\n",
      "MAP - Accuracy: 0.6000, Average Token Count: 870721.80\n"
     ]
    },
    {
     "name": "stderr",
     "output_type": "stream",
     "text": []
    },
    {
     "name": "stdout",
     "output_type": "stream",
     "text": [
      "MAP Min N Required [20, 64, 20, 20, 64, 20, 64, 20, 64, 64, 64, 64, 64, 64, 64, 20, 20, 64, 20, 64, 21, 35, 64, 64, 64, 64, 20, 64, 64, 64]\n",
      "MAP - Target Score: 0.7, Percentile: 0.02\n",
      "MAP - Accuracy: 0.6000, Average Token Count: 865892.57\n"
     ]
    },
    {
     "name": "stderr",
     "output_type": "stream",
     "text": []
    },
    {
     "name": "stdout",
     "output_type": "stream",
     "text": [
      "MAP Min N Required [20, 64, 20, 20, 64, 20, 64, 20, 64, 64, 64, 64, 64, 64, 64, 20, 20, 64, 20, 64, 20, 30, 64, 64, 64, 64, 20, 64, 64, 64]\n",
      "MAP - Target Score: 0.7, Percentile: 0.035\n",
      "MAP - Accuracy: 0.6000, Average Token Count: 863610.00\n"
     ]
    },
    {
     "name": "stderr",
     "output_type": "stream",
     "text": []
    },
    {
     "name": "stdout",
     "output_type": "stream",
     "text": [
      "MAP Min N Required [20, 64, 20, 20, 64, 20, 64, 20, 64, 64, 64, 64, 64, 64, 64, 20, 20, 64, 20, 64, 20, 27, 64, 64, 64, 64, 20, 64, 64, 64]\n",
      "MAP - Target Score: 0.7, Percentile: 0.05\n",
      "MAP - Accuracy: 0.6000, Average Token Count: 862344.20\n"
     ]
    },
    {
     "name": "stderr",
     "output_type": "stream",
     "text": []
    },
    {
     "name": "stdout",
     "output_type": "stream",
     "text": [
      "MAP Min N Required [20, 64, 20, 20, 57, 20, 64, 20, 64, 64, 64, 64, 64, 64, 64, 20, 20, 64, 20, 64, 20, 24, 64, 64, 64, 64, 20, 64, 64, 64]\n",
      "MAP - Target Score: 0.7, Percentile: 0.075\n",
      "MAP - Accuracy: 0.6000, Average Token Count: 858502.77\n"
     ]
    },
    {
     "name": "stderr",
     "output_type": "stream",
     "text": [
      "Target Score (MAP):  12%|█▎        | 1/8 [00:02<00:19,  2.86s/it]"
     ]
    },
    {
     "name": "stdout",
     "output_type": "stream",
     "text": [
      "MAP Min N Required [20, 64, 20, 20, 50, 20, 64, 20, 64, 64, 64, 64, 64, 64, 64, 20, 20, 64, 20, 64, 20, 21, 64, 64, 64, 64, 20, 64, 64, 64]\n",
      "MAP - Target Score: 0.7, Percentile: 0.1\n",
      "MAP - Accuracy: 0.6000, Average Token Count: 854666.40\n"
     ]
    },
    {
     "name": "stderr",
     "output_type": "stream",
     "text": []
    },
    {
     "name": "stdout",
     "output_type": "stream",
     "text": [
      "MAP Min N Required [20, 64, 20, 22, 64, 20, 64, 20, 64, 64, 64, 64, 64, 64, 64, 20, 20, 64, 20, 64, 48, 64, 64, 64, 64, 64, 20, 64, 64, 64]\n",
      "MAP - Target Score: 0.75, Percentile: 0.01\n",
      "MAP - Accuracy: 0.6333, Average Token Count: 891851.33\n"
     ]
    },
    {
     "name": "stderr",
     "output_type": "stream",
     "text": []
    },
    {
     "name": "stdout",
     "output_type": "stream",
     "text": [
      "MAP Min N Required [20, 64, 20, 20, 64, 20, 64, 20, 64, 64, 64, 64, 64, 64, 64, 20, 20, 64, 20, 64, 41, 64, 64, 64, 64, 64, 20, 64, 64, 64]\n",
      "MAP - Target Score: 0.75, Percentile: 0.02\n",
      "MAP - Accuracy: 0.6333, Average Token Count: 887395.37\n"
     ]
    },
    {
     "name": "stderr",
     "output_type": "stream",
     "text": []
    },
    {
     "name": "stdout",
     "output_type": "stream",
     "text": [
      "MAP Min N Required [20, 64, 20, 20, 64, 20, 64, 20, 64, 64, 64, 64, 64, 64, 64, 20, 20, 64, 20, 64, 35, 64, 64, 64, 64, 64, 20, 64, 64, 64]\n",
      "MAP - Target Score: 0.75, Percentile: 0.035\n",
      "MAP - Accuracy: 0.6333, Average Token Count: 883893.67\n"
     ]
    },
    {
     "name": "stderr",
     "output_type": "stream",
     "text": []
    },
    {
     "name": "stdout",
     "output_type": "stream",
     "text": [
      "MAP Min N Required [20, 64, 20, 20, 64, 20, 64, 20, 64, 64, 64, 64, 64, 64, 64, 20, 20, 64, 20, 64, 31, 64, 64, 64, 64, 64, 20, 64, 64, 64]\n",
      "MAP - Target Score: 0.75, Percentile: 0.05\n",
      "MAP - Accuracy: 0.6333, Average Token Count: 881966.20\n"
     ]
    },
    {
     "name": "stderr",
     "output_type": "stream",
     "text": []
    },
    {
     "name": "stdout",
     "output_type": "stream",
     "text": [
      "MAP Min N Required [20, 64, 20, 20, 64, 20, 64, 20, 64, 64, 64, 64, 64, 64, 64, 20, 20, 64, 20, 64, 27, 64, 64, 64, 64, 64, 20, 64, 64, 64]\n",
      "MAP - Target Score: 0.75, Percentile: 0.075\n",
      "MAP - Accuracy: 0.6333, Average Token Count: 880097.73\n"
     ]
    },
    {
     "name": "stderr",
     "output_type": "stream",
     "text": [
      "Target Score (MAP):  25%|██▌       | 2/8 [00:05<00:17,  2.98s/it]"
     ]
    },
    {
     "name": "stdout",
     "output_type": "stream",
     "text": [
      "MAP Min N Required [20, 64, 20, 20, 64, 20, 64, 20, 64, 64, 64, 64, 64, 64, 64, 20, 20, 64, 20, 64, 24, 64, 64, 64, 64, 64, 20, 64, 64, 64]\n",
      "MAP - Target Score: 0.75, Percentile: 0.1\n",
      "MAP - Accuracy: 0.6333, Average Token Count: 878512.93\n"
     ]
    },
    {
     "name": "stderr",
     "output_type": "stream",
     "text": []
    },
    {
     "name": "stdout",
     "output_type": "stream",
     "text": [
      "MAP Min N Required [20, 64, 37, 64, 64, 20, 64, 20, 64, 64, 64, 64, 64, 64, 64, 20, 20, 64, 20, 64, 64, 64, 64, 64, 64, 64, 23, 64, 64, 64]\n",
      "MAP - Target Score: 0.8, Percentile: 0.01\n",
      "MAP - Accuracy: 0.6333, Average Token Count: 920513.20\n"
     ]
    },
    {
     "name": "stderr",
     "output_type": "stream",
     "text": []
    },
    {
     "name": "stdout",
     "output_type": "stream",
     "text": [
      "MAP Min N Required [20, 64, 32, 64, 64, 20, 64, 20, 64, 64, 64, 64, 64, 64, 64, 20, 20, 64, 20, 64, 64, 64, 64, 64, 64, 64, 20, 64, 64, 64]\n",
      "MAP - Target Score: 0.8, Percentile: 0.02\n",
      "MAP - Accuracy: 0.6333, Average Token Count: 917943.70\n"
     ]
    },
    {
     "name": "stderr",
     "output_type": "stream",
     "text": []
    },
    {
     "name": "stdout",
     "output_type": "stream",
     "text": [
      "MAP Min N Required [20, 64, 27, 58, 64, 20, 64, 20, 64, 64, 64, 64, 64, 64, 64, 20, 20, 64, 20, 64, 64, 64, 64, 64, 64, 64, 20, 64, 64, 64]\n",
      "MAP - Target Score: 0.8, Percentile: 0.035\n",
      "MAP - Accuracy: 0.6333, Average Token Count: 914177.80\n"
     ]
    },
    {
     "name": "stderr",
     "output_type": "stream",
     "text": []
    },
    {
     "name": "stdout",
     "output_type": "stream",
     "text": [
      "MAP Min N Required [20, 64, 24, 52, 64, 20, 64, 20, 64, 64, 64, 64, 64, 64, 64, 20, 20, 64, 20, 64, 64, 64, 64, 64, 64, 64, 20, 64, 64, 64]\n",
      "MAP - Target Score: 0.8, Percentile: 0.05\n",
      "MAP - Accuracy: 0.6333, Average Token Count: 911184.17\n"
     ]
    },
    {
     "name": "stderr",
     "output_type": "stream",
     "text": []
    },
    {
     "name": "stdout",
     "output_type": "stream",
     "text": [
      "MAP Min N Required [20, 64, 21, 45, 64, 20, 64, 20, 64, 64, 64, 64, 64, 64, 64, 20, 20, 64, 20, 64, 57, 64, 64, 64, 64, 64, 20, 64, 64, 64]\n",
      "MAP - Target Score: 0.8, Percentile: 0.075\n",
      "MAP - Accuracy: 0.6333, Average Token Count: 905252.80\n"
     ]
    },
    {
     "name": "stderr",
     "output_type": "stream",
     "text": [
      "Target Score (MAP):  38%|███▊      | 3/8 [00:09<00:15,  3.16s/it]"
     ]
    },
    {
     "name": "stdout",
     "output_type": "stream",
     "text": [
      "MAP Min N Required [20, 64, 20, 40, 64, 20, 64, 20, 64, 64, 64, 64, 64, 64, 64, 20, 20, 64, 20, 64, 51, 64, 64, 64, 64, 64, 20, 64, 64, 64]\n",
      "MAP - Target Score: 0.8, Percentile: 0.1\n",
      "MAP - Accuracy: 0.6333, Average Token Count: 899901.40\n"
     ]
    },
    {
     "name": "stderr",
     "output_type": "stream",
     "text": []
    },
    {
     "name": "stdout",
     "output_type": "stream",
     "text": [
      "MAP Min N Required [22, 64, 64, 64, 64, 20, 64, 20, 64, 64, 64, 64, 64, 64, 64, 20, 20, 64, 47, 64, 64, 64, 64, 64, 64, 64, 43, 64, 64, 64]\n",
      "MAP - Target Score: 0.85, Percentile: 0.01\n",
      "MAP - Accuracy: 0.6000, Average Token Count: 945521.33\n"
     ]
    },
    {
     "name": "stderr",
     "output_type": "stream",
     "text": []
    },
    {
     "name": "stdout",
     "output_type": "stream",
     "text": [
      "MAP Min N Required [20, 64, 64, 64, 64, 20, 64, 20, 64, 64, 64, 64, 64, 64, 64, 20, 20, 64, 40, 64, 64, 64, 64, 64, 64, 64, 37, 64, 64, 64]\n",
      "MAP - Target Score: 0.85, Percentile: 0.02\n",
      "MAP - Accuracy: 0.6000, Average Token Count: 941408.90\n"
     ]
    },
    {
     "name": "stderr",
     "output_type": "stream",
     "text": []
    },
    {
     "name": "stdout",
     "output_type": "stream",
     "text": [
      "MAP Min N Required [20, 64, 64, 64, 64, 20, 64, 20, 64, 64, 64, 64, 64, 64, 64, 20, 20, 64, 34, 64, 64, 64, 64, 64, 64, 64, 31, 64, 64, 64]\n",
      "MAP - Target Score: 0.85, Percentile: 0.035\n",
      "MAP - Accuracy: 0.6000, Average Token Count: 937813.80\n"
     ]
    },
    {
     "name": "stderr",
     "output_type": "stream",
     "text": []
    },
    {
     "name": "stdout",
     "output_type": "stream",
     "text": [
      "MAP Min N Required [20, 64, 64, 64, 64, 20, 64, 20, 64, 64, 64, 64, 64, 64, 64, 20, 20, 64, 31, 64, 64, 64, 64, 64, 64, 64, 28, 64, 64, 64]\n",
      "MAP - Target Score: 0.85, Percentile: 0.05\n",
      "MAP - Accuracy: 0.6000, Average Token Count: 935839.23\n"
     ]
    },
    {
     "name": "stderr",
     "output_type": "stream",
     "text": []
    },
    {
     "name": "stdout",
     "output_type": "stream",
     "text": [
      "MAP Min N Required [20, 64, 64, 64, 64, 20, 64, 20, 64, 64, 64, 64, 64, 64, 64, 20, 20, 64, 27, 64, 64, 64, 64, 64, 64, 64, 24, 64, 64, 64]\n",
      "MAP - Target Score: 0.85, Percentile: 0.075\n",
      "MAP - Accuracy: 0.6000, Average Token Count: 933220.00\n"
     ]
    },
    {
     "name": "stderr",
     "output_type": "stream",
     "text": [
      "Target Score (MAP):  50%|█████     | 4/8 [00:12<00:13,  3.27s/it]"
     ]
    },
    {
     "name": "stdout",
     "output_type": "stream",
     "text": [
      "MAP Min N Required [20, 64, 60, 64, 64, 20, 64, 20, 64, 64, 64, 64, 64, 64, 64, 20, 20, 64, 24, 64, 64, 64, 64, 64, 64, 64, 22, 64, 64, 64]\n",
      "MAP - Target Score: 0.85, Percentile: 0.1\n",
      "MAP - Accuracy: 0.6000, Average Token Count: 929944.90\n"
     ]
    },
    {
     "name": "stderr",
     "output_type": "stream",
     "text": []
    },
    {
     "name": "stdout",
     "output_type": "stream",
     "text": [
      "MAP Min N Required [34, 64, 64, 64, 64, 31, 64, 20, 64, 64, 64, 64, 64, 64, 64, 20, 56, 64, 64, 64, 64, 64, 64, 64, 64, 64, 64, 64, 64, 64]\n",
      "MAP - Target Score: 0.9, Percentile: 0.01\n",
      "MAP - Accuracy: 0.6000, Average Token Count: 968579.70\n"
     ]
    },
    {
     "name": "stderr",
     "output_type": "stream",
     "text": []
    },
    {
     "name": "stdout",
     "output_type": "stream",
     "text": [
      "MAP Min N Required [29, 64, 64, 64, 64, 26, 64, 20, 64, 64, 64, 64, 64, 64, 64, 20, 47, 64, 64, 64, 64, 64, 64, 64, 64, 64, 64, 64, 64, 64]\n",
      "MAP - Target Score: 0.9, Percentile: 0.02\n",
      "MAP - Accuracy: 0.6000, Average Token Count: 965324.60\n"
     ]
    },
    {
     "name": "stderr",
     "output_type": "stream",
     "text": []
    },
    {
     "name": "stdout",
     "output_type": "stream",
     "text": [
      "MAP Min N Required [25, 64, 64, 64, 64, 23, 64, 20, 64, 64, 64, 64, 64, 64, 64, 20, 41, 64, 64, 64, 64, 64, 64, 64, 64, 64, 64, 64, 64, 64]\n",
      "MAP - Target Score: 0.9, Percentile: 0.035\n",
      "MAP - Accuracy: 0.6000, Average Token Count: 963079.23\n"
     ]
    },
    {
     "name": "stderr",
     "output_type": "stream",
     "text": []
    },
    {
     "name": "stdout",
     "output_type": "stream",
     "text": [
      "MAP Min N Required [22, 64, 64, 64, 64, 20, 64, 20, 64, 64, 64, 64, 64, 64, 64, 20, 36, 64, 64, 64, 64, 64, 64, 64, 64, 64, 59, 64, 64, 64]\n",
      "MAP - Target Score: 0.9, Percentile: 0.05\n",
      "MAP - Accuracy: 0.6000, Average Token Count: 959400.70\n"
     ]
    },
    {
     "name": "stderr",
     "output_type": "stream",
     "text": []
    },
    {
     "name": "stdout",
     "output_type": "stream",
     "text": [
      "MAP Min N Required [20, 64, 64, 64, 64, 20, 64, 20, 64, 64, 64, 64, 64, 64, 64, 20, 32, 64, 64, 64, 64, 64, 64, 64, 64, 64, 51, 64, 64, 64]\n",
      "MAP - Target Score: 0.9, Percentile: 0.075\n",
      "MAP - Accuracy: 0.6000, Average Token Count: 955655.00\n"
     ]
    },
    {
     "name": "stderr",
     "output_type": "stream",
     "text": [
      "Target Score (MAP):  62%|██████▎   | 5/8 [00:16<00:10,  3.40s/it]"
     ]
    },
    {
     "name": "stdout",
     "output_type": "stream",
     "text": [
      "MAP Min N Required [20, 64, 64, 64, 64, 20, 64, 20, 64, 64, 64, 64, 64, 64, 64, 20, 28, 64, 64, 64, 64, 64, 64, 64, 64, 64, 46, 64, 64, 64]\n",
      "MAP - Target Score: 0.9, Percentile: 0.1\n",
      "MAP - Accuracy: 0.6000, Average Token Count: 953307.67\n"
     ]
    },
    {
     "name": "stderr",
     "output_type": "stream",
     "text": []
    },
    {
     "name": "stdout",
     "output_type": "stream",
     "text": [
      "MAP Min N Required [46, 64, 64, 64, 64, 42, 64, 20, 64, 64, 64, 64, 64, 64, 64, 20, 64, 64, 64, 64, 64, 64, 64, 64, 64, 64, 64, 64, 64, 64]\n",
      "MAP - Target Score: 0.925, Percentile: 0.01\n",
      "MAP - Accuracy: 0.6000, Average Token Count: 973226.53\n"
     ]
    },
    {
     "name": "stderr",
     "output_type": "stream",
     "text": []
    },
    {
     "name": "stdout",
     "output_type": "stream",
     "text": [
      "MAP Min N Required [39, 64, 64, 64, 64, 36, 64, 20, 64, 64, 64, 64, 64, 64, 64, 20, 64, 64, 64, 64, 64, 64, 64, 64, 64, 64, 64, 64, 64, 64]\n",
      "MAP - Target Score: 0.925, Percentile: 0.02\n",
      "MAP - Accuracy: 0.6000, Average Token Count: 971459.57\n"
     ]
    },
    {
     "name": "stderr",
     "output_type": "stream",
     "text": []
    },
    {
     "name": "stdout",
     "output_type": "stream",
     "text": [
      "MAP Min N Required [34, 64, 64, 64, 64, 31, 64, 20, 64, 64, 64, 64, 64, 64, 64, 20, 64, 64, 64, 64, 64, 64, 64, 64, 64, 64, 64, 64, 64, 64]\n",
      "MAP - Target Score: 0.925, Percentile: 0.035\n",
      "MAP - Accuracy: 0.6000, Average Token Count: 970036.33\n"
     ]
    },
    {
     "name": "stderr",
     "output_type": "stream",
     "text": []
    },
    {
     "name": "stdout",
     "output_type": "stream",
     "text": [
      "MAP Min N Required [30, 64, 64, 64, 64, 28, 64, 20, 64, 64, 64, 64, 64, 64, 64, 20, 64, 64, 64, 64, 64, 64, 64, 64, 64, 64, 64, 64, 64, 64]\n",
      "MAP - Target Score: 0.925, Percentile: 0.05\n",
      "MAP - Accuracy: 0.6000, Average Token Count: 969032.20\n"
     ]
    },
    {
     "name": "stderr",
     "output_type": "stream",
     "text": []
    },
    {
     "name": "stdout",
     "output_type": "stream",
     "text": [
      "MAP Min N Required [26, 64, 64, 64, 64, 24, 64, 20, 64, 64, 64, 64, 64, 64, 64, 20, 64, 64, 64, 64, 64, 64, 64, 64, 64, 64, 64, 64, 64, 64]\n",
      "MAP - Target Score: 0.925, Percentile: 0.075\n",
      "MAP - Accuracy: 0.6000, Average Token Count: 967984.90\n"
     ]
    },
    {
     "name": "stderr",
     "output_type": "stream",
     "text": [
      "Target Score (MAP):  75%|███████▌  | 6/8 [00:20<00:06,  3.49s/it]"
     ]
    },
    {
     "name": "stdout",
     "output_type": "stream",
     "text": [
      "MAP Min N Required [23, 64, 64, 64, 64, 21, 64, 20, 64, 64, 64, 64, 64, 64, 64, 20, 63, 64, 64, 64, 64, 64, 64, 64, 64, 64, 64, 64, 64, 64]\n",
      "MAP - Target Score: 0.925, Percentile: 0.1\n",
      "MAP - Accuracy: 0.6000, Average Token Count: 966920.93\n"
     ]
    },
    {
     "name": "stderr",
     "output_type": "stream",
     "text": []
    },
    {
     "name": "stdout",
     "output_type": "stream",
     "text": [
      "MAP Min N Required [64, 64, 64, 64, 64, 64, 64, 27, 64, 64, 64, 64, 64, 64, 64, 20, 64, 64, 64, 64, 64, 64, 64, 64, 64, 64, 64, 64, 64, 64]\n",
      "MAP - Target Score: 0.95, Percentile: 0.01\n",
      "MAP - Accuracy: 0.6000, Average Token Count: 980380.90\n"
     ]
    },
    {
     "name": "stderr",
     "output_type": "stream",
     "text": []
    },
    {
     "name": "stdout",
     "output_type": "stream",
     "text": [
      "MAP Min N Required [60, 64, 64, 64, 64, 55, 64, 23, 64, 64, 64, 64, 64, 64, 64, 20, 64, 64, 64, 64, 64, 64, 64, 64, 64, 64, 64, 64, 64, 64]\n",
      "MAP - Target Score: 0.95, Percentile: 0.02\n",
      "MAP - Accuracy: 0.6000, Average Token Count: 977708.40\n"
     ]
    },
    {
     "name": "stderr",
     "output_type": "stream",
     "text": []
    },
    {
     "name": "stdout",
     "output_type": "stream",
     "text": [
      "MAP Min N Required [51, 64, 64, 64, 64, 47, 64, 20, 64, 64, 64, 64, 64, 64, 64, 20, 64, 64, 64, 64, 64, 64, 64, 64, 64, 64, 64, 64, 64, 64]\n",
      "MAP - Target Score: 0.95, Percentile: 0.035\n",
      "MAP - Accuracy: 0.6000, Average Token Count: 974744.57\n"
     ]
    },
    {
     "name": "stderr",
     "output_type": "stream",
     "text": []
    },
    {
     "name": "stdout",
     "output_type": "stream",
     "text": [
      "MAP Min N Required [46, 64, 64, 64, 64, 42, 64, 20, 64, 64, 64, 64, 64, 64, 64, 20, 64, 64, 64, 64, 64, 64, 64, 64, 64, 64, 64, 64, 64, 64]\n",
      "MAP - Target Score: 0.95, Percentile: 0.05\n",
      "MAP - Accuracy: 0.6000, Average Token Count: 973226.53\n"
     ]
    },
    {
     "name": "stderr",
     "output_type": "stream",
     "text": []
    },
    {
     "name": "stdout",
     "output_type": "stream",
     "text": [
      "MAP Min N Required [40, 64, 64, 64, 64, 36, 64, 20, 64, 64, 64, 64, 64, 64, 64, 20, 64, 64, 64, 64, 64, 64, 64, 64, 64, 64, 64, 64, 64, 64]\n",
      "MAP - Target Score: 0.95, Percentile: 0.075\n",
      "MAP - Accuracy: 0.6000, Average Token Count: 971565.23\n"
     ]
    },
    {
     "name": "stderr",
     "output_type": "stream",
     "text": [
      "Target Score (MAP):  88%|████████▊ | 7/8 [00:23<00:03,  3.61s/it]"
     ]
    },
    {
     "name": "stdout",
     "output_type": "stream",
     "text": [
      "MAP Min N Required [35, 64, 64, 64, 64, 32, 64, 20, 64, 64, 64, 64, 64, 64, 64, 20, 64, 64, 64, 64, 64, 64, 64, 64, 64, 64, 64, 64, 64, 64]\n",
      "MAP - Target Score: 0.95, Percentile: 0.1\n",
      "MAP - Accuracy: 0.6000, Average Token Count: 970257.60\n"
     ]
    },
    {
     "name": "stderr",
     "output_type": "stream",
     "text": []
    },
    {
     "name": "stdout",
     "output_type": "stream",
     "text": [
      "MAP Min N Required [64, 64, 64, 64, 64, 64, 64, 57, 64, 64, 64, 64, 64, 64, 64, 20, 64, 64, 64, 64, 64, 64, 64, 64, 64, 64, 64, 64, 64, 64]\n",
      "MAP - Target Score: 0.975, Percentile: 0.01\n",
      "MAP - Accuracy: 0.6000, Average Token Count: 987043.53\n"
     ]
    },
    {
     "name": "stderr",
     "output_type": "stream",
     "text": []
    },
    {
     "name": "stdout",
     "output_type": "stream",
     "text": [
      "MAP Min N Required [64, 64, 64, 64, 64, 64, 64, 49, 64, 64, 64, 64, 64, 64, 64, 20, 64, 64, 64, 64, 64, 64, 64, 64, 64, 64, 64, 64, 64, 64]\n",
      "MAP - Target Score: 0.975, Percentile: 0.02\n",
      "MAP - Accuracy: 0.6000, Average Token Count: 985611.57\n"
     ]
    },
    {
     "name": "stderr",
     "output_type": "stream",
     "text": []
    },
    {
     "name": "stdout",
     "output_type": "stream",
     "text": [
      "MAP Min N Required [64, 64, 64, 64, 64, 64, 64, 42, 64, 64, 64, 64, 64, 64, 64, 20, 64, 64, 64, 64, 64, 64, 64, 64, 64, 64, 64, 64, 64, 64]\n",
      "MAP - Target Score: 0.975, Percentile: 0.035\n",
      "MAP - Accuracy: 0.6000, Average Token Count: 984035.67\n"
     ]
    },
    {
     "name": "stderr",
     "output_type": "stream",
     "text": []
    },
    {
     "name": "stdout",
     "output_type": "stream",
     "text": [
      "MAP Min N Required [64, 64, 64, 64, 64, 64, 64, 37, 64, 64, 64, 64, 64, 64, 64, 20, 64, 64, 64, 64, 64, 64, 64, 64, 64, 64, 64, 64, 64, 64]\n",
      "MAP - Target Score: 0.975, Percentile: 0.05\n",
      "MAP - Accuracy: 0.6000, Average Token Count: 982649.50\n"
     ]
    },
    {
     "name": "stderr",
     "output_type": "stream",
     "text": []
    },
    {
     "name": "stdout",
     "output_type": "stream",
     "text": [
      "MAP Min N Required [64, 64, 64, 64, 64, 64, 64, 32, 64, 64, 64, 64, 64, 64, 64, 20, 64, 64, 64, 64, 64, 64, 64, 64, 64, 64, 64, 64, 64, 64]\n",
      "MAP - Target Score: 0.975, Percentile: 0.075\n",
      "MAP - Accuracy: 0.6000, Average Token Count: 981276.50\n"
     ]
    },
    {
     "name": "stderr",
     "output_type": "stream",
     "text": [
      "Target Score (MAP): 100%|██████████| 8/8 [00:27<00:00,  3.47s/it]"
     ]
    },
    {
     "name": "stdout",
     "output_type": "stream",
     "text": [
      "MAP Min N Required [64, 64, 64, 64, 64, 64, 64, 29, 64, 64, 64, 64, 64, 64, 64, 20, 64, 64, 64, 64, 64, 64, 64, 64, 64, 64, 64, 64, 64, 64]\n",
      "MAP - Target Score: 0.975, Percentile: 0.1\n",
      "MAP - Accuracy: 0.6000, Average Token Count: 980734.60\n"
     ]
    },
    {
     "name": "stderr",
     "output_type": "stream",
     "text": [
      "\n"
     ]
    },
    {
     "data": {
      "image/png": "[encoded data removed]",
      "text/plain": [
       "<Figure size 1200x800 with 1 Axes>"
      ]
     },
     "metadata": {},
     "output_type": "display_data"
    },
    {
     "name": "stdout",
     "output_type": "stream",
     "text": [
      "\n",
      "MLE Pareto-optimal configurations:\n",
      "Target Score: 0.7, Percentile: 0.1, Accuracy: 0.6000, Avg Token Count: 878066.60\n",
      "Target Score: 0.75, Percentile: 0.02, Accuracy: 0.6333, Avg Token Count: 899392.03\n",
      "\n",
      "MAP Pareto-optimal configurations:\n",
      "Target Score: 0.7, Percentile: 0.1, Accuracy: 0.6000, Avg Token Count: 854666.40\n",
      "Target Score: 0.75, Percentile: 0.1, Accuracy: 0.6333, Avg Token Count: 878512.93\n"
     ]
    }
   ],
   "source": [
    "max_N_panel = 64\n",
    "print(\"Target Score Panel:\", target_score_panel_values)\n",
    "print(\"Percentile Panel:\", percentile_panel_values)\n",
    "print(\"Max N:\", max_N_panel)\n",
    "\n",
    "# Evaluate MLE results\n",
    "print(\"\\nEvaluating MLE Results...\")\n",
    "truncated_normal_params_all = mle_estimated_params\n",
    "mle_grid_search_results = []\n",
    "\n",
    "for target_score in tqdm(target_score_panel_values, desc=\"Target Score (MLE)\"):\n",
    "    for percentile in tqdm(percentile_panel_values, desc=\"Percentile\", leave=False):\n",
    "        min_N_required = []\n",
    "        for i, (mu, sigma) in enumerate(truncated_normal_params_all):\n",
    "            min_N = find_min_N_for_threshold(mu, sigma, target_score=target_score, \n",
    "                                        percentile=percentile, max_N=max_N_panel)\n",
    "            if min_N < peek_number:\n",
    "                min_N = peek_number\n",
    "            min_N_required.append(min_N)\n",
    "        print(\"MLE Min N Required\", min_N_required)\n",
    "        \n",
    "        # Evaluate model performance with these parameters\n",
    "        correct = 0\n",
    "        entire_token_count = 0\n",
    "\n",
    "        for idx, item in enumerate(val_texts):\n",
    "            N = min_N_required[idx]\n",
    "            completions = val_completions[idx][0][:N]\n",
    "            scores = val_scores[idx][0][:N]\n",
    "            completion_tokens = val_completion_tokens[idx][0][:N]\n",
    "            total_tokens = sum(completion_tokens)\n",
    "\n",
    "            highest_scores_idx = scores.index(max(scores))\n",
    "\n",
    "            while completions[highest_scores_idx] == \"\":\n",
    "                scores[highest_scores_idx] = 0 \n",
    "                if max(scores) == 0: \n",
    "                    break\n",
    "                highest_scores_idx = scores.index(max(scores))\n",
    "\n",
    "            output = completions[highest_scores_idx]\n",
    "            answer = get_answer(output)\n",
    "\n",
    "            if verify_extracted_answer(val_gt_answers[idx], answer):\n",
    "                correct += 1\n",
    "            entire_token_count += total_tokens\n",
    "\n",
    "        accuracy = correct / len(val_texts)\n",
    "        average_token_count = entire_token_count / len(val_texts)\n",
    "        \n",
    "        print(f\"MLE - Target Score: {target_score}, Percentile: {percentile}\")\n",
    "        print(f\"MLE - Accuracy: {accuracy:.4f}, Average Token Count: {average_token_count:.2f}\")\n",
    "        \n",
    "        mle_grid_search_results.append({\n",
    "            'target_score': target_score,\n",
    "            'percentile': percentile,\n",
    "            'accuracy': accuracy,\n",
    "            'average_token_count': average_token_count\n",
    "        })\n",
    "        \n",
    "with open(f'{DATASET}_OptScale_MLE_results_{max_N_panel}.json', 'w') as f:\n",
    "    json.dump(mle_grid_search_results, f)\n",
    "\n",
    "\n",
    "# Evaluate MAP results\n",
    "print(\"\\nEvaluating MAP Results...\")\n",
    "truncated_normal_params_all = map_estimated_params\n",
    "map_grid_search_results = []\n",
    "\n",
    "for target_score in tqdm(target_score_panel_values, desc=\"Target Score (MAP)\"):\n",
    "    for percentile in tqdm(percentile_panel_values, desc=\"Percentile\", leave=False):\n",
    "        min_N_required = []\n",
    "        for i, (mu, sigma) in enumerate(truncated_normal_params_all):\n",
    "            min_N = find_min_N_for_threshold(mu, sigma, target_score=target_score, \n",
    "                                        percentile=percentile, max_N=max_N_panel)\n",
    "            if min_N < peek_number:\n",
    "                min_N = peek_number\n",
    "            min_N_required.append(min_N)\n",
    "        print(\"MAP Min N Required\", min_N_required)\n",
    "        \n",
    "        # Evaluate model performance with these parameters\n",
    "        correct = 0\n",
    "        entire_token_count = 0\n",
    "\n",
    "        for idx, item in enumerate(val_texts):\n",
    "            N = min_N_required[idx]\n",
    "            completions = val_completions[idx][0][:N]\n",
    "            scores = val_scores[idx][0][:N]\n",
    "            completion_tokens = val_completion_tokens[idx][0][:N]\n",
    "            total_tokens = sum(completion_tokens)\n",
    "\n",
    "            highest_scores_idx = scores.index(max(scores))\n",
    "\n",
    "            while completions[highest_scores_idx] == \"\":\n",
    "                scores[highest_scores_idx] = 0 \n",
    "                if max(scores) == 0: \n",
    "                    break\n",
    "                highest_scores_idx = scores.index(max(scores))\n",
    "\n",
    "            output = completions[highest_scores_idx]\n",
    "            answer = get_answer(output)\n",
    "\n",
    "            if verify_extracted_answer(val_gt_answers[idx], answer):\n",
    "                correct += 1\n",
    "            entire_token_count += total_tokens\n",
    "\n",
    "        accuracy = correct / len(val_texts)\n",
    "        average_token_count = entire_token_count / len(val_texts)\n",
    "        \n",
    "        print(f\"MAP - Target Score: {target_score}, Percentile: {percentile}\")\n",
    "        print(f\"MAP - Accuracy: {accuracy:.4f}, Average Token Count: {average_token_count:.2f}\")\n",
    "        \n",
    "        map_grid_search_results.append({\n",
    "            'target_score': target_score,\n",
    "            'percentile': percentile,\n",
    "            'accuracy': accuracy,\n",
    "            'average_token_count': average_token_count\n",
    "        })\n",
    "        \n",
    "with open(f'{DATASET}_OptScale_MAP_results_{max_N_panel}.json', 'w') as f:\n",
    "    json.dump(map_grid_search_results, f)\n",
    "\n",
    "plot_mle_map_optscale(mle_grid_search_results, map_grid_search_results, baseline_average_token_counts, baseline_accuracy_values, max_N_panel)"
   ]
  },
  {
   "cell_type": "code",
   "execution_count": null,
   "metadata": {},
   "outputs": [],
   "source": []
  }
 ],
 "metadata": {
  "kernelspec": {
   "display_name": "test_scale",
   "language": "python",
   "name": "python3"
  },
  "language_info": {
   "codemirror_mode": {
    "name": "ipython",
    "version": 3
   },
   "file_extension": ".py",
   "mimetype": "text/x-python",
   "name": "python",
   "nbconvert_exporter": "python",
   "pygments_lexer": "ipython3",
   "version": "3.10.18"
  }
 },
 "nbformat": 4,
 "nbformat_minor": 2
}
