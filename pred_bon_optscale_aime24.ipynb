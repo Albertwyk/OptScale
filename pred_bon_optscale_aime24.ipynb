{
 "cells": [
  {
   "cell_type": "markdown",
   "metadata": {},
   "source": [
    "#### Note that in this version of OptScale 1, we no longer use MuSigmaPredictor for MLE starting point. Instead, we set Mu = 0.8 and Sigma = 0.2 for all datasets, making this a simplified but still effective OptScale."
   ]
  },
  {
   "cell_type": "code",
   "execution_count": 1,
   "metadata": {},
   "outputs": [
    {
     "name": "stderr",
     "output_type": "stream",
     "text": [
      "/home/wangyoukang/anaconda3/envs/test_scale/lib/python3.10/site-packages/tqdm/auto.py:21: TqdmWarning: IProgress not found. Please update jupyter and ipywidgets. See https://ipywidgets.readthedocs.io/en/stable/user_install.html\n",
      "  from .autonotebook import tqdm as notebook_tqdm\n"
     ]
    },
    {
     "name": "stdout",
     "output_type": "stream",
     "text": [
      "Using device: cuda:1\n"
     ]
    }
   ],
   "source": [
    "import json\n",
    "import torch\n",
    "import torch.nn as nn\n",
    "from torch.utils.data import Dataset, DataLoader\n",
    "from transformers import AutoModel, AutoTokenizer\n",
    "import numpy as np\n",
    "import matplotlib.pyplot as plt\n",
    "from scipy.stats import norm\n",
    "from scipy.optimize import root\n",
    "from scipy.optimize import minimize\n",
    "from tqdm import tqdm\n",
    "import os \n",
    "\n",
    "from utils import *\n",
    "\n",
    "# Set random seed for reproducibility (same as in train_predictor_initial.py)\n",
    "torch.manual_seed(42)\n",
    "np.random.seed(42)\n",
    "\n",
    "\n",
    "device = torch.device('cuda:1' if torch.cuda.is_available() else 'cpu')\n",
    "print(f\"Using device: {device}\")\n",
    "\n",
    "DATASET = 'AIME24'"
   ]
  },
  {
   "cell_type": "code",
   "execution_count": 2,
   "metadata": {},
   "outputs": [
    {
     "name": "stdout",
     "output_type": "stream",
     "text": [
      "Total dataset size: 30\n",
      "Validation size: 30\n",
      "Predicting mu/sigma parameters using QwenMuSigmaPredictor...\n",
      "Qwen2Model(\n",
      "  (embed_tokens): Embedding(151936, 1536)\n",
      "  (layers): ModuleList(\n",
      "    (0-27): 28 x Qwen2DecoderLayer(\n",
      "      (self_attn): Qwen2Attention(\n",
      "        (q_proj): Linear(in_features=1536, out_features=1536, bias=True)\n",
      "        (k_proj): Linear(in_features=1536, out_features=256, bias=True)\n",
      "        (v_proj): Linear(in_features=1536, out_features=256, bias=True)\n",
      "        (o_proj): Linear(in_features=1536, out_features=1536, bias=False)\n",
      "      )\n",
      "      (mlp): Qwen2MLP(\n",
      "        (gate_proj): Linear(in_features=1536, out_features=8960, bias=False)\n",
      "        (up_proj): Linear(in_features=1536, out_features=8960, bias=False)\n",
      "        (down_proj): Linear(in_features=8960, out_features=1536, bias=False)\n",
      "        (act_fn): SiLU()\n",
      "      )\n",
      "      (input_layernorm): Qwen2RMSNorm((1536,), eps=1e-06)\n",
      "      (post_attention_layernorm): Qwen2RMSNorm((1536,), eps=1e-06)\n",
      "    )\n",
      "  )\n",
      "  (norm): Qwen2RMSNorm((1536,), eps=1e-06)\n",
      "  (rotary_emb): Qwen2RotaryEmbedding()\n",
      ")\n"
     ]
    }
   ],
   "source": [
    "# Initialize tokenizer - same model as in train_predictor_initial.py\n",
    "model_name = \"deepseek-ai/DeepSeek-R1-Distill-Qwen-1.5B\"\n",
    "tokenizer = AutoTokenizer.from_pretrained(model_name, use_fast=True)\n",
    "tokenizer.pad_token = tokenizer.eos_token\n",
    "\n",
    "def load_validation_data(batch_size=16):\n",
    "    with open('../../Data/test_prompts/aime24.json', 'r') as f:\n",
    "        dataset = json.load(f)\n",
    "        \n",
    "    with open('../../Data/all_qwen3_8b/parallel/scored_aime24_qwen3.json', 'r') as f:\n",
    "        completion_data = json.load(f)\n",
    "    \n",
    "    # Prepare data\n",
    "    texts = [item['problem'] for item in dataset]\n",
    "    gt_answers = [item['answer'] for item in dataset]\n",
    "    completions = [item['score']['completions'] for item in completion_data]\n",
    "    completion_tokens = [item['score']['completion_tokens'] for item in completion_data]\n",
    "    scores = [item['score']['scores'] for item in completion_data]\n",
    "    \n",
    "    val_texts = texts\n",
    "    val_gt_answers = gt_answers\n",
    "    val_completions = completions\n",
    "    val_completion_tokens = completion_tokens\n",
    "    val_scores = scores\n",
    "    \n",
    "    print(f\"Total dataset size: {len(texts)}\")\n",
    "    print(f\"Validation size: {len(val_texts)}\")\n",
    "    \n",
    "    # Load or predict mu/sigma parameters\n",
    "    if os.path.exists(f'{DATASET}_train_mu_sigma.json'):\n",
    "        print(\"Loading existing mu/sigma parameters...\")\n",
    "        with open(f'{DATASET}_train_mu_sigma.json', 'r') as f:\n",
    "            val_labels = json.load(f)\n",
    "    else:\n",
    "        print(\"Predicting mu/sigma parameters using QwenMuSigmaPredictor...\")\n",
    "        \n",
    "        # Clear GPU cache before loading model\n",
    "        torch.cuda.empty_cache()\n",
    "        \n",
    "        # Load model on CPU first to avoid GPU memory issues\n",
    "        # print(\"Loading model on CPU first...\")\n",
    "        model = QwenMuSigmaPredictor(model_name).to(device)\n",
    "        \n",
    "        # Load checkpoint on CPU\n",
    "        checkpoint_path = '/home/wangyoukang/Desktop/Test-time Scaling/large-scale_testing/Qwen_Predictor_Training/best_predictor_model_direct_qwen_real.pt'\n",
    "        checkpoint = torch.load(checkpoint_path, map_location='cpu')\n",
    "        model.load_state_dict(checkpoint)\n",
    "        \n",
    "        # # Move model to GPU after loading checkpoint\n",
    "        # print(\"Moving model to GPU...\")\n",
    "        # model = model.to(device)\n",
    "        # model.eval()\n",
    "        \n",
    "        # # Clear CPU cache\n",
    "        # del checkpoint\n",
    "        # torch.cuda.empty_cache()\n",
    "        \n",
    "        # Create dataset and dataloader for prediction\n",
    "        val_dataset = TextDatasetNoLabels(val_texts, tokenizer)\n",
    "        val_loader = DataLoader(val_dataset, batch_size=batch_size)\n",
    "        \n",
    "        # Make predictions\n",
    "        val_labels = []\n",
    "        with torch.no_grad():\n",
    "            for batch in val_loader:\n",
    "                input_ids = batch['input_ids'].to(device)\n",
    "                attention_mask = batch['attention_mask'].to(device)\n",
    "                outputs = model(input_ids, attention_mask)\n",
    "                val_labels.extend(outputs.cpu().numpy().tolist())\n",
    "        \n",
    "        # Save predictions\n",
    "        with open(f'{DATASET}_train_mu_sigma.json', 'w') as f:\n",
    "            json.dump(val_labels, f)\n",
    "            \n",
    "    # Create validation dataset and dataloader\n",
    "    val_dataset = TextDataset(val_texts, val_labels, tokenizer)\n",
    "    val_loader = DataLoader(val_dataset, batch_size=batch_size)\n",
    "    \n",
    "    return val_loader, val_texts, val_gt_answers, val_completions, val_completion_tokens, val_scores, val_labels, tokenizer\n",
    "\n",
    "# Load validation data\n",
    "val_loader, val_texts, val_gt_answers, val_completions, val_completion_tokens, val_scores, val_labels, tokenizer = load_validation_data()\n"
   ]
  },
  {
   "cell_type": "code",
   "execution_count": 3,
   "metadata": {},
   "outputs": [
    {
     "name": "stdout",
     "output_type": "stream",
     "text": [
      "\n",
      "Comparison of Estimation Methods (first 10 examples):\n",
      "ID   Predictor_μ   Predictor_σ  MLE_μ     MLE_σ     MAP_μ     MAP_σ     GT_μ      GT_σ\n",
      "------------------------------------------------------------------------------------------\n",
      "0         0.6235      0.1135    0.9739    0.0351    0.8705    0.1201    0.9907    0.0235\n",
      "1         0.6610      0.1043    0.4310    0.0588    0.4632    0.0699    0.4890    0.0892\n",
      "2         0.6834      0.1139    0.4258    0.0278    0.4334    0.0301    0.4494    0.0412\n",
      "3         0.5975      0.0914    0.4380    0.0336    0.4444    0.0354    0.4254    0.0466\n",
      "4         0.5143      0.0985    0.6189    0.0961    0.5930    0.0994    0.6105    0.0795\n",
      "5         0.6992      0.0917    0.4585    0.0220    0.4627    0.0230    0.6131    0.1582\n",
      "6         0.6755      0.1047    0.5853    0.0619    0.5967    0.0659    0.5966    0.1002\n",
      "7         0.5058      0.0558    1.0582    0.1353    0.7274    0.1650    1.4332    0.2606\n",
      "8         0.6027      0.0968    0.8745    0.0329    0.8407    0.0384    0.8087    0.0700\n",
      "9         0.5271      0.1360    0.9627    0.0280    0.7112    0.2152    0.9495    0.0649\n",
      "10        0.6061      0.1544    0.4920    0.0726    0.5140    0.0847    0.4938    0.0932\n",
      "11        0.5284      0.0908    0.7725    0.0460    0.7332    0.0649    0.8044    0.0606\n",
      "12        0.6263      0.1054    0.9410    0.0021    0.8652    0.0999    0.9226    0.0906\n",
      "13        0.7189      0.1323    0.4457    0.0527    0.4853    0.0713    0.4718    0.0543\n",
      "14        0.6327      0.0957    0.6279    0.1549    0.6286    0.1392    0.5824    0.0991\n",
      "15        0.4786      0.1201    0.8031    0.0509    0.7260    0.0971    0.7796    0.0854\n",
      "16        0.5019      0.0918    0.7275    0.1026    0.6554    0.1183    0.7564    0.1536\n",
      "17        0.5432      0.0728    0.6745    0.0822    0.6492    0.0846    0.5979    0.0736\n",
      "18        0.7051      0.0788    0.5635    0.0807    0.5907    0.0845    0.5805    0.1174\n",
      "19        0.5597      0.0605    0.7150    0.1087    0.6715    0.1069    0.6400    0.0784\n",
      "20        0.6826      0.0816    0.4826    0.0310    0.5213    0.0756    0.4908    0.0627\n",
      "21        0.7763      0.0853    0.5785    0.0825    0.6223    0.0924    0.5072    0.0700\n"
     ]
    },
    {
     "name": "stderr",
     "output_type": "stream",
     "text": [
      "/home/wangyoukang/anaconda3/envs/test_scale/lib/python3.10/site-packages/scipy/optimize/_numdiff.py:596: RuntimeWarning: invalid value encountered in subtract\n",
      "  df = fun(x1) - f0\n"
     ]
    },
    {
     "name": "stdout",
     "output_type": "stream",
     "text": [
      "22        0.7035      0.1236    0.5385    0.0401    0.5485    0.0440    0.5688    0.0582\n",
      "23        0.7543      0.1253    0.7375    0.0180    0.7245    0.0225    0.6940    0.0716\n",
      "24        0.6305      0.0490    0.9733    0.0298    0.9500    0.0529   25.8013    1.2736\n",
      "25        0.6474      0.1419    0.4633    0.0417    0.4761    0.0473    0.4433    0.0466\n",
      "26        0.6417      0.0770    1.1170    0.1356    0.8794    0.0870    1.4238    0.1756\n",
      "27        0.6521      0.1246    0.4778    0.0598    0.5016    0.0689    0.4637    0.0728\n",
      "28        0.7377      0.0989    0.4274    0.0054    0.4277    0.0054    0.4558    0.0408\n",
      "29        0.6121      0.1139    0.5237    0.0796    0.5409    0.0850    0.5459    0.0961\n",
      "\n",
      "Performance Comparison (MSE against ground truth):\n",
      "Predictor MSE - μ: 21.208091, σ: 0.053953\n",
      "MLE MSE      - μ: 20.557499, σ: 0.053756\n",
      "MAP MSE      - μ: 20.617417, σ: 0.052354\n",
      "\n",
      "Statistics of Different Estimation Methods:\n",
      "Predictor Estimates:\n",
      "Mean μ: 0.6276 ± 0.0787\n",
      "Mean σ: 0.1010 ± 0.0249\n",
      "\n",
      "MLE Estimates (10 samples):\n",
      "Mean μ: 0.6636 ± 0.2093\n",
      "Mean σ: 0.0603 ± 0.0384\n",
      "\n",
      "MAP Estimates (10 samples):\n",
      "Mean μ: 0.6285 ± 0.1466\n",
      "Mean σ: 0.0798 ± 0.0433\n",
      "\n",
      "Ground Truth (100 samples):\n",
      "Mean μ: 1.5130 ± 4.5173\n",
      "Mean σ: 0.1269 ± 0.2180\n"
     ]
    }
   ],
   "source": [
    "# Ground truth parameters (using full data)\n",
    "original_params_compare = []\n",
    "for idx, score in enumerate(val_scores):\n",
    "    data = np.array(score[0][:100])\n",
    "    initial_mu = np.mean(data)\n",
    "    initial_sigma = np.std(data)\n",
    "    result = minimize(lambda params: neg_log_likelihood(params, data), \n",
    "                     [initial_mu, initial_sigma],\n",
    "                     bounds=[(None, None), (1e-6, None)], \n",
    "                     method='L-BFGS-B')\n",
    "    mu_hat, sigma_hat = result.x\n",
    "    original_params_compare.append((mu_hat, sigma_hat))\n",
    "\n",
    "# Estimates using limited data (first 10 samples)\n",
    "mle_estimated_params = []  # Store MLE estimates\n",
    "map_estimated_params = []  # Store MAP estimates\n",
    "predictor_params = []      # Store predictor's estimates\n",
    "\n",
    "print(\"\\nComparison of Estimation Methods (first 10 examples):\")\n",
    "print(\"ID   Predictor_μ   Predictor_σ  MLE_μ     MLE_σ     MAP_μ     MAP_σ     GT_μ      GT_σ\")\n",
    "print(\"-\" * 90)\n",
    "\n",
    "peek_number = 3\n",
    "\n",
    "for i, (score, prediction) in enumerate(zip(val_scores, val_labels)):\n",
    "    peek_data = np.array(score[0][:peek_number])\n",
    "    \n",
    "    # Store predictor's parameters\n",
    "    prior_mu, prior_sigma = prediction\n",
    "    predictor_params.append((prior_mu, prior_sigma))\n",
    "    \n",
    "    # MLE estimation with limited data\n",
    "    initial_mu = np.mean(peek_data)\n",
    "    initial_sigma = np.std(peek_data)\n",
    "    mle_result = minimize(\n",
    "        lambda params: neg_log_likelihood(params, peek_data),\n",
    "        [initial_mu, initial_sigma],\n",
    "        bounds=[(None, None), (1e-6, None)],\n",
    "        method='L-BFGS-B'\n",
    "    )\n",
    "    mle_mu, mle_sigma = mle_result.x\n",
    "    mle_estimated_params.append((mle_mu, mle_sigma))\n",
    "    \n",
    "    # MAP estimation with limited data\n",
    "    map_result = minimize(\n",
    "        lambda params: neg_log_posterior(\n",
    "            params, \n",
    "            peek_data, \n",
    "            prior_mu=prior_mu, \n",
    "            prior_sigma=prior_sigma\n",
    "        ),\n",
    "        [prior_mu, prior_sigma],\n",
    "        bounds=[(None, None), (1e-6, None)],\n",
    "        method='L-BFGS-B'\n",
    "    )\n",
    "    map_mu, map_sigma = map_result.x\n",
    "    map_estimated_params.append((map_mu, map_sigma))\n",
    "    \n",
    "    # Print comparison for first 50 examples\n",
    "    if i < 50:\n",
    "        gt_mu, gt_sigma = original_params_compare[i]\n",
    "        print(f\"{i:<4} {prior_mu:11.4f} {prior_sigma:11.4f} {mle_mu:9.4f} {mle_sigma:9.4f} \"\n",
    "              f\"{map_mu:9.4f} {map_sigma:9.4f} {gt_mu:9.4f} {gt_sigma:9.4f}\")\n",
    "\n",
    "# Call the function to perform the analysis\n",
    "analyze_estimation_performance(predictor_params, mle_estimated_params, map_estimated_params, original_params_compare)\n"
   ]
  },
  {
   "cell_type": "code",
   "execution_count": 4,
   "metadata": {},
   "outputs": [],
   "source": [
    "# Load baseline results\n",
    "with open(f'{DATASET}_BoN_results.json', 'r') as f:\n",
    "    data = json.load(f)\n",
    "\n",
    "# Reconstruct the baseline arrays\n",
    "baseline_accuracy_values = []\n",
    "baseline_average_token_counts = []\n",
    "\n",
    "for item in data:\n",
    "    baseline_accuracy_values.append(item['accuracy'])\n",
    "    baseline_average_token_counts.append(item['token_count'])"
   ]
  },
  {
   "cell_type": "code",
   "execution_count": 5,
   "metadata": {},
   "outputs": [
    {
     "name": "stdout",
     "output_type": "stream",
     "text": [
      "Target Score Panel: [0.7, 0.75, 0.8, 0.85, 0.9, 0.925, 0.95, 0.975]\n",
      "Percentile Panel: [0.01, 0.02, 0.035, 0.05, 0.075, 0.1]\n",
      "Max N: 8\n",
      "\n",
      "Evaluating MLE Results...\n"
     ]
    },
    {
     "name": "stderr",
     "output_type": "stream",
     "text": [
      "Target Score (MLE):   0%|          | 0/8 [00:00<?, ?it/s]"
     ]
    },
    {
     "name": "stdout",
     "output_type": "stream",
     "text": [
      "MLE Min N Required [3, 8, 8, 8, 8, 8, 8, 3, 3, 3, 8, 3, 3, 8, 8, 3, 5, 8, 8, 6, 8, 8, 8, 3, 3, 8, 3, 8, 8, 8]\n"
     ]
    },
    {
     "name": "stderr",
     "output_type": "stream",
     "text": []
    },
    {
     "name": "stdout",
     "output_type": "stream",
     "text": [
      "MLE - Target Score: 0.7, Percentile: 0.01\n",
      "MLE - Accuracy: 0.8333, Average Token Count: 93459.97\n",
      "MLE Min N Required [3, 8, 8, 8, 8, 8, 8, 3, 3, 3, 8, 3, 3, 8, 8, 3, 5, 8, 8, 5, 8, 8, 8, 3, 3, 8, 3, 8, 8, 8]\n",
      "MLE - Target Score: 0.7, Percentile: 0.02\n",
      "MLE - Accuracy: 0.8333, Average Token Count: 93169.03\n",
      "MLE Min N Required [3, 8, 8, 8, 8, 8, 8, 3, 3, 3, 8, 3, 3, 8, 8, 3, 4, 8, 8, 5, 8, 8, 8, 3, 3, 8, 3, 8, 8, 8]\n",
      "MLE - Target Score: 0.7, Percentile: 0.035\n",
      "MLE - Accuracy: 0.8333, Average Token Count: 92913.30\n",
      "MLE Min N Required [3, 8, 8, 8, 8, 8, 8, 3, 3, 3, 8, 3, 3, 8, 8, 3, 4, 7, 8, 4, 8, 8, 8, 3, 3, 8, 3, 8, 8, 8]\n"
     ]
    },
    {
     "name": "stderr",
     "output_type": "stream",
     "text": [
      "Target Score (MLE):  12%|█▎        | 1/8 [00:00<00:04,  1.51it/s]"
     ]
    },
    {
     "name": "stdout",
     "output_type": "stream",
     "text": [
      "MLE - Target Score: 0.7, Percentile: 0.05\n",
      "MLE - Accuracy: 0.8333, Average Token Count: 92143.87\n",
      "MLE Min N Required [3, 8, 8, 8, 8, 8, 8, 3, 3, 3, 8, 3, 3, 8, 7, 3, 3, 6, 8, 4, 8, 8, 8, 3, 3, 8, 3, 8, 8, 8]\n",
      "MLE - Target Score: 0.7, Percentile: 0.075\n",
      "MLE - Accuracy: 0.8333, Average Token Count: 90518.30\n",
      "MLE Min N Required [3, 8, 8, 8, 8, 8, 8, 3, 3, 3, 8, 3, 3, 8, 7, 3, 3, 5, 8, 3, 8, 8, 8, 3, 3, 8, 3, 8, 8, 8]\n",
      "MLE - Target Score: 0.7, Percentile: 0.1\n",
      "MLE - Accuracy: 0.8333, Average Token Count: 89661.03\n"
     ]
    },
    {
     "name": "stderr",
     "output_type": "stream",
     "text": []
    },
    {
     "name": "stdout",
     "output_type": "stream",
     "text": [
      "MLE Min N Required [3, 8, 8, 8, 8, 8, 8, 3, 3, 3, 8, 4, 3, 8, 8, 3, 8, 8, 8, 8, 8, 8, 8, 8, 3, 8, 3, 8, 8, 8]\n",
      "MLE - Target Score: 0.75, Percentile: 0.01\n",
      "MLE - Accuracy: 0.8333, Average Token Count: 97614.37\n",
      "MLE Min N Required [3, 8, 8, 8, 8, 8, 8, 3, 3, 3, 8, 4, 3, 8, 8, 3, 8, 8, 8, 8, 8, 8, 8, 8, 3, 8, 3, 8, 8, 8]\n",
      "MLE - Target Score: 0.75, Percentile: 0.02\n",
      "MLE - Accuracy: 0.8333, Average Token Count: 97614.37\n",
      "MLE Min N Required [3, 8, 8, 8, 8, 8, 8, 3, 3, 3, 8, 3, 3, 8, 8, 3, 7, 8, 8, 8, 8, 8, 8, 8, 3, 8, 3, 8, 8, 8]\n",
      "MLE - Target Score: 0.75, Percentile: 0.035\n",
      "MLE - Accuracy: 0.8333, Average Token Count: 96835.00\n"
     ]
    },
    {
     "name": "stderr",
     "output_type": "stream",
     "text": [
      "Target Score (MLE):  25%|██▌       | 2/8 [00:01<00:03,  1.81it/s]"
     ]
    },
    {
     "name": "stdout",
     "output_type": "stream",
     "text": [
      "MLE Min N Required [3, 8, 8, 8, 8, 8, 8, 3, 3, 3, 8, 3, 3, 8, 8, 3, 6, 8, 8, 7, 8, 8, 8, 8, 3, 8, 3, 8, 8, 8]\n",
      "MLE - Target Score: 0.75, Percentile: 0.05\n",
      "MLE - Accuracy: 0.8333, Average Token Count: 96310.20\n",
      "MLE Min N Required [3, 8, 8, 8, 8, 8, 8, 3, 3, 3, 8, 3, 3, 8, 8, 3, 5, 8, 8, 6, 8, 8, 8, 8, 3, 8, 3, 8, 8, 8]\n",
      "MLE - Target Score: 0.75, Percentile: 0.075\n",
      "MLE - Accuracy: 0.8333, Average Token Count: 95110.77\n",
      "MLE Min N Required [3, 8, 8, 8, 8, 8, 8, 3, 3, 3, 8, 3, 3, 8, 8, 3, 5, 8, 8, 5, 8, 8, 8, 8, 3, 8, 3, 8, 8, 8]\n",
      "MLE - Target Score: 0.75, Percentile: 0.1\n",
      "MLE - Accuracy: 0.8333, Average Token Count: 94819.83\n"
     ]
    },
    {
     "name": "stderr",
     "output_type": "stream",
     "text": []
    },
    {
     "name": "stdout",
     "output_type": "stream",
     "text": [
      "MLE Min N Required [3, 8, 8, 8, 8, 8, 8, 3, 3, 3, 8, 8, 3, 8, 8, 7, 8, 8, 8, 8, 8, 8, 8, 8, 3, 8, 3, 8, 8, 8]\n",
      "MLE - Target Score: 0.8, Percentile: 0.01\n",
      "MLE - Accuracy: 0.8333, Average Token Count: 99599.80\n",
      "MLE Min N Required [3, 8, 8, 8, 8, 8, 8, 3, 3, 3, 8, 8, 3, 8, 8, 6, 8, 8, 8, 8, 8, 8, 8, 8, 3, 8, 3, 8, 8, 8]\n",
      "MLE - Target Score: 0.8, Percentile: 0.02\n",
      "MLE - Accuracy: 0.8333, Average Token Count: 99215.80\n",
      "MLE Min N Required [3, 8, 8, 8, 8, 8, 8, 3, 3, 3, 8, 8, 3, 8, 8, 5, 8, 8, 8, 8, 8, 8, 8, 8, 3, 8, 3, 8, 8, 8]\n"
     ]
    },
    {
     "name": "stderr",
     "output_type": "stream",
     "text": []
    },
    {
     "name": "stdout",
     "output_type": "stream",
     "text": [
      "MLE - Target Score: 0.8, Percentile: 0.035\n",
      "MLE - Accuracy: 0.8333, Average Token Count: 98976.87\n",
      "MLE Min N Required [3, 8, 8, 8, 8, 8, 8, 3, 3, 3, 8, 8, 3, 8, 8, 5, 8, 8, 8, 8, 8, 8, 8, 8, 3, 8, 3, 8, 8, 8]\n",
      "MLE - Target Score: 0.8, Percentile: 0.05\n",
      "MLE - Accuracy: 0.8333, Average Token Count: 98976.87\n",
      "MLE Min N Required [3, 8, 8, 8, 8, 8, 8, 3, 3, 3, 8, 8, 3, 8, 8, 4, 8, 8, 8, 8, 8, 8, 8, 8, 3, 8, 3, 8, 8, 8]\n",
      "MLE - Target Score: 0.8, Percentile: 0.075\n",
      "MLE - Accuracy: 0.8333, Average Token Count: 98739.47\n"
     ]
    },
    {
     "name": "stderr",
     "output_type": "stream",
     "text": [
      "Target Score (MLE):  38%|███▊      | 3/8 [00:01<00:02,  1.86it/s]"
     ]
    },
    {
     "name": "stdout",
     "output_type": "stream",
     "text": [
      "MLE Min N Required [3, 8, 8, 8, 8, 8, 8, 3, 3, 3, 8, 8, 3, 8, 8, 4, 8, 8, 8, 8, 8, 8, 8, 8, 3, 8, 3, 8, 8, 8]\n",
      "MLE - Target Score: 0.8, Percentile: 0.1\n",
      "MLE - Accuracy: 0.8333, Average Token Count: 98739.47\n"
     ]
    },
    {
     "name": "stderr",
     "output_type": "stream",
     "text": []
    },
    {
     "name": "stdout",
     "output_type": "stream",
     "text": [
      "MLE Min N Required [3, 8, 8, 8, 8, 8, 8, 3, 4, 3, 8, 8, 3, 8, 8, 8, 8, 8, 8, 8, 8, 8, 8, 8, 3, 8, 3, 8, 8, 8]\n",
      "MLE - Target Score: 0.85, Percentile: 0.01\n",
      "MLE - Accuracy: 0.8333, Average Token Count: 100089.57\n",
      "MLE Min N Required [3, 8, 8, 8, 8, 8, 8, 3, 3, 3, 8, 8, 3, 8, 8, 8, 8, 8, 8, 8, 8, 8, 8, 8, 3, 8, 3, 8, 8, 8]\n",
      "MLE - Target Score: 0.85, Percentile: 0.02\n",
      "MLE - Accuracy: 0.8333, Average Token Count: 99856.17\n",
      "MLE Min N Required [3, 8, 8, 8, 8, 8, 8, 3, 3, 3, 8, 8, 3, 8, 8, 8, 8, 8, 8, 8, 8, 8, 8, 8, 3, 8, 3, 8, 8, 8]\n",
      "MLE - Target Score: 0.85, Percentile: 0.035\n",
      "MLE - Accuracy: 0.8333, Average Token Count: 99856.17\n"
     ]
    },
    {
     "name": "stderr",
     "output_type": "stream",
     "text": []
    },
    {
     "name": "stdout",
     "output_type": "stream",
     "text": [
      "MLE Min N Required [3, 8, 8, 8, 8, 8, 8, 3, 3, 3, 8, 8, 3, 8, 8, 8, 8, 8, 8, 8, 8, 8, 8, 8, 3, 8, 3, 8, 8, 8]\n",
      "MLE - Target Score: 0.85, Percentile: 0.05\n",
      "MLE - Accuracy: 0.8333, Average Token Count: 99856.17\n",
      "MLE Min N Required [3, 8, 8, 8, 8, 8, 8, 3, 3, 3, 8, 8, 3, 8, 8, 8, 8, 8, 8, 8, 8, 8, 8, 8, 3, 8, 3, 8, 8, 8]\n",
      "MLE - Target Score: 0.85, Percentile: 0.075\n",
      "MLE - Accuracy: 0.8333, Average Token Count: 99856.17\n"
     ]
    },
    {
     "name": "stderr",
     "output_type": "stream",
     "text": [
      "Target Score (MLE):  50%|█████     | 4/8 [00:02<00:02,  1.89it/s]"
     ]
    },
    {
     "name": "stdout",
     "output_type": "stream",
     "text": [
      "MLE Min N Required [3, 8, 8, 8, 8, 8, 8, 3, 3, 3, 8, 8, 3, 8, 8, 8, 8, 8, 8, 8, 8, 8, 8, 8, 3, 8, 3, 8, 8, 8]\n",
      "MLE - Target Score: 0.85, Percentile: 0.1\n",
      "MLE - Accuracy: 0.8333, Average Token Count: 99856.17\n"
     ]
    },
    {
     "name": "stderr",
     "output_type": "stream",
     "text": []
    },
    {
     "name": "stdout",
     "output_type": "stream",
     "text": [
      "MLE Min N Required [3, 8, 8, 8, 8, 8, 8, 5, 8, 3, 8, 8, 3, 8, 8, 8, 8, 8, 8, 8, 8, 8, 8, 8, 3, 8, 4, 8, 8, 8]\n",
      "MLE - Target Score: 0.9, Percentile: 0.01\n",
      "MLE - Accuracy: 0.8333, Average Token Count: 101760.67\n",
      "MLE Min N Required [3, 8, 8, 8, 8, 8, 8, 4, 8, 3, 8, 8, 3, 8, 8, 8, 8, 8, 8, 8, 8, 8, 8, 8, 3, 8, 4, 8, 8, 8]\n"
     ]
    },
    {
     "name": "stderr",
     "output_type": "stream",
     "text": []
    },
    {
     "name": "stdout",
     "output_type": "stream",
     "text": [
      "MLE - Target Score: 0.9, Percentile: 0.02\n",
      "MLE - Accuracy: 0.8333, Average Token Count: 101596.87\n",
      "MLE Min N Required [3, 8, 8, 8, 8, 8, 8, 4, 8, 3, 8, 8, 3, 8, 8, 8, 8, 8, 8, 8, 8, 8, 8, 8, 3, 8, 3, 8, 8, 8]\n",
      "MLE - Target Score: 0.9, Percentile: 0.035\n",
      "MLE - Accuracy: 0.8333, Average Token Count: 101377.57\n"
     ]
    },
    {
     "name": "stderr",
     "output_type": "stream",
     "text": []
    },
    {
     "name": "stdout",
     "output_type": "stream",
     "text": [
      "MLE Min N Required [3, 8, 8, 8, 8, 8, 8, 3, 8, 3, 8, 8, 3, 8, 8, 8, 8, 8, 8, 8, 8, 8, 8, 8, 3, 8, 3, 8, 8, 8]\n",
      "MLE - Target Score: 0.9, Percentile: 0.05\n",
      "MLE - Accuracy: 0.8333, Average Token Count: 101162.70\n"
     ]
    },
    {
     "name": "stderr",
     "output_type": "stream",
     "text": [
      "Target Score (MLE):  62%|██████▎   | 5/8 [00:02<00:01,  1.90it/s]"
     ]
    },
    {
     "name": "stdout",
     "output_type": "stream",
     "text": [
      "MLE Min N Required [3, 8, 8, 8, 8, 8, 8, 3, 8, 3, 8, 8, 3, 8, 8, 8, 8, 8, 8, 8, 8, 8, 8, 8, 3, 8, 3, 8, 8, 8]\n",
      "MLE - Target Score: 0.9, Percentile: 0.075\n",
      "MLE - Accuracy: 0.8333, Average Token Count: 101162.70\n",
      "MLE Min N Required [3, 8, 8, 8, 8, 8, 8, 3, 8, 3, 8, 8, 3, 8, 8, 8, 8, 8, 8, 8, 8, 8, 8, 8, 3, 8, 3, 8, 8, 8]\n",
      "MLE - Target Score: 0.9, Percentile: 0.1\n",
      "MLE - Accuracy: 0.8333, Average Token Count: 101162.70\n"
     ]
    },
    {
     "name": "stderr",
     "output_type": "stream",
     "text": []
    },
    {
     "name": "stdout",
     "output_type": "stream",
     "text": [
      "MLE Min N Required [3, 8, 8, 8, 8, 8, 8, 7, 8, 3, 8, 8, 3, 8, 8, 8, 8, 8, 8, 8, 8, 8, 8, 8, 3, 8, 6, 8, 8, 8]\n"
     ]
    },
    {
     "name": "stderr",
     "output_type": "stream",
     "text": []
    },
    {
     "name": "stdout",
     "output_type": "stream",
     "text": [
      "MLE - Target Score: 0.925, Percentile: 0.01\n",
      "MLE - Accuracy: 0.8333, Average Token Count: 102542.40\n",
      "MLE Min N Required [3, 8, 8, 8, 8, 8, 8, 6, 8, 3, 8, 8, 3, 8, 8, 8, 8, 8, 8, 8, 8, 8, 8, 8, 3, 8, 5, 8, 8, 8]\n",
      "MLE - Target Score: 0.925, Percentile: 0.02\n",
      "MLE - Accuracy: 0.8333, Average Token Count: 102215.10\n",
      "MLE Min N Required [3, 8, 8, 8, 8, 8, 8, 5, 8, 3, 8, 8, 3, 8, 8, 8, 8, 8, 8, 8, 8, 8, 8, 8, 3, 8, 4, 8, 8, 8]\n",
      "MLE - Target Score: 0.925, Percentile: 0.035\n",
      "MLE - Accuracy: 0.8333, Average Token Count: 101760.67\n"
     ]
    },
    {
     "name": "stderr",
     "output_type": "stream",
     "text": []
    },
    {
     "name": "stdout",
     "output_type": "stream",
     "text": [
      "MLE Min N Required [3, 8, 8, 8, 8, 8, 8, 5, 8, 3, 8, 8, 3, 8, 8, 8, 8, 8, 8, 8, 8, 8, 8, 8, 3, 8, 4, 8, 8, 8]\n",
      "MLE - Target Score: 0.925, Percentile: 0.05\n",
      "MLE - Accuracy: 0.8333, Average Token Count: 101760.67\n",
      "MLE Min N Required [3, 8, 8, 8, 8, 8, 8, 4, 8, 3, 8, 8, 3, 8, 8, 8, 8, 8, 8, 8, 8, 8, 8, 8, 3, 8, 3, 8, 8, 8]\n",
      "MLE - Target Score: 0.925, Percentile: 0.075\n",
      "MLE - Accuracy: 0.8333, Average Token Count: 101377.57\n",
      "MLE Min N Required [3, 8, 8, 8, 8, 8, 8, 4, 8, 3, 8, 8, 3, 8, 8, 8, 8, 8, 8, 8, 8, 8, 8, 8, 3, 8, 3, 8, 8, 8]\n"
     ]
    },
    {
     "name": "stderr",
     "output_type": "stream",
     "text": [
      "Target Score (MLE):  75%|███████▌  | 6/8 [00:03<00:01,  1.87it/s]"
     ]
    },
    {
     "name": "stdout",
     "output_type": "stream",
     "text": [
      "MLE - Target Score: 0.925, Percentile: 0.1\n",
      "MLE - Accuracy: 0.8333, Average Token Count: 101377.57\n"
     ]
    },
    {
     "name": "stderr",
     "output_type": "stream",
     "text": []
    },
    {
     "name": "stdout",
     "output_type": "stream",
     "text": [
      "MLE Min N Required [5, 8, 8, 8, 8, 8, 8, 8, 8, 5, 8, 8, 8, 8, 8, 8, 8, 8, 8, 8, 8, 8, 8, 8, 4, 8, 8, 8, 8, 8]\n",
      "MLE - Target Score: 0.95, Percentile: 0.01\n",
      "MLE - Accuracy: 0.8333, Average Token Count: 105256.80\n",
      "MLE Min N Required [4, 8, 8, 8, 8, 8, 8, 8, 8, 4, 8, 8, 8, 8, 8, 8, 8, 8, 8, 8, 8, 8, 8, 8, 3, 8, 7, 8, 8, 8]\n"
     ]
    },
    {
     "name": "stderr",
     "output_type": "stream",
     "text": []
    },
    {
     "name": "stdout",
     "output_type": "stream",
     "text": [
      "MLE - Target Score: 0.95, Percentile: 0.02\n",
      "MLE - Accuracy: 0.8333, Average Token Count: 104287.00\n",
      "MLE Min N Required [3, 8, 8, 8, 8, 8, 8, 8, 8, 4, 8, 8, 8, 8, 8, 8, 8, 8, 8, 8, 8, 8, 8, 8, 3, 8, 6, 8, 8, 8]\n"
     ]
    },
    {
     "name": "stderr",
     "output_type": "stream",
     "text": []
    },
    {
     "name": "stdout",
     "output_type": "stream",
     "text": [
      "MLE - Target Score: 0.95, Percentile: 0.035\n",
      "MLE - Accuracy: 0.8333, Average Token Count: 103929.50\n",
      "MLE Min N Required [3, 8, 8, 8, 8, 8, 8, 7, 8, 3, 8, 8, 8, 8, 8, 8, 8, 8, 8, 8, 8, 8, 8, 8, 3, 8, 6, 8, 8, 8]\n",
      "MLE - Target Score: 0.95, Percentile: 0.05\n",
      "MLE - Accuracy: 0.8333, Average Token Count: 103551.37\n",
      "MLE Min N Required [3, 8, 8, 8, 8, 8, 8, 6, 8, 3, 8, 8, 8, 8, 8, 8, 8, 8, 8, 8, 8, 8, 8, 8, 3, 8, 5, 8, 8, 8]\n",
      "MLE - Target Score: 0.95, Percentile: 0.075\n",
      "MLE - Accuracy: 0.8333, Average Token Count: 103224.07\n"
     ]
    },
    {
     "name": "stderr",
     "output_type": "stream",
     "text": [
      "Target Score (MLE):  88%|████████▊ | 7/8 [00:03<00:00,  1.82it/s]"
     ]
    },
    {
     "name": "stdout",
     "output_type": "stream",
     "text": [
      "MLE Min N Required [3, 8, 8, 8, 8, 8, 8, 6, 8, 3, 8, 8, 8, 8, 8, 8, 8, 8, 8, 8, 8, 8, 8, 8, 3, 8, 4, 8, 8, 8]\n",
      "MLE - Target Score: 0.95, Percentile: 0.1\n",
      "MLE - Accuracy: 0.8333, Average Token Count: 103043.13\n"
     ]
    },
    {
     "name": "stderr",
     "output_type": "stream",
     "text": []
    },
    {
     "name": "stdout",
     "output_type": "stream",
     "text": [
      "MLE Min N Required [8, 8, 8, 8, 8, 8, 8, 8, 8, 8, 8, 8, 8, 8, 8, 8, 8, 8, 8, 8, 8, 8, 8, 8, 8, 8, 8, 8, 8, 8]\n",
      "MLE - Target Score: 0.975, Percentile: 0.01\n",
      "MLE - Accuracy: 0.8333, Average Token Count: 107100.57\n",
      "MLE Min N Required [8, 8, 8, 8, 8, 8, 8, 8, 8, 8, 8, 8, 8, 8, 8, 8, 8, 8, 8, 8, 8, 8, 8, 8, 8, 8, 8, 8, 8, 8]\n"
     ]
    },
    {
     "name": "stderr",
     "output_type": "stream",
     "text": []
    },
    {
     "name": "stdout",
     "output_type": "stream",
     "text": [
      "MLE - Target Score: 0.975, Percentile: 0.02\n",
      "MLE - Accuracy: 0.8333, Average Token Count: 107100.57\n",
      "MLE Min N Required [8, 8, 8, 8, 8, 8, 8, 8, 8, 8, 8, 8, 8, 8, 8, 8, 8, 8, 8, 8, 8, 8, 8, 8, 8, 8, 8, 8, 8, 8]\n",
      "MLE - Target Score: 0.975, Percentile: 0.035\n",
      "MLE - Accuracy: 0.8333, Average Token Count: 107100.57\n",
      "MLE Min N Required [8, 8, 8, 8, 8, 8, 8, 8, 8, 8, 8, 8, 8, 8, 8, 8, 8, 8, 8, 8, 8, 8, 8, 8, 7, 8, 8, 8, 8, 8]\n"
     ]
    },
    {
     "name": "stderr",
     "output_type": "stream",
     "text": []
    },
    {
     "name": "stdout",
     "output_type": "stream",
     "text": [
      "MLE - Target Score: 0.975, Percentile: 0.05\n",
      "MLE - Accuracy: 0.8333, Average Token Count: 106863.50\n",
      "MLE Min N Required [7, 8, 8, 8, 8, 8, 8, 8, 8, 8, 8, 8, 8, 8, 8, 8, 8, 8, 8, 8, 8, 8, 8, 8, 6, 8, 8, 8, 8, 8]\n",
      "MLE - Target Score: 0.975, Percentile: 0.075\n",
      "MLE - Accuracy: 0.8333, Average Token Count: 106501.00\n",
      "MLE Min N Required [6, 8, 8, 8, 8, 8, 8, 8, 8, 8, 8, 8, 8, 8, 8, 8, 8, 8, 8, 8, 8, 8, 8, 8, 6, 8, 8, 8, 8, 8]\n"
     ]
    },
    {
     "name": "stderr",
     "output_type": "stream",
     "text": [
      "Target Score (MLE): 100%|██████████| 8/8 [00:04<00:00,  1.81it/s]\n"
     ]
    },
    {
     "name": "stdout",
     "output_type": "stream",
     "text": [
      "MLE - Target Score: 0.975, Percentile: 0.1\n",
      "MLE - Accuracy: 0.8333, Average Token Count: 106312.00\n",
      "\n",
      "Evaluating MAP Results...\n"
     ]
    },
    {
     "name": "stderr",
     "output_type": "stream",
     "text": [
      "Target Score (MAP):   0%|          | 0/8 [00:00<?, ?it/s]"
     ]
    },
    {
     "name": "stdout",
     "output_type": "stream",
     "text": [
      "MAP Min N Required [3, 8, 8, 8, 8, 8, 8, 6, 3, 8, 8, 4, 3, 8, 8, 5, 8, 8, 8, 8, 8, 8, 8, 3, 3, 8, 3, 8, 8, 8]\n"
     ]
    },
    {
     "name": "stderr",
     "output_type": "stream",
     "text": []
    },
    {
     "name": "stdout",
     "output_type": "stream",
     "text": [
      "MAP - Target Score: 0.7, Percentile: 0.01\n",
      "MAP - Accuracy: 0.8333, Average Token Count: 98080.90\n",
      "MAP Min N Required [3, 8, 8, 8, 8, 8, 8, 5, 3, 7, 8, 4, 3, 8, 8, 5, 8, 8, 8, 8, 8, 8, 8, 3, 3, 8, 3, 8, 8, 8]\n",
      "MAP - Target Score: 0.7, Percentile: 0.02\n",
      "MAP - Accuracy: 0.8333, Average Token Count: 97652.70\n",
      "MAP Min N Required [3, 8, 8, 8, 8, 8, 8, 5, 3, 6, 8, 3, 3, 8, 8, 4, 8, 8, 8, 7, 8, 8, 8, 3, 3, 8, 3, 8, 8, 8]\n",
      "MAP - Target Score: 0.7, Percentile: 0.035\n",
      "MAP - Accuracy: 0.8333, Average Token Count: 96685.27\n"
     ]
    },
    {
     "name": "stderr",
     "output_type": "stream",
     "text": []
    },
    {
     "name": "stdout",
     "output_type": "stream",
     "text": [
      "MAP Min N Required [3, 8, 8, 8, 8, 8, 8, 4, 3, 5, 8, 3, 3, 8, 8, 4, 7, 8, 8, 6, 8, 8, 8, 3, 3, 8, 3, 8, 8, 8]\n",
      "MAP - Target Score: 0.7, Percentile: 0.05\n",
      "MAP - Accuracy: 0.8333, Average Token Count: 95437.47\n",
      "MAP Min N Required [3, 8, 8, 8, 8, 8, 8, 4, 3, 5, 8, 3, 3, 8, 8, 3, 6, 8, 8, 6, 8, 8, 8, 3, 3, 8, 3, 8, 8, 8]\n",
      "MAP - Target Score: 0.7, Percentile: 0.075\n",
      "MAP - Accuracy: 0.8333, Average Token Count: 94932.77\n"
     ]
    },
    {
     "name": "stderr",
     "output_type": "stream",
     "text": [
      "Target Score (MAP):  12%|█▎        | 1/8 [00:00<00:03,  2.09it/s]"
     ]
    },
    {
     "name": "stdout",
     "output_type": "stream",
     "text": [
      "MAP Min N Required [3, 8, 8, 8, 8, 8, 8, 3, 3, 4, 8, 3, 3, 8, 7, 3, 6, 8, 8, 5, 8, 8, 8, 3, 3, 8, 3, 8, 8, 8]\n",
      "MAP - Target Score: 0.7, Percentile: 0.1\n",
      "MAP - Accuracy: 0.8333, Average Token Count: 93424.13\n"
     ]
    },
    {
     "name": "stderr",
     "output_type": "stream",
     "text": [
      "\n"
     ]
    },
    {
     "name": "stdout",
     "output_type": "stream",
     "text": [
      "MAP Min N Required [3, 8, 8, 8, 8, 8, 8, 8, 3, 8, 8, 8, 3, 8, 8, 8, 8, 8, 8, 8, 8, 8, 8, 8, 3, 8, 3, 8, 8, 8]\n",
      "MAP - Target Score: 0.75, Percentile: 0.01\n",
      "MAP - Accuracy: 0.8333, Average Token Count: 101794.67\n",
      "MAP Min N Required [3, 8, 8, 8, 8, 8, 8, 8, 3, 8, 8, 8, 3, 8, 8, 8, 8, 8, 8, 8, 8, 8, 8, 8, 3, 8, 3, 8, 8, 8]\n",
      "MAP - Target Score: 0.75, Percentile: 0.02\n",
      "MAP - Accuracy: 0.8333, Average Token Count: 101794.67\n"
     ]
    },
    {
     "name": "stderr",
     "output_type": "stream",
     "text": [
      "Percentile:  33%|███▎      | 2/6 [00:00<00:00, 11.48it/s]\u001b[A"
     ]
    },
    {
     "name": "stdout",
     "output_type": "stream",
     "text": [
      "MAP Min N Required [3, 8, 8, 8, 8, 8, 8, 7, 3, 8, 8, 7, 3, 8, 8, 7, 8, 8, 8, 8, 8, 8, 8, 8, 3, 8, 3, 8, 8, 8]\n",
      "MAP - Target Score: 0.75, Percentile: 0.035\n",
      "MAP - Accuracy: 0.8333, Average Token Count: 101124.23\n"
     ]
    },
    {
     "name": "stderr",
     "output_type": "stream",
     "text": []
    },
    {
     "name": "stdout",
     "output_type": "stream",
     "text": [
      "MAP Min N Required [3, 8, 8, 8, 8, 8, 8, 6, 3, 7, 8, 6, 3, 8, 8, 6, 8, 8, 8, 8, 8, 8, 8, 8, 3, 8, 3, 8, 8, 8]\n",
      "MAP - Target Score: 0.75, Percentile: 0.05\n",
      "MAP - Accuracy: 0.8333, Average Token Count: 100278.93\n",
      "MAP Min N Required [3, 8, 8, 8, 8, 8, 8, 5, 3, 6, 8, 6, 3, 8, 8, 6, 8, 8, 8, 8, 8, 8, 8, 8, 3, 8, 3, 8, 8, 8]\n",
      "MAP - Target Score: 0.75, Percentile: 0.075\n",
      "MAP - Accuracy: 0.8333, Average Token Count: 99821.17\n"
     ]
    },
    {
     "name": "stderr",
     "output_type": "stream",
     "text": [
      "Target Score (MAP):  25%|██▌       | 2/8 [00:00<00:03,  1.99it/s]"
     ]
    },
    {
     "name": "stdout",
     "output_type": "stream",
     "text": [
      "MAP Min N Required [3, 8, 8, 8, 8, 8, 8, 5, 3, 5, 8, 5, 3, 8, 8, 5, 8, 8, 8, 8, 8, 8, 8, 8, 3, 8, 3, 8, 8, 8]\n",
      "MAP - Target Score: 0.75, Percentile: 0.1\n",
      "MAP - Accuracy: 0.8333, Average Token Count: 99190.90\n"
     ]
    },
    {
     "name": "stderr",
     "output_type": "stream",
     "text": []
    },
    {
     "name": "stdout",
     "output_type": "stream",
     "text": [
      "MAP Min N Required [5, 8, 8, 8, 8, 8, 8, 8, 3, 8, 8, 8, 4, 8, 8, 8, 8, 8, 8, 8, 8, 8, 8, 8, 3, 8, 3, 8, 8, 8]\n",
      "MAP - Target Score: 0.8, Percentile: 0.01\n",
      "MAP - Accuracy: 0.8333, Average Token Count: 102343.70\n",
      "MAP Min N Required [4, 8, 8, 8, 8, 8, 8, 8, 3, 8, 8, 8, 4, 8, 8, 8, 8, 8, 8, 8, 8, 8, 8, 8, 3, 8, 3, 8, 8, 8]\n"
     ]
    },
    {
     "name": "stderr",
     "output_type": "stream",
     "text": []
    },
    {
     "name": "stdout",
     "output_type": "stream",
     "text": [
      "MAP - Target Score: 0.8, Percentile: 0.02\n",
      "MAP - Accuracy: 0.8333, Average Token Count: 102209.80\n",
      "MAP Min N Required [3, 8, 8, 8, 8, 8, 8, 8, 3, 8, 8, 8, 3, 8, 8, 8, 8, 8, 8, 8, 8, 8, 8, 8, 3, 8, 3, 8, 8, 8]\n"
     ]
    },
    {
     "name": "stderr",
     "output_type": "stream",
     "text": []
    },
    {
     "name": "stdout",
     "output_type": "stream",
     "text": [
      "MAP - Target Score: 0.8, Percentile: 0.035\n",
      "MAP - Accuracy: 0.8333, Average Token Count: 101794.67\n",
      "MAP Min N Required [3, 8, 8, 8, 8, 8, 8, 8, 3, 8, 8, 8, 3, 8, 8, 8, 8, 8, 8, 8, 8, 8, 8, 8, 3, 8, 3, 8, 8, 8]\n",
      "MAP - Target Score: 0.8, Percentile: 0.05\n",
      "MAP - Accuracy: 0.8333, Average Token Count: 101794.67\n",
      "MAP Min N Required [3, 8, 8, 8, 8, 8, 8, 8, 3, 8, 8, 8, 3, 8, 8, 8, 8, 8, 8, 8, 8, 8, 8, 8, 3, 8, 3, 8, 8, 8]\n"
     ]
    },
    {
     "name": "stderr",
     "output_type": "stream",
     "text": [
      "Target Score (MAP):  38%|███▊      | 3/8 [00:01<00:02,  1.87it/s]"
     ]
    },
    {
     "name": "stdout",
     "output_type": "stream",
     "text": [
      "MAP - Target Score: 0.8, Percentile: 0.075\n",
      "MAP - Accuracy: 0.8333, Average Token Count: 101794.67\n",
      "MAP Min N Required [3, 8, 8, 8, 8, 8, 8, 7, 3, 8, 8, 8, 3, 8, 8, 8, 8, 8, 8, 8, 8, 8, 8, 8, 3, 8, 3, 8, 8, 8]\n",
      "MAP - Target Score: 0.8, Percentile: 0.1\n",
      "MAP - Accuracy: 0.8333, Average Token Count: 101598.80\n"
     ]
    },
    {
     "name": "stderr",
     "output_type": "stream",
     "text": []
    },
    {
     "name": "stdout",
     "output_type": "stream",
     "text": [
      "MAP Min N Required [7, 8, 8, 8, 8, 8, 8, 8, 8, 8, 8, 8, 7, 8, 8, 8, 8, 8, 8, 8, 8, 8, 8, 8, 3, 8, 6, 8, 8, 8]\n",
      "MAP - Target Score: 0.85, Percentile: 0.01\n",
      "MAP - Accuracy: 0.8333, Average Token Count: 105188.73\n"
     ]
    },
    {
     "name": "stderr",
     "output_type": "stream",
     "text": []
    },
    {
     "name": "stdout",
     "output_type": "stream",
     "text": [
      "MAP Min N Required [6, 8, 8, 8, 8, 8, 8, 8, 8, 8, 8, 8, 6, 8, 8, 8, 8, 8, 8, 8, 8, 8, 8, 8, 3, 8, 5, 8, 8, 8]\n",
      "MAP - Target Score: 0.85, Percentile: 0.02\n",
      "MAP - Accuracy: 0.8333, Average Token Count: 104580.20\n",
      "MAP Min N Required [5, 8, 8, 8, 8, 8, 8, 8, 7, 8, 8, 8, 5, 8, 8, 8, 8, 8, 8, 8, 8, 8, 8, 8, 3, 8, 4, 8, 8, 8]\n",
      "MAP - Target Score: 0.85, Percentile: 0.035\n",
      "MAP - Accuracy: 0.8333, Average Token Count: 103776.23\n",
      "MAP Min N Required [5, 8, 8, 8, 8, 8, 8, 8, 6, 8, 8, 8, 5, 8, 8, 8, 8, 8, 8, 8, 8, 8, 8, 8, 3, 8, 4, 8, 8, 8]\n"
     ]
    },
    {
     "name": "stderr",
     "output_type": "stream",
     "text": []
    },
    {
     "name": "stdout",
     "output_type": "stream",
     "text": [
      "MAP - Target Score: 0.85, Percentile: 0.05\n",
      "MAP - Accuracy: 0.8333, Average Token Count: 103452.60\n",
      "MAP Min N Required [4, 8, 8, 8, 8, 8, 8, 8, 6, 8, 8, 8, 4, 8, 8, 8, 8, 8, 8, 8, 8, 8, 8, 8, 3, 8, 3, 8, 8, 8]\n",
      "MAP - Target Score: 0.85, Percentile: 0.075\n",
      "MAP - Accuracy: 0.8333, Average Token Count: 102933.80\n",
      "MAP Min N Required [4, 8, 8, 8, 8, 8, 8, 8, 5, 8, 8, 8, 4, 8, 8, 8, 8, 8, 8, 8, 8, 8, 8, 8, 3, 8, 3, 8, 8, 8]\n"
     ]
    },
    {
     "name": "stderr",
     "output_type": "stream",
     "text": [
      "Target Score (MAP):  50%|█████     | 4/8 [00:02<00:02,  1.83it/s]"
     ]
    },
    {
     "name": "stdout",
     "output_type": "stream",
     "text": [
      "MAP - Target Score: 0.85, Percentile: 0.1\n",
      "MAP - Accuracy: 0.8333, Average Token Count: 102694.27\n"
     ]
    },
    {
     "name": "stderr",
     "output_type": "stream",
     "text": []
    },
    {
     "name": "stdout",
     "output_type": "stream",
     "text": [
      "MAP Min N Required [8, 8, 8, 8, 8, 8, 8, 8, 8, 8, 8, 8, 8, 8, 8, 8, 8, 8, 8, 8, 8, 8, 8, 8, 3, 8, 8, 8, 8, 8]\n",
      "MAP - Target Score: 0.9, Percentile: 0.01\n",
      "MAP - Accuracy: 0.8333, Average Token Count: 106022.83\n",
      "MAP Min N Required [8, 8, 8, 8, 8, 8, 8, 8, 8, 8, 8, 8, 8, 8, 8, 8, 8, 8, 8, 8, 8, 8, 8, 8, 3, 8, 8, 8, 8, 8]\n"
     ]
    },
    {
     "name": "stderr",
     "output_type": "stream",
     "text": []
    },
    {
     "name": "stdout",
     "output_type": "stream",
     "text": [
      "MAP - Target Score: 0.9, Percentile: 0.02\n",
      "MAP - Accuracy: 0.8333, Average Token Count: 106022.83\n",
      "MAP Min N Required [8, 8, 8, 8, 8, 8, 8, 8, 8, 8, 8, 8, 8, 8, 8, 8, 8, 8, 8, 8, 8, 8, 8, 8, 3, 8, 8, 8, 8, 8]\n"
     ]
    },
    {
     "name": "stderr",
     "output_type": "stream",
     "text": []
    },
    {
     "name": "stdout",
     "output_type": "stream",
     "text": [
      "MAP - Target Score: 0.9, Percentile: 0.035\n",
      "MAP - Accuracy: 0.8333, Average Token Count: 106022.83\n",
      "MAP Min N Required [8, 8, 8, 8, 8, 8, 8, 8, 8, 8, 8, 8, 8, 8, 8, 8, 8, 8, 8, 8, 8, 8, 8, 8, 3, 8, 7, 8, 8, 8]\n",
      "MAP - Target Score: 0.9, Percentile: 0.05\n",
      "MAP - Accuracy: 0.8333, Average Token Count: 105681.60\n",
      "MAP Min N Required [8, 8, 8, 8, 8, 8, 8, 8, 8, 8, 8, 8, 8, 8, 8, 8, 8, 8, 8, 8, 8, 8, 8, 8, 3, 8, 6, 8, 8, 8]\n",
      "MAP - Target Score: 0.9, Percentile: 0.075\n",
      "MAP - Accuracy: 0.8333, Average Token Count: 105496.33\n"
     ]
    },
    {
     "name": "stderr",
     "output_type": "stream",
     "text": [
      "Target Score (MAP):  62%|██████▎   | 5/8 [00:02<00:01,  1.80it/s]"
     ]
    },
    {
     "name": "stdout",
     "output_type": "stream",
     "text": [
      "MAP Min N Required [7, 8, 8, 8, 8, 8, 8, 8, 8, 8, 8, 8, 7, 8, 8, 8, 8, 8, 8, 8, 8, 8, 8, 8, 3, 8, 6, 8, 8, 8]\n",
      "MAP - Target Score: 0.9, Percentile: 0.1\n",
      "MAP - Accuracy: 0.8333, Average Token Count: 105188.73\n"
     ]
    },
    {
     "name": "stderr",
     "output_type": "stream",
     "text": []
    },
    {
     "name": "stdout",
     "output_type": "stream",
     "text": [
      "MAP Min N Required [8, 8, 8, 8, 8, 8, 8, 8, 8, 8, 8, 8, 8, 8, 8, 8, 8, 8, 8, 8, 8, 8, 8, 8, 5, 8, 8, 8, 8, 8]\n",
      "MAP - Target Score: 0.925, Percentile: 0.01\n",
      "MAP - Accuracy: 0.8333, Average Token Count: 106442.87\n",
      "MAP Min N Required [8, 8, 8, 8, 8, 8, 8, 8, 8, 8, 8, 8, 8, 8, 8, 8, 8, 8, 8, 8, 8, 8, 8, 8, 5, 8, 8, 8, 8, 8]\n"
     ]
    },
    {
     "name": "stderr",
     "output_type": "stream",
     "text": []
    },
    {
     "name": "stdout",
     "output_type": "stream",
     "text": [
      "MAP - Target Score: 0.925, Percentile: 0.02\n",
      "MAP - Accuracy: 0.8333, Average Token Count: 106442.87\n",
      "MAP Min N Required [8, 8, 8, 8, 8, 8, 8, 8, 8, 8, 8, 8, 8, 8, 8, 8, 8, 8, 8, 8, 8, 8, 8, 8, 4, 8, 8, 8, 8, 8]\n",
      "MAP - Target Score: 0.925, Percentile: 0.035\n",
      "MAP - Accuracy: 0.8333, Average Token Count: 106241.83\n",
      "MAP Min N Required [8, 8, 8, 8, 8, 8, 8, 8, 8, 8, 8, 8, 8, 8, 8, 8, 8, 8, 8, 8, 8, 8, 8, 8, 4, 8, 8, 8, 8, 8]\n"
     ]
    },
    {
     "name": "stderr",
     "output_type": "stream",
     "text": []
    },
    {
     "name": "stdout",
     "output_type": "stream",
     "text": [
      "MAP - Target Score: 0.925, Percentile: 0.05\n",
      "MAP - Accuracy: 0.8333, Average Token Count: 106241.83\n",
      "MAP Min N Required [8, 8, 8, 8, 8, 8, 8, 8, 8, 8, 8, 8, 8, 8, 8, 8, 8, 8, 8, 8, 8, 8, 8, 8, 3, 8, 8, 8, 8, 8]\n",
      "MAP - Target Score: 0.925, Percentile: 0.075\n",
      "MAP - Accuracy: 0.8333, Average Token Count: 106022.83\n",
      "MAP Min N Required [8, 8, 8, 8, 8, 8, 8, 8, 8, 8, 8, 8, 8, 8, 8, 8, 8, 8, 8, 8, 8, 8, 8, 8, 3, 8, 8, 8, 8, 8]\n"
     ]
    },
    {
     "name": "stderr",
     "output_type": "stream",
     "text": [
      "Target Score (MAP):  75%|███████▌  | 6/8 [00:03<00:01,  1.76it/s]"
     ]
    },
    {
     "name": "stdout",
     "output_type": "stream",
     "text": [
      "MAP - Target Score: 0.925, Percentile: 0.1\n",
      "MAP - Accuracy: 0.8333, Average Token Count: 106022.83\n"
     ]
    },
    {
     "name": "stderr",
     "output_type": "stream",
     "text": []
    },
    {
     "name": "stdout",
     "output_type": "stream",
     "text": [
      "MAP Min N Required [8, 8, 8, 8, 8, 8, 8, 8, 8, 8, 8, 8, 8, 8, 8, 8, 8, 8, 8, 8, 8, 8, 8, 8, 8, 8, 8, 8, 8, 8]\n",
      "MAP - Target Score: 0.95, Percentile: 0.01\n",
      "MAP - Accuracy: 0.8333, Average Token Count: 107100.57\n",
      "MAP Min N Required [8, 8, 8, 8, 8, 8, 8, 8, 8, 8, 8, 8, 8, 8, 8, 8, 8, 8, 8, 8, 8, 8, 8, 8, 8, 8, 8, 8, 8, 8]\n"
     ]
    },
    {
     "name": "stderr",
     "output_type": "stream",
     "text": []
    },
    {
     "name": "stdout",
     "output_type": "stream",
     "text": [
      "MAP - Target Score: 0.95, Percentile: 0.02\n",
      "MAP - Accuracy: 0.8333, Average Token Count: 107100.57\n",
      "MAP Min N Required [8, 8, 8, 8, 8, 8, 8, 8, 8, 8, 8, 8, 8, 8, 8, 8, 8, 8, 8, 8, 8, 8, 8, 8, 7, 8, 8, 8, 8, 8]\n"
     ]
    },
    {
     "name": "stderr",
     "output_type": "stream",
     "text": []
    },
    {
     "name": "stdout",
     "output_type": "stream",
     "text": [
      "MAP - Target Score: 0.95, Percentile: 0.035\n",
      "MAP - Accuracy: 0.8333, Average Token Count: 106863.50\n",
      "MAP Min N Required [8, 8, 8, 8, 8, 8, 8, 8, 8, 8, 8, 8, 8, 8, 8, 8, 8, 8, 8, 8, 8, 8, 8, 8, 6, 8, 8, 8, 8, 8]\n",
      "MAP - Target Score: 0.95, Percentile: 0.05\n",
      "MAP - Accuracy: 0.8333, Average Token Count: 106626.27\n",
      "MAP Min N Required [8, 8, 8, 8, 8, 8, 8, 8, 8, 8, 8, 8, 8, 8, 8, 8, 8, 8, 8, 8, 8, 8, 8, 8, 6, 8, 8, 8, 8, 8]\n",
      "MAP - Target Score: 0.95, Percentile: 0.075\n",
      "MAP - Accuracy: 0.8333, Average Token Count: 106626.27\n"
     ]
    },
    {
     "name": "stderr",
     "output_type": "stream",
     "text": [
      "Target Score (MAP):  88%|████████▊ | 7/8 [00:03<00:00,  1.74it/s]"
     ]
    },
    {
     "name": "stdout",
     "output_type": "stream",
     "text": [
      "MAP Min N Required [8, 8, 8, 8, 8, 8, 8, 8, 8, 8, 8, 8, 8, 8, 8, 8, 8, 8, 8, 8, 8, 8, 8, 8, 5, 8, 8, 8, 8, 8]\n",
      "MAP - Target Score: 0.95, Percentile: 0.1\n",
      "MAP - Accuracy: 0.8333, Average Token Count: 106442.87\n"
     ]
    },
    {
     "name": "stderr",
     "output_type": "stream",
     "text": []
    },
    {
     "name": "stdout",
     "output_type": "stream",
     "text": [
      "MAP Min N Required [8, 8, 8, 8, 8, 8, 8, 8, 8, 8, 8, 8, 8, 8, 8, 8, 8, 8, 8, 8, 8, 8, 8, 8, 8, 8, 8, 8, 8, 8]\n",
      "MAP - Target Score: 0.975, Percentile: 0.01\n",
      "MAP - Accuracy: 0.8333, Average Token Count: 107100.57\n",
      "MAP Min N Required [8, 8, 8, 8, 8, 8, 8, 8, 8, 8, 8, 8, 8, 8, 8, 8, 8, 8, 8, 8, 8, 8, 8, 8, 8, 8, 8, 8, 8, 8]\n"
     ]
    },
    {
     "name": "stderr",
     "output_type": "stream",
     "text": []
    },
    {
     "name": "stdout",
     "output_type": "stream",
     "text": [
      "MAP - Target Score: 0.975, Percentile: 0.02\n",
      "MAP - Accuracy: 0.8333, Average Token Count: 107100.57\n",
      "MAP Min N Required [8, 8, 8, 8, 8, 8, 8, 8, 8, 8, 8, 8, 8, 8, 8, 8, 8, 8, 8, 8, 8, 8, 8, 8, 8, 8, 8, 8, 8, 8]\n",
      "MAP - Target Score: 0.975, Percentile: 0.035\n",
      "MAP - Accuracy: 0.8333, Average Token Count: 107100.57\n",
      "MAP Min N Required [8, 8, 8, 8, 8, 8, 8, 8, 8, 8, 8, 8, 8, 8, 8, 8, 8, 8, 8, 8, 8, 8, 8, 8, 8, 8, 8, 8, 8, 8]\n"
     ]
    },
    {
     "name": "stderr",
     "output_type": "stream",
     "text": []
    },
    {
     "name": "stdout",
     "output_type": "stream",
     "text": [
      "MAP - Target Score: 0.975, Percentile: 0.05\n",
      "MAP - Accuracy: 0.8333, Average Token Count: 107100.57\n",
      "MAP Min N Required [8, 8, 8, 8, 8, 8, 8, 8, 8, 8, 8, 8, 8, 8, 8, 8, 8, 8, 8, 8, 8, 8, 8, 8, 8, 8, 8, 8, 8, 8]\n",
      "MAP - Target Score: 0.975, Percentile: 0.075\n",
      "MAP - Accuracy: 0.8333, Average Token Count: 107100.57\n",
      "MAP Min N Required [8, 8, 8, 8, 8, 8, 8, 8, 8, 8, 8, 8, 8, 8, 8, 8, 8, 8, 8, 8, 8, 8, 8, 8, 8, 8, 8, 8, 8, 8]\n"
     ]
    },
    {
     "name": "stderr",
     "output_type": "stream",
     "text": [
      "Target Score (MAP): 100%|██████████| 8/8 [00:04<00:00,  1.78it/s]"
     ]
    },
    {
     "name": "stdout",
     "output_type": "stream",
     "text": [
      "MAP - Target Score: 0.975, Percentile: 0.1\n",
      "MAP - Accuracy: 0.8333, Average Token Count: 107100.57\n"
     ]
    },
    {
     "name": "stderr",
     "output_type": "stream",
     "text": [
      "\n"
     ]
    },
    {
     "data": {
      "image/png": "[encoded data removed]",
      "text/plain": [
       "<Figure size 1200x800 with 1 Axes>"
      ]
     },
     "metadata": {},
     "output_type": "display_data"
    },
    {
     "name": "stdout",
     "output_type": "stream",
     "text": [
      "\n",
      "MLE Pareto-optimal configurations:\n",
      "Target Score: 0.7, Percentile: 0.1, Accuracy: 0.8333, Avg Token Count: 89661.03\n",
      "\n",
      "MAP Pareto-optimal configurations:\n",
      "Target Score: 0.7, Percentile: 0.1, Accuracy: 0.8333, Avg Token Count: 93424.13\n"
     ]
    }
   ],
   "source": [
    "# Setting Panels\n",
    "target_score_panel_values = [0.7, 0.75, 0.8, 0.85, 0.9, 0.925, 0.95, 0.975]\n",
    "percentile_panel_values = [0.01, 0.02, 0.035, 0.05, 0.075, 0.1]\n",
    "max_N_panel = 8\n",
    "print(\"Target Score Panel:\", target_score_panel_values)\n",
    "print(\"Percentile Panel:\", percentile_panel_values)\n",
    "print(\"Max N:\", max_N_panel)\n",
    "\n",
    "# Evaluate MLE results\n",
    "print(\"\\nEvaluating MLE Results...\")\n",
    "truncated_normal_params_all = mle_estimated_params\n",
    "mle_grid_search_results = []\n",
    "\n",
    "for target_score in tqdm(target_score_panel_values, desc=\"Target Score (MLE)\"):\n",
    "    for percentile in tqdm(percentile_panel_values, desc=\"Percentile\", leave=False):\n",
    "        min_N_required = []\n",
    "        for i, (mu, sigma) in enumerate(truncated_normal_params_all):\n",
    "            min_N = find_min_N_for_threshold(mu, sigma, target_score=target_score, \n",
    "                                        percentile=percentile, max_N=max_N_panel)\n",
    "            if min_N < peek_number:\n",
    "                min_N = peek_number\n",
    "            min_N_required.append(min_N)\n",
    "        print(\"MLE Min N Required\", min_N_required)\n",
    "        \n",
    "        # Evaluate model performance with these parameters\n",
    "        correct = 0\n",
    "        entire_token_count = 0\n",
    "\n",
    "        for idx, item in enumerate(val_texts):\n",
    "            N = min_N_required[idx]\n",
    "            completions = val_completions[idx][0][:N]\n",
    "            scores = val_scores[idx][0][:N]\n",
    "            completion_tokens = val_completion_tokens[idx][0][:N]\n",
    "            total_tokens = sum(completion_tokens)\n",
    "\n",
    "            highest_scores_idx = scores.index(max(scores))\n",
    "\n",
    "            while completions[highest_scores_idx] == \"\":\n",
    "                scores[highest_scores_idx] = 0 \n",
    "                if max(scores) == 0: \n",
    "                    break\n",
    "                highest_scores_idx = scores.index(max(scores))\n",
    "\n",
    "            output = completions[highest_scores_idx]\n",
    "            answer = get_answer(output)\n",
    "\n",
    "            if verify_extracted_answer(val_gt_answers[idx], answer):\n",
    "                correct += 1\n",
    "            entire_token_count += total_tokens\n",
    "\n",
    "        accuracy = correct / len(val_texts)\n",
    "        average_token_count = entire_token_count / len(val_texts)\n",
    "        \n",
    "        print(f\"MLE - Target Score: {target_score}, Percentile: {percentile}\")\n",
    "        print(f\"MLE - Accuracy: {accuracy:.4f}, Average Token Count: {average_token_count:.2f}\")\n",
    "        \n",
    "        mle_grid_search_results.append({\n",
    "            'target_score': target_score,\n",
    "            'percentile': percentile,\n",
    "            'accuracy': accuracy,\n",
    "            'average_token_count': average_token_count\n",
    "        })\n",
    "        \n",
    "with open(f'{DATASET}_OptScale_MLE_results_{max_N_panel}.json', 'w') as f:\n",
    "    json.dump(mle_grid_search_results, f)\n",
    "\n",
    "\n",
    "# Evaluate MAP results\n",
    "print(\"\\nEvaluating MAP Results...\")\n",
    "truncated_normal_params_all = map_estimated_params\n",
    "map_grid_search_results = []\n",
    "\n",
    "for target_score in tqdm(target_score_panel_values, desc=\"Target Score (MAP)\"):\n",
    "    for percentile in tqdm(percentile_panel_values, desc=\"Percentile\", leave=False):\n",
    "        min_N_required = []\n",
    "        for i, (mu, sigma) in enumerate(truncated_normal_params_all):\n",
    "            min_N = find_min_N_for_threshold(mu, sigma, target_score=target_score, \n",
    "                                        percentile=percentile, max_N=max_N_panel)\n",
    "            if min_N < peek_number:\n",
    "                min_N = peek_number\n",
    "            min_N_required.append(min_N)\n",
    "        print(\"MAP Min N Required\", min_N_required)\n",
    "        \n",
    "        # Evaluate model performance with these parameters\n",
    "        correct = 0\n",
    "        entire_token_count = 0\n",
    "\n",
    "        for idx, item in enumerate(val_texts):\n",
    "            N = min_N_required[idx]\n",
    "            completions = val_completions[idx][0][:N]\n",
    "            scores = val_scores[idx][0][:N]\n",
    "            completion_tokens = val_completion_tokens[idx][0][:N]\n",
    "            total_tokens = sum(completion_tokens)\n",
    "\n",
    "            highest_scores_idx = scores.index(max(scores))\n",
    "\n",
    "            while completions[highest_scores_idx] == \"\":\n",
    "                scores[highest_scores_idx] = 0 \n",
    "                if max(scores) == 0: \n",
    "                    break\n",
    "                highest_scores_idx = scores.index(max(scores))\n",
    "\n",
    "            output = completions[highest_scores_idx]\n",
    "            answer = get_answer(output)\n",
    "\n",
    "            if verify_extracted_answer(val_gt_answers[idx], answer):\n",
    "                correct += 1\n",
    "            entire_token_count += total_tokens\n",
    "\n",
    "        accuracy = correct / len(val_texts)\n",
    "        average_token_count = entire_token_count / len(val_texts)\n",
    "        \n",
    "        print(f\"MAP - Target Score: {target_score}, Percentile: {percentile}\")\n",
    "        print(f\"MAP - Accuracy: {accuracy:.4f}, Average Token Count: {average_token_count:.2f}\")\n",
    "        \n",
    "        map_grid_search_results.append({\n",
    "            'target_score': target_score,\n",
    "            'percentile': percentile,\n",
    "            'accuracy': accuracy,\n",
    "            'average_token_count': average_token_count\n",
    "        })\n",
    "        \n",
    "with open(f'{DATASET}_OptScale_MAP_results_{max_N_panel}.json', 'w') as f:\n",
    "    json.dump(map_grid_search_results, f)\n",
    "\n",
    "plot_mle_map_optscale(mle_grid_search_results, map_grid_search_results, baseline_average_token_counts, baseline_accuracy_values, max_N_panel)"
   ]
  },
  {
   "cell_type": "code",
   "execution_count": 6,
   "metadata": {},
   "outputs": [
    {
     "name": "stdout",
     "output_type": "stream",
     "text": [
      "0         0.6235      0.1135    0.9996    0.0395    0.9580    0.0261    0.9907    0.0235\n",
      "1         0.6610      0.1043    0.4690    0.0663    0.4862    0.0702    0.4890    0.0892\n",
      "2         0.6834      0.1139    0.4404    0.0317    0.4456    0.0331    0.4494    0.0412\n",
      "3         0.5975      0.0914    0.4427    0.0270    0.4518    0.0289    0.4254    0.0466\n",
      "4         0.5143      0.0985    0.6187    0.0753    0.6076    0.0774    0.6105    0.0795\n",
      "5         0.6992      0.0917    0.5037    0.1541    0.5669    0.1533    0.6131    0.1582\n",
      "6         0.6755      0.1047    0.5732    0.0503    0.5785    0.0520    0.5966    0.1002\n",
      "7         0.5058      0.0558    1.0106    0.1018    0.8491    0.0997    1.4332    0.2606\n",
      "8         0.6027      0.0968    0.8577    0.0494    0.8445    0.0522    0.8087    0.0700\n",
      "9         0.5271      0.1360    1.1300    0.1616    0.8379    0.1222    0.9495    0.0649\n",
      "10        0.6061      0.1544    0.5335    0.0766    0.5422    0.0822    0.4938    0.0932\n",
      "11        0.5284      0.0908    0.7804    0.0382    0.7485    0.0457    0.8044    0.0606\n",
      "12        0.6263      0.1054    0.9380    0.0515    0.9086    0.0484    0.9226    0.0906\n",
      "13        0.7189      0.1323    0.4752    0.0596    0.5467    0.0888    0.4718    0.0543\n",
      "14        0.6327      0.0957    0.6182    0.1221    0.6213    0.1188    0.5824    0.0991\n",
      "15        0.4786      0.1201    0.8182    0.0474    0.7629    0.0629    0.7796    0.0854\n",
      "16        0.5019      0.0918    0.7512    0.0904    0.7109    0.0978    0.7564    0.1536\n",
      "17        0.5432      0.0728    0.6699    0.0642    0.6600    0.0653    0.5979    0.0736\n",
      "18        0.7051      0.0788    0.5641    0.1104    0.5916    0.1101    0.5805    0.1174\n",
      "19        0.5597      0.0605    0.6691    0.1161    0.6470    0.1113    0.6400    0.0784\n",
      "20        0.6826      0.0816    0.4984    0.0314    0.5021    0.0322    0.4908    0.0627\n",
      "21        0.7763      0.0853    0.5530    0.0805    0.5814    0.0854    0.5072    0.0700\n",
      "22        0.7035      0.1236    0.5649    0.0454    0.5709    0.0476    0.5688    0.0582\n",
      "23        0.7543      0.1253    0.7249    0.0278    0.7097    0.0330    0.6940    0.0716\n",
      "24        0.6305      0.0490    0.9592    0.0225    0.8431    0.1624   25.8013    1.2736\n",
      "25        0.6474      0.1419    0.4852    0.0438    0.4919    0.0464    0.4433    0.0466\n",
      "26        0.6417      0.0770    1.0763    0.1082    0.8435    0.1520    1.4238    0.1756\n",
      "27        0.6521      0.1246    0.4795    0.0470    0.4876    0.0495    0.4637    0.0728\n",
      "28        0.7377      0.0989    0.4400    0.0220    0.5852    0.1294    0.4558    0.0408\n",
      "29        0.6121      0.1139    0.5109    0.0736    0.5215    0.0766    0.5459    0.0961\n",
      "\n",
      "Performance Comparison (MSE against ground truth):\n",
      "Predictor MSE - μ: 21.208091, σ: 0.053953\n",
      "MLE MSE      - μ: 20.583179, σ: 0.054109\n",
      "MAP MSE      - μ: 20.788469, σ: 0.042932\n",
      "\n",
      "Statistics of Different Estimation Methods:\n",
      "Predictor Estimates:\n",
      "Mean μ: 0.6276 ± 0.0787\n",
      "Mean σ: 0.1010 ± 0.0249\n",
      "\n",
      "MLE Estimates (10 samples):\n",
      "Mean μ: 0.6719 ± 0.2076\n",
      "Mean σ: 0.0679 ± 0.0372\n",
      "\n",
      "MAP Estimates (10 samples):\n",
      "Mean μ: 0.6501 ± 0.1452\n",
      "Mean σ: 0.0787 ± 0.0389\n",
      "\n",
      "Ground Truth (100 samples):\n",
      "Mean μ: 1.5130 ± 4.5173\n",
      "Mean σ: 0.1269 ± 0.2180\n"
     ]
    }
   ],
   "source": [
    "peek_number = 5\n",
    "\n",
    "mle_estimated_params = []  # Store MLE estimates\n",
    "map_estimated_params = []  # Store MAP estimates\n",
    "predictor_params = []      # Store predictor's estimates\n",
    "\n",
    "for i, (score, prediction) in enumerate(zip(val_scores, val_labels)):\n",
    "    peek_data = np.array(score[0][:peek_number])\n",
    "    \n",
    "    # Store predictor's parameters\n",
    "    prior_mu, prior_sigma = prediction\n",
    "    predictor_params.append((prior_mu, prior_sigma))\n",
    "    \n",
    "    # MLE estimation with limited data\n",
    "    initial_mu = np.mean(peek_data)\n",
    "    initial_sigma = np.std(peek_data)\n",
    "    mle_result = minimize(\n",
    "        lambda params: neg_log_likelihood(params, peek_data),\n",
    "        [initial_mu, initial_sigma],\n",
    "        bounds=[(None, None), (1e-6, None)],\n",
    "        method='L-BFGS-B'\n",
    "    )\n",
    "    mle_mu, mle_sigma = mle_result.x\n",
    "    mle_estimated_params.append((mle_mu, mle_sigma))\n",
    "    \n",
    "    # MAP estimation with limited data\n",
    "    map_result = minimize(\n",
    "        lambda params: neg_log_posterior(\n",
    "            params, \n",
    "            peek_data, \n",
    "            prior_mu=prior_mu, \n",
    "            prior_sigma=prior_sigma\n",
    "        ),\n",
    "        [prior_mu, prior_sigma],\n",
    "        bounds=[(None, None), (1e-6, None)],\n",
    "        method='L-BFGS-B'\n",
    "    )\n",
    "    map_mu, map_sigma = map_result.x\n",
    "    map_estimated_params.append((map_mu, map_sigma))\n",
    "    \n",
    "    # Print comparison for first 50 examples\n",
    "    if i < 50:\n",
    "        gt_mu, gt_sigma = original_params_compare[i]\n",
    "        print(f\"{i:<4} {prior_mu:11.4f} {prior_sigma:11.4f} {mle_mu:9.4f} {mle_sigma:9.4f} \"\n",
    "              f\"{map_mu:9.4f} {map_sigma:9.4f} {gt_mu:9.4f} {gt_sigma:9.4f}\")\n",
    "\n",
    "# Call the function to perform the analysis\n",
    "analyze_estimation_performance(predictor_params, mle_estimated_params, map_estimated_params, original_params_compare)\n"
   ]
  },
  {
   "cell_type": "code",
   "execution_count": 7,
   "metadata": {},
   "outputs": [
    {
     "name": "stdout",
     "output_type": "stream",
     "text": [
      "Target Score Panel: [0.7, 0.75, 0.8, 0.85, 0.9, 0.925, 0.95, 0.975]\n",
      "Percentile Panel: [0.01, 0.02, 0.035, 0.05, 0.075, 0.1]\n",
      "Max N: 16\n",
      "\n",
      "Evaluating MLE Results...\n"
     ]
    },
    {
     "name": "stderr",
     "output_type": "stream",
     "text": [
      "Target Score (MLE):   0%|          | 0/8 [00:00<?, ?it/s]"
     ]
    },
    {
     "name": "stderr",
     "output_type": "stream",
     "text": []
    },
    {
     "name": "stdout",
     "output_type": "stream",
     "text": [
      "MLE Min N Required [5, 16, 16, 16, 16, 16, 16, 5, 5, 5, 16, 5, 5, 16, 16, 5, 5, 13, 16, 10, 16, 16, 16, 5, 5, 16, 5, 16, 16, 16]\n",
      "MLE - Target Score: 0.7, Percentile: 0.01\n",
      "MLE - Accuracy: 0.8333, Average Token Count: 180697.17\n"
     ]
    },
    {
     "name": "stderr",
     "output_type": "stream",
     "text": []
    },
    {
     "name": "stdout",
     "output_type": "stream",
     "text": [
      "MLE Min N Required [5, 16, 16, 16, 16, 16, 16, 5, 5, 5, 16, 5, 5, 16, 14, 5, 5, 11, 16, 8, 16, 16, 16, 5, 5, 16, 5, 16, 16, 16]\n",
      "MLE - Target Score: 0.7, Percentile: 0.02\n",
      "MLE - Accuracy: 0.8333, Average Token Count: 178194.00\n"
     ]
    },
    {
     "name": "stderr",
     "output_type": "stream",
     "text": []
    },
    {
     "name": "stdout",
     "output_type": "stream",
     "text": [
      "MLE Min N Required [5, 16, 16, 16, 16, 16, 16, 5, 5, 5, 16, 5, 5, 16, 12, 5, 5, 9, 16, 7, 16, 16, 16, 5, 5, 16, 5, 16, 16, 16]\n",
      "MLE - Target Score: 0.7, Percentile: 0.035\n",
      "MLE - Accuracy: 0.8333, Average Token Count: 175853.20\n"
     ]
    },
    {
     "name": "stderr",
     "output_type": "stream",
     "text": []
    },
    {
     "name": "stdout",
     "output_type": "stream",
     "text": [
      "MLE Min N Required [5, 16, 16, 16, 16, 16, 16, 5, 5, 5, 16, 5, 5, 16, 11, 5, 5, 8, 16, 6, 16, 16, 16, 5, 5, 16, 5, 16, 16, 16]\n",
      "MLE - Target Score: 0.7, Percentile: 0.05\n",
      "MLE - Accuracy: 0.8333, Average Token Count: 174572.03\n"
     ]
    },
    {
     "name": "stderr",
     "output_type": "stream",
     "text": []
    },
    {
     "name": "stdout",
     "output_type": "stream",
     "text": [
      "MLE Min N Required [5, 16, 16, 16, 16, 16, 16, 5, 5, 5, 16, 5, 5, 16, 9, 5, 5, 7, 16, 6, 16, 16, 16, 5, 5, 16, 5, 16, 16, 16]\n",
      "MLE - Target Score: 0.7, Percentile: 0.075\n",
      "MLE - Accuracy: 0.8333, Average Token Count: 173304.63\n"
     ]
    },
    {
     "name": "stderr",
     "output_type": "stream",
     "text": [
      "Target Score (MLE):  12%|█▎        | 1/8 [00:00<00:05,  1.38it/s]"
     ]
    },
    {
     "name": "stdout",
     "output_type": "stream",
     "text": [
      "MLE Min N Required [5, 16, 16, 16, 16, 16, 16, 5, 5, 5, 16, 5, 5, 16, 8, 5, 5, 7, 16, 5, 16, 16, 16, 5, 5, 16, 5, 16, 16, 16]\n",
      "MLE - Target Score: 0.7, Percentile: 0.1\n",
      "MLE - Accuracy: 0.8333, Average Token Count: 172565.70\n"
     ]
    },
    {
     "name": "stderr",
     "output_type": "stream",
     "text": []
    },
    {
     "name": "stdout",
     "output_type": "stream",
     "text": [
      "MLE Min N Required [5, 16, 16, 16, 16, 16, 16, 5, 5, 5, 16, 5, 5, 16, 16, 5, 7, 16, 16, 16, 16, 16, 16, 16, 5, 16, 5, 16, 16, 16]\n",
      "MLE - Target Score: 0.75, Percentile: 0.01\n",
      "MLE - Accuracy: 0.8333, Average Token Count: 189587.87\n"
     ]
    },
    {
     "name": "stderr",
     "output_type": "stream",
     "text": []
    },
    {
     "name": "stdout",
     "output_type": "stream",
     "text": [
      "MLE Min N Required [5, 16, 16, 16, 16, 16, 16, 5, 5, 5, 16, 5, 5, 16, 16, 5, 6, 16, 16, 15, 16, 16, 16, 16, 5, 16, 5, 16, 16, 16]\n",
      "MLE - Target Score: 0.75, Percentile: 0.02\n",
      "MLE - Accuracy: 0.8333, Average Token Count: 189056.27\n"
     ]
    },
    {
     "name": "stderr",
     "output_type": "stream",
     "text": []
    },
    {
     "name": "stdout",
     "output_type": "stream",
     "text": [
      "MLE Min N Required [5, 16, 16, 16, 16, 16, 16, 5, 5, 5, 16, 5, 5, 16, 16, 5, 5, 16, 16, 13, 16, 16, 16, 16, 5, 16, 5, 16, 16, 16]\n",
      "MLE - Target Score: 0.75, Percentile: 0.035\n",
      "MLE - Accuracy: 0.8333, Average Token Count: 187678.43\n"
     ]
    },
    {
     "name": "stderr",
     "output_type": "stream",
     "text": []
    },
    {
     "name": "stdout",
     "output_type": "stream",
     "text": [
      "MLE Min N Required [5, 16, 16, 16, 16, 16, 16, 5, 5, 5, 16, 5, 5, 16, 16, 5, 5, 16, 16, 11, 16, 16, 16, 16, 5, 16, 5, 16, 16, 16]\n",
      "MLE - Target Score: 0.75, Percentile: 0.05\n",
      "MLE - Accuracy: 0.8333, Average Token Count: 187102.13\n"
     ]
    },
    {
     "name": "stderr",
     "output_type": "stream",
     "text": []
    },
    {
     "name": "stdout",
     "output_type": "stream",
     "text": [
      "MLE Min N Required [5, 16, 16, 16, 16, 16, 16, 5, 5, 5, 16, 5, 5, 16, 16, 5, 5, 16, 16, 10, 16, 16, 16, 13, 5, 16, 5, 16, 16, 16]\n",
      "MLE - Target Score: 0.75, Percentile: 0.075\n",
      "MLE - Accuracy: 0.8333, Average Token Count: 185153.43\n"
     ]
    },
    {
     "name": "stderr",
     "output_type": "stream",
     "text": [
      "Target Score (MLE):  25%|██▌       | 2/8 [00:01<00:04,  1.28it/s]"
     ]
    },
    {
     "name": "stdout",
     "output_type": "stream",
     "text": [
      "MLE Min N Required [5, 16, 16, 16, 16, 16, 16, 5, 5, 5, 16, 5, 5, 16, 16, 5, 5, 16, 16, 9, 16, 16, 16, 12, 5, 16, 5, 16, 16, 16]\n",
      "MLE - Target Score: 0.75, Percentile: 0.1\n",
      "MLE - Accuracy: 0.8333, Average Token Count: 184553.70\n"
     ]
    },
    {
     "name": "stderr",
     "output_type": "stream",
     "text": []
    },
    {
     "name": "stdout",
     "output_type": "stream",
     "text": [
      "MLE Min N Required [5, 16, 16, 16, 16, 16, 16, 5, 5, 5, 16, 13, 5, 16, 16, 5, 14, 16, 16, 16, 16, 16, 16, 16, 5, 16, 5, 16, 16, 16]\n",
      "MLE - Target Score: 0.8, Percentile: 0.01\n",
      "MLE - Accuracy: 0.8333, Average Token Count: 194040.63\n"
     ]
    },
    {
     "name": "stderr",
     "output_type": "stream",
     "text": []
    },
    {
     "name": "stdout",
     "output_type": "stream",
     "text": [
      "MLE Min N Required [5, 16, 16, 16, 16, 16, 16, 5, 5, 5, 16, 11, 5, 16, 16, 5, 12, 16, 16, 16, 16, 16, 16, 16, 5, 16, 5, 16, 16, 16]\n",
      "MLE - Target Score: 0.8, Percentile: 0.02\n",
      "MLE - Accuracy: 0.8333, Average Token Count: 192859.23\n"
     ]
    },
    {
     "name": "stderr",
     "output_type": "stream",
     "text": []
    },
    {
     "name": "stdout",
     "output_type": "stream",
     "text": [
      "MLE Min N Required [5, 16, 16, 16, 16, 16, 16, 5, 5, 5, 16, 10, 5, 16, 16, 5, 10, 16, 16, 16, 16, 16, 16, 16, 5, 16, 5, 16, 16, 16]\n",
      "MLE - Target Score: 0.8, Percentile: 0.035\n",
      "MLE - Accuracy: 0.8333, Average Token Count: 191619.47\n"
     ]
    },
    {
     "name": "stderr",
     "output_type": "stream",
     "text": []
    },
    {
     "name": "stdout",
     "output_type": "stream",
     "text": [
      "MLE Min N Required [5, 16, 16, 16, 16, 16, 16, 5, 5, 5, 16, 9, 5, 16, 16, 5, 9, 16, 16, 16, 16, 16, 16, 16, 5, 16, 5, 16, 16, 16]\n",
      "MLE - Target Score: 0.8, Percentile: 0.05\n",
      "MLE - Accuracy: 0.8333, Average Token Count: 191134.87\n"
     ]
    },
    {
     "name": "stderr",
     "output_type": "stream",
     "text": []
    },
    {
     "name": "stdout",
     "output_type": "stream",
     "text": [
      "MLE Min N Required [5, 16, 16, 16, 16, 16, 16, 5, 5, 5, 16, 8, 5, 16, 16, 5, 8, 16, 16, 16, 16, 16, 16, 16, 5, 16, 5, 16, 16, 16]\n",
      "MLE - Target Score: 0.8, Percentile: 0.075\n",
      "MLE - Accuracy: 0.8333, Average Token Count: 190730.60\n"
     ]
    },
    {
     "name": "stderr",
     "output_type": "stream",
     "text": [
      "Target Score (MLE):  38%|███▊      | 3/8 [00:02<00:04,  1.24it/s]"
     ]
    },
    {
     "name": "stdout",
     "output_type": "stream",
     "text": [
      "MLE Min N Required [5, 16, 16, 16, 16, 16, 16, 5, 5, 5, 16, 7, 5, 16, 16, 5, 7, 16, 16, 16, 16, 16, 16, 16, 5, 16, 5, 16, 16, 16]\n",
      "MLE - Target Score: 0.8, Percentile: 0.1\n",
      "MLE - Accuracy: 0.8333, Average Token Count: 189992.23\n"
     ]
    },
    {
     "name": "stderr",
     "output_type": "stream",
     "text": []
    },
    {
     "name": "stdout",
     "output_type": "stream",
     "text": [
      "MLE Min N Required [5, 16, 16, 16, 16, 16, 16, 5, 6, 5, 16, 16, 5, 16, 16, 16, 16, 16, 16, 16, 16, 16, 16, 16, 5, 16, 5, 16, 16, 16]\n",
      "MLE - Target Score: 0.85, Percentile: 0.01\n",
      "MLE - Accuracy: 0.8333, Average Token Count: 199391.33\n"
     ]
    },
    {
     "name": "stderr",
     "output_type": "stream",
     "text": []
    },
    {
     "name": "stdout",
     "output_type": "stream",
     "text": [
      "MLE Min N Required [5, 16, 16, 16, 16, 16, 16, 5, 5, 5, 16, 16, 5, 16, 16, 14, 16, 16, 16, 16, 16, 16, 16, 16, 5, 16, 5, 16, 16, 16]\n",
      "MLE - Target Score: 0.85, Percentile: 0.02\n",
      "MLE - Accuracy: 0.8333, Average Token Count: 198474.63\n"
     ]
    },
    {
     "name": "stderr",
     "output_type": "stream",
     "text": []
    },
    {
     "name": "stdout",
     "output_type": "stream",
     "text": [
      "MLE Min N Required [5, 16, 16, 16, 16, 16, 16, 5, 5, 5, 16, 16, 5, 16, 16, 12, 16, 16, 16, 16, 16, 16, 16, 16, 5, 16, 5, 16, 16, 16]\n",
      "MLE - Target Score: 0.85, Percentile: 0.035\n",
      "MLE - Accuracy: 0.8333, Average Token Count: 197659.87\n"
     ]
    },
    {
     "name": "stderr",
     "output_type": "stream",
     "text": []
    },
    {
     "name": "stdout",
     "output_type": "stream",
     "text": [
      "MLE Min N Required [5, 16, 16, 16, 16, 16, 16, 5, 5, 5, 16, 16, 5, 16, 16, 11, 16, 16, 16, 16, 16, 16, 16, 16, 5, 16, 5, 16, 16, 16]\n",
      "MLE - Target Score: 0.85, Percentile: 0.05\n",
      "MLE - Accuracy: 0.8333, Average Token Count: 197438.37\n"
     ]
    },
    {
     "name": "stderr",
     "output_type": "stream",
     "text": []
    },
    {
     "name": "stdout",
     "output_type": "stream",
     "text": [
      "MLE Min N Required [5, 16, 16, 16, 16, 16, 16, 5, 5, 5, 16, 16, 5, 16, 16, 10, 16, 16, 16, 16, 16, 16, 16, 16, 5, 16, 5, 16, 16, 16]\n",
      "MLE - Target Score: 0.85, Percentile: 0.075\n",
      "MLE - Accuracy: 0.8333, Average Token Count: 197183.73\n"
     ]
    },
    {
     "name": "stderr",
     "output_type": "stream",
     "text": [
      "Target Score (MLE):  50%|█████     | 4/8 [00:03<00:03,  1.19it/s]"
     ]
    },
    {
     "name": "stdout",
     "output_type": "stream",
     "text": [
      "MLE Min N Required [5, 16, 16, 16, 16, 16, 16, 5, 5, 5, 16, 16, 5, 16, 16, 9, 16, 16, 16, 16, 16, 16, 16, 16, 5, 16, 5, 16, 16, 16]\n",
      "MLE - Target Score: 0.85, Percentile: 0.1\n",
      "MLE - Accuracy: 0.8333, Average Token Count: 196923.73\n"
     ]
    },
    {
     "name": "stderr",
     "output_type": "stream",
     "text": []
    },
    {
     "name": "stdout",
     "output_type": "stream",
     "text": [
      "MLE Min N Required [5, 16, 16, 16, 16, 16, 16, 5, 16, 5, 16, 16, 5, 16, 16, 16, 16, 16, 16, 16, 16, 16, 16, 16, 5, 16, 5, 16, 16, 16]\n",
      "MLE - Target Score: 0.9, Percentile: 0.01\n",
      "MLE - Accuracy: 0.8333, Average Token Count: 202101.23\n"
     ]
    },
    {
     "name": "stderr",
     "output_type": "stream",
     "text": []
    },
    {
     "name": "stdout",
     "output_type": "stream",
     "text": [
      "MLE Min N Required [5, 16, 16, 16, 16, 16, 16, 5, 16, 5, 16, 16, 5, 16, 16, 16, 16, 16, 16, 16, 16, 16, 16, 16, 5, 16, 5, 16, 16, 16]\n",
      "MLE - Target Score: 0.9, Percentile: 0.02\n",
      "MLE - Accuracy: 0.8333, Average Token Count: 202101.23\n"
     ]
    },
    {
     "name": "stderr",
     "output_type": "stream",
     "text": []
    },
    {
     "name": "stdout",
     "output_type": "stream",
     "text": [
      "MLE Min N Required [5, 16, 16, 16, 16, 16, 16, 5, 16, 5, 16, 16, 5, 16, 16, 16, 16, 16, 16, 16, 16, 16, 16, 16, 5, 16, 5, 16, 16, 16]\n",
      "MLE - Target Score: 0.9, Percentile: 0.035\n",
      "MLE - Accuracy: 0.8333, Average Token Count: 202101.23\n"
     ]
    },
    {
     "name": "stderr",
     "output_type": "stream",
     "text": []
    },
    {
     "name": "stdout",
     "output_type": "stream",
     "text": [
      "MLE Min N Required [5, 16, 16, 16, 16, 16, 16, 5, 15, 5, 16, 16, 5, 16, 16, 16, 16, 16, 16, 16, 16, 16, 16, 16, 5, 16, 5, 16, 16, 16]\n",
      "MLE - Target Score: 0.9, Percentile: 0.05\n",
      "MLE - Accuracy: 0.8333, Average Token Count: 201829.57\n"
     ]
    },
    {
     "name": "stderr",
     "output_type": "stream",
     "text": []
    },
    {
     "name": "stdout",
     "output_type": "stream",
     "text": [
      "MLE Min N Required [5, 16, 16, 16, 16, 16, 16, 5, 13, 5, 16, 16, 5, 16, 16, 16, 16, 16, 16, 16, 16, 16, 16, 16, 5, 16, 5, 16, 16, 16]\n",
      "MLE - Target Score: 0.9, Percentile: 0.075\n",
      "MLE - Accuracy: 0.8333, Average Token Count: 201246.77\n"
     ]
    },
    {
     "name": "stderr",
     "output_type": "stream",
     "text": [
      "Target Score (MLE):  62%|██████▎   | 5/8 [00:04<00:02,  1.16it/s]"
     ]
    },
    {
     "name": "stdout",
     "output_type": "stream",
     "text": [
      "MLE Min N Required [5, 16, 16, 16, 16, 16, 16, 5, 11, 5, 16, 16, 5, 16, 16, 16, 16, 16, 16, 16, 16, 16, 16, 16, 5, 16, 5, 16, 16, 16]\n",
      "MLE - Target Score: 0.9, Percentile: 0.1\n",
      "MLE - Accuracy: 0.8333, Average Token Count: 200713.53\n"
     ]
    },
    {
     "name": "stderr",
     "output_type": "stream",
     "text": []
    },
    {
     "name": "stdout",
     "output_type": "stream",
     "text": [
      "MLE Min N Required [5, 16, 16, 16, 16, 16, 16, 6, 16, 7, 16, 16, 6, 16, 16, 16, 16, 16, 16, 16, 16, 16, 16, 16, 5, 16, 5, 16, 16, 16]\n",
      "MLE - Target Score: 0.925, Percentile: 0.01\n",
      "MLE - Accuracy: 0.8333, Average Token Count: 202920.13\n"
     ]
    },
    {
     "name": "stderr",
     "output_type": "stream",
     "text": []
    },
    {
     "name": "stdout",
     "output_type": "stream",
     "text": [
      "MLE Min N Required [5, 16, 16, 16, 16, 16, 16, 5, 16, 6, 16, 16, 5, 16, 16, 16, 16, 16, 16, 16, 16, 16, 16, 16, 5, 16, 5, 16, 16, 16]\n",
      "MLE - Target Score: 0.925, Percentile: 0.02\n",
      "MLE - Accuracy: 0.8333, Average Token Count: 202265.63\n"
     ]
    },
    {
     "name": "stderr",
     "output_type": "stream",
     "text": []
    },
    {
     "name": "stdout",
     "output_type": "stream",
     "text": [
      "MLE Min N Required [5, 16, 16, 16, 16, 16, 16, 5, 16, 5, 16, 16, 5, 16, 16, 16, 16, 16, 16, 16, 16, 16, 16, 16, 5, 16, 5, 16, 16, 16]\n",
      "MLE - Target Score: 0.925, Percentile: 0.035\n",
      "MLE - Accuracy: 0.8333, Average Token Count: 202101.23\n"
     ]
    },
    {
     "name": "stderr",
     "output_type": "stream",
     "text": []
    },
    {
     "name": "stdout",
     "output_type": "stream",
     "text": [
      "MLE Min N Required [5, 16, 16, 16, 16, 16, 16, 5, 16, 5, 16, 16, 5, 16, 16, 16, 16, 16, 16, 16, 16, 16, 16, 16, 5, 16, 5, 16, 16, 16]\n",
      "MLE - Target Score: 0.925, Percentile: 0.05\n",
      "MLE - Accuracy: 0.8333, Average Token Count: 202101.23\n"
     ]
    },
    {
     "name": "stderr",
     "output_type": "stream",
     "text": []
    },
    {
     "name": "stdout",
     "output_type": "stream",
     "text": [
      "MLE Min N Required [5, 16, 16, 16, 16, 16, 16, 5, 16, 5, 16, 16, 5, 16, 16, 16, 16, 16, 16, 16, 16, 16, 16, 16, 5, 16, 5, 16, 16, 16]\n",
      "MLE - Target Score: 0.925, Percentile: 0.075\n",
      "MLE - Accuracy: 0.8333, Average Token Count: 202101.23\n"
     ]
    },
    {
     "name": "stderr",
     "output_type": "stream",
     "text": [
      "Target Score (MLE):  75%|███████▌  | 6/8 [00:05<00:01,  1.13it/s]"
     ]
    },
    {
     "name": "stdout",
     "output_type": "stream",
     "text": [
      "MLE Min N Required [5, 16, 16, 16, 16, 16, 16, 5, 16, 5, 16, 16, 5, 16, 16, 16, 16, 16, 16, 16, 16, 16, 16, 16, 5, 16, 5, 16, 16, 16]\n",
      "MLE - Target Score: 0.925, Percentile: 0.1\n",
      "MLE - Accuracy: 0.8333, Average Token Count: 202101.23\n"
     ]
    },
    {
     "name": "stderr",
     "output_type": "stream",
     "text": []
    },
    {
     "name": "stdout",
     "output_type": "stream",
     "text": [
      "MLE Min N Required [5, 16, 16, 16, 16, 16, 16, 10, 16, 10, 16, 16, 12, 16, 16, 16, 16, 16, 16, 16, 16, 16, 16, 16, 5, 16, 7, 16, 16, 16]\n"
     ]
    },
    {
     "name": "stderr",
     "output_type": "stream",
     "text": []
    },
    {
     "name": "stdout",
     "output_type": "stream",
     "text": [
      "MLE - Target Score: 0.95, Percentile: 0.01\n",
      "MLE - Accuracy: 0.8333, Average Token Count: 206120.47\n",
      "MLE Min N Required [5, 16, 16, 16, 16, 16, 16, 8, 16, 9, 16, 16, 10, 16, 16, 16, 16, 16, 16, 16, 16, 16, 16, 16, 5, 16, 6, 16, 16, 16]\n"
     ]
    },
    {
     "name": "stderr",
     "output_type": "stream",
     "text": []
    },
    {
     "name": "stdout",
     "output_type": "stream",
     "text": [
      "MLE - Target Score: 0.95, Percentile: 0.02\n",
      "MLE - Accuracy: 0.8333, Average Token Count: 204599.57\n"
     ]
    },
    {
     "name": "stderr",
     "output_type": "stream",
     "text": []
    },
    {
     "name": "stdout",
     "output_type": "stream",
     "text": [
      "MLE Min N Required [5, 16, 16, 16, 16, 16, 16, 7, 16, 8, 16, 16, 9, 16, 16, 16, 16, 16, 16, 16, 16, 16, 16, 16, 5, 16, 5, 16, 16, 16]\n",
      "MLE - Target Score: 0.95, Percentile: 0.035\n",
      "MLE - Accuracy: 0.8333, Average Token Count: 203785.93\n"
     ]
    },
    {
     "name": "stderr",
     "output_type": "stream",
     "text": []
    },
    {
     "name": "stdout",
     "output_type": "stream",
     "text": [
      "MLE Min N Required [5, 16, 16, 16, 16, 16, 16, 6, 16, 7, 16, 16, 8, 16, 16, 16, 16, 16, 16, 16, 16, 16, 16, 16, 5, 16, 5, 16, 16, 16]\n",
      "MLE - Target Score: 0.95, Percentile: 0.05\n",
      "MLE - Accuracy: 0.8333, Average Token Count: 203323.87\n"
     ]
    },
    {
     "name": "stderr",
     "output_type": "stream",
     "text": []
    },
    {
     "name": "stdout",
     "output_type": "stream",
     "text": [
      "MLE Min N Required [5, 16, 16, 16, 16, 16, 16, 6, 16, 6, 16, 16, 7, 16, 16, 16, 16, 16, 16, 16, 16, 16, 16, 16, 5, 16, 5, 16, 16, 16]\n",
      "MLE - Target Score: 0.95, Percentile: 0.075\n",
      "MLE - Accuracy: 0.8333, Average Token Count: 202957.27\n"
     ]
    },
    {
     "name": "stderr",
     "output_type": "stream",
     "text": [
      "Target Score (MLE):  88%|████████▊ | 7/8 [00:06<00:00,  1.08it/s]"
     ]
    },
    {
     "name": "stdout",
     "output_type": "stream",
     "text": [
      "MLE Min N Required [5, 16, 16, 16, 16, 16, 16, 5, 16, 5, 16, 16, 6, 16, 16, 16, 16, 16, 16, 16, 16, 16, 16, 16, 5, 16, 5, 16, 16, 16]\n",
      "MLE - Target Score: 0.95, Percentile: 0.1\n",
      "MLE - Accuracy: 0.8333, Average Token Count: 202297.97\n"
     ]
    },
    {
     "name": "stderr",
     "output_type": "stream",
     "text": []
    },
    {
     "name": "stdout",
     "output_type": "stream",
     "text": [
      "MLE Min N Required [8, 16, 16, 16, 16, 16, 16, 16, 16, 16, 16, 16, 16, 16, 16, 16, 16, 16, 16, 16, 16, 16, 16, 16, 16, 16, 15, 16, 16, 16]\n"
     ]
    },
    {
     "name": "stderr",
     "output_type": "stream",
     "text": []
    },
    {
     "name": "stdout",
     "output_type": "stream",
     "text": [
      "MLE - Target Score: 0.975, Percentile: 0.01\n",
      "MLE - Accuracy: 0.8333, Average Token Count: 214048.97\n",
      "MLE Min N Required [7, 16, 16, 16, 16, 16, 16, 16, 16, 16, 16, 16, 16, 16, 16, 16, 16, 16, 16, 16, 16, 16, 16, 16, 16, 16, 13, 16, 16, 16]\n"
     ]
    },
    {
     "name": "stderr",
     "output_type": "stream",
     "text": []
    },
    {
     "name": "stdout",
     "output_type": "stream",
     "text": [
      "MLE - Target Score: 0.975, Percentile: 0.02\n",
      "MLE - Accuracy: 0.8333, Average Token Count: 213490.80\n"
     ]
    },
    {
     "name": "stderr",
     "output_type": "stream",
     "text": []
    },
    {
     "name": "stdout",
     "output_type": "stream",
     "text": [
      "MLE Min N Required [6, 16, 16, 16, 16, 16, 16, 15, 16, 16, 16, 16, 16, 16, 16, 16, 16, 16, 16, 16, 16, 16, 16, 16, 15, 16, 11, 16, 16, 16]\n",
      "MLE - Target Score: 0.975, Percentile: 0.035\n",
      "MLE - Accuracy: 0.8333, Average Token Count: 212603.77\n"
     ]
    },
    {
     "name": "stderr",
     "output_type": "stream",
     "text": [
      "\n"
     ]
    },
    {
     "name": "stdout",
     "output_type": "stream",
     "text": [
      "MLE Min N Required [5, 16, 16, 16, 16, 16, 16, 13, 16, 14, 16, 16, 16, 16, 16, 16, 16, 16, 16, 16, 16, 16, 16, 16, 13, 16, 10, 16, 16, 16]\n",
      "MLE - Target Score: 0.975, Percentile: 0.05\n",
      "MLE - Accuracy: 0.8333, Average Token Count: 211108.50\n"
     ]
    },
    {
     "name": "stderr",
     "output_type": "stream",
     "text": [
      "Percentile:  67%|██████▋   | 4/6 [00:00<00:00,  5.53it/s]\u001b[A"
     ]
    },
    {
     "name": "stdout",
     "output_type": "stream",
     "text": [
      "MLE Min N Required [5, 16, 16, 16, 16, 16, 16, 12, 16, 12, 16, 16, 16, 16, 16, 16, 16, 16, 16, 16, 16, 16, 16, 16, 12, 16, 9, 16, 16, 16]\n"
     ]
    },
    {
     "name": "stderr",
     "output_type": "stream",
     "text": []
    },
    {
     "name": "stdout",
     "output_type": "stream",
     "text": [
      "MLE - Target Score: 0.975, Percentile: 0.075\n",
      "MLE - Accuracy: 0.8333, Average Token Count: 210148.30\n",
      "MLE Min N Required [5, 16, 16, 16, 16, 16, 16, 10, 16, 11, 16, 16, 16, 16, 16, 16, 16, 16, 16, 16, 16, 16, 16, 16, 10, 16, 8, 16, 16, 16]\n"
     ]
    },
    {
     "name": "stderr",
     "output_type": "stream",
     "text": [
      "Target Score (MLE): 100%|██████████| 8/8 [00:07<00:00,  1.11it/s]\n"
     ]
    },
    {
     "name": "stdout",
     "output_type": "stream",
     "text": [
      "MLE - Target Score: 0.975, Percentile: 0.1\n",
      "MLE - Accuracy: 0.8333, Average Token Count: 208691.43\n",
      "\n",
      "Evaluating MAP Results...\n"
     ]
    },
    {
     "name": "stderr",
     "output_type": "stream",
     "text": [
      "Target Score (MAP):   0%|          | 0/8 [00:00<?, ?it/s]"
     ]
    },
    {
     "name": "stdout",
     "output_type": "stream",
     "text": [
      "MAP Min N Required [5, 16, 16, 16, 16, 16, 16, 5, 5, 5, 16, 5, 5, 16, 16, 5, 6, 15, 16, 13, 16, 16, 16, 5, 5, 16, 5, 16, 16, 16]\n",
      "MAP - Target Score: 0.7, Percentile: 0.01\n",
      "MAP - Accuracy: 0.8333, Average Token Count: 183746.23\n"
     ]
    },
    {
     "name": "stderr",
     "output_type": "stream",
     "text": []
    },
    {
     "name": "stdout",
     "output_type": "stream",
     "text": [
      "MAP Min N Required [5, 16, 16, 16, 16, 16, 16, 5, 5, 5, 16, 5, 5, 16, 14, 5, 5, 13, 16, 11, 16, 16, 16, 5, 5, 16, 5, 16, 16, 16]\n",
      "MAP - Target Score: 0.7, Percentile: 0.02\n",
      "MAP - Accuracy: 0.8333, Average Token Count: 180364.53\n"
     ]
    },
    {
     "name": "stderr",
     "output_type": "stream",
     "text": []
    },
    {
     "name": "stdout",
     "output_type": "stream",
     "text": [
      "MAP Min N Required [5, 16, 16, 16, 16, 16, 16, 5, 5, 5, 16, 5, 5, 16, 12, 5, 5, 11, 16, 9, 16, 16, 16, 5, 5, 16, 5, 16, 16, 16]\n",
      "MAP - Target Score: 0.7, Percentile: 0.035\n",
      "MAP - Accuracy: 0.8333, Average Token Count: 177402.43\n"
     ]
    },
    {
     "name": "stderr",
     "output_type": "stream",
     "text": []
    },
    {
     "name": "stdout",
     "output_type": "stream",
     "text": [
      "MAP Min N Required [5, 16, 16, 16, 16, 15, 16, 5, 5, 5, 16, 5, 5, 16, 11, 5, 5, 10, 16, 8, 16, 16, 16, 5, 5, 16, 5, 16, 15, 16]\n",
      "MAP - Target Score: 0.7, Percentile: 0.05\n",
      "MAP - Accuracy: 0.8333, Average Token Count: 175042.13\n"
     ]
    },
    {
     "name": "stderr",
     "output_type": "stream",
     "text": []
    },
    {
     "name": "stdout",
     "output_type": "stream",
     "text": [
      "MAP Min N Required [5, 16, 16, 16, 16, 13, 16, 5, 5, 5, 16, 5, 5, 16, 9, 5, 5, 9, 15, 7, 16, 16, 16, 5, 5, 16, 5, 16, 13, 16]\n",
      "MAP - Target Score: 0.7, Percentile: 0.075\n",
      "MAP - Accuracy: 0.8333, Average Token Count: 170668.57\n"
     ]
    },
    {
     "name": "stderr",
     "output_type": "stream",
     "text": [
      "Target Score (MAP):  12%|█▎        | 1/8 [00:00<00:05,  1.32it/s]"
     ]
    },
    {
     "name": "stdout",
     "output_type": "stream",
     "text": [
      "MAP Min N Required [5, 16, 16, 16, 16, 11, 16, 5, 5, 5, 16, 5, 5, 16, 8, 5, 5, 8, 14, 7, 16, 16, 16, 5, 5, 16, 5, 16, 12, 16]\n",
      "MAP - Target Score: 0.7, Percentile: 0.1\n",
      "MAP - Accuracy: 0.8333, Average Token Count: 167600.27\n"
     ]
    },
    {
     "name": "stderr",
     "output_type": "stream",
     "text": []
    },
    {
     "name": "stdout",
     "output_type": "stream",
     "text": [
      "MAP Min N Required [5, 16, 16, 16, 16, 16, 16, 5, 5, 5, 16, 7, 5, 16, 16, 6, 11, 16, 16, 16, 16, 16, 16, 16, 5, 16, 5, 16, 16, 16]\n",
      "MAP - Target Score: 0.75, Percentile: 0.01\n",
      "MAP - Accuracy: 0.8333, Average Token Count: 191889.57\n"
     ]
    },
    {
     "name": "stderr",
     "output_type": "stream",
     "text": []
    },
    {
     "name": "stdout",
     "output_type": "stream",
     "text": [
      "MAP Min N Required [5, 16, 16, 16, 16, 16, 16, 5, 5, 5, 16, 6, 5, 16, 16, 5, 10, 16, 16, 16, 16, 16, 16, 16, 5, 16, 5, 16, 16, 16]\n",
      "MAP - Target Score: 0.75, Percentile: 0.02\n",
      "MAP - Accuracy: 0.8333, Average Token Count: 190791.37\n"
     ]
    },
    {
     "name": "stderr",
     "output_type": "stream",
     "text": []
    },
    {
     "name": "stdout",
     "output_type": "stream",
     "text": [
      "MAP Min N Required [5, 16, 16, 16, 16, 16, 16, 5, 5, 5, 16, 6, 5, 16, 16, 5, 8, 16, 16, 16, 16, 16, 16, 16, 5, 16, 5, 16, 16, 16]\n",
      "MAP - Target Score: 0.75, Percentile: 0.035\n",
      "MAP - Accuracy: 0.8333, Average Token Count: 190334.97\n"
     ]
    },
    {
     "name": "stderr",
     "output_type": "stream",
     "text": []
    },
    {
     "name": "stdout",
     "output_type": "stream",
     "text": [
      "MAP Min N Required [5, 16, 16, 16, 16, 16, 16, 5, 5, 5, 16, 5, 5, 16, 16, 5, 8, 16, 16, 16, 16, 16, 16, 16, 5, 16, 5, 16, 16, 16]\n",
      "MAP - Target Score: 0.75, Percentile: 0.05\n",
      "MAP - Accuracy: 0.8333, Average Token Count: 190108.03\n"
     ]
    },
    {
     "name": "stderr",
     "output_type": "stream",
     "text": []
    },
    {
     "name": "stdout",
     "output_type": "stream",
     "text": [
      "MAP Min N Required [5, 16, 16, 16, 16, 16, 16, 5, 5, 5, 16, 5, 5, 16, 16, 5, 7, 16, 16, 14, 16, 16, 16, 16, 5, 16, 5, 16, 16, 16]\n",
      "MAP - Target Score: 0.75, Percentile: 0.075\n",
      "MAP - Accuracy: 0.8333, Average Token Count: 189021.50\n"
     ]
    },
    {
     "name": "stderr",
     "output_type": "stream",
     "text": [
      "Target Score (MAP):  25%|██▌       | 2/8 [00:01<00:04,  1.23it/s]"
     ]
    },
    {
     "name": "stdout",
     "output_type": "stream",
     "text": [
      "MAP Min N Required [5, 16, 16, 16, 16, 16, 16, 5, 5, 5, 16, 5, 5, 16, 16, 5, 6, 16, 16, 12, 16, 16, 16, 16, 5, 16, 5, 16, 16, 16]\n",
      "MAP - Target Score: 0.75, Percentile: 0.1\n",
      "MAP - Accuracy: 0.8333, Average Token Count: 188181.20\n"
     ]
    },
    {
     "name": "stderr",
     "output_type": "stream",
     "text": []
    },
    {
     "name": "stdout",
     "output_type": "stream",
     "text": [
      "MAP Min N Required [5, 16, 16, 16, 16, 16, 16, 5, 5, 6, 16, 16, 5, 16, 16, 15, 16, 16, 16, 16, 16, 16, 16, 16, 7, 16, 6, 16, 16, 16]\n",
      "MAP - Target Score: 0.8, Percentile: 0.01\n",
      "MAP - Accuracy: 0.8333, Average Token Count: 199577.37\n"
     ]
    },
    {
     "name": "stderr",
     "output_type": "stream",
     "text": []
    },
    {
     "name": "stdout",
     "output_type": "stream",
     "text": [
      "MAP Min N Required [5, 16, 16, 16, 16, 16, 16, 5, 5, 5, 16, 16, 5, 16, 16, 13, 16, 16, 16, 16, 16, 16, 16, 16, 6, 16, 5, 16, 16, 16]\n",
      "MAP - Target Score: 0.8, Percentile: 0.02\n",
      "MAP - Accuracy: 0.8333, Average Token Count: 198200.80\n"
     ]
    },
    {
     "name": "stderr",
     "output_type": "stream",
     "text": []
    },
    {
     "name": "stdout",
     "output_type": "stream",
     "text": [
      "MAP Min N Required [5, 16, 16, 16, 16, 16, 16, 5, 5, 5, 16, 16, 5, 16, 16, 11, 16, 16, 16, 16, 16, 16, 16, 16, 5, 16, 5, 16, 16, 16]\n",
      "MAP - Target Score: 0.8, Percentile: 0.035\n",
      "MAP - Accuracy: 0.8333, Average Token Count: 197438.37\n"
     ]
    },
    {
     "name": "stderr",
     "output_type": "stream",
     "text": []
    },
    {
     "name": "stdout",
     "output_type": "stream",
     "text": [
      "MAP Min N Required [5, 16, 16, 16, 16, 16, 16, 5, 5, 5, 16, 16, 5, 16, 16, 10, 16, 16, 16, 16, 16, 16, 16, 16, 5, 16, 5, 16, 16, 16]\n",
      "MAP - Target Score: 0.8, Percentile: 0.05\n",
      "MAP - Accuracy: 0.8333, Average Token Count: 197183.73\n"
     ]
    },
    {
     "name": "stderr",
     "output_type": "stream",
     "text": []
    },
    {
     "name": "stdout",
     "output_type": "stream",
     "text": [
      "MAP Min N Required [5, 16, 16, 16, 16, 16, 16, 5, 5, 5, 16, 16, 5, 16, 16, 9, 14, 16, 16, 16, 16, 16, 16, 16, 5, 16, 5, 16, 16, 16]\n",
      "MAP - Target Score: 0.8, Percentile: 0.075\n",
      "MAP - Accuracy: 0.8333, Average Token Count: 195873.50\n"
     ]
    },
    {
     "name": "stderr",
     "output_type": "stream",
     "text": [
      "Target Score (MAP):  38%|███▊      | 3/8 [00:02<00:04,  1.17it/s]"
     ]
    },
    {
     "name": "stdout",
     "output_type": "stream",
     "text": [
      "MAP Min N Required [5, 16, 16, 16, 16, 16, 16, 5, 5, 5, 16, 16, 5, 16, 16, 8, 12, 16, 16, 16, 16, 16, 16, 16, 5, 16, 5, 16, 16, 16]\n",
      "MAP - Target Score: 0.8, Percentile: 0.1\n",
      "MAP - Accuracy: 0.8333, Average Token Count: 194857.77\n"
     ]
    },
    {
     "name": "stderr",
     "output_type": "stream",
     "text": []
    },
    {
     "name": "stdout",
     "output_type": "stream",
     "text": [
      "MAP Min N Required [5, 16, 16, 16, 16, 16, 16, 8, 8, 9, 16, 16, 5, 16, 16, 16, 16, 16, 16, 16, 16, 16, 16, 16, 10, 16, 10, 16, 16, 16]\n",
      "MAP - Target Score: 0.85, Percentile: 0.01\n",
      "MAP - Accuracy: 0.8333, Average Token Count: 203504.90\n"
     ]
    },
    {
     "name": "stderr",
     "output_type": "stream",
     "text": []
    },
    {
     "name": "stdout",
     "output_type": "stream",
     "text": [
      "MAP Min N Required [5, 16, 16, 16, 16, 16, 16, 7, 7, 8, 16, 16, 5, 16, 16, 16, 16, 16, 16, 16, 16, 16, 16, 16, 9, 16, 8, 16, 16, 16]\n",
      "MAP - Target Score: 0.85, Percentile: 0.02\n",
      "MAP - Accuracy: 0.8333, Average Token Count: 202200.40\n"
     ]
    },
    {
     "name": "stderr",
     "output_type": "stream",
     "text": []
    },
    {
     "name": "stdout",
     "output_type": "stream",
     "text": [
      "MAP Min N Required [5, 16, 16, 16, 16, 16, 16, 6, 6, 7, 16, 16, 5, 16, 16, 16, 16, 16, 16, 16, 16, 16, 16, 16, 8, 16, 7, 16, 16, 16]\n",
      "MAP - Target Score: 0.85, Percentile: 0.035\n",
      "MAP - Accuracy: 0.8333, Average Token Count: 201054.60\n"
     ]
    },
    {
     "name": "stderr",
     "output_type": "stream",
     "text": []
    },
    {
     "name": "stdout",
     "output_type": "stream",
     "text": [
      "MAP Min N Required [5, 16, 16, 16, 16, 16, 16, 5, 5, 6, 16, 16, 5, 16, 16, 16, 16, 16, 16, 16, 16, 16, 16, 16, 7, 16, 7, 16, 16, 16]\n",
      "MAP - Target Score: 0.85, Percentile: 0.05\n",
      "MAP - Accuracy: 0.8333, Average Token Count: 200120.23\n"
     ]
    },
    {
     "name": "stderr",
     "output_type": "stream",
     "text": []
    },
    {
     "name": "stdout",
     "output_type": "stream",
     "text": [
      "MAP Min N Required [5, 16, 16, 16, 16, 16, 16, 5, 5, 5, 16, 16, 5, 16, 16, 16, 16, 16, 16, 16, 16, 16, 16, 16, 6, 16, 6, 16, 16, 16]\n",
      "MAP - Target Score: 0.85, Percentile: 0.075\n",
      "MAP - Accuracy: 0.8333, Average Token Count: 199533.33\n"
     ]
    },
    {
     "name": "stderr",
     "output_type": "stream",
     "text": [
      "Target Score (MAP):  50%|█████     | 4/8 [00:03<00:03,  1.15it/s]"
     ]
    },
    {
     "name": "stdout",
     "output_type": "stream",
     "text": [
      "MAP Min N Required [5, 16, 16, 16, 16, 16, 16, 5, 5, 5, 16, 16, 5, 16, 16, 16, 16, 16, 16, 16, 16, 16, 16, 16, 5, 16, 5, 16, 16, 16]\n",
      "MAP - Target Score: 0.85, Percentile: 0.1\n",
      "MAP - Accuracy: 0.8333, Average Token Count: 199151.80\n"
     ]
    },
    {
     "name": "stderr",
     "output_type": "stream",
     "text": []
    },
    {
     "name": "stdout",
     "output_type": "stream",
     "text": [
      "MAP Min N Required [5, 16, 16, 16, 16, 16, 16, 16, 16, 16, 16, 16, 6, 16, 16, 16, 16, 16, 16, 16, 16, 16, 16, 16, 16, 16, 16, 16, 16, 16]\n"
     ]
    },
    {
     "name": "stderr",
     "output_type": "stream",
     "text": [
      "\n",
      "Percentile:  33%|███▎      | 2/6 [00:00<00:00,  5.71it/s]"
     ]
    },
    {
     "name": "stdout",
     "output_type": "stream",
     "text": [
      "MAP - Target Score: 0.9, Percentile: 0.01\n",
      "MAP - Accuracy: 0.8333, Average Token Count: 211503.37\n",
      "MAP Min N Required [5, 16, 16, 16, 16, 16, 16, 14, 16, 15, 16, 16, 5, 16, 16, 16, 16, 16, 16, 16, 16, 16, 16, 16, 15, 16, 15, 16, 16, 16]\n",
      "MAP - Target Score: 0.9, Percentile: 0.02\n",
      "MAP - Accuracy: 0.8333, Average Token Count: 210573.27\n"
     ]
    },
    {
     "name": "stderr",
     "output_type": "stream",
     "text": [
      "\u001b[A"
     ]
    },
    {
     "name": "stdout",
     "output_type": "stream",
     "text": [
      "MAP Min N Required [5, 16, 16, 16, 16, 16, 16, 12, 16, 13, 16, 16, 5, 16, 16, 16, 16, 16, 16, 16, 16, 16, 16, 16, 13, 16, 13, 16, 16, 16]\n",
      "MAP - Target Score: 0.9, Percentile: 0.035\n",
      "MAP - Accuracy: 0.8333, Average Token Count: 208954.87\n",
      "MAP Min N Required [5, 16, 16, 16, 16, 16, 16, 11, 16, 12, 16, 16, 5, 16, 16, 16, 16, 16, 16, 16, 16, 16, 16, 16, 12, 16, 11, 16, 16, 16]\n",
      "MAP - Target Score: 0.9, Percentile: 0.05\n",
      "MAP - Accuracy: 0.8333, Average Token Count: 207876.43\n"
     ]
    },
    {
     "name": "stderr",
     "output_type": "stream",
     "text": [
      "Target Score (MAP):  62%|██████▎   | 5/8 [00:04<00:02,  1.08it/s]"
     ]
    },
    {
     "name": "stdout",
     "output_type": "stream",
     "text": [
      "MAP Min N Required [5, 16, 16, 16, 16, 16, 16, 9, 16, 10, 16, 16, 5, 16, 16, 16, 16, 16, 16, 16, 16, 16, 16, 16, 10, 16, 10, 16, 16, 16]\n",
      "MAP - Target Score: 0.9, Percentile: 0.075\n",
      "MAP - Accuracy: 0.8333, Average Token Count: 206325.40\n",
      "MAP Min N Required [5, 16, 16, 16, 16, 16, 16, 8, 16, 9, 16, 16, 5, 16, 16, 16, 16, 16, 16, 16, 16, 16, 16, 16, 9, 16, 9, 16, 16, 16]\n",
      "MAP - Target Score: 0.9, Percentile: 0.1\n",
      "MAP - Accuracy: 0.8333, Average Token Count: 205192.03\n"
     ]
    },
    {
     "name": "stderr",
     "output_type": "stream",
     "text": []
    },
    {
     "name": "stdout",
     "output_type": "stream",
     "text": [
      "MAP Min N Required [5, 16, 16, 16, 16, 16, 16, 16, 16, 16, 16, 16, 11, 16, 16, 16, 16, 16, 16, 16, 16, 16, 16, 16, 16, 16, 16, 16, 16, 16]\n",
      "MAP - Target Score: 0.925, Percentile: 0.01\n",
      "MAP - Accuracy: 0.8333, Average Token Count: 212564.47\n",
      "MAP Min N Required [5, 16, 16, 16, 16, 16, 16, 16, 16, 16, 16, 16, 10, 16, 16, 16, 16, 16, 16, 16, 16, 16, 16, 16, 16, 16, 16, 16, 16, 16]\n",
      "MAP - Target Score: 0.925, Percentile: 0.02\n",
      "MAP - Accuracy: 0.8333, Average Token Count: 212328.37\n"
     ]
    },
    {
     "name": "stderr",
     "output_type": "stream",
     "text": []
    },
    {
     "name": "stdout",
     "output_type": "stream",
     "text": [
      "MAP Min N Required [5, 16, 16, 16, 16, 16, 16, 16, 16, 16, 16, 16, 8, 16, 16, 16, 16, 16, 16, 16, 16, 16, 16, 16, 16, 16, 16, 16, 16, 16]\n",
      "MAP - Target Score: 0.925, Percentile: 0.035\n",
      "MAP - Accuracy: 0.8333, Average Token Count: 211907.10\n",
      "MAP Min N Required [5, 16, 16, 16, 16, 16, 16, 16, 16, 16, 16, 16, 8, 16, 16, 16, 16, 16, 16, 16, 16, 16, 16, 16, 16, 16, 16, 16, 16, 16]\n",
      "MAP - Target Score: 0.925, Percentile: 0.05\n",
      "MAP - Accuracy: 0.8333, Average Token Count: 211907.10\n"
     ]
    },
    {
     "name": "stderr",
     "output_type": "stream",
     "text": [
      "Target Score (MAP):  75%|███████▌  | 6/8 [00:05<00:01,  1.04it/s]"
     ]
    },
    {
     "name": "stdout",
     "output_type": "stream",
     "text": [
      "MAP Min N Required [5, 16, 16, 16, 16, 16, 16, 15, 16, 15, 16, 16, 7, 16, 16, 16, 16, 16, 16, 16, 16, 16, 16, 16, 15, 16, 14, 16, 16, 16]\n",
      "MAP - Target Score: 0.925, Percentile: 0.075\n",
      "MAP - Accuracy: 0.8333, Average Token Count: 210907.83\n",
      "MAP Min N Required [5, 16, 16, 16, 16, 16, 16, 13, 16, 14, 16, 16, 6, 16, 16, 16, 16, 16, 16, 16, 16, 16, 16, 16, 13, 16, 13, 16, 16, 16]\n",
      "MAP - Target Score: 0.925, Percentile: 0.1\n",
      "MAP - Accuracy: 0.8333, Average Token Count: 209440.50\n"
     ]
    },
    {
     "name": "stderr",
     "output_type": "stream",
     "text": []
    },
    {
     "name": "stdout",
     "output_type": "stream",
     "text": [
      "MAP Min N Required [6, 16, 16, 16, 16, 16, 16, 16, 16, 16, 16, 16, 16, 16, 16, 16, 16, 16, 16, 16, 16, 16, 16, 16, 16, 16, 16, 16, 16, 16]\n",
      "MAP - Target Score: 0.95, Percentile: 0.01\n",
      "MAP - Accuracy: 0.8333, Average Token Count: 213892.03\n",
      "MAP Min N Required [5, 16, 16, 16, 16, 16, 16, 16, 16, 16, 16, 16, 16, 16, 16, 16, 16, 16, 16, 16, 16, 16, 16, 16, 16, 16, 16, 16, 16, 16]\n",
      "MAP - Target Score: 0.95, Percentile: 0.02\n",
      "MAP - Accuracy: 0.8333, Average Token Count: 213724.63\n"
     ]
    },
    {
     "name": "stderr",
     "output_type": "stream",
     "text": []
    },
    {
     "name": "stdout",
     "output_type": "stream",
     "text": [
      "MAP Min N Required [5, 16, 16, 16, 16, 16, 16, 16, 16, 16, 16, 16, 16, 16, 16, 16, 16, 16, 16, 16, 16, 16, 16, 16, 16, 16, 16, 16, 16, 16]\n",
      "MAP - Target Score: 0.95, Percentile: 0.035\n",
      "MAP - Accuracy: 0.8333, Average Token Count: 213724.63\n",
      "MAP Min N Required [5, 16, 16, 16, 16, 16, 16, 16, 16, 16, 16, 16, 16, 16, 16, 16, 16, 16, 16, 16, 16, 16, 16, 16, 16, 16, 16, 16, 16, 16]\n",
      "MAP - Target Score: 0.95, Percentile: 0.05\n",
      "MAP - Accuracy: 0.8333, Average Token Count: 213724.63\n"
     ]
    },
    {
     "name": "stderr",
     "output_type": "stream",
     "text": [
      "Target Score (MAP):  88%|████████▊ | 7/8 [00:06<00:00,  1.01it/s]"
     ]
    },
    {
     "name": "stdout",
     "output_type": "stream",
     "text": [
      "MAP Min N Required [5, 16, 16, 16, 16, 16, 16, 16, 16, 16, 16, 16, 14, 16, 16, 16, 16, 16, 16, 16, 16, 16, 16, 16, 16, 16, 16, 16, 16, 16]\n",
      "MAP - Target Score: 0.95, Percentile: 0.075\n",
      "MAP - Accuracy: 0.8333, Average Token Count: 213266.47\n",
      "MAP Min N Required [5, 16, 16, 16, 16, 16, 16, 16, 16, 16, 16, 16, 13, 16, 16, 16, 16, 16, 16, 16, 16, 16, 16, 16, 16, 16, 16, 16, 16, 16]\n",
      "MAP - Target Score: 0.95, Percentile: 0.1\n",
      "MAP - Accuracy: 0.8333, Average Token Count: 213017.00\n"
     ]
    },
    {
     "name": "stderr",
     "output_type": "stream",
     "text": []
    },
    {
     "name": "stdout",
     "output_type": "stream",
     "text": [
      "MAP Min N Required [16, 16, 16, 16, 16, 16, 16, 16, 16, 16, 16, 16, 16, 16, 16, 16, 16, 16, 16, 16, 16, 16, 16, 16, 16, 16, 16, 16, 16, 16]\n",
      "MAP - Target Score: 0.975, Percentile: 0.01\n",
      "MAP - Accuracy: 0.8333, Average Token Count: 215353.87\n",
      "MAP Min N Required [16, 16, 16, 16, 16, 16, 16, 16, 16, 16, 16, 16, 16, 16, 16, 16, 16, 16, 16, 16, 16, 16, 16, 16, 16, 16, 16, 16, 16, 16]\n",
      "MAP - Target Score: 0.975, Percentile: 0.02\n",
      "MAP - Accuracy: 0.8333, Average Token Count: 215353.87\n"
     ]
    },
    {
     "name": "stderr",
     "output_type": "stream",
     "text": []
    },
    {
     "name": "stdout",
     "output_type": "stream",
     "text": [
      "MAP Min N Required [15, 16, 16, 16, 16, 16, 16, 16, 16, 16, 16, 16, 16, 16, 16, 16, 16, 16, 16, 16, 16, 16, 16, 16, 16, 16, 16, 16, 16, 16]\n",
      "MAP - Target Score: 0.975, Percentile: 0.035\n",
      "MAP - Accuracy: 0.8333, Average Token Count: 215215.17\n",
      "MAP Min N Required [13, 16, 16, 16, 16, 16, 16, 16, 16, 16, 16, 16, 16, 16, 16, 16, 16, 16, 16, 16, 16, 16, 16, 16, 16, 16, 16, 16, 16, 16]\n",
      "MAP - Target Score: 0.975, Percentile: 0.05\n",
      "MAP - Accuracy: 0.8333, Average Token Count: 214946.77\n"
     ]
    },
    {
     "name": "stderr",
     "output_type": "stream",
     "text": [
      "Target Score (MAP): 100%|██████████| 8/8 [00:07<00:00,  1.06it/s]"
     ]
    },
    {
     "name": "stdout",
     "output_type": "stream",
     "text": [
      "MAP Min N Required [11, 16, 16, 16, 16, 16, 16, 16, 16, 16, 16, 16, 16, 16, 16, 16, 16, 16, 16, 16, 16, 16, 16, 16, 16, 16, 16, 16, 16, 16]\n",
      "MAP - Target Score: 0.975, Percentile: 0.075\n",
      "MAP - Accuracy: 0.8333, Average Token Count: 214635.00\n",
      "MAP Min N Required [10, 16, 16, 16, 16, 16, 16, 16, 16, 16, 16, 16, 16, 16, 16, 16, 16, 16, 16, 16, 16, 16, 16, 16, 16, 16, 16, 16, 16, 16]\n",
      "MAP - Target Score: 0.975, Percentile: 0.1\n",
      "MAP - Accuracy: 0.8333, Average Token Count: 214460.00\n"
     ]
    },
    {
     "name": "stderr",
     "output_type": "stream",
     "text": [
      "\n"
     ]
    },
    {
     "data": {
      "image/png": "[encoded data removed]",
      "text/plain": [
       "<Figure size 1200x800 with 1 Axes>"
      ]
     },
     "metadata": {},
     "output_type": "display_data"
    },
    {
     "name": "stdout",
     "output_type": "stream",
     "text": [
      "\n",
      "MLE Pareto-optimal configurations:\n",
      "Target Score: 0.7, Percentile: 0.1, Accuracy: 0.8333, Avg Token Count: 172565.70\n",
      "\n",
      "MAP Pareto-optimal configurations:\n",
      "Target Score: 0.7, Percentile: 0.1, Accuracy: 0.8333, Avg Token Count: 167600.27\n"
     ]
    }
   ],
   "source": [
    "max_N_panel = 16\n",
    "print(\"Target Score Panel:\", target_score_panel_values)\n",
    "print(\"Percentile Panel:\", percentile_panel_values)\n",
    "print(\"Max N:\", max_N_panel)\n",
    "\n",
    "# Evaluate MLE results\n",
    "print(\"\\nEvaluating MLE Results...\")\n",
    "truncated_normal_params_all = mle_estimated_params\n",
    "mle_grid_search_results = []\n",
    "\n",
    "for target_score in tqdm(target_score_panel_values, desc=\"Target Score (MLE)\"):\n",
    "    for percentile in tqdm(percentile_panel_values, desc=\"Percentile\", leave=False):\n",
    "        min_N_required = []\n",
    "        for i, (mu, sigma) in enumerate(truncated_normal_params_all):\n",
    "            min_N = find_min_N_for_threshold(mu, sigma, target_score=target_score, \n",
    "                                        percentile=percentile, max_N=max_N_panel)\n",
    "            if min_N < peek_number:\n",
    "                min_N = peek_number\n",
    "            min_N_required.append(min_N)\n",
    "        print(\"MLE Min N Required\", min_N_required)\n",
    "        \n",
    "        # Evaluate model performance with these parameters\n",
    "        correct = 0\n",
    "        entire_token_count = 0\n",
    "\n",
    "        for idx, item in enumerate(val_texts):\n",
    "            N = min_N_required[idx]\n",
    "            completions = val_completions[idx][0][:N]\n",
    "            scores = val_scores[idx][0][:N]\n",
    "            completion_tokens = val_completion_tokens[idx][0][:N]\n",
    "            total_tokens = sum(completion_tokens)\n",
    "\n",
    "            highest_scores_idx = scores.index(max(scores))\n",
    "\n",
    "            while completions[highest_scores_idx] == \"\":\n",
    "                scores[highest_scores_idx] = 0 \n",
    "                if max(scores) == 0: \n",
    "                    break\n",
    "                highest_scores_idx = scores.index(max(scores))\n",
    "\n",
    "            output = completions[highest_scores_idx]\n",
    "            answer = get_answer(output)\n",
    "\n",
    "            if verify_extracted_answer(val_gt_answers[idx], answer):\n",
    "                correct += 1\n",
    "            entire_token_count += total_tokens\n",
    "\n",
    "        accuracy = correct / len(val_texts)\n",
    "        average_token_count = entire_token_count / len(val_texts)\n",
    "        \n",
    "        print(f\"MLE - Target Score: {target_score}, Percentile: {percentile}\")\n",
    "        print(f\"MLE - Accuracy: {accuracy:.4f}, Average Token Count: {average_token_count:.2f}\")\n",
    "        \n",
    "        mle_grid_search_results.append({\n",
    "            'target_score': target_score,\n",
    "            'percentile': percentile,\n",
    "            'accuracy': accuracy,\n",
    "            'average_token_count': average_token_count\n",
    "        })\n",
    "        \n",
    "with open(f'{DATASET}_OptScale_MLE_results_{max_N_panel}.json', 'w') as f:\n",
    "    json.dump(mle_grid_search_results, f)\n",
    "\n",
    "\n",
    "# Evaluate MAP results\n",
    "print(\"\\nEvaluating MAP Results...\")\n",
    "truncated_normal_params_all = map_estimated_params\n",
    "map_grid_search_results = []\n",
    "\n",
    "for target_score in tqdm(target_score_panel_values, desc=\"Target Score (MAP)\"):\n",
    "    for percentile in tqdm(percentile_panel_values, desc=\"Percentile\", leave=False):\n",
    "        min_N_required = []\n",
    "        for i, (mu, sigma) in enumerate(truncated_normal_params_all):\n",
    "            min_N = find_min_N_for_threshold(mu, sigma, target_score=target_score, \n",
    "                                        percentile=percentile, max_N=max_N_panel)\n",
    "            if min_N < peek_number:\n",
    "                min_N = peek_number\n",
    "            min_N_required.append(min_N)\n",
    "        print(\"MAP Min N Required\", min_N_required)\n",
    "        \n",
    "        # Evaluate model performance with these parameters\n",
    "        correct = 0\n",
    "        entire_token_count = 0\n",
    "\n",
    "        for idx, item in enumerate(val_texts):\n",
    "            N = min_N_required[idx]\n",
    "            completions = val_completions[idx][0][:N]\n",
    "            scores = val_scores[idx][0][:N]\n",
    "            completion_tokens = val_completion_tokens[idx][0][:N]\n",
    "            total_tokens = sum(completion_tokens)\n",
    "\n",
    "            highest_scores_idx = scores.index(max(scores))\n",
    "\n",
    "            while completions[highest_scores_idx] == \"\":\n",
    "                scores[highest_scores_idx] = 0 \n",
    "                if max(scores) == 0: \n",
    "                    break\n",
    "                highest_scores_idx = scores.index(max(scores))\n",
    "\n",
    "            output = completions[highest_scores_idx]\n",
    "            answer = get_answer(output)\n",
    "\n",
    "            if verify_extracted_answer(val_gt_answers[idx], answer):\n",
    "                correct += 1\n",
    "            entire_token_count += total_tokens\n",
    "\n",
    "        accuracy = correct / len(val_texts)\n",
    "        average_token_count = entire_token_count / len(val_texts)\n",
    "        \n",
    "        print(f\"MAP - Target Score: {target_score}, Percentile: {percentile}\")\n",
    "        print(f\"MAP - Accuracy: {accuracy:.4f}, Average Token Count: {average_token_count:.2f}\")\n",
    "        \n",
    "        map_grid_search_results.append({\n",
    "            'target_score': target_score,\n",
    "            'percentile': percentile,\n",
    "            'accuracy': accuracy,\n",
    "            'average_token_count': average_token_count\n",
    "        })\n",
    "        \n",
    "with open(f'{DATASET}_OptScale_MAP_results_{max_N_panel}.json', 'w') as f:\n",
    "    json.dump(map_grid_search_results, f)\n",
    "\n",
    "plot_mle_map_optscale(mle_grid_search_results, map_grid_search_results, baseline_average_token_counts, baseline_accuracy_values, max_N_panel)"
   ]
  },
  {
   "cell_type": "code",
   "execution_count": 8,
   "metadata": {},
   "outputs": [
    {
     "name": "stdout",
     "output_type": "stream",
     "text": [
      "0         0.6235      0.1135    1.0029    0.0353    0.9484    0.0402    0.9907    0.0235\n",
      "1         0.6610      0.1043    0.5136    0.1065    0.5288    0.1074    0.4890    0.0892\n",
      "2         0.6834      0.1139    0.4359    0.0439    0.4408    0.0448    0.4494    0.0412\n",
      "3         0.5975      0.0914    0.4300    0.0259    0.5020    0.0767    0.4254    0.0466\n",
      "4         0.5143      0.0985    0.6257    0.0663    0.6209    0.0672    0.6105    0.0795\n",
      "5         0.6992      0.0917    0.5931    0.1861    0.6179    0.1749    0.6131    0.1582\n",
      "6         0.6755      0.1047    0.5544    0.0457    0.5569    0.0464    0.5966    0.1002\n",
      "7         0.5058      0.0558    1.5240    0.3222    0.7436    0.2208    1.4332    0.2606\n",
      "8         0.6027      0.0968    0.8219    0.0551    0.7743    0.0686    0.8087    0.0700\n",
      "9         0.5271      0.1360    0.9494    0.0844    0.7290    0.2409    0.9495    0.0649\n",
      "10        0.6061      0.1544    0.5056    0.0645    0.5099    0.0666    0.4938    0.0932\n",
      "11        0.5284      0.0908    0.8005    0.0402    0.7541    0.0472    0.8044    0.0606\n",
      "12        0.6263      0.1054    0.9228    0.0422    0.9042    0.0427    0.9226    0.0906\n",
      "13        0.7189      0.1323    0.4884    0.0706    0.5402    0.0697    0.4718    0.0543\n",
      "14        0.6327      0.0957    0.5948    0.1184    0.5994    0.1170    0.5824    0.0991\n",
      "15        0.4786      0.1201    0.7872    0.0860    0.7638    0.0895    0.7796    0.0854\n",
      "16        0.5019      0.0918    0.7916    0.1280    0.7463    0.1228    0.7564    0.1536\n",
      "17        0.5432      0.0728    0.6493    0.0659    0.6449    0.0662    0.5979    0.0736\n",
      "18        0.7051      0.0788    0.5417    0.0937    0.5550    0.0940    0.5805    0.1174\n",
      "19        0.5597      0.0605    0.6308    0.1077    0.6236    0.1054    0.6400    0.0784\n",
      "20        0.6826      0.0816    0.4777    0.0644    0.4919    0.0950    0.4908    0.0627\n",
      "21        0.7763      0.0853    0.5187    0.0731    0.5324    0.0747    0.5072    0.0700\n",
      "22        0.7035      0.1236    0.5603    0.0448    0.5632    0.0457    0.5688    0.0582\n",
      "23        0.7543      0.1253    0.7120    0.0396    0.7127    0.0403    0.6940    0.0716\n",
      "24        0.6305      0.0490    0.9465    0.0309    0.8101    0.3497   25.8013    1.2736\n",
      "25        0.6474      0.1419    0.4550    0.0473    0.5236    0.1689    0.4433    0.0466\n",
      "26        0.6417      0.0770    1.8803    0.2993    0.9233    0.0953    1.4238    0.1756\n",
      "27        0.6521      0.1246    0.4675    0.0388    0.4704    0.0396    0.4637    0.0728\n",
      "28        0.7377      0.0989    0.4612    0.0437    0.4865    0.0699    0.4558    0.0408\n",
      "29        0.6121      0.1139    0.5496    0.0921    0.5546    0.0931    0.5459    0.0961\n",
      "\n",
      "Performance Comparison (MSE against ground truth):\n",
      "Predictor MSE - μ: 21.208091, σ: 0.053953\n",
      "MLE MSE      - μ: 20.599623, σ: 0.052589\n",
      "MAP MSE      - μ: 20.845578, σ: 0.030751\n",
      "\n",
      "Statistics of Different Estimation Methods:\n",
      "Predictor Estimates:\n",
      "Mean μ: 0.6276 ± 0.0787\n",
      "Mean σ: 0.1010 ± 0.0249\n",
      "\n",
      "MLE Estimates (10 samples):\n",
      "Mean μ: 0.7064 ± 0.3169\n",
      "Mean σ: 0.0854 ± 0.0693\n",
      "\n",
      "MAP Estimates (10 samples):\n",
      "Mean μ: 0.6391 ± 0.1394\n",
      "Mean σ: 0.0994 ± 0.0686\n",
      "\n",
      "Ground Truth (100 samples):\n",
      "Mean μ: 1.5130 ± 4.5173\n",
      "Mean σ: 0.1269 ± 0.2180\n"
     ]
    }
   ],
   "source": [
    "peek_number = 10\n",
    "\n",
    "mle_estimated_params = []  # Store MLE estimates\n",
    "map_estimated_params = []  # Store MAP estimates\n",
    "predictor_params = []      # Store predictor's estimates\n",
    "\n",
    "for i, (score, prediction) in enumerate(zip(val_scores, val_labels)):\n",
    "    peek_data = np.array(score[0][:peek_number])\n",
    "    \n",
    "    # Store predictor's parameters\n",
    "    prior_mu, prior_sigma = prediction\n",
    "    predictor_params.append((prior_mu, prior_sigma))\n",
    "    \n",
    "    # MLE estimation with limited data\n",
    "    initial_mu = np.mean(peek_data)\n",
    "    initial_sigma = np.std(peek_data)\n",
    "    mle_result = minimize(\n",
    "        lambda params: neg_log_likelihood(params, peek_data),\n",
    "        [initial_mu, initial_sigma],\n",
    "        bounds=[(None, None), (1e-6, None)],\n",
    "        method='L-BFGS-B'\n",
    "    )\n",
    "    mle_mu, mle_sigma = mle_result.x\n",
    "    mle_estimated_params.append((mle_mu, mle_sigma))\n",
    "    \n",
    "    # MAP estimation with limited data\n",
    "    map_result = minimize(\n",
    "        lambda params: neg_log_posterior(\n",
    "            params, \n",
    "            peek_data, \n",
    "            prior_mu=prior_mu, \n",
    "            prior_sigma=prior_sigma\n",
    "        ),\n",
    "        [prior_mu, prior_sigma],\n",
    "        bounds=[(None, None), (1e-6, None)],\n",
    "        method='L-BFGS-B'\n",
    "    )\n",
    "    map_mu, map_sigma = map_result.x\n",
    "    map_estimated_params.append((map_mu, map_sigma))\n",
    "    \n",
    "    # Print comparison for first 50 examples\n",
    "    if i < 50:\n",
    "        gt_mu, gt_sigma = original_params_compare[i]\n",
    "        print(f\"{i:<4} {prior_mu:11.4f} {prior_sigma:11.4f} {mle_mu:9.4f} {mle_sigma:9.4f} \"\n",
    "              f\"{map_mu:9.4f} {map_sigma:9.4f} {gt_mu:9.4f} {gt_sigma:9.4f}\")\n",
    "\n",
    "# Call the function to perform the analysis\n",
    "analyze_estimation_performance(predictor_params, mle_estimated_params, map_estimated_params, original_params_compare)\n"
   ]
  },
  {
   "cell_type": "code",
   "execution_count": 9,
   "metadata": {},
   "outputs": [
    {
     "name": "stdout",
     "output_type": "stream",
     "text": [
      "Target Score Panel: [0.7, 0.75, 0.8, 0.85, 0.9, 0.925, 0.95, 0.975]\n",
      "Percentile Panel: [0.01, 0.02, 0.035, 0.05, 0.075, 0.1]\n",
      "Max N: 32\n",
      "\n",
      "Evaluating MLE Results...\n"
     ]
    },
    {
     "name": "stderr",
     "output_type": "stream",
     "text": [
      "Target Score (MLE):   0%|          | 0/8 [00:00<?, ?it/s]"
     ]
    },
    {
     "name": "stdout",
     "output_type": "stream",
     "text": [
      "MLE Min N Required [10, 32, 32, 32, 32, 15, 32, 10, 10, 10, 32, 10, 10, 32, 23, 10, 10, 19, 32, 16, 32, 32, 32, 10, 10, 32, 10, 32, 32, 32]\n"
     ]
    },
    {
     "name": "stderr",
     "output_type": "stream",
     "text": []
    },
    {
     "name": "stdout",
     "output_type": "stream",
     "text": [
      "MLE - Target Score: 0.7, Percentile: 0.01\n",
      "MLE - Accuracy: 0.8000, Average Token Count: 348107.20\n",
      "MLE Min N Required [10, 32, 32, 32, 28, 13, 32, 10, 10, 10, 32, 10, 10, 32, 19, 10, 10, 16, 32, 14, 32, 32, 32, 10, 10, 32, 10, 32, 32, 32]\n"
     ]
    },
    {
     "name": "stderr",
     "output_type": "stream",
     "text": []
    },
    {
     "name": "stdout",
     "output_type": "stream",
     "text": [
      "MLE - Target Score: 0.7, Percentile: 0.02\n",
      "MLE - Accuracy: 0.8000, Average Token Count: 341369.87\n",
      "MLE Min N Required [10, 32, 32, 32, 24, 11, 32, 10, 10, 10, 32, 10, 10, 32, 17, 10, 10, 14, 32, 12, 32, 32, 32, 10, 10, 32, 10, 32, 32, 32]\n"
     ]
    },
    {
     "name": "stderr",
     "output_type": "stream",
     "text": []
    },
    {
     "name": "stdout",
     "output_type": "stream",
     "text": [
      "MLE - Target Score: 0.7, Percentile: 0.035\n",
      "MLE - Accuracy: 0.8000, Average Token Count: 336017.13\n",
      "MLE Min N Required [10, 32, 32, 32, 22, 10, 32, 10, 10, 10, 32, 10, 10, 32, 15, 10, 10, 13, 32, 10, 32, 32, 32, 10, 10, 32, 10, 32, 32, 32]\n"
     ]
    },
    {
     "name": "stderr",
     "output_type": "stream",
     "text": []
    },
    {
     "name": "stdout",
     "output_type": "stream",
     "text": [
      "MLE - Target Score: 0.7, Percentile: 0.05\n",
      "MLE - Accuracy: 0.8000, Average Token Count: 332385.97\n",
      "MLE Min N Required [10, 32, 32, 32, 19, 10, 32, 10, 10, 10, 32, 10, 10, 32, 13, 10, 10, 11, 32, 10, 32, 32, 32, 10, 10, 32, 10, 32, 32, 32]\n"
     ]
    },
    {
     "name": "stderr",
     "output_type": "stream",
     "text": []
    },
    {
     "name": "stdout",
     "output_type": "stream",
     "text": [
      "MLE - Target Score: 0.7, Percentile: 0.075\n",
      "MLE - Accuracy: 0.8000, Average Token Count: 329007.50\n"
     ]
    },
    {
     "name": "stderr",
     "output_type": "stream",
     "text": [
      "Target Score (MLE):  12%|█▎        | 1/8 [00:01<00:08,  1.20s/it]"
     ]
    },
    {
     "name": "stdout",
     "output_type": "stream",
     "text": [
      "MLE Min N Required [10, 32, 32, 32, 17, 10, 32, 10, 10, 10, 32, 10, 10, 32, 12, 10, 10, 10, 32, 10, 32, 32, 32, 10, 10, 32, 10, 32, 32, 32]\n",
      "MLE - Target Score: 0.7, Percentile: 0.1\n",
      "MLE - Accuracy: 0.8000, Average Token Count: 327227.67\n"
     ]
    },
    {
     "name": "stderr",
     "output_type": "stream",
     "text": []
    },
    {
     "name": "stdout",
     "output_type": "stream",
     "text": [
      "MLE Min N Required [10, 32, 32, 32, 32, 23, 32, 10, 10, 10, 32, 10, 10, 32, 32, 10, 10, 32, 32, 32, 32, 32, 32, 26, 10, 32, 10, 32, 32, 32]\n",
      "MLE - Target Score: 0.75, Percentile: 0.01\n",
      "MLE - Accuracy: 0.8000, Average Token Count: 375487.17\n"
     ]
    },
    {
     "name": "stderr",
     "output_type": "stream",
     "text": []
    },
    {
     "name": "stdout",
     "output_type": "stream",
     "text": [
      "MLE Min N Required [10, 32, 32, 32, 32, 19, 32, 10, 10, 10, 32, 10, 10, 32, 32, 10, 10, 32, 32, 28, 32, 32, 32, 22, 10, 32, 10, 32, 32, 32]\n",
      "MLE - Target Score: 0.75, Percentile: 0.02\n",
      "MLE - Accuracy: 0.8000, Average Token Count: 370860.63\n"
     ]
    },
    {
     "name": "stderr",
     "output_type": "stream",
     "text": []
    },
    {
     "name": "stdout",
     "output_type": "stream",
     "text": [
      "MLE Min N Required [10, 32, 32, 32, 32, 17, 32, 10, 10, 10, 32, 10, 10, 32, 32, 10, 10, 32, 32, 24, 32, 32, 32, 19, 10, 32, 10, 32, 32, 32]\n",
      "MLE - Target Score: 0.75, Percentile: 0.035\n",
      "MLE - Accuracy: 0.8000, Average Token Count: 367383.40\n"
     ]
    },
    {
     "name": "stderr",
     "output_type": "stream",
     "text": []
    },
    {
     "name": "stdout",
     "output_type": "stream",
     "text": [
      "MLE Min N Required [10, 32, 32, 32, 32, 15, 32, 10, 10, 10, 32, 10, 10, 32, 31, 10, 10, 32, 32, 21, 32, 32, 32, 17, 10, 32, 10, 32, 32, 32]\n",
      "MLE - Target Score: 0.75, Percentile: 0.05\n",
      "MLE - Accuracy: 0.8000, Average Token Count: 364489.47\n"
     ]
    },
    {
     "name": "stderr",
     "output_type": "stream",
     "text": []
    },
    {
     "name": "stdout",
     "output_type": "stream",
     "text": [
      "MLE Min N Required [10, 32, 32, 32, 32, 13, 32, 10, 10, 10, 32, 10, 10, 32, 27, 10, 10, 32, 32, 19, 32, 32, 32, 15, 10, 32, 10, 32, 32, 32]\n",
      "MLE - Target Score: 0.75, Percentile: 0.075\n",
      "MLE - Accuracy: 0.8000, Average Token Count: 359972.27\n"
     ]
    },
    {
     "name": "stderr",
     "output_type": "stream",
     "text": [
      "Target Score (MLE):  25%|██▌       | 2/8 [00:02<00:07,  1.30s/it]"
     ]
    },
    {
     "name": "stdout",
     "output_type": "stream",
     "text": [
      "MLE Min N Required [10, 32, 32, 32, 32, 12, 32, 10, 10, 10, 32, 10, 10, 32, 24, 10, 10, 32, 32, 17, 32, 32, 32, 13, 10, 32, 10, 32, 32, 32]\n",
      "MLE - Target Score: 0.75, Percentile: 0.1\n",
      "MLE - Accuracy: 0.8000, Average Token Count: 356574.47\n"
     ]
    },
    {
     "name": "stderr",
     "output_type": "stream",
     "text": []
    },
    {
     "name": "stdout",
     "output_type": "stream",
     "text": [
      "MLE Min N Required [10, 32, 32, 32, 32, 32, 32, 10, 10, 10, 32, 10, 10, 32, 32, 10, 10, 32, 32, 32, 32, 32, 32, 32, 10, 32, 10, 32, 32, 32]\n",
      "MLE - Target Score: 0.8, Percentile: 0.01\n",
      "MLE - Accuracy: 0.8000, Average Token Count: 381851.87\n"
     ]
    },
    {
     "name": "stderr",
     "output_type": "stream",
     "text": []
    },
    {
     "name": "stdout",
     "output_type": "stream",
     "text": [
      "MLE Min N Required [10, 32, 32, 32, 32, 31, 32, 10, 10, 10, 32, 10, 10, 32, 32, 10, 10, 32, 32, 32, 32, 32, 32, 32, 10, 32, 10, 32, 32, 32]\n",
      "MLE - Target Score: 0.8, Percentile: 0.02\n",
      "MLE - Accuracy: 0.8000, Average Token Count: 381543.30\n"
     ]
    },
    {
     "name": "stderr",
     "output_type": "stream",
     "text": []
    },
    {
     "name": "stdout",
     "output_type": "stream",
     "text": [
      "MLE Min N Required [10, 32, 32, 32, 32, 27, 32, 10, 10, 10, 32, 10, 10, 32, 32, 10, 10, 32, 32, 32, 32, 32, 32, 32, 10, 32, 10, 32, 32, 32]\n",
      "MLE - Target Score: 0.8, Percentile: 0.035\n",
      "MLE - Accuracy: 0.8000, Average Token Count: 379230.07\n"
     ]
    },
    {
     "name": "stderr",
     "output_type": "stream",
     "text": []
    },
    {
     "name": "stdout",
     "output_type": "stream",
     "text": [
      "MLE Min N Required [10, 32, 32, 32, 32, 24, 32, 10, 10, 10, 32, 10, 10, 32, 32, 10, 10, 32, 32, 32, 32, 32, 32, 32, 10, 32, 10, 32, 32, 32]\n",
      "MLE - Target Score: 0.8, Percentile: 0.05\n",
      "MLE - Accuracy: 0.8000, Average Token Count: 377832.07\n"
     ]
    },
    {
     "name": "stderr",
     "output_type": "stream",
     "text": []
    },
    {
     "name": "stdout",
     "output_type": "stream",
     "text": [
      "MLE Min N Required [10, 32, 32, 32, 32, 21, 32, 10, 10, 10, 32, 10, 10, 32, 32, 10, 10, 32, 32, 32, 32, 32, 32, 32, 10, 32, 10, 32, 32, 32]\n",
      "MLE - Target Score: 0.8, Percentile: 0.075\n",
      "MLE - Accuracy: 0.8000, Average Token Count: 376805.73\n"
     ]
    },
    {
     "name": "stderr",
     "output_type": "stream",
     "text": [
      "Target Score (MLE):  38%|███▊      | 3/8 [00:04<00:06,  1.36s/it]"
     ]
    },
    {
     "name": "stdout",
     "output_type": "stream",
     "text": [
      "MLE Min N Required [10, 32, 32, 32, 32, 18, 32, 10, 10, 10, 32, 10, 10, 32, 32, 10, 10, 32, 32, 32, 32, 32, 32, 32, 10, 32, 10, 32, 32, 32]\n",
      "MLE - Target Score: 0.8, Percentile: 0.1\n",
      "MLE - Accuracy: 0.8000, Average Token Count: 375804.57\n"
     ]
    },
    {
     "name": "stderr",
     "output_type": "stream",
     "text": []
    },
    {
     "name": "stdout",
     "output_type": "stream",
     "text": [
      "MLE Min N Required [10, 32, 32, 32, 32, 32, 32, 10, 13, 10, 32, 32, 10, 32, 32, 18, 14, 32, 32, 32, 32, 32, 32, 32, 10, 32, 10, 32, 32, 32]\n",
      "MLE - Target Score: 0.85, Percentile: 0.01\n",
      "MLE - Accuracy: 0.8000, Average Token Count: 392326.63\n"
     ]
    },
    {
     "name": "stderr",
     "output_type": "stream",
     "text": []
    },
    {
     "name": "stdout",
     "output_type": "stream",
     "text": [
      "MLE Min N Required [10, 32, 32, 32, 32, 32, 32, 10, 11, 10, 32, 32, 10, 32, 32, 16, 12, 32, 32, 32, 32, 32, 32, 32, 10, 32, 10, 32, 32, 32]\n",
      "MLE - Target Score: 0.85, Percentile: 0.02\n",
      "MLE - Accuracy: 0.8000, Average Token Count: 389891.87\n"
     ]
    },
    {
     "name": "stderr",
     "output_type": "stream",
     "text": []
    },
    {
     "name": "stdout",
     "output_type": "stream",
     "text": [
      "MLE Min N Required [10, 32, 32, 32, 32, 32, 32, 10, 10, 10, 32, 30, 10, 32, 32, 14, 10, 32, 32, 32, 32, 32, 32, 32, 10, 32, 10, 32, 32, 32]\n",
      "MLE - Target Score: 0.85, Percentile: 0.035\n",
      "MLE - Accuracy: 0.8000, Average Token Count: 387490.67\n"
     ]
    },
    {
     "name": "stderr",
     "output_type": "stream",
     "text": []
    },
    {
     "name": "stdout",
     "output_type": "stream",
     "text": [
      "MLE Min N Required [10, 32, 32, 32, 32, 32, 32, 10, 10, 10, 32, 27, 10, 32, 32, 12, 10, 32, 32, 32, 32, 32, 32, 32, 10, 32, 10, 32, 32, 32]\n",
      "MLE - Target Score: 0.85, Percentile: 0.05\n",
      "MLE - Accuracy: 0.8000, Average Token Count: 385968.37\n"
     ]
    },
    {
     "name": "stderr",
     "output_type": "stream",
     "text": []
    },
    {
     "name": "stdout",
     "output_type": "stream",
     "text": [
      "MLE Min N Required [10, 32, 32, 32, 32, 32, 32, 10, 10, 10, 32, 23, 10, 32, 32, 11, 10, 32, 32, 32, 32, 32, 32, 32, 10, 32, 10, 32, 32, 32]\n",
      "MLE - Target Score: 0.85, Percentile: 0.075\n",
      "MLE - Accuracy: 0.8000, Average Token Count: 384829.57\n"
     ]
    },
    {
     "name": "stderr",
     "output_type": "stream",
     "text": [
      "Target Score (MLE):  50%|█████     | 4/8 [00:05<00:05,  1.45s/it]"
     ]
    },
    {
     "name": "stdout",
     "output_type": "stream",
     "text": [
      "MLE Min N Required [10, 32, 32, 32, 32, 32, 32, 10, 10, 10, 32, 21, 10, 32, 32, 10, 10, 32, 32, 32, 32, 32, 32, 32, 10, 32, 10, 32, 32, 32]\n",
      "MLE - Target Score: 0.85, Percentile: 0.1\n",
      "MLE - Accuracy: 0.8000, Average Token Count: 384135.57\n"
     ]
    },
    {
     "name": "stderr",
     "output_type": "stream",
     "text": []
    },
    {
     "name": "stdout",
     "output_type": "stream",
     "text": [
      "MLE Min N Required [10, 32, 32, 32, 32, 32, 32, 10, 32, 10, 32, 32, 10, 32, 32, 32, 28, 32, 32, 32, 32, 32, 32, 32, 10, 32, 10, 32, 32, 32]\n",
      "MLE - Target Score: 0.9, Percentile: 0.01\n",
      "MLE - Accuracy: 0.8000, Average Token Count: 405984.97\n"
     ]
    },
    {
     "name": "stderr",
     "output_type": "stream",
     "text": []
    },
    {
     "name": "stdout",
     "output_type": "stream",
     "text": [
      "MLE Min N Required [10, 32, 32, 32, 32, 32, 32, 10, 32, 10, 32, 32, 10, 32, 32, 32, 24, 32, 32, 32, 32, 32, 32, 32, 10, 32, 10, 32, 32, 32]\n",
      "MLE - Target Score: 0.9, Percentile: 0.02\n",
      "MLE - Accuracy: 0.8000, Average Token Count: 404379.33\n"
     ]
    },
    {
     "name": "stderr",
     "output_type": "stream",
     "text": []
    },
    {
     "name": "stdout",
     "output_type": "stream",
     "text": [
      "MLE Min N Required [10, 32, 32, 32, 32, 32, 32, 10, 32, 10, 32, 32, 10, 32, 32, 32, 20, 32, 32, 32, 32, 32, 32, 32, 10, 32, 10, 32, 32, 32]\n",
      "MLE - Target Score: 0.9, Percentile: 0.035\n",
      "MLE - Accuracy: 0.8000, Average Token Count: 403179.67\n"
     ]
    },
    {
     "name": "stderr",
     "output_type": "stream",
     "text": []
    },
    {
     "name": "stdout",
     "output_type": "stream",
     "text": [
      "MLE Min N Required [10, 32, 32, 32, 32, 32, 32, 10, 32, 10, 32, 32, 10, 32, 32, 32, 18, 32, 32, 32, 32, 32, 32, 32, 10, 32, 10, 32, 32, 32]\n",
      "MLE - Target Score: 0.9, Percentile: 0.05\n",
      "MLE - Accuracy: 0.8000, Average Token Count: 402722.33\n"
     ]
    },
    {
     "name": "stderr",
     "output_type": "stream",
     "text": []
    },
    {
     "name": "stdout",
     "output_type": "stream",
     "text": [
      "MLE Min N Required [10, 32, 32, 32, 32, 32, 32, 10, 32, 10, 32, 32, 10, 32, 32, 29, 16, 32, 32, 32, 32, 32, 32, 32, 10, 32, 10, 32, 32, 32]\n",
      "MLE - Target Score: 0.9, Percentile: 0.075\n",
      "MLE - Accuracy: 0.8000, Average Token Count: 401275.37\n"
     ]
    },
    {
     "name": "stderr",
     "output_type": "stream",
     "text": [
      "Target Score (MLE):  62%|██████▎   | 5/8 [00:07<00:04,  1.54s/it]"
     ]
    },
    {
     "name": "stdout",
     "output_type": "stream",
     "text": [
      "MLE Min N Required [10, 32, 32, 32, 32, 32, 32, 10, 29, 10, 32, 32, 10, 32, 32, 25, 14, 32, 32, 32, 32, 32, 32, 32, 10, 32, 10, 32, 32, 32]\n",
      "MLE - Target Score: 0.9, Percentile: 0.1\n",
      "MLE - Accuracy: 0.8000, Average Token Count: 398326.13\n"
     ]
    },
    {
     "name": "stderr",
     "output_type": "stream",
     "text": []
    },
    {
     "name": "stdout",
     "output_type": "stream",
     "text": [
      "MLE Min N Required [10, 32, 32, 32, 32, 32, 32, 10, 32, 10, 32, 32, 10, 32, 32, 32, 32, 32, 32, 32, 32, 32, 32, 32, 10, 32, 10, 32, 32, 32]\n",
      "MLE - Target Score: 0.925, Percentile: 0.01\n",
      "MLE - Accuracy: 0.8000, Average Token Count: 407415.57\n"
     ]
    },
    {
     "name": "stderr",
     "output_type": "stream",
     "text": []
    },
    {
     "name": "stdout",
     "output_type": "stream",
     "text": [
      "MLE Min N Required [10, 32, 32, 32, 32, 32, 32, 10, 32, 10, 32, 32, 10, 32, 32, 32, 32, 32, 32, 32, 32, 32, 32, 32, 10, 32, 10, 32, 32, 32]\n",
      "MLE - Target Score: 0.925, Percentile: 0.02\n",
      "MLE - Accuracy: 0.8000, Average Token Count: 407415.57\n"
     ]
    },
    {
     "name": "stderr",
     "output_type": "stream",
     "text": []
    },
    {
     "name": "stdout",
     "output_type": "stream",
     "text": [
      "MLE Min N Required [10, 32, 32, 32, 32, 32, 32, 10, 32, 10, 32, 32, 10, 32, 32, 32, 32, 32, 32, 32, 32, 32, 32, 32, 10, 32, 10, 32, 32, 32]\n",
      "MLE - Target Score: 0.925, Percentile: 0.035\n",
      "MLE - Accuracy: 0.8000, Average Token Count: 407415.57\n"
     ]
    },
    {
     "name": "stderr",
     "output_type": "stream",
     "text": []
    },
    {
     "name": "stdout",
     "output_type": "stream",
     "text": [
      "MLE Min N Required [10, 32, 32, 32, 32, 32, 32, 10, 32, 10, 32, 32, 10, 32, 32, 32, 28, 32, 32, 32, 32, 32, 32, 32, 10, 32, 10, 32, 32, 32]\n",
      "MLE - Target Score: 0.925, Percentile: 0.05\n",
      "MLE - Accuracy: 0.8000, Average Token Count: 405984.97\n"
     ]
    },
    {
     "name": "stderr",
     "output_type": "stream",
     "text": []
    },
    {
     "name": "stdout",
     "output_type": "stream",
     "text": [
      "MLE Min N Required [10, 32, 32, 32, 32, 32, 32, 10, 32, 10, 32, 32, 10, 32, 32, 32, 25, 32, 32, 32, 32, 32, 32, 32, 10, 32, 10, 32, 32, 32]\n",
      "MLE - Target Score: 0.925, Percentile: 0.075\n",
      "MLE - Accuracy: 0.8000, Average Token Count: 404693.87\n"
     ]
    },
    {
     "name": "stderr",
     "output_type": "stream",
     "text": [
      "Target Score (MLE):  75%|███████▌  | 6/8 [00:09<00:03,  1.61s/it]"
     ]
    },
    {
     "name": "stdout",
     "output_type": "stream",
     "text": [
      "MLE Min N Required [10, 32, 32, 32, 32, 32, 32, 10, 32, 10, 32, 32, 10, 32, 32, 32, 22, 32, 32, 32, 32, 32, 32, 32, 10, 32, 10, 32, 32, 32]\n",
      "MLE - Target Score: 0.925, Percentile: 0.1\n",
      "MLE - Accuracy: 0.8000, Average Token Count: 403761.37\n"
     ]
    },
    {
     "name": "stderr",
     "output_type": "stream",
     "text": []
    },
    {
     "name": "stdout",
     "output_type": "stream",
     "text": [
      "MLE Min N Required [10, 32, 32, 32, 32, 32, 32, 15, 32, 13, 32, 32, 18, 32, 32, 32, 32, 32, 32, 32, 32, 32, 32, 32, 10, 32, 10, 32, 32, 32]\n",
      "MLE - Target Score: 0.95, Percentile: 0.01\n",
      "MLE - Accuracy: 0.8000, Average Token Count: 410983.90\n"
     ]
    },
    {
     "name": "stderr",
     "output_type": "stream",
     "text": []
    },
    {
     "name": "stdout",
     "output_type": "stream",
     "text": [
      "MLE Min N Required [10, 32, 32, 32, 32, 32, 32, 12, 32, 11, 32, 32, 15, 32, 32, 32, 32, 32, 32, 32, 32, 32, 32, 32, 10, 32, 10, 32, 32, 32]\n",
      "MLE - Target Score: 0.95, Percentile: 0.02\n",
      "MLE - Accuracy: 0.8000, Average Token Count: 409397.90\n"
     ]
    },
    {
     "name": "stderr",
     "output_type": "stream",
     "text": []
    },
    {
     "name": "stdout",
     "output_type": "stream",
     "text": [
      "MLE Min N Required [10, 32, 32, 32, 32, 32, 32, 11, 32, 10, 32, 32, 13, 32, 32, 32, 32, 32, 32, 32, 32, 32, 32, 32, 10, 32, 10, 32, 32, 32]\n",
      "MLE - Target Score: 0.95, Percentile: 0.035\n",
      "MLE - Accuracy: 0.8000, Average Token Count: 408478.80\n"
     ]
    },
    {
     "name": "stderr",
     "output_type": "stream",
     "text": []
    },
    {
     "name": "stdout",
     "output_type": "stream",
     "text": [
      "MLE Min N Required [10, 32, 32, 32, 32, 32, 32, 10, 32, 10, 32, 32, 12, 32, 32, 32, 32, 32, 32, 32, 32, 32, 32, 32, 10, 32, 10, 32, 32, 32]\n",
      "MLE - Target Score: 0.95, Percentile: 0.05\n",
      "MLE - Accuracy: 0.8000, Average Token Count: 407856.03\n"
     ]
    },
    {
     "name": "stderr",
     "output_type": "stream",
     "text": []
    },
    {
     "name": "stdout",
     "output_type": "stream",
     "text": [
      "MLE Min N Required [10, 32, 32, 32, 32, 32, 32, 10, 32, 10, 32, 32, 10, 32, 32, 32, 32, 32, 32, 32, 32, 32, 32, 32, 10, 32, 10, 32, 32, 32]\n",
      "MLE - Target Score: 0.95, Percentile: 0.075\n",
      "MLE - Accuracy: 0.8000, Average Token Count: 407415.57\n"
     ]
    },
    {
     "name": "stderr",
     "output_type": "stream",
     "text": [
      "Target Score (MLE):  88%|████████▊ | 7/8 [00:10<00:01,  1.68s/it]"
     ]
    },
    {
     "name": "stdout",
     "output_type": "stream",
     "text": [
      "MLE Min N Required [10, 32, 32, 32, 32, 32, 32, 10, 32, 10, 32, 32, 10, 32, 32, 32, 32, 32, 32, 32, 32, 32, 32, 32, 10, 32, 10, 32, 32, 32]\n",
      "MLE - Target Score: 0.95, Percentile: 0.1\n",
      "MLE - Accuracy: 0.8000, Average Token Count: 407415.57\n"
     ]
    },
    {
     "name": "stderr",
     "output_type": "stream",
     "text": []
    },
    {
     "name": "stdout",
     "output_type": "stream",
     "text": [
      "MLE Min N Required [10, 32, 32, 32, 32, 32, 32, 29, 32, 30, 32, 32, 32, 32, 32, 32, 32, 32, 32, 32, 32, 32, 32, 32, 31, 32, 17, 32, 32, 32]\n",
      "MLE - Target Score: 0.975, Percentile: 0.01\n",
      "MLE - Accuracy: 0.8000, Average Token Count: 425613.43\n"
     ]
    },
    {
     "name": "stderr",
     "output_type": "stream",
     "text": []
    },
    {
     "name": "stdout",
     "output_type": "stream",
     "text": [
      "MLE Min N Required [10, 32, 32, 32, 32, 32, 32, 25, 32, 25, 32, 32, 32, 32, 32, 32, 32, 32, 32, 32, 32, 32, 32, 32, 27, 32, 15, 32, 32, 32]\n",
      "MLE - Target Score: 0.975, Percentile: 0.02\n",
      "MLE - Accuracy: 0.8000, Average Token Count: 422803.57\n"
     ]
    },
    {
     "name": "stderr",
     "output_type": "stream",
     "text": []
    },
    {
     "name": "stdout",
     "output_type": "stream",
     "text": [
      "MLE Min N Required [10, 32, 32, 32, 32, 32, 32, 21, 32, 22, 32, 32, 32, 32, 32, 32, 32, 32, 32, 32, 32, 32, 32, 32, 23, 32, 13, 32, 32, 32]\n",
      "MLE - Target Score: 0.975, Percentile: 0.035\n",
      "MLE - Accuracy: 0.8000, Average Token Count: 420095.10\n"
     ]
    },
    {
     "name": "stderr",
     "output_type": "stream",
     "text": []
    },
    {
     "name": "stdout",
     "output_type": "stream",
     "text": [
      "MLE Min N Required [10, 32, 32, 32, 32, 32, 32, 19, 32, 19, 32, 32, 32, 32, 32, 32, 32, 32, 32, 32, 32, 32, 32, 32, 20, 32, 11, 32, 32, 32]\n",
      "MLE - Target Score: 0.975, Percentile: 0.05\n",
      "MLE - Accuracy: 0.8000, Average Token Count: 418165.97\n"
     ]
    },
    {
     "name": "stderr",
     "output_type": "stream",
     "text": []
    },
    {
     "name": "stdout",
     "output_type": "stream",
     "text": [
      "MLE Min N Required [10, 32, 32, 32, 32, 32, 32, 17, 32, 17, 32, 32, 32, 32, 32, 32, 32, 32, 32, 32, 32, 32, 32, 32, 18, 32, 10, 32, 32, 32]\n",
      "MLE - Target Score: 0.975, Percentile: 0.075\n",
      "MLE - Accuracy: 0.8000, Average Token Count: 416648.27\n"
     ]
    },
    {
     "name": "stderr",
     "output_type": "stream",
     "text": [
      "Target Score (MLE): 100%|██████████| 8/8 [00:12<00:00,  1.60s/it]\n"
     ]
    },
    {
     "name": "stdout",
     "output_type": "stream",
     "text": [
      "MLE Min N Required [10, 32, 32, 32, 32, 32, 32, 15, 32, 15, 32, 32, 30, 32, 32, 32, 32, 32, 32, 32, 32, 32, 32, 32, 16, 32, 10, 32, 32, 32]\n",
      "MLE - Target Score: 0.975, Percentile: 0.1\n",
      "MLE - Accuracy: 0.8000, Average Token Count: 415125.33\n",
      "\n",
      "Evaluating MAP Results...\n"
     ]
    },
    {
     "name": "stderr",
     "output_type": "stream",
     "text": [
      "Target Score (MAP):   0%|          | 0/8 [00:00<?, ?it/s]"
     ]
    },
    {
     "name": "stdout",
     "output_type": "stream",
     "text": [
      "MAP Min N Required [10, 32, 32, 32, 32, 13, 32, 10, 10, 10, 32, 10, 10, 32, 22, 10, 10, 21, 32, 18, 32, 32, 32, 10, 10, 30, 10, 32, 32, 32]\n",
      "MAP - Target Score: 0.7, Percentile: 0.01\n",
      "MAP - Accuracy: 0.8000, Average Token Count: 347487.07\n"
     ]
    },
    {
     "name": "stderr",
     "output_type": "stream",
     "text": []
    },
    {
     "name": "stdout",
     "output_type": "stream",
     "text": [
      "MAP Min N Required [10, 32, 32, 32, 31, 11, 32, 10, 10, 10, 32, 10, 10, 32, 19, 10, 10, 18, 32, 15, 32, 32, 32, 10, 10, 25, 10, 32, 32, 32]\n",
      "MAP - Target Score: 0.7, Percentile: 0.02\n",
      "MAP - Accuracy: 0.8000, Average Token Count: 338380.47\n"
     ]
    },
    {
     "name": "stderr",
     "output_type": "stream",
     "text": []
    },
    {
     "name": "stdout",
     "output_type": "stream",
     "text": [
      "MAP Min N Required [10, 32, 32, 32, 27, 10, 32, 10, 10, 10, 32, 10, 10, 32, 16, 10, 10, 15, 32, 13, 32, 32, 32, 10, 10, 22, 10, 32, 32, 32]\n",
      "MAP - Target Score: 0.7, Percentile: 0.035\n",
      "MAP - Accuracy: 0.8000, Average Token Count: 329968.07\n",
      "MAP Min N Required [10, 32, 32, 32, 24, 10, 32, 10, 10, 10, 32, 10, 10, 32, 14, 10, 10, 14, 32, 12, 32, 32, 32, 10, 10, 19, 10, 32, 32, 32]\n"
     ]
    },
    {
     "name": "stderr",
     "output_type": "stream",
     "text": []
    },
    {
     "name": "stdout",
     "output_type": "stream",
     "text": [
      "MAP - Target Score: 0.7, Percentile: 0.05\n",
      "MAP - Accuracy: 0.8000, Average Token Count: 325050.10\n",
      "MAP Min N Required [10, 32, 32, 32, 21, 10, 32, 10, 10, 10, 32, 10, 10, 32, 12, 10, 10, 12, 32, 10, 32, 32, 32, 10, 10, 17, 10, 32, 32, 32]\n",
      "MAP - Target Score: 0.7, Percentile: 0.075\n",
      "MAP - Accuracy: 0.8000, Average Token Count: 319418.43\n"
     ]
    },
    {
     "name": "stderr",
     "output_type": "stream",
     "text": [
      "Target Score (MAP):  12%|█▎        | 1/8 [00:01<00:08,  1.22s/it]"
     ]
    },
    {
     "name": "stdout",
     "output_type": "stream",
     "text": [
      "MAP Min N Required [10, 32, 32, 32, 19, 10, 32, 10, 10, 10, 32, 10, 10, 32, 11, 10, 10, 11, 32, 10, 32, 32, 32, 10, 10, 15, 10, 32, 32, 32]\n",
      "MAP - Target Score: 0.7, Percentile: 0.1\n",
      "MAP - Accuracy: 0.8000, Average Token Count: 316459.87\n"
     ]
    },
    {
     "name": "stderr",
     "output_type": "stream",
     "text": []
    },
    {
     "name": "stdout",
     "output_type": "stream",
     "text": [
      "MAP Min N Required [10, 32, 32, 32, 32, 20, 32, 10, 10, 10, 32, 10, 10, 32, 32, 10, 10, 32, 32, 32, 32, 32, 32, 24, 10, 32, 10, 32, 32, 32]\n",
      "MAP - Target Score: 0.75, Percentile: 0.01\n",
      "MAP - Accuracy: 0.8000, Average Token Count: 373390.17\n"
     ]
    },
    {
     "name": "stderr",
     "output_type": "stream",
     "text": []
    },
    {
     "name": "stdout",
     "output_type": "stream",
     "text": [
      "MAP Min N Required [10, 32, 32, 32, 32, 17, 32, 10, 10, 10, 32, 10, 10, 32, 32, 10, 10, 32, 32, 32, 32, 32, 32, 21, 10, 32, 10, 32, 32, 32]\n",
      "MAP - Target Score: 0.75, Percentile: 0.02\n",
      "MAP - Accuracy: 0.8000, Average Token Count: 370976.43\n"
     ]
    },
    {
     "name": "stderr",
     "output_type": "stream",
     "text": []
    },
    {
     "name": "stdout",
     "output_type": "stream",
     "text": [
      "MAP Min N Required [10, 32, 32, 32, 32, 14, 32, 10, 10, 10, 32, 10, 10, 32, 32, 10, 10, 32, 32, 28, 32, 32, 32, 18, 10, 32, 10, 32, 32, 32]\n",
      "MAP - Target Score: 0.75, Percentile: 0.035\n",
      "MAP - Accuracy: 0.8000, Average Token Count: 366938.43\n"
     ]
    },
    {
     "name": "stderr",
     "output_type": "stream",
     "text": []
    },
    {
     "name": "stdout",
     "output_type": "stream",
     "text": [
      "MAP Min N Required [10, 32, 32, 32, 32, 13, 32, 10, 10, 10, 32, 10, 10, 32, 29, 10, 10, 32, 32, 25, 32, 32, 32, 16, 10, 32, 10, 32, 32, 32]\n",
      "MAP - Target Score: 0.75, Percentile: 0.05\n",
      "MAP - Accuracy: 0.8000, Average Token Count: 363684.83\n"
     ]
    },
    {
     "name": "stderr",
     "output_type": "stream",
     "text": []
    },
    {
     "name": "stdout",
     "output_type": "stream",
     "text": [
      "MAP Min N Required [10, 32, 32, 32, 32, 11, 32, 10, 10, 10, 32, 10, 10, 32, 26, 10, 10, 32, 32, 22, 32, 32, 32, 14, 10, 29, 10, 32, 32, 32]\n",
      "MAP - Target Score: 0.75, Percentile: 0.075\n",
      "MAP - Accuracy: 0.8000, Average Token Count: 356493.90\n"
     ]
    },
    {
     "name": "stderr",
     "output_type": "stream",
     "text": [
      "Target Score (MAP):  25%|██▌       | 2/8 [00:02<00:07,  1.31s/it]"
     ]
    },
    {
     "name": "stdout",
     "output_type": "stream",
     "text": [
      "MAP Min N Required [10, 32, 32, 32, 32, 10, 32, 10, 10, 10, 32, 10, 10, 32, 23, 10, 10, 32, 32, 19, 32, 32, 32, 12, 10, 26, 10, 32, 32, 32]\n",
      "MAP - Target Score: 0.75, Percentile: 0.1\n",
      "MAP - Accuracy: 0.8000, Average Token Count: 351646.53\n"
     ]
    },
    {
     "name": "stderr",
     "output_type": "stream",
     "text": []
    },
    {
     "name": "stdout",
     "output_type": "stream",
     "text": [
      "MAP Min N Required [10, 32, 32, 32, 32, 32, 32, 13, 11, 14, 32, 26, 10, 32, 32, 12, 13, 32, 32, 32, 32, 32, 32, 32, 13, 32, 10, 32, 32, 32]\n",
      "MAP - Target Score: 0.8, Percentile: 0.01\n",
      "MAP - Accuracy: 0.8000, Average Token Count: 389672.00\n"
     ]
    },
    {
     "name": "stderr",
     "output_type": "stream",
     "text": []
    },
    {
     "name": "stdout",
     "output_type": "stream",
     "text": [
      "MAP Min N Required [10, 32, 32, 32, 32, 27, 32, 11, 10, 12, 32, 22, 10, 32, 32, 10, 11, 32, 32, 32, 32, 32, 32, 32, 11, 32, 10, 32, 32, 32]\n",
      "MAP - Target Score: 0.8, Percentile: 0.02\n",
      "MAP - Accuracy: 0.8000, Average Token Count: 383411.97\n"
     ]
    },
    {
     "name": "stderr",
     "output_type": "stream",
     "text": []
    },
    {
     "name": "stdout",
     "output_type": "stream",
     "text": [
      "MAP Min N Required [10, 32, 32, 32, 32, 23, 32, 10, 10, 10, 32, 19, 10, 32, 32, 10, 10, 32, 32, 32, 32, 32, 32, 32, 10, 32, 10, 32, 32, 32]\n",
      "MAP - Target Score: 0.8, Percentile: 0.035\n",
      "MAP - Accuracy: 0.8000, Average Token Count: 379403.80\n"
     ]
    },
    {
     "name": "stderr",
     "output_type": "stream",
     "text": []
    },
    {
     "name": "stdout",
     "output_type": "stream",
     "text": [
      "MAP Min N Required [10, 32, 32, 32, 32, 21, 32, 10, 10, 10, 32, 17, 10, 32, 32, 10, 10, 32, 32, 32, 32, 32, 32, 32, 10, 32, 10, 32, 32, 32]\n",
      "MAP - Target Score: 0.8, Percentile: 0.05\n",
      "MAP - Accuracy: 0.8000, Average Token Count: 378344.60\n"
     ]
    },
    {
     "name": "stderr",
     "output_type": "stream",
     "text": []
    },
    {
     "name": "stdout",
     "output_type": "stream",
     "text": [
      "MAP Min N Required [10, 32, 32, 32, 32, 18, 32, 10, 10, 10, 32, 15, 10, 32, 32, 10, 10, 32, 32, 32, 32, 32, 32, 32, 10, 32, 10, 32, 32, 32]\n",
      "MAP - Target Score: 0.8, Percentile: 0.075\n",
      "MAP - Accuracy: 0.8000, Average Token Count: 376915.77\n"
     ]
    },
    {
     "name": "stderr",
     "output_type": "stream",
     "text": [
      "Target Score (MAP):  38%|███▊      | 3/8 [00:04<00:06,  1.40s/it]"
     ]
    },
    {
     "name": "stdout",
     "output_type": "stream",
     "text": [
      "MAP Min N Required [10, 32, 32, 32, 32, 16, 32, 10, 10, 10, 32, 13, 10, 32, 32, 10, 10, 32, 32, 32, 32, 32, 32, 32, 10, 32, 10, 32, 32, 32]\n",
      "MAP - Target Score: 0.8, Percentile: 0.1\n",
      "MAP - Accuracy: 0.8000, Average Token Count: 375442.30\n"
     ]
    },
    {
     "name": "stderr",
     "output_type": "stream",
     "text": []
    },
    {
     "name": "stdout",
     "output_type": "stream",
     "text": [
      "MAP Min N Required [10, 32, 32, 32, 32, 32, 32, 19, 32, 21, 32, 32, 10, 32, 32, 26, 23, 32, 32, 32, 32, 32, 32, 32, 18, 32, 10, 32, 32, 32]\n",
      "MAP - Target Score: 0.85, Percentile: 0.01\n",
      "MAP - Accuracy: 0.8000, Average Token Count: 407979.73\n"
     ]
    },
    {
     "name": "stderr",
     "output_type": "stream",
     "text": []
    },
    {
     "name": "stdout",
     "output_type": "stream",
     "text": [
      "MAP Min N Required [10, 32, 32, 32, 32, 32, 32, 16, 28, 18, 32, 32, 10, 32, 32, 22, 20, 32, 32, 32, 32, 32, 32, 32, 15, 32, 10, 32, 32, 32]\n",
      "MAP - Target Score: 0.85, Percentile: 0.02\n",
      "MAP - Accuracy: 0.8000, Average Token Count: 403296.10\n"
     ]
    },
    {
     "name": "stderr",
     "output_type": "stream",
     "text": []
    },
    {
     "name": "stdout",
     "output_type": "stream",
     "text": [
      "MAP Min N Required [10, 32, 32, 32, 32, 32, 32, 14, 24, 15, 32, 32, 10, 32, 32, 19, 17, 32, 32, 32, 32, 32, 32, 32, 13, 32, 10, 32, 32, 32]\n",
      "MAP - Target Score: 0.85, Percentile: 0.035\n",
      "MAP - Accuracy: 0.8000, Average Token Count: 399514.83\n"
     ]
    },
    {
     "name": "stderr",
     "output_type": "stream",
     "text": []
    },
    {
     "name": "stdout",
     "output_type": "stream",
     "text": [
      "MAP Min N Required [10, 32, 32, 32, 32, 32, 32, 13, 21, 14, 32, 32, 10, 32, 32, 17, 15, 32, 32, 32, 32, 32, 32, 32, 12, 32, 10, 32, 32, 32]\n",
      "MAP - Target Score: 0.85, Percentile: 0.05\n",
      "MAP - Accuracy: 0.8000, Average Token Count: 395929.47\n"
     ]
    },
    {
     "name": "stderr",
     "output_type": "stream",
     "text": []
    },
    {
     "name": "stdout",
     "output_type": "stream",
     "text": [
      "MAP Min N Required [10, 32, 32, 32, 32, 32, 32, 11, 19, 12, 32, 32, 10, 32, 32, 15, 13, 32, 32, 32, 32, 32, 32, 32, 10, 32, 10, 32, 32, 32]\n",
      "MAP - Target Score: 0.85, Percentile: 0.075\n",
      "MAP - Accuracy: 0.8000, Average Token Count: 393218.33\n"
     ]
    },
    {
     "name": "stderr",
     "output_type": "stream",
     "text": [
      "Target Score (MAP):  50%|█████     | 4/8 [00:05<00:05,  1.50s/it]"
     ]
    },
    {
     "name": "stdout",
     "output_type": "stream",
     "text": [
      "MAP Min N Required [10, 32, 32, 32, 32, 29, 32, 10, 17, 11, 32, 32, 10, 32, 32, 13, 12, 32, 32, 32, 32, 32, 32, 32, 10, 32, 10, 32, 32, 32]\n",
      "MAP - Target Score: 0.85, Percentile: 0.1\n",
      "MAP - Accuracy: 0.8000, Average Token Count: 389047.80\n"
     ]
    },
    {
     "name": "stderr",
     "output_type": "stream",
     "text": []
    },
    {
     "name": "stdout",
     "output_type": "stream",
     "text": [
      "MAP Min N Required [10, 32, 32, 32, 32, 32, 32, 32, 32, 32, 32, 32, 10, 32, 32, 32, 32, 32, 32, 32, 32, 32, 32, 32, 29, 32, 10, 32, 32, 32]\n",
      "MAP - Target Score: 0.9, Percentile: 0.01\n",
      "MAP - Accuracy: 0.8000, Average Token Count: 420449.50\n"
     ]
    },
    {
     "name": "stderr",
     "output_type": "stream",
     "text": []
    },
    {
     "name": "stdout",
     "output_type": "stream",
     "text": [
      "MAP Min N Required [10, 32, 32, 32, 32, 32, 32, 28, 32, 30, 32, 32, 10, 32, 32, 32, 32, 32, 32, 32, 32, 32, 32, 32, 24, 32, 10, 32, 32, 32]\n",
      "MAP - Target Score: 0.9, Percentile: 0.02\n",
      "MAP - Accuracy: 0.8000, Average Token Count: 417801.00\n"
     ]
    },
    {
     "name": "stderr",
     "output_type": "stream",
     "text": []
    },
    {
     "name": "stdout",
     "output_type": "stream",
     "text": [
      "MAP Min N Required [10, 32, 32, 32, 32, 32, 32, 24, 32, 26, 32, 32, 10, 32, 32, 32, 32, 32, 32, 32, 32, 32, 32, 32, 21, 32, 10, 32, 32, 32]\n",
      "MAP - Target Score: 0.9, Percentile: 0.035\n",
      "MAP - Accuracy: 0.8000, Average Token Count: 415732.47\n"
     ]
    },
    {
     "name": "stderr",
     "output_type": "stream",
     "text": []
    },
    {
     "name": "stdout",
     "output_type": "stream",
     "text": [
      "MAP Min N Required [10, 32, 32, 32, 32, 32, 32, 22, 32, 23, 32, 32, 10, 32, 32, 32, 32, 32, 32, 32, 32, 32, 32, 32, 19, 32, 10, 32, 32, 32]\n",
      "MAP - Target Score: 0.9, Percentile: 0.05\n",
      "MAP - Accuracy: 0.8000, Average Token Count: 414134.17\n"
     ]
    },
    {
     "name": "stderr",
     "output_type": "stream",
     "text": []
    },
    {
     "name": "stdout",
     "output_type": "stream",
     "text": [
      "MAP Min N Required [10, 32, 32, 32, 32, 32, 32, 19, 32, 20, 32, 32, 10, 32, 32, 32, 29, 32, 32, 32, 32, 32, 32, 32, 16, 32, 10, 32, 32, 32]\n",
      "MAP - Target Score: 0.9, Percentile: 0.075\n",
      "MAP - Accuracy: 0.8000, Average Token Count: 411563.37\n"
     ]
    },
    {
     "name": "stderr",
     "output_type": "stream",
     "text": [
      "Target Score (MAP):  62%|██████▎   | 5/8 [00:07<00:04,  1.62s/it]"
     ]
    },
    {
     "name": "stdout",
     "output_type": "stream",
     "text": [
      "MAP Min N Required [10, 32, 32, 32, 32, 32, 32, 17, 32, 18, 32, 32, 10, 32, 32, 32, 26, 32, 32, 32, 32, 32, 32, 32, 15, 32, 10, 32, 32, 32]\n",
      "MAP - Target Score: 0.9, Percentile: 0.1\n",
      "MAP - Accuracy: 0.8000, Average Token Count: 409064.63\n"
     ]
    },
    {
     "name": "stderr",
     "output_type": "stream",
     "text": []
    },
    {
     "name": "stdout",
     "output_type": "stream",
     "text": [
      "MAP Min N Required [10, 32, 32, 32, 32, 32, 32, 32, 32, 32, 32, 32, 13, 32, 32, 32, 32, 32, 32, 32, 32, 32, 32, 32, 32, 32, 11, 32, 32, 32]\n",
      "MAP - Target Score: 0.925, Percentile: 0.01\n",
      "MAP - Accuracy: 0.8000, Average Token Count: 421973.80\n"
     ]
    },
    {
     "name": "stderr",
     "output_type": "stream",
     "text": []
    },
    {
     "name": "stdout",
     "output_type": "stream",
     "text": [
      "MAP Min N Required [10, 32, 32, 32, 32, 32, 32, 32, 32, 32, 32, 32, 11, 32, 32, 32, 32, 32, 32, 32, 32, 32, 32, 32, 32, 32, 10, 32, 32, 32]\n",
      "MAP - Target Score: 0.925, Percentile: 0.02\n",
      "MAP - Accuracy: 0.8000, Average Token Count: 421345.03\n"
     ]
    },
    {
     "name": "stderr",
     "output_type": "stream",
     "text": []
    },
    {
     "name": "stdout",
     "output_type": "stream",
     "text": [
      "MAP Min N Required [10, 32, 32, 32, 32, 32, 32, 32, 32, 32, 32, 32, 10, 32, 32, 32, 32, 32, 32, 32, 32, 32, 32, 32, 29, 32, 10, 32, 32, 32]\n",
      "MAP - Target Score: 0.925, Percentile: 0.035\n",
      "MAP - Accuracy: 0.8000, Average Token Count: 420449.50\n"
     ]
    },
    {
     "name": "stderr",
     "output_type": "stream",
     "text": []
    },
    {
     "name": "stdout",
     "output_type": "stream",
     "text": [
      "MAP Min N Required [10, 32, 32, 32, 32, 32, 32, 31, 32, 32, 32, 32, 10, 32, 32, 32, 32, 32, 32, 32, 32, 32, 32, 32, 26, 32, 10, 32, 32, 32]\n",
      "MAP - Target Score: 0.925, Percentile: 0.05\n",
      "MAP - Accuracy: 0.8000, Average Token Count: 419168.97\n"
     ]
    },
    {
     "name": "stderr",
     "output_type": "stream",
     "text": []
    },
    {
     "name": "stdout",
     "output_type": "stream",
     "text": [
      "MAP Min N Required [10, 32, 32, 32, 32, 32, 32, 27, 32, 28, 32, 32, 10, 32, 32, 32, 32, 32, 32, 32, 32, 32, 32, 32, 22, 32, 10, 32, 32, 32]\n",
      "MAP - Target Score: 0.925, Percentile: 0.075\n",
      "MAP - Accuracy: 0.8000, Average Token Count: 416802.20\n"
     ]
    },
    {
     "name": "stderr",
     "output_type": "stream",
     "text": [
      "Target Score (MAP):  75%|███████▌  | 6/8 [00:09<00:03,  1.71s/it]"
     ]
    },
    {
     "name": "stdout",
     "output_type": "stream",
     "text": [
      "MAP Min N Required [10, 32, 32, 32, 32, 32, 32, 24, 32, 25, 32, 32, 10, 32, 32, 32, 32, 32, 32, 32, 32, 32, 32, 32, 20, 32, 10, 32, 32, 32]\n",
      "MAP - Target Score: 0.925, Percentile: 0.1\n",
      "MAP - Accuracy: 0.8000, Average Token Count: 415319.00\n"
     ]
    },
    {
     "name": "stderr",
     "output_type": "stream",
     "text": []
    },
    {
     "name": "stdout",
     "output_type": "stream",
     "text": [
      "MAP Min N Required [10, 32, 32, 32, 32, 32, 32, 32, 32, 32, 32, 32, 32, 32, 32, 32, 32, 32, 32, 32, 32, 32, 32, 32, 32, 32, 18, 32, 32, 32]\n",
      "MAP - Target Score: 0.95, Percentile: 0.01\n",
      "MAP - Accuracy: 0.8000, Average Token Count: 427466.93\n"
     ]
    },
    {
     "name": "stderr",
     "output_type": "stream",
     "text": []
    },
    {
     "name": "stdout",
     "output_type": "stream",
     "text": [
      "MAP Min N Required [10, 32, 32, 32, 32, 32, 32, 32, 32, 32, 32, 32, 29, 32, 32, 32, 32, 32, 32, 32, 32, 32, 32, 32, 32, 32, 16, 32, 32, 32]\n",
      "MAP - Target Score: 0.95, Percentile: 0.02\n",
      "MAP - Accuracy: 0.8000, Average Token Count: 426428.67\n"
     ]
    },
    {
     "name": "stderr",
     "output_type": "stream",
     "text": []
    },
    {
     "name": "stdout",
     "output_type": "stream",
     "text": [
      "MAP Min N Required [10, 32, 32, 32, 32, 32, 32, 32, 32, 32, 32, 32, 25, 32, 32, 32, 32, 32, 32, 32, 32, 32, 32, 32, 32, 32, 14, 32, 32, 32]\n",
      "MAP - Target Score: 0.95, Percentile: 0.035\n",
      "MAP - Accuracy: 0.8000, Average Token Count: 425216.27\n"
     ]
    },
    {
     "name": "stderr",
     "output_type": "stream",
     "text": []
    },
    {
     "name": "stdout",
     "output_type": "stream",
     "text": [
      "MAP Min N Required [10, 32, 32, 32, 32, 32, 32, 32, 32, 32, 32, 32, 22, 32, 32, 32, 32, 32, 32, 32, 32, 32, 32, 32, 32, 32, 12, 32, 32, 32]\n",
      "MAP - Target Score: 0.95, Percentile: 0.05\n",
      "MAP - Accuracy: 0.8000, Average Token Count: 424170.63\n"
     ]
    },
    {
     "name": "stderr",
     "output_type": "stream",
     "text": []
    },
    {
     "name": "stdout",
     "output_type": "stream",
     "text": [
      "MAP Min N Required [10, 32, 32, 32, 32, 32, 32, 32, 32, 32, 32, 32, 19, 32, 32, 32, 32, 32, 32, 32, 32, 32, 32, 32, 32, 32, 11, 32, 32, 32]\n",
      "MAP - Target Score: 0.95, Percentile: 0.075\n",
      "MAP - Accuracy: 0.8000, Average Token Count: 423400.57\n"
     ]
    },
    {
     "name": "stderr",
     "output_type": "stream",
     "text": [
      "Target Score (MAP):  88%|████████▊ | 7/8 [00:11<00:01,  1.77s/it]"
     ]
    },
    {
     "name": "stdout",
     "output_type": "stream",
     "text": [
      "MAP Min N Required [10, 32, 32, 32, 32, 32, 32, 32, 32, 32, 32, 32, 17, 32, 32, 32, 32, 32, 32, 32, 32, 32, 32, 32, 31, 32, 10, 32, 32, 32]\n",
      "MAP - Target Score: 0.95, Percentile: 0.1\n",
      "MAP - Accuracy: 0.8000, Average Token Count: 422537.37\n"
     ]
    },
    {
     "name": "stderr",
     "output_type": "stream",
     "text": []
    },
    {
     "name": "stdout",
     "output_type": "stream",
     "text": [
      "MAP Min N Required [25, 32, 32, 32, 32, 32, 32, 32, 32, 32, 32, 32, 32, 32, 32, 32, 32, 32, 32, 32, 32, 32, 32, 32, 32, 32, 32, 32, 32, 32]\n",
      "MAP - Target Score: 0.975, Percentile: 0.01\n",
      "MAP - Accuracy: 0.8000, Average Token Count: 432295.83\n"
     ]
    },
    {
     "name": "stderr",
     "output_type": "stream",
     "text": []
    },
    {
     "name": "stdout",
     "output_type": "stream",
     "text": [
      "MAP Min N Required [22, 32, 32, 32, 32, 32, 32, 32, 32, 32, 32, 32, 32, 32, 32, 32, 32, 32, 32, 32, 32, 32, 32, 32, 32, 32, 32, 32, 32, 32]\n",
      "MAP - Target Score: 0.975, Percentile: 0.02\n",
      "MAP - Accuracy: 0.8000, Average Token Count: 431908.10\n"
     ]
    },
    {
     "name": "stderr",
     "output_type": "stream",
     "text": []
    },
    {
     "name": "stdout",
     "output_type": "stream",
     "text": [
      "MAP Min N Required [19, 32, 32, 32, 32, 32, 32, 32, 32, 32, 32, 32, 32, 32, 32, 32, 32, 32, 32, 32, 32, 32, 32, 32, 32, 32, 31, 32, 32, 32]\n",
      "MAP - Target Score: 0.975, Percentile: 0.035\n",
      "MAP - Accuracy: 0.8000, Average Token Count: 431296.00\n"
     ]
    },
    {
     "name": "stderr",
     "output_type": "stream",
     "text": []
    },
    {
     "name": "stdout",
     "output_type": "stream",
     "text": [
      "MAP Min N Required [17, 32, 32, 32, 32, 32, 32, 32, 32, 32, 32, 32, 32, 32, 32, 32, 32, 32, 32, 32, 32, 32, 32, 32, 32, 32, 28, 32, 32, 32]\n",
      "MAP - Target Score: 0.975, Percentile: 0.05\n",
      "MAP - Accuracy: 0.8000, Average Token Count: 430478.07\n"
     ]
    },
    {
     "name": "stderr",
     "output_type": "stream",
     "text": []
    },
    {
     "name": "stdout",
     "output_type": "stream",
     "text": [
      "MAP Min N Required [14, 32, 32, 32, 32, 32, 32, 32, 32, 32, 32, 32, 32, 32, 32, 32, 32, 32, 32, 32, 32, 32, 32, 32, 32, 32, 24, 32, 32, 32]\n",
      "MAP - Target Score: 0.975, Percentile: 0.075\n",
      "MAP - Accuracy: 0.8000, Average Token Count: 429263.30\n"
     ]
    },
    {
     "name": "stderr",
     "output_type": "stream",
     "text": [
      "Target Score (MAP): 100%|██████████| 8/8 [00:13<00:00,  1.68s/it]"
     ]
    },
    {
     "name": "stdout",
     "output_type": "stream",
     "text": [
      "MAP Min N Required [13, 32, 32, 32, 32, 32, 32, 32, 32, 32, 32, 32, 32, 32, 32, 32, 32, 32, 32, 32, 32, 32, 32, 32, 32, 32, 21, 32, 32, 32]\n",
      "MAP - Target Score: 0.975, Percentile: 0.1\n",
      "MAP - Accuracy: 0.8000, Average Token Count: 428563.53\n"
     ]
    },
    {
     "name": "stderr",
     "output_type": "stream",
     "text": [
      "\n"
     ]
    },
    {
     "data": {
      "image/png": "[encoded data removed]",
      "text/plain": [
       "<Figure size 1200x800 with 1 Axes>"
      ]
     },
     "metadata": {},
     "output_type": "display_data"
    },
    {
     "name": "stdout",
     "output_type": "stream",
     "text": [
      "\n",
      "MLE Pareto-optimal configurations:\n",
      "Target Score: 0.7, Percentile: 0.1, Accuracy: 0.8000, Avg Token Count: 327227.67\n",
      "\n",
      "MAP Pareto-optimal configurations:\n",
      "Target Score: 0.7, Percentile: 0.1, Accuracy: 0.8000, Avg Token Count: 316459.87\n"
     ]
    }
   ],
   "source": [
    "max_N_panel = 32\n",
    "print(\"Target Score Panel:\", target_score_panel_values)\n",
    "print(\"Percentile Panel:\", percentile_panel_values)\n",
    "print(\"Max N:\", max_N_panel)\n",
    "\n",
    "# Evaluate MLE results\n",
    "print(\"\\nEvaluating MLE Results...\")\n",
    "truncated_normal_params_all = mle_estimated_params\n",
    "mle_grid_search_results = []\n",
    "\n",
    "for target_score in tqdm(target_score_panel_values, desc=\"Target Score (MLE)\"):\n",
    "    for percentile in tqdm(percentile_panel_values, desc=\"Percentile\", leave=False):\n",
    "        min_N_required = []\n",
    "        for i, (mu, sigma) in enumerate(truncated_normal_params_all):\n",
    "            min_N = find_min_N_for_threshold(mu, sigma, target_score=target_score, \n",
    "                                        percentile=percentile, max_N=max_N_panel)\n",
    "            if min_N < peek_number:\n",
    "                min_N = peek_number\n",
    "            min_N_required.append(min_N)\n",
    "        print(\"MLE Min N Required\", min_N_required)\n",
    "        \n",
    "        # Evaluate model performance with these parameters\n",
    "        correct = 0\n",
    "        entire_token_count = 0\n",
    "\n",
    "        for idx, item in enumerate(val_texts):\n",
    "            N = min_N_required[idx]\n",
    "            completions = val_completions[idx][0][:N]\n",
    "            scores = val_scores[idx][0][:N]\n",
    "            completion_tokens = val_completion_tokens[idx][0][:N]\n",
    "            total_tokens = sum(completion_tokens)\n",
    "\n",
    "            highest_scores_idx = scores.index(max(scores))\n",
    "\n",
    "            while completions[highest_scores_idx] == \"\":\n",
    "                scores[highest_scores_idx] = 0 \n",
    "                if max(scores) == 0: \n",
    "                    break\n",
    "                highest_scores_idx = scores.index(max(scores))\n",
    "\n",
    "            output = completions[highest_scores_idx]\n",
    "            answer = get_answer(output)\n",
    "\n",
    "            if verify_extracted_answer(val_gt_answers[idx], answer):\n",
    "                correct += 1\n",
    "            entire_token_count += total_tokens\n",
    "\n",
    "        accuracy = correct / len(val_texts)\n",
    "        average_token_count = entire_token_count / len(val_texts)\n",
    "        \n",
    "        print(f\"MLE - Target Score: {target_score}, Percentile: {percentile}\")\n",
    "        print(f\"MLE - Accuracy: {accuracy:.4f}, Average Token Count: {average_token_count:.2f}\")\n",
    "        \n",
    "        mle_grid_search_results.append({\n",
    "            'target_score': target_score,\n",
    "            'percentile': percentile,\n",
    "            'accuracy': accuracy,\n",
    "            'average_token_count': average_token_count\n",
    "        })\n",
    "        \n",
    "with open(f'{DATASET}_OptScale_MLE_results_{max_N_panel}.json', 'w') as f:\n",
    "    json.dump(mle_grid_search_results, f)\n",
    "\n",
    "\n",
    "# Evaluate MAP results\n",
    "print(\"\\nEvaluating MAP Results...\")\n",
    "truncated_normal_params_all = map_estimated_params\n",
    "map_grid_search_results = []\n",
    "\n",
    "for target_score in tqdm(target_score_panel_values, desc=\"Target Score (MAP)\"):\n",
    "    for percentile in tqdm(percentile_panel_values, desc=\"Percentile\", leave=False):\n",
    "        min_N_required = []\n",
    "        for i, (mu, sigma) in enumerate(truncated_normal_params_all):\n",
    "            min_N = find_min_N_for_threshold(mu, sigma, target_score=target_score, \n",
    "                                        percentile=percentile, max_N=max_N_panel)\n",
    "            if min_N < peek_number:\n",
    "                min_N = peek_number\n",
    "            min_N_required.append(min_N)\n",
    "        print(\"MAP Min N Required\", min_N_required)\n",
    "        \n",
    "        # Evaluate model performance with these parameters\n",
    "        correct = 0\n",
    "        entire_token_count = 0\n",
    "\n",
    "        for idx, item in enumerate(val_texts):\n",
    "            N = min_N_required[idx]\n",
    "            completions = val_completions[idx][0][:N]\n",
    "            scores = val_scores[idx][0][:N]\n",
    "            completion_tokens = val_completion_tokens[idx][0][:N]\n",
    "            total_tokens = sum(completion_tokens)\n",
    "\n",
    "            highest_scores_idx = scores.index(max(scores))\n",
    "\n",
    "            while completions[highest_scores_idx] == \"\":\n",
    "                scores[highest_scores_idx] = 0 \n",
    "                if max(scores) == 0: \n",
    "                    break\n",
    "                highest_scores_idx = scores.index(max(scores))\n",
    "\n",
    "            output = completions[highest_scores_idx]\n",
    "            answer = get_answer(output)\n",
    "\n",
    "            if verify_extracted_answer(val_gt_answers[idx], answer):\n",
    "                correct += 1\n",
    "            entire_token_count += total_tokens\n",
    "\n",
    "        accuracy = correct / len(val_texts)\n",
    "        average_token_count = entire_token_count / len(val_texts)\n",
    "        \n",
    "        print(f\"MAP - Target Score: {target_score}, Percentile: {percentile}\")\n",
    "        print(f\"MAP - Accuracy: {accuracy:.4f}, Average Token Count: {average_token_count:.2f}\")\n",
    "        \n",
    "        map_grid_search_results.append({\n",
    "            'target_score': target_score,\n",
    "            'percentile': percentile,\n",
    "            'accuracy': accuracy,\n",
    "            'average_token_count': average_token_count\n",
    "        })\n",
    "        \n",
    "with open(f'{DATASET}_OptScale_MAP_results_{max_N_panel}.json', 'w') as f:\n",
    "    json.dump(map_grid_search_results, f)\n",
    "\n",
    "plot_mle_map_optscale(mle_grid_search_results, map_grid_search_results, baseline_average_token_counts, baseline_accuracy_values, max_N_panel)"
   ]
  },
  {
   "cell_type": "code",
   "execution_count": 10,
   "metadata": {},
   "outputs": [
    {
     "data": {
      "image/png": "[encoded data removed]",
      "text/plain": [
       "<Figure size 1200x800 with 2 Axes>"
      ]
     },
     "metadata": {},
     "output_type": "display_data"
    },
    {
     "data": {
      "image/png": "[encoded data removed]",
      "text/plain": [
       "<Figure size 1200x800 with 2 Axes>"
      ]
     },
     "metadata": {},
     "output_type": "display_data"
    }
   ],
   "source": [
    "plot_optscale_start(mle_grid_search_results, baseline_average_token_counts, baseline_accuracy_values, max_N_panel, 17)\n",
    "plot_optscale_start(map_grid_search_results, baseline_average_token_counts, baseline_accuracy_values, max_N_panel, 17)"
   ]
  },
  {
   "cell_type": "code",
   "execution_count": 11,
   "metadata": {},
   "outputs": [
    {
     "name": "stdout",
     "output_type": "stream",
     "text": [
      "0         0.6235      0.1135    1.0037    0.0311    0.8896    0.5138    0.9907    0.0235\n",
      "1         0.6610      0.1043    0.4841    0.0952    0.4919    0.0957    0.4890    0.0892\n",
      "2         0.6834      0.1139    0.4307    0.0462    0.4706    0.0845    0.4494    0.0412\n",
      "3         0.5975      0.0914    0.4311    0.0272    0.4331    0.0551    0.4254    0.0466\n",
      "4         0.5143      0.0985    0.6268    0.0689    0.6241    0.0693    0.6105    0.0795\n",
      "5         0.6992      0.0917    0.5882    0.1536    0.5996    0.1509    0.6131    0.1582\n",
      "6         0.6755      0.1047    0.5909    0.1143    0.5961    0.1141    0.5966    0.1002\n",
      "7         0.5058      0.0558    1.4603    0.2860    0.8249    0.1416    1.4332    0.2606\n",
      "8         0.6027      0.0968    0.8019    0.0681    0.7973    0.0685    0.8087    0.0700\n",
      "9         0.5271      0.1360    0.9664    0.0919    0.9183    0.0797    0.9495    0.0649\n",
      "10        0.6061      0.1544    0.5130    0.0727    0.5154    0.0738    0.4938    0.0932\n",
      "11        0.5284      0.0908    0.8124    0.0492    0.8089    0.0496    0.8044    0.0606\n",
      "12        0.6263      0.1054    0.9156    0.0717    0.9012    0.0761    0.9226    0.0906\n",
      "13        0.7189      0.1323    0.4731    0.0564    0.5022    0.0507    0.4718    0.0543\n",
      "14        0.6327      0.0957    0.5578    0.1151    0.5624    0.1145    0.5824    0.0991\n",
      "15        0.4786      0.1201    0.7599    0.0848    0.7498    0.0858    0.7796    0.0854\n",
      "16        0.5019      0.0918    0.8001    0.1863    0.7389    0.1616    0.7564    0.1536\n",
      "17        0.5432      0.0728    0.6244    0.0740    0.6222    0.0740    0.5979    0.0736\n",
      "18        0.7051      0.0788    0.5516    0.0946    0.5582    0.0945    0.5805    0.1174\n",
      "19        0.5597      0.0605    0.6290    0.0916    0.6263    0.0910    0.6400    0.0784\n",
      "20        0.6826      0.0816    0.4858    0.0593    0.4892    0.0596    0.4908    0.0627\n",
      "21        0.7763      0.0853    0.5206    0.0740    0.5802    0.0814    0.5072    0.0700\n",
      "22        0.7035      0.1236    0.5806    0.0536    0.5824    0.0541    0.5688    0.0582\n",
      "23        0.7543      0.1253    0.7104    0.0699    0.7115    0.0706    0.6940    0.0716\n",
      "24        0.6305      0.0490    0.9912    0.0771    0.8116    0.6028   25.8013    1.2736\n",
      "25        0.6474      0.1419    0.4489    0.0594    0.5041    0.0758    0.4433    0.0466\n",
      "26        0.6417      0.0770    2.5534    0.3291    0.8762    0.6100    1.4238    0.1756\n",
      "27        0.6521      0.1246    0.4561    0.0387    0.4576    0.0390    0.4637    0.0728\n",
      "28        0.7377      0.0989    0.4650    0.0448    0.6020    0.1372    0.4558    0.0408\n",
      "29        0.6121      0.1139    0.5465    0.0947    0.5494    0.0951    0.5459    0.0961\n",
      "\n",
      "Performance Comparison (MSE against ground truth):\n",
      "Predictor MSE - μ: 21.208091, σ: 0.053953\n",
      "MLE MSE      - μ: 20.560744, σ: 0.048722\n",
      "MAP MSE      - μ: 20.839979, σ: 0.030296\n",
      "\n",
      "Statistics of Different Estimation Methods:\n",
      "Predictor Estimates:\n",
      "Mean μ: 0.6276 ± 0.0787\n",
      "Mean σ: 0.1010 ± 0.0249\n",
      "\n",
      "MLE Estimates (10 samples):\n",
      "Mean μ: 0.7260 ± 0.4074\n",
      "Mean σ: 0.0926 ± 0.0665\n",
      "\n",
      "MAP Estimates (10 samples):\n",
      "Mean μ: 0.6465 ± 0.1463\n",
      "Mean σ: 0.1357 ± 0.1502\n",
      "\n",
      "Ground Truth (100 samples):\n",
      "Mean μ: 1.5130 ± 4.5173\n",
      "Mean σ: 0.1269 ± 0.2180\n"
     ]
    }
   ],
   "source": [
    "peek_number = 20\n",
    "\n",
    "mle_estimated_params = []  # Store MLE estimates\n",
    "map_estimated_params = []  # Store MAP estimates\n",
    "predictor_params = []      # Store predictor's estimates\n",
    "\n",
    "for i, (score, prediction) in enumerate(zip(val_scores, val_labels)):\n",
    "    peek_data = np.array(score[0][:peek_number])\n",
    "    \n",
    "    # Store predictor's parameters\n",
    "    prior_mu, prior_sigma = prediction\n",
    "    predictor_params.append((prior_mu, prior_sigma))\n",
    "    \n",
    "    # MLE estimation with limited data\n",
    "    initial_mu = np.mean(peek_data)\n",
    "    initial_sigma = np.std(peek_data)\n",
    "    mle_result = minimize(\n",
    "        lambda params: neg_log_likelihood(params, peek_data),\n",
    "        [initial_mu, initial_sigma],\n",
    "        bounds=[(None, None), (1e-6, None)],\n",
    "        method='L-BFGS-B'\n",
    "    )\n",
    "    mle_mu, mle_sigma = mle_result.x\n",
    "    mle_estimated_params.append((mle_mu, mle_sigma))\n",
    "    \n",
    "    # MAP estimation with limited data\n",
    "    map_result = minimize(\n",
    "        lambda params: neg_log_posterior(\n",
    "            params, \n",
    "            peek_data, \n",
    "            prior_mu=prior_mu, \n",
    "            prior_sigma=prior_sigma\n",
    "        ),\n",
    "        [prior_mu, prior_sigma],\n",
    "        bounds=[(None, None), (1e-6, None)],\n",
    "        method='L-BFGS-B'\n",
    "    )\n",
    "    map_mu, map_sigma = map_result.x\n",
    "    map_estimated_params.append((map_mu, map_sigma))\n",
    "    \n",
    "    # Print comparison for first 50 examples\n",
    "    if i < 50:\n",
    "        gt_mu, gt_sigma = original_params_compare[i]\n",
    "        print(f\"{i:<4} {prior_mu:11.4f} {prior_sigma:11.4f} {mle_mu:9.4f} {mle_sigma:9.4f} \"\n",
    "              f\"{map_mu:9.4f} {map_sigma:9.4f} {gt_mu:9.4f} {gt_sigma:9.4f}\")\n",
    "\n",
    "# Call the function to perform the analysis\n",
    "analyze_estimation_performance(predictor_params, mle_estimated_params, map_estimated_params, original_params_compare)\n"
   ]
  },
  {
   "cell_type": "code",
   "execution_count": 12,
   "metadata": {},
   "outputs": [
    {
     "name": "stdout",
     "output_type": "stream",
     "text": [
      "Target Score Panel: [0.7, 0.75, 0.8, 0.85, 0.9, 0.925, 0.95, 0.975]\n",
      "Percentile Panel: [0.01, 0.02, 0.035, 0.05, 0.075, 0.1]\n",
      "Max N: 64\n",
      "\n",
      "Evaluating MLE Results...\n"
     ]
    },
    {
     "name": "stderr",
     "output_type": "stream",
     "text": [
      "Target Score (MLE):   0%|          | 0/8 [00:00<?, ?it/s]"
     ]
    },
    {
     "name": "stderr",
     "output_type": "stream",
     "text": []
    },
    {
     "name": "stdout",
     "output_type": "stream",
     "text": [
      "MLE Min N Required [20, 64, 64, 64, 30, 20, 25, 20, 20, 20, 64, 20, 20, 64, 41, 20, 20, 28, 64, 20, 64, 64, 64, 20, 20, 64, 20, 64, 64, 64]\n",
      "MLE - Target Score: 0.7, Percentile: 0.01\n",
      "MLE - Accuracy: 0.7667, Average Token Count: 647989.00\n"
     ]
    },
    {
     "name": "stderr",
     "output_type": "stream",
     "text": []
    },
    {
     "name": "stdout",
     "output_type": "stream",
     "text": [
      "MLE Min N Required [20, 64, 64, 64, 26, 20, 22, 20, 20, 20, 64, 20, 20, 64, 35, 20, 20, 24, 64, 20, 64, 64, 64, 20, 20, 64, 20, 64, 64, 64]\n",
      "MLE - Target Score: 0.7, Percentile: 0.02\n",
      "MLE - Accuracy: 0.7667, Average Token Count: 639992.80\n"
     ]
    },
    {
     "name": "stderr",
     "output_type": "stream",
     "text": []
    },
    {
     "name": "stdout",
     "output_type": "stream",
     "text": [
      "MLE Min N Required [20, 64, 64, 64, 22, 20, 20, 20, 20, 20, 64, 20, 20, 64, 30, 20, 20, 21, 56, 20, 64, 64, 64, 20, 20, 64, 20, 64, 64, 63]\n",
      "MLE - Target Score: 0.7, Percentile: 0.035\n",
      "MLE - Accuracy: 0.7667, Average Token Count: 628141.90\n"
     ]
    },
    {
     "name": "stderr",
     "output_type": "stream",
     "text": []
    },
    {
     "name": "stdout",
     "output_type": "stream",
     "text": [
      "MLE Min N Required [20, 64, 64, 64, 20, 20, 20, 20, 20, 20, 64, 20, 20, 64, 27, 20, 20, 20, 50, 20, 64, 64, 64, 20, 20, 64, 20, 64, 64, 56]\n",
      "MLE - Target Score: 0.7, Percentile: 0.05\n",
      "MLE - Accuracy: 0.7667, Average Token Count: 620365.80\n"
     ]
    },
    {
     "name": "stderr",
     "output_type": "stream",
     "text": []
    },
    {
     "name": "stdout",
     "output_type": "stream",
     "text": [
      "MLE Min N Required [20, 64, 64, 64, 20, 20, 20, 20, 20, 20, 64, 20, 20, 64, 23, 20, 20, 20, 44, 20, 64, 64, 64, 20, 20, 64, 20, 64, 64, 49]\n",
      "MLE - Target Score: 0.7, Percentile: 0.075\n",
      "MLE - Accuracy: 0.7667, Average Token Count: 612066.83\n"
     ]
    },
    {
     "name": "stderr",
     "output_type": "stream",
     "text": [
      "Target Score (MLE):  12%|█▎        | 1/8 [00:02<00:14,  2.09s/it]"
     ]
    },
    {
     "name": "stdout",
     "output_type": "stream",
     "text": [
      "MLE Min N Required [20, 64, 64, 64, 20, 20, 20, 20, 20, 20, 64, 20, 20, 64, 21, 20, 20, 20, 39, 20, 64, 64, 64, 20, 20, 64, 20, 64, 64, 43]\n",
      "MLE - Target Score: 0.7, Percentile: 0.1\n",
      "MLE - Accuracy: 0.7667, Average Token Count: 606270.83\n"
     ]
    },
    {
     "name": "stderr",
     "output_type": "stream",
     "text": []
    },
    {
     "name": "stdout",
     "output_type": "stream",
     "text": [
      "MLE Min N Required [20, 64, 64, 64, 64, 30, 55, 20, 20, 20, 64, 20, 20, 64, 64, 20, 20, 64, 64, 48, 64, 64, 64, 20, 20, 64, 20, 64, 64, 64]\n",
      "MLE - Target Score: 0.75, Percentile: 0.01\n",
      "MLE - Accuracy: 0.7667, Average Token Count: 721792.83\n"
     ]
    },
    {
     "name": "stderr",
     "output_type": "stream",
     "text": []
    },
    {
     "name": "stdout",
     "output_type": "stream",
     "text": [
      "MLE Min N Required [20, 64, 64, 64, 64, 26, 47, 20, 20, 20, 64, 20, 20, 64, 64, 20, 20, 64, 64, 41, 64, 64, 64, 20, 20, 64, 20, 64, 64, 64]\n",
      "MLE - Target Score: 0.75, Percentile: 0.02\n",
      "MLE - Accuracy: 0.7667, Average Token Count: 713234.17\n"
     ]
    },
    {
     "name": "stderr",
     "output_type": "stream",
     "text": []
    },
    {
     "name": "stdout",
     "output_type": "stream",
     "text": [
      "MLE Min N Required [20, 64, 64, 64, 64, 22, 40, 20, 20, 20, 64, 20, 20, 64, 64, 20, 20, 64, 64, 35, 64, 64, 64, 20, 20, 64, 20, 64, 64, 64]\n",
      "MLE - Target Score: 0.75, Percentile: 0.035\n",
      "MLE - Accuracy: 0.7667, Average Token Count: 705967.83\n"
     ]
    },
    {
     "name": "stderr",
     "output_type": "stream",
     "text": []
    },
    {
     "name": "stdout",
     "output_type": "stream",
     "text": [
      "MLE Min N Required [20, 64, 64, 64, 64, 20, 36, 20, 20, 20, 64, 20, 20, 64, 63, 20, 20, 64, 64, 31, 64, 64, 64, 20, 20, 64, 20, 64, 64, 64]\n",
      "MLE - Target Score: 0.75, Percentile: 0.05\n",
      "MLE - Accuracy: 0.7667, Average Token Count: 701687.37\n"
     ]
    },
    {
     "name": "stderr",
     "output_type": "stream",
     "text": []
    },
    {
     "name": "stdout",
     "output_type": "stream",
     "text": [
      "MLE Min N Required [20, 64, 64, 64, 64, 20, 31, 20, 20, 20, 64, 20, 20, 64, 54, 20, 20, 58, 64, 27, 64, 64, 64, 20, 20, 64, 20, 64, 64, 64]\n",
      "MLE - Target Score: 0.75, Percentile: 0.075\n",
      "MLE - Accuracy: 0.7667, Average Token Count: 690691.47\n"
     ]
    },
    {
     "name": "stderr",
     "output_type": "stream",
     "text": [
      "Target Score (MLE):  25%|██▌       | 2/8 [00:04<00:14,  2.35s/it]"
     ]
    },
    {
     "name": "stdout",
     "output_type": "stream",
     "text": [
      "MLE Min N Required [20, 64, 64, 64, 62, 20, 28, 20, 20, 20, 64, 20, 20, 64, 48, 20, 20, 51, 64, 24, 64, 64, 64, 20, 20, 64, 20, 64, 64, 64]\n",
      "MLE - Target Score: 0.75, Percentile: 0.1\n",
      "MLE - Accuracy: 0.7667, Average Token Count: 681056.40\n"
     ]
    },
    {
     "name": "stderr",
     "output_type": "stream",
     "text": []
    },
    {
     "name": "stdout",
     "output_type": "stream",
     "text": [
      "MLE Min N Required [20, 64, 64, 64, 64, 55, 64, 20, 20, 20, 64, 20, 20, 64, 64, 20, 20, 64, 64, 64, 64, 64, 64, 45, 20, 64, 20, 64, 64, 64]\n",
      "MLE - Target Score: 0.8, Percentile: 0.01\n",
      "MLE - Accuracy: 0.7667, Average Token Count: 752638.60\n"
     ]
    },
    {
     "name": "stderr",
     "output_type": "stream",
     "text": []
    },
    {
     "name": "stdout",
     "output_type": "stream",
     "text": [
      "MLE Min N Required [20, 64, 64, 64, 64, 47, 64, 20, 20, 20, 64, 20, 20, 64, 64, 20, 20, 64, 64, 64, 64, 64, 64, 38, 20, 64, 20, 64, 64, 64]\n",
      "MLE - Target Score: 0.8, Percentile: 0.02\n",
      "MLE - Accuracy: 0.7667, Average Token Count: 746924.83\n"
     ]
    },
    {
     "name": "stderr",
     "output_type": "stream",
     "text": []
    },
    {
     "name": "stdout",
     "output_type": "stream",
     "text": [
      "MLE Min N Required [20, 64, 64, 64, 64, 41, 64, 20, 20, 20, 64, 20, 20, 64, 64, 20, 20, 64, 64, 64, 64, 64, 64, 33, 20, 64, 20, 64, 64, 64]\n",
      "MLE - Target Score: 0.8, Percentile: 0.035\n",
      "MLE - Accuracy: 0.7667, Average Token Count: 742383.63\n"
     ]
    },
    {
     "name": "stderr",
     "output_type": "stream",
     "text": []
    },
    {
     "name": "stdout",
     "output_type": "stream",
     "text": [
      "MLE Min N Required [20, 64, 64, 64, 64, 36, 64, 20, 20, 20, 64, 20, 20, 64, 64, 20, 20, 64, 64, 64, 64, 64, 64, 29, 20, 64, 20, 64, 64, 64]\n",
      "MLE - Target Score: 0.8, Percentile: 0.05\n",
      "MLE - Accuracy: 0.7667, Average Token Count: 738713.77\n"
     ]
    },
    {
     "name": "stderr",
     "output_type": "stream",
     "text": []
    },
    {
     "name": "stdout",
     "output_type": "stream",
     "text": [
      "MLE Min N Required [20, 64, 64, 64, 64, 31, 64, 20, 20, 20, 64, 20, 20, 64, 64, 20, 20, 64, 64, 64, 64, 64, 64, 25, 20, 64, 20, 64, 64, 64]\n",
      "MLE - Target Score: 0.8, Percentile: 0.075\n",
      "MLE - Accuracy: 0.7667, Average Token Count: 734718.17\n"
     ]
    },
    {
     "name": "stderr",
     "output_type": "stream",
     "text": [
      "Target Score (MLE):  38%|███▊      | 3/8 [00:07<00:12,  2.49s/it]"
     ]
    },
    {
     "name": "stdout",
     "output_type": "stream",
     "text": [
      "MLE Min N Required [20, 64, 64, 64, 64, 28, 64, 20, 20, 20, 64, 20, 20, 64, 64, 20, 20, 64, 64, 64, 64, 64, 64, 23, 20, 64, 20, 64, 64, 64]\n",
      "MLE - Target Score: 0.8, Percentile: 0.1\n",
      "MLE - Accuracy: 0.7667, Average Token Count: 732529.73\n"
     ]
    },
    {
     "name": "stderr",
     "output_type": "stream",
     "text": []
    },
    {
     "name": "stdout",
     "output_type": "stream",
     "text": [
      "MLE Min N Required [20, 64, 64, 64, 64, 64, 64, 20, 20, 20, 64, 20, 20, 64, 64, 31, 20, 64, 64, 64, 64, 64, 64, 64, 20, 64, 20, 64, 64, 64]\n",
      "MLE - Target Score: 0.85, Percentile: 0.01\n",
      "MLE - Accuracy: 0.7667, Average Token Count: 766381.17\n"
     ]
    },
    {
     "name": "stderr",
     "output_type": "stream",
     "text": []
    },
    {
     "name": "stdout",
     "output_type": "stream",
     "text": [
      "MLE Min N Required [20, 64, 64, 64, 64, 64, 64, 20, 20, 20, 64, 20, 20, 64, 64, 26, 20, 64, 64, 64, 64, 64, 64, 64, 20, 64, 20, 64, 64, 64]\n",
      "MLE - Target Score: 0.85, Percentile: 0.02\n",
      "MLE - Accuracy: 0.7667, Average Token Count: 764955.03\n"
     ]
    },
    {
     "name": "stderr",
     "output_type": "stream",
     "text": []
    },
    {
     "name": "stdout",
     "output_type": "stream",
     "text": [
      "MLE Min N Required [20, 64, 64, 64, 64, 64, 64, 20, 20, 20, 64, 20, 20, 64, 64, 23, 20, 64, 64, 64, 64, 64, 64, 64, 20, 64, 20, 64, 64, 64]\n",
      "MLE - Target Score: 0.85, Percentile: 0.035\n",
      "MLE - Accuracy: 0.7667, Average Token Count: 764129.33\n"
     ]
    },
    {
     "name": "stderr",
     "output_type": "stream",
     "text": []
    },
    {
     "name": "stdout",
     "output_type": "stream",
     "text": [
      "MLE Min N Required [20, 64, 64, 64, 64, 64, 64, 20, 20, 20, 64, 20, 20, 64, 64, 20, 20, 64, 64, 64, 64, 64, 64, 64, 20, 64, 20, 64, 64, 64]\n",
      "MLE - Target Score: 0.85, Percentile: 0.05\n",
      "MLE - Accuracy: 0.7667, Average Token Count: 763392.40\n"
     ]
    },
    {
     "name": "stderr",
     "output_type": "stream",
     "text": []
    },
    {
     "name": "stdout",
     "output_type": "stream",
     "text": [
      "MLE Min N Required [20, 64, 64, 64, 64, 63, 64, 20, 20, 20, 64, 20, 20, 64, 64, 20, 20, 64, 64, 64, 64, 64, 64, 64, 20, 64, 20, 64, 64, 64]\n",
      "MLE - Target Score: 0.85, Percentile: 0.075\n",
      "MLE - Accuracy: 0.7667, Average Token Count: 762592.40\n"
     ]
    },
    {
     "name": "stderr",
     "output_type": "stream",
     "text": [
      "Target Score (MLE):  50%|█████     | 4/8 [00:10<00:10,  2.60s/it]"
     ]
    },
    {
     "name": "stdout",
     "output_type": "stream",
     "text": [
      "MLE Min N Required [20, 64, 64, 64, 64, 56, 64, 20, 20, 20, 64, 20, 20, 64, 64, 20, 20, 64, 64, 64, 64, 64, 64, 64, 20, 64, 20, 64, 64, 64]\n",
      "MLE - Target Score: 0.85, Percentile: 0.1\n",
      "MLE - Accuracy: 0.7667, Average Token Count: 759415.30\n"
     ]
    },
    {
     "name": "stderr",
     "output_type": "stream",
     "text": []
    },
    {
     "name": "stdout",
     "output_type": "stream",
     "text": [
      "MLE Min N Required [20, 64, 64, 64, 64, 64, 64, 20, 62, 20, 64, 64, 20, 64, 64, 64, 24, 64, 64, 64, 64, 64, 64, 64, 20, 64, 20, 64, 64, 64]\n",
      "MLE - Target Score: 0.9, Percentile: 0.01\n",
      "MLE - Accuracy: 0.7667, Average Token Count: 797261.33\n"
     ]
    },
    {
     "name": "stderr",
     "output_type": "stream",
     "text": []
    },
    {
     "name": "stdout",
     "output_type": "stream",
     "text": [
      "MLE Min N Required [20, 64, 64, 64, 64, 64, 64, 20, 53, 20, 64, 64, 20, 64, 64, 64, 20, 64, 64, 64, 64, 64, 64, 64, 20, 64, 20, 64, 64, 64]\n",
      "MLE - Target Score: 0.9, Percentile: 0.02\n",
      "MLE - Accuracy: 0.7667, Average Token Count: 793744.67\n"
     ]
    },
    {
     "name": "stderr",
     "output_type": "stream",
     "text": []
    },
    {
     "name": "stdout",
     "output_type": "stream",
     "text": [
      "MLE Min N Required [20, 64, 64, 64, 64, 64, 64, 20, 45, 20, 64, 64, 20, 64, 64, 64, 20, 64, 64, 64, 64, 64, 64, 64, 20, 64, 20, 64, 64, 64]\n",
      "MLE - Target Score: 0.9, Percentile: 0.035\n",
      "MLE - Accuracy: 0.7667, Average Token Count: 791635.07\n"
     ]
    },
    {
     "name": "stderr",
     "output_type": "stream",
     "text": []
    },
    {
     "name": "stdout",
     "output_type": "stream",
     "text": [
      "MLE Min N Required [20, 64, 64, 64, 64, 64, 64, 20, 40, 20, 64, 64, 20, 64, 64, 63, 20, 64, 64, 64, 64, 64, 64, 64, 20, 64, 20, 64, 64, 64]\n",
      "MLE - Target Score: 0.9, Percentile: 0.05\n",
      "MLE - Accuracy: 0.7667, Average Token Count: 790092.77\n"
     ]
    },
    {
     "name": "stderr",
     "output_type": "stream",
     "text": []
    },
    {
     "name": "stdout",
     "output_type": "stream",
     "text": [
      "MLE Min N Required [20, 64, 64, 64, 64, 64, 64, 20, 35, 20, 64, 64, 20, 64, 64, 55, 20, 64, 64, 64, 64, 64, 64, 64, 20, 64, 20, 64, 64, 64]\n",
      "MLE - Target Score: 0.9, Percentile: 0.075\n",
      "MLE - Accuracy: 0.7667, Average Token Count: 786582.57\n"
     ]
    },
    {
     "name": "stderr",
     "output_type": "stream",
     "text": [
      "Target Score (MLE):  62%|██████▎   | 5/8 [00:13<00:08,  2.79s/it]"
     ]
    },
    {
     "name": "stdout",
     "output_type": "stream",
     "text": [
      "MLE Min N Required [20, 64, 64, 64, 64, 64, 64, 20, 31, 20, 64, 62, 20, 64, 64, 49, 20, 64, 64, 64, 64, 64, 64, 64, 20, 64, 20, 64, 64, 64]\n",
      "MLE - Target Score: 0.9, Percentile: 0.1\n",
      "MLE - Accuracy: 0.7667, Average Token Count: 783341.13\n"
     ]
    },
    {
     "name": "stderr",
     "output_type": "stream",
     "text": []
    },
    {
     "name": "stdout",
     "output_type": "stream",
     "text": [
      "MLE Min N Required [20, 64, 64, 64, 64, 64, 64, 20, 64, 20, 64, 64, 20, 64, 64, 64, 34, 64, 64, 64, 64, 64, 64, 64, 20, 64, 20, 64, 64, 64]\n",
      "MLE - Target Score: 0.925, Percentile: 0.01\n",
      "MLE - Accuracy: 0.7667, Average Token Count: 801602.73\n"
     ]
    },
    {
     "name": "stderr",
     "output_type": "stream",
     "text": []
    },
    {
     "name": "stdout",
     "output_type": "stream",
     "text": [
      "MLE Min N Required [20, 64, 64, 64, 64, 64, 64, 20, 64, 20, 64, 64, 20, 64, 64, 64, 29, 64, 64, 64, 64, 64, 64, 64, 20, 64, 20, 64, 64, 64]\n",
      "MLE - Target Score: 0.925, Percentile: 0.02\n",
      "MLE - Accuracy: 0.7667, Average Token Count: 799996.30\n"
     ]
    },
    {
     "name": "stderr",
     "output_type": "stream",
     "text": []
    },
    {
     "name": "stdout",
     "output_type": "stream",
     "text": [
      "MLE Min N Required [20, 64, 64, 64, 64, 64, 64, 20, 64, 20, 64, 64, 20, 64, 64, 64, 25, 64, 64, 64, 64, 64, 64, 64, 20, 64, 20, 64, 64, 64]\n",
      "MLE - Target Score: 0.925, Percentile: 0.035\n",
      "MLE - Accuracy: 0.7667, Average Token Count: 798209.13\n"
     ]
    },
    {
     "name": "stderr",
     "output_type": "stream",
     "text": []
    },
    {
     "name": "stdout",
     "output_type": "stream",
     "text": [
      "MLE Min N Required [20, 64, 64, 64, 64, 64, 64, 20, 64, 20, 64, 64, 20, 64, 64, 64, 22, 64, 64, 64, 64, 64, 64, 64, 20, 64, 20, 64, 64, 64]\n",
      "MLE - Target Score: 0.925, Percentile: 0.05\n",
      "MLE - Accuracy: 0.7667, Average Token Count: 797276.63\n"
     ]
    },
    {
     "name": "stderr",
     "output_type": "stream",
     "text": []
    },
    {
     "name": "stdout",
     "output_type": "stream",
     "text": [
      "MLE Min N Required [20, 64, 64, 64, 64, 64, 64, 20, 64, 20, 64, 64, 20, 64, 64, 64, 20, 64, 64, 64, 64, 64, 64, 64, 20, 64, 20, 64, 64, 64]\n",
      "MLE - Target Score: 0.925, Percentile: 0.075\n",
      "MLE - Accuracy: 0.7667, Average Token Count: 796694.93\n"
     ]
    },
    {
     "name": "stderr",
     "output_type": "stream",
     "text": [
      "Target Score (MLE):  75%|███████▌  | 6/8 [00:16<00:05,  2.94s/it]"
     ]
    },
    {
     "name": "stdout",
     "output_type": "stream",
     "text": [
      "MLE Min N Required [20, 64, 64, 64, 64, 64, 64, 20, 64, 20, 64, 64, 20, 64, 64, 64, 20, 64, 64, 64, 64, 64, 64, 64, 20, 64, 20, 64, 64, 64]\n",
      "MLE - Target Score: 0.925, Percentile: 0.1\n",
      "MLE - Accuracy: 0.7667, Average Token Count: 796694.93\n"
     ]
    },
    {
     "name": "stderr",
     "output_type": "stream",
     "text": []
    },
    {
     "name": "stdout",
     "output_type": "stream",
     "text": [
      "MLE Min N Required [20, 64, 64, 64, 64, 64, 64, 20, 64, 20, 64, 64, 20, 64, 64, 64, 56, 64, 64, 64, 64, 64, 64, 64, 20, 64, 20, 64, 64, 64]\n",
      "MLE - Target Score: 0.95, Percentile: 0.01\n",
      "MLE - Accuracy: 0.7667, Average Token Count: 808348.67\n"
     ]
    },
    {
     "name": "stderr",
     "output_type": "stream",
     "text": []
    },
    {
     "name": "stdout",
     "output_type": "stream",
     "text": [
      "MLE Min N Required [20, 64, 64, 64, 64, 64, 64, 20, 64, 20, 64, 64, 20, 64, 64, 64, 47, 64, 64, 64, 64, 64, 64, 64, 20, 64, 20, 64, 64, 64]\n",
      "MLE - Target Score: 0.95, Percentile: 0.02\n",
      "MLE - Accuracy: 0.7667, Average Token Count: 805360.97\n"
     ]
    },
    {
     "name": "stderr",
     "output_type": "stream",
     "text": []
    },
    {
     "name": "stdout",
     "output_type": "stream",
     "text": [
      "MLE Min N Required [20, 64, 64, 64, 64, 64, 64, 20, 64, 20, 64, 64, 20, 64, 64, 64, 41, 64, 64, 64, 64, 64, 64, 64, 20, 64, 20, 64, 64, 64]\n",
      "MLE - Target Score: 0.95, Percentile: 0.035\n",
      "MLE - Accuracy: 0.7667, Average Token Count: 803820.73\n"
     ]
    },
    {
     "name": "stderr",
     "output_type": "stream",
     "text": []
    },
    {
     "name": "stdout",
     "output_type": "stream",
     "text": [
      "MLE Min N Required [20, 64, 64, 64, 64, 64, 64, 20, 64, 20, 64, 64, 20, 64, 64, 64, 36, 64, 64, 64, 64, 64, 64, 64, 20, 64, 20, 64, 64, 64]\n",
      "MLE - Target Score: 0.95, Percentile: 0.05\n",
      "MLE - Accuracy: 0.7667, Average Token Count: 802111.47\n"
     ]
    },
    {
     "name": "stderr",
     "output_type": "stream",
     "text": []
    },
    {
     "name": "stdout",
     "output_type": "stream",
     "text": [
      "MLE Min N Required [20, 64, 64, 64, 64, 64, 64, 20, 64, 20, 64, 64, 20, 64, 64, 64, 32, 64, 64, 64, 64, 64, 64, 64, 20, 64, 20, 64, 64, 64]\n",
      "MLE - Target Score: 0.95, Percentile: 0.075\n",
      "MLE - Accuracy: 0.7667, Average Token Count: 800930.83\n"
     ]
    },
    {
     "name": "stderr",
     "output_type": "stream",
     "text": [
      "Target Score (MLE):  88%|████████▊ | 7/8 [00:19<00:03,  3.02s/it]"
     ]
    },
    {
     "name": "stdout",
     "output_type": "stream",
     "text": [
      "MLE Min N Required [20, 64, 64, 64, 64, 64, 64, 20, 64, 20, 64, 64, 20, 64, 64, 64, 28, 64, 64, 64, 64, 64, 64, 64, 20, 64, 20, 64, 64, 64]\n",
      "MLE - Target Score: 0.95, Percentile: 0.1\n",
      "MLE - Accuracy: 0.7667, Average Token Count: 799500.23\n"
     ]
    },
    {
     "name": "stderr",
     "output_type": "stream",
     "text": []
    },
    {
     "name": "stdout",
     "output_type": "stream",
     "text": [
      "MLE Min N Required [20, 64, 64, 64, 64, 64, 64, 26, 64, 26, 64, 64, 47, 64, 64, 64, 64, 64, 64, 64, 64, 64, 64, 64, 20, 64, 20, 64, 64, 64]\n",
      "MLE - Target Score: 0.975, Percentile: 0.01\n",
      "MLE - Accuracy: 0.7667, Average Token Count: 819104.47\n"
     ]
    },
    {
     "name": "stderr",
     "output_type": "stream",
     "text": []
    },
    {
     "name": "stdout",
     "output_type": "stream",
     "text": [
      "MLE Min N Required [20, 64, 64, 64, 64, 64, 64, 22, 64, 22, 64, 64, 40, 64, 64, 64, 64, 64, 64, 64, 64, 64, 64, 64, 20, 64, 20, 64, 64, 64]\n",
      "MLE - Target Score: 0.975, Percentile: 0.02\n",
      "MLE - Accuracy: 0.7667, Average Token Count: 816033.60\n"
     ]
    },
    {
     "name": "stderr",
     "output_type": "stream",
     "text": []
    },
    {
     "name": "stdout",
     "output_type": "stream",
     "text": [
      "MLE Min N Required [20, 64, 64, 64, 64, 64, 64, 20, 64, 20, 64, 64, 34, 64, 64, 64, 64, 64, 64, 64, 64, 64, 64, 64, 20, 64, 20, 64, 64, 64]\n",
      "MLE - Target Score: 0.975, Percentile: 0.035\n",
      "MLE - Accuracy: 0.7667, Average Token Count: 814043.73\n"
     ]
    },
    {
     "name": "stderr",
     "output_type": "stream",
     "text": []
    },
    {
     "name": "stdout",
     "output_type": "stream",
     "text": [
      "MLE Min N Required [20, 64, 64, 64, 64, 64, 64, 20, 64, 20, 64, 64, 31, 64, 64, 64, 64, 64, 64, 64, 64, 64, 64, 64, 20, 64, 20, 64, 64, 64]\n",
      "MLE - Target Score: 0.975, Percentile: 0.05\n",
      "MLE - Accuracy: 0.7667, Average Token Count: 813423.60\n"
     ]
    },
    {
     "name": "stderr",
     "output_type": "stream",
     "text": []
    },
    {
     "name": "stdout",
     "output_type": "stream",
     "text": [
      "MLE Min N Required [20, 64, 64, 64, 64, 64, 64, 20, 64, 20, 64, 64, 26, 64, 64, 64, 64, 64, 64, 64, 64, 64, 64, 64, 20, 64, 20, 64, 64, 64]\n",
      "MLE - Target Score: 0.975, Percentile: 0.075\n",
      "MLE - Accuracy: 0.7667, Average Token Count: 812274.93\n"
     ]
    },
    {
     "name": "stderr",
     "output_type": "stream",
     "text": [
      "Target Score (MLE): 100%|██████████| 8/8 [00:22<00:00,  2.87s/it]\n"
     ]
    },
    {
     "name": "stdout",
     "output_type": "stream",
     "text": [
      "MLE Min N Required [20, 64, 64, 64, 64, 64, 64, 20, 64, 20, 64, 64, 24, 64, 64, 64, 61, 64, 64, 64, 64, 64, 64, 64, 20, 64, 20, 64, 64, 64]\n",
      "MLE - Target Score: 0.975, Percentile: 0.1\n",
      "MLE - Accuracy: 0.7667, Average Token Count: 811144.40\n",
      "\n",
      "Evaluating MAP Results...\n"
     ]
    },
    {
     "name": "stderr",
     "output_type": "stream",
     "text": [
      "Target Score (MAP):   0%|          | 0/8 [00:00<?, ?it/s]"
     ]
    },
    {
     "name": "stdout",
     "output_type": "stream",
     "text": [
      "MAP Min N Required [20, 64, 64, 64, 32, 20, 24, 20, 20, 20, 64, 20, 20, 64, 38, 20, 20, 30, 64, 20, 64, 64, 64, 20, 20, 64, 20, 64, 20, 64]\n",
      "MAP - Target Score: 0.7, Percentile: 0.01\n",
      "MAP - Accuracy: 0.7667, Average Token Count: 613864.90\n"
     ]
    },
    {
     "name": "stderr",
     "output_type": "stream",
     "text": []
    },
    {
     "name": "stdout",
     "output_type": "stream",
     "text": [
      "MAP Min N Required [20, 64, 64, 64, 27, 20, 20, 20, 20, 20, 64, 20, 20, 64, 33, 20, 20, 25, 57, 20, 64, 54, 64, 20, 20, 64, 20, 64, 20, 64]\n",
      "MAP - Target Score: 0.7, Percentile: 0.02\n",
      "MAP - Accuracy: 0.7667, Average Token Count: 595297.23\n"
     ]
    },
    {
     "name": "stderr",
     "output_type": "stream",
     "text": []
    },
    {
     "name": "stdout",
     "output_type": "stream",
     "text": [
      "MAP Min N Required [20, 64, 64, 64, 23, 20, 20, 20, 20, 20, 64, 20, 20, 64, 28, 20, 20, 22, 49, 20, 64, 47, 64, 20, 20, 64, 20, 64, 20, 58]\n",
      "MAP - Target Score: 0.7, Percentile: 0.035\n",
      "MAP - Accuracy: 0.7667, Average Token Count: 579505.87\n"
     ]
    },
    {
     "name": "stderr",
     "output_type": "stream",
     "text": []
    },
    {
     "name": "stdout",
     "output_type": "stream",
     "text": [
      "MAP Min N Required [20, 64, 64, 64, 21, 20, 20, 20, 20, 20, 64, 20, 20, 64, 25, 20, 20, 20, 44, 20, 64, 42, 64, 20, 20, 64, 20, 64, 20, 52]\n",
      "MAP - Target Score: 0.7, Percentile: 0.05\n",
      "MAP - Accuracy: 0.7667, Average Token Count: 568816.60\n"
     ]
    },
    {
     "name": "stderr",
     "output_type": "stream",
     "text": []
    },
    {
     "name": "stdout",
     "output_type": "stream",
     "text": [
      "MAP Min N Required [20, 64, 64, 64, 20, 20, 20, 20, 20, 20, 64, 20, 20, 64, 22, 20, 20, 20, 38, 20, 64, 36, 64, 20, 20, 64, 20, 64, 20, 45]\n",
      "MAP - Target Score: 0.7, Percentile: 0.075\n",
      "MAP - Accuracy: 0.7667, Average Token Count: 558241.17\n"
     ]
    },
    {
     "name": "stderr",
     "output_type": "stream",
     "text": [
      "Target Score (MAP):  12%|█▎        | 1/8 [00:01<00:13,  1.89s/it]"
     ]
    },
    {
     "name": "stdout",
     "output_type": "stream",
     "text": [
      "MAP Min N Required [20, 64, 64, 64, 20, 20, 20, 20, 20, 20, 64, 20, 20, 64, 20, 20, 20, 20, 34, 20, 64, 32, 64, 20, 20, 64, 20, 64, 20, 40]\n",
      "MAP - Target Score: 0.7, Percentile: 0.1\n",
      "MAP - Accuracy: 0.7667, Average Token Count: 550788.77\n"
     ]
    },
    {
     "name": "stderr",
     "output_type": "stream",
     "text": []
    },
    {
     "name": "stdout",
     "output_type": "stream",
     "text": [
      "MAP Min N Required [20, 64, 64, 64, 64, 28, 50, 20, 20, 20, 64, 20, 20, 64, 64, 20, 20, 64, 64, 51, 64, 64, 64, 20, 20, 64, 20, 64, 31, 64]\n",
      "MAP - Target Score: 0.75, Percentile: 0.01\n",
      "MAP - Accuracy: 0.7667, Average Token Count: 693014.53\n"
     ]
    },
    {
     "name": "stderr",
     "output_type": "stream",
     "text": []
    },
    {
     "name": "stdout",
     "output_type": "stream",
     "text": [
      "MAP Min N Required [20, 64, 64, 64, 64, 24, 43, 20, 20, 20, 64, 20, 20, 64, 64, 20, 20, 64, 64, 44, 64, 64, 64, 20, 20, 64, 20, 64, 27, 64]\n",
      "MAP - Target Score: 0.75, Percentile: 0.02\n",
      "MAP - Accuracy: 0.7667, Average Token Count: 681827.67\n"
     ]
    },
    {
     "name": "stderr",
     "output_type": "stream",
     "text": []
    },
    {
     "name": "stdout",
     "output_type": "stream",
     "text": [
      "MAP Min N Required [20, 64, 64, 64, 64, 20, 37, 20, 20, 20, 64, 20, 20, 64, 64, 20, 20, 64, 64, 38, 64, 64, 64, 20, 20, 64, 20, 64, 23, 64]\n",
      "MAP - Target Score: 0.75, Percentile: 0.035\n",
      "MAP - Accuracy: 0.7667, Average Token Count: 672384.53\n"
     ]
    },
    {
     "name": "stderr",
     "output_type": "stream",
     "text": []
    },
    {
     "name": "stdout",
     "output_type": "stream",
     "text": [
      "MAP Min N Required [20, 64, 64, 64, 64, 20, 33, 20, 20, 20, 64, 20, 20, 64, 58, 20, 20, 64, 64, 34, 64, 64, 64, 20, 20, 64, 20, 64, 21, 64]\n",
      "MAP - Target Score: 0.75, Percentile: 0.05\n",
      "MAP - Accuracy: 0.7667, Average Token Count: 665252.33\n"
     ]
    },
    {
     "name": "stderr",
     "output_type": "stream",
     "text": []
    },
    {
     "name": "stdout",
     "output_type": "stream",
     "text": [
      "MAP Min N Required [20, 64, 64, 64, 64, 20, 29, 20, 20, 20, 64, 20, 20, 64, 51, 20, 20, 61, 64, 29, 64, 64, 64, 20, 20, 64, 20, 64, 20, 64]\n",
      "MAP - Target Score: 0.75, Percentile: 0.075\n",
      "MAP - Accuracy: 0.7667, Average Token Count: 655904.97\n"
     ]
    },
    {
     "name": "stderr",
     "output_type": "stream",
     "text": [
      "Target Score (MAP):  25%|██▌       | 2/8 [00:04<00:13,  2.17s/it]"
     ]
    },
    {
     "name": "stdout",
     "output_type": "stream",
     "text": [
      "MAP Min N Required [20, 64, 64, 64, 64, 20, 25, 20, 20, 20, 64, 20, 20, 64, 45, 20, 20, 54, 64, 26, 64, 64, 64, 20, 20, 64, 20, 64, 20, 64]\n",
      "MAP - Target Score: 0.75, Percentile: 0.1\n",
      "MAP - Accuracy: 0.7667, Average Token Count: 646500.80\n"
     ]
    },
    {
     "name": "stderr",
     "output_type": "stream",
     "text": []
    },
    {
     "name": "stdout",
     "output_type": "stream",
     "text": [
      "MAP Min N Required [20, 64, 64, 64, 64, 50, 64, 20, 20, 20, 64, 20, 20, 64, 64, 20, 20, 64, 64, 64, 64, 64, 64, 42, 20, 64, 20, 64, 62, 64]\n",
      "MAP - Target Score: 0.8, Percentile: 0.01\n",
      "MAP - Accuracy: 0.7667, Average Token Count: 748194.87\n"
     ]
    },
    {
     "name": "stderr",
     "output_type": "stream",
     "text": []
    },
    {
     "name": "stdout",
     "output_type": "stream",
     "text": [
      "MAP Min N Required [20, 64, 64, 64, 64, 43, 64, 20, 20, 20, 64, 20, 20, 64, 64, 20, 20, 64, 64, 64, 64, 64, 64, 36, 20, 64, 20, 64, 52, 64]\n",
      "MAP - Target Score: 0.8, Percentile: 0.02\n",
      "MAP - Accuracy: 0.7667, Average Token Count: 734540.23\n"
     ]
    },
    {
     "name": "stderr",
     "output_type": "stream",
     "text": []
    },
    {
     "name": "stdout",
     "output_type": "stream",
     "text": [
      "MAP Min N Required [20, 64, 64, 64, 64, 37, 64, 20, 20, 20, 64, 20, 20, 64, 64, 20, 20, 64, 64, 64, 64, 64, 64, 31, 20, 64, 20, 64, 45, 64]\n",
      "MAP - Target Score: 0.8, Percentile: 0.035\n",
      "MAP - Accuracy: 0.7667, Average Token Count: 724736.00\n"
     ]
    },
    {
     "name": "stderr",
     "output_type": "stream",
     "text": []
    },
    {
     "name": "stdout",
     "output_type": "stream",
     "text": [
      "MAP Min N Required [20, 64, 64, 64, 64, 33, 64, 20, 20, 20, 64, 20, 20, 64, 64, 20, 20, 64, 64, 64, 64, 64, 64, 28, 20, 64, 20, 64, 40, 64]\n",
      "MAP - Target Score: 0.8, Percentile: 0.05\n",
      "MAP - Accuracy: 0.7667, Average Token Count: 718270.57\n"
     ]
    },
    {
     "name": "stderr",
     "output_type": "stream",
     "text": []
    },
    {
     "name": "stdout",
     "output_type": "stream",
     "text": [
      "MAP Min N Required [20, 64, 64, 64, 64, 29, 64, 20, 20, 20, 64, 20, 20, 64, 64, 20, 20, 64, 64, 64, 64, 64, 64, 24, 20, 64, 20, 64, 35, 64]\n",
      "MAP - Target Score: 0.8, Percentile: 0.075\n",
      "MAP - Accuracy: 0.7667, Average Token Count: 710178.30\n"
     ]
    },
    {
     "name": "stderr",
     "output_type": "stream",
     "text": [
      "Target Score (MAP):  38%|███▊      | 3/8 [00:06<00:11,  2.37s/it]"
     ]
    },
    {
     "name": "stdout",
     "output_type": "stream",
     "text": [
      "MAP Min N Required [20, 64, 64, 64, 64, 25, 62, 20, 20, 20, 64, 20, 20, 64, 64, 20, 20, 64, 64, 64, 64, 64, 64, 21, 20, 64, 20, 64, 31, 64]\n",
      "MAP - Target Score: 0.8, Percentile: 0.1\n",
      "MAP - Accuracy: 0.7667, Average Token Count: 702422.27\n"
     ]
    },
    {
     "name": "stderr",
     "output_type": "stream",
     "text": []
    },
    {
     "name": "stdout",
     "output_type": "stream",
     "text": [
      "MAP Min N Required [20, 64, 64, 64, 64, 64, 64, 20, 20, 20, 64, 21, 20, 64, 64, 37, 21, 64, 64, 64, 64, 64, 64, 64, 23, 64, 22, 64, 64, 64]\n",
      "MAP - Target Score: 0.85, Percentile: 0.01\n",
      "MAP - Accuracy: 0.7667, Average Token Count: 769502.30\n"
     ]
    },
    {
     "name": "stderr",
     "output_type": "stream",
     "text": []
    },
    {
     "name": "stdout",
     "output_type": "stream",
     "text": [
      "MAP Min N Required [20, 64, 64, 64, 64, 64, 64, 20, 20, 20, 64, 20, 20, 64, 64, 31, 20, 64, 64, 64, 64, 64, 64, 64, 20, 64, 20, 64, 64, 64]\n",
      "MAP - Target Score: 0.85, Percentile: 0.02\n",
      "MAP - Accuracy: 0.7667, Average Token Count: 766381.17\n"
     ]
    },
    {
     "name": "stderr",
     "output_type": "stream",
     "text": []
    },
    {
     "name": "stdout",
     "output_type": "stream",
     "text": [
      "MAP Min N Required [20, 64, 64, 64, 64, 64, 64, 20, 20, 20, 64, 20, 20, 64, 64, 27, 20, 64, 64, 64, 64, 64, 64, 64, 20, 64, 20, 64, 64, 64]\n",
      "MAP - Target Score: 0.85, Percentile: 0.035\n",
      "MAP - Accuracy: 0.7667, Average Token Count: 765218.60\n"
     ]
    },
    {
     "name": "stderr",
     "output_type": "stream",
     "text": []
    },
    {
     "name": "stdout",
     "output_type": "stream",
     "text": [
      "MAP Min N Required [20, 64, 64, 64, 64, 64, 64, 20, 20, 20, 64, 20, 20, 64, 64, 24, 20, 64, 64, 64, 64, 64, 64, 64, 20, 64, 20, 64, 64, 64]\n",
      "MAP - Target Score: 0.85, Percentile: 0.05\n",
      "MAP - Accuracy: 0.7667, Average Token Count: 764428.63\n"
     ]
    },
    {
     "name": "stderr",
     "output_type": "stream",
     "text": []
    },
    {
     "name": "stdout",
     "output_type": "stream",
     "text": [
      "MAP Min N Required [20, 64, 64, 64, 64, 57, 64, 20, 20, 20, 64, 20, 20, 64, 64, 21, 20, 64, 64, 64, 64, 64, 64, 64, 20, 64, 20, 64, 64, 64]\n",
      "MAP - Target Score: 0.85, Percentile: 0.075\n",
      "MAP - Accuracy: 0.7667, Average Token Count: 759949.43\n"
     ]
    },
    {
     "name": "stderr",
     "output_type": "stream",
     "text": [
      "Target Score (MAP):  50%|█████     | 4/8 [00:09<00:10,  2.58s/it]"
     ]
    },
    {
     "name": "stdout",
     "output_type": "stream",
     "text": [
      "MAP Min N Required [20, 64, 64, 64, 64, 51, 64, 20, 20, 20, 64, 20, 20, 64, 64, 20, 20, 64, 64, 64, 64, 64, 64, 64, 20, 64, 20, 64, 64, 64]\n",
      "MAP - Target Score: 0.85, Percentile: 0.1\n",
      "MAP - Accuracy: 0.7667, Average Token Count: 757730.77\n"
     ]
    },
    {
     "name": "stderr",
     "output_type": "stream",
     "text": []
    },
    {
     "name": "stdout",
     "output_type": "stream",
     "text": [
      "MAP Min N Required [31, 64, 64, 64, 64, 64, 64, 20, 64, 20, 64, 64, 20, 64, 64, 64, 39, 64, 64, 64, 64, 64, 64, 64, 36, 64, 34, 64, 64, 64]\n",
      "MAP - Target Score: 0.9, Percentile: 0.01\n",
      "MAP - Accuracy: 0.7667, Average Token Count: 810710.40\n"
     ]
    },
    {
     "name": "stderr",
     "output_type": "stream",
     "text": []
    },
    {
     "name": "stdout",
     "output_type": "stream",
     "text": [
      "MAP Min N Required [26, 64, 64, 64, 64, 64, 64, 20, 59, 20, 64, 64, 20, 64, 64, 64, 33, 64, 64, 64, 64, 64, 64, 64, 31, 64, 29, 64, 64, 64]\n",
      "MAP - Target Score: 0.9, Percentile: 0.02\n",
      "MAP - Accuracy: 0.7667, Average Token Count: 804882.03\n"
     ]
    },
    {
     "name": "stderr",
     "output_type": "stream",
     "text": []
    },
    {
     "name": "stdout",
     "output_type": "stream",
     "text": [
      "MAP Min N Required [22, 64, 64, 64, 64, 64, 64, 20, 51, 20, 64, 64, 20, 64, 64, 64, 29, 64, 64, 64, 64, 64, 64, 64, 27, 64, 25, 64, 64, 64]\n",
      "MAP - Target Score: 0.9, Percentile: 0.035\n",
      "MAP - Accuracy: 0.7667, Average Token Count: 799280.43\n"
     ]
    },
    {
     "name": "stderr",
     "output_type": "stream",
     "text": []
    },
    {
     "name": "stdout",
     "output_type": "stream",
     "text": [
      "MAP Min N Required [20, 64, 64, 64, 64, 64, 64, 20, 45, 20, 64, 64, 20, 64, 64, 64, 26, 64, 64, 64, 64, 64, 64, 64, 24, 64, 22, 64, 64, 64]\n",
      "MAP - Target Score: 0.9, Percentile: 0.05\n",
      "MAP - Accuracy: 0.7667, Average Token Count: 794765.07\n"
     ]
    },
    {
     "name": "stderr",
     "output_type": "stream",
     "text": []
    },
    {
     "name": "stdout",
     "output_type": "stream",
     "text": [
      "MAP Min N Required [20, 64, 64, 64, 64, 64, 64, 20, 39, 20, 64, 64, 20, 64, 64, 64, 22, 64, 64, 64, 64, 64, 64, 64, 21, 64, 20, 64, 64, 64]\n",
      "MAP - Target Score: 0.9, Percentile: 0.075\n",
      "MAP - Accuracy: 0.7667, Average Token Count: 790946.93\n"
     ]
    },
    {
     "name": "stderr",
     "output_type": "stream",
     "text": [
      "Target Score (MAP):  62%|██████▎   | 5/8 [00:13<00:08,  2.92s/it]"
     ]
    },
    {
     "name": "stdout",
     "output_type": "stream",
     "text": [
      "MAP Min N Required [20, 64, 64, 64, 64, 64, 64, 20, 35, 20, 64, 64, 20, 64, 64, 60, 20, 64, 64, 64, 64, 64, 64, 64, 20, 64, 20, 64, 64, 64]\n",
      "MAP - Target Score: 0.9, Percentile: 0.1\n",
      "MAP - Accuracy: 0.7667, Average Token Count: 788070.43\n"
     ]
    },
    {
     "name": "stderr",
     "output_type": "stream",
     "text": []
    },
    {
     "name": "stdout",
     "output_type": "stream",
     "text": [
      "MAP Min N Required [42, 64, 64, 64, 64, 64, 64, 29, 64, 20, 64, 64, 20, 64, 64, 64, 59, 64, 64, 64, 64, 64, 64, 64, 49, 64, 46, 64, 64, 64]\n",
      "MAP - Target Score: 0.925, Percentile: 0.01\n",
      "MAP - Accuracy: 0.7667, Average Token Count: 825329.93\n"
     ]
    },
    {
     "name": "stderr",
     "output_type": "stream",
     "text": []
    },
    {
     "name": "stdout",
     "output_type": "stream",
     "text": [
      "MAP Min N Required [35, 64, 64, 64, 64, 64, 64, 25, 64, 20, 64, 64, 20, 64, 64, 64, 50, 64, 64, 64, 64, 64, 64, 64, 42, 64, 39, 64, 64, 64]\n",
      "MAP - Target Score: 0.925, Percentile: 0.02\n",
      "MAP - Accuracy: 0.7667, Average Token Count: 817811.03\n"
     ]
    },
    {
     "name": "stderr",
     "output_type": "stream",
     "text": []
    },
    {
     "name": "stdout",
     "output_type": "stream",
     "text": [
      "MAP Min N Required [30, 64, 64, 64, 64, 64, 64, 22, 64, 20, 64, 64, 20, 64, 64, 64, 43, 64, 64, 64, 64, 64, 64, 64, 36, 64, 34, 64, 64, 64]\n",
      "MAP - Target Score: 0.925, Percentile: 0.035\n",
      "MAP - Accuracy: 0.7667, Average Token Count: 811927.17\n"
     ]
    },
    {
     "name": "stderr",
     "output_type": "stream",
     "text": []
    },
    {
     "name": "stdout",
     "output_type": "stream",
     "text": [
      "MAP Min N Required [27, 64, 64, 64, 64, 64, 64, 20, 64, 20, 64, 64, 20, 64, 64, 64, 39, 64, 64, 64, 64, 64, 64, 64, 32, 64, 30, 64, 64, 64]\n",
      "MAP - Target Score: 0.925, Percentile: 0.05\n",
      "MAP - Accuracy: 0.7667, Average Token Count: 808568.37\n"
     ]
    },
    {
     "name": "stderr",
     "output_type": "stream",
     "text": []
    },
    {
     "name": "stdout",
     "output_type": "stream",
     "text": [
      "MAP Min N Required [24, 64, 64, 64, 64, 64, 64, 20, 64, 20, 64, 64, 20, 64, 64, 64, 34, 64, 64, 64, 64, 64, 64, 64, 28, 64, 26, 64, 64, 64]\n",
      "MAP - Target Score: 0.925, Percentile: 0.075\n",
      "MAP - Accuracy: 0.7667, Average Token Count: 805008.77\n"
     ]
    },
    {
     "name": "stderr",
     "output_type": "stream",
     "text": [
      "Target Score (MAP):  75%|███████▌  | 6/8 [00:16<00:06,  3.11s/it]"
     ]
    },
    {
     "name": "stdout",
     "output_type": "stream",
     "text": [
      "MAP Min N Required [21, 64, 64, 64, 64, 64, 64, 20, 64, 20, 64, 64, 20, 64, 64, 64, 30, 64, 64, 64, 64, 64, 64, 64, 25, 64, 23, 64, 64, 64]\n",
      "MAP - Target Score: 0.925, Percentile: 0.1\n",
      "MAP - Accuracy: 0.7667, Average Token Count: 802210.30\n"
     ]
    },
    {
     "name": "stderr",
     "output_type": "stream",
     "text": []
    },
    {
     "name": "stdout",
     "output_type": "stream",
     "text": [
      "MAP Min N Required [64, 64, 64, 64, 64, 64, 64, 49, 64, 20, 64, 64, 24, 64, 64, 64, 64, 64, 64, 64, 64, 64, 64, 64, 64, 64, 64, 64, 64, 64]\n",
      "MAP - Target Score: 0.95, Percentile: 0.01\n",
      "MAP - Accuracy: 0.7667, Average Token Count: 842212.70\n"
     ]
    },
    {
     "name": "stderr",
     "output_type": "stream",
     "text": []
    },
    {
     "name": "stdout",
     "output_type": "stream",
     "text": [
      "MAP Min N Required [54, 64, 64, 64, 64, 64, 64, 42, 64, 20, 64, 64, 20, 64, 64, 64, 64, 64, 64, 64, 64, 64, 64, 64, 64, 64, 60, 64, 64, 64]\n",
      "MAP - Target Score: 0.95, Percentile: 0.02\n",
      "MAP - Accuracy: 0.7667, Average Token Count: 837703.50\n"
     ]
    },
    {
     "name": "stderr",
     "output_type": "stream",
     "text": []
    },
    {
     "name": "stdout",
     "output_type": "stream",
     "text": [
      "MAP Min N Required [46, 64, 64, 64, 64, 64, 64, 36, 64, 20, 64, 64, 20, 64, 64, 64, 64, 64, 64, 64, 64, 64, 64, 64, 55, 64, 51, 64, 64, 64]\n",
      "MAP - Target Score: 0.95, Percentile: 0.035\n",
      "MAP - Accuracy: 0.7667, Average Token Count: 831601.23\n"
     ]
    },
    {
     "name": "stderr",
     "output_type": "stream",
     "text": []
    },
    {
     "name": "stdout",
     "output_type": "stream",
     "text": [
      "MAP Min N Required [42, 64, 64, 64, 64, 64, 64, 32, 64, 20, 64, 64, 20, 64, 64, 64, 64, 64, 64, 64, 64, 64, 64, 64, 49, 64, 46, 64, 64, 64]\n",
      "MAP - Target Score: 0.95, Percentile: 0.05\n",
      "MAP - Accuracy: 0.7667, Average Token Count: 828008.13\n"
     ]
    },
    {
     "name": "stderr",
     "output_type": "stream",
     "text": []
    },
    {
     "name": "stdout",
     "output_type": "stream",
     "text": [
      "MAP Min N Required [36, 64, 64, 64, 64, 64, 64, 28, 64, 20, 64, 64, 20, 64, 64, 64, 57, 64, 64, 64, 64, 64, 64, 64, 43, 64, 40, 64, 64, 64]\n",
      "MAP - Target Score: 0.95, Percentile: 0.075\n",
      "MAP - Accuracy: 0.7667, Average Token Count: 820872.00\n"
     ]
    },
    {
     "name": "stderr",
     "output_type": "stream",
     "text": [
      "Target Score (MAP):  88%|████████▊ | 7/8 [00:20<00:03,  3.26s/it]"
     ]
    },
    {
     "name": "stdout",
     "output_type": "stream",
     "text": [
      "MAP Min N Required [32, 64, 64, 64, 64, 64, 64, 25, 64, 20, 64, 64, 20, 64, 64, 64, 51, 64, 64, 64, 64, 64, 64, 64, 38, 64, 35, 64, 64, 64]\n",
      "MAP - Target Score: 0.95, Percentile: 0.1\n",
      "MAP - Accuracy: 0.7667, Average Token Count: 816086.40\n"
     ]
    },
    {
     "name": "stderr",
     "output_type": "stream",
     "text": []
    },
    {
     "name": "stdout",
     "output_type": "stream",
     "text": [
      "MAP Min N Required [64, 64, 64, 64, 64, 64, 64, 64, 64, 44, 64, 64, 59, 64, 64, 64, 64, 64, 64, 64, 64, 64, 64, 64, 64, 64, 64, 64, 64, 64]\n",
      "MAP - Target Score: 0.975, Percentile: 0.01\n",
      "MAP - Accuracy: 0.7667, Average Token Count: 857615.10\n"
     ]
    },
    {
     "name": "stderr",
     "output_type": "stream",
     "text": []
    },
    {
     "name": "stdout",
     "output_type": "stream",
     "text": [
      "MAP Min N Required [64, 64, 64, 64, 64, 64, 64, 64, 64, 37, 64, 64, 50, 64, 64, 64, 64, 64, 64, 64, 64, 64, 64, 64, 64, 64, 64, 64, 64, 64]\n",
      "MAP - Target Score: 0.975, Percentile: 0.02\n",
      "MAP - Accuracy: 0.7667, Average Token Count: 854397.27\n"
     ]
    },
    {
     "name": "stderr",
     "output_type": "stream",
     "text": []
    },
    {
     "name": "stdout",
     "output_type": "stream",
     "text": [
      "MAP Min N Required [64, 64, 64, 64, 64, 64, 64, 64, 64, 32, 64, 64, 43, 64, 64, 64, 64, 64, 64, 64, 64, 64, 64, 64, 64, 64, 64, 64, 64, 64]\n",
      "MAP - Target Score: 0.975, Percentile: 0.035\n",
      "MAP - Accuracy: 0.7667, Average Token Count: 851832.73\n"
     ]
    },
    {
     "name": "stderr",
     "output_type": "stream",
     "text": []
    },
    {
     "name": "stdout",
     "output_type": "stream",
     "text": [
      "MAP Min N Required [64, 64, 64, 64, 64, 64, 64, 64, 64, 29, 64, 64, 38, 64, 64, 64, 64, 64, 64, 64, 64, 64, 64, 64, 64, 64, 64, 64, 64, 64]\n",
      "MAP - Target Score: 0.975, Percentile: 0.05\n",
      "MAP - Accuracy: 0.7667, Average Token Count: 850278.97\n"
     ]
    },
    {
     "name": "stderr",
     "output_type": "stream",
     "text": []
    },
    {
     "name": "stdout",
     "output_type": "stream",
     "text": [
      "MAP Min N Required [64, 64, 64, 64, 64, 64, 64, 63, 64, 25, 64, 64, 33, 64, 64, 64, 64, 64, 64, 64, 64, 64, 64, 64, 64, 64, 64, 64, 64, 64]\n",
      "MAP - Target Score: 0.975, Percentile: 0.075\n",
      "MAP - Accuracy: 0.7667, Average Token Count: 848125.17\n"
     ]
    },
    {
     "name": "stderr",
     "output_type": "stream",
     "text": [
      "Target Score (MAP): 100%|██████████| 8/8 [00:24<00:00,  3.04s/it]"
     ]
    },
    {
     "name": "stdout",
     "output_type": "stream",
     "text": [
      "MAP Min N Required [64, 64, 64, 64, 64, 64, 64, 56, 64, 22, 64, 64, 30, 64, 64, 64, 64, 64, 64, 64, 64, 64, 64, 64, 64, 64, 64, 64, 64, 64]\n",
      "MAP - Target Score: 0.975, Percentile: 0.1\n",
      "MAP - Accuracy: 0.7667, Average Token Count: 845238.40\n"
     ]
    },
    {
     "name": "stderr",
     "output_type": "stream",
     "text": [
      "\n"
     ]
    },
    {
     "data": {
      "image/png": "[encoded data removed]",
      "text/plain": [
       "<Figure size 1200x800 with 1 Axes>"
      ]
     },
     "metadata": {},
     "output_type": "display_data"
    },
    {
     "name": "stdout",
     "output_type": "stream",
     "text": [
      "\n",
      "MLE Pareto-optimal configurations:\n",
      "Target Score: 0.7, Percentile: 0.1, Accuracy: 0.7667, Avg Token Count: 606270.83\n",
      "\n",
      "MAP Pareto-optimal configurations:\n",
      "Target Score: 0.7, Percentile: 0.1, Accuracy: 0.7667, Avg Token Count: 550788.77\n"
     ]
    }
   ],
   "source": [
    "max_N_panel = 64\n",
    "print(\"Target Score Panel:\", target_score_panel_values)\n",
    "print(\"Percentile Panel:\", percentile_panel_values)\n",
    "print(\"Max N:\", max_N_panel)\n",
    "\n",
    "# Evaluate MLE results\n",
    "print(\"\\nEvaluating MLE Results...\")\n",
    "truncated_normal_params_all = mle_estimated_params\n",
    "mle_grid_search_results = []\n",
    "\n",
    "for target_score in tqdm(target_score_panel_values, desc=\"Target Score (MLE)\"):\n",
    "    for percentile in tqdm(percentile_panel_values, desc=\"Percentile\", leave=False):\n",
    "        min_N_required = []\n",
    "        for i, (mu, sigma) in enumerate(truncated_normal_params_all):\n",
    "            min_N = find_min_N_for_threshold(mu, sigma, target_score=target_score, \n",
    "                                        percentile=percentile, max_N=max_N_panel)\n",
    "            if min_N < peek_number:\n",
    "                min_N = peek_number\n",
    "            min_N_required.append(min_N)\n",
    "        print(\"MLE Min N Required\", min_N_required)\n",
    "        \n",
    "        # Evaluate model performance with these parameters\n",
    "        correct = 0\n",
    "        entire_token_count = 0\n",
    "\n",
    "        for idx, item in enumerate(val_texts):\n",
    "            N = min_N_required[idx]\n",
    "            completions = val_completions[idx][0][:N]\n",
    "            scores = val_scores[idx][0][:N]\n",
    "            completion_tokens = val_completion_tokens[idx][0][:N]\n",
    "            total_tokens = sum(completion_tokens)\n",
    "\n",
    "            highest_scores_idx = scores.index(max(scores))\n",
    "\n",
    "            while completions[highest_scores_idx] == \"\":\n",
    "                scores[highest_scores_idx] = 0 \n",
    "                if max(scores) == 0: \n",
    "                    break\n",
    "                highest_scores_idx = scores.index(max(scores))\n",
    "\n",
    "            output = completions[highest_scores_idx]\n",
    "            answer = get_answer(output)\n",
    "\n",
    "            if verify_extracted_answer(val_gt_answers[idx], answer):\n",
    "                correct += 1\n",
    "            entire_token_count += total_tokens\n",
    "\n",
    "        accuracy = correct / len(val_texts)\n",
    "        average_token_count = entire_token_count / len(val_texts)\n",
    "        \n",
    "        print(f\"MLE - Target Score: {target_score}, Percentile: {percentile}\")\n",
    "        print(f\"MLE - Accuracy: {accuracy:.4f}, Average Token Count: {average_token_count:.2f}\")\n",
    "        \n",
    "        mle_grid_search_results.append({\n",
    "            'target_score': target_score,\n",
    "            'percentile': percentile,\n",
    "            'accuracy': accuracy,\n",
    "            'average_token_count': average_token_count\n",
    "        })\n",
    "        \n",
    "with open(f'{DATASET}_OptScale_MLE_results_{max_N_panel}.json', 'w') as f:\n",
    "    json.dump(mle_grid_search_results, f)\n",
    "\n",
    "\n",
    "# Evaluate MAP results\n",
    "print(\"\\nEvaluating MAP Results...\")\n",
    "truncated_normal_params_all = map_estimated_params\n",
    "map_grid_search_results = []\n",
    "\n",
    "for target_score in tqdm(target_score_panel_values, desc=\"Target Score (MAP)\"):\n",
    "    for percentile in tqdm(percentile_panel_values, desc=\"Percentile\", leave=False):\n",
    "        min_N_required = []\n",
    "        for i, (mu, sigma) in enumerate(truncated_normal_params_all):\n",
    "            min_N = find_min_N_for_threshold(mu, sigma, target_score=target_score, \n",
    "                                        percentile=percentile, max_N=max_N_panel)\n",
    "            if min_N < peek_number:\n",
    "                min_N = peek_number\n",
    "            min_N_required.append(min_N)\n",
    "        print(\"MAP Min N Required\", min_N_required)\n",
    "        \n",
    "        # Evaluate model performance with these parameters\n",
    "        correct = 0\n",
    "        entire_token_count = 0\n",
    "\n",
    "        for idx, item in enumerate(val_texts):\n",
    "            N = min_N_required[idx]\n",
    "            completions = val_completions[idx][0][:N]\n",
    "            scores = val_scores[idx][0][:N]\n",
    "            completion_tokens = val_completion_tokens[idx][0][:N]\n",
    "            total_tokens = sum(completion_tokens)\n",
    "\n",
    "            highest_scores_idx = scores.index(max(scores))\n",
    "\n",
    "            while completions[highest_scores_idx] == \"\":\n",
    "                scores[highest_scores_idx] = 0 \n",
    "                if max(scores) == 0: \n",
    "                    break\n",
    "                highest_scores_idx = scores.index(max(scores))\n",
    "\n",
    "            output = completions[highest_scores_idx]\n",
    "            answer = get_answer(output)\n",
    "\n",
    "            if verify_extracted_answer(val_gt_answers[idx], answer):\n",
    "                correct += 1\n",
    "            entire_token_count += total_tokens\n",
    "\n",
    "        accuracy = correct / len(val_texts)\n",
    "        average_token_count = entire_token_count / len(val_texts)\n",
    "        \n",
    "        print(f\"MAP - Target Score: {target_score}, Percentile: {percentile}\")\n",
    "        print(f\"MAP - Accuracy: {accuracy:.4f}, Average Token Count: {average_token_count:.2f}\")\n",
    "        \n",
    "        map_grid_search_results.append({\n",
    "            'target_score': target_score,\n",
    "            'percentile': percentile,\n",
    "            'accuracy': accuracy,\n",
    "            'average_token_count': average_token_count\n",
    "        })\n",
    "        \n",
    "with open(f'{DATASET}_OptScale_MAP_results_{max_N_panel}.json', 'w') as f:\n",
    "    json.dump(map_grid_search_results, f)\n",
    "\n",
    "plot_mle_map_optscale(mle_grid_search_results, map_grid_search_results, baseline_average_token_counts, baseline_accuracy_values, max_N_panel)"
   ]
  },
  {
   "cell_type": "code",
   "execution_count": null,
   "metadata": {},
   "outputs": [],
   "source": []
  }
 ],
 "metadata": {
  "kernelspec": {
   "display_name": "test_scale",
   "language": "python",
   "name": "python3"
  },
  "language_info": {
   "codemirror_mode": {
    "name": "ipython",
    "version": 3
   },
   "file_extension": ".py",
   "mimetype": "text/x-python",
   "name": "python",
   "nbconvert_exporter": "python",
   "pygments_lexer": "ipython3",
   "version": "3.10.18"
  }
 },
 "nbformat": 4,
 "nbformat_minor": 2
}
